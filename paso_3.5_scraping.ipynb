{
 "cells": [
  {
   "cell_type": "code",
   "execution_count": 2,
   "metadata": {},
   "outputs": [],
   "source": [
    "#QUERY_URL = \"//div[@class='separator']//a/@href\"\n",
    "# QUERY_URL = \"//h2[@class='inner-item__title']//a/@href\""
   ]
  },
  {
   "cell_type": "code",
   "execution_count": 1,
   "metadata": {},
   "outputs": [],
   "source": [
    "import random\n",
    "import requests\n",
    "from requests_html import HTMLSession\n",
    "from requests_html import HTML\n",
    "import os\n",
    "import json\n",
    "import validators\n",
    "from time import sleep\n",
    "from functools import partial"
   ]
  },
  {
   "cell_type": "code",
   "execution_count": 2,
   "metadata": {},
   "outputs": [],
   "source": [
    "from os import mkdir, listdir\n",
    "import pandas as pd\n",
    "from time import sleep\n",
    "from os.path import join, isfile, isdir, exists, abspath\n",
    "from tqdm import tqdm, trange\n",
    "import re\n",
    "from functools import reduce\n",
    "from PIL import Image"
   ]
  },
  {
   "cell_type": "code",
   "execution_count": 3,
   "metadata": {},
   "outputs": [],
   "source": [
    "class Crawler:\n",
    "\n",
    "    USER_AGENT_LIST = [\n",
    "        \"Mozilla/5.0 (Windows NT 6.1; WOW64) AppleWebKit/537.1 (KHTML, like Gecko) Chrome/22.0.1207.1 Safari/537.1\",\n",
    "        \"Mozilla/5.0 (X11; CrOS i686 2268.111.0) AppleWebKit/536.11 (KHTML, like Gecko) Chrome/20.0.1132.57 Safari/536.11\",\n",
    "        \"Mozilla/5.0 (Windows NT 6.1; WOW64) AppleWebKit/536.6 (KHTML, like Gecko) Chrome/20.0.1092.0 Safari/536.6\",\n",
    "        \"Mozilla/5.0 (Windows NT 6.2) AppleWebKit/536.6 (KHTML, like Gecko) Chrome/20.0.1090.0 Safari/536.6\",\n",
    "        \"Mozilla/5.0 (Windows NT 6.2; WOW64) AppleWebKit/537.1 (KHTML, like Gecko) Chrome/19.77.34.5 Safari/537.1\",\n",
    "        \"Mozilla/5.0 (X11; Linux x86_64) AppleWebKit/536.5 (KHTML, like Gecko) Chrome/19.0.1084.9 Safari/536.5\",\n",
    "        \"Mozilla/5.0 (Windows NT 6.0) AppleWebKit/536.5 (KHTML, like Gecko) Chrome/19.0.1084.36 Safari/536.5\",\n",
    "        \"Mozilla/5.0 (Windows NT 6.1; WOW64) AppleWebKit/536.3 (KHTML, like Gecko) Chrome/19.0.1063.0 Safari/536.3\",\n",
    "        \"Mozilla/5.0 (Windows NT 5.1) AppleWebKit/536.3 (KHTML, like Gecko) Chrome/19.0.1063.0 Safari/536.3\",\n",
    "        \"Mozilla/5.0 (Macintosh; Intel Mac OS X 10_8_0) AppleWebKit/536.3 (KHTML, like Gecko) Chrome/19.0.1063.0 Safari/536.3\",\n",
    "        \"Mozilla/5.0 (Windows NT 6.2) AppleWebKit/536.3 (KHTML, like Gecko) Chrome/19.0.1062.0 Safari/536.3\",\n",
    "        \"Mozilla/5.0 (Windows NT 6.1; WOW64) AppleWebKit/536.3 (KHTML, like Gecko) Chrome/19.0.1062.0 Safari/536.3\",\n",
    "        \"Mozilla/5.0 (Windows NT 6.2) AppleWebKit/536.3 (KHTML, like Gecko) Chrome/19.0.1061.1 Safari/536.3\",\n",
    "        \"Mozilla/5.0 (Windows NT 6.1; WOW64) AppleWebKit/536.3 (KHTML, like Gecko) Chrome/19.0.1061.1 Safari/536.3\",\n",
    "        \"Mozilla/5.0 (Windows NT 6.1) AppleWebKit/536.3 (KHTML, like Gecko) Chrome/19.0.1061.1 Safari/536.3\",\n",
    "        \"Mozilla/5.0 (Windows NT 6.2) AppleWebKit/536.3 (KHTML, like Gecko) Chrome/19.0.1061.0 Safari/536.3\",\n",
    "        \"Mozilla/5.0 (X11; Linux x86_64) AppleWebKit/535.24 (KHTML, like Gecko) Chrome/19.0.1055.1 Safari/535.24\",\n",
    "        \"Mozilla/5.0 (Windows NT 6.2; WOW64) AppleWebKit/535.24 (KHTML, like Gecko) Chrome/19.0.1055.1 Safari/535.24\"\n",
    "    ]\n",
    "\n",
    "    def __init__(self, query_url):\n",
    "\n",
    "        # ruta XPATH hacia los enlaces que queremos recopilar\n",
    "        self.query_extract_all_href = query_url\n",
    "\n",
    "        # variable que permite listar todos los enlaces recopilado\n",
    "        self.all_json_to_send = []\n",
    "        \n",
    "\n",
    "    def new_session_get(self):\n",
    "        session = HTMLSession()\n",
    "        header = dict()\n",
    "        header['user-agent'] = random.choice(self.USER_AGENT_LIST)\n",
    "        return partial(session.get, headers=header)\n",
    "\n",
    "    def start_request(self, url):\n",
    "        session_get = self.new_session_get()\n",
    "        response = session_get(url)\n",
    "        return response\n",
    "\n",
    "    def parse(self, response):\n",
    "        self.all_json_to_send = []\n",
    "        all_extracted_href = response.html.xpath(self.query_extract_all_href)\n",
    "        for href in all_extracted_href:\n",
    "            json_to_send = dict()\n",
    "            #path = \"https://www.hindustantimes.com\"\n",
    "            # json_to_send[\"url\"]=path+href\n",
    "            json_to_send[\"url\"] = href\n",
    "            self.all_json_to_send.append(json_to_send)\n"
   ]
  },
  {
   "cell_type": "markdown",
   "metadata": {},
   "source": [
    "# armando el scraper"
   ]
  },
  {
   "cell_type": "code",
   "execution_count": 4,
   "metadata": {},
   "outputs": [
    {
     "data": {
      "text/plain": [
       "{'url': 'https://www.cnnchile.com/pais/the-strokes-anuncia-disco-2020_20200101/'}"
      ]
     },
     "execution_count": 4,
     "metadata": {},
     "output_type": "execute_result"
    }
   ],
   "source": [
    "QUERY_URL = \"//h2[@class='inner-item__title']//a/@href\"\n",
    "crawler = Crawler(QUERY_URL)\n",
    "noticia_a = 'https://www.cnnchile.com/pais/the-strokes-anuncia-disco-2020_20200101/'\n",
    "response = crawler.start_request(noticia_a)\n",
    "noticia_dict = {'url': noticia_a}\n",
    "noticia_dict"
   ]
  },
  {
   "cell_type": "code",
   "execution_count": 10,
   "metadata": {},
   "outputs": [
    {
     "data": {
      "text/plain": [
       "'Muere la reconocida escritora española Almudena Grandes a los 61 años'"
      ]
     },
     "execution_count": 10,
     "metadata": {},
     "output_type": "execute_result"
    }
   ],
   "source": [
    "QUERY_TITLE = \"//h1[@class='main-single-header__title']/text()\"\n",
    "noticia_dict['title'] = response.html.xpath(QUERY_TITLE)[0]\n",
    "response.html.xpath(QUERY_TITLE)[0]"
   ]
  },
  {
   "cell_type": "code",
   "execution_count": 13,
   "metadata": {},
   "outputs": [
    {
     "data": {
      "text/plain": [
       "'La escritora murió a los 61 años a causa del cáncer que dio a conocer en una  columna publicada en el diario El País. El presidente del gobierno español, Pedro Sánchez y el artista Alejandro Sanz lamentaron su partida a través de redes sociales. '"
      ]
     },
     "execution_count": 13,
     "metadata": {},
     "output_type": "execute_result"
    }
   ],
   "source": [
    "QUERY_BAJADA = \"//div[@class='main-single-header__excerpt']//p/text()\"\n",
    "noticia_dict['text'] = re.sub(\n",
    "    u'\\xa0', u' ', response.html.xpath(QUERY_BAJADA)[0])\n",
    "noticia_dict['text']"
   ]
  },
  {
   "cell_type": "code",
   "execution_count": 14,
   "metadata": {},
   "outputs": [
    {
     "data": {
      "text/plain": [
       "('(CNN Español) ',\n",
       " '– ',\n",
       " 'La reconocida escritora española Almudena Grandes falleció este sábado, así lo confirmó El País, diario en el cual Grandes se desempeñaba como columnista.')"
      ]
     },
     "execution_count": 14,
     "metadata": {},
     "output_type": "execute_result"
    }
   ],
   "source": [
    "QUERY_CONTENT = \"//div[@class='main-single-body__content']//p\"\n",
    "new_lines = response.html.xpath(QUERY_CONTENT)[0].text.splitlines()\n",
    "re.match(r'^(.*)(– )(.*)', new_lines[0]).groups()"
   ]
  },
  {
   "cell_type": "code",
   "execution_count": 15,
   "metadata": {},
   "outputs": [],
   "source": [
    "lines = [line.text for line in response.html.xpath(QUERY_CONTENT)]\n",
    "new_lines = [re.sub(u'\\xa0', u' ', line)\n",
    "             for line in lines if not line.startswith('Lee también:')]\n",
    "new_lines[0] = re.match(r'^(.*– )?(.*)', new_lines[0]).groups()[1]\n",
    "noticia_dict['text'] += ' '.join(new_lines)\n",
    "noticia_dict['text']"
   ]
  },
  {
   "cell_type": "markdown",
   "metadata": {},
   "source": [
    "# crawling in my skiiiiin"
   ]
  },
  {
   "cell_type": "code",
   "execution_count": 4,
   "metadata": {},
   "outputs": [],
   "source": [
    "def get_urls(seed_crawl, query_url, limit, start=0, leave=False, extra_validation=None):\n",
    "    crawler = Crawler(query_url)\n",
    "    url_noticias = []\n",
    "    for page in trange(start, limit, desc='url noticias', leave=leave):\n",
    "        response = crawler.start_request(seed_crawl + str(page))\n",
    "        crawler.parse(response)\n",
    "        if extra_validation is not None:\n",
    "            noticias = [obj['url']\n",
    "                        for obj in crawler.all_json_to_send if extra_validation in obj['url']]\n",
    "        else:\n",
    "            noticias = [obj['url'] for obj in crawler.all_json_to_send]\n",
    "        url_noticias += noticias\n",
    "\n",
    "    print('total url noticias recopiladas: ', len(url_noticias))\n",
    "    return url_noticias"
   ]
  },
  {
   "cell_type": "code",
   "execution_count": 5,
   "metadata": {},
   "outputs": [],
   "source": [
    "QUERY_TITLE = \"//h1[@class='main-single-header__title']/text()\"\n",
    "QUERY_BAJADA = \"//div[@class='main-single-header__excerpt']//p/text()\"\n",
    "QUERY_CONTENT = \"//div[@class='main-single-body__content']//p\""
   ]
  },
  {
   "cell_type": "code",
   "execution_count": 6,
   "metadata": {},
   "outputs": [],
   "source": [
    "def scrap_cnn_news(urls, starting_id, category, sleep_time=0):\n",
    "    crawler = Crawler('')\n",
    "    noticias_dicts = []\n",
    "    for i, url in enumerate(tqdm(urls)):\n",
    "    # algunas noticias llevan a otros sitios (en planeta pasa)\n",
    "        if re.match(r'^.*//www.(\\w+)\\..*', url).groups()[0] == 'cnnchile':\n",
    "            response = crawler.start_request(url)\n",
    "            _dict = {'id': i + starting_id,\n",
    "                     'url': url}\n",
    "            try:\n",
    "                _dict['title'] = response.html.xpath(QUERY_TITLE)[0]\n",
    "                _dict['text'] = re.sub(u'\\xa0', u' ', response.html.xpath(QUERY_BAJADA)[0])\n",
    "                _dict['category'] = category\n",
    "                lines = [line.text for line in response.html.xpath(QUERY_CONTENT)]\n",
    "                new_lines = [re.sub(u'\\xa0', u' ', line)\n",
    "                             for line in lines if not line.startswith('Lee también:')]\n",
    "                new_lines[0] = re.match(r'^(.*– )?(.*)', new_lines[0]).groups()[1]\n",
    "                _dict['text'] += ' '.join(new_lines)\n",
    "                noticias_dicts.append(_dict)\n",
    "            except IndexError:\n",
    "                print(i, url)\n",
    "            sleep(sleep_time)\n",
    "    return noticias_dicts"
   ]
  },
  {
   "cell_type": "code",
   "execution_count": 13,
   "metadata": {},
   "outputs": [],
   "source": [
    "SEED_CRAWL = 'https://www.cnnchile.com/category/cultura/page/'\n",
    "QUERY_URL = \"//h2[@class='inner-item__title']//a/@href\"\n",
    "STARTING_ID_CULTURA = 18001000"
   ]
  },
  {
   "cell_type": "code",
   "execution_count": 14,
   "metadata": {},
   "outputs": [
    {
     "name": "stderr",
     "output_type": "stream",
     "text": [
      "url noticias: 100%|█████████████████████████████| 47/47 [01:04<00:00,  1.38s/it]"
     ]
    },
    {
     "name": "stdout",
     "output_type": "stream",
     "text": [
      "total url noticias recopiladas:  545\n"
     ]
    },
    {
     "name": "stderr",
     "output_type": "stream",
     "text": [
      "\n"
     ]
    }
   ],
   "source": [
    "START = 71 # NOTICIAS DE AGOSTO 2020 HACIA ATRAS\n",
    "LIMIT = 118 # ULTIMA NOTICIA CON FECHA 31-12-2019 18:05\n",
    "url_noticias_cultura = get_urls(SEED_CRAWL, QUERY_URL,\n",
    "                                limit=LIMIT, start=71,\n",
    "                                extra_validation='cultura')"
   ]
  },
  {
   "cell_type": "code",
   "execution_count": 23,
   "metadata": {},
   "outputs": [
    {
     "name": "stderr",
     "output_type": "stream",
     "text": [
      "100%|█████████████████████████████████████████| 545/545 [06:06<00:00,  1.49it/s]\n"
     ]
    }
   ],
   "source": [
    "noticias_cultura = scrap_cnn_news(url_noticias_cultura,\n",
    "                                  STARTING_ID_CULTURA,\n",
    "                                  '6-Cultura_y_Artes')"
   ]
  },
  {
   "cell_type": "code",
   "execution_count": 24,
   "metadata": {},
   "outputs": [
    {
     "data": {
      "text/html": [
       "<div>\n",
       "<style scoped>\n",
       "    .dataframe tbody tr th:only-of-type {\n",
       "        vertical-align: middle;\n",
       "    }\n",
       "\n",
       "    .dataframe tbody tr th {\n",
       "        vertical-align: top;\n",
       "    }\n",
       "\n",
       "    .dataframe thead th {\n",
       "        text-align: right;\n",
       "    }\n",
       "</style>\n",
       "<table border=\"1\" class=\"dataframe\">\n",
       "  <thead>\n",
       "    <tr style=\"text-align: right;\">\n",
       "      <th></th>\n",
       "      <th>id</th>\n",
       "      <th>url</th>\n",
       "      <th>title</th>\n",
       "      <th>text</th>\n",
       "      <th>category</th>\n",
       "    </tr>\n",
       "  </thead>\n",
       "  <tbody>\n",
       "    <tr>\n",
       "      <th>0</th>\n",
       "      <td>18001000</td>\n",
       "      <td>https://www.cnnchile.com/cultura/hollywood-llo...</td>\n",
       "      <td>“Un auténtico caballero en la pantalla y en la...</td>\n",
       "      <td>Estudios cinematográficos, directores, compañe...</td>\n",
       "      <td>6-Cultura_y_Artes</td>\n",
       "    </tr>\n",
       "    <tr>\n",
       "      <th>1</th>\n",
       "      <td>18001001</td>\n",
       "      <td>https://www.cnnchile.com/cultura/beto-cuevas-e...</td>\n",
       "      <td>Beto Cuevas sobre el mundo post pandemia: “Nos...</td>\n",
       "      <td>En conversación con CNN Chile y CHV Noticias, ...</td>\n",
       "      <td>6-Cultura_y_Artes</td>\n",
       "    </tr>\n",
       "    <tr>\n",
       "      <th>2</th>\n",
       "      <td>18001002</td>\n",
       "      <td>https://www.cnnchile.com/cultura/chadwick-bose...</td>\n",
       "      <td>Murió Chadwick Boseman, protagonista de “Black...</td>\n",
       "      <td>De acuerdo a la información publicada por las ...</td>\n",
       "      <td>6-Cultura_y_Artes</td>\n",
       "    </tr>\n",
       "    <tr>\n",
       "      <th>3</th>\n",
       "      <td>18001003</td>\n",
       "      <td>https://www.cnnchile.com/cultura/yorka-lanzami...</td>\n",
       "      <td>Una celebración de 7 años de carrera: Yorka la...</td>\n",
       "      <td>A un año de su realización, el proyecto de las...</td>\n",
       "      <td>6-Cultura_y_Artes</td>\n",
       "    </tr>\n",
       "    <tr>\n",
       "      <th>4</th>\n",
       "      <td>18001004</td>\n",
       "      <td>https://www.cnnchile.com/cultura/fotografo-chi...</td>\n",
       "      <td>Fotógrafo chileno es destacado en los prestigi...</td>\n",
       "      <td>\"Chile resiste\" se titula la obra de Javier Ve...</td>\n",
       "      <td>6-Cultura_y_Artes</td>\n",
       "    </tr>\n",
       "    <tr>\n",
       "      <th>...</th>\n",
       "      <td>...</td>\n",
       "      <td>...</td>\n",
       "      <td>...</td>\n",
       "      <td>...</td>\n",
       "      <td>...</td>\n",
       "    </tr>\n",
       "    <tr>\n",
       "      <th>540</th>\n",
       "      <td>18001540</td>\n",
       "      <td>https://www.cnnchile.com/cultura/concierto-gia...</td>\n",
       "      <td>Gianluca anuncia lanzamiento en vivo de “Yin Y...</td>\n",
       "      <td>El cantante chileno presentará su primer álbum...</td>\n",
       "      <td>6-Cultura_y_Artes</td>\n",
       "    </tr>\n",
       "    <tr>\n",
       "      <th>541</th>\n",
       "      <td>18001541</td>\n",
       "      <td>https://www.cnnchile.com/cultura/hatsune-miku-...</td>\n",
       "      <td>Hatsune Miku, la estrella virtual del pop, se ...</td>\n",
       "      <td>Habiendo teloneado presentaciones de artistas ...</td>\n",
       "      <td>6-Cultura_y_Artes</td>\n",
       "    </tr>\n",
       "    <tr>\n",
       "      <th>542</th>\n",
       "      <td>18001542</td>\n",
       "      <td>https://www.cnnchile.com/cultura/senado-aprueb...</td>\n",
       "      <td>Senado aprueba “Ley Teloneros” para fomentar p...</td>\n",
       "      <td>\"Hace 12 que este proyecto iba avanzando. Hubo...</td>\n",
       "      <td>6-Cultura_y_Artes</td>\n",
       "    </tr>\n",
       "    <tr>\n",
       "      <th>543</th>\n",
       "      <td>18001543</td>\n",
       "      <td>https://www.cnnchile.com/cultura/el-gran-2019-...</td>\n",
       "      <td>Concierto en el Movistar Arena, intervención e...</td>\n",
       "      <td>Triunfó en los premios Grammy, su gira para pr...</td>\n",
       "      <td>6-Cultura_y_Artes</td>\n",
       "    </tr>\n",
       "    <tr>\n",
       "      <th>544</th>\n",
       "      <td>18001544</td>\n",
       "      <td>https://www.cnnchile.com/cultura/turnover-agot...</td>\n",
       "      <td>Con El Cómodo Silencio De Los Que Hablan Poco ...</td>\n",
       "      <td>El versátil grupo de Virginia Beach tocará por...</td>\n",
       "      <td>6-Cultura_y_Artes</td>\n",
       "    </tr>\n",
       "  </tbody>\n",
       "</table>\n",
       "<p>545 rows × 5 columns</p>\n",
       "</div>"
      ],
      "text/plain": [
       "           id                                                url  \\\n",
       "0    18001000  https://www.cnnchile.com/cultura/hollywood-llo...   \n",
       "1    18001001  https://www.cnnchile.com/cultura/beto-cuevas-e...   \n",
       "2    18001002  https://www.cnnchile.com/cultura/chadwick-bose...   \n",
       "3    18001003  https://www.cnnchile.com/cultura/yorka-lanzami...   \n",
       "4    18001004  https://www.cnnchile.com/cultura/fotografo-chi...   \n",
       "..        ...                                                ...   \n",
       "540  18001540  https://www.cnnchile.com/cultura/concierto-gia...   \n",
       "541  18001541  https://www.cnnchile.com/cultura/hatsune-miku-...   \n",
       "542  18001542  https://www.cnnchile.com/cultura/senado-aprueb...   \n",
       "543  18001543  https://www.cnnchile.com/cultura/el-gran-2019-...   \n",
       "544  18001544  https://www.cnnchile.com/cultura/turnover-agot...   \n",
       "\n",
       "                                                 title  \\\n",
       "0    “Un auténtico caballero en la pantalla y en la...   \n",
       "1    Beto Cuevas sobre el mundo post pandemia: “Nos...   \n",
       "2    Murió Chadwick Boseman, protagonista de “Black...   \n",
       "3    Una celebración de 7 años de carrera: Yorka la...   \n",
       "4    Fotógrafo chileno es destacado en los prestigi...   \n",
       "..                                                 ...   \n",
       "540  Gianluca anuncia lanzamiento en vivo de “Yin Y...   \n",
       "541  Hatsune Miku, la estrella virtual del pop, se ...   \n",
       "542  Senado aprueba “Ley Teloneros” para fomentar p...   \n",
       "543  Concierto en el Movistar Arena, intervención e...   \n",
       "544  Con El Cómodo Silencio De Los Que Hablan Poco ...   \n",
       "\n",
       "                                                  text           category  \n",
       "0    Estudios cinematográficos, directores, compañe...  6-Cultura_y_Artes  \n",
       "1    En conversación con CNN Chile y CHV Noticias, ...  6-Cultura_y_Artes  \n",
       "2    De acuerdo a la información publicada por las ...  6-Cultura_y_Artes  \n",
       "3    A un año de su realización, el proyecto de las...  6-Cultura_y_Artes  \n",
       "4    \"Chile resiste\" se titula la obra de Javier Ve...  6-Cultura_y_Artes  \n",
       "..                                                 ...                ...  \n",
       "540  El cantante chileno presentará su primer álbum...  6-Cultura_y_Artes  \n",
       "541  Habiendo teloneado presentaciones de artistas ...  6-Cultura_y_Artes  \n",
       "542  \"Hace 12 que este proyecto iba avanzando. Hubo...  6-Cultura_y_Artes  \n",
       "543  Triunfó en los premios Grammy, su gira para pr...  6-Cultura_y_Artes  \n",
       "544  El versátil grupo de Virginia Beach tocará por...  6-Cultura_y_Artes  \n",
       "\n",
       "[545 rows x 5 columns]"
      ]
     },
     "execution_count": 24,
     "metadata": {},
     "output_type": "execute_result"
    }
   ],
   "source": [
    "df = pd.DataFrame(noticias_cultura)\n",
    "df"
   ]
  },
  {
   "cell_type": "code",
   "execution_count": 26,
   "metadata": {},
   "outputs": [
    {
     "data": {
      "text/plain": [
       "901"
      ]
     },
     "execution_count": 26,
     "metadata": {},
     "output_type": "execute_result"
    }
   ],
   "source": [
    "df_cultura = pd.read_csv('./datasets/extra_cultura.csv') \n",
    "df_cultura = pd.concat([df, df_cultura])\n",
    "df_cultura['content'] = df_cultura[['title', 'text']].agg('. '.join, axis=1)\n",
    "df_cultura['category'] = '6-Cultura_y_Artes'\n",
    "df_cultura.drop_duplicates(subset=['title'], keep='last', inplace=True)\n",
    "len(df_cultura)"
   ]
  },
  {
   "cell_type": "code",
   "execution_count": 27,
   "metadata": {},
   "outputs": [],
   "source": [
    "df_cultura.to_csv('./datasets/extra_cultura_cnn_2020-2021.csv', index=False)"
   ]
  },
  {
   "cell_type": "markdown",
   "metadata": {},
   "source": [
    "# planeta"
   ]
  },
  {
   "cell_type": "code",
   "execution_count": 8,
   "metadata": {},
   "outputs": [],
   "source": [
    "# trabajo manual, buscar tags que puedan estar relacionados con ecologia y planeta\n",
    "tags_ecologia_planeta = [('animales', 15),            # total 19\n",
    "                         ('maltrato-animal', 6),     # total 6\n",
    "                         ('especies', 2),            # total 2\n",
    "                         ('crisis-climatica', 4),    # total 4\n",
    "                         ('cambio-climatico', 15),    # total 34\n",
    "                         ('emergencia-climatica', 3),# total 3\n",
    "                         ('vida-silvestre', 1),      # total 1\n",
    "                         ('humedales', 1),            # total 1\n",
    "                         ('fauna', 5),               # total 5\n",
    "                         ('medioambiente', 8),       # total 8\n",
    "                         ('medio-ambiente', 15),      # total 22\n",
    "                         ]"
   ]
  },
  {
   "cell_type": "code",
   "execution_count": 9,
   "metadata": {},
   "outputs": [
    {
     "name": "stderr",
     "output_type": "stream",
     "text": [
      "                                                                                "
     ]
    },
    {
     "name": "stdout",
     "output_type": "stream",
     "text": [
      "total url noticias recopiladas:  120\n"
     ]
    },
    {
     "name": "stderr",
     "output_type": "stream",
     "text": [
      "\r"
     ]
    },
    {
     "data": {
      "text/plain": [
       "['https://www.cnnchile.com/pais/camara-diputados-aprueba-prohibir-testeo-animales_20211201/',\n",
       " 'https://www.cnnchile.com/elecciones2021/admisible-querella-vaca-rayada-propaganda-kast_20211125/',\n",
       " 'https://www.cnnchile.com/mundo/francia-nueva-ley-prohibe-venta-perros-gatos-tiendas-de-animales_20211119/',\n",
       " 'https://www.cnnchile.com/tendencias/reportaje-mitos-ser-vegano-es-mas-caro_20211101/',\n",
       " 'https://www.cnnchile.com/pais/dia-libre-licencia-luto-mascotas-proyecto-de-ley_20211013/',\n",
       " 'https://www.cnnchile.com/mundo/adolescentes-acusados-matar-14-canguros-crias_20211012/',\n",
       " 'https://www.cnnchile.com/pais/proyecto-estandares-bienestar-industria-acuicola_20210924/',\n",
       " 'https://www.cnnchile.com/pais/proyecto-para-frenar-rodeo-municipios_20210901/',\n",
       " 'https://www.cnnchile.com/pais/recurso-proteccion-huevos-gallinas-libres_20210828/',\n",
       " 'https://www.cnnchile.com/mundo/prohiben-mujer-visitar-chimpance-amo-ese-animal_20210825/',\n",
       " 'https://www.cnnchile.com/mundo/tortuga-gigante-vegetariana-comerse-polluelo_20210824/',\n",
       " 'https://www.cnnchile.com/mundo/invasion-carpinchos-argentina-roedores-mas-grandes_20210820/',\n",
       " 'https://www.cnnchile.com/pais/camara-diputados-aprueba-prohibir-testeo-animales_20211201/',\n",
       " 'https://www.cnnchile.com/elecciones2021/admisible-querella-vaca-rayada-propaganda-kast_20211125/',\n",
       " 'https://www.cnnchile.com/mundo/francia-nueva-ley-prohibe-venta-perros-gatos-tiendas-de-animales_20211119/',\n",
       " 'https://www.cnnchile.com/tendencias/reportaje-mitos-ser-vegano-es-mas-caro_20211101/',\n",
       " 'https://www.cnnchile.com/pais/dia-libre-licencia-luto-mascotas-proyecto-de-ley_20211013/',\n",
       " 'https://www.cnnchile.com/mundo/adolescentes-acusados-matar-14-canguros-crias_20211012/',\n",
       " 'https://www.cnnchile.com/pais/proyecto-estandares-bienestar-industria-acuicola_20210924/',\n",
       " 'https://www.cnnchile.com/pais/proyecto-para-frenar-rodeo-municipios_20210901/',\n",
       " 'https://www.cnnchile.com/pais/recurso-proteccion-huevos-gallinas-libres_20210828/',\n",
       " 'https://www.cnnchile.com/mundo/prohiben-mujer-visitar-chimpance-amo-ese-animal_20210825/',\n",
       " 'https://www.cnnchile.com/mundo/tortuga-gigante-vegetariana-comerse-polluelo_20210824/',\n",
       " 'https://www.cnnchile.com/mundo/invasion-carpinchos-argentina-roedores-mas-grandes_20210820/',\n",
       " 'https://www.cnnchile.com/pais/encuesta-ipsos-animales-constitucion_20210819/',\n",
       " 'https://www.cnnchile.com/pais/comision-salud-aprobo-prohibir-testeo-en-animales_20210816/',\n",
       " 'https://www.cnnchile.com/mundo/animales-se-estan-quemando-turquia_20210731/',\n",
       " 'https://www.cnnchile.com/tendencias/adulto-mayor-cirugia-prostata-gallinas_20210730/',\n",
       " 'https://www.cnnchile.com/pais/hospital-veterinario-publico-renca-construccion_20210728/',\n",
       " 'https://www.cnnchile.com/pais/buin-zoo-reabre-plan-seguridad_20210526/',\n",
       " 'https://www.cnnchile.com/coronavirus/perros-certificados-covid19-miami_20210521/',\n",
       " 'https://www.cnnchile.com/cultura/video-the-offspring-peta-critica_20210514/',\n",
       " 'https://www.cnnchile.com/lodijeronencnn/cristian-apiolaza-constitucion-oportunidad-historica-incorporar-animales_20210326/',\n",
       " 'https://www.cnnchile.com/mundo/incidente-mordida-perro-joe-biden-expulsado-casa-blanca_20210309/',\n",
       " 'https://www.cnnchile.com/coronavirus/9-simios-vacuna-primeros-animales_20210305/',\n",
       " 'https://www.cnnchile.com/coronavirus/gorilas-zoo-ee-uu-covid-19-recuperaron_20210216/',\n",
       " 'https://www.cnnchile.com/coronavirus/seul-gato-covid-19-test-animales_20210215/',\n",
       " 'https://www.cnnchile.com/tendencias/creciendo-en-lo-salvaje-fotografo-captura-la-belleza-de-las-montanas-mexicanas_20210214/',\n",
       " 'https://www.cnnchile.com/tendencias/refugio-animales-citas-adopcion-perros-san-valentin_20210213/',\n",
       " 'https://www.cnnchile.com/pais/nombres-perros-gatos-mas-usados-chile_20210213/',\n",
       " 'https://www.cnnchile.com/coronavirus/perros-gatos-animales-afectados-covid19_20210202/',\n",
       " 'https://www.cnnchile.com/coronavirus/detectan-primeros-gorilas-contagiados-coronavirus_20210112/',\n",
       " 'https://www.cnnchile.com/tendencias/perros-terapia-ayudan-por-zoom-a-estudiantes-y-trabajadores_20201226/',\n",
       " 'https://www.cnnchile.com/tendencias/dos-pinguinos-mirando-la-bahia-la-emotiva-foto-ganadora-del-ocean-photography-award_20201223/',\n",
       " 'https://www.cnnchile.com/tendencias/estudio-perros-no-saben-que-dices_20201209/',\n",
       " 'https://www.cnnchile.com/futuro360/como-afectan-los-eclipses-a-los-animales-conoce-sus-particulares-comportamientos_20201204/',\n",
       " 'https://www.cnnchile.com/pais/rescatan-peuco-herido-parque-forestal_20201127/',\n",
       " 'https://www.cnnchile.com/pais/investigacion-puma-2-meses-humanos-semanas_20201118/',\n",
       " 'https://www.cnnchile.com/pais/puma-cachorro-rescatado-sin-su-madre_20201117/',\n",
       " 'https://www.cnnchile.com/coronavirus/gatos-covid-19-humanos-duenos-cientificos-transmision_20201029/',\n",
       " 'https://www.cnnchile.com/tendencias/mascotas-perros-gatos-bautizados-pandemia-covid-19-chile_20201016/',\n",
       " 'https://www.cnnchile.com/pais/adopcion-mascotas-aumenta-50-por-ciento_20201011/',\n",
       " 'https://www.cnnchile.com/pais/campana-incluir-animales-constitucion_20200929/',\n",
       " 'https://www.cnnchile.com/pais/sag-denuncia-caza-faena-ilegal-puma-nuble_20200912/',\n",
       " 'https://www.cnnchile.com/mundo/serpiente-tuvo-huevos-sin-machos-eeuu_20200911/',\n",
       " 'https://www.cnnchile.com/pais/naturaleza-puma-capturado-lo-barnechea_20200831/',\n",
       " 'https://www.cnnchile.com/pais/matanza-animales-villarrica-fauna-andina_20200825/',\n",
       " 'https://www.cnnchile.com/tendencias/cientificos-clonar-rinocerontes-sumatra-en-extincion_20200814/',\n",
       " 'https://www.cnnchile.com/mundo/colombia-prohibe-pruebas-cosmeticos-animales_20200813/',\n",
       " 'https://www.cnnchile.com/pais/puma-herido-cuesta-las-chilcas-murio_20200804/',\n",
       " 'https://www.cnnchile.com/tendencias/encuentran-avispon-gigante-asesino_20200801/',\n",
       " 'https://www.cnnchile.com/mundo/3-mil-millones-animales-incendios-australia_20200728/',\n",
       " 'https://www.cnnchile.com/mundo/espana-visones-coronavirus-sacrifican_20200716/',\n",
       " 'https://www.cnnchile.com/mundo/holanda-sacrificar-visones-covid-19_20200706/',\n",
       " 'https://www.cnnchile.com/mundo/investigadores-advierten-actividad-humana-historia-evolutiva_20200526/',\n",
       " 'https://www.cnnchile.com/tendencias/avispones-asesinos-america-abejas_20200504/',\n",
       " 'https://www.cnnchile.com/coronavirus/pug-positivo-covid-19-estados-unidos_20200429/',\n",
       " 'https://www.cnnchile.com/tendencias/aparecieron-lobos-grises-en-el-norte-de-francia-por-primera-vez-en-100-anos_20200420/',\n",
       " 'https://www.cnnchile.com/coronavirus/colegio-veterinarios-estudio-mascotas-coronavirus_20200404/',\n",
       " 'https://www.cnnchile.com/coronavirus/estudio-gatos-hurones-covid-19_20200403/',\n",
       " 'https://www.cnnchile.com/mundo/shenzhen-prohibir-consumo-animales-mascotas_20200402/',\n",
       " 'https://www.cnnchile.com/pais/proyecto-ley-uso-animales-orden-publico_20200305/',\n",
       " 'https://www.cnnchile.com/pais/amistad-paloma-cachorro-enfermos-herman-lundy_20200219/',\n",
       " 'https://www.cnnchile.com/mundo/cierre-parque-lakeland-florida-orgia-anual-serpientes_20200218/',\n",
       " 'https://www.cnnchile.com/mundo/descubren-fosil-tortuga-tamano-automovil_20200214/',\n",
       " 'https://www.cnnchile.com/pais/victorias-vina-del-mar-circulacion-marzo-caballos_20200213/',\n",
       " 'https://www.cnnchile.com/pais/farmacia-solidaria-veterinaria-quilicura_20200205/',\n",
       " 'https://www.cnnchile.com/mundo/tiburones-que-caminan-cientificos-descubren-cuatro-nuevas-especies_20200124/',\n",
       " 'https://www.cnnchile.com/tendencias/joaquin-phoenix-protesta-esmoquin-sag-awards-cerdos_20200121/',\n",
       " 'https://www.cnnchile.com/mundo/hectareas-perdidas-incendios-australia-territorios-belgica-haiti-combinados_20200106/',\n",
       " 'https://www.cnnchile.com/tendencias/joy-gatita-se-parece-a-baby-yoda_20191229/',\n",
       " 'https://www.cnnchile.com/mundo/perro-desperto-a-dueno-durante-incendio_20191009/',\n",
       " 'https://www.cnnchile.com/tendencias/pintar-vacas-cebras-picaduras_20191009/',\n",
       " 'https://www.cnnchile.com/tendencias/pruebas-cientificas-demuestran-que-perro-ovejero-patagon-es-una-raza-chilena_20190925/',\n",
       " 'https://www.cnnchile.com/tendencias/gatos-lazos-personas-estudio_20190924/',\n",
       " 'https://www.cnnchile.com/pais/club-hipico-se-desmarco-de-accidente-que-dejo-tres-caballos-muertos-y-afirmo-que-no-organizaron-estas-carreras_20190921/',\n",
       " 'https://www.cnnchile.com/pais/incendio-medialuna-la-ligua-rodeo_20190917/',\n",
       " 'https://www.cnnchile.com/pais/gato-colocolo-radal-siete-tazas_20190917/',\n",
       " 'https://www.cnnchile.com/pais/tribunal-sentencio-a-favor-de-ministra-de-la-suprema-por-el-dano-moral-sufrido-luego-que-su-perra-fuera-mordida_20190915/',\n",
       " 'https://www.cnnchile.com/mundo/perros-gatos-murieron-refugio-animales-bahamas-huracan_20190909/',\n",
       " 'https://www.cnnchile.com/lodijeronencnn/emergencia-agricola-regiones-afectadas_20190904/',\n",
       " 'https://www.cnnchile.com/mundo/delfin-muere-parque-acuatico-bulgaria_20190830/',\n",
       " 'https://www.cnnchile.com/pais/atenciones-por-mordeduras-de-perros-ya-superan-el-76-del-total-de-2018_20190830/',\n",
       " 'https://www.cnnchile.com/mundo/superricos-guepardos-mascotas-peligro-extincion_20190828/',\n",
       " 'https://www.cnnchile.com/mundo/granja-sudafrica-cobra-cazar-animales_20190821/',\n",
       " 'https://www.cnnchile.com/tendencias/pareja-pinguinos-gay-padres-adopcion-huevo-abandonado_20190812/',\n",
       " 'https://www.cnnchile.com/tendencias/gatos-nombres-de-mascotas_20190809/',\n",
       " 'https://www.cnnchile.com/mundo/hallazgo-de-un-fosil-revela-que-el-loro-mas-grande-del-mundo-tenia-mas-de-90-centimetros-de-altura_20190808/',\n",
       " 'https://www.cnnchile.com/pais/pdi-no-viable-perros-abandonados-brigadas-caninas_20190806/',\n",
       " 'https://www.cnnchile.com/pais/zorros-culpeo-comen-trozos-vidrio-y-plastico-en-el-parque-torres-del-paine_20190722/',\n",
       " 'https://www.cnnchile.com/tendencias/nueva-especie-tiburon-brilla-en-la-oscuridad_20190722/',\n",
       " 'https://www.cnnchile.com/pais/crean-maceteros-con-casita-para-perros-sin-hogar-en-panguipulli_20190720/',\n",
       " 'https://www.cnnchile.com/mundo/un-tigre-toma-la-siesta-en-la-cama-de-una-casa-en-india-despues-de-huir-de-las-inundaciones_20190720/',\n",
       " 'https://www.cnnchile.com/tendencias/medusa-tamano-humano-reino-unido_20190715/',\n",
       " 'https://www.cnnchile.com/mundo/video-manta-raya-ayuda-buceadores-australia_20190714/',\n",
       " 'https://www.cnnchile.com/mundo/rescatan-gaviota-reino-unido-curry_20190713/',\n",
       " 'https://www.cnnchile.com/tendencias/animales-desierto-sahara_20190713/',\n",
       " 'https://www.cnnchile.com/mundo/orcas-ballenas-extincion_20190709/',\n",
       " 'https://www.cnnchile.com/mundo/japon-caza-ballenas-preguntas-respuestas_20190703/',\n",
       " 'https://www.cnnchile.com/mundo/zorra-del-artico-noruega-canada_20190703/',\n",
       " 'https://www.cnnchile.com/mundo/configuro-su-lavadora-para-un-ciclo-rapido-pero-no-se-percato-que-su-gato-estaba-adentro_20190701/',\n",
       " 'https://www.cnnchile.com/mundo/animales-honduras-criaturas-fotos_20190622/',\n",
       " 'https://www.cnnchile.com/mundo/eutanasian-oso-negro-amable-turistas_20190618/',\n",
       " 'https://www.cnnchile.com/pais/investigan-muerte-de-puma-que-fue-asesinado-en-el-parque-nacional-torres-del-paine_20190614/',\n",
       " 'https://www.cnnchile.com/pais/100-mil-perros-callejeros-esterilizados-region-metropolitana_20190610/',\n",
       " 'https://www.cnnchile.com/tendencias/imagenes-plastico-animales-mar_20190605/',\n",
       " 'https://www.cnnchile.com/mundo/maltrato-animal-circo-hologramas-3d_20190604/',\n",
       " 'https://www.cnnchile.com/mundo/cierva-muere-kilos-plastico_20190530/',\n",
       " 'https://www.cnnchile.com/mundo/sacrifican-a-un-perro-sano-para-que-pudiera-ser-enterrado-con-su-duena_20190523/',\n",
       " 'https://www.cnnchile.com/mundo/elefante-dumbo-murio-tailandia-maltrato-animal_20190518/']"
      ]
     },
     "execution_count": 9,
     "metadata": {},
     "output_type": "execute_result"
    }
   ],
   "source": [
    "seed = f'https://www.cnnchile.com/tag/animales/page/'\n",
    "get_urls(seed, QUERY_URL, limit=10)"
   ]
  },
  {
   "cell_type": "code",
   "execution_count": 10,
   "metadata": {},
   "outputs": [
    {
     "name": "stderr",
     "output_type": "stream",
     "text": [
      "                                                                                \r"
     ]
    },
    {
     "name": "stdout",
     "output_type": "stream",
     "text": [
      "total url noticias recopiladas:  180\n"
     ]
    },
    {
     "name": "stderr",
     "output_type": "stream",
     "text": [
      "                                                                                \r"
     ]
    },
    {
     "name": "stdout",
     "output_type": "stream",
     "text": [
      "total url noticias recopiladas:  72\n"
     ]
    },
    {
     "name": "stderr",
     "output_type": "stream",
     "text": [
      "                                                                                \r"
     ]
    },
    {
     "name": "stdout",
     "output_type": "stream",
     "text": [
      "total url noticias recopiladas:  24\n"
     ]
    },
    {
     "name": "stderr",
     "output_type": "stream",
     "text": [
      "                                                                                \r"
     ]
    },
    {
     "name": "stdout",
     "output_type": "stream",
     "text": [
      "total url noticias recopiladas:  48\n"
     ]
    },
    {
     "name": "stderr",
     "output_type": "stream",
     "text": [
      "                                                                                \r"
     ]
    },
    {
     "name": "stdout",
     "output_type": "stream",
     "text": [
      "total url noticias recopiladas:  180\n"
     ]
    },
    {
     "name": "stderr",
     "output_type": "stream",
     "text": [
      "                                                                                \r"
     ]
    },
    {
     "name": "stdout",
     "output_type": "stream",
     "text": [
      "total url noticias recopiladas:  36\n"
     ]
    },
    {
     "name": "stderr",
     "output_type": "stream",
     "text": [
      "                                                                                \r"
     ]
    },
    {
     "name": "stdout",
     "output_type": "stream",
     "text": [
      "total url noticias recopiladas:  3\n"
     ]
    },
    {
     "name": "stderr",
     "output_type": "stream",
     "text": [
      "                                                                                \r"
     ]
    },
    {
     "name": "stdout",
     "output_type": "stream",
     "text": [
      "total url noticias recopiladas:  5\n"
     ]
    },
    {
     "name": "stderr",
     "output_type": "stream",
     "text": [
      "                                                                                \r"
     ]
    },
    {
     "name": "stdout",
     "output_type": "stream",
     "text": [
      "total url noticias recopiladas:  8\n"
     ]
    },
    {
     "name": "stderr",
     "output_type": "stream",
     "text": [
      "                                                                                \r"
     ]
    },
    {
     "name": "stdout",
     "output_type": "stream",
     "text": [
      "total url noticias recopiladas:  96\n"
     ]
    },
    {
     "name": "stderr",
     "output_type": "stream",
     "text": [
      "                                                                                "
     ]
    },
    {
     "name": "stdout",
     "output_type": "stream",
     "text": [
      "total url noticias recopiladas:  180\n"
     ]
    },
    {
     "name": "stderr",
     "output_type": "stream",
     "text": [
      "\r"
     ]
    },
    {
     "data": {
      "text/plain": [
       "832"
      ]
     },
     "execution_count": 10,
     "metadata": {},
     "output_type": "execute_result"
    }
   ],
   "source": [
    "QUERY_URL = \"//h2[@class='inner-item__title']//a/@href\"\n",
    "url_noticias_planeta = []\n",
    "for (tag_name, num_pages) in tags_ecologia_planeta:\n",
    "    seed = f'https://www.cnnchile.com/tag/{tag_name}/page/'\n",
    "    url_noticias_planeta += get_urls(seed, QUERY_URL, limit=num_pages, leave=False)\n",
    "len(url_noticias_planeta)"
   ]
  },
  {
   "cell_type": "code",
   "execution_count": 11,
   "metadata": {},
   "outputs": [
    {
     "name": "stderr",
     "output_type": "stream",
     "text": [
      " 92%|█████████████████████████████████████▊   | 767/832 [46:42<04:18,  3.97s/it]"
     ]
    },
    {
     "name": "stdout",
     "output_type": "stream",
     "text": [
      "767 https://www.cnnchile.com/cop25/futuro-360-en-cnn-chile-capitulo-55-cop25-desde-la-ciudadania_20190717/\n"
     ]
    },
    {
     "name": "stderr",
     "output_type": "stream",
     "text": [
      " 93%|██████████████████████████████████████▏  | 776/832 [47:49<06:01,  6.46s/it]"
     ]
    },
    {
     "name": "stdout",
     "output_type": "stream",
     "text": [
      "776 https://www.cnnchile.com/cop25/greta-thunberg-vendria-a-chile-para-la-cop25-y-no-lo-haria-en-avion_20190602/\n"
     ]
    },
    {
     "name": "stderr",
     "output_type": "stream",
     "text": [
      " 94%|██████████████████████████████████████▋  | 785/832 [48:36<04:06,  5.25s/it]"
     ]
    },
    {
     "name": "stdout",
     "output_type": "stream",
     "text": [
      "785 https://www.cnnchile.com/cop25/el-evento-mas-grande-desde-el-mundial-del-62-onu-ratifica-que-cop25-se-organizara-en-chile_20190307/\n"
     ]
    },
    {
     "name": "stderr",
     "output_type": "stream",
     "text": [
      "100%|█████████████████████████████████████████| 832/832 [52:10<00:00,  3.76s/it]\n"
     ]
    }
   ],
   "source": [
    "STARTING_ID_PLANETA = 19000000\n",
    "noticias_planeta = scrap_cnn_news(url_noticias_planeta,\n",
    "                                  STARTING_ID_PLANETA,\n",
    "                                  '8-Ecología_y_Planeta',\n",
    "                                 sleep_time=3)\n",
    "\n",
    "\n"
   ]
  },
  {
   "cell_type": "code",
   "execution_count": 28,
   "metadata": {},
   "outputs": [
    {
     "data": {
      "text/html": [
       "<div>\n",
       "<style scoped>\n",
       "    .dataframe tbody tr th:only-of-type {\n",
       "        vertical-align: middle;\n",
       "    }\n",
       "\n",
       "    .dataframe tbody tr th {\n",
       "        vertical-align: top;\n",
       "    }\n",
       "\n",
       "    .dataframe thead th {\n",
       "        text-align: right;\n",
       "    }\n",
       "</style>\n",
       "<table border=\"1\" class=\"dataframe\">\n",
       "  <thead>\n",
       "    <tr style=\"text-align: right;\">\n",
       "      <th></th>\n",
       "      <th>id</th>\n",
       "      <th>url</th>\n",
       "      <th>title</th>\n",
       "      <th>text</th>\n",
       "      <th>category</th>\n",
       "    </tr>\n",
       "  </thead>\n",
       "  <tbody>\n",
       "    <tr>\n",
       "      <th>0</th>\n",
       "      <td>19000000</td>\n",
       "      <td>https://www.cnnchile.com/pais/camara-diputados...</td>\n",
       "      <td>Cámara aprueba proyecto que prohíbe el testeo ...</td>\n",
       "      <td>La iniciativa, que pasará a su segundo trámite...</td>\n",
       "      <td>8-Ecología_y_Planeta</td>\n",
       "    </tr>\n",
       "    <tr>\n",
       "      <th>1</th>\n",
       "      <td>19000001</td>\n",
       "      <td>https://www.cnnchile.com/elecciones2021/admisi...</td>\n",
       "      <td>Declaran admisible querella por vaca rayada co...</td>\n",
       "      <td>La acción legal fue presentada por la Fundació...</td>\n",
       "      <td>8-Ecología_y_Planeta</td>\n",
       "    </tr>\n",
       "    <tr>\n",
       "      <th>2</th>\n",
       "      <td>19000002</td>\n",
       "      <td>https://www.cnnchile.com/mundo/francia-nueva-l...</td>\n",
       "      <td>Francia: Nueva ley prohíbe la venta de perros ...</td>\n",
       "      <td>La normativa también eleva la pena máxima por ...</td>\n",
       "      <td>8-Ecología_y_Planeta</td>\n",
       "    </tr>\n",
       "    <tr>\n",
       "      <th>3</th>\n",
       "      <td>19000003</td>\n",
       "      <td>https://www.cnnchile.com/tendencias/reportaje-...</td>\n",
       "      <td>¿Es más caro ser vegano? Mitos y realidades en...</td>\n",
       "      <td>El estilo de vida que aboga por disminuir al m...</td>\n",
       "      <td>8-Ecología_y_Planeta</td>\n",
       "    </tr>\n",
       "    <tr>\n",
       "      <th>4</th>\n",
       "      <td>19000004</td>\n",
       "      <td>https://www.cnnchile.com/pais/dia-libre-licenc...</td>\n",
       "      <td>Proyecto de ley busca otorgar licencia por lut...</td>\n",
       "      <td>La iniciativa del diputado y médico veterinari...</td>\n",
       "      <td>8-Ecología_y_Planeta</td>\n",
       "    </tr>\n",
       "    <tr>\n",
       "      <th>...</th>\n",
       "      <td>...</td>\n",
       "      <td>...</td>\n",
       "      <td>...</td>\n",
       "      <td>...</td>\n",
       "      <td>...</td>\n",
       "    </tr>\n",
       "    <tr>\n",
       "      <th>814</th>\n",
       "      <td>19000827</td>\n",
       "      <td>https://www.cnnchile.com/pais/comite-de-minist...</td>\n",
       "      <td>Comité de Ministros aprueba por unanimidad pro...</td>\n",
       "      <td>Nido de Águilas y Embalse Digua fueron aprobad...</td>\n",
       "      <td>8-Ecología_y_Planeta</td>\n",
       "    </tr>\n",
       "    <tr>\n",
       "      <th>815</th>\n",
       "      <td>19000828</td>\n",
       "      <td>https://www.cnnchile.com/editorial/cnn-prime-b...</td>\n",
       "      <td>CNN Prime: Bachelet verde</td>\n",
       "      <td>Así comenzó CNN Prime este 21 de septiembre de...</td>\n",
       "      <td>8-Ecología_y_Planeta</td>\n",
       "    </tr>\n",
       "    <tr>\n",
       "      <th>816</th>\n",
       "      <td>19000829</td>\n",
       "      <td>https://www.cnnchile.com/pais/empresa-china-pr...</td>\n",
       "      <td>Empresa china propone a Corfo fabricar vehícul...</td>\n",
       "      <td>Pretenden avanzar en el desarrollo y puesta en...</td>\n",
       "      <td>8-Ecología_y_Planeta</td>\n",
       "    </tr>\n",
       "    <tr>\n",
       "      <th>817</th>\n",
       "      <td>19000830</td>\n",
       "      <td>https://www.cnnchile.com/mundo/dos-hipopotamos...</td>\n",
       "      <td>Dos hipopótamos actuaron como héroes y salvaro...</td>\n",
       "      <td>Sucedió en el Parque Nacional Kruger, en Sudáf...</td>\n",
       "      <td>8-Ecología_y_Planeta</td>\n",
       "    </tr>\n",
       "    <tr>\n",
       "      <th>818</th>\n",
       "      <td>19000831</td>\n",
       "      <td>https://www.cnnchile.com/pais/autoridades-lanz...</td>\n",
       "      <td>Autoridades lanzaron el Plan de Acción “Santia...</td>\n",
       "      <td>En el plan de acción participan municipios, em...</td>\n",
       "      <td>8-Ecología_y_Planeta</td>\n",
       "    </tr>\n",
       "  </tbody>\n",
       "</table>\n",
       "<p>819 rows × 5 columns</p>\n",
       "</div>"
      ],
      "text/plain": [
       "           id                                                url  \\\n",
       "0    19000000  https://www.cnnchile.com/pais/camara-diputados...   \n",
       "1    19000001  https://www.cnnchile.com/elecciones2021/admisi...   \n",
       "2    19000002  https://www.cnnchile.com/mundo/francia-nueva-l...   \n",
       "3    19000003  https://www.cnnchile.com/tendencias/reportaje-...   \n",
       "4    19000004  https://www.cnnchile.com/pais/dia-libre-licenc...   \n",
       "..        ...                                                ...   \n",
       "814  19000827  https://www.cnnchile.com/pais/comite-de-minist...   \n",
       "815  19000828  https://www.cnnchile.com/editorial/cnn-prime-b...   \n",
       "816  19000829  https://www.cnnchile.com/pais/empresa-china-pr...   \n",
       "817  19000830  https://www.cnnchile.com/mundo/dos-hipopotamos...   \n",
       "818  19000831  https://www.cnnchile.com/pais/autoridades-lanz...   \n",
       "\n",
       "                                                 title  \\\n",
       "0    Cámara aprueba proyecto que prohíbe el testeo ...   \n",
       "1    Declaran admisible querella por vaca rayada co...   \n",
       "2    Francia: Nueva ley prohíbe la venta de perros ...   \n",
       "3    ¿Es más caro ser vegano? Mitos y realidades en...   \n",
       "4    Proyecto de ley busca otorgar licencia por lut...   \n",
       "..                                                 ...   \n",
       "814  Comité de Ministros aprueba por unanimidad pro...   \n",
       "815                          CNN Prime: Bachelet verde   \n",
       "816  Empresa china propone a Corfo fabricar vehícul...   \n",
       "817  Dos hipopótamos actuaron como héroes y salvaro...   \n",
       "818  Autoridades lanzaron el Plan de Acción “Santia...   \n",
       "\n",
       "                                                  text              category  \n",
       "0    La iniciativa, que pasará a su segundo trámite...  8-Ecología_y_Planeta  \n",
       "1    La acción legal fue presentada por la Fundació...  8-Ecología_y_Planeta  \n",
       "2    La normativa también eleva la pena máxima por ...  8-Ecología_y_Planeta  \n",
       "3    El estilo de vida que aboga por disminuir al m...  8-Ecología_y_Planeta  \n",
       "4    La iniciativa del diputado y médico veterinari...  8-Ecología_y_Planeta  \n",
       "..                                                 ...                   ...  \n",
       "814  Nido de Águilas y Embalse Digua fueron aprobad...  8-Ecología_y_Planeta  \n",
       "815  Así comenzó CNN Prime este 21 de septiembre de...  8-Ecología_y_Planeta  \n",
       "816  Pretenden avanzar en el desarrollo y puesta en...  8-Ecología_y_Planeta  \n",
       "817  Sucedió en el Parque Nacional Kruger, en Sudáf...  8-Ecología_y_Planeta  \n",
       "818  En el plan de acción participan municipios, em...  8-Ecología_y_Planeta  \n",
       "\n",
       "[819 rows x 5 columns]"
      ]
     },
     "execution_count": 28,
     "metadata": {},
     "output_type": "execute_result"
    }
   ],
   "source": [
    "df = pd.DataFrame(noticias_planeta)\n",
    "df"
   ]
  },
  {
   "cell_type": "code",
   "execution_count": 29,
   "metadata": {},
   "outputs": [
    {
     "data": {
      "text/html": [
       "<div>\n",
       "<style scoped>\n",
       "    .dataframe tbody tr th:only-of-type {\n",
       "        vertical-align: middle;\n",
       "    }\n",
       "\n",
       "    .dataframe tbody tr th {\n",
       "        vertical-align: top;\n",
       "    }\n",
       "\n",
       "    .dataframe thead th {\n",
       "        text-align: right;\n",
       "    }\n",
       "</style>\n",
       "<table border=\"1\" class=\"dataframe\">\n",
       "  <thead>\n",
       "    <tr style=\"text-align: right;\">\n",
       "      <th></th>\n",
       "      <th>index</th>\n",
       "      <th>id</th>\n",
       "      <th>url</th>\n",
       "      <th>title</th>\n",
       "      <th>text</th>\n",
       "      <th>category</th>\n",
       "      <th>content</th>\n",
       "    </tr>\n",
       "  </thead>\n",
       "  <tbody>\n",
       "    <tr>\n",
       "      <th>0</th>\n",
       "      <td>12</td>\n",
       "      <td>19000012</td>\n",
       "      <td>https://www.cnnchile.com/pais/camara-diputados...</td>\n",
       "      <td>Cámara aprueba proyecto que prohíbe el testeo ...</td>\n",
       "      <td>La iniciativa, que pasará a su segundo trámite...</td>\n",
       "      <td>8-Ecología_y_Planeta</td>\n",
       "      <td>Cámara aprueba proyecto que prohíbe el testeo ...</td>\n",
       "    </tr>\n",
       "    <tr>\n",
       "      <th>1</th>\n",
       "      <td>13</td>\n",
       "      <td>19000013</td>\n",
       "      <td>https://www.cnnchile.com/elecciones2021/admisi...</td>\n",
       "      <td>Declaran admisible querella por vaca rayada co...</td>\n",
       "      <td>La acción legal fue presentada por la Fundació...</td>\n",
       "      <td>8-Ecología_y_Planeta</td>\n",
       "      <td>Declaran admisible querella por vaca rayada co...</td>\n",
       "    </tr>\n",
       "    <tr>\n",
       "      <th>2</th>\n",
       "      <td>15</td>\n",
       "      <td>19000015</td>\n",
       "      <td>https://www.cnnchile.com/tendencias/reportaje-...</td>\n",
       "      <td>¿Es más caro ser vegano? Mitos y realidades en...</td>\n",
       "      <td>El estilo de vida que aboga por disminuir al m...</td>\n",
       "      <td>8-Ecología_y_Planeta</td>\n",
       "      <td>¿Es más caro ser vegano? Mitos y realidades en...</td>\n",
       "    </tr>\n",
       "    <tr>\n",
       "      <th>3</th>\n",
       "      <td>16</td>\n",
       "      <td>19000016</td>\n",
       "      <td>https://www.cnnchile.com/pais/dia-libre-licenc...</td>\n",
       "      <td>Proyecto de ley busca otorgar licencia por lut...</td>\n",
       "      <td>La iniciativa del diputado y médico veterinari...</td>\n",
       "      <td>8-Ecología_y_Planeta</td>\n",
       "      <td>Proyecto de ley busca otorgar licencia por lut...</td>\n",
       "    </tr>\n",
       "    <tr>\n",
       "      <th>4</th>\n",
       "      <td>17</td>\n",
       "      <td>19000017</td>\n",
       "      <td>https://www.cnnchile.com/mundo/adolescentes-ac...</td>\n",
       "      <td>Adolescentes son acusados de matar a 14 cangur...</td>\n",
       "      <td>Los dos jóvenes de 17 años deberán comparecer ...</td>\n",
       "      <td>8-Ecología_y_Planeta</td>\n",
       "      <td>Adolescentes son acusados de matar a 14 cangur...</td>\n",
       "    </tr>\n",
       "    <tr>\n",
       "      <th>...</th>\n",
       "      <td>...</td>\n",
       "      <td>...</td>\n",
       "      <td>...</td>\n",
       "      <td>...</td>\n",
       "      <td>...</td>\n",
       "      <td>...</td>\n",
       "      <td>...</td>\n",
       "    </tr>\n",
       "    <tr>\n",
       "      <th>646</th>\n",
       "      <td>814</td>\n",
       "      <td>19000827</td>\n",
       "      <td>https://www.cnnchile.com/pais/comite-de-minist...</td>\n",
       "      <td>Comité de Ministros aprueba por unanimidad pro...</td>\n",
       "      <td>Nido de Águilas y Embalse Digua fueron aprobad...</td>\n",
       "      <td>8-Ecología_y_Planeta</td>\n",
       "      <td>Comité de Ministros aprueba por unanimidad pro...</td>\n",
       "    </tr>\n",
       "    <tr>\n",
       "      <th>647</th>\n",
       "      <td>815</td>\n",
       "      <td>19000828</td>\n",
       "      <td>https://www.cnnchile.com/editorial/cnn-prime-b...</td>\n",
       "      <td>CNN Prime: Bachelet verde</td>\n",
       "      <td>Así comenzó CNN Prime este 21 de septiembre de...</td>\n",
       "      <td>8-Ecología_y_Planeta</td>\n",
       "      <td>CNN Prime: Bachelet verde. Así comenzó CNN Pri...</td>\n",
       "    </tr>\n",
       "    <tr>\n",
       "      <th>648</th>\n",
       "      <td>816</td>\n",
       "      <td>19000829</td>\n",
       "      <td>https://www.cnnchile.com/pais/empresa-china-pr...</td>\n",
       "      <td>Empresa china propone a Corfo fabricar vehícul...</td>\n",
       "      <td>Pretenden avanzar en el desarrollo y puesta en...</td>\n",
       "      <td>8-Ecología_y_Planeta</td>\n",
       "      <td>Empresa china propone a Corfo fabricar vehícul...</td>\n",
       "    </tr>\n",
       "    <tr>\n",
       "      <th>649</th>\n",
       "      <td>817</td>\n",
       "      <td>19000830</td>\n",
       "      <td>https://www.cnnchile.com/mundo/dos-hipopotamos...</td>\n",
       "      <td>Dos hipopótamos actuaron como héroes y salvaro...</td>\n",
       "      <td>Sucedió en el Parque Nacional Kruger, en Sudáf...</td>\n",
       "      <td>8-Ecología_y_Planeta</td>\n",
       "      <td>Dos hipopótamos actuaron como héroes y salvaro...</td>\n",
       "    </tr>\n",
       "    <tr>\n",
       "      <th>650</th>\n",
       "      <td>818</td>\n",
       "      <td>19000831</td>\n",
       "      <td>https://www.cnnchile.com/pais/autoridades-lanz...</td>\n",
       "      <td>Autoridades lanzaron el Plan de Acción “Santia...</td>\n",
       "      <td>En el plan de acción participan municipios, em...</td>\n",
       "      <td>8-Ecología_y_Planeta</td>\n",
       "      <td>Autoridades lanzaron el Plan de Acción “Santia...</td>\n",
       "    </tr>\n",
       "  </tbody>\n",
       "</table>\n",
       "<p>651 rows × 7 columns</p>\n",
       "</div>"
      ],
      "text/plain": [
       "     index        id                                                url  \\\n",
       "0       12  19000012  https://www.cnnchile.com/pais/camara-diputados...   \n",
       "1       13  19000013  https://www.cnnchile.com/elecciones2021/admisi...   \n",
       "2       15  19000015  https://www.cnnchile.com/tendencias/reportaje-...   \n",
       "3       16  19000016  https://www.cnnchile.com/pais/dia-libre-licenc...   \n",
       "4       17  19000017  https://www.cnnchile.com/mundo/adolescentes-ac...   \n",
       "..     ...       ...                                                ...   \n",
       "646    814  19000827  https://www.cnnchile.com/pais/comite-de-minist...   \n",
       "647    815  19000828  https://www.cnnchile.com/editorial/cnn-prime-b...   \n",
       "648    816  19000829  https://www.cnnchile.com/pais/empresa-china-pr...   \n",
       "649    817  19000830  https://www.cnnchile.com/mundo/dos-hipopotamos...   \n",
       "650    818  19000831  https://www.cnnchile.com/pais/autoridades-lanz...   \n",
       "\n",
       "                                                 title  \\\n",
       "0    Cámara aprueba proyecto que prohíbe el testeo ...   \n",
       "1    Declaran admisible querella por vaca rayada co...   \n",
       "2    ¿Es más caro ser vegano? Mitos y realidades en...   \n",
       "3    Proyecto de ley busca otorgar licencia por lut...   \n",
       "4    Adolescentes son acusados de matar a 14 cangur...   \n",
       "..                                                 ...   \n",
       "646  Comité de Ministros aprueba por unanimidad pro...   \n",
       "647                          CNN Prime: Bachelet verde   \n",
       "648  Empresa china propone a Corfo fabricar vehícul...   \n",
       "649  Dos hipopótamos actuaron como héroes y salvaro...   \n",
       "650  Autoridades lanzaron el Plan de Acción “Santia...   \n",
       "\n",
       "                                                  text              category  \\\n",
       "0    La iniciativa, que pasará a su segundo trámite...  8-Ecología_y_Planeta   \n",
       "1    La acción legal fue presentada por la Fundació...  8-Ecología_y_Planeta   \n",
       "2    El estilo de vida que aboga por disminuir al m...  8-Ecología_y_Planeta   \n",
       "3    La iniciativa del diputado y médico veterinari...  8-Ecología_y_Planeta   \n",
       "4    Los dos jóvenes de 17 años deberán comparecer ...  8-Ecología_y_Planeta   \n",
       "..                                                 ...                   ...   \n",
       "646  Nido de Águilas y Embalse Digua fueron aprobad...  8-Ecología_y_Planeta   \n",
       "647  Así comenzó CNN Prime este 21 de septiembre de...  8-Ecología_y_Planeta   \n",
       "648  Pretenden avanzar en el desarrollo y puesta en...  8-Ecología_y_Planeta   \n",
       "649  Sucedió en el Parque Nacional Kruger, en Sudáf...  8-Ecología_y_Planeta   \n",
       "650  En el plan de acción participan municipios, em...  8-Ecología_y_Planeta   \n",
       "\n",
       "                                               content  \n",
       "0    Cámara aprueba proyecto que prohíbe el testeo ...  \n",
       "1    Declaran admisible querella por vaca rayada co...  \n",
       "2    ¿Es más caro ser vegano? Mitos y realidades en...  \n",
       "3    Proyecto de ley busca otorgar licencia por lut...  \n",
       "4    Adolescentes son acusados de matar a 14 cangur...  \n",
       "..                                                 ...  \n",
       "646  Comité de Ministros aprueba por unanimidad pro...  \n",
       "647  CNN Prime: Bachelet verde. Así comenzó CNN Pri...  \n",
       "648  Empresa china propone a Corfo fabricar vehícul...  \n",
       "649  Dos hipopótamos actuaron como héroes y salvaro...  \n",
       "650  Autoridades lanzaron el Plan de Acción “Santia...  \n",
       "\n",
       "[651 rows x 7 columns]"
      ]
     },
     "execution_count": 29,
     "metadata": {},
     "output_type": "execute_result"
    }
   ],
   "source": [
    "df_planeta = df\n",
    "df_planeta['content'] = df[['title', 'text']].agg('. '.join, axis=1)\n",
    "df_planeta.drop_duplicates(subset=['title'], keep='last', inplace=True)\n",
    "df_planeta.reset_index(inplace=True)\n",
    "df_planeta"
   ]
  },
  {
   "cell_type": "code",
   "execution_count": 30,
   "metadata": {},
   "outputs": [],
   "source": [
    "df_planeta.to_csv('./datasets/extra_planeta_cnn.csv', index=False)"
   ]
  },
  {
   "cell_type": "code",
   "execution_count": null,
   "metadata": {},
   "outputs": [],
   "source": [
    "incendio\n",
    "bombero\n",
    "choque\n",
    "accidente\n"
   ]
  },
  {
   "cell_type": "markdown",
   "metadata": {},
   "source": [
    "# Catástrofes_y_Accidentes"
   ]
  },
  {
   "cell_type": "code",
   "execution_count": 8,
   "metadata": {},
   "outputs": [],
   "source": [
    "# trabajo manual, buscar tags que puedan estar relacionados con catastrofes y accidentes\n",
    "tags_catastrofes = [('atropello', 6),            # total 6\n",
    "                         ('accidente', 20),     # total 30\n",
    "                         ('incendio', 1),            # total 1\n",
    "                         ]"
   ]
  },
  {
   "cell_type": "code",
   "execution_count": 9,
   "metadata": {},
   "outputs": [
    {
     "name": "stderr",
     "output_type": "stream",
     "text": [
      "                                                                                \r"
     ]
    },
    {
     "name": "stdout",
     "output_type": "stream",
     "text": [
      "total url noticias recopiladas:  40\n"
     ]
    },
    {
     "name": "stderr",
     "output_type": "stream",
     "text": [
      "                                                                                \r"
     ]
    },
    {
     "name": "stdout",
     "output_type": "stream",
     "text": [
      "total url noticias recopiladas:  104\n"
     ]
    },
    {
     "name": "stderr",
     "output_type": "stream",
     "text": [
      "                                                                                "
     ]
    },
    {
     "name": "stdout",
     "output_type": "stream",
     "text": [
      "total url noticias recopiladas:  7\n"
     ]
    },
    {
     "name": "stderr",
     "output_type": "stream",
     "text": [
      "\r"
     ]
    },
    {
     "data": {
      "text/plain": [
       "151"
      ]
     },
     "execution_count": 9,
     "metadata": {},
     "output_type": "execute_result"
    }
   ],
   "source": [
    "QUERY_URL = \"//h2[@class='inner-item__title']//a/@href\"\n",
    "url_noticias_catastrofes = []\n",
    "for (tag_name, num_pages) in tags_catastrofes:\n",
    "    seed = f'https://www.cnnchile.com/tag/{tag_name}/page/'\n",
    "    url_noticias_catastrofes += get_urls(seed, QUERY_URL, limit=num_pages,\n",
    "                                     leave=False, extra_validation='/pais/')\n",
    "len(url_noticias_catastrofes)"
   ]
  },
  {
   "cell_type": "code",
   "execution_count": null,
   "metadata": {},
   "outputs": [],
   "source": [
    "SEED_CRAWL = 'https://www.cnnchile.com/category/pais/page/'\n",
    "QUERY_URL = \"//h2[@class='inner-item__title']//a/@href\"\n"
   ]
  },
  {
   "cell_type": "code",
   "execution_count": 14,
   "metadata": {},
   "outputs": [
    {
     "name": "stderr",
     "output_type": "stream",
     "text": [
      "                                                                                "
     ]
    },
    {
     "name": "stdout",
     "output_type": "stream",
     "text": [
      "total url noticias recopiladas:  4560\n"
     ]
    },
    {
     "name": "stderr",
     "output_type": "stream",
     "text": [
      "\r"
     ]
    }
   ],
   "source": [
    "QUERY_URL = \"//h2[@class='inner-item__title']//a/@href\"\n",
    "url_noticias_pais = []\n",
    "\n",
    "seed = 'https://www.cnnchile.com/category/pais/page/'\n",
    "url_noticias_pais = get_urls(seed, QUERY_URL, limit=380)\n"
   ]
  },
  {
   "cell_type": "code",
   "execution_count": 16,
   "metadata": {},
   "outputs": [
    {
     "data": {
      "text/plain": [
       "65"
      ]
     },
     "execution_count": 16,
     "metadata": {},
     "output_type": "execute_result"
    }
   ],
   "source": [
    "words = ['incendio', 'bombero', 'accidente', 'choque', 'tragedia']\n",
    "urls = [ link  for link in url_noticias_pais if any(word in link for word in words)]\n",
    "len(urls)"
   ]
  },
  {
   "cell_type": "code",
   "execution_count": 17,
   "metadata": {},
   "outputs": [],
   "source": [
    "_url_catastrofes = url_noticias_catastrofes + urls"
   ]
  },
  {
   "cell_type": "code",
   "execution_count": 19,
   "metadata": {},
   "outputs": [
    {
     "name": "stderr",
     "output_type": "stream",
     "text": [
      "100%|█████████████████████████████████████████| 216/216 [13:13<00:00,  3.67s/it]\n"
     ]
    }
   ],
   "source": [
    "STARTING_ID_CATASTROFES = 20000000\n",
    "noticias_catastrofes = scrap_cnn_news(_url_catastrofes,\n",
    "                                  STARTING_ID_CATASTROFES,\n",
    "                                  '5-Catástrofes_y_Accidentes',\n",
    "                                  sleep_time=3)"
   ]
  },
  {
   "cell_type": "code",
   "execution_count": 46,
   "metadata": {},
   "outputs": [
    {
     "data": {
      "text/html": [
       "<div>\n",
       "<style scoped>\n",
       "    .dataframe tbody tr th:only-of-type {\n",
       "        vertical-align: middle;\n",
       "    }\n",
       "\n",
       "    .dataframe tbody tr th {\n",
       "        vertical-align: top;\n",
       "    }\n",
       "\n",
       "    .dataframe thead th {\n",
       "        text-align: right;\n",
       "    }\n",
       "</style>\n",
       "<table border=\"1\" class=\"dataframe\">\n",
       "  <thead>\n",
       "    <tr style=\"text-align: right;\">\n",
       "      <th></th>\n",
       "      <th>id</th>\n",
       "      <th>url</th>\n",
       "      <th>title</th>\n",
       "      <th>text</th>\n",
       "      <th>category</th>\n",
       "    </tr>\n",
       "  </thead>\n",
       "  <tbody>\n",
       "    <tr>\n",
       "      <th>0</th>\n",
       "      <td>20000000</td>\n",
       "      <td>https://www.cnnchile.com/pais/mujer-fallecio-a...</td>\n",
       "      <td>Una mujer falleció tras ser atropellada por un...</td>\n",
       "      <td>Los antecedentes del accidente fueron entregad...</td>\n",
       "      <td>5-Catástrofes_y_Accidentes</td>\n",
       "    </tr>\n",
       "    <tr>\n",
       "      <th>1</th>\n",
       "      <td>20000001</td>\n",
       "      <td>https://www.cnnchile.com/pais/funcionario-ejer...</td>\n",
       "      <td>Funcionario del Ejército sufrió amputación de ...</td>\n",
       "      <td>El ministro del Interior, Rodrigo Delgado, cal...</td>\n",
       "      <td>5-Catástrofes_y_Accidentes</td>\n",
       "    </tr>\n",
       "    <tr>\n",
       "      <th>2</th>\n",
       "      <td>20000002</td>\n",
       "      <td>https://www.cnnchile.com/pais/cidh-oficio-chil...</td>\n",
       "      <td>CIDH envía oficio en que pide a Chile nuevo pr...</td>\n",
       "      <td>El organismo internacional dio un plazo de un ...</td>\n",
       "      <td>5-Catástrofes_y_Accidentes</td>\n",
       "    </tr>\n",
       "    <tr>\n",
       "      <th>3</th>\n",
       "      <td>20000003</td>\n",
       "      <td>https://www.cnnchile.com/pais/hombre-muere-atr...</td>\n",
       "      <td>Hombre murió tras ser atropellado por camión q...</td>\n",
       "      <td>Según información preliminar, se trata de un m...</td>\n",
       "      <td>5-Catástrofes_y_Accidentes</td>\n",
       "    </tr>\n",
       "    <tr>\n",
       "      <th>4</th>\n",
       "      <td>20000004</td>\n",
       "      <td>https://www.cnnchile.com/pais/vehiculo-policia...</td>\n",
       "      <td>Vehículo de Carabineros atropelló a niño de 4 ...</td>\n",
       "      <td>El menor fue embestido por un furgón que circu...</td>\n",
       "      <td>5-Catástrofes_y_Accidentes</td>\n",
       "    </tr>\n",
       "    <tr>\n",
       "      <th>...</th>\n",
       "      <td>...</td>\n",
       "      <td>...</td>\n",
       "      <td>...</td>\n",
       "      <td>...</td>\n",
       "      <td>...</td>\n",
       "    </tr>\n",
       "    <tr>\n",
       "      <th>211</th>\n",
       "      <td>20000211</td>\n",
       "      <td>https://www.cnnchile.com/pais/imagenes-incendi...</td>\n",
       "      <td>Enorme nube de humo cubre gran parte de la reg...</td>\n",
       "      <td>Al menos seis viviendas ya se vieron afectadas...</td>\n",
       "      <td>5-Catástrofes_y_Accidentes</td>\n",
       "    </tr>\n",
       "    <tr>\n",
       "      <th>212</th>\n",
       "      <td>20000212</td>\n",
       "      <td>https://www.cnnchile.com/pais/incendio-foresta...</td>\n",
       "      <td>Incendio forestal en Quilpué: Onemi ordenó la ...</td>\n",
       "      <td>Ricardo Toro, director del organismo, dijo que...</td>\n",
       "      <td>5-Catástrofes_y_Accidentes</td>\n",
       "    </tr>\n",
       "    <tr>\n",
       "      <th>213</th>\n",
       "      <td>20000213</td>\n",
       "      <td>https://www.cnnchile.com/pais/incendio-foresta...</td>\n",
       "      <td>Incendio forestal en Valparaíso y Quilpué ya c...</td>\n",
       "      <td>De acuerdo a los antecedentes entregados por C...</td>\n",
       "      <td>5-Catástrofes_y_Accidentes</td>\n",
       "    </tr>\n",
       "    <tr>\n",
       "      <th>214</th>\n",
       "      <td>20000214</td>\n",
       "      <td>https://www.cnnchile.com/pais/alerta-roja-pure...</td>\n",
       "      <td>Alerta Roja en Purén: Incendio forestal amenaz...</td>\n",
       "      <td>Hasta el momento, 280 hectáreas han sido consu...</td>\n",
       "      <td>5-Catástrofes_y_Accidentes</td>\n",
       "    </tr>\n",
       "    <tr>\n",
       "      <th>215</th>\n",
       "      <td>20000215</td>\n",
       "      <td>https://www.cnnchile.com/pais/incendio-lo-vall...</td>\n",
       "      <td>Incendio en Lo Valledor dejó bomberos lesionad...</td>\n",
       "      <td>El siniestro se desencadenó pasada la medianoc...</td>\n",
       "      <td>5-Catástrofes_y_Accidentes</td>\n",
       "    </tr>\n",
       "  </tbody>\n",
       "</table>\n",
       "<p>216 rows × 5 columns</p>\n",
       "</div>"
      ],
      "text/plain": [
       "           id                                                url  \\\n",
       "0    20000000  https://www.cnnchile.com/pais/mujer-fallecio-a...   \n",
       "1    20000001  https://www.cnnchile.com/pais/funcionario-ejer...   \n",
       "2    20000002  https://www.cnnchile.com/pais/cidh-oficio-chil...   \n",
       "3    20000003  https://www.cnnchile.com/pais/hombre-muere-atr...   \n",
       "4    20000004  https://www.cnnchile.com/pais/vehiculo-policia...   \n",
       "..        ...                                                ...   \n",
       "211  20000211  https://www.cnnchile.com/pais/imagenes-incendi...   \n",
       "212  20000212  https://www.cnnchile.com/pais/incendio-foresta...   \n",
       "213  20000213  https://www.cnnchile.com/pais/incendio-foresta...   \n",
       "214  20000214  https://www.cnnchile.com/pais/alerta-roja-pure...   \n",
       "215  20000215  https://www.cnnchile.com/pais/incendio-lo-vall...   \n",
       "\n",
       "                                                 title  \\\n",
       "0    Una mujer falleció tras ser atropellada por un...   \n",
       "1    Funcionario del Ejército sufrió amputación de ...   \n",
       "2    CIDH envía oficio en que pide a Chile nuevo pr...   \n",
       "3    Hombre murió tras ser atropellado por camión q...   \n",
       "4    Vehículo de Carabineros atropelló a niño de 4 ...   \n",
       "..                                                 ...   \n",
       "211  Enorme nube de humo cubre gran parte de la reg...   \n",
       "212  Incendio forestal en Quilpué: Onemi ordenó la ...   \n",
       "213  Incendio forestal en Valparaíso y Quilpué ya c...   \n",
       "214  Alerta Roja en Purén: Incendio forestal amenaz...   \n",
       "215  Incendio en Lo Valledor dejó bomberos lesionad...   \n",
       "\n",
       "                                                  text  \\\n",
       "0    Los antecedentes del accidente fueron entregad...   \n",
       "1    El ministro del Interior, Rodrigo Delgado, cal...   \n",
       "2    El organismo internacional dio un plazo de un ...   \n",
       "3    Según información preliminar, se trata de un m...   \n",
       "4    El menor fue embestido por un furgón que circu...   \n",
       "..                                                 ...   \n",
       "211  Al menos seis viviendas ya se vieron afectadas...   \n",
       "212  Ricardo Toro, director del organismo, dijo que...   \n",
       "213  De acuerdo a los antecedentes entregados por C...   \n",
       "214  Hasta el momento, 280 hectáreas han sido consu...   \n",
       "215  El siniestro se desencadenó pasada la medianoc...   \n",
       "\n",
       "                       category  \n",
       "0    5-Catástrofes_y_Accidentes  \n",
       "1    5-Catástrofes_y_Accidentes  \n",
       "2    5-Catástrofes_y_Accidentes  \n",
       "3    5-Catástrofes_y_Accidentes  \n",
       "4    5-Catástrofes_y_Accidentes  \n",
       "..                          ...  \n",
       "211  5-Catástrofes_y_Accidentes  \n",
       "212  5-Catástrofes_y_Accidentes  \n",
       "213  5-Catástrofes_y_Accidentes  \n",
       "214  5-Catástrofes_y_Accidentes  \n",
       "215  5-Catástrofes_y_Accidentes  \n",
       "\n",
       "[216 rows x 5 columns]"
      ]
     },
     "execution_count": 46,
     "metadata": {},
     "output_type": "execute_result"
    }
   ],
   "source": [
    "df = pd.DataFrame(noticias_catastrofes)\n",
    "df"
   ]
  },
  {
   "cell_type": "code",
   "execution_count": 47,
   "metadata": {},
   "outputs": [
    {
     "data": {
      "text/html": [
       "<div>\n",
       "<style scoped>\n",
       "    .dataframe tbody tr th:only-of-type {\n",
       "        vertical-align: middle;\n",
       "    }\n",
       "\n",
       "    .dataframe tbody tr th {\n",
       "        vertical-align: top;\n",
       "    }\n",
       "\n",
       "    .dataframe thead th {\n",
       "        text-align: right;\n",
       "    }\n",
       "</style>\n",
       "<table border=\"1\" class=\"dataframe\">\n",
       "  <thead>\n",
       "    <tr style=\"text-align: right;\">\n",
       "      <th></th>\n",
       "      <th>id</th>\n",
       "      <th>url</th>\n",
       "      <th>title</th>\n",
       "      <th>text</th>\n",
       "      <th>category</th>\n",
       "      <th>content</th>\n",
       "    </tr>\n",
       "  </thead>\n",
       "  <tbody>\n",
       "    <tr>\n",
       "      <th>8</th>\n",
       "      <td>20000008</td>\n",
       "      <td>https://www.cnnchile.com/pais/mujer-fallecio-a...</td>\n",
       "      <td>Una mujer falleció tras ser atropellada por un...</td>\n",
       "      <td>Los antecedentes del accidente fueron entregad...</td>\n",
       "      <td>5-Catástrofes_y_Accidentes</td>\n",
       "      <td>Una mujer falleció tras ser atropellada por un...</td>\n",
       "    </tr>\n",
       "    <tr>\n",
       "      <th>9</th>\n",
       "      <td>20000009</td>\n",
       "      <td>https://www.cnnchile.com/pais/funcionario-ejer...</td>\n",
       "      <td>Funcionario del Ejército sufrió amputación de ...</td>\n",
       "      <td>El ministro del Interior, Rodrigo Delgado, cal...</td>\n",
       "      <td>5-Catástrofes_y_Accidentes</td>\n",
       "      <td>Funcionario del Ejército sufrió amputación de ...</td>\n",
       "    </tr>\n",
       "    <tr>\n",
       "      <th>10</th>\n",
       "      <td>20000010</td>\n",
       "      <td>https://www.cnnchile.com/pais/cidh-oficio-chil...</td>\n",
       "      <td>CIDH envía oficio en que pide a Chile nuevo pr...</td>\n",
       "      <td>El organismo internacional dio un plazo de un ...</td>\n",
       "      <td>5-Catástrofes_y_Accidentes</td>\n",
       "      <td>CIDH envía oficio en que pide a Chile nuevo pr...</td>\n",
       "    </tr>\n",
       "    <tr>\n",
       "      <th>11</th>\n",
       "      <td>20000011</td>\n",
       "      <td>https://www.cnnchile.com/pais/hombre-muere-atr...</td>\n",
       "      <td>Hombre murió tras ser atropellado por camión q...</td>\n",
       "      <td>Según información preliminar, se trata de un m...</td>\n",
       "      <td>5-Catástrofes_y_Accidentes</td>\n",
       "      <td>Hombre murió tras ser atropellado por camión q...</td>\n",
       "    </tr>\n",
       "    <tr>\n",
       "      <th>13</th>\n",
       "      <td>20000013</td>\n",
       "      <td>https://www.cnnchile.com/pais/prision-preventi...</td>\n",
       "      <td>En prisión preventiva quedó el delantero de Au...</td>\n",
       "      <td>El delantero Rodrigo Holgado transitaba en su ...</td>\n",
       "      <td>5-Catástrofes_y_Accidentes</td>\n",
       "      <td>En prisión preventiva quedó el delantero de Au...</td>\n",
       "    </tr>\n",
       "    <tr>\n",
       "      <th>...</th>\n",
       "      <td>...</td>\n",
       "      <td>...</td>\n",
       "      <td>...</td>\n",
       "      <td>...</td>\n",
       "      <td>...</td>\n",
       "      <td>...</td>\n",
       "    </tr>\n",
       "    <tr>\n",
       "      <th>211</th>\n",
       "      <td>20000211</td>\n",
       "      <td>https://www.cnnchile.com/pais/imagenes-incendi...</td>\n",
       "      <td>Enorme nube de humo cubre gran parte de la reg...</td>\n",
       "      <td>Al menos seis viviendas ya se vieron afectadas...</td>\n",
       "      <td>5-Catástrofes_y_Accidentes</td>\n",
       "      <td>Enorme nube de humo cubre gran parte de la reg...</td>\n",
       "    </tr>\n",
       "    <tr>\n",
       "      <th>212</th>\n",
       "      <td>20000212</td>\n",
       "      <td>https://www.cnnchile.com/pais/incendio-foresta...</td>\n",
       "      <td>Incendio forestal en Quilpué: Onemi ordenó la ...</td>\n",
       "      <td>Ricardo Toro, director del organismo, dijo que...</td>\n",
       "      <td>5-Catástrofes_y_Accidentes</td>\n",
       "      <td>Incendio forestal en Quilpué: Onemi ordenó la ...</td>\n",
       "    </tr>\n",
       "    <tr>\n",
       "      <th>213</th>\n",
       "      <td>20000213</td>\n",
       "      <td>https://www.cnnchile.com/pais/incendio-foresta...</td>\n",
       "      <td>Incendio forestal en Valparaíso y Quilpué ya c...</td>\n",
       "      <td>De acuerdo a los antecedentes entregados por C...</td>\n",
       "      <td>5-Catástrofes_y_Accidentes</td>\n",
       "      <td>Incendio forestal en Valparaíso y Quilpué ya c...</td>\n",
       "    </tr>\n",
       "    <tr>\n",
       "      <th>214</th>\n",
       "      <td>20000214</td>\n",
       "      <td>https://www.cnnchile.com/pais/alerta-roja-pure...</td>\n",
       "      <td>Alerta Roja en Purén: Incendio forestal amenaz...</td>\n",
       "      <td>Hasta el momento, 280 hectáreas han sido consu...</td>\n",
       "      <td>5-Catástrofes_y_Accidentes</td>\n",
       "      <td>Alerta Roja en Purén: Incendio forestal amenaz...</td>\n",
       "    </tr>\n",
       "    <tr>\n",
       "      <th>215</th>\n",
       "      <td>20000215</td>\n",
       "      <td>https://www.cnnchile.com/pais/incendio-lo-vall...</td>\n",
       "      <td>Incendio en Lo Valledor dejó bomberos lesionad...</td>\n",
       "      <td>El siniestro se desencadenó pasada la medianoc...</td>\n",
       "      <td>5-Catástrofes_y_Accidentes</td>\n",
       "      <td>Incendio en Lo Valledor dejó bomberos lesionad...</td>\n",
       "    </tr>\n",
       "  </tbody>\n",
       "</table>\n",
       "<p>187 rows × 6 columns</p>\n",
       "</div>"
      ],
      "text/plain": [
       "           id                                                url  \\\n",
       "8    20000008  https://www.cnnchile.com/pais/mujer-fallecio-a...   \n",
       "9    20000009  https://www.cnnchile.com/pais/funcionario-ejer...   \n",
       "10   20000010  https://www.cnnchile.com/pais/cidh-oficio-chil...   \n",
       "11   20000011  https://www.cnnchile.com/pais/hombre-muere-atr...   \n",
       "13   20000013  https://www.cnnchile.com/pais/prision-preventi...   \n",
       "..        ...                                                ...   \n",
       "211  20000211  https://www.cnnchile.com/pais/imagenes-incendi...   \n",
       "212  20000212  https://www.cnnchile.com/pais/incendio-foresta...   \n",
       "213  20000213  https://www.cnnchile.com/pais/incendio-foresta...   \n",
       "214  20000214  https://www.cnnchile.com/pais/alerta-roja-pure...   \n",
       "215  20000215  https://www.cnnchile.com/pais/incendio-lo-vall...   \n",
       "\n",
       "                                                 title  \\\n",
       "8    Una mujer falleció tras ser atropellada por un...   \n",
       "9    Funcionario del Ejército sufrió amputación de ...   \n",
       "10   CIDH envía oficio en que pide a Chile nuevo pr...   \n",
       "11   Hombre murió tras ser atropellado por camión q...   \n",
       "13   En prisión preventiva quedó el delantero de Au...   \n",
       "..                                                 ...   \n",
       "211  Enorme nube de humo cubre gran parte de la reg...   \n",
       "212  Incendio forestal en Quilpué: Onemi ordenó la ...   \n",
       "213  Incendio forestal en Valparaíso y Quilpué ya c...   \n",
       "214  Alerta Roja en Purén: Incendio forestal amenaz...   \n",
       "215  Incendio en Lo Valledor dejó bomberos lesionad...   \n",
       "\n",
       "                                                  text  \\\n",
       "8    Los antecedentes del accidente fueron entregad...   \n",
       "9    El ministro del Interior, Rodrigo Delgado, cal...   \n",
       "10   El organismo internacional dio un plazo de un ...   \n",
       "11   Según información preliminar, se trata de un m...   \n",
       "13   El delantero Rodrigo Holgado transitaba en su ...   \n",
       "..                                                 ...   \n",
       "211  Al menos seis viviendas ya se vieron afectadas...   \n",
       "212  Ricardo Toro, director del organismo, dijo que...   \n",
       "213  De acuerdo a los antecedentes entregados por C...   \n",
       "214  Hasta el momento, 280 hectáreas han sido consu...   \n",
       "215  El siniestro se desencadenó pasada la medianoc...   \n",
       "\n",
       "                       category  \\\n",
       "8    5-Catástrofes_y_Accidentes   \n",
       "9    5-Catástrofes_y_Accidentes   \n",
       "10   5-Catástrofes_y_Accidentes   \n",
       "11   5-Catástrofes_y_Accidentes   \n",
       "13   5-Catástrofes_y_Accidentes   \n",
       "..                          ...   \n",
       "211  5-Catástrofes_y_Accidentes   \n",
       "212  5-Catástrofes_y_Accidentes   \n",
       "213  5-Catástrofes_y_Accidentes   \n",
       "214  5-Catástrofes_y_Accidentes   \n",
       "215  5-Catástrofes_y_Accidentes   \n",
       "\n",
       "                                               content  \n",
       "8    Una mujer falleció tras ser atropellada por un...  \n",
       "9    Funcionario del Ejército sufrió amputación de ...  \n",
       "10   CIDH envía oficio en que pide a Chile nuevo pr...  \n",
       "11   Hombre murió tras ser atropellado por camión q...  \n",
       "13   En prisión preventiva quedó el delantero de Au...  \n",
       "..                                                 ...  \n",
       "211  Enorme nube de humo cubre gran parte de la reg...  \n",
       "212  Incendio forestal en Quilpué: Onemi ordenó la ...  \n",
       "213  Incendio forestal en Valparaíso y Quilpué ya c...  \n",
       "214  Alerta Roja en Purén: Incendio forestal amenaz...  \n",
       "215  Incendio en Lo Valledor dejó bomberos lesionad...  \n",
       "\n",
       "[187 rows x 6 columns]"
      ]
     },
     "execution_count": 47,
     "metadata": {},
     "output_type": "execute_result"
    }
   ],
   "source": [
    "df_catastrofes = df\n",
    "df_catastrofes['content'] = df[['title', 'text']].agg('. '.join, axis=1)\n",
    "df_catastrofes.drop_duplicates(subset=['title'], keep='last', inplace=True)\n",
    "#df_catastrofes.reset_index(inplace=True)\n",
    "df_catastrofes"
   ]
  },
  {
   "cell_type": "code",
   "execution_count": 48,
   "metadata": {},
   "outputs": [],
   "source": [
    "df_catastrofes.to_csv('./datasets/extra_catastrofes_cnn.csv', index=False)"
   ]
  },
  {
   "cell_type": "code",
   "execution_count": 49,
   "metadata": {},
   "outputs": [],
   "source": [
    "df_catastrofes = pd.read_csv('./datasets/extra_catastrofes_cnn.csv')\n",
    "df_planeta = pd.read_csv('./datasets/extra_planeta_cnn.csv')\n",
    "df_cultura = pd.read_csv('./datasets/extra_cultura_cnn_2020-2021.csv')\n",
    "df_paso3 = pd.read_csv('./datasets/dataset_paso_3.csv')"
   ]
  },
  {
   "cell_type": "code",
   "execution_count": 56,
   "metadata": {},
   "outputs": [],
   "source": [
    "df_final = pd.concat([df_paso3, df_cultura, df_planeta, df_catastrofes])\n",
    "df_final.drop_duplicates(subset=['title'], keep='last', inplace=True)\n",
    "df_final.reset_index(inplace=True)\n",
    "df_final.drop(columns=['level_0'], inplace=True)\n",
    "df_final.to_csv('./datasets/dataset_paso3d96.csv', index=False)"
   ]
  },
  {
   "cell_type": "code",
   "execution_count": 58,
   "metadata": {},
   "outputs": [
    {
     "data": {
      "text/plain": [
       "category\n",
       "5-Catástrofes_y_Accidentes     1430\n",
       "8-Ecología_y_Planeta           1452\n",
       "6-Cultura_y_Artes              1678\n",
       "2-Economía                     2635\n",
       "10-Salud                       2683\n",
       "4-Ciencias_y_Tecnología        4772\n",
       "7-Deporte                      6702\n",
       "9-Crimen_delitos_y_Justicia    8212\n",
       "1-Mundo                        8586\n",
       "3-Política_y_Conflictos        8951\n",
       "dtype: int64"
      ]
     },
     "execution_count": 58,
     "metadata": {},
     "output_type": "execute_result"
    }
   ],
   "source": [
    "grouped = df_final.groupby(by='category').size().sort_values()\n",
    "grouped"
   ]
  },
  {
   "cell_type": "code",
   "execution_count": 59,
   "metadata": {},
   "outputs": [
    {
     "data": {
      "text/plain": [
       "1430"
      ]
     },
     "execution_count": 59,
     "metadata": {},
     "output_type": "execute_result"
    }
   ],
   "source": [
    "SAMPLE_SIZE = grouped[0]\n",
    "SAMPLE_SIZE"
   ]
  },
  {
   "cell_type": "code",
   "execution_count": 62,
   "metadata": {},
   "outputs": [],
   "source": [
    "RANDOM_STATE = 5150\n",
    "new_df = df_final.groupby('category').sample(n=SAMPLE_SIZE,\n",
    "                                             random_state=RANDOM_STATE)\n",
    "new_df.reset_index(drop=True, inplace=True)\n",
    "new_df.to_csv(f'./datasets/ds_balanced_{SAMPLE_SIZE}_rs{RANDOM_STATE}.csv', index=False)"
   ]
  },
  {
   "cell_type": "code",
   "execution_count": 81,
   "metadata": {},
   "outputs": [
    {
     "data": {
      "text/html": [
       "<div>\n",
       "<style scoped>\n",
       "    .dataframe tbody tr th:only-of-type {\n",
       "        vertical-align: middle;\n",
       "    }\n",
       "\n",
       "    .dataframe tbody tr th {\n",
       "        vertical-align: top;\n",
       "    }\n",
       "\n",
       "    .dataframe thead th {\n",
       "        text-align: right;\n",
       "    }\n",
       "</style>\n",
       "<table border=\"1\" class=\"dataframe\">\n",
       "  <thead>\n",
       "    <tr style=\"text-align: right;\">\n",
       "      <th></th>\n",
       "      <th>id</th>\n",
       "      <th>title</th>\n",
       "      <th>content</th>\n",
       "      <th>category</th>\n",
       "      <th>url</th>\n",
       "      <th>text</th>\n",
       "      <th>index</th>\n",
       "    </tr>\n",
       "  </thead>\n",
       "  <tbody>\n",
       "    <tr>\n",
       "      <th>0</th>\n",
       "      <td>13115</td>\n",
       "      <td>Vacunación en Chile empezaría primer trimestre...</td>\n",
       "      <td>Vacunación en Chile empezaría primer trimestre...</td>\n",
       "      <td>10-Salud</td>\n",
       "      <td>NaN</td>\n",
       "      <td>NaN</td>\n",
       "      <td>NaN</td>\n",
       "    </tr>\n",
       "    <tr>\n",
       "      <th>1</th>\n",
       "      <td>13183</td>\n",
       "      <td>Sernapesca: \"Viabilidad del virus de infectar ...</td>\n",
       "      <td>Sernapesca: \"Viabilidad del virus de infectar ...</td>\n",
       "      <td>10-Salud</td>\n",
       "      <td>NaN</td>\n",
       "      <td>NaN</td>\n",
       "      <td>NaN</td>\n",
       "    </tr>\n",
       "    <tr>\n",
       "      <th>2</th>\n",
       "      <td>614680</td>\n",
       "      <td>Presidente de México asegura que la pandemia \"...</td>\n",
       "      <td>Presidente de México asegura que la pandemia \"...</td>\n",
       "      <td>1-Mundo</td>\n",
       "      <td>NaN</td>\n",
       "      <td>NaN</td>\n",
       "      <td>NaN</td>\n",
       "    </tr>\n",
       "    <tr>\n",
       "      <th>3</th>\n",
       "      <td>614690</td>\n",
       "      <td>Gobierno de Uruguay endurece medidas por aumen...</td>\n",
       "      <td>Gobierno de Uruguay endurece medidas por aumen...</td>\n",
       "      <td>1-Mundo</td>\n",
       "      <td>NaN</td>\n",
       "      <td>NaN</td>\n",
       "      <td>NaN</td>\n",
       "    </tr>\n",
       "    <tr>\n",
       "      <th>4</th>\n",
       "      <td>614700</td>\n",
       "      <td>Presidente boliviano destituye a ministro que ...</td>\n",
       "      <td>Presidente boliviano destituye a ministro que ...</td>\n",
       "      <td>1-Mundo</td>\n",
       "      <td>NaN</td>\n",
       "      <td>NaN</td>\n",
       "      <td>NaN</td>\n",
       "    </tr>\n",
       "    <tr>\n",
       "      <th>...</th>\n",
       "      <td>...</td>\n",
       "      <td>...</td>\n",
       "      <td>...</td>\n",
       "      <td>...</td>\n",
       "      <td>...</td>\n",
       "      <td>...</td>\n",
       "      <td>...</td>\n",
       "    </tr>\n",
       "    <tr>\n",
       "      <th>46259</th>\n",
       "      <td>18000359</td>\n",
       "      <td>“Dios los Cría”: Calamaro invita a Mon Laferte...</td>\n",
       "      <td>“Dios los Cría”: Calamaro invita a Mon Laferte...</td>\n",
       "      <td>6-Cultura_y_Artes</td>\n",
       "      <td>https://www.cnnchile.com/cultura/calamaro-mon-...</td>\n",
       "      <td>La chilena interpretará \"Tantas veces\" junto a...</td>\n",
       "      <td>NaN</td>\n",
       "    </tr>\n",
       "    <tr>\n",
       "      <th>46260</th>\n",
       "      <td>18000360</td>\n",
       "      <td>“Qué Weá”: Paloma Mami se reivindica como chil...</td>\n",
       "      <td>“Qué Weá”: Paloma Mami se reivindica como chil...</td>\n",
       "      <td>6-Cultura_y_Artes</td>\n",
       "      <td>https://www.cnnchile.com/cultura/paloma-mami-v...</td>\n",
       "      <td>La cantante participó en la dirección del vide...</td>\n",
       "      <td>NaN</td>\n",
       "    </tr>\n",
       "    <tr>\n",
       "      <th>46261</th>\n",
       "      <td>18000361</td>\n",
       "      <td>Ellen DeGeneres informó que planea terminar su...</td>\n",
       "      <td>Ellen DeGeneres informó que planea terminar su...</td>\n",
       "      <td>6-Cultura_y_Artes</td>\n",
       "      <td>https://www.cnnchile.com/cultura/ellen-degener...</td>\n",
       "      <td>La popular animadora explicó que \"cuando eres ...</td>\n",
       "      <td>NaN</td>\n",
       "    </tr>\n",
       "    <tr>\n",
       "      <th>46262</th>\n",
       "      <td>18000362</td>\n",
       "      <td>Los poemas en la UCI del Dr. Glenn Hernández: ...</td>\n",
       "      <td>Los poemas en la UCI del Dr. Glenn Hernández: ...</td>\n",
       "      <td>6-Cultura_y_Artes</td>\n",
       "      <td>https://www.cnnchile.com/cultura/entrevista-do...</td>\n",
       "      <td>Casi un año antes del primer muerto por la pan...</td>\n",
       "      <td>NaN</td>\n",
       "    </tr>\n",
       "    <tr>\n",
       "      <th>46263</th>\n",
       "      <td>18000363</td>\n",
       "      <td>Nueva película de “Venom” estrena adelanto con...</td>\n",
       "      <td>Nueva película de “Venom” estrena adelanto con...</td>\n",
       "      <td>6-Cultura_y_Artes</td>\n",
       "      <td>https://www.cnnchile.com/cultura/adelanto-veno...</td>\n",
       "      <td>La secuela de la cinta estrenada en 2018 nos r...</td>\n",
       "      <td>NaN</td>\n",
       "    </tr>\n",
       "  </tbody>\n",
       "</table>\n",
       "<p>44219 rows × 7 columns</p>\n",
       "</div>"
      ],
      "text/plain": [
       "             id                                              title  \\\n",
       "0         13115  Vacunación en Chile empezaría primer trimestre...   \n",
       "1         13183  Sernapesca: \"Viabilidad del virus de infectar ...   \n",
       "2        614680  Presidente de México asegura que la pandemia \"...   \n",
       "3        614690  Gobierno de Uruguay endurece medidas por aumen...   \n",
       "4        614700  Presidente boliviano destituye a ministro que ...   \n",
       "...         ...                                                ...   \n",
       "46259  18000359  “Dios los Cría”: Calamaro invita a Mon Laferte...   \n",
       "46260  18000360  “Qué Weá”: Paloma Mami se reivindica como chil...   \n",
       "46261  18000361  Ellen DeGeneres informó que planea terminar su...   \n",
       "46262  18000362  Los poemas en la UCI del Dr. Glenn Hernández: ...   \n",
       "46263  18000363  Nueva película de “Venom” estrena adelanto con...   \n",
       "\n",
       "                                                 content           category  \\\n",
       "0      Vacunación en Chile empezaría primer trimestre...           10-Salud   \n",
       "1      Sernapesca: \"Viabilidad del virus de infectar ...           10-Salud   \n",
       "2      Presidente de México asegura que la pandemia \"...            1-Mundo   \n",
       "3      Gobierno de Uruguay endurece medidas por aumen...            1-Mundo   \n",
       "4      Presidente boliviano destituye a ministro que ...            1-Mundo   \n",
       "...                                                  ...                ...   \n",
       "46259  “Dios los Cría”: Calamaro invita a Mon Laferte...  6-Cultura_y_Artes   \n",
       "46260  “Qué Weá”: Paloma Mami se reivindica como chil...  6-Cultura_y_Artes   \n",
       "46261  Ellen DeGeneres informó que planea terminar su...  6-Cultura_y_Artes   \n",
       "46262  Los poemas en la UCI del Dr. Glenn Hernández: ...  6-Cultura_y_Artes   \n",
       "46263  Nueva película de “Venom” estrena adelanto con...  6-Cultura_y_Artes   \n",
       "\n",
       "                                                     url  \\\n",
       "0                                                    NaN   \n",
       "1                                                    NaN   \n",
       "2                                                    NaN   \n",
       "3                                                    NaN   \n",
       "4                                                    NaN   \n",
       "...                                                  ...   \n",
       "46259  https://www.cnnchile.com/cultura/calamaro-mon-...   \n",
       "46260  https://www.cnnchile.com/cultura/paloma-mami-v...   \n",
       "46261  https://www.cnnchile.com/cultura/ellen-degener...   \n",
       "46262  https://www.cnnchile.com/cultura/entrevista-do...   \n",
       "46263  https://www.cnnchile.com/cultura/adelanto-veno...   \n",
       "\n",
       "                                                    text  index  \n",
       "0                                                    NaN    NaN  \n",
       "1                                                    NaN    NaN  \n",
       "2                                                    NaN    NaN  \n",
       "3                                                    NaN    NaN  \n",
       "4                                                    NaN    NaN  \n",
       "...                                                  ...    ...  \n",
       "46259  La chilena interpretará \"Tantas veces\" junto a...    NaN  \n",
       "46260  La cantante participó en la dirección del vide...    NaN  \n",
       "46261  La popular animadora explicó que \"cuando eres ...    NaN  \n",
       "46262  Casi un año antes del primer muerto por la pan...    NaN  \n",
       "46263  La secuela de la cinta estrenada en 2018 nos r...    NaN  \n",
       "\n",
       "[44219 rows x 7 columns]"
      ]
     },
     "execution_count": 81,
     "metadata": {},
     "output_type": "execute_result"
    }
   ],
   "source": [
    "df_final[~df_final['category'].isin(_cols)]"
   ]
  },
  {
   "cell_type": "code",
   "execution_count": 84,
   "metadata": {},
   "outputs": [],
   "source": [
    "SAMPLE_SIZE = 1678\n",
    "_cols = ['5-Catástrofes_y_Accidentes', '8-Ecología_y_Planeta']\n",
    "new_df = df_final[~df_final['category'].isin(_cols)].groupby('category').sample(n=SAMPLE_SIZE,\n",
    "                                             random_state=RANDOM_STATE,\n",
    "                                            )\n",
    "\n",
    "xd =  df_final[df_final['category'].isin(_cols)].groupby('category').sample(n=SAMPLE_SIZE,\n",
    "                                                 random_state=RANDOM_STATE,\n",
    "                                                 replace=True\n",
    "                                            )"
   ]
  },
  {
   "cell_type": "code",
   "execution_count": 87,
   "metadata": {},
   "outputs": [],
   "source": [
    "pd.concat([new_df, xd]).to_csv(f'./datasets/ds_semibalanced_{SAMPLE_SIZE}_rs{RANDOM_STATE}.csv',\n",
    "                               index=False)"
   ]
  },
  {
   "cell_type": "code",
   "execution_count": null,
   "metadata": {},
   "outputs": [],
   "source": []
  },
  {
   "cell_type": "code",
   "execution_count": 3,
   "metadata": {},
   "outputs": [],
   "source": [
    "import pandas as pd\n",
    "df = pd.read_csv('./datasets/dataset_paso3d96.csv')"
   ]
  },
  {
   "cell_type": "code",
   "execution_count": 4,
   "metadata": {},
   "outputs": [
    {
     "data": {
      "text/plain": [
       "category\n",
       "1-Mundo                        8586\n",
       "10-Salud                       2683\n",
       "2-Economía                     2635\n",
       "3-Política_y_Conflictos        8951\n",
       "4-Ciencias_y_Tecnología        4772\n",
       "5-Catástrofes_y_Accidentes     1430\n",
       "6-Cultura_y_Artes              1678\n",
       "7-Deporte                      6702\n",
       "8-Ecología_y_Planeta           1452\n",
       "9-Crimen_delitos_y_Justicia    8212\n",
       "dtype: int64"
      ]
     },
     "execution_count": 4,
     "metadata": {},
     "output_type": "execute_result"
    }
   ],
   "source": [
    "df.groupby('category').size()"
   ]
  },
  {
   "cell_type": "code",
   "execution_count": null,
   "metadata": {},
   "outputs": [],
   "source": []
  }
 ],
 "metadata": {
  "kernelspec": {
   "display_name": "Python 3 (ipykernel)",
   "language": "python",
   "name": "python3"
  },
  "language_info": {
   "codemirror_mode": {
    "name": "ipython",
    "version": 3
   },
   "file_extension": ".py",
   "mimetype": "text/x-python",
   "name": "python",
   "nbconvert_exporter": "python",
   "pygments_lexer": "ipython3",
   "version": "3.9.7"
  },
  "toc": {
   "base_numbering": 1,
   "nav_menu": {},
   "number_sections": true,
   "sideBar": true,
   "skip_h1_title": false,
   "title_cell": "Table of Contents",
   "title_sidebar": "Contents",
   "toc_cell": false,
   "toc_position": {},
   "toc_section_display": true,
   "toc_window_display": false
  }
 },
 "nbformat": 4,
 "nbformat_minor": 2
}
