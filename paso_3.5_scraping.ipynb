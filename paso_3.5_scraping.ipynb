{
 "cells": [
  {
   "cell_type": "code",
   "execution_count": 2,
   "metadata": {},
   "outputs": [],
   "source": [
    "#QUERY_URL = \"//div[@class='separator']//a/@href\"\n",
    "# QUERY_URL = \"//h2[@class='inner-item__title']//a/@href\""
   ]
  },
  {
   "cell_type": "code",
   "execution_count": 1,
   "metadata": {},
   "outputs": [],
   "source": [
    "import random\n",
    "import requests\n",
    "from requests_html import HTMLSession\n",
    "from requests_html import HTML\n",
    "import os\n",
    "import json\n",
    "import validators\n",
    "from time import sleep\n",
    "from functools import partial\n"
   ]
  },
  {
   "cell_type": "code",
   "execution_count": 1,
   "metadata": {},
   "outputs": [],
   "source": [
    "from os import mkdir, listdir\n",
    "import pandas as pd\n",
    "from time import sleep\n",
    "from os.path import join, isfile, isdir, exists, abspath\n",
    "from tqdm import tqdm, trange\n",
    "import re\n",
    "from functools import reduce\n",
    "from PIL import Image\n"
   ]
  },
  {
   "cell_type": "code",
   "execution_count": 5,
   "metadata": {},
   "outputs": [],
   "source": [
    "class Crawler:\n",
    "\n",
    "    USER_AGENT_LIST = [\n",
    "        \"Mozilla/5.0 (Windows NT 6.1; WOW64) AppleWebKit/537.1 (KHTML, like Gecko) Chrome/22.0.1207.1 Safari/537.1\",\n",
    "        \"Mozilla/5.0 (X11; CrOS i686 2268.111.0) AppleWebKit/536.11 (KHTML, like Gecko) Chrome/20.0.1132.57 Safari/536.11\",\n",
    "        \"Mozilla/5.0 (Windows NT 6.1; WOW64) AppleWebKit/536.6 (KHTML, like Gecko) Chrome/20.0.1092.0 Safari/536.6\",\n",
    "        \"Mozilla/5.0 (Windows NT 6.2) AppleWebKit/536.6 (KHTML, like Gecko) Chrome/20.0.1090.0 Safari/536.6\",\n",
    "        \"Mozilla/5.0 (Windows NT 6.2; WOW64) AppleWebKit/537.1 (KHTML, like Gecko) Chrome/19.77.34.5 Safari/537.1\",\n",
    "        \"Mozilla/5.0 (X11; Linux x86_64) AppleWebKit/536.5 (KHTML, like Gecko) Chrome/19.0.1084.9 Safari/536.5\",\n",
    "        \"Mozilla/5.0 (Windows NT 6.0) AppleWebKit/536.5 (KHTML, like Gecko) Chrome/19.0.1084.36 Safari/536.5\",\n",
    "        \"Mozilla/5.0 (Windows NT 6.1; WOW64) AppleWebKit/536.3 (KHTML, like Gecko) Chrome/19.0.1063.0 Safari/536.3\",\n",
    "        \"Mozilla/5.0 (Windows NT 5.1) AppleWebKit/536.3 (KHTML, like Gecko) Chrome/19.0.1063.0 Safari/536.3\",\n",
    "        \"Mozilla/5.0 (Macintosh; Intel Mac OS X 10_8_0) AppleWebKit/536.3 (KHTML, like Gecko) Chrome/19.0.1063.0 Safari/536.3\",\n",
    "        \"Mozilla/5.0 (Windows NT 6.2) AppleWebKit/536.3 (KHTML, like Gecko) Chrome/19.0.1062.0 Safari/536.3\",\n",
    "        \"Mozilla/5.0 (Windows NT 6.1; WOW64) AppleWebKit/536.3 (KHTML, like Gecko) Chrome/19.0.1062.0 Safari/536.3\",\n",
    "        \"Mozilla/5.0 (Windows NT 6.2) AppleWebKit/536.3 (KHTML, like Gecko) Chrome/19.0.1061.1 Safari/536.3\",\n",
    "        \"Mozilla/5.0 (Windows NT 6.1; WOW64) AppleWebKit/536.3 (KHTML, like Gecko) Chrome/19.0.1061.1 Safari/536.3\",\n",
    "        \"Mozilla/5.0 (Windows NT 6.1) AppleWebKit/536.3 (KHTML, like Gecko) Chrome/19.0.1061.1 Safari/536.3\",\n",
    "        \"Mozilla/5.0 (Windows NT 6.2) AppleWebKit/536.3 (KHTML, like Gecko) Chrome/19.0.1061.0 Safari/536.3\",\n",
    "        \"Mozilla/5.0 (X11; Linux x86_64) AppleWebKit/535.24 (KHTML, like Gecko) Chrome/19.0.1055.1 Safari/535.24\",\n",
    "        \"Mozilla/5.0 (Windows NT 6.2; WOW64) AppleWebKit/535.24 (KHTML, like Gecko) Chrome/19.0.1055.1 Safari/535.24\"\n",
    "    ]\n",
    "\n",
    "    def __init__(self):\n",
    "\n",
    "        # ruta XPATH hacia los enlaces que queremos recopilar\n",
    "        self.query_extract_all_href = QUERY_URL\n",
    "\n",
    "        # variable que permite listar todos los enlaces recopilado\n",
    "        self.all_json_to_send = []\n",
    "        pass\n",
    "\n",
    "    def new_session_get(self):\n",
    "        session = HTMLSession()\n",
    "        header = dict()\n",
    "        header['user-agent'] = random.choice(self.USER_AGENT_LIST)\n",
    "        return partial(session.get, headers=header)\n",
    "\n",
    "    def start_request(self, url):\n",
    "        session_get = self.new_session_get()\n",
    "        response = session_get(url)\n",
    "        return response\n",
    "\n",
    "    def parse(self, response):\n",
    "        self.all_json_to_send = []\n",
    "        all_extracted_href = response.html.xpath(self.query_extract_all_href)\n",
    "        for href in all_extracted_href:\n",
    "            json_to_send = dict()\n",
    "            #path = \"https://www.hindustantimes.com\"\n",
    "            # json_to_send[\"url\"]=path+href\n",
    "            json_to_send[\"url\"] = href\n",
    "            self.all_json_to_send.append(json_to_send)\n"
   ]
  },
  {
   "cell_type": "code",
   "execution_count": 6,
   "metadata": {},
   "outputs": [],
   "source": [
    "SEED_CRAWL = 'https://www.cnnchile.com/category/cultura/page/'\n",
    "QUERY_URL = \"//h2[@class='inner-item__title']//a/@href\"\n",
    "MAX_PAGE_CULTURA = 32\n",
    "LAST_ID = 17798719\n",
    "STARTING_ID_CULTURA = 18000000\n",
    "\n",
    "crawler = Crawler()"
   ]
  },
  {
   "cell_type": "code",
   "execution_count": 8,
   "metadata": {},
   "outputs": [
    {
     "name": "stderr",
     "output_type": "stream",
     "text": [
      "url noticias: 100%|██████████| 32/32 [00:29<00:00,  1.09it/s]\n"
     ]
    },
    {
     "data": {
      "text/plain": [
       "364"
      ]
     },
     "execution_count": 8,
     "metadata": {},
     "output_type": "execute_result"
    }
   ],
   "source": [
    "url_noticias = []\n",
    "for page in trange(MAX_PAGE_CULTURA, desc='url noticias'):\n",
    "    response = crawler.start_request(SEED_CRAWL + str(page))\n",
    "    crawler.parse(response)\n",
    "    noticias = [obj['url']\n",
    "                for obj in crawler.all_json_to_send if 'cultura' in obj['url']]\n",
    "    url_noticias += noticias\n",
    "\n",
    "len(url_noticias)\n"
   ]
  },
  {
   "cell_type": "code",
   "execution_count": 9,
   "metadata": {},
   "outputs": [
    {
     "data": {
      "text/plain": [
       "'https://www.cnnchile.com/cultura/muere-almudena-grandes-a-los-61-anos_20211127/'"
      ]
     },
     "execution_count": 9,
     "metadata": {},
     "output_type": "execute_result"
    }
   ],
   "source": [
    "noticia_a = url_noticias[4]\n",
    "response = crawler.start_request(noticia_a)\n",
    "noticia_dict = {'url': noticia_a}\n",
    "noticia_a\n"
   ]
  },
  {
   "cell_type": "code",
   "execution_count": 10,
   "metadata": {},
   "outputs": [
    {
     "data": {
      "text/plain": [
       "'Muere la reconocida escritora española Almudena Grandes a los 61 años'"
      ]
     },
     "execution_count": 10,
     "metadata": {},
     "output_type": "execute_result"
    }
   ],
   "source": [
    "QUERY_TITLE = \"//h1[@class='main-single-header__title']/text()\"\n",
    "noticia_dict['title'] = response.html.xpath(QUERY_TITLE)[0]\n",
    "response.html.xpath(QUERY_TITLE)[0]\n"
   ]
  },
  {
   "cell_type": "code",
   "execution_count": 13,
   "metadata": {},
   "outputs": [
    {
     "data": {
      "text/plain": [
       "'La escritora murió a los 61 años a causa del cáncer que dio a conocer en una  columna publicada en el diario El País. El presidente del gobierno español, Pedro Sánchez y el artista Alejandro Sanz lamentaron su partida a través de redes sociales. '"
      ]
     },
     "execution_count": 13,
     "metadata": {},
     "output_type": "execute_result"
    }
   ],
   "source": [
    "QUERY_BAJADA = \"//div[@class='main-single-header__excerpt']//p/text()\"\n",
    "noticia_dict['text'] = re.sub(\n",
    "    u'\\xa0', u' ', response.html.xpath(QUERY_BAJADA)[0])\n",
    "noticia_dict['text']"
   ]
  },
  {
   "cell_type": "code",
   "execution_count": 14,
   "metadata": {},
   "outputs": [
    {
     "data": {
      "text/plain": [
       "('(CNN Español) ',\n",
       " '– ',\n",
       " 'La reconocida escritora española Almudena Grandes falleció este sábado, así lo confirmó El País, diario en el cual Grandes se desempeñaba como columnista.')"
      ]
     },
     "execution_count": 14,
     "metadata": {},
     "output_type": "execute_result"
    }
   ],
   "source": [
    "QUERY_CONTENT = \"//div[@class='main-single-body__content']//p\"\n",
    "new_lines = response.html.xpath(QUERY_CONTENT)[0].text.splitlines()\n",
    "re.match(r'^(.*)(– )(.*)', new_lines[0]).groups()"
   ]
  },
  {
   "cell_type": "code",
   "execution_count": 15,
   "metadata": {},
   "outputs": [],
   "source": [
    "lines = [line.text for line in response.html.xpath(QUERY_CONTENT)]\n",
    "new_lines = [re.sub(u'\\xa0', u' ', line)\n",
    "             for line in lines if not line.startswith('Lee también:')]\n",
    "new_lines[0] = re.match(r'^(.*– )?(.*)', new_lines[0]).groups()[1]\n",
    "noticia_dict['text'] += ' '.join(new_lines)"
   ]
  },
  {
   "cell_type": "code",
   "execution_count": 16,
   "metadata": {},
   "outputs": [
    {
     "data": {
      "text/plain": [
       "{'url': 'https://www.cnnchile.com/cultura/muere-almudena-grandes-a-los-61-anos_20211127/',\n",
       " 'title': 'Muere la reconocida escritora española Almudena Grandes a los 61 años',\n",
       " 'text': 'La escritora murió a los 61 años a causa del cáncer que dio a conocer en una  columna publicada en el diario El País. El presidente del gobierno español, Pedro Sánchez y el artista Alejandro Sanz lamentaron su partida a través de redes sociales. La reconocida escritora española Almudena Grandes falleció este sábado, así lo confirmó El País, diario en el cual Grandes se desempeñaba como columnista. Grandes, de 61 años, murió debido a un cáncer que ella mismo dio a conocer a través de una de sus columnas. La autora de “Las edades de Lulú” y “La madre de Frankestein” era una de las escritoras españolas más prolíferas de los últimos años. Fue ganadora de varios galardones, entre ellos el Premio Nacional de Narrativa en 2018 en España y el Premio Iberoamericano de Novela Elena Poniatowska. Su muerte causó la reacción inmediata de varias figuras de la literatura, la música y políticos. El presidente del gobierno español, Pedro Sánchez, lamentó perder a “una de las escritoras referentes de nuestro tiempo. Comprometida, valiente, que ha narrado nuestra historia reciente desde una mirada progresista” Perdemos a una de las escritoras referentes de nuestro tiempo. Comprometida y valiente, que ha narrado nuestra historia reciente desde una mirada progresista. Tu recuerdo, tu obra, siempre estará con nosotros, Almudena Grandes. Un abrazo a su familia y seres queridos. pic.twitter.com/m8N7qlBNKr — Pedro Sánchez (@sanchezcastejon) November 27, 2021  Así mismo, el cantautor Alejandro Sanz, lamentó su muerte a través de su cuenta de Twitter: “Tu ser, tus palabras, tus novelas… te hacen eterna”. Hoy todos tenemos el corazón helado.\\nTu ser, tus palabras,tus novelas…te hacen eterna. Gracias por todo lo que nos has regalado. Un abrazo a todos los seres queridos de Almudena Grandes 🙏❤️ — Alejandro Sanz (@AlejandroSanz) November 27, 2021 '}"
      ]
     },
     "execution_count": 16,
     "metadata": {},
     "output_type": "execute_result"
    }
   ],
   "source": [
    "noticia_dict"
   ]
  },
  {
   "cell_type": "code",
   "execution_count": null,
   "metadata": {},
   "outputs": [],
   "source": [
    "noticias_cultura = []\n",
    "_id = STARTING_ID_CULTURA\n",
    "for i, url in enumerate(tqdm(url_noticias)):\n",
    "    _id = STARTING_ID_CULTURA + i\n",
    "    response = crawler.start_request(url)\n",
    "    _dict = {'id': _id,\n",
    "             'url':  url}\n",
    "    _dict['title'] = response.html.xpath(QUERY_TITLE)[0]\n",
    "    _dict['text'] = re.sub(u'\\xa0', u' ', response.html.xpath(QUERY_BAJADA)[0])\n",
    "    lines = [line.text for line in response.html.xpath(QUERY_CONTENT)]\n",
    "    new_lines = [re.sub(u'\\xa0', u' ', line)\n",
    "                 for line in lines if not line.startswith('Lee también:')]\n",
    "    new_lines[0] = re.match(r'^(.*– )?(.*)', new_lines[0]).groups()[1]\n",
    "    _dict['text'] += ' '.join(new_lines)\n",
    "    noticias_cultura.append(_dict)\n",
    "    sleep(5)\n",
    "noticias_cultura[:3]\n"
   ]
  },
  {
   "cell_type": "code",
   "execution_count": 115,
   "metadata": {},
   "outputs": [
    {
     "data": {
      "text/html": [
       "<div>\n",
       "<style scoped>\n",
       "    .dataframe tbody tr th:only-of-type {\n",
       "        vertical-align: middle;\n",
       "    }\n",
       "\n",
       "    .dataframe tbody tr th {\n",
       "        vertical-align: top;\n",
       "    }\n",
       "\n",
       "    .dataframe thead th {\n",
       "        text-align: right;\n",
       "    }\n",
       "</style>\n",
       "<table border=\"1\" class=\"dataframe\">\n",
       "  <thead>\n",
       "    <tr style=\"text-align: right;\">\n",
       "      <th></th>\n",
       "      <th>id</th>\n",
       "      <th>url</th>\n",
       "      <th>title</th>\n",
       "      <th>text</th>\n",
       "    </tr>\n",
       "  </thead>\n",
       "  <tbody>\n",
       "    <tr>\n",
       "      <th>0</th>\n",
       "      <td>18000000</td>\n",
       "      <td>https://www.cnnchile.com/cultura/musico-joan-m...</td>\n",
       "      <td>Joan Manuel Serrat anunció su retiro</td>\n",
       "      <td>La despedida del artista comenzará en el Beaco...</td>\n",
       "    </tr>\n",
       "    <tr>\n",
       "      <th>1</th>\n",
       "      <td>18000001</td>\n",
       "      <td>https://www.cnnchile.com/cultura/rihanna-obtie...</td>\n",
       "      <td>Rihanna obtiene la designación de “heroína nac...</td>\n",
       "      <td>La cantante fue homenajeada en su país natal, ...</td>\n",
       "    </tr>\n",
       "    <tr>\n",
       "      <th>2</th>\n",
       "      <td>18000002</td>\n",
       "      <td>https://www.cnnchile.com/cultura/400-peliculas...</td>\n",
       "      <td>Desde “El Húsar de la Muerte” hasta la actuali...</td>\n",
       "      <td>La cineteca de la casa de estudios celebra 60 ...</td>\n",
       "    </tr>\n",
       "    <tr>\n",
       "      <th>3</th>\n",
       "      <td>18000003</td>\n",
       "      <td>https://www.cnnchile.com/cultura/cordillera-su...</td>\n",
       "      <td>“La cordillera de los sueños”, de Patricio Guz...</td>\n",
       "      <td>La 36ª edición de los Premios Goya se realizar...</td>\n",
       "    </tr>\n",
       "    <tr>\n",
       "      <th>4</th>\n",
       "      <td>18000004</td>\n",
       "      <td>https://www.cnnchile.com/cultura/muere-almuden...</td>\n",
       "      <td>Muere la reconocida escritora española Almuden...</td>\n",
       "      <td>La escritora murió a los 61 años a causa del c...</td>\n",
       "    </tr>\n",
       "    <tr>\n",
       "      <th>...</th>\n",
       "      <td>...</td>\n",
       "      <td>...</td>\n",
       "      <td>...</td>\n",
       "      <td>...</td>\n",
       "    </tr>\n",
       "    <tr>\n",
       "      <th>359</th>\n",
       "      <td>18000359</td>\n",
       "      <td>https://www.cnnchile.com/cultura/calamaro-mon-...</td>\n",
       "      <td>“Dios los Cría”: Calamaro invita a Mon Laferte...</td>\n",
       "      <td>La chilena interpretará \"Tantas veces\" junto a...</td>\n",
       "    </tr>\n",
       "    <tr>\n",
       "      <th>360</th>\n",
       "      <td>18000360</td>\n",
       "      <td>https://www.cnnchile.com/cultura/paloma-mami-v...</td>\n",
       "      <td>“Qué Weá”: Paloma Mami se reivindica como chil...</td>\n",
       "      <td>La cantante participó en la dirección del vide...</td>\n",
       "    </tr>\n",
       "    <tr>\n",
       "      <th>361</th>\n",
       "      <td>18000361</td>\n",
       "      <td>https://www.cnnchile.com/cultura/ellen-degener...</td>\n",
       "      <td>Ellen DeGeneres informó que planea terminar su...</td>\n",
       "      <td>La popular animadora explicó que \"cuando eres ...</td>\n",
       "    </tr>\n",
       "    <tr>\n",
       "      <th>362</th>\n",
       "      <td>18000362</td>\n",
       "      <td>https://www.cnnchile.com/cultura/entrevista-do...</td>\n",
       "      <td>Los poemas en la UCI del Dr. Glenn Hernández: ...</td>\n",
       "      <td>Casi un año antes del primer muerto por la pan...</td>\n",
       "    </tr>\n",
       "    <tr>\n",
       "      <th>363</th>\n",
       "      <td>18000363</td>\n",
       "      <td>https://www.cnnchile.com/cultura/adelanto-veno...</td>\n",
       "      <td>Nueva película de “Venom” estrena adelanto con...</td>\n",
       "      <td>La secuela de la cinta estrenada en 2018 nos r...</td>\n",
       "    </tr>\n",
       "  </tbody>\n",
       "</table>\n",
       "<p>364 rows × 4 columns</p>\n",
       "</div>"
      ],
      "text/plain": [
       "           id                                                url  \\\n",
       "0    18000000  https://www.cnnchile.com/cultura/musico-joan-m...   \n",
       "1    18000001  https://www.cnnchile.com/cultura/rihanna-obtie...   \n",
       "2    18000002  https://www.cnnchile.com/cultura/400-peliculas...   \n",
       "3    18000003  https://www.cnnchile.com/cultura/cordillera-su...   \n",
       "4    18000004  https://www.cnnchile.com/cultura/muere-almuden...   \n",
       "..        ...                                                ...   \n",
       "359  18000359  https://www.cnnchile.com/cultura/calamaro-mon-...   \n",
       "360  18000360  https://www.cnnchile.com/cultura/paloma-mami-v...   \n",
       "361  18000361  https://www.cnnchile.com/cultura/ellen-degener...   \n",
       "362  18000362  https://www.cnnchile.com/cultura/entrevista-do...   \n",
       "363  18000363  https://www.cnnchile.com/cultura/adelanto-veno...   \n",
       "\n",
       "                                                 title  \\\n",
       "0                 Joan Manuel Serrat anunció su retiro   \n",
       "1    Rihanna obtiene la designación de “heroína nac...   \n",
       "2    Desde “El Húsar de la Muerte” hasta la actuali...   \n",
       "3    “La cordillera de los sueños”, de Patricio Guz...   \n",
       "4    Muere la reconocida escritora española Almuden...   \n",
       "..                                                 ...   \n",
       "359  “Dios los Cría”: Calamaro invita a Mon Laferte...   \n",
       "360  “Qué Weá”: Paloma Mami se reivindica como chil...   \n",
       "361  Ellen DeGeneres informó que planea terminar su...   \n",
       "362  Los poemas en la UCI del Dr. Glenn Hernández: ...   \n",
       "363  Nueva película de “Venom” estrena adelanto con...   \n",
       "\n",
       "                                                  text  \n",
       "0    La despedida del artista comenzará en el Beaco...  \n",
       "1    La cantante fue homenajeada en su país natal, ...  \n",
       "2    La cineteca de la casa de estudios celebra 60 ...  \n",
       "3    La 36ª edición de los Premios Goya se realizar...  \n",
       "4    La escritora murió a los 61 años a causa del c...  \n",
       "..                                                 ...  \n",
       "359  La chilena interpretará \"Tantas veces\" junto a...  \n",
       "360  La cantante participó en la dirección del vide...  \n",
       "361  La popular animadora explicó que \"cuando eres ...  \n",
       "362  Casi un año antes del primer muerto por la pan...  \n",
       "363  La secuela de la cinta estrenada en 2018 nos r...  \n",
       "\n",
       "[364 rows x 4 columns]"
      ]
     },
     "execution_count": 115,
     "metadata": {},
     "output_type": "execute_result"
    }
   ],
   "source": [
    "df = pd.DataFrame(noticias_cultura)\n",
    "df"
   ]
  },
  {
   "cell_type": "code",
   "execution_count": 116,
   "metadata": {},
   "outputs": [],
   "source": [
    "df.to_csv('extra_cultura.csv', index=False)"
   ]
  },
  {
   "cell_type": "code",
   "execution_count": 19,
   "metadata": {},
   "outputs": [],
   "source": [
    "# trabajo manual, buscar tags que puedan estar relacionados con ecologia y planeta\n",
    "tags_ecologia_planeta = [('animales', 8),            # total 19\n",
    "                         ('maltrato-animal', 4),     # total 6\n",
    "                         ('especies', 2),            # total 2\n",
    "                         ('crisis-climatica', 4),    # total 4\n",
    "                         ('cambio-climatico', 4),    # total 34\n",
    "                         ('emergencia-climatica', 3),# total 3\n",
    "                         ('vida-silvestre', 1),      # total 1\n",
    "                         ('humedales', 1),            # total 1\n",
    "                         ('fauna', 5),               # total 5\n",
    "                         ('medioambiente', 5),       # total 8\n",
    "                         ('medio-ambiente', 5),      # total 22\n",
    "                         #('greta_thornberryXD', 7),\n",
    "                         ]"
   ]
  },
  {
   "cell_type": "code",
   "execution_count": 20,
   "metadata": {},
   "outputs": [],
   "source": [
    "\n",
    "QUERY_CONTENT = \"//div[@class='main-single-body__content']//p\"\n",
    "QUERY_TITLE = \"//h1[@class='main-single-header__title']/text()\"\n",
    "QUERY_BAJADA = \"//div[@class='main-single-header__excerpt']//p/text()\""
   ]
  },
  {
   "cell_type": "code",
   "execution_count": 21,
   "metadata": {},
   "outputs": [
    {
     "name": "stderr",
     "output_type": "stream",
     "text": [
      "100%|██████████| 11/11 [00:36<00:00,  3.28s/it]"
     ]
    },
    {
     "name": "stdout",
     "output_type": "stream",
     "text": [
      "420\n"
     ]
    },
    {
     "name": "stderr",
     "output_type": "stream",
     "text": [
      "\n"
     ]
    },
    {
     "data": {
      "text/plain": [
       "383"
      ]
     },
     "execution_count": 21,
     "metadata": {},
     "output_type": "execute_result"
    }
   ],
   "source": [
    "# obtener las url de las noticias relacionadas con la categoria\n",
    "url_noticias = []\n",
    "STARTING_ID_PLANETA = 19000000\n",
    "\n",
    "for (tag_name, num_pages) in tqdm(tags_ecologia_planeta):\n",
    "    SEED_CRAWL = f'https://www.cnnchile.com/tag/{tag_name}/page/'\n",
    "    QUERY_URL = \"//h2[@class='inner-item__title']//a/@href\"\n",
    "    crawler = Crawler()\n",
    "    for page in range(1, num_pages+1):\n",
    "        response = crawler.start_request(SEED_CRAWL + str(page))\n",
    "        crawler.parse(response)\n",
    "        noticias = [obj['url'] for obj in crawler.all_json_to_send]\n",
    "        url_noticias += noticias\n",
    "\n",
    "print(len(url_noticias))\n",
    "url_noticias = list(set(url_noticias))  # eliminar posibles duplicados\n",
    "len(url_noticias)\n"
   ]
  },
  {
   "cell_type": "code",
   "execution_count": 22,
   "metadata": {},
   "outputs": [
    {
     "name": "stderr",
     "output_type": "stream",
     "text": [
      " 40%|████      | 155/383 [15:05<22:11,  5.84s/it]\n"
     ]
    },
    {
     "ename": "IndexError",
     "evalue": "list index out of range",
     "output_type": "error",
     "traceback": [
      "\u001b[0;31m---------------------------------------------------------------------------\u001b[0m",
      "\u001b[0;31mIndexError\u001b[0m                                Traceback (most recent call last)",
      "\u001b[0;32m/tmp/ipykernel_5052/2466569226.py\u001b[0m in \u001b[0;36m<module>\u001b[0;34m\u001b[0m\n\u001b[1;32m      6\u001b[0m     _dict = {'id': _id,\n\u001b[1;32m      7\u001b[0m              'url':  url}\n\u001b[0;32m----> 8\u001b[0;31m     \u001b[0m_dict\u001b[0m\u001b[0;34m[\u001b[0m\u001b[0;34m'title'\u001b[0m\u001b[0;34m]\u001b[0m \u001b[0;34m=\u001b[0m \u001b[0mresponse\u001b[0m\u001b[0;34m.\u001b[0m\u001b[0mhtml\u001b[0m\u001b[0;34m.\u001b[0m\u001b[0mxpath\u001b[0m\u001b[0;34m(\u001b[0m\u001b[0mQUERY_TITLE\u001b[0m\u001b[0;34m)\u001b[0m\u001b[0;34m[\u001b[0m\u001b[0;36m0\u001b[0m\u001b[0;34m]\u001b[0m\u001b[0;34m\u001b[0m\u001b[0;34m\u001b[0m\u001b[0m\n\u001b[0m\u001b[1;32m      9\u001b[0m     \u001b[0m_dict\u001b[0m\u001b[0;34m[\u001b[0m\u001b[0;34m'text'\u001b[0m\u001b[0;34m]\u001b[0m \u001b[0;34m=\u001b[0m \u001b[0mre\u001b[0m\u001b[0;34m.\u001b[0m\u001b[0msub\u001b[0m\u001b[0;34m(\u001b[0m\u001b[0;34mu'\\xa0'\u001b[0m\u001b[0;34m,\u001b[0m \u001b[0;34mu' '\u001b[0m\u001b[0;34m,\u001b[0m \u001b[0mresponse\u001b[0m\u001b[0;34m.\u001b[0m\u001b[0mhtml\u001b[0m\u001b[0;34m.\u001b[0m\u001b[0mxpath\u001b[0m\u001b[0;34m(\u001b[0m\u001b[0mQUERY_BAJADA\u001b[0m\u001b[0;34m)\u001b[0m\u001b[0;34m[\u001b[0m\u001b[0;36m0\u001b[0m\u001b[0;34m]\u001b[0m\u001b[0;34m)\u001b[0m\u001b[0;34m\u001b[0m\u001b[0;34m\u001b[0m\u001b[0m\n\u001b[1;32m     10\u001b[0m     \u001b[0mlines\u001b[0m \u001b[0;34m=\u001b[0m \u001b[0;34m[\u001b[0m\u001b[0mline\u001b[0m\u001b[0;34m.\u001b[0m\u001b[0mtext\u001b[0m \u001b[0;32mfor\u001b[0m \u001b[0mline\u001b[0m \u001b[0;32min\u001b[0m \u001b[0mresponse\u001b[0m\u001b[0;34m.\u001b[0m\u001b[0mhtml\u001b[0m\u001b[0;34m.\u001b[0m\u001b[0mxpath\u001b[0m\u001b[0;34m(\u001b[0m\u001b[0mQUERY_CONTENT\u001b[0m\u001b[0;34m)\u001b[0m\u001b[0;34m]\u001b[0m\u001b[0;34m\u001b[0m\u001b[0;34m\u001b[0m\u001b[0m\n",
      "\u001b[0;31mIndexError\u001b[0m: list index out of range"
     ]
    }
   ],
   "source": [
    "# obtener las noticias en si\n",
    "noticias_planeta = []\n",
    "for i, url in enumerate(tqdm(url_noticias)):\n",
    "    # algunas noticias son de futuro360 y con esas se muere\n",
    "    # no se si hay mas sitios distintos a cnn asi que su match noma\n",
    "    if re.match(r'^.*//www.(\\w+)\\..*', url).groups()[0] == 'cnnchile':\n",
    "        _id = STARTING_ID_PLANETA + i\n",
    "        response = crawler.start_request(url)\n",
    "        _dict = {'id': _id,\n",
    "                'url':  url}\n",
    "        _dict['title'] = response.html.xpath(QUERY_TITLE)[0]\n",
    "        _dict['text'] = re.sub(u'\\xa0', u' ', response.html.xpath(QUERY_BAJADA)[0])\n",
    "        lines = [line.text for line in response.html.xpath(QUERY_CONTENT)]\n",
    "        new_lines = [re.sub(u'\\xa0', u' ', line)\n",
    "                    for line in lines if not line.startswith('Lee también:')]\n",
    "        new_lines[0] = re.match(r'^(.*– )?(.*)', new_lines[0]).groups()[1]\n",
    "        _dict['text'] += ' '.join(new_lines)\n",
    "        noticias_planeta.append(_dict)\n",
    "        sleep(5) # porsiaca\n",
    "noticias_planeta[:3]"
   ]
  },
  {
   "cell_type": "code",
   "execution_count": 30,
   "metadata": {},
   "outputs": [
    {
     "data": {
      "text/plain": [
       "381"
      ]
     },
     "execution_count": 30,
     "metadata": {},
     "output_type": "execute_result"
    }
   ],
   "source": [
    "len(noticias_planeta)"
   ]
  },
  {
   "cell_type": "code",
   "execution_count": 31,
   "metadata": {},
   "outputs": [
    {
     "data": {
      "text/html": [
       "<div>\n",
       "<style scoped>\n",
       "    .dataframe tbody tr th:only-of-type {\n",
       "        vertical-align: middle;\n",
       "    }\n",
       "\n",
       "    .dataframe tbody tr th {\n",
       "        vertical-align: top;\n",
       "    }\n",
       "\n",
       "    .dataframe thead th {\n",
       "        text-align: right;\n",
       "    }\n",
       "</style>\n",
       "<table border=\"1\" class=\"dataframe\">\n",
       "  <thead>\n",
       "    <tr style=\"text-align: right;\">\n",
       "      <th></th>\n",
       "      <th>id</th>\n",
       "      <th>url</th>\n",
       "      <th>title</th>\n",
       "      <th>text</th>\n",
       "    </tr>\n",
       "  </thead>\n",
       "  <tbody>\n",
       "    <tr>\n",
       "      <th>0</th>\n",
       "      <td>19000000</td>\n",
       "      <td>https://www.cnnchile.com/mundo/bolsonaro-maltr...</td>\n",
       "      <td>Ley contra el maltrato animal: Bolsonaro promu...</td>\n",
       "      <td>Antes de firmar la normativa, el presidente de...</td>\n",
       "    </tr>\n",
       "    <tr>\n",
       "      <th>1</th>\n",
       "      <td>19000001</td>\n",
       "      <td>https://www.cnnchile.com/pais/chile-ciudad-men...</td>\n",
       "      <td>Chile tiene la ciudad menos contaminada en Lat...</td>\n",
       "      <td>Así como tenemos 9 de las 10 ciudades más cont...</td>\n",
       "    </tr>\n",
       "    <tr>\n",
       "      <th>2</th>\n",
       "      <td>19000002</td>\n",
       "      <td>https://www.cnnchile.com/pais/rostros-marcha-c...</td>\n",
       "      <td>Los rostros de la marcha contra el cambio clim...</td>\n",
       "      <td>La sequía y el temor por el panorama que deber...</td>\n",
       "    </tr>\n",
       "    <tr>\n",
       "      <th>3</th>\n",
       "      <td>19000003</td>\n",
       "      <td>https://www.cnnchile.com/mundo/informe-ipcc-ca...</td>\n",
       "      <td>5 posibles escenarios climáticos que advierte ...</td>\n",
       "      <td>Olas de calor marina, fuertes precipitaciones ...</td>\n",
       "    </tr>\n",
       "    <tr>\n",
       "      <th>4</th>\n",
       "      <td>19000004</td>\n",
       "      <td>https://www.cnnchile.com/cop25/pinera-cop25-pa...</td>\n",
       "      <td>Pdte. Piñera tras COP25: “Los países que más c...</td>\n",
       "      <td>El mandatario fue enfático en señalar que “se ...</td>\n",
       "    </tr>\n",
       "    <tr>\n",
       "      <th>...</th>\n",
       "      <td>...</td>\n",
       "      <td>...</td>\n",
       "      <td>...</td>\n",
       "      <td>...</td>\n",
       "    </tr>\n",
       "    <tr>\n",
       "      <th>376</th>\n",
       "      <td>19000378</td>\n",
       "      <td>https://www.cnnchile.com/mundo/encontraron-un-...</td>\n",
       "      <td>Encontraron un pendrive en las fecas de una fo...</td>\n",
       "      <td>El hallazgo fue realizado por unos investigado...</td>\n",
       "    </tr>\n",
       "    <tr>\n",
       "      <th>377</th>\n",
       "      <td>19000379</td>\n",
       "      <td>https://www.cnnchile.com/pais/ministerio-medio...</td>\n",
       "      <td>Ministerio de Medio Ambiente lanzó estrategia ...</td>\n",
       "      <td>La jefa de la cartera, Carolina Schmidt, desta...</td>\n",
       "    </tr>\n",
       "    <tr>\n",
       "      <th>378</th>\n",
       "      <td>19000380</td>\n",
       "      <td>https://www.cnnchile.com/mundo/papa-francisco-...</td>\n",
       "      <td>Papa Francisco en el Día de la Tierra: “No ten...</td>\n",
       "      <td>El pontífice llamó a la humanidad a mantenerse...</td>\n",
       "    </tr>\n",
       "    <tr>\n",
       "      <th>379</th>\n",
       "      <td>19000381</td>\n",
       "      <td>https://www.cnnchile.com/lodijeronencnn/coment...</td>\n",
       "      <td>Raúl Sohr por informe de EE.UU. sobre el cambi...</td>\n",
       "      <td>El informe, realizado por los servicios de int...</td>\n",
       "    </tr>\n",
       "    <tr>\n",
       "      <th>380</th>\n",
       "      <td>19000382</td>\n",
       "      <td>https://www.cnnchile.com/lodijeronencnn/coment...</td>\n",
       "      <td>Raúl Sohr y declive de la vida silvestre que r...</td>\n",
       "      <td>El periodista entregó detalles sobre el último...</td>\n",
       "    </tr>\n",
       "  </tbody>\n",
       "</table>\n",
       "<p>381 rows × 4 columns</p>\n",
       "</div>"
      ],
      "text/plain": [
       "           id                                                url  \\\n",
       "0    19000000  https://www.cnnchile.com/mundo/bolsonaro-maltr...   \n",
       "1    19000001  https://www.cnnchile.com/pais/chile-ciudad-men...   \n",
       "2    19000002  https://www.cnnchile.com/pais/rostros-marcha-c...   \n",
       "3    19000003  https://www.cnnchile.com/mundo/informe-ipcc-ca...   \n",
       "4    19000004  https://www.cnnchile.com/cop25/pinera-cop25-pa...   \n",
       "..        ...                                                ...   \n",
       "376  19000378  https://www.cnnchile.com/mundo/encontraron-un-...   \n",
       "377  19000379  https://www.cnnchile.com/pais/ministerio-medio...   \n",
       "378  19000380  https://www.cnnchile.com/mundo/papa-francisco-...   \n",
       "379  19000381  https://www.cnnchile.com/lodijeronencnn/coment...   \n",
       "380  19000382  https://www.cnnchile.com/lodijeronencnn/coment...   \n",
       "\n",
       "                                                 title  \\\n",
       "0    Ley contra el maltrato animal: Bolsonaro promu...   \n",
       "1    Chile tiene la ciudad menos contaminada en Lat...   \n",
       "2    Los rostros de la marcha contra el cambio clim...   \n",
       "3    5 posibles escenarios climáticos que advierte ...   \n",
       "4    Pdte. Piñera tras COP25: “Los países que más c...   \n",
       "..                                                 ...   \n",
       "376  Encontraron un pendrive en las fecas de una fo...   \n",
       "377  Ministerio de Medio Ambiente lanzó estrategia ...   \n",
       "378  Papa Francisco en el Día de la Tierra: “No ten...   \n",
       "379  Raúl Sohr por informe de EE.UU. sobre el cambi...   \n",
       "380  Raúl Sohr y declive de la vida silvestre que r...   \n",
       "\n",
       "                                                  text  \n",
       "0    Antes de firmar la normativa, el presidente de...  \n",
       "1    Así como tenemos 9 de las 10 ciudades más cont...  \n",
       "2    La sequía y el temor por el panorama que deber...  \n",
       "3    Olas de calor marina, fuertes precipitaciones ...  \n",
       "4    El mandatario fue enfático en señalar que “se ...  \n",
       "..                                                 ...  \n",
       "376  El hallazgo fue realizado por unos investigado...  \n",
       "377  La jefa de la cartera, Carolina Schmidt, desta...  \n",
       "378  El pontífice llamó a la humanidad a mantenerse...  \n",
       "379  El informe, realizado por los servicios de int...  \n",
       "380  El periodista entregó detalles sobre el último...  \n",
       "\n",
       "[381 rows x 4 columns]"
      ]
     },
     "execution_count": 31,
     "metadata": {},
     "output_type": "execute_result"
    }
   ],
   "source": [
    "\n",
    "df = pd.DataFrame(noticias_planeta)\n",
    "df"
   ]
  },
  {
   "cell_type": "code",
   "execution_count": 32,
   "metadata": {},
   "outputs": [],
   "source": [
    "\n",
    "# este contiene noticias de un rango mayor de fechas\n",
    "# hacer un drop duplicates por title (y categoria) al momento de unir con el\n",
    "# ds original\n",
    "df.to_csv('extra_ecologia-planeta.csv', index=False)"
   ]
  },
  {
   "cell_type": "code",
   "execution_count": 5,
   "metadata": {},
   "outputs": [
    {
     "name": "stdout",
     "output_type": "stream",
     "text": [
      "45514\n"
     ]
    }
   ],
   "source": [
    "import pandas as pd\n",
    "df_paso3 = pd.read_csv('dataset_paso_3.csv')\n",
    "print(len(df_paso3))\n",
    "df_cultura = pd.read_csv('./extra_cultura.csv')\n",
    "df_cultura['content'] = df_cultura[['title', 'text']].agg('. '.join, axis=1)\n",
    "df_cultura['category'] = '6-Cultura_y_Artes'\n",
    "\n",
    "df_planeta = pd.read_csv('./extra_ecologia-planeta.csv')\n",
    "df_planeta['content'] = df_planeta[['title', 'text']].agg('. '.join, axis=1)\n",
    "df_planeta['category'] = '8-Ecología_y_Planeta'"
   ]
  },
  {
   "cell_type": "code",
   "execution_count": 6,
   "metadata": {},
   "outputs": [
    {
     "data": {
      "text/html": [
       "<div>\n",
       "<style scoped>\n",
       "    .dataframe tbody tr th:only-of-type {\n",
       "        vertical-align: middle;\n",
       "    }\n",
       "\n",
       "    .dataframe tbody tr th {\n",
       "        vertical-align: top;\n",
       "    }\n",
       "\n",
       "    .dataframe thead th {\n",
       "        text-align: right;\n",
       "    }\n",
       "</style>\n",
       "<table border=\"1\" class=\"dataframe\">\n",
       "  <thead>\n",
       "    <tr style=\"text-align: right;\">\n",
       "      <th></th>\n",
       "      <th>content</th>\n",
       "      <th>category</th>\n",
       "    </tr>\n",
       "  </thead>\n",
       "  <tbody>\n",
       "    <tr>\n",
       "      <th>0</th>\n",
       "      <td>Joan Manuel Serrat anunció su retiro. La despe...</td>\n",
       "      <td>6-Cultura_y_Artes</td>\n",
       "    </tr>\n",
       "    <tr>\n",
       "      <th>1</th>\n",
       "      <td>Rihanna obtiene la designación de “heroína nac...</td>\n",
       "      <td>6-Cultura_y_Artes</td>\n",
       "    </tr>\n",
       "    <tr>\n",
       "      <th>2</th>\n",
       "      <td>Desde “El Húsar de la Muerte” hasta la actuali...</td>\n",
       "      <td>6-Cultura_y_Artes</td>\n",
       "    </tr>\n",
       "    <tr>\n",
       "      <th>3</th>\n",
       "      <td>“La cordillera de los sueños”, de Patricio Guz...</td>\n",
       "      <td>6-Cultura_y_Artes</td>\n",
       "    </tr>\n",
       "    <tr>\n",
       "      <th>4</th>\n",
       "      <td>Muere la reconocida escritora española Almuden...</td>\n",
       "      <td>6-Cultura_y_Artes</td>\n",
       "    </tr>\n",
       "    <tr>\n",
       "      <th>...</th>\n",
       "      <td>...</td>\n",
       "      <td>...</td>\n",
       "    </tr>\n",
       "    <tr>\n",
       "      <th>359</th>\n",
       "      <td>“Dios los Cría”: Calamaro invita a Mon Laferte...</td>\n",
       "      <td>6-Cultura_y_Artes</td>\n",
       "    </tr>\n",
       "    <tr>\n",
       "      <th>360</th>\n",
       "      <td>“Qué Weá”: Paloma Mami se reivindica como chil...</td>\n",
       "      <td>6-Cultura_y_Artes</td>\n",
       "    </tr>\n",
       "    <tr>\n",
       "      <th>361</th>\n",
       "      <td>Ellen DeGeneres informó que planea terminar su...</td>\n",
       "      <td>6-Cultura_y_Artes</td>\n",
       "    </tr>\n",
       "    <tr>\n",
       "      <th>362</th>\n",
       "      <td>Los poemas en la UCI del Dr. Glenn Hernández: ...</td>\n",
       "      <td>6-Cultura_y_Artes</td>\n",
       "    </tr>\n",
       "    <tr>\n",
       "      <th>363</th>\n",
       "      <td>Nueva película de “Venom” estrena adelanto con...</td>\n",
       "      <td>6-Cultura_y_Artes</td>\n",
       "    </tr>\n",
       "  </tbody>\n",
       "</table>\n",
       "<p>364 rows × 2 columns</p>\n",
       "</div>"
      ],
      "text/plain": [
       "                                               content           category\n",
       "0    Joan Manuel Serrat anunció su retiro. La despe...  6-Cultura_y_Artes\n",
       "1    Rihanna obtiene la designación de “heroína nac...  6-Cultura_y_Artes\n",
       "2    Desde “El Húsar de la Muerte” hasta la actuali...  6-Cultura_y_Artes\n",
       "3    “La cordillera de los sueños”, de Patricio Guz...  6-Cultura_y_Artes\n",
       "4    Muere la reconocida escritora española Almuden...  6-Cultura_y_Artes\n",
       "..                                                 ...                ...\n",
       "359  “Dios los Cría”: Calamaro invita a Mon Laferte...  6-Cultura_y_Artes\n",
       "360  “Qué Weá”: Paloma Mami se reivindica como chil...  6-Cultura_y_Artes\n",
       "361  Ellen DeGeneres informó que planea terminar su...  6-Cultura_y_Artes\n",
       "362  Los poemas en la UCI del Dr. Glenn Hernández: ...  6-Cultura_y_Artes\n",
       "363  Nueva película de “Venom” estrena adelanto con...  6-Cultura_y_Artes\n",
       "\n",
       "[364 rows x 2 columns]"
      ]
     },
     "execution_count": 6,
     "metadata": {},
     "output_type": "execute_result"
    }
   ],
   "source": [
    "df_cultura[['content', 'category']]"
   ]
  },
  {
   "cell_type": "code",
   "execution_count": 7,
   "metadata": {},
   "outputs": [
    {
     "data": {
      "text/plain": [
       "46259"
      ]
     },
     "execution_count": 7,
     "metadata": {},
     "output_type": "execute_result"
    }
   ],
   "source": [
    "df_final = pd.concat([df_paso3, df_cultura, df_planeta])\n",
    "len(df_final)"
   ]
  },
  {
   "cell_type": "code",
   "execution_count": 8,
   "metadata": {},
   "outputs": [
    {
     "data": {
      "text/plain": [
       "46101"
      ]
     },
     "execution_count": 8,
     "metadata": {},
     "output_type": "execute_result"
    }
   ],
   "source": [
    "df_final.drop_duplicates(subset=['title'], keep='last', inplace=True)\n",
    "len(df_final)"
   ]
  },
  {
   "cell_type": "code",
   "execution_count": 9,
   "metadata": {},
   "outputs": [
    {
     "data": {
      "text/plain": [
       "category\n",
       "6-Cultura_y_Artes              1133\n",
       "8-Ecología_y_Planeta           1183\n",
       "5-Catástrofes_y_Accidentes     1243\n",
       "2-Economía                     2635\n",
       "10-Salud                       2683\n",
       "4-Ciencias_y_Tecnología        4773\n",
       "7-Deporte                      6702\n",
       "9-Crimen_delitos_y_Justicia    8212\n",
       "1-Mundo                        8586\n",
       "3-Política_y_Conflictos        8951\n",
       "dtype: int64"
      ]
     },
     "execution_count": 9,
     "metadata": {},
     "output_type": "execute_result"
    }
   ],
   "source": [
    "df_final.groupby(['category']).size().sort_values()"
   ]
  },
  {
   "cell_type": "code",
   "execution_count": 10,
   "metadata": {},
   "outputs": [],
   "source": [
    "df_final.to_csv('dataset_paso3d5.csv', index=False)"
   ]
  },
  {
   "cell_type": "code",
   "execution_count": null,
   "metadata": {},
   "outputs": [],
   "source": [
    "freno() # 3.5 v2"
   ]
  },
  {
   "cell_type": "code",
   "execution_count": 11,
   "metadata": {},
   "outputs": [
    {
     "name": "stdout",
     "output_type": "stream",
     "text": [
      "45514\n"
     ]
    },
    {
     "data": {
      "text/plain": [
       "45723"
      ]
     },
     "execution_count": 11,
     "metadata": {},
     "output_type": "execute_result"
    }
   ],
   "source": [
    "df_paso3 = pd.read_csv('dataset_paso_3.csv')\n",
    "print(len(df_paso3))\n",
    "df_cultura = pd.read_csv('./extra_cultura.csv')\n",
    "df_cultura['content'] = df_cultura[['title', 'text']].agg('. '.join, axis=1)\n",
    "df_cultura['category'] = '6-Cultura_y_Artes'\n",
    "df_final = pd.concat([df_paso3, df_cultura])\n",
    "df_final.drop_duplicates(subset=['title'], keep='last', inplace=True)\n",
    "df_final.to_csv('dataset_paso3d8.csv', index=False)\n",
    "len(df_final)"
   ]
  },
  {
   "cell_type": "code",
   "execution_count": 12,
   "metadata": {},
   "outputs": [
    {
     "name": "stdout",
     "output_type": "stream",
     "text": [
      "45514\n"
     ]
    },
    {
     "data": {
      "text/plain": [
       "45748"
      ]
     },
     "execution_count": 12,
     "metadata": {},
     "output_type": "execute_result"
    }
   ],
   "source": [
    "df_paso3 = pd.read_csv('dataset_paso_3.csv')\n",
    "print(len(df_paso3))\n",
    "df_planeta = pd.read_csv('./extra_ecologia-planeta.csv')\n",
    "df_planeta['content'] = df_planeta[['title', 'text']].agg('. '.join, axis=1)\n",
    "df_planeta['category'] = '8-Ecología_y_Planeta'\n",
    "df_final = pd.concat([df_paso3, df_planeta])\n",
    "df_final.drop_duplicates(subset=['title'], keep='last', inplace=True)\n",
    "df_final.to_csv('dataset_paso3d9.csv', index=False)\n",
    "len(df_final)"
   ]
  },
  {
   "cell_type": "code",
   "execution_count": null,
   "metadata": {},
   "outputs": [],
   "source": []
  }
 ],
 "metadata": {
  "kernelspec": {
   "display_name": "Python 3 (ipykernel)",
   "language": "python",
   "name": "python3"
  },
  "language_info": {
   "codemirror_mode": {
    "name": "ipython",
    "version": 3
   },
   "file_extension": ".py",
   "mimetype": "text/x-python",
   "name": "python",
   "nbconvert_exporter": "python",
   "pygments_lexer": "ipython3",
   "version": "3.9.7"
  },
  "toc": {
   "base_numbering": 1,
   "nav_menu": {},
   "number_sections": true,
   "sideBar": true,
   "skip_h1_title": false,
   "title_cell": "Table of Contents",
   "title_sidebar": "Contents",
   "toc_cell": false,
   "toc_position": {},
   "toc_section_display": true,
   "toc_window_display": false
  }
 },
 "nbformat": 4,
 "nbformat_minor": 2
}
