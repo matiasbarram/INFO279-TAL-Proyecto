{
 "cells": [
  {
   "cell_type": "markdown",
   "id": "a94198d3",
   "metadata": {},
   "source": [
    "**Proyecto en grupo (2 miembros) - opción A:** El proyecto en grupo consiste en entrenar y evaluar varios modelos de clasificación supervisada capaz de clasificar una noticia según la taxonomía siguiente: \n",
    "\n",
    "- 1- Mundo, 2- Economía, 3- Política y Conflictos, 4- Ciencias y Tecnología, 5- Catástrofes y Accidentes, 6- Cultura y Artes, 7- Deporte, 8- Ecología y Planeta, 9- Crimen, delitos y Justicia, 10- Salud\n",
    "\n",
    "Hito Unidad 1 (29 de septiembre): Datasets de entrenamiento y test + primer modelo baseline\n",
    "\n",
    "Hito Unidad 2 (27 de octubre): Implementación y experimentos de varios modelos de clasificación"
   ]
  },
  {
   "cell_type": "code",
   "execution_count": 1,
   "id": "4127bfa9",
   "metadata": {},
   "outputs": [
    {
     "data": {
      "text/plain": [
       "['https:',\n",
       " '',\n",
       " 'www.emol.com',\n",
       " 'noticias',\n",
       " 'Economia',\n",
       " '2021',\n",
       " '03',\n",
       " '01',\n",
       " '1013618',\n",
       " 'Impuesto-ultra-millonarios-Estados-Unidos.html']"
      ]
     },
     "execution_count": 1,
     "metadata": {},
     "output_type": "execute_result"
    }
   ],
   "source": [
    "import re\n",
    "\n",
    "linku = 'https://www.emol.com/noticias/Economia/2021/03/01/1013618/Impuesto-ultra-millonarios-Estados-Unidos.html'\n",
    "linku.split('/')"
   ]
  },
  {
   "cell_type": "code",
   "execution_count": 2,
   "id": "3bb99f61",
   "metadata": {},
   "outputs": [],
   "source": [
    "def get_tag(row):\n",
    "    if row.media_outlet == 'emol':\n",
    "        tag_idx = 4\n",
    "    else:\n",
    "        tag_idx = 3\n",
    "    link = row.url.split('/')\n",
    "    if link[tag_idx] == 'noticias' and link[tag_idx + 1] not in ['2020', '2021']:\n",
    "        return link[tag_idx + 1]\n",
    "    return link[tag_idx]\n",
    "\n",
    "def clean_df(df):\n",
    "    df.drop('year', inplace=True, axis=1)\n",
    "    df.drop('id_journalist', inplace=True, axis=1)\n",
    "    #print(corpus['media_outlet'].unique())\n",
    "    df['tag'] = df.apply(get_tag, axis=1)\n",
    "    df['text'] = df['text'].astype('string')\n",
    "    df = df[df['text'].notna()]\n",
    "    return df"
   ]
  },
  {
   "cell_type": "code",
   "execution_count": 3,
   "id": "56bec837",
   "metadata": {},
   "outputs": [
    {
     "name": "stderr",
     "output_type": "stream",
     "text": [
      "100%|█████████████████████████████████████████████| 8/8 [00:03<00:00,  2.31it/s]\n"
     ]
    }
   ],
   "source": [
    "import pandas as pd\n",
    "from os import listdir\n",
    "from os.path import join\n",
    "from tqdm import tqdm\n",
    "\n",
    "unique_tags = set()\n",
    "folder = './noticias'\n",
    "dfs = []\n",
    "for archivo in tqdm(listdir(folder)):\n",
    "    corpus = pd.read_csv(join(folder, archivo))\n",
    "    corpus = clean_df(corpus)\n",
    "    dfs.append(corpus)\n",
    "    #print(corpus.head())\n",
    "    #print(archivo, corpus.tag.unique())\n",
    "    for tag in corpus.tag.unique():\n",
    "        unique_tags.add(tag)"
   ]
  },
  {
   "cell_type": "code",
   "execution_count": 4,
   "id": "25acd30b",
   "metadata": {
    "scrolled": true
   },
   "outputs": [
    {
     "name": "stdout",
     "output_type": "stream",
     "text": [
      "84\n",
      "artes\n",
      "tv\n",
      "Espectaculos\n",
      "pulso\n",
      "mexico\n",
      "trabajo\n",
      "mundo\n",
      "calidad-de-vida\n",
      "Autos\n",
      "columnas\n",
      "tendencias\n",
      "la-tercera-pm\n",
      "eclipse-2020\n",
      "chile\n",
      "dia\n",
      "data\n",
      "genero\n",
      "pais\n",
      "peru\n",
      "Tecnologia\n",
      "la-tercera-tv\n",
      "especiales\n",
      "Internacional\n",
      "culto\n",
      "turismo\n",
      "noticiasbbc\n",
      "programas\n",
      "tecnologia-2\n",
      "negocios\n",
      "multimedia\n",
      "pulso-trader\n",
      "redes-sociales\n",
      "masdeco\n",
      "Tendencias\n",
      "que-pasa\n",
      "cultura\n",
      "el-semanal\n",
      "proceso-constituyente\n",
      "sin-editar\n",
      "sociedad\n",
      "ciencia-tecnologia\n",
      "portada\n",
      "plebiscito-chile-elige\n",
      "pueblos\n",
      "opinion\n",
      "primarias-2020\n",
      "regiones\n",
      "noticias\n",
      "editorial\n",
      "reconstitucion\n",
      "mouse\n",
      "economia\n",
      "internacional\n",
      "la-tercera-domingo\n",
      "podcast\n",
      "tesirve\n",
      "actualidad\n",
      "el-deportivo\n",
      "cartas-ciudadanas\n",
      "reportaje-investigacion\n",
      "coronavirus\n",
      "braga\n",
      "latinoamerica\n",
      "wires\n",
      "ciudadanos-al-poder\n",
      "medio-ambiente\n",
      "Deportes\n",
      "justicia\n",
      "politica\n",
      "animal\n",
      "mapuche\n",
      "nacional\n",
      "paula\n",
      "salud\n",
      "deportes\n",
      "mineria\n",
      "Economia\n",
      "mercados\n",
      "Nacional\n",
      "revista-que-pasa\n",
      "destacado\n",
      "educacion\n",
      "derechos-humanos\n",
      "conversacioneslt\n"
     ]
    }
   ],
   "source": [
    "print(len(unique_tags))\n",
    "for tag in unique_tags:\n",
    "    print(tag)"
   ]
  },
  {
   "cell_type": "code",
   "execution_count": 5,
   "id": "0c95477f",
   "metadata": {},
   "outputs": [],
   "source": [
    "dm = pd.read_csv('./categorias - hojav2.csv')\n",
    "dm.rename(columns={'Unnamed: 0':'tag'}, inplace=True)\n",
    "vals = dm.iloc[:, 1:]\n",
    "labels = vals[vals.max(axis=1)>0].idxmax(axis=1)"
   ]
  },
  {
   "cell_type": "code",
   "execution_count": 6,
   "id": "05be9c30",
   "metadata": {},
   "outputs": [
    {
     "data": {
      "text/plain": [
       "{'animal': '8-Ecología_y_Planeta',\n",
       " 'artes': '6-Cultura_y_Artes',\n",
       " 'Autos': '4-Ciencias_y_Tecnología',\n",
       " 'braga': '3-Política_y_Conflictos',\n",
       " 'ciencia-tecnologia': '4-Ciencias_y_Tecnología',\n",
       " 'coronavirus': '10-Salud',\n",
       " 'culto': '6-Cultura_y_Artes',\n",
       " 'cultura': '6-Cultura_y_Artes',\n",
       " 'Deportes': '7-Deporte',\n",
       " 'deportes': '7-Deporte',\n",
       " 'eclipse-2020': '8-Ecología_y_Planeta',\n",
       " 'Economia': '2-Economía',\n",
       " 'economia': '2-Economía',\n",
       " 'el-deportivo': '7-Deporte',\n",
       " 'Espectaculos': '6-Cultura_y_Artes',\n",
       " 'Internacional': '1-Mundo',\n",
       " 'internacional': '1-Mundo',\n",
       " 'justicia': '9-Crimen_delitos_y_Justicia',\n",
       " 'la-tercera-domingo': '6-Cultura_y_Artes',\n",
       " 'la-tercera-tv': '2-Economía',\n",
       " 'latinoamerica': '1-Mundo',\n",
       " 'mapuche': '3-Política_y_Conflictos',\n",
       " 'medio-ambiente': '8-Ecología_y_Planeta',\n",
       " 'mercados': '2-Economía',\n",
       " 'mexico': '1-Mundo',\n",
       " 'mineria': '3-Política_y_Conflictos',\n",
       " 'mouse': '4-Ciencias_y_Tecnología',\n",
       " 'multimedia': '4-Ciencias_y_Tecnología',\n",
       " 'mundo': '1-Mundo',\n",
       " 'negocios': '9-Crimen_delitos_y_Justicia',\n",
       " 'paula': '4-Ciencias_y_Tecnología',\n",
       " 'plebiscito-chile-elige': '3-Política_y_Conflictos',\n",
       " 'politica': '3-Política_y_Conflictos',\n",
       " 'pueblos': '1-Mundo',\n",
       " 'redes-sociales': '4-Ciencias_y_Tecnología',\n",
       " 'regiones': '3-Política_y_Conflictos',\n",
       " 'salud': '10-Salud',\n",
       " 'Tecnologia': '4-Ciencias_y_Tecnología',\n",
       " 'tecnologia-2': '4-Ciencias_y_Tecnología',\n",
       " 'wires': '1-Mundo'}"
      ]
     },
     "execution_count": 6,
     "metadata": {},
     "output_type": "execute_result"
    }
   ],
   "source": [
    "cats = pd.DataFrame(labels)\n",
    "cats = cats.join(dm['tag'])\n",
    "cats.rename(columns={0:'cat'}, inplace=True)\n",
    "cats_dict = dict(zip(cats['tag'], cats['cat']))\n",
    "cats_dict"
   ]
  },
  {
   "cell_type": "code",
   "execution_count": 7,
   "id": "11780624",
   "metadata": {},
   "outputs": [
    {
     "data": {
      "text/html": [
       "<div>\n",
       "<style scoped>\n",
       "    .dataframe tbody tr th:only-of-type {\n",
       "        vertical-align: middle;\n",
       "    }\n",
       "\n",
       "    .dataframe tbody tr th {\n",
       "        vertical-align: top;\n",
       "    }\n",
       "\n",
       "    .dataframe thead th {\n",
       "        text-align: right;\n",
       "    }\n",
       "</style>\n",
       "<table border=\"1\" class=\"dataframe\">\n",
       "  <thead>\n",
       "    <tr style=\"text-align: right;\">\n",
       "      <th></th>\n",
       "      <th>id</th>\n",
       "      <th>text</th>\n",
       "      <th>category</th>\n",
       "    </tr>\n",
       "  </thead>\n",
       "  <tbody>\n",
       "    <tr>\n",
       "      <th>14</th>\n",
       "      <td>13115</td>\n",
       "      <td>Este martes, el Presidente Sebastián Piñera a...</td>\n",
       "      <td>10-Salud</td>\n",
       "    </tr>\n",
       "    <tr>\n",
       "      <th>18</th>\n",
       "      <td>13183</td>\n",
       "      <td>La aduana china detectó la presencia del virus...</td>\n",
       "      <td>10-Salud</td>\n",
       "    </tr>\n",
       "    <tr>\n",
       "      <th>125</th>\n",
       "      <td>614680</td>\n",
       "      <td>El presidente de México, Andrés Manuel López O...</td>\n",
       "      <td>1-Mundo</td>\n",
       "    </tr>\n",
       "    <tr>\n",
       "      <th>126</th>\n",
       "      <td>614690</td>\n",
       "      <td>El presidente de Uruguay, Luis Lacalle Pou, an...</td>\n",
       "      <td>1-Mundo</td>\n",
       "    </tr>\n",
       "    <tr>\n",
       "      <th>127</th>\n",
       "      <td>614700</td>\n",
       "      <td>El presidente boliviano, Luis Arce, destituyó ...</td>\n",
       "      <td>1-Mundo</td>\n",
       "    </tr>\n",
       "    <tr>\n",
       "      <th>...</th>\n",
       "      <td>...</td>\n",
       "      <td>...</td>\n",
       "      <td>...</td>\n",
       "    </tr>\n",
       "    <tr>\n",
       "      <th>2652</th>\n",
       "      <td>17781918</td>\n",
       "      <td>Con la era de los eVTOL (vehículos eléctricos ...</td>\n",
       "      <td>4-Ciencias_y_Tecnología</td>\n",
       "    </tr>\n",
       "    <tr>\n",
       "      <th>2653</th>\n",
       "      <td>17781934</td>\n",
       "      <td>El famoso piloto  Ken Block  decidió llevar a ...</td>\n",
       "      <td>4-Ciencias_y_Tecnología</td>\n",
       "    </tr>\n",
       "    <tr>\n",
       "      <th>2654</th>\n",
       "      <td>17781979</td>\n",
       "      <td>El fabricante de autos japonés Toyota celebra ...</td>\n",
       "      <td>4-Ciencias_y_Tecnología</td>\n",
       "    </tr>\n",
       "    <tr>\n",
       "      <th>2655</th>\n",
       "      <td>17781982</td>\n",
       "      <td>La temporada 2021 del Copec RallyMobil inició ...</td>\n",
       "      <td>4-Ciencias_y_Tecnología</td>\n",
       "    </tr>\n",
       "    <tr>\n",
       "      <th>2656</th>\n",
       "      <td>17782006</td>\n",
       "      <td>Hyundai, Toyota y M-Sport, los tres fabricante...</td>\n",
       "      <td>4-Ciencias_y_Tecnología</td>\n",
       "    </tr>\n",
       "  </tbody>\n",
       "</table>\n",
       "<p>25251 rows × 3 columns</p>\n",
       "</div>"
      ],
      "text/plain": [
       "            id                                               text  \\\n",
       "14       13115   Este martes, el Presidente Sebastián Piñera a...   \n",
       "18       13183  La aduana china detectó la presencia del virus...   \n",
       "125     614680  El presidente de México, Andrés Manuel López O...   \n",
       "126     614690  El presidente de Uruguay, Luis Lacalle Pou, an...   \n",
       "127     614700  El presidente boliviano, Luis Arce, destituyó ...   \n",
       "...        ...                                                ...   \n",
       "2652  17781918  Con la era de los eVTOL (vehículos eléctricos ...   \n",
       "2653  17781934  El famoso piloto  Ken Block  decidió llevar a ...   \n",
       "2654  17781979  El fabricante de autos japonés Toyota celebra ...   \n",
       "2655  17781982  La temporada 2021 del Copec RallyMobil inició ...   \n",
       "2656  17782006  Hyundai, Toyota y M-Sport, los tres fabricante...   \n",
       "\n",
       "                     category  \n",
       "14                   10-Salud  \n",
       "18                   10-Salud  \n",
       "125                   1-Mundo  \n",
       "126                   1-Mundo  \n",
       "127                   1-Mundo  \n",
       "...                       ...  \n",
       "2652  4-Ciencias_y_Tecnología  \n",
       "2653  4-Ciencias_y_Tecnología  \n",
       "2654  4-Ciencias_y_Tecnología  \n",
       "2655  4-Ciencias_y_Tecnología  \n",
       "2656  4-Ciencias_y_Tecnología  \n",
       "\n",
       "[25251 rows x 3 columns]"
      ]
     },
     "execution_count": 7,
     "metadata": {},
     "output_type": "execute_result"
    }
   ],
   "source": [
    "import numpy as np\n",
    "\n",
    "final_df = pd.concat(dfs)\n",
    "final_df.drop_duplicates(subset='url', keep='first', inplace=True)\n",
    "final_df['category'] = final_df.apply(lambda row : cats_dict.get(row.tag, np.nan), axis=1)\n",
    "#id se puede borraar\n",
    "final_df = final_df[['id','text', 'category']]\n",
    "final_df = final_df[final_df['category'].notna()]\n",
    "final_df"
   ]
  },
  {
   "cell_type": "code",
   "execution_count": 8,
   "id": "e880414c",
   "metadata": {},
   "outputs": [
    {
     "name": "stdout",
     "output_type": "stream",
     "text": [
      "4366    La segunda tanda de la vacuna rusa Sputnik V contra el coronavirus, arribó e...\n",
      "Name: text, dtype: string\n"
     ]
    }
   ],
   "source": [
    "pd.set_option('display.max_colwidth', 80)\n",
    "print(final_df['text'].loc[final_df['id'] == 5688227])"
   ]
  },
  {
   "cell_type": "code",
   "execution_count": 9,
   "id": "f4d42a82",
   "metadata": {},
   "outputs": [
    {
     "data": {
      "text/html": [
       "<div>\n",
       "<style scoped>\n",
       "    .dataframe tbody tr th:only-of-type {\n",
       "        vertical-align: middle;\n",
       "    }\n",
       "\n",
       "    .dataframe tbody tr th {\n",
       "        vertical-align: top;\n",
       "    }\n",
       "\n",
       "    .dataframe thead th {\n",
       "        text-align: right;\n",
       "    }\n",
       "</style>\n",
       "<table border=\"1\" class=\"dataframe\">\n",
       "  <thead>\n",
       "    <tr style=\"text-align: right;\">\n",
       "      <th></th>\n",
       "      <th>category</th>\n",
       "      <th>count(*)</th>\n",
       "    </tr>\n",
       "  </thead>\n",
       "  <tbody>\n",
       "    <tr>\n",
       "      <th>0</th>\n",
       "      <td>1-Mundo</td>\n",
       "      <td>8629</td>\n",
       "    </tr>\n",
       "    <tr>\n",
       "      <th>1</th>\n",
       "      <td>7-Deporte</td>\n",
       "      <td>6924</td>\n",
       "    </tr>\n",
       "    <tr>\n",
       "      <th>2</th>\n",
       "      <td>4-Ciencias_y_Tecnología</td>\n",
       "      <td>4344</td>\n",
       "    </tr>\n",
       "    <tr>\n",
       "      <th>3</th>\n",
       "      <td>2-Economía</td>\n",
       "      <td>2637</td>\n",
       "    </tr>\n",
       "    <tr>\n",
       "      <th>4</th>\n",
       "      <td>3-Política_y_Conflictos</td>\n",
       "      <td>1934</td>\n",
       "    </tr>\n",
       "    <tr>\n",
       "      <th>5</th>\n",
       "      <td>10-Salud</td>\n",
       "      <td>333</td>\n",
       "    </tr>\n",
       "    <tr>\n",
       "      <th>6</th>\n",
       "      <td>6-Cultura_y_Artes</td>\n",
       "      <td>185</td>\n",
       "    </tr>\n",
       "    <tr>\n",
       "      <th>7</th>\n",
       "      <td>8-Ecología_y_Planeta</td>\n",
       "      <td>135</td>\n",
       "    </tr>\n",
       "    <tr>\n",
       "      <th>8</th>\n",
       "      <td>9-Crimen_delitos_y_Justicia</td>\n",
       "      <td>130</td>\n",
       "    </tr>\n",
       "  </tbody>\n",
       "</table>\n",
       "</div>"
      ],
      "text/plain": [
       "                      category  count(*)\n",
       "0                      1-Mundo      8629\n",
       "1                    7-Deporte      6924\n",
       "2      4-Ciencias_y_Tecnología      4344\n",
       "3                   2-Economía      2637\n",
       "4      3-Política_y_Conflictos      1934\n",
       "5                     10-Salud       333\n",
       "6            6-Cultura_y_Artes       185\n",
       "7         8-Ecología_y_Planeta       135\n",
       "8  9-Crimen_delitos_y_Justicia       130"
      ]
     },
     "execution_count": 9,
     "metadata": {},
     "output_type": "execute_result"
    }
   ],
   "source": [
    "from pandasql import sqldf\n",
    "\n",
    "q=\"\"\"SELECT category, count(*) FROM final_df GROUP BY category ORDER BY count(*) DESC;\"\"\"\n",
    "result=sqldf(q)\n",
    "result"
   ]
  },
  {
   "cell_type": "code",
   "execution_count": 10,
   "id": "34ef0bd1",
   "metadata": {},
   "outputs": [
    {
     "data": {
      "text/plain": [
       "'A diez días de haber regresado a Argentina y tras mantener un perfil muy bajo durante los últimos nueve meses, el  expresidente Mauricio Macri  rompió el silencio y  realizó un análisis de la gestión del actual Mandatario, Alberto Fernández, en muy duros términos . \" Las autoridades al frente del Poder Ejecutivo vienen desplegando una serie de medidas que consisten en el ataque sistemático y permanente a nuestra Constitución. Para poder gobernar sin límites , violentan la ley fundamental de la nación\", escribió el exmandatario en una columna publicada en \"La Nación\".  \"Esta sociedad ya no tolera el atropello a las instituciones, la corrupción de los funcionarios, el delito en ninguna forma, la injusticia, la inseguridad, la impunidad, la violencia, la prepotencia y la anomia\" Mauricio Macri, expresidente de Argentina \" Se vulnera el pleno funcionamiento de la República, porque no se respetan los reglamentos de las cámaras del Congreso para debatir y sancionar las leyes . Se pretende condicionar al Poder Judicial con una reforma \", advirtió Macri en su texto, titulado \"Para defender el presente y ganar el futuro\". El expresidente se refirió a la quita de coparticipación a la Ciudad y consideró que hubo una \"indignante presión\" a Horacio Rodríguez Larreta, quien dio un discurso con proyección nacional el pasado jueves al anunciar que recurriría a la Corte Suprema. \"Retrocede el federalismo, porque el oficialismo condiciona a los gobernadores y los extorsiona con el envío de los fondos, lo que fue coronado con la reciente e indignante presión al jefe de gobierno porteño\", dijo. Macri llegó al país diez días atrás de un largo viaje a viaje a Francia y Suiza donde combinó vacaciones con actividades en Zurich como flamante presidente de la Fundación FIFA. Desde que dejó la Casa Rosada brindó una entrevista al periodista peruano Álvaro Vargas Llosa y se manifestó en contadas oportunidades vía Twitter. Tuvo un cruce mediático con Fernández en torno a los términos de la charla privada que habían tenido el 19 de marzo, el día antes de decretar la cuarentena estricta. RelacionadasDetalle(990610,995250); Tal como hizo en las redes sociales, en la columna en \"La Nación\",  Macri elogió las movilizaciones y los banderazos de protesta contra el Gobierno. \"Esta sociedad ya no tolera el atropello a las instituciones, la corrupción de los funcionarios , el delito en ninguna forma, la injusticia, la inseguridad, la impunidad, la violencia, la prepotencia y la anomia\", escribió el expresidente. Trazó una línea de continuidad entre \"la lucha contra la resolución 125,  la exigencia de verdad sobre la muerte del fiscal Nisman , las marchas del \\'Sí Se Puede\\' y el más reciente 17A\". \"La conciencia cívica se expresa. Autoconvocada y vigorosa se hace oír como en las grandes gestas\", dijo. Macri cruzó duramente al Gobierno por las medidas de los últimos meses para combatir el coronavirus. \"Se utilizan las restricciones sanitarias para impedir la libre circulación de los personas , y sólo pueden hacerlo aquéllos que estén habilitados a extender una declaración jurada que se debe someter a la consideración de las autoridades\", cuestionó. \" No se reconocen los derechos básicos de los ciudadanos  para que cada uno proyecte su vida como quiera hacerlo, porque es el Estado el que aspira a decidir por nosotros. Pretende nivelar para abajo\", agregó. Macri cerró: \" Es la República o la republiqueta; es democracia o demagogia ; es elecciones libres o no habrá transparencia en los resultados; es seguridad o vivir con miedo; es el Estado de Derecho o es la jungla; es la propiedad o es la apropiación; es la libertad de expresión o censura; es educación o adoctrinamiento\".'"
      ]
     },
     "execution_count": 10,
     "metadata": {},
     "output_type": "execute_result"
    }
   ],
   "source": [
    "text = final_df.sample(n=1)['text'].values[0]\n",
    "text"
   ]
  },
  {
   "cell_type": "code",
   "execution_count": 11,
   "id": "e0728039",
   "metadata": {},
   "outputs": [
    {
     "name": "stdout",
     "output_type": "stream",
     "text": [
      "['El', 'magnate', 'hongkonés', 'de', 'la', 'prensa', ' ', 'Jimmy', 'Lai', ' ', 'fue', 'hoy', 'condenado', 'a', ' ', 'un', 'año', 'de', 'prisión', 'por', 'organizar', 'y']\n"
     ]
    }
   ],
   "source": [
    "# Word tokenization\n",
    "from spacy.lang.es import Spanish\n",
    "\n",
    "# Load English tokenizer, tagger, parser, NER and word vectors\n",
    "nlp = Spanish()\n",
    "\n",
    "text = final_df.sample(n=1)['text'].values[0][:100]\n",
    "#  \"nlp\" Object is used to create documents with linguistic annotations.\n",
    "my_doc = nlp(text)\n",
    "\n",
    "# Create list of word tokens\n",
    "token_list = []\n",
    "for token in my_doc:\n",
    "    token_list.append(token.text)\n",
    "print(token_list)"
   ]
  },
  {
   "cell_type": "code",
   "execution_count": 12,
   "id": "9dadad7a",
   "metadata": {},
   "outputs": [
    {
     "name": "stdout",
     "output_type": "stream",
     "text": [
      "Filtered Sentence: [magnate, hongkonés, prensa,  , Jimmy, Lai,  , condenado, a,  , año, prisión, organizar, y]\n"
     ]
    }
   ],
   "source": [
    "#Stop words\n",
    "#importing stop words from English language.\n",
    "from spacy.lang.es.stop_words import STOP_WORDS\n",
    "\n",
    "#Implementation of stop words:\n",
    "filtered_sent=[]\n",
    "\n",
    "#  \"nlp\" Object is used to create documents with linguistic annotations.\n",
    "doc = nlp(text)\n",
    "\n",
    "for word in doc:\n",
    "    if word.is_stop==False:\n",
    "        filtered_sent.append(word)\n",
    "print(\"Filtered Sentence:\",filtered_sent)"
   ]
  },
  {
   "cell_type": "code",
   "execution_count": 13,
   "id": "33e809a8",
   "metadata": {},
   "outputs": [],
   "source": [
    "# !python -m spacy download es_core_news_md"
   ]
  },
  {
   "cell_type": "code",
   "execution_count": 14,
   "id": "e9775587",
   "metadata": {},
   "outputs": [],
   "source": [
    "import string\n",
    "import spacy\n",
    "\n",
    "nlp = spacy.load('es_core_news_md', disable=['parser','ner','textcat','...'] )\n",
    "# Create our list of punctuation marks\n",
    "punctuations = string.punctuation\n",
    "\n",
    "# Create our list of stopwords\n",
    "nlp = spacy.load(\"es_core_news_md\")\n",
    "stop_words = STOP_WORDS"
   ]
  },
  {
   "cell_type": "code",
   "execution_count": 15,
   "id": "8ad7c5f7",
   "metadata": {},
   "outputs": [],
   "source": [
    "from nltk.stem import SnowballStemmer\n",
    "stemmer = SnowballStemmer('spanish')\n",
    "\n",
    "# Creating our tokenizer function\n",
    "def spacy_tokenizer(sentence, stem=True):\n",
    "    # Creating our token object, which is used to create documents with linguistic annotations.\n",
    "    mytokens = nlp(sentence)\n",
    "    # Lemmatizing each token and converting each token into lowercase\n",
    "    mytokens = [ word.lemma_.lower().strip() for word in mytokens]\n",
    "    \n",
    "    # Removing stop words, ver lo de puntuuacion con  token.tag_\n",
    "    mytokens = [ word for word in mytokens \n",
    "                          if word not in stop_words \n",
    "                          and word not in punctuations ]\n",
    "    if stem:\n",
    "        mytokens = [ stemmer.stem(word) for word in mytokens ]\n",
    "\n",
    "    # return preprocessed list of tokens\n",
    "    return mytokens"
   ]
  },
  {
   "cell_type": "code",
   "execution_count": 16,
   "id": "bf4f00dc",
   "metadata": {},
   "outputs": [
    {
     "name": "stdout",
     "output_type": "stream",
     "text": [
      "A las pocas horas de jurar como presidente este miércoles, Joe Biden enviará un proyecto de ley que \n"
     ]
    },
    {
     "data": {
      "text/plain": [
       "['a',\n",
       " 'hor',\n",
       " 'jur',\n",
       " 'president',\n",
       " 'miercol',\n",
       " 'joe',\n",
       " 'bid',\n",
       " 'envi',\n",
       " 'proyect',\n",
       " 'ley']"
      ]
     },
     "execution_count": 16,
     "metadata": {},
     "output_type": "execute_result"
    }
   ],
   "source": [
    "text = final_df.sample(n=1)['text'].values[0][:100]\n",
    "print(text)\n",
    "spacy_tokenizer(text)"
   ]
  },
  {
   "cell_type": "code",
   "execution_count": 17,
   "id": "dacd664a",
   "metadata": {},
   "outputs": [
    {
     "name": "stdout",
     "output_type": "stream",
     "text": [
      "A a ADP ADP case X True False\n",
      "las el DET DET det xxx True True\n",
      "pocas poco DET DET det xxxx True True\n",
      "horas hora NOUN NOUN ROOT xxxx True True\n",
      "de de ADP ADP punct xx True True\n"
     ]
    }
   ],
   "source": [
    "doc = nlp(text[:20])\n",
    "for token in doc:\n",
    "    print(token.text, token.lemma_, token.pos_, token.tag_, token.dep_,\n",
    "           token.shape_, token.is_alpha, token.is_stop)"
   ]
  },
  {
   "cell_type": "code",
   "execution_count": null,
   "id": "a847b861",
   "metadata": {},
   "outputs": [],
   "source": []
  },
  {
   "cell_type": "code",
   "execution_count": null,
   "id": "7f4ecbae",
   "metadata": {},
   "outputs": [],
   "source": []
  }
 ],
 "metadata": {
  "kernelspec": {
   "display_name": "Python 3 (ipykernel)",
   "language": "python",
   "name": "python3"
  },
  "language_info": {
   "codemirror_mode": {
    "name": "ipython",
    "version": 3
   },
   "file_extension": ".py",
   "mimetype": "text/x-python",
   "name": "python",
   "nbconvert_exporter": "python",
   "pygments_lexer": "ipython3",
   "version": "3.9.7"
  },
  "toc": {
   "base_numbering": 1,
   "nav_menu": {},
   "number_sections": true,
   "sideBar": true,
   "skip_h1_title": false,
   "title_cell": "Table of Contents",
   "title_sidebar": "Contents",
   "toc_cell": false,
   "toc_position": {},
   "toc_section_display": true,
   "toc_window_display": false
  }
 },
 "nbformat": 4,
 "nbformat_minor": 5
}
