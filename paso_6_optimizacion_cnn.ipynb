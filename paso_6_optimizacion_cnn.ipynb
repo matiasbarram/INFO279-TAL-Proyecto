{
 "cells": [
  {
   "cell_type": "code",
   "execution_count": 1,
   "id": "ab770e30",
   "metadata": {},
   "outputs": [],
   "source": [
    "import pandas as pd\n",
    "from os import listdir\n",
    "from os.path import join\n",
    "from tqdm import tqdm\n",
    "from my_funcs import tokenize_es_a, tokenize_es_b, tokenize_es_c, tokenize_es_d "
   ]
  },
  {
   "cell_type": "code",
   "execution_count": 2,
   "id": "7082e3a5",
   "metadata": {},
   "outputs": [
    {
     "name": "stdout",
     "output_type": "stream",
     "text": [
      "ds_name = 'ds_semibalanced_1658_rs5150.csv'\n",
      "ds_name = 'ds_semibalanced_1500_rs5150.csv'\n",
      "ds_name = 'ds_balanced_1043_rs5150.csv'\n"
     ]
    }
   ],
   "source": [
    "folder = './datasets/'\n",
    "for file in reversed(sorted(listdir(folder))): #nos uqedamos con el mas grande en caso de actualizar el ds\n",
    "    if 'balanced' in file:\n",
    "        print(f\"ds_name = '{file}'\")"
   ]
  },
  {
   "cell_type": "code",
   "execution_count": 3,
   "id": "3fcd483d",
   "metadata": {},
   "outputs": [
    {
     "name": "stdout",
     "output_type": "stream",
     "text": [
      "selected:  ds_balanced_1043_rs5150.csv\n"
     ]
    }
   ],
   "source": [
    "ds_name = 'ds_balanced_1043_rs5150.csv'\n",
    "#ds_name = 'ds_semibalanced_1500_rs5150.csv'\n",
    "#ds_name = 'ds_semibalanced_1678_rs5150.csv'\n",
    "print('selected: ', ds_name)"
   ]
  },
  {
   "cell_type": "code",
   "execution_count": 4,
   "id": "276097bd",
   "metadata": {},
   "outputs": [
    {
     "name": "stdout",
     "output_type": "stream",
     "text": [
      "Index(['id', 'title', 'content', 'category'], dtype='object')\n"
     ]
    },
    {
     "data": {
      "text/html": [
       "<div>\n",
       "<style scoped>\n",
       "    .dataframe tbody tr th:only-of-type {\n",
       "        vertical-align: middle;\n",
       "    }\n",
       "\n",
       "    .dataframe tbody tr th {\n",
       "        vertical-align: top;\n",
       "    }\n",
       "\n",
       "    .dataframe thead th {\n",
       "        text-align: right;\n",
       "    }\n",
       "</style>\n",
       "<table border=\"1\" class=\"dataframe\">\n",
       "  <thead>\n",
       "    <tr style=\"text-align: right;\">\n",
       "      <th></th>\n",
       "      <th>title</th>\n",
       "      <th>content</th>\n",
       "    </tr>\n",
       "  </thead>\n",
       "  <tbody>\n",
       "    <tr>\n",
       "      <th>0</th>\n",
       "      <td>Disneyland abre sus puertas como centro vacunatorio masivo contra el coronavirus</td>\n",
       "      <td>Disneyland abre sus puertas como centro vacunatorio masivo contra el coronavirus. El parque de atracciones Disneyland en Anaheim, California, ha estado cerrado desde mediado de marzo por el alza d...</td>\n",
       "    </tr>\n",
       "    <tr>\n",
       "      <th>1</th>\n",
       "      <td>México autoriza vacuna de Pfizer y es el primer país de Latinoamérica en aprobarla: Inoculación comenzaría este mes</td>\n",
       "      <td>México autoriza vacuna de Pfizer y es el primer país de Latinoamérica en aprobarla: Inoculación comenzaría este mes. La Comisión Federal para la Protección contra Riesgos Sanitarios (Cofepris) del...</td>\n",
       "    </tr>\n",
       "    <tr>\n",
       "      <th>2</th>\n",
       "      <td>El mega operativo de seguridad en Washington por la investidura de Biden: Será la ceremonia con más militares de la historia</td>\n",
       "      <td>El mega operativo de seguridad en Washington por la investidura de Biden: Será la ceremonia con más militares de la historia. En  Washington,  un amplio perímetro que ocupa todo el centro, incluid...</td>\n",
       "    </tr>\n",
       "    <tr>\n",
       "      <th>3</th>\n",
       "      <td>\"Swing states\" o estados bisagras: los terrenos claves donde se definirá la presidencial de EEUU</td>\n",
       "      <td>\"Swing states\" o estados bisagras: los terrenos claves donde se definirá la presidencial de EEUU. Estados Unidos está ad portas de elegir a quien dirigirá los destinos del país por los próximos cu...</td>\n",
       "    </tr>\n",
       "    <tr>\n",
       "      <th>4</th>\n",
       "      <td>Merkel defiende nuevas restricciones y advierte sobre \"mentiras\" en lucha contra el covid</td>\n",
       "      <td>Merkel defiende nuevas restricciones y advierte sobre \"mentiras\" en lucha contra el covid. La Canciller alemana  Angela Merkel  defendió este jueves las nuevas medidas restrictivas anunciadas por ...</td>\n",
       "    </tr>\n",
       "  </tbody>\n",
       "</table>\n",
       "</div>"
      ],
      "text/plain": [
       "                                                                                                                          title  \\\n",
       "0                                              Disneyland abre sus puertas como centro vacunatorio masivo contra el coronavirus   \n",
       "1           México autoriza vacuna de Pfizer y es el primer país de Latinoamérica en aprobarla: Inoculación comenzaría este mes   \n",
       "2  El mega operativo de seguridad en Washington por la investidura de Biden: Será la ceremonia con más militares de la historia   \n",
       "3                              \"Swing states\" o estados bisagras: los terrenos claves donde se definirá la presidencial de EEUU   \n",
       "4                                     Merkel defiende nuevas restricciones y advierte sobre \"mentiras\" en lucha contra el covid   \n",
       "\n",
       "                                                                                                                                                                                                   content  \n",
       "0  Disneyland abre sus puertas como centro vacunatorio masivo contra el coronavirus. El parque de atracciones Disneyland en Anaheim, California, ha estado cerrado desde mediado de marzo por el alza d...  \n",
       "1  México autoriza vacuna de Pfizer y es el primer país de Latinoamérica en aprobarla: Inoculación comenzaría este mes. La Comisión Federal para la Protección contra Riesgos Sanitarios (Cofepris) del...  \n",
       "2  El mega operativo de seguridad en Washington por la investidura de Biden: Será la ceremonia con más militares de la historia. En  Washington,  un amplio perímetro que ocupa todo el centro, incluid...  \n",
       "3  \"Swing states\" o estados bisagras: los terrenos claves donde se definirá la presidencial de EEUU. Estados Unidos está ad portas de elegir a quien dirigirá los destinos del país por los próximos cu...  \n",
       "4  Merkel defiende nuevas restricciones y advierte sobre \"mentiras\" en lucha contra el covid. La Canciller alemana  Angela Merkel  defendió este jueves las nuevas medidas restrictivas anunciadas por ...  "
      ]
     },
     "execution_count": 4,
     "metadata": {},
     "output_type": "execute_result"
    }
   ],
   "source": [
    "df = pd.read_csv(join(folder, ds_name))\n",
    "pd.set_option('display.max_colwidth', 200)\n",
    "print(df.columns)\n",
    "df[['title', 'content']].head()"
   ]
  },
  {
   "cell_type": "code",
   "execution_count": 5,
   "id": "a57c4a61",
   "metadata": {},
   "outputs": [],
   "source": [
    "MAX_LEN = 1600\n",
    "DROPOUT = 0.5\n",
    "MAX_VOCAB_SIZE = 50000\n",
    "RANDOM_STATE = 8008\n",
    "BATCH_SIZE = 64\n",
    "EMBEDDING_DIM = 300\n",
    "N_FILTERS = 100\n",
    "FILTER_SIZES = [7, 7, 7]\n",
    "LR = 0.0007\n",
    "N_EPOCHS = 10\n",
    "FREEZE_EMBEDDINGS = True\n",
    "tokenizer = tokenize_es_c\n",
    "TOKENIZER = tokenizer.__name__"
   ]
  },
  {
   "cell_type": "markdown",
   "id": "97d256cb",
   "metadata": {},
   "source": [
    "## Truncar contenido\n",
    "### Cuanto?"
   ]
  },
  {
   "cell_type": "code",
   "execution_count": 6,
   "id": "52faa8d0",
   "metadata": {},
   "outputs": [
    {
     "name": "stdout",
     "output_type": "stream",
     "text": [
      "min len:  147\n",
      "max len:  1600\n"
     ]
    }
   ],
   "source": [
    "df['content'] = df.content.str.slice(0, MAX_LEN)\n",
    "print('min len: ', df.content.map(len).min())\n",
    "print('max len: ', df.content.map(len).max())"
   ]
  },
  {
   "cell_type": "code",
   "execution_count": 7,
   "id": "d70f14d7",
   "metadata": {},
   "outputs": [
    {
     "data": {
      "text/html": [
       "<div>\n",
       "<style scoped>\n",
       "    .dataframe tbody tr th:only-of-type {\n",
       "        vertical-align: middle;\n",
       "    }\n",
       "\n",
       "    .dataframe tbody tr th {\n",
       "        vertical-align: top;\n",
       "    }\n",
       "\n",
       "    .dataframe thead th {\n",
       "        text-align: right;\n",
       "    }\n",
       "</style>\n",
       "<table border=\"1\" class=\"dataframe\">\n",
       "  <thead>\n",
       "    <tr style=\"text-align: right;\">\n",
       "      <th></th>\n",
       "      <th>id</th>\n",
       "      <th>title</th>\n",
       "      <th>content</th>\n",
       "      <th>category</th>\n",
       "    </tr>\n",
       "  </thead>\n",
       "  <tbody>\n",
       "    <tr>\n",
       "      <th>0</th>\n",
       "      <td>6633017</td>\n",
       "      <td>Disneyland abre sus puertas como centro vacunatorio masivo contra el coronavirus</td>\n",
       "      <td>Disneyland abre sus puertas como centro vacunatorio masivo contra el coronavirus. El parque de atracciones Disneyland en Anaheim, California, ha estado cerrado desde mediado de marzo por el alza d...</td>\n",
       "      <td>1-Mundo</td>\n",
       "    </tr>\n",
       "    <tr>\n",
       "      <th>1</th>\n",
       "      <td>14793496</td>\n",
       "      <td>México autoriza vacuna de Pfizer y es el primer país de Latinoamérica en aprobarla: Inoculación comenzaría este mes</td>\n",
       "      <td>México autoriza vacuna de Pfizer y es el primer país de Latinoamérica en aprobarla: Inoculación comenzaría este mes. La Comisión Federal para la Protección contra Riesgos Sanitarios (Cofepris) del...</td>\n",
       "      <td>1-Mundo</td>\n",
       "    </tr>\n",
       "    <tr>\n",
       "      <th>2</th>\n",
       "      <td>14786791</td>\n",
       "      <td>El mega operativo de seguridad en Washington por la investidura de Biden: Será la ceremonia con más militares de la historia</td>\n",
       "      <td>El mega operativo de seguridad en Washington por la investidura de Biden: Será la ceremonia con más militares de la historia. En  Washington,  un amplio perímetro que ocupa todo el centro, incluid...</td>\n",
       "      <td>1-Mundo</td>\n",
       "    </tr>\n",
       "    <tr>\n",
       "      <th>3</th>\n",
       "      <td>621359</td>\n",
       "      <td>\"Swing states\" o estados bisagras: los terrenos claves donde se definirá la presidencial de EEUU</td>\n",
       "      <td>\"Swing states\" o estados bisagras: los terrenos claves donde se definirá la presidencial de EEUU. Estados Unidos está ad portas de elegir a quien dirigirá los destinos del país por los próximos cu...</td>\n",
       "      <td>1-Mundo</td>\n",
       "    </tr>\n",
       "    <tr>\n",
       "      <th>4</th>\n",
       "      <td>14797573</td>\n",
       "      <td>Merkel defiende nuevas restricciones y advierte sobre \"mentiras\" en lucha contra el covid</td>\n",
       "      <td>Merkel defiende nuevas restricciones y advierte sobre \"mentiras\" en lucha contra el covid. La Canciller alemana  Angela Merkel  defendió este jueves las nuevas medidas restrictivas anunciadas por ...</td>\n",
       "      <td>1-Mundo</td>\n",
       "    </tr>\n",
       "    <tr>\n",
       "      <th>...</th>\n",
       "      <td>...</td>\n",
       "      <td>...</td>\n",
       "      <td>...</td>\n",
       "      <td>...</td>\n",
       "    </tr>\n",
       "    <tr>\n",
       "      <th>10425</th>\n",
       "      <td>175524</td>\n",
       "      <td>Intendenta de Coquimbo rechaza posible fraude en Papaya Gate: No existe ninguna irregularidad</td>\n",
       "      <td>Intendenta de Coquimbo rechaza posible fraude en Papaya Gate: No existe ninguna irregularidad. Durante este jueves la Unidad de Investigación de Radio Bío Bío dio a conocer un proceso de compra de...</td>\n",
       "      <td>9-Crimen_delitos_y_Justicia</td>\n",
       "    </tr>\n",
       "    <tr>\n",
       "      <th>10426</th>\n",
       "      <td>24309</td>\n",
       "      <td>Vecinos de Maipú anuncian manifestaciones tras doble homicidio en feria navideña</td>\n",
       "      <td>Vecinos de Maipú anuncian manifestaciones tras doble homicidio en feria navideña. A balazos y desde un auto en movimiento, fueron asesinados dos hombres en medio de un feria navideña repleta de ge...</td>\n",
       "      <td>9-Crimen_delitos_y_Justicia</td>\n",
       "    </tr>\n",
       "    <tr>\n",
       "      <th>10427</th>\n",
       "      <td>60339</td>\n",
       "      <td>Matthei y polémicos dichos por defensores públicos: \"Se han convertido en enemigos de la ciudadanía\"</td>\n",
       "      <td>Matthei y polémicos dichos por defensores públicos: \"Se han convertido en enemigos de la ciudadanía\". La alcaldesa de Providencia, Evelyn Matthei, se refirió en duros términos a la labor de los de...</td>\n",
       "      <td>9-Crimen_delitos_y_Justicia</td>\n",
       "    </tr>\n",
       "    <tr>\n",
       "      <th>10428</th>\n",
       "      <td>13408771</td>\n",
       "      <td>Avanza al Senado el proyecto de ley que otorga reserva de identidad a denunciantes de corrupción</td>\n",
       "      <td>Avanza al Senado el proyecto de ley que otorga reserva de identidad a denunciantes de corrupción. Este martes, la  Cámara de Diputadas y Diputados  despachó al Senado el proyecto de ley del Minist...</td>\n",
       "      <td>9-Crimen_delitos_y_Justicia</td>\n",
       "    </tr>\n",
       "    <tr>\n",
       "      <th>10429</th>\n",
       "      <td>44483</td>\n",
       "      <td>Esposo de Fabiola Campillai confirma que fue internada y que se encuentra con meningitis</td>\n",
       "      <td>Esposo de Fabiola Campillai confirma que fue internada y que se encuentra con meningitis. Durante este domingo, el esposo de Fabiola Campillai, Marco Cornejo, confirmó que ella fue internada en el...</td>\n",
       "      <td>9-Crimen_delitos_y_Justicia</td>\n",
       "    </tr>\n",
       "  </tbody>\n",
       "</table>\n",
       "<p>10430 rows × 4 columns</p>\n",
       "</div>"
      ],
      "text/plain": [
       "             id  \\\n",
       "0       6633017   \n",
       "1      14793496   \n",
       "2      14786791   \n",
       "3        621359   \n",
       "4      14797573   \n",
       "...         ...   \n",
       "10425    175524   \n",
       "10426     24309   \n",
       "10427     60339   \n",
       "10428  13408771   \n",
       "10429     44483   \n",
       "\n",
       "                                                                                                                              title  \\\n",
       "0                                                  Disneyland abre sus puertas como centro vacunatorio masivo contra el coronavirus   \n",
       "1               México autoriza vacuna de Pfizer y es el primer país de Latinoamérica en aprobarla: Inoculación comenzaría este mes   \n",
       "2      El mega operativo de seguridad en Washington por la investidura de Biden: Será la ceremonia con más militares de la historia   \n",
       "3                                  \"Swing states\" o estados bisagras: los terrenos claves donde se definirá la presidencial de EEUU   \n",
       "4                                         Merkel defiende nuevas restricciones y advierte sobre \"mentiras\" en lucha contra el covid   \n",
       "...                                                                                                                             ...   \n",
       "10425                                 Intendenta de Coquimbo rechaza posible fraude en Papaya Gate: No existe ninguna irregularidad   \n",
       "10426                                              Vecinos de Maipú anuncian manifestaciones tras doble homicidio en feria navideña   \n",
       "10427                          Matthei y polémicos dichos por defensores públicos: \"Se han convertido en enemigos de la ciudadanía\"   \n",
       "10428                              Avanza al Senado el proyecto de ley que otorga reserva de identidad a denunciantes de corrupción   \n",
       "10429                                      Esposo de Fabiola Campillai confirma que fue internada y que se encuentra con meningitis   \n",
       "\n",
       "                                                                                                                                                                                                       content  \\\n",
       "0      Disneyland abre sus puertas como centro vacunatorio masivo contra el coronavirus. El parque de atracciones Disneyland en Anaheim, California, ha estado cerrado desde mediado de marzo por el alza d...   \n",
       "1      México autoriza vacuna de Pfizer y es el primer país de Latinoamérica en aprobarla: Inoculación comenzaría este mes. La Comisión Federal para la Protección contra Riesgos Sanitarios (Cofepris) del...   \n",
       "2      El mega operativo de seguridad en Washington por la investidura de Biden: Será la ceremonia con más militares de la historia. En  Washington,  un amplio perímetro que ocupa todo el centro, incluid...   \n",
       "3      \"Swing states\" o estados bisagras: los terrenos claves donde se definirá la presidencial de EEUU. Estados Unidos está ad portas de elegir a quien dirigirá los destinos del país por los próximos cu...   \n",
       "4      Merkel defiende nuevas restricciones y advierte sobre \"mentiras\" en lucha contra el covid. La Canciller alemana  Angela Merkel  defendió este jueves las nuevas medidas restrictivas anunciadas por ...   \n",
       "...                                                                                                                                                                                                        ...   \n",
       "10425  Intendenta de Coquimbo rechaza posible fraude en Papaya Gate: No existe ninguna irregularidad. Durante este jueves la Unidad de Investigación de Radio Bío Bío dio a conocer un proceso de compra de...   \n",
       "10426  Vecinos de Maipú anuncian manifestaciones tras doble homicidio en feria navideña. A balazos y desde un auto en movimiento, fueron asesinados dos hombres en medio de un feria navideña repleta de ge...   \n",
       "10427  Matthei y polémicos dichos por defensores públicos: \"Se han convertido en enemigos de la ciudadanía\". La alcaldesa de Providencia, Evelyn Matthei, se refirió en duros términos a la labor de los de...   \n",
       "10428  Avanza al Senado el proyecto de ley que otorga reserva de identidad a denunciantes de corrupción. Este martes, la  Cámara de Diputadas y Diputados  despachó al Senado el proyecto de ley del Minist...   \n",
       "10429  Esposo de Fabiola Campillai confirma que fue internada y que se encuentra con meningitis. Durante este domingo, el esposo de Fabiola Campillai, Marco Cornejo, confirmó que ella fue internada en el...   \n",
       "\n",
       "                          category  \n",
       "0                          1-Mundo  \n",
       "1                          1-Mundo  \n",
       "2                          1-Mundo  \n",
       "3                          1-Mundo  \n",
       "4                          1-Mundo  \n",
       "...                            ...  \n",
       "10425  9-Crimen_delitos_y_Justicia  \n",
       "10426  9-Crimen_delitos_y_Justicia  \n",
       "10427  9-Crimen_delitos_y_Justicia  \n",
       "10428  9-Crimen_delitos_y_Justicia  \n",
       "10429  9-Crimen_delitos_y_Justicia  \n",
       "\n",
       "[10430 rows x 4 columns]"
      ]
     },
     "execution_count": 7,
     "metadata": {},
     "output_type": "execute_result"
    }
   ],
   "source": [
    "df = df[['id', 'title', 'content', 'category']]\n",
    "df"
   ]
  },
  {
   "cell_type": "code",
   "execution_count": 8,
   "id": "2edc4240",
   "metadata": {},
   "outputs": [],
   "source": [
    "from sklearn.utils import shuffle\n",
    "df = shuffle(df, random_state=RANDOM_STATE)"
   ]
  },
  {
   "cell_type": "code",
   "execution_count": 9,
   "id": "0fdd4472",
   "metadata": {},
   "outputs": [],
   "source": [
    "import numpy as np\n",
    "from sklearn.model_selection import StratifiedShuffleSplit\n",
    "\n",
    "split = StratifiedShuffleSplit(n_splits=1, test_size=0.30, random_state=RANDOM_STATE)\n",
    "for train_index, test_valid_index in split.split(df, df.category):\n",
    "    train = df.iloc[train_index]\n",
    "    test_valid_set = df.iloc[test_valid_index]\n",
    "\n",
    "split2 = StratifiedShuffleSplit(n_splits=1, test_size=0.50, random_state=RANDOM_STATE)\n",
    "for test_index, valid_index in split2.split(test_valid_set, test_valid_set.category):\n",
    "    test = test_valid_set.iloc[test_index]\n",
    "    valid = test_valid_set.iloc[valid_index]\n",
    "\n",
    "\n",
    "#valid, test, train = np.split(df, [ int(.15*len(df)), int(.3*len(df))] )"
   ]
  },
  {
   "cell_type": "code",
   "execution_count": 10,
   "id": "d3d151c3",
   "metadata": {},
   "outputs": [
    {
     "name": "stdout",
     "output_type": "stream",
     "text": [
      "(10430, 4)\n",
      "(7301, 4)\n",
      "(1565, 4)\n",
      "(1564, 4)\n"
     ]
    }
   ],
   "source": [
    "print(df.shape)\n",
    "print(train.shape)\n",
    "print(valid.shape)\n",
    "print(test.shape)"
   ]
  },
  {
   "cell_type": "code",
   "execution_count": 11,
   "id": "f14a999d",
   "metadata": {},
   "outputs": [
    {
     "data": {
      "text/plain": [
       "category\n",
       "1-Mundo                        730\n",
       "10-Salud                       730\n",
       "2-Economía                     730\n",
       "3-Política_y_Conflictos        730\n",
       "4-Ciencias_y_Tecnología        730\n",
       "5-Catástrofes_y_Accidentes     730\n",
       "6-Cultura_y_Artes              730\n",
       "7-Deporte                      731\n",
       "8-Ecología_y_Planeta           730\n",
       "9-Crimen_delitos_y_Justicia    730\n",
       "dtype: int64"
      ]
     },
     "metadata": {},
     "output_type": "display_data"
    },
    {
     "data": {
      "text/plain": [
       "category\n",
       "1-Mundo                        156\n",
       "10-Salud                       156\n",
       "2-Economía                     157\n",
       "3-Política_y_Conflictos        157\n",
       "4-Ciencias_y_Tecnología        157\n",
       "5-Catástrofes_y_Accidentes     156\n",
       "6-Cultura_y_Artes              157\n",
       "7-Deporte                      156\n",
       "8-Ecología_y_Planeta           157\n",
       "9-Crimen_delitos_y_Justicia    156\n",
       "dtype: int64"
      ]
     },
     "metadata": {},
     "output_type": "display_data"
    },
    {
     "data": {
      "text/plain": [
       "category\n",
       "1-Mundo                        157\n",
       "10-Salud                       157\n",
       "2-Economía                     156\n",
       "3-Política_y_Conflictos        156\n",
       "4-Ciencias_y_Tecnología        156\n",
       "5-Catástrofes_y_Accidentes     157\n",
       "6-Cultura_y_Artes              156\n",
       "7-Deporte                      156\n",
       "8-Ecología_y_Planeta           156\n",
       "9-Crimen_delitos_y_Justicia    157\n",
       "dtype: int64"
      ]
     },
     "metadata": {},
     "output_type": "display_data"
    }
   ],
   "source": [
    "display(train.groupby(['category']).size())\n",
    "display(valid.groupby(['category']).size())\n",
    "display(test.groupby(['category']).size())"
   ]
  },
  {
   "cell_type": "code",
   "execution_count": 12,
   "id": "a162657f",
   "metadata": {},
   "outputs": [
    {
     "data": {
      "text/plain": [
       "array(['8-Ecología_y_Planeta', '7-Deporte', '6-Cultura_y_Artes',\n",
       "       '2-Economía', '3-Política_y_Conflictos', '1-Mundo',\n",
       "       '9-Crimen_delitos_y_Justicia', '10-Salud',\n",
       "       '5-Catástrofes_y_Accidentes', '4-Ciencias_y_Tecnología'],\n",
       "      dtype=object)"
      ]
     },
     "execution_count": 12,
     "metadata": {},
     "output_type": "execute_result"
    }
   ],
   "source": [
    "test.category.unique()"
   ]
  },
  {
   "cell_type": "code",
   "execution_count": 13,
   "id": "03710320",
   "metadata": {},
   "outputs": [],
   "source": [
    "train.to_csv(\"CNN_train.csv\", encoding=\"UTF-8\",index=False)\n",
    "valid.to_csv(\"CNN_valid.csv\", encoding=\"UTF-8\",index=False)\n",
    "test.to_csv(\"CNN_test.csv\", encoding=\"UTF-8\",index=False)"
   ]
  },
  {
   "cell_type": "code",
   "execution_count": 14,
   "id": "6c9d4190",
   "metadata": {},
   "outputs": [],
   "source": [
    "import torch\n",
    "import random\n",
    "import torchtext\n",
    "from torchtext import data\n",
    "from torchtext.legacy import data"
   ]
  },
  {
   "cell_type": "code",
   "execution_count": 15,
   "id": "0913cadb",
   "metadata": {},
   "outputs": [],
   "source": [
    "#!python3 -m spacy download es_core_news_sm"
   ]
  },
  {
   "cell_type": "markdown",
   "id": "57579bb1",
   "metadata": {},
   "source": [
    "import spacy\n",
    "spacy_es = spacy.load('es_core_news_md')\n",
    "#spacy_es = spacy.load('es_core_news_sm')"
   ]
  },
  {
   "cell_type": "code",
   "execution_count": 16,
   "id": "ee584597",
   "metadata": {},
   "outputs": [],
   "source": [
    "\n",
    "TEXT = data.Field(tokenize=tokenizer, batch_first = True)\n",
    "CATEGORY = data.LabelField()  # MULTICLASS -se borró el argumento \"(dtype = torch.float)\""
   ]
  },
  {
   "cell_type": "code",
   "execution_count": 17,
   "id": "dab1fb95",
   "metadata": {},
   "outputs": [],
   "source": [
    "fields = [(None, None),(None, None),('content', TEXT),('category', CATEGORY)]"
   ]
  },
  {
   "cell_type": "code",
   "execution_count": null,
   "id": "feb2054e",
   "metadata": {},
   "outputs": [],
   "source": [
    "%%time\n",
    "import numpy as np\n",
    "\n",
    "SEED = RANDOM_STATE\n",
    "\n",
    "random.seed(SEED)\n",
    "np.random.seed(SEED)\n",
    "torch.manual_seed(SEED)\n",
    "torch.backends.cudnn.deterministic = True\n",
    "\n",
    "train_data, valid_data, test_data = data.TabularDataset.splits(\n",
    "                                        path = '.',\n",
    "                                        train = 'CNN_train.csv',\n",
    "                                        validation= 'CNN_valid.csv',\n",
    "                                        test = 'CNN_test.csv',\n",
    "                                        format = 'csv',\n",
    "                                        fields = fields,\n",
    "                                        skip_header = True\n",
    ")"
   ]
  },
  {
   "cell_type": "code",
   "execution_count": null,
   "id": "6af4519c",
   "metadata": {},
   "outputs": [],
   "source": [
    "device = torch.device('cuda' if torch.cuda.is_available() else 'cpu')\n",
    "# device = torch.device('cpu')\n",
    "DEVICE_NAME = str(device)\n",
    "\n",
    "print(DEVICE_NAME)\n",
    "\n",
    "train_iterator, valid_iterator, test_iterator = data.BucketIterator.splits(\n",
    "                                                    (train_data, valid_data, test_data), \n",
    "                                                    batch_size = BATCH_SIZE, \n",
    "                                                    device = device,\n",
    "                                                    sort_key=lambda x:len(x.category),\n",
    "                                                    sort_within_batch=False)"
   ]
  },
  {
   "cell_type": "code",
   "execution_count": null,
   "id": "5483a566",
   "metadata": {},
   "outputs": [],
   "source": [
    "#!wget http://dcc.uchile.cl/~jperez/word-embeddings/glove-sbwc.i25.vec.gz"
   ]
  },
  {
   "cell_type": "code",
   "execution_count": null,
   "id": "cd588094",
   "metadata": {},
   "outputs": [],
   "source": [
    "## TENER VECTORES EN ESPAÑOL\n",
    "vec = torchtext.vocab.Vectors('glove-sbwc.i25.vec.gz', cache='.')\n",
    "TEXT.build_vocab(train_data,\n",
    "                 vectors=vec,\n",
    "                 max_size=MAX_VOCAB_SIZE,\n",
    "                 unk_init=torch.Tensor.normal_)"
   ]
  },
  {
   "cell_type": "code",
   "execution_count": null,
   "id": "3e831ca2",
   "metadata": {},
   "outputs": [],
   "source": [
    "CATEGORY.build_vocab(train_data)"
   ]
  },
  {
   "cell_type": "code",
   "execution_count": null,
   "id": "03d3831a",
   "metadata": {},
   "outputs": [],
   "source": [
    "cat_map = { v: k for k, v in CATEGORY.vocab.stoi.items()}\n",
    "cat_map"
   ]
  },
  {
   "cell_type": "code",
   "execution_count": null,
   "id": "7414cd46",
   "metadata": {},
   "outputs": [],
   "source": [
    "import torch.nn as nn\n",
    "import torch.nn.functional as F\n",
    "\n",
    "class CNN(nn.Module):\n",
    "    def __init__(self, vocab_size, embedding_dim, n_filters, filter_sizes, output_dim, \n",
    "                 dropout, pad_idx):\n",
    "        \n",
    "        super().__init__()\n",
    "        self.embedding = nn.Embedding(vocab_size, embedding_dim)\n",
    "        self.convs = nn.ModuleList([\n",
    "                                    nn.Conv1d(in_channels = 1, \n",
    "                                              out_channels = n_filters, \n",
    "                                              kernel_size = (fs, embedding_dim)) \n",
    "                                    for fs in filter_sizes\n",
    "                                    ])\n",
    "        \n",
    "        self.fc = nn.Linear(len(filter_sizes) * n_filters, output_dim)\n",
    "        self.dropout = nn.Dropout(dropout)\n",
    "        \n",
    "    def forward(self, text):\n",
    "        \n",
    "        #text = [sent len, batch size]\n",
    "        \n",
    "        #text = text.permute(1, 0)\n",
    "                \n",
    "        #text = [batch size, sent len]\n",
    "        \n",
    "        embedded = self.embedding(text)\n",
    "                \n",
    "        #embedded = [batch size, sent len, emb dim]\n",
    "        \n",
    "        embedded = embedded.unsqueeze(1)\n",
    "        \n",
    "        #embedded = [batch size, 1, sent len, emb dim]\n",
    "        \n",
    "        conved = [F.relu(conv(embedded)).squeeze(3) for conv in self.convs]\n",
    "            \n",
    "        #conv_n = [batch size, n_filters, sent len - filter_sizes[n]]\n",
    "        \n",
    "        pooled = [F.max_pool1d(conv, conv.shape[2]).squeeze(2) for conv in conved]\n",
    "        \n",
    "        #pooled_n = [batch size, n_filters]\n",
    "        \n",
    "        cat = self.dropout(torch.cat(pooled, dim = 1))\n",
    "\n",
    "        #cat = [batch size, n_filters * len(filter_sizes)]\n",
    "        \n",
    "        return self.fc(cat)"
   ]
  },
  {
   "cell_type": "code",
   "execution_count": null,
   "id": "90137317",
   "metadata": {},
   "outputs": [],
   "source": [
    "PAD_IDX = TEXT.vocab.stoi[TEXT.pad_token]\n",
    "INPUT_DIM = len(TEXT.vocab)\n",
    "OUTPUT_DIM = len(CATEGORY.vocab) ##### MULTICLASS ---> la dimensión del output no es 1 (clasificación binaria)\n",
    "\n",
    "\n",
    "\n",
    "model = CNN(INPUT_DIM, EMBEDDING_DIM, N_FILTERS, FILTER_SIZES, OUTPUT_DIM, DROPOUT, PAD_IDX)\n",
    "model = model.to(device)"
   ]
  },
  {
   "cell_type": "code",
   "execution_count": null,
   "id": "cbe779ab",
   "metadata": {},
   "outputs": [],
   "source": [
    "OUTPUT_DIM"
   ]
  },
  {
   "cell_type": "code",
   "execution_count": null,
   "id": "a9350e58",
   "metadata": {},
   "outputs": [],
   "source": [
    "def count_parameters(model):\n",
    "    return sum(p.numel() for p in model.parameters() if p.requires_grad)\n",
    "\n",
    "print(f'The model has {count_parameters(model):,} trainable parameters')"
   ]
  },
  {
   "cell_type": "code",
   "execution_count": null,
   "id": "ca53842f",
   "metadata": {},
   "outputs": [],
   "source": [
    "pretrained_embeddings = TEXT.vocab.vectors\n",
    "UNK_IDX = TEXT.vocab.stoi[TEXT.unk_token]\n",
    "\n",
    "model.embedding.weight.data.copy_(pretrained_embeddings)\n",
    "model.embedding.weight.data[UNK_IDX] = torch.zeros(EMBEDDING_DIM)\n",
    "model.embedding.weight.data[PAD_IDX] = torch.zeros(EMBEDDING_DIM)\n",
    "model.embedding.weight.requires_grad = FREEZE_EMBEDDINGS"
   ]
  },
  {
   "cell_type": "code",
   "execution_count": null,
   "id": "a0de2bc6",
   "metadata": {},
   "outputs": [],
   "source": [
    "import torch.optim as optim\n",
    "\n",
    "optimizer = optim.Adam(model.parameters(), lr=LR)\n",
    "\n",
    "criterion = nn.CrossEntropyLoss() #MULTICLASS ---> en lugar de .BCEWithLogitsLoss() (Binary Cross Entropy)\n",
    "\n",
    "\n",
    "criterion = criterion.to(device)"
   ]
  },
  {
   "cell_type": "code",
   "execution_count": null,
   "id": "f336a003",
   "metadata": {},
   "outputs": [],
   "source": [
    "OPTIMIZER = type(optimizer).__name__\n",
    "CRITERION = type(criterion).__name__"
   ]
  },
  {
   "cell_type": "code",
   "execution_count": null,
   "id": "9d72a0e1",
   "metadata": {},
   "outputs": [],
   "source": [
    "def train(model, iterator, optimizer, criterion, divisor):\n",
    "    \n",
    "    epoch_loss = 0\n",
    "    epoch_acc = 0\n",
    "    \n",
    "    model.train()\n",
    "    \n",
    "    for batch in tqdm(iterator, desc='train'):\n",
    "        \n",
    "        optimizer.zero_grad()\n",
    "        \n",
    "        #print(\"Tamaño texto de entrada:\"+str(batch.body.shape))\n",
    "        \n",
    "        predictions = model(batch.content)\n",
    "        \n",
    "        #print(\"Tamaño predecciones de salida:\"+str(predictions.shape)) \n",
    "        \n",
    "        #print(\"Tamaño target:\"+str(batch.category.shape)) \n",
    "        \n",
    "        loss = criterion(predictions, batch.category)\n",
    "        \n",
    "        acc = categorical_accuracy(predictions, batch.category, divisor)\n",
    "        \n",
    "        loss.backward()\n",
    "        \n",
    "        optimizer.step()\n",
    "        \n",
    "        epoch_loss += loss.item()\n",
    "        epoch_acc += acc.item()\n",
    "        \n",
    "    return epoch_loss / len(iterator), epoch_acc / len(iterator)"
   ]
  },
  {
   "cell_type": "code",
   "execution_count": null,
   "id": "47e19de6",
   "metadata": {},
   "outputs": [],
   "source": [
    "import time\n",
    "\n",
    "def epoch_time(start_time, end_time):\n",
    "    elapsed_time = end_time - start_time\n",
    "    elapsed_mins = int(elapsed_time / 60)\n",
    "    elapsed_secs = int(elapsed_time - (elapsed_mins * 60))\n",
    "    return elapsed_mins, elapsed_secs"
   ]
  },
  {
   "cell_type": "code",
   "execution_count": null,
   "id": "2381ff58",
   "metadata": {},
   "outputs": [],
   "source": [
    "def categorical_accuracy(preds, y, divisor):\n",
    "    \"\"\"\n",
    "    Returns accuracy per batch, i.e. if you get 8/10 right, this returns 0.8, NOT 8\n",
    "    \"\"\"\n",
    "    max_preds = preds.argmax(dim=1, keepdim=True) # get the index of the max probability\n",
    "    correct = max_preds.squeeze(1).eq(y)\n",
    "    return correct.sum() / divisor([y.shape[0]])"
   ]
  },
  {
   "cell_type": "code",
   "execution_count": null,
   "id": "e41b871f",
   "metadata": {},
   "outputs": [],
   "source": [
    "def evaluate(model, iterator, criterion, divisor):\n",
    "    \n",
    "    epoch_loss = 0\n",
    "    epoch_acc = 0\n",
    "    \n",
    "    model.eval()\n",
    "    \n",
    "    with torch.no_grad():\n",
    "    \n",
    "        for batch in tqdm(iterator, desc='eval'):\n",
    "\n",
    "            predictions = model(batch.content)\n",
    "            loss = criterion(predictions, batch.category)\n",
    "            \n",
    "            acc = categorical_accuracy(predictions, batch.category, divisor)\n",
    "\n",
    "            epoch_loss += loss.item()\n",
    "            epoch_acc += acc.item()\n",
    "        \n",
    "    return epoch_loss / len(iterator), epoch_acc / len(iterator)\n",
    "\n"
   ]
  },
  {
   "cell_type": "code",
   "execution_count": null,
   "id": "0f02b32e",
   "metadata": {},
   "outputs": [],
   "source": [
    "divisor = torch.FloatTensor if str(device) == 'cpu' else torch.cuda.FloatTensor"
   ]
  },
  {
   "cell_type": "code",
   "execution_count": null,
   "id": "e3b9f24a",
   "metadata": {
    "scrolled": false
   },
   "outputs": [],
   "source": [
    "from datetime import datetime\n",
    "from os import remove\n",
    "\n",
    "print(\"inicio optimización\")\n",
    "\n",
    "best_valid_loss = float('inf')\n",
    "last_best = None\n",
    "OVERWRITE_MODEL_FILE = True\n",
    "#for epoch in range(N_EPOCHS):\n",
    "for epoch in range(N_EPOCHS):\n",
    "\n",
    "    start_time = time.time()\n",
    "    train_loss, train_acc = train(model, train_iterator, optimizer, criterion, divisor)\n",
    "    valid_loss, valid_acc = evaluate(model, valid_iterator, criterion, divisor)\n",
    "    \n",
    "    end_time = time.time()\n",
    "\n",
    "    epoch_mins, epoch_secs = epoch_time(start_time, end_time)\n",
    "    \n",
    "\n",
    "    if valid_loss < best_valid_loss:\n",
    "        best_valid_loss = valid_loss\n",
    "        best_epoch = epoch + 1\n",
    "        dt = str(datetime.now()).replace(' ', '_')\n",
    "        name = f'./models/CNN_ep{str(best_epoch)}_{dt}.pt'\n",
    "        torch.save({'epoca': epoch,\n",
    "                    'model_state_dict': model.state_dict(),\n",
    "                    'optimizer_state_dict': optimizer.state_dict(),\n",
    "                    'Valid_loss': best_valid_loss}, name)\n",
    "        if OVERWRITE_MODEL_FILE and last_best is not None:\n",
    "            remove(last_best)\n",
    "            last_best = name\n",
    "        elif OVERWRITE_MODEL_FILE and last_best is None:\n",
    "            last_best = name\n",
    "    \n",
    "    print(f'Epoch: {epoch+1:02} | Epoch Time: {epoch_mins}m {epoch_secs}s')\n",
    "    print(f'\\tTrain Loss: {train_loss:.3f} | Train Acc: {train_acc*100:.2f}%')\n",
    "    print(f'\\t Val. Loss: {valid_loss:.3f} |  Val. Acc: {valid_acc*100:.2f}%')"
   ]
  },
  {
   "cell_type": "code",
   "execution_count": null,
   "id": "a3082552",
   "metadata": {},
   "outputs": [],
   "source": [
    "name, best_epoch"
   ]
  },
  {
   "cell_type": "code",
   "execution_count": null,
   "id": "63a67076",
   "metadata": {},
   "outputs": [],
   "source": [
    "best_model = CNN(INPUT_DIM,\n",
    "                 EMBEDDING_DIM,\n",
    "                 N_FILTERS,\n",
    "                 FILTER_SIZES,\n",
    "                 OUTPUT_DIM,\n",
    "                 DROPOUT,\n",
    "                 PAD_IDX)"
   ]
  },
  {
   "cell_type": "code",
   "execution_count": null,
   "id": "467e4f87",
   "metadata": {},
   "outputs": [],
   "source": [
    "pretrained_embeddings = TEXT.vocab.vectors\n",
    "UNK_IDX = TEXT.vocab.stoi[TEXT.unk_token]\n",
    "\n",
    "best_model.embedding.weight.data.copy_(pretrained_embeddings)\n",
    "best_model.embedding.weight.data[UNK_IDX] = torch.zeros(EMBEDDING_DIM)\n",
    "best_model.embedding.weight.data[PAD_IDX] = torch.zeros(EMBEDDING_DIM)"
   ]
  },
  {
   "cell_type": "code",
   "execution_count": null,
   "id": "2ec854dc",
   "metadata": {},
   "outputs": [],
   "source": [
    "# name = './models/CNN_ep8_2021-12-13_12:56:03.466749.pt'"
   ]
  },
  {
   "cell_type": "code",
   "execution_count": null,
   "id": "c2555ca8",
   "metadata": {},
   "outputs": [],
   "source": [
    "best_model.load_state_dict(torch.load(name,\n",
    "                                      map_location=device)['model_state_dict'])"
   ]
  },
  {
   "cell_type": "code",
   "execution_count": null,
   "id": "43a57dd3",
   "metadata": {},
   "outputs": [],
   "source": [
    "best_model = best_model.to(device)"
   ]
  },
  {
   "cell_type": "code",
   "execution_count": null,
   "id": "abc25c8f",
   "metadata": {},
   "outputs": [],
   "source": [
    "best_model.eval()\n",
    "test_loss, test_acc = evaluate(best_model, test_iterator, criterion, divisor)\n",
    "\n",
    "print(f'Test Loss: {test_loss:.3f} | Test Acc: {test_acc*100:.2f}%')"
   ]
  },
  {
   "cell_type": "code",
   "execution_count": null,
   "id": "9c45be3b",
   "metadata": {},
   "outputs": [],
   "source": [
    "best_model = best_model.cpu()\n",
    "prediction_test = []\n",
    "labels_test=[]\n",
    "for batch in tqdm(test_iterator, desc='predictions'):\n",
    "    labels_test.append(batch.category.cpu().detach().numpy())\n",
    "    predictions = best_model(batch.content.cpu()).squeeze(1)\n",
    "    prediction_test.append(predictions.argmax(dim=1).detach().numpy())\n",
    "    \n",
    "y_true = np.concatenate(labels_test)\n",
    "y_pred = np.concatenate(prediction_test)"
   ]
  },
  {
   "cell_type": "code",
   "execution_count": null,
   "id": "e652958f",
   "metadata": {},
   "outputs": [],
   "source": [
    "lbs = list(cat_map.values())\n",
    "lbs"
   ]
  },
  {
   "cell_type": "code",
   "execution_count": null,
   "id": "5862ecd3",
   "metadata": {},
   "outputs": [],
   "source": [
    "from sklearn.metrics import confusion_matrix, classification_report\n",
    "%matplotlib notebook\n",
    "print('Resultados clasificación')\n",
    "print('CNN')\n",
    "print(classification_report(y_true,\n",
    "                            y_pred,\n",
    "                            target_names=lbs,))"
   ]
  },
  {
   "cell_type": "code",
   "execution_count": null,
   "id": "9bc5fa47",
   "metadata": {},
   "outputs": [],
   "source": [
    "from my_funcs import plot_confusion_matrix\n",
    "%matplotlib notebook"
   ]
  },
  {
   "cell_type": "code",
   "execution_count": null,
   "id": "475692df",
   "metadata": {
    "scrolled": false
   },
   "outputs": [],
   "source": [
    "cm = confusion_matrix(y_true=y_true, y_pred=y_pred)\n",
    "plot_confusion_matrix(cm, labels=lbs)"
   ]
  },
  {
   "cell_type": "code",
   "execution_count": null,
   "id": "be9357bf",
   "metadata": {},
   "outputs": [],
   "source": [
    "def predict_class(model, sentence, min_len = 4):\n",
    "\n",
    "    tokenized = tokenizer(sentence)\n",
    "    \n",
    "    if len(tokenized) < min_len:\n",
    "        tokenized += ['<pad>'] * (min_len - len(tokenized))\n",
    "    device = 'cpu'\n",
    "    indexed = [TEXT.vocab.stoi[t] for t in tokenized]\n",
    "    \n",
    "    tensor = torch.LongTensor(indexed).to(device)\n",
    "    tensor = tensor.unsqueeze(0)\n",
    "    preds = model(tensor)\n",
    "    print(preds)\n",
    "    max_preds = preds.argmax(dim = 1)\n",
    "    return max_preds.item()"
   ]
  },
  {
   "cell_type": "code",
   "execution_count": null,
   "id": "2dee00fa",
   "metadata": {},
   "outputs": [],
   "source": [
    "noticia = \"\"\"Sin embargo, estos experimentos se llevaban a cabo en secreto, y cuando otras secciones de Guardian se dieron cuenta, el proyecto se canceló de inmediato.\"\"\"\n",
    "cat_map.get(predict_class(best_model, noticia))"
   ]
  },
  {
   "cell_type": "code",
   "execution_count": null,
   "id": "9c8c801e",
   "metadata": {},
   "outputs": [],
   "source": [
    "cat_map.get(predict_class(best_model, \"alexis y la copa america le pegoOoOooO\"))"
   ]
  },
  {
   "cell_type": "code",
   "execution_count": null,
   "id": "85eb5e02",
   "metadata": {},
   "outputs": [],
   "source": [
    "noticia = \"\"\"Artistas mexicanos retoman los espacios públicos a través de la danza. Más de 120 artistas de 16 estados de México se reúnen para dar vida al Encuentro Nacional de Danza 2021. El evento cultural se lleva a cabo en distintos puntos de la capital del país, entre ellos el Complejo Cultural Los Pinos.\n",
    "\"\"\"\n",
    "cat_map.get(predict_class(best_model, noticia))"
   ]
  },
  {
   "cell_type": "markdown",
   "id": "38c132b2",
   "metadata": {},
   "source": [
    "# Comparar hiperparametros\n",
    "\n",
    "gaurdar parametros utilizados y algunas metricas en tabla resumen"
   ]
  },
  {
   "cell_type": "code",
   "execution_count": null,
   "id": "fa388da3",
   "metadata": {},
   "outputs": [],
   "source": [
    "wanted_keys = ['test_loss', 'test_acc', 'best_valid_loss', 'LR', 'ds_name', 'MAX_LEN', 'DROPOUT', \n",
    "               'N_EPOCHS', 'best_epoch', 'dt', 'TOKENIZER', 'DEVICE_NAME', 'MAX_VOCAB_SIZE',\n",
    "               'RANDOM_STATE', 'BATCH_SIZE', 'EMBEDDING_DIM', 'N_FILTERS', 'FILTER_SIZES',\n",
    "               'OPTIMIZER', 'CRITERION', 'FREEZE_EMBEDDINGS',\n",
    "              ]"
   ]
  },
  {
   "cell_type": "code",
   "execution_count": null,
   "id": "e0dd271c",
   "metadata": {},
   "outputs": [],
   "source": [
    "from operator import itemgetter\n",
    "wanted_values = list(itemgetter(*wanted_keys)(globals()))\n",
    "hparams = dict(zip(wanted_keys, wanted_values))\n",
    "saved = False\n",
    "hparams"
   ]
  },
  {
   "cell_type": "code",
   "execution_count": null,
   "id": "1e9daa6d",
   "metadata": {},
   "outputs": [],
   "source": [
    "import pickle\n",
    "try:\n",
    "    with open ('./cnn_info', 'rb') as fp:\n",
    "        attemps = pickle.load(fp)\n",
    "    if not saved:\n",
    "        attemps.append(hparams)\n",
    "        saved = True\n",
    "except FileNotFoundError:\n",
    "    print('cnn_info not found...')\n",
    "    attemps = [hparams]\n",
    "finally:\n",
    "    with open('./cnn_info', 'wb') as fp:\n",
    "        pickle.dump(attemps, fp)"
   ]
  },
  {
   "cell_type": "code",
   "execution_count": null,
   "id": "05df6f23",
   "metadata": {},
   "outputs": [],
   "source": [
    "pd.DataFrame(attemps[-10:], columns=wanted_keys[:4]+['TOKENIZER', 'MAX_LEN', 'ds_name'])"
   ]
  },
  {
   "cell_type": "code",
   "execution_count": null,
   "id": "8e3e8b26",
   "metadata": {},
   "outputs": [],
   "source": [
    "freno()"
   ]
  },
  {
   "cell_type": "code",
   "execution_count": null,
   "id": "690be451",
   "metadata": {},
   "outputs": [],
   "source": [
    "wanted_keys = ['test_loss', 'test_acc', 'best_valid_loss', 'LR', 'ds_name', 'MAX_LEN', 'DROPOUT', \n",
    "               'N_EPOCHS', 'best_epoch', 'dt', 'DEVICE_NAME', 'MAX_VOCAB_SIZE',\n",
    "               'RANDOM_STATE', 'BATCH_SIZE', 'EMBEDDING_DIM', 'N_FILTERS', 'FILTER_SIZES',\n",
    "               'OPTIMIZER', 'CRITERION', 'FREEZE_EMBEDDINGS',\n",
    "              ]"
   ]
  },
  {
   "cell_type": "code",
   "execution_count": null,
   "id": "d2735ed1",
   "metadata": {},
   "outputs": [],
   "source": [
    "import pickle\n",
    "import pandas as pd\n",
    "with open ('./cnn_info', 'rb') as fp:\n",
    "    attemps = pickle.load(fp)\n",
    "pd.DataFrame(attemps[-9:], columns=wanted_keys)"
   ]
  }
 ],
 "metadata": {
  "kernelspec": {
   "display_name": "Python 3 (ipykernel)",
   "language": "python",
   "name": "python3"
  },
  "language_info": {
   "codemirror_mode": {
    "name": "ipython",
    "version": 3
   },
   "file_extension": ".py",
   "mimetype": "text/x-python",
   "name": "python",
   "nbconvert_exporter": "python",
   "pygments_lexer": "ipython3",
   "version": "3.9.7"
  },
  "toc": {
   "base_numbering": 1,
   "nav_menu": {},
   "number_sections": true,
   "sideBar": true,
   "skip_h1_title": false,
   "title_cell": "Table of Contents",
   "title_sidebar": "Contents",
   "toc_cell": false,
   "toc_position": {},
   "toc_section_display": true,
   "toc_window_display": false
  }
 },
 "nbformat": 4,
 "nbformat_minor": 5
}
