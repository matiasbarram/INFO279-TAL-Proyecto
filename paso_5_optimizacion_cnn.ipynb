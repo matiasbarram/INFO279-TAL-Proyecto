{
 "cells": [
  {
   "cell_type": "code",
   "execution_count": 1,
   "id": "ab770e30",
   "metadata": {},
   "outputs": [],
   "source": [
    "import pandas as pd\n",
    "from os import listdir"
   ]
  },
  {
   "cell_type": "code",
   "execution_count": 2,
   "id": "7082e3a5",
   "metadata": {},
   "outputs": [
    {
     "name": "stdout",
     "output_type": "stream",
     "text": [
      "ds_balanced_795.csv\n",
      "ds_balanced_1111.csv\n"
     ]
    }
   ],
   "source": [
    "for file in reversed(sorted(listdir('.'))): #nos uqedamos con el mas grande en caso de actualizar el ds\n",
    "    if 'ds_balanced' in file:\n",
    "        print(file)"
   ]
  },
  {
   "cell_type": "code",
   "execution_count": 3,
   "id": "3fcd483d",
   "metadata": {},
   "outputs": [
    {
     "name": "stdout",
     "output_type": "stream",
     "text": [
      "selected:  ds_balanced_795.csv\n"
     ]
    }
   ],
   "source": [
    "ds_name = 'ds_balanced_795.csv' # con el otro (1111) empeora XD\n",
    "print('selected: ', ds_name)"
   ]
  },
  {
   "cell_type": "code",
   "execution_count": 4,
   "id": "276097bd",
   "metadata": {},
   "outputs": [
    {
     "name": "stdout",
     "output_type": "stream",
     "text": [
      "Index(['id', 'title', 'content', 'category'], dtype='object')\n"
     ]
    },
    {
     "data": {
      "text/html": [
       "<div>\n",
       "<style scoped>\n",
       "    .dataframe tbody tr th:only-of-type {\n",
       "        vertical-align: middle;\n",
       "    }\n",
       "\n",
       "    .dataframe tbody tr th {\n",
       "        vertical-align: top;\n",
       "    }\n",
       "\n",
       "    .dataframe thead th {\n",
       "        text-align: right;\n",
       "    }\n",
       "</style>\n",
       "<table border=\"1\" class=\"dataframe\">\n",
       "  <thead>\n",
       "    <tr style=\"text-align: right;\">\n",
       "      <th></th>\n",
       "      <th>title</th>\n",
       "      <th>content</th>\n",
       "    </tr>\n",
       "  </thead>\n",
       "  <tbody>\n",
       "    <tr>\n",
       "      <th>0</th>\n",
       "      <td>ONU advierte que la vacuna no basta para enfrentar la devastación del Covid-19</td>\n",
       "      <td>ONU advierte que la vacuna no basta para enfrentar la devastación del Covid-19. La vacuna contra el Covid-19 no pone fin a la devastación causada por la pandemia en el mundo, alertó el jueves el j...</td>\n",
       "    </tr>\n",
       "    <tr>\n",
       "      <th>1</th>\n",
       "      <td>11 millones de niñas en el mundo corren el riesgo de no volver a clases por el coronavirus</td>\n",
       "      <td>11 millones de niñas en el mundo corren el riesgo de no volver a clases por el coronavirus. Once millones de niñas en todo el mundo corren el riesgo de no volver a la escuela cuando terminen las r...</td>\n",
       "    </tr>\n",
       "    <tr>\n",
       "      <th>2</th>\n",
       "      <td>Canciller de Brasil presenta su renuncia tras presiones de legisladores bolsonaristas</td>\n",
       "      <td>Canciller de Brasil presenta su renuncia tras presiones de legisladores bolsonaristas. El ministro de Relaciones Exteriores de Brasil,  Ernesto Araújo , presentó este lunes su renuncia, tras fuert...</td>\n",
       "    </tr>\n",
       "    <tr>\n",
       "      <th>3</th>\n",
       "      <td>Viajes en un mundo posterior a la pandemia del coronavirus</td>\n",
       "      <td>Viajes en un mundo posterior a la pandemia del coronavirus. Se espera un enfriamiento del romance con las capitales europeas y que exista un nuevo cariño por las ciudades menos pobladas con grande...</td>\n",
       "    </tr>\n",
       "    <tr>\n",
       "      <th>4</th>\n",
       "      <td>Oposición gana las elecciones presidenciales en las islas Seychelles por primera vez en 40 años</td>\n",
       "      <td>Oposición gana las elecciones presidenciales en las islas Seychelles por primera vez en 40 años. El opositor  Wavel Ramkalawan se convirtió este domingo, con un 54,9% de los votos, en el quinto pr...</td>\n",
       "    </tr>\n",
       "  </tbody>\n",
       "</table>\n",
       "</div>"
      ],
      "text/plain": [
       "                                                                                             title  \\\n",
       "0                   ONU advierte que la vacuna no basta para enfrentar la devastación del Covid-19   \n",
       "1       11 millones de niñas en el mundo corren el riesgo de no volver a clases por el coronavirus   \n",
       "2            Canciller de Brasil presenta su renuncia tras presiones de legisladores bolsonaristas   \n",
       "3                                       Viajes en un mundo posterior a la pandemia del coronavirus   \n",
       "4  Oposición gana las elecciones presidenciales en las islas Seychelles por primera vez en 40 años   \n",
       "\n",
       "                                                                                                                                                                                                   content  \n",
       "0  ONU advierte que la vacuna no basta para enfrentar la devastación del Covid-19. La vacuna contra el Covid-19 no pone fin a la devastación causada por la pandemia en el mundo, alertó el jueves el j...  \n",
       "1  11 millones de niñas en el mundo corren el riesgo de no volver a clases por el coronavirus. Once millones de niñas en todo el mundo corren el riesgo de no volver a la escuela cuando terminen las r...  \n",
       "2  Canciller de Brasil presenta su renuncia tras presiones de legisladores bolsonaristas. El ministro de Relaciones Exteriores de Brasil,  Ernesto Araújo , presentó este lunes su renuncia, tras fuert...  \n",
       "3  Viajes en un mundo posterior a la pandemia del coronavirus. Se espera un enfriamiento del romance con las capitales europeas y que exista un nuevo cariño por las ciudades menos pobladas con grande...  \n",
       "4  Oposición gana las elecciones presidenciales en las islas Seychelles por primera vez en 40 años. El opositor  Wavel Ramkalawan se convirtió este domingo, con un 54,9% de los votos, en el quinto pr...  "
      ]
     },
     "execution_count": 4,
     "metadata": {},
     "output_type": "execute_result"
    }
   ],
   "source": [
    "df = pd.read_csv(ds_name)\n",
    "pd.set_option('display.max_colwidth', 200)\n",
    "print(df.columns)\n",
    "df[['title', 'content']].head()"
   ]
  },
  {
   "cell_type": "code",
   "execution_count": 5,
   "id": "a57c4a61",
   "metadata": {},
   "outputs": [],
   "source": [
    "MAX_LEN = 1200\n",
    "DROPOUT = 0.5\n",
    "MAX_VOCAB_SIZE = 50000\n",
    "RANDOM_STATE = 8008\n",
    "BATCH_SIZE = 32\n",
    "EMBEDDING_DIM = 300\n",
    "N_FILTERS = 100\n",
    "FILTER_SIZES = [2, 3, 4]\n",
    "LR = 0.001\n",
    "N_EPOCHS = 5"
   ]
  },
  {
   "cell_type": "markdown",
   "id": "97d256cb",
   "metadata": {},
   "source": [
    "## Truncar contenido\n",
    "### Cuanto?"
   ]
  },
  {
   "cell_type": "code",
   "execution_count": 6,
   "id": "52faa8d0",
   "metadata": {},
   "outputs": [
    {
     "name": "stdout",
     "output_type": "stream",
     "text": [
      "min len:  187\n",
      "max len:  1200\n"
     ]
    }
   ],
   "source": [
    "df['content'] = df.content.str.slice(0, MAX_LEN)\n",
    "print('min len: ', df.content.map(len).min())\n",
    "print('max len: ', df.content.map(len).max())"
   ]
  },
  {
   "cell_type": "code",
   "execution_count": 7,
   "id": "d70f14d7",
   "metadata": {},
   "outputs": [
    {
     "data": {
      "text/html": [
       "<div>\n",
       "<style scoped>\n",
       "    .dataframe tbody tr th:only-of-type {\n",
       "        vertical-align: middle;\n",
       "    }\n",
       "\n",
       "    .dataframe tbody tr th {\n",
       "        vertical-align: top;\n",
       "    }\n",
       "\n",
       "    .dataframe thead th {\n",
       "        text-align: right;\n",
       "    }\n",
       "</style>\n",
       "<table border=\"1\" class=\"dataframe\">\n",
       "  <thead>\n",
       "    <tr style=\"text-align: right;\">\n",
       "      <th></th>\n",
       "      <th>id</th>\n",
       "      <th>title</th>\n",
       "      <th>content</th>\n",
       "      <th>category</th>\n",
       "    </tr>\n",
       "  </thead>\n",
       "  <tbody>\n",
       "    <tr>\n",
       "      <th>0</th>\n",
       "      <td>5708146</td>\n",
       "      <td>ONU advierte que la vacuna no basta para enfrentar la devastación del Covid-19</td>\n",
       "      <td>ONU advierte que la vacuna no basta para enfrentar la devastación del Covid-19. La vacuna contra el Covid-19 no pone fin a la devastación causada por la pandemia en el mundo, alertó el jueves el j...</td>\n",
       "      <td>1-Mundo</td>\n",
       "    </tr>\n",
       "    <tr>\n",
       "      <th>1</th>\n",
       "      <td>6664788</td>\n",
       "      <td>11 millones de niñas en el mundo corren el riesgo de no volver a clases por el coronavirus</td>\n",
       "      <td>11 millones de niñas en el mundo corren el riesgo de no volver a clases por el coronavirus. Once millones de niñas en todo el mundo corren el riesgo de no volver a la escuela cuando terminen las r...</td>\n",
       "      <td>1-Mundo</td>\n",
       "    </tr>\n",
       "    <tr>\n",
       "      <th>2</th>\n",
       "      <td>14776151</td>\n",
       "      <td>Canciller de Brasil presenta su renuncia tras presiones de legisladores bolsonaristas</td>\n",
       "      <td>Canciller de Brasil presenta su renuncia tras presiones de legisladores bolsonaristas. El ministro de Relaciones Exteriores de Brasil,  Ernesto Araújo , presentó este lunes su renuncia, tras fuert...</td>\n",
       "      <td>1-Mundo</td>\n",
       "    </tr>\n",
       "    <tr>\n",
       "      <th>3</th>\n",
       "      <td>5742144</td>\n",
       "      <td>Viajes en un mundo posterior a la pandemia del coronavirus</td>\n",
       "      <td>Viajes en un mundo posterior a la pandemia del coronavirus. Se espera un enfriamiento del romance con las capitales europeas y que exista un nuevo cariño por las ciudades menos pobladas con grande...</td>\n",
       "      <td>1-Mundo</td>\n",
       "    </tr>\n",
       "    <tr>\n",
       "      <th>4</th>\n",
       "      <td>14798264</td>\n",
       "      <td>Oposición gana las elecciones presidenciales en las islas Seychelles por primera vez en 40 años</td>\n",
       "      <td>Oposición gana las elecciones presidenciales en las islas Seychelles por primera vez en 40 años. El opositor  Wavel Ramkalawan se convirtió este domingo, con un 54,9% de los votos, en el quinto pr...</td>\n",
       "      <td>1-Mundo</td>\n",
       "    </tr>\n",
       "    <tr>\n",
       "      <th>...</th>\n",
       "      <td>...</td>\n",
       "      <td>...</td>\n",
       "      <td>...</td>\n",
       "      <td>...</td>\n",
       "    </tr>\n",
       "    <tr>\n",
       "      <th>7945</th>\n",
       "      <td>5815421</td>\n",
       "      <td>Inicia juicio histórico para esclarecer “vuelos de la muerte” durante dictadura argentina</td>\n",
       "      <td>Inicia juicio histórico para esclarecer “vuelos de la muerte” durante dictadura argentina. Los procesos judiciales sobre los llamados “vuelos de la muerte” desde Campo de Mayo, uno de los centros ...</td>\n",
       "      <td>9-Crimen_delitos_y_Justicia</td>\n",
       "    </tr>\n",
       "    <tr>\n",
       "      <th>7946</th>\n",
       "      <td>4683781</td>\n",
       "      <td>Caso Corpesca: Fiscalía pide 11 años de cárcel para Orpis y 818 días de presidio para Isasi</td>\n",
       "      <td>Caso Corpesca: Fiscalía pide 11 años de cárcel para Orpis y 818 días de presidio para Isasi. Luego de que ayer el Tercer Tribunal Oral en lo Penal de Santiago entregara el veredicto en el caso Cor...</td>\n",
       "      <td>9-Crimen_delitos_y_Justicia</td>\n",
       "    </tr>\n",
       "    <tr>\n",
       "      <th>7947</th>\n",
       "      <td>13490868</td>\n",
       "      <td>Contraloría denuncia irregularidades en compra de terreno de $9.800 millones por parte de la Intendencia de Coquimbo</td>\n",
       "      <td>Contraloría denuncia irregularidades en compra de terreno de $9.800 millones por parte de la Intendencia de Coquimbo. La Contraloría General de la República denunció un presunto caso de  fraude al...</td>\n",
       "      <td>9-Crimen_delitos_y_Justicia</td>\n",
       "    </tr>\n",
       "    <tr>\n",
       "      <th>7948</th>\n",
       "      <td>4060291</td>\n",
       "      <td>Se imputarán 109 cargos: PDI detiene a 12 personas por daños causados en la Universidad de Concepción</td>\n",
       "      <td>Se imputarán 109 cargos: PDI detiene a 12 personas por daños causados en la Universidad de Concepción. Este lunes, la Policía de Investigaciones (PDI) de Concepción detuvo a 12 hombres por su pres...</td>\n",
       "      <td>9-Crimen_delitos_y_Justicia</td>\n",
       "    </tr>\n",
       "    <tr>\n",
       "      <th>7949</th>\n",
       "      <td>170404</td>\n",
       "      <td>Ministro Pérez tras ataque a Carabineros en Contulmo: \"Estos hechos no nos van a amedrentar\"</td>\n",
       "      <td>Ministro Pérez tras ataque a Carabineros en Contulmo: \"Estos hechos no nos van a amedrentar\". El ministro del Interior, Víctor Pérez, se refirió al ataque sufrido por personal de Carabineros la ta...</td>\n",
       "      <td>9-Crimen_delitos_y_Justicia</td>\n",
       "    </tr>\n",
       "  </tbody>\n",
       "</table>\n",
       "<p>7950 rows × 4 columns</p>\n",
       "</div>"
      ],
      "text/plain": [
       "            id  \\\n",
       "0      5708146   \n",
       "1      6664788   \n",
       "2     14776151   \n",
       "3      5742144   \n",
       "4     14798264   \n",
       "...        ...   \n",
       "7945   5815421   \n",
       "7946   4683781   \n",
       "7947  13490868   \n",
       "7948   4060291   \n",
       "7949    170404   \n",
       "\n",
       "                                                                                                                     title  \\\n",
       "0                                           ONU advierte que la vacuna no basta para enfrentar la devastación del Covid-19   \n",
       "1                               11 millones de niñas en el mundo corren el riesgo de no volver a clases por el coronavirus   \n",
       "2                                    Canciller de Brasil presenta su renuncia tras presiones de legisladores bolsonaristas   \n",
       "3                                                               Viajes en un mundo posterior a la pandemia del coronavirus   \n",
       "4                          Oposición gana las elecciones presidenciales en las islas Seychelles por primera vez en 40 años   \n",
       "...                                                                                                                    ...   \n",
       "7945                             Inicia juicio histórico para esclarecer “vuelos de la muerte” durante dictadura argentina   \n",
       "7946                           Caso Corpesca: Fiscalía pide 11 años de cárcel para Orpis y 818 días de presidio para Isasi   \n",
       "7947  Contraloría denuncia irregularidades en compra de terreno de $9.800 millones por parte de la Intendencia de Coquimbo   \n",
       "7948                 Se imputarán 109 cargos: PDI detiene a 12 personas por daños causados en la Universidad de Concepción   \n",
       "7949                          Ministro Pérez tras ataque a Carabineros en Contulmo: \"Estos hechos no nos van a amedrentar\"   \n",
       "\n",
       "                                                                                                                                                                                                      content  \\\n",
       "0     ONU advierte que la vacuna no basta para enfrentar la devastación del Covid-19. La vacuna contra el Covid-19 no pone fin a la devastación causada por la pandemia en el mundo, alertó el jueves el j...   \n",
       "1     11 millones de niñas en el mundo corren el riesgo de no volver a clases por el coronavirus. Once millones de niñas en todo el mundo corren el riesgo de no volver a la escuela cuando terminen las r...   \n",
       "2     Canciller de Brasil presenta su renuncia tras presiones de legisladores bolsonaristas. El ministro de Relaciones Exteriores de Brasil,  Ernesto Araújo , presentó este lunes su renuncia, tras fuert...   \n",
       "3     Viajes en un mundo posterior a la pandemia del coronavirus. Se espera un enfriamiento del romance con las capitales europeas y que exista un nuevo cariño por las ciudades menos pobladas con grande...   \n",
       "4     Oposición gana las elecciones presidenciales en las islas Seychelles por primera vez en 40 años. El opositor  Wavel Ramkalawan se convirtió este domingo, con un 54,9% de los votos, en el quinto pr...   \n",
       "...                                                                                                                                                                                                       ...   \n",
       "7945  Inicia juicio histórico para esclarecer “vuelos de la muerte” durante dictadura argentina. Los procesos judiciales sobre los llamados “vuelos de la muerte” desde Campo de Mayo, uno de los centros ...   \n",
       "7946  Caso Corpesca: Fiscalía pide 11 años de cárcel para Orpis y 818 días de presidio para Isasi. Luego de que ayer el Tercer Tribunal Oral en lo Penal de Santiago entregara el veredicto en el caso Cor...   \n",
       "7947  Contraloría denuncia irregularidades en compra de terreno de $9.800 millones por parte de la Intendencia de Coquimbo. La Contraloría General de la República denunció un presunto caso de  fraude al...   \n",
       "7948  Se imputarán 109 cargos: PDI detiene a 12 personas por daños causados en la Universidad de Concepción. Este lunes, la Policía de Investigaciones (PDI) de Concepción detuvo a 12 hombres por su pres...   \n",
       "7949  Ministro Pérez tras ataque a Carabineros en Contulmo: \"Estos hechos no nos van a amedrentar\". El ministro del Interior, Víctor Pérez, se refirió al ataque sufrido por personal de Carabineros la ta...   \n",
       "\n",
       "                         category  \n",
       "0                         1-Mundo  \n",
       "1                         1-Mundo  \n",
       "2                         1-Mundo  \n",
       "3                         1-Mundo  \n",
       "4                         1-Mundo  \n",
       "...                           ...  \n",
       "7945  9-Crimen_delitos_y_Justicia  \n",
       "7946  9-Crimen_delitos_y_Justicia  \n",
       "7947  9-Crimen_delitos_y_Justicia  \n",
       "7948  9-Crimen_delitos_y_Justicia  \n",
       "7949  9-Crimen_delitos_y_Justicia  \n",
       "\n",
       "[7950 rows x 4 columns]"
      ]
     },
     "execution_count": 7,
     "metadata": {},
     "output_type": "execute_result"
    }
   ],
   "source": [
    "df = df[['id', 'title', 'content', 'category']]\n",
    "df"
   ]
  },
  {
   "cell_type": "code",
   "execution_count": 8,
   "id": "2edc4240",
   "metadata": {},
   "outputs": [],
   "source": [
    "RANDOM_STATE = 42\n",
    "from sklearn.utils import shuffle\n",
    "df = shuffle(df, random_state=RANDOM_STATE)"
   ]
  },
  {
   "cell_type": "code",
   "execution_count": 9,
   "id": "0fdd4472",
   "metadata": {},
   "outputs": [],
   "source": [
    "import numpy as np\n",
    "from sklearn.model_selection import StratifiedShuffleSplit\n",
    "\n",
    "split = StratifiedShuffleSplit(n_splits=1, test_size=0.45, random_state=RANDOM_STATE)\n",
    "for train_index, test_valid_index in split.split(df, df.category):\n",
    "    train = df.iloc[train_index]\n",
    "    test_valid_set = df.iloc[test_valid_index]\n",
    "\n",
    "split2 = StratifiedShuffleSplit(n_splits=1, test_size=0.75, random_state=RANDOM_STATE)\n",
    "for test_index, valid_index in split2.split(test_valid_set, test_valid_set.category):\n",
    "    test = test_valid_set.iloc[test_index]\n",
    "    valid = test_valid_set.iloc[valid_index]\n",
    "\n",
    "\n",
    "#valid, test, train = np.split(df, [ int(.15*len(df)), int(.3*len(df))] )"
   ]
  },
  {
   "cell_type": "code",
   "execution_count": 10,
   "id": "d3d151c3",
   "metadata": {},
   "outputs": [
    {
     "name": "stdout",
     "output_type": "stream",
     "text": [
      "(7950, 4)\n",
      "(4372, 4)\n",
      "(2684, 4)\n",
      "(894, 4)\n"
     ]
    }
   ],
   "source": [
    "print(df.shape)\n",
    "print(train.shape)\n",
    "print(valid.shape)\n",
    "print(test.shape)"
   ]
  },
  {
   "cell_type": "code",
   "execution_count": 11,
   "id": "f14a999d",
   "metadata": {},
   "outputs": [
    {
     "data": {
      "text/plain": [
       "category\n",
       "1-Mundo                        437\n",
       "10-Salud                       438\n",
       "2-Economía                     437\n",
       "3-Política_y_Conflictos        437\n",
       "4-Ciencias_y_Tecnología        437\n",
       "5-Catástrofes_y_Accidentes     437\n",
       "6-Cultura_y_Artes              437\n",
       "7-Deporte                      437\n",
       "8-Ecología_y_Planeta           438\n",
       "9-Crimen_delitos_y_Justicia    437\n",
       "dtype: int64"
      ]
     },
     "metadata": {},
     "output_type": "display_data"
    },
    {
     "data": {
      "text/plain": [
       "category\n",
       "1-Mundo                        268\n",
       "10-Salud                       268\n",
       "2-Economía                     268\n",
       "3-Política_y_Conflictos        269\n",
       "4-Ciencias_y_Tecnología        269\n",
       "5-Catástrofes_y_Accidentes     269\n",
       "6-Cultura_y_Artes              268\n",
       "7-Deporte                      269\n",
       "8-Ecología_y_Planeta           268\n",
       "9-Crimen_delitos_y_Justicia    268\n",
       "dtype: int64"
      ]
     },
     "metadata": {},
     "output_type": "display_data"
    },
    {
     "data": {
      "text/plain": [
       "category\n",
       "1-Mundo                        90\n",
       "10-Salud                       89\n",
       "2-Economía                     90\n",
       "3-Política_y_Conflictos        89\n",
       "4-Ciencias_y_Tecnología        89\n",
       "5-Catástrofes_y_Accidentes     89\n",
       "6-Cultura_y_Artes              90\n",
       "7-Deporte                      89\n",
       "8-Ecología_y_Planeta           89\n",
       "9-Crimen_delitos_y_Justicia    90\n",
       "dtype: int64"
      ]
     },
     "metadata": {},
     "output_type": "display_data"
    }
   ],
   "source": [
    "display(train.groupby(['category']).size())\n",
    "display(valid.groupby(['category']).size())\n",
    "display(test.groupby(['category']).size())"
   ]
  },
  {
   "cell_type": "code",
   "execution_count": 12,
   "id": "a162657f",
   "metadata": {},
   "outputs": [
    {
     "data": {
      "text/plain": [
       "array(['3-Política_y_Conflictos', '1-Mundo', '5-Catástrofes_y_Accidentes',\n",
       "       '10-Salud', '9-Crimen_delitos_y_Justicia',\n",
       "       '4-Ciencias_y_Tecnología', '8-Ecología_y_Planeta', '2-Economía',\n",
       "       '7-Deporte', '6-Cultura_y_Artes'], dtype=object)"
      ]
     },
     "execution_count": 12,
     "metadata": {},
     "output_type": "execute_result"
    }
   ],
   "source": [
    "test.category.unique()"
   ]
  },
  {
   "cell_type": "code",
   "execution_count": 13,
   "id": "03710320",
   "metadata": {},
   "outputs": [],
   "source": [
    "train.to_csv(\"CNN_train.csv\", encoding=\"UTF-8\",index=False)\n",
    "valid.to_csv(\"CNN_valid.csv\", encoding=\"UTF-8\",index=False)\n",
    "test.to_csv(\"CNN_test.csv\", encoding=\"UTF-8\",index=False)"
   ]
  },
  {
   "cell_type": "code",
   "execution_count": 14,
   "id": "6c9d4190",
   "metadata": {},
   "outputs": [],
   "source": [
    "import torch\n",
    "import spacy\n",
    "import random\n",
    "import torchtext\n",
    "from torchtext import data\n",
    "from torchtext import datasets\n",
    "from torchtext.legacy import data"
   ]
  },
  {
   "cell_type": "code",
   "execution_count": 15,
   "id": "0913cadb",
   "metadata": {},
   "outputs": [],
   "source": [
    "#!python3 -m spacy download es_core_news_sm"
   ]
  },
  {
   "cell_type": "code",
   "execution_count": 16,
   "id": "eaedbc1c",
   "metadata": {},
   "outputs": [],
   "source": [
    "spacy_es = spacy.load('es_core_news_md')\n",
    "#spacy_es = spacy.load('es_core_news_sm')"
   ]
  },
  {
   "cell_type": "code",
   "execution_count": 17,
   "id": "9694e609",
   "metadata": {},
   "outputs": [],
   "source": [
    "def tokenize_es(sentence):\n",
    "    return [tok.text for tok in spacy_es.tokenizer(sentence)]"
   ]
  },
  {
   "cell_type": "code",
   "execution_count": 18,
   "id": "ee584597",
   "metadata": {},
   "outputs": [],
   "source": [
    "TEXT = data.Field(tokenize=tokenize_es, batch_first = True)\n",
    "CATEGORY = data.LabelField()  # MULTICLASS -se borró el argumento \"(dtype = torch.float)\""
   ]
  },
  {
   "cell_type": "code",
   "execution_count": 19,
   "id": "dab1fb95",
   "metadata": {},
   "outputs": [],
   "source": [
    "fields = [(None, None),(None, None),('content', TEXT),('category', CATEGORY)]"
   ]
  },
  {
   "cell_type": "code",
   "execution_count": 20,
   "id": "feb2054e",
   "metadata": {},
   "outputs": [],
   "source": [
    "import numpy as np\n",
    "\n",
    "SEED = RANDOM_STATE\n",
    "\n",
    "random.seed(SEED)\n",
    "np.random.seed(SEED)\n",
    "torch.manual_seed(SEED)\n",
    "torch.backends.cudnn.deterministic = True\n",
    "\n",
    "train_data, valid_data, test_data = data.TabularDataset.splits(\n",
    "                                        path = '.',\n",
    "                                        train = 'CNN_train.csv',\n",
    "                                        validation= 'CNN_valid.csv',\n",
    "                                        test = 'CNN_test.csv',\n",
    "                                        format = 'csv',\n",
    "                                        fields = fields,\n",
    "                                        skip_header = True\n",
    ")"
   ]
  },
  {
   "cell_type": "code",
   "execution_count": 21,
   "id": "6af4519c",
   "metadata": {},
   "outputs": [
    {
     "name": "stdout",
     "output_type": "stream",
     "text": [
      "cpu\n"
     ]
    }
   ],
   "source": [
    "#device = torch.device('cuda' if torch.cuda.is_available() else 'cpu')\n",
    "device = torch.device('cpu')\n",
    "DEVICE_NAME = str(device)\n",
    "\n",
    "print(DEVICE_NAME)\n",
    "\n",
    "train_iterator, valid_iterator, test_iterator = data.BucketIterator.splits(\n",
    "                                                    (train_data, valid_data, test_data), \n",
    "                                                    batch_size = BATCH_SIZE, \n",
    "                                                    device = device,\n",
    "                                                    sort_key=lambda x:len(x.category),\n",
    "                                                    sort_within_batch=False)"
   ]
  },
  {
   "cell_type": "code",
   "execution_count": 22,
   "id": "5483a566",
   "metadata": {},
   "outputs": [],
   "source": [
    "#!wget http://dcc.uchile.cl/~jperez/word-embeddings/glove-sbwc.i25.vec.gz"
   ]
  },
  {
   "cell_type": "code",
   "execution_count": 23,
   "id": "cd588094",
   "metadata": {},
   "outputs": [],
   "source": [
    "## TENER VECTORES EN ESPAÑOL\n",
    "vec = torchtext.vocab.Vectors('glove-sbwc.i25.vec.gz', cache='.')\n",
    "TEXT.build_vocab(train_data,\n",
    "                 vectors=vec,\n",
    "                 max_size=MAX_VOCAB_SIZE,\n",
    "                 unk_init=torch.Tensor.normal_)"
   ]
  },
  {
   "cell_type": "code",
   "execution_count": 24,
   "id": "3e831ca2",
   "metadata": {},
   "outputs": [],
   "source": [
    "CATEGORY.build_vocab(train_data)"
   ]
  },
  {
   "cell_type": "code",
   "execution_count": 25,
   "id": "03d3831a",
   "metadata": {},
   "outputs": [
    {
     "data": {
      "text/plain": [
       "{0: '10-Salud',\n",
       " 1: '8-Ecología_y_Planeta',\n",
       " 2: '1-Mundo',\n",
       " 3: '2-Economía',\n",
       " 4: '3-Política_y_Conflictos',\n",
       " 5: '4-Ciencias_y_Tecnología',\n",
       " 6: '5-Catástrofes_y_Accidentes',\n",
       " 7: '6-Cultura_y_Artes',\n",
       " 8: '7-Deporte',\n",
       " 9: '9-Crimen_delitos_y_Justicia'}"
      ]
     },
     "execution_count": 25,
     "metadata": {},
     "output_type": "execute_result"
    }
   ],
   "source": [
    "cat_map = { v: k for k, v in CATEGORY.vocab.stoi.items()}\n",
    "cat_map"
   ]
  },
  {
   "cell_type": "code",
   "execution_count": 26,
   "id": "7414cd46",
   "metadata": {},
   "outputs": [],
   "source": [
    "import torch.nn as nn\n",
    "import torch.nn.functional as F\n",
    "\n",
    "class CNN(nn.Module):\n",
    "    def __init__(self, vocab_size, embedding_dim, n_filters, filter_sizes, output_dim, \n",
    "                 dropout, pad_idx):\n",
    "        \n",
    "        super().__init__()\n",
    "        self.embedding = nn.Embedding(vocab_size, embedding_dim)\n",
    "        self.convs = nn.ModuleList([\n",
    "                                    nn.Conv1d(in_channels = 1, \n",
    "                                              out_channels = n_filters, \n",
    "                                              kernel_size = (fs, embedding_dim)) \n",
    "                                    for fs in filter_sizes\n",
    "                                    ])\n",
    "        \n",
    "        self.fc = nn.Linear(len(filter_sizes) * n_filters, output_dim)\n",
    "        self.dropout = nn.Dropout(dropout)\n",
    "        \n",
    "    def forward(self, text):\n",
    "        \n",
    "        #text = [sent len, batch size]\n",
    "        \n",
    "        #text = text.permute(1, 0)\n",
    "                \n",
    "        #text = [batch size, sent len]\n",
    "        \n",
    "        embedded = self.embedding(text)\n",
    "                \n",
    "        #embedded = [batch size, sent len, emb dim]\n",
    "        \n",
    "        embedded = embedded.unsqueeze(1)\n",
    "        \n",
    "        #embedded = [batch size, 1, sent len, emb dim]\n",
    "        \n",
    "        conved = [F.relu(conv(embedded)).squeeze(3) for conv in self.convs]\n",
    "            \n",
    "        #conv_n = [batch size, n_filters, sent len - filter_sizes[n]]\n",
    "        \n",
    "        pooled = [F.max_pool1d(conv, conv.shape[2]).squeeze(2) for conv in conved]\n",
    "        \n",
    "        #pooled_n = [batch size, n_filters]\n",
    "        \n",
    "        cat = self.dropout(torch.cat(pooled, dim = 1))\n",
    "\n",
    "        #cat = [batch size, n_filters * len(filter_sizes)]\n",
    "        \n",
    "        return self.fc(cat)"
   ]
  },
  {
   "cell_type": "code",
   "execution_count": 27,
   "id": "90137317",
   "metadata": {},
   "outputs": [],
   "source": [
    "PAD_IDX = TEXT.vocab.stoi[TEXT.pad_token]\n",
    "INPUT_DIM = len(TEXT.vocab)\n",
    "OUTPUT_DIM = len(CATEGORY.vocab) ##### MULTICLASS ---> la dimensión del output no es 1 (clasificación binaria)\n",
    "\n",
    "\n",
    "\n",
    "model = CNN(INPUT_DIM, EMBEDDING_DIM, N_FILTERS, FILTER_SIZES, OUTPUT_DIM, DROPOUT, PAD_IDX)\n",
    "model = model.to(device)"
   ]
  },
  {
   "cell_type": "code",
   "execution_count": 28,
   "id": "cbe779ab",
   "metadata": {},
   "outputs": [
    {
     "data": {
      "text/plain": [
       "10"
      ]
     },
     "execution_count": 28,
     "metadata": {},
     "output_type": "execute_result"
    }
   ],
   "source": [
    "OUTPUT_DIM"
   ]
  },
  {
   "cell_type": "code",
   "execution_count": 29,
   "id": "a9350e58",
   "metadata": {},
   "outputs": [
    {
     "name": "stdout",
     "output_type": "stream",
     "text": [
      "The model has 15,273,910 trainable parameters\n"
     ]
    }
   ],
   "source": [
    "def count_parameters(model):\n",
    "    return sum(p.numel() for p in model.parameters() if p.requires_grad)\n",
    "\n",
    "print(f'The model has {count_parameters(model):,} trainable parameters')"
   ]
  },
  {
   "cell_type": "code",
   "execution_count": 30,
   "id": "ca53842f",
   "metadata": {},
   "outputs": [],
   "source": [
    "pretrained_embeddings = TEXT.vocab.vectors\n",
    "UNK_IDX = TEXT.vocab.stoi[TEXT.unk_token]\n",
    "\n",
    "model.embedding.weight.data.copy_(pretrained_embeddings)\n",
    "model.embedding.weight.data[UNK_IDX] = torch.zeros(EMBEDDING_DIM)\n",
    "model.embedding.weight.data[PAD_IDX] = torch.zeros(EMBEDDING_DIM)"
   ]
  },
  {
   "cell_type": "code",
   "execution_count": 31,
   "id": "a0de2bc6",
   "metadata": {},
   "outputs": [],
   "source": [
    "import torch.optim as optim\n",
    "\n",
    "optimizer = optim.Adam(model.parameters(), lr=LR)\n",
    "\n",
    "criterion = nn.CrossEntropyLoss() #MULTICLASS ---> en lugar de .BCEWithLogitsLoss() (Binary Cross Entropy)\n",
    "\n",
    "\n",
    "criterion = criterion.to(device)"
   ]
  },
  {
   "cell_type": "code",
   "execution_count": 32,
   "id": "f336a003",
   "metadata": {},
   "outputs": [],
   "source": [
    "OPTIMIZER = type(optimizer).__name__\n",
    "CRITERION = type(criterion).__name__"
   ]
  },
  {
   "cell_type": "code",
   "execution_count": 33,
   "id": "9d72a0e1",
   "metadata": {},
   "outputs": [],
   "source": [
    "from tqdm import tqdm\n",
    "def train(model, iterator, optimizer, criterion, divisor):\n",
    "    \n",
    "    epoch_loss = 0\n",
    "    epoch_acc = 0\n",
    "    \n",
    "    model.train()\n",
    "    \n",
    "    for batch in tqdm(iterator, desc='train'):\n",
    "        \n",
    "        optimizer.zero_grad()\n",
    "        \n",
    "        #print(\"Tamaño texto de entrada:\"+str(batch.body.shape))\n",
    "        \n",
    "        predictions = model(batch.content)\n",
    "        \n",
    "        #print(\"Tamaño predecciones de salida:\"+str(predictions.shape)) \n",
    "        \n",
    "        #print(\"Tamaño target:\"+str(batch.category.shape)) \n",
    "        \n",
    "        loss = criterion(predictions, batch.category)\n",
    "        \n",
    "        acc = categorical_accuracy(predictions, batch.category, divisor)\n",
    "        \n",
    "        loss.backward()\n",
    "        \n",
    "        optimizer.step()\n",
    "        \n",
    "        epoch_loss += loss.item()\n",
    "        epoch_acc += acc.item()\n",
    "        \n",
    "    return epoch_loss / len(iterator), epoch_acc / len(iterator)"
   ]
  },
  {
   "cell_type": "code",
   "execution_count": 34,
   "id": "47e19de6",
   "metadata": {},
   "outputs": [],
   "source": [
    "import time\n",
    "\n",
    "def epoch_time(start_time, end_time):\n",
    "    elapsed_time = end_time - start_time\n",
    "    elapsed_mins = int(elapsed_time / 60)\n",
    "    elapsed_secs = int(elapsed_time - (elapsed_mins * 60))\n",
    "    return elapsed_mins, elapsed_secs"
   ]
  },
  {
   "cell_type": "code",
   "execution_count": 35,
   "id": "2381ff58",
   "metadata": {},
   "outputs": [],
   "source": [
    "def categorical_accuracy(preds, y, divisor):\n",
    "    \"\"\"\n",
    "    Returns accuracy per batch, i.e. if you get 8/10 right, this returns 0.8, NOT 8\n",
    "    \"\"\"\n",
    "    max_preds = preds.argmax(dim=1, keepdim=True) # get the index of the max probability\n",
    "    correct = max_preds.squeeze(1).eq(y)\n",
    "    return correct.sum() / divisor([y.shape[0]])"
   ]
  },
  {
   "cell_type": "code",
   "execution_count": 36,
   "id": "e41b871f",
   "metadata": {},
   "outputs": [],
   "source": [
    "def evaluate(model, iterator, criterion, divisor):\n",
    "    \n",
    "    epoch_loss = 0\n",
    "    epoch_acc = 0\n",
    "    \n",
    "    model.eval()\n",
    "    \n",
    "    with torch.no_grad():\n",
    "    \n",
    "        for batch in tqdm(iterator, desc='eval'):\n",
    "\n",
    "            predictions = model(batch.content)\n",
    "            loss = criterion(predictions, batch.category)\n",
    "            \n",
    "            acc = categorical_accuracy(predictions, batch.category, divisor)\n",
    "\n",
    "            epoch_loss += loss.item()\n",
    "            epoch_acc += acc.item()\n",
    "        \n",
    "    return epoch_loss / len(iterator), epoch_acc / len(iterator)\n",
    "\n"
   ]
  },
  {
   "cell_type": "code",
   "execution_count": 37,
   "id": "e3b9f24a",
   "metadata": {
    "scrolled": false
   },
   "outputs": [
    {
     "name": "stdout",
     "output_type": "stream",
     "text": [
      "inicio optimización\n"
     ]
    },
    {
     "name": "stderr",
     "output_type": "stream",
     "text": [
      "train: 100%|██████████████████████████████████| 137/137 [01:30<00:00,  1.51it/s]\n",
      "eval: 100%|█████████████████████████████████████| 84/84 [00:17<00:00,  4.83it/s]\n"
     ]
    },
    {
     "name": "stdout",
     "output_type": "stream",
     "text": [
      "Epoch: 01 | Epoch Time: 1m 48s\n",
      "\tTrain Loss: 1.663 | Train Acc: 44.74%\n",
      "\t Val. Loss: 0.944 |  Val. Acc: 72.40%\n"
     ]
    },
    {
     "name": "stderr",
     "output_type": "stream",
     "text": [
      "train: 100%|██████████████████████████████████| 137/137 [01:37<00:00,  1.40it/s]\n",
      "eval: 100%|█████████████████████████████████████| 84/84 [00:13<00:00,  6.17it/s]\n"
     ]
    },
    {
     "name": "stdout",
     "output_type": "stream",
     "text": [
      "Epoch: 02 | Epoch Time: 1m 51s\n",
      "\tTrain Loss: 0.875 | Train Acc: 72.19%\n",
      "\t Val. Loss: 0.729 |  Val. Acc: 77.71%\n"
     ]
    },
    {
     "name": "stderr",
     "output_type": "stream",
     "text": [
      "train: 100%|██████████████████████████████████| 137/137 [01:25<00:00,  1.60it/s]\n",
      "eval: 100%|█████████████████████████████████████| 84/84 [00:12<00:00,  6.52it/s]\n"
     ]
    },
    {
     "name": "stdout",
     "output_type": "stream",
     "text": [
      "Epoch: 03 | Epoch Time: 1m 38s\n",
      "\tTrain Loss: 0.632 | Train Acc: 80.58%\n",
      "\t Val. Loss: 0.645 |  Val. Acc: 79.79%\n"
     ]
    },
    {
     "name": "stderr",
     "output_type": "stream",
     "text": [
      "train: 100%|██████████████████████████████████| 137/137 [01:24<00:00,  1.62it/s]\n",
      "eval: 100%|█████████████████████████████████████| 84/84 [00:13<00:00,  6.44it/s]\n"
     ]
    },
    {
     "name": "stdout",
     "output_type": "stream",
     "text": [
      "Epoch: 04 | Epoch Time: 1m 37s\n",
      "\tTrain Loss: 0.437 | Train Acc: 86.77%\n",
      "\t Val. Loss: 0.649 |  Val. Acc: 79.82%\n"
     ]
    },
    {
     "name": "stderr",
     "output_type": "stream",
     "text": [
      "train: 100%|██████████████████████████████████| 137/137 [01:24<00:00,  1.62it/s]\n",
      "eval: 100%|█████████████████████████████████████| 84/84 [00:13<00:00,  6.06it/s]\n"
     ]
    },
    {
     "name": "stdout",
     "output_type": "stream",
     "text": [
      "Epoch: 05 | Epoch Time: 1m 38s\n",
      "\tTrain Loss: 0.283 | Train Acc: 92.25%\n",
      "\t Val. Loss: 0.607 |  Val. Acc: 81.32%\n"
     ]
    }
   ],
   "source": [
    "from datetime import datetime\n",
    "from os import remove\n",
    "from tqdm import trange\n",
    "\n",
    "print(\"inicio optimización\")\n",
    "\n",
    "best_valid_loss = float('inf')\n",
    "last_best = None\n",
    "OVERWRITE_MODEL_FILE = True\n",
    "for epoch in range(N_EPOCHS):\n",
    "\n",
    "    start_time = time.time()\n",
    "    divisor = torch.FloatTensor if str(device) == 'cpu' else torch.cuda.FloatTensor\n",
    "    train_loss, train_acc = train(model, train_iterator, optimizer, criterion, divisor)\n",
    "    valid_loss, valid_acc = evaluate(model, valid_iterator, criterion, divisor)\n",
    "    \n",
    "    end_time = time.time()\n",
    "\n",
    "    epoch_mins, epoch_secs = epoch_time(start_time, end_time)\n",
    "    \n",
    "\n",
    "    if valid_loss < best_valid_loss:\n",
    "        best_valid_loss = valid_loss\n",
    "        best_epoch = epoch + 1\n",
    "        dt = str(datetime.now()).replace(' ', '_')\n",
    "        name = f'./CNN_ep{str(best_epoch)}_{dt}.pt'\n",
    "        torch.save({'epoca': epoch,\n",
    "                    'model_state_dict': model.state_dict(),\n",
    "                    'optimizer_state_dict': optimizer.state_dict(),\n",
    "                    'Valid_loss': best_valid_loss}, name)\n",
    "        if OVERWRITE_MODEL_FILE and last_best is not None:\n",
    "            remove(last_best)\n",
    "            last_best = name\n",
    "        elif OVERWRITE_MODEL_FILE and last_best is None:\n",
    "            last_best = name\n",
    "    \n",
    "    print(f'Epoch: {epoch+1:02} | Epoch Time: {epoch_mins}m {epoch_secs}s')\n",
    "    print(f'\\tTrain Loss: {train_loss:.3f} | Train Acc: {train_acc*100:.2f}%')\n",
    "    print(f'\\t Val. Loss: {valid_loss:.3f} |  Val. Acc: {valid_acc*100:.2f}%')"
   ]
  },
  {
   "cell_type": "code",
   "execution_count": 38,
   "id": "a3082552",
   "metadata": {},
   "outputs": [
    {
     "data": {
      "text/plain": [
       "('./CNN_ep5_2021-12-05_21:30:54.268886.pt', 5)"
      ]
     },
     "execution_count": 38,
     "metadata": {},
     "output_type": "execute_result"
    }
   ],
   "source": [
    "name, best_epoch"
   ]
  },
  {
   "cell_type": "code",
   "execution_count": 39,
   "id": "63a67076",
   "metadata": {},
   "outputs": [],
   "source": [
    "best_model = CNN(INPUT_DIM,\n",
    "                 EMBEDDING_DIM,\n",
    "                 N_FILTERS,\n",
    "                 FILTER_SIZES,\n",
    "                 OUTPUT_DIM,\n",
    "                 DROPOUT,\n",
    "                 PAD_IDX)"
   ]
  },
  {
   "cell_type": "code",
   "execution_count": 40,
   "id": "467e4f87",
   "metadata": {},
   "outputs": [],
   "source": [
    "pretrained_embeddings = TEXT.vocab.vectors\n",
    "UNK_IDX = TEXT.vocab.stoi[TEXT.unk_token]\n",
    "\n",
    "best_model.embedding.weight.data.copy_(pretrained_embeddings)\n",
    "best_model.embedding.weight.data[UNK_IDX] = torch.zeros(EMBEDDING_DIM)\n",
    "best_model.embedding.weight.data[PAD_IDX] = torch.zeros(EMBEDDING_DIM)"
   ]
  },
  {
   "cell_type": "code",
   "execution_count": 41,
   "id": "c2555ca8",
   "metadata": {},
   "outputs": [
    {
     "data": {
      "text/plain": [
       "<All keys matched successfully>"
      ]
     },
     "execution_count": 41,
     "metadata": {},
     "output_type": "execute_result"
    }
   ],
   "source": [
    "best_model.load_state_dict(torch.load(name,\n",
    "                                      map_location=torch.device('cpu'))['model_state_dict'])"
   ]
  },
  {
   "cell_type": "code",
   "execution_count": 42,
   "id": "abc25c8f",
   "metadata": {},
   "outputs": [
    {
     "name": "stderr",
     "output_type": "stream",
     "text": [
      "eval: 100%|█████████████████████████████████████| 28/28 [00:04<00:00,  6.01it/s]"
     ]
    },
    {
     "name": "stdout",
     "output_type": "stream",
     "text": [
      "Test Loss: 0.643 | Test Acc: 79.49%\n"
     ]
    },
    {
     "name": "stderr",
     "output_type": "stream",
     "text": [
      "\n"
     ]
    }
   ],
   "source": [
    "test_loss, test_acc = evaluate(model, test_iterator, criterion, divisor)\n",
    "\n",
    "print(f'Test Loss: {test_loss:.3f} | Test Acc: {test_acc*100:.2f}%')"
   ]
  },
  {
   "cell_type": "code",
   "execution_count": 43,
   "id": "9c45be3b",
   "metadata": {},
   "outputs": [
    {
     "name": "stderr",
     "output_type": "stream",
     "text": [
      "predictions: 100%|██████████████████████████████| 28/28 [00:04<00:00,  6.06it/s]\n"
     ]
    }
   ],
   "source": [
    "best_model.eval()\n",
    "prediction_test = []\n",
    "labels_test=[]\n",
    "for batch in tqdm(test_iterator, desc='predictions'):\n",
    "    labels_test.append(batch.category.cpu().detach().numpy())\n",
    "    predictions = best_model(batch.content.cpu()).squeeze(1)\n",
    "    prediction_test.append(predictions.argmax(dim=1).detach().numpy())\n",
    "    \n",
    "y_true = np.concatenate(labels_test)\n",
    "y_pred = np.concatenate(prediction_test)"
   ]
  },
  {
   "cell_type": "code",
   "execution_count": 44,
   "id": "e652958f",
   "metadata": {},
   "outputs": [
    {
     "data": {
      "text/plain": [
       "['10-Salud',\n",
       " '8-Ecología_y_Planeta',\n",
       " '1-Mundo',\n",
       " '2-Economía',\n",
       " '3-Política_y_Conflictos',\n",
       " '4-Ciencias_y_Tecnología',\n",
       " '5-Catástrofes_y_Accidentes',\n",
       " '6-Cultura_y_Artes',\n",
       " '7-Deporte',\n",
       " '9-Crimen_delitos_y_Justicia']"
      ]
     },
     "execution_count": 44,
     "metadata": {},
     "output_type": "execute_result"
    }
   ],
   "source": [
    "lbs = list(cat_map.values())\n",
    "lbs"
   ]
  },
  {
   "cell_type": "code",
   "execution_count": 45,
   "id": "5862ecd3",
   "metadata": {},
   "outputs": [
    {
     "name": "stdout",
     "output_type": "stream",
     "text": [
      "                             precision    recall  f1-score   support\n",
      "\n",
      "                   10-Salud       0.78      0.80      0.79        89\n",
      "       8-Ecología_y_Planeta       0.86      0.81      0.83        89\n",
      "                    1-Mundo       0.65      0.69      0.67        90\n",
      "                 2-Economía       0.75      0.79      0.77        90\n",
      "    3-Política_y_Conflictos       0.70      0.72      0.71        89\n",
      "    4-Ciencias_y_Tecnología       0.85      0.75      0.80        89\n",
      " 5-Catástrofes_y_Accidentes       0.77      0.91      0.84        89\n",
      "          6-Cultura_y_Artes       0.91      0.78      0.84        90\n",
      "                  7-Deporte       0.97      0.96      0.96        89\n",
      "9-Crimen_delitos_y_Justicia       0.76      0.76      0.76        90\n",
      "\n",
      "                   accuracy                           0.80       894\n",
      "                  macro avg       0.80      0.80      0.80       894\n",
      "               weighted avg       0.80      0.80      0.80       894\n",
      "\n"
     ]
    }
   ],
   "source": [
    "from sklearn.metrics import confusion_matrix, classification_report\n",
    "from sklearn.metrics import precision_recall_fscore_support\n",
    "import matplotlib.pyplot as plt\n",
    "print(classification_report(y_true,\n",
    "                            y_pred,\n",
    "                            target_names=lbs,))"
   ]
  },
  {
   "cell_type": "code",
   "execution_count": 46,
   "id": "9bc5fa47",
   "metadata": {},
   "outputs": [],
   "source": [
    "from my_funcs import plot_confusion_matrix"
   ]
  },
  {
   "cell_type": "code",
   "execution_count": 47,
   "id": "475692df",
   "metadata": {
    "scrolled": false
   },
   "outputs": [
    {
     "data": {
      "image/png": "[encoded data removed]",
      "text/plain": [
       "<Figure size 504x504 with 1 Axes>"
      ]
     },
     "metadata": {
      "needs_background": "light"
     },
     "output_type": "display_data"
    }
   ],
   "source": [
    "cm = confusion_matrix(y_true=y_true, y_pred=y_pred)\n",
    "plot_confusion_matrix(cm, labels=lbs)"
   ]
  },
  {
   "cell_type": "code",
   "execution_count": 48,
   "id": "be9357bf",
   "metadata": {},
   "outputs": [],
   "source": [
    "def predict_class(model, sentence, min_len = 4):\n",
    "\n",
    "    tokenized = [tok.text for tok in spacy_es.tokenizer(sentence)]\n",
    "    \n",
    "    if len(tokenized) < min_len:\n",
    "        tokenized += ['<pad>'] * (min_len - len(tokenized))\n",
    "    device = 'cpu'\n",
    "    indexed = [TEXT.vocab.stoi[t] for t in tokenized]\n",
    "    \n",
    "    tensor = torch.LongTensor(indexed).to(device)\n",
    "    tensor = tensor.unsqueeze(0)\n",
    "    preds = model(tensor)\n",
    "    print(preds)\n",
    "    max_preds = preds.argmax(dim = 1)\n",
    "    return max_preds.item()"
   ]
  },
  {
   "cell_type": "code",
   "execution_count": 49,
   "id": "2dee00fa",
   "metadata": {},
   "outputs": [
    {
     "name": "stdout",
     "output_type": "stream",
     "text": [
      "tensor([[ 0.0594, -0.0625, -0.1782, -0.4153,  0.1685,  0.2468, -0.0568, -0.0506,\n",
      "         -0.5387, -0.1981]], grad_fn=<AddmmBackward0>)\n"
     ]
    },
    {
     "name": "stderr",
     "output_type": "stream",
     "text": [
      "[W NNPACK.cpp:79] Could not initialize NNPACK! Reason: Unsupported hardware.\n"
     ]
    },
    {
     "data": {
      "text/plain": [
       "'4-Ciencias_y_Tecnología'"
      ]
     },
     "execution_count": 49,
     "metadata": {},
     "output_type": "execute_result"
    }
   ],
   "source": [
    "noticia = \"\"\"Sin embargo, estos experimentos se llevaban a cabo en secreto, y cuando otras secciones de Guardian se dieron cuenta, el proyecto se canceló de inmediato.\"\"\"\n",
    "cat_map.get(predict_class(best_model, noticia))"
   ]
  },
  {
   "cell_type": "code",
   "execution_count": 50,
   "id": "9c8c801e",
   "metadata": {},
   "outputs": [
    {
     "name": "stdout",
     "output_type": "stream",
     "text": [
      "tensor([[-1.6018, -1.2782, -0.7680, -1.2669, -1.0760,  0.4911, -2.8055,  1.5090,\n",
      "          4.9858, -1.4373]], grad_fn=<AddmmBackward0>)\n"
     ]
    },
    {
     "data": {
      "text/plain": [
       "'7-Deporte'"
      ]
     },
     "execution_count": 50,
     "metadata": {},
     "output_type": "execute_result"
    }
   ],
   "source": [
    "cat_map.get(predict_class(best_model, \"alexis y la copa america le pegoOoOooO\"))"
   ]
  },
  {
   "cell_type": "code",
   "execution_count": 51,
   "id": "85eb5e02",
   "metadata": {},
   "outputs": [
    {
     "name": "stdout",
     "output_type": "stream",
     "text": [
      "tensor([[-0.9212, -1.2128,  0.1934, -2.5718, -1.0014, -0.0180, -3.2939,  4.4412,\n",
      "         -1.8534, -3.0718]], grad_fn=<AddmmBackward0>)\n"
     ]
    },
    {
     "data": {
      "text/plain": [
       "'6-Cultura_y_Artes'"
      ]
     },
     "execution_count": 51,
     "metadata": {},
     "output_type": "execute_result"
    }
   ],
   "source": [
    "noticia = \"\"\"Artistas mexicanos retoman los espacios públicos a través de la danza. Más de 120 artistas de 16 estados de México se reúnen para dar vida al Encuentro Nacional de Danza 2021. El evento cultural se lleva a cabo en distintos puntos de la capital del país, entre ellos el Complejo Cultural Los Pinos.\n",
    "\"\"\"\n",
    "cat_map.get(predict_class(best_model, noticia))"
   ]
  },
  {
   "cell_type": "markdown",
   "id": "38c132b2",
   "metadata": {},
   "source": [
    "# Comparar hiperparametros\n",
    "\n",
    "gaurdar parametros utilizados y algunas metricas en tabla resumen"
   ]
  },
  {
   "cell_type": "code",
   "execution_count": 52,
   "id": "e0dd271c",
   "metadata": {},
   "outputs": [
    {
     "data": {
      "text/plain": [
       "{'test_loss': 0.6428214449967656,\n",
       " 'test_acc': 0.7949404759066445,\n",
       " 'best_valid_loss': 0.606749277561903,\n",
       " 'LR': 0.001,\n",
       " 'ds_name': 'ds_balanced_795.csv',\n",
       " 'MAX_LEN': 1200,\n",
       " 'DROPOUT': 0.5,\n",
       " 'N_EPOCHS': 5,\n",
       " 'best_epoch': 5,\n",
       " 'dt': '2021-12-05_21:30:54.268886',\n",
       " 'DEVICE_NAME': 'cpu',\n",
       " 'MAX_VOCAB_SIZE': 50000,\n",
       " 'RANDOM_STATE': 42,\n",
       " 'BATCH_SIZE': 32,\n",
       " 'EMBEDDING_DIM': 300,\n",
       " 'N_FILTERS': 100,\n",
       " 'FILTER_SIZES': [2, 3, 4],\n",
       " 'OPTIMIZER': 'Adam',\n",
       " 'CRITERION': 'CrossEntropyLoss'}"
      ]
     },
     "execution_count": 52,
     "metadata": {},
     "output_type": "execute_result"
    }
   ],
   "source": [
    "from operator import itemgetter\n",
    "wanted_keys = ['test_loss', 'test_acc', 'best_valid_loss', 'LR', 'ds_name', 'MAX_LEN', 'DROPOUT', \n",
    "               'N_EPOCHS', 'best_epoch', 'dt', 'DEVICE_NAME', 'MAX_VOCAB_SIZE',\n",
    "               'RANDOM_STATE', 'BATCH_SIZE', 'EMBEDDING_DIM', 'N_FILTERS', 'FILTER_SIZES',\n",
    "               'OPTIMIZER', 'CRITERION',\n",
    "              ]\n",
    "wanted_values = list(itemgetter(*wanted_keys)(globals()))\n",
    "hparams = dict(zip(wanted_keys, wanted_values))\n",
    "saved = False\n",
    "hparams"
   ]
  },
  {
   "cell_type": "code",
   "execution_count": 53,
   "id": "1e9daa6d",
   "metadata": {},
   "outputs": [],
   "source": [
    "import pickle\n",
    "try:\n",
    "    with open ('./cnn_info', 'rb') as fp:\n",
    "        attemps = pickle.load(fp)\n",
    "    if not saved:\n",
    "        attemps.append(hparams)\n",
    "        saved = True\n",
    "except FileNotFoundError:\n",
    "    print('cnn_info not found...')\n",
    "    attemps = [hparams]\n",
    "finally:\n",
    "    with open('./cnn_info', 'wb') as fp:\n",
    "        pickle.dump(attemps, fp)"
   ]
  },
  {
   "cell_type": "code",
   "execution_count": 62,
   "id": "05df6f23",
   "metadata": {},
   "outputs": [
    {
     "data": {
      "text/html": [
       "<div>\n",
       "<style scoped>\n",
       "    .dataframe tbody tr th:only-of-type {\n",
       "        vertical-align: middle;\n",
       "    }\n",
       "\n",
       "    .dataframe tbody tr th {\n",
       "        vertical-align: top;\n",
       "    }\n",
       "\n",
       "    .dataframe thead th {\n",
       "        text-align: right;\n",
       "    }\n",
       "</style>\n",
       "<table border=\"1\" class=\"dataframe\">\n",
       "  <thead>\n",
       "    <tr style=\"text-align: right;\">\n",
       "      <th></th>\n",
       "      <th>test_loss</th>\n",
       "      <th>test_acc</th>\n",
       "      <th>best_valid_loss</th>\n",
       "      <th>LR</th>\n",
       "      <th>ds_name</th>\n",
       "      <th>MAX_LEN</th>\n",
       "      <th>DROPOUT</th>\n",
       "      <th>N_EPOCHS</th>\n",
       "      <th>best_epoch</th>\n",
       "      <th>dt</th>\n",
       "      <th>DEVICE_NAME</th>\n",
       "      <th>MAX_VOCAB_SIZE</th>\n",
       "      <th>RANDOM_STATE</th>\n",
       "      <th>BATCH_SIZE</th>\n",
       "      <th>EMBEDDING_DIM</th>\n",
       "      <th>N_FILTERS</th>\n",
       "      <th>FILTER_SIZES</th>\n",
       "      <th>OPTIMIZER</th>\n",
       "      <th>CRITERION</th>\n",
       "    </tr>\n",
       "  </thead>\n",
       "  <tbody>\n",
       "    <tr>\n",
       "      <th>0</th>\n",
       "      <td>0.642012</td>\n",
       "      <td>0.805506</td>\n",
       "      <td>0.679949</td>\n",
       "      <td>0.001</td>\n",
       "      <td>ds_balanced_795.csv</td>\n",
       "      <td>800</td>\n",
       "      <td>0.5</td>\n",
       "      <td>5</td>\n",
       "      <td>2</td>\n",
       "      <td>2021-11-27_12:03:25.328457</td>\n",
       "      <td>cpu</td>\n",
       "      <td>50000</td>\n",
       "      <td>42</td>\n",
       "      <td>32</td>\n",
       "      <td>300</td>\n",
       "      <td>100</td>\n",
       "      <td>[2, 3, 4]</td>\n",
       "      <td>Adam</td>\n",
       "      <td>CrossEntropyLoss</td>\n",
       "    </tr>\n",
       "    <tr>\n",
       "      <th>1</th>\n",
       "      <td>0.647319</td>\n",
       "      <td>0.782738</td>\n",
       "      <td>0.628116</td>\n",
       "      <td>0.001</td>\n",
       "      <td>ds_balanced_795.csv</td>\n",
       "      <td>1000</td>\n",
       "      <td>0.5</td>\n",
       "      <td>5</td>\n",
       "      <td>5</td>\n",
       "      <td>2021-11-27_12:42:07.138385</td>\n",
       "      <td>cpu</td>\n",
       "      <td>50000</td>\n",
       "      <td>42</td>\n",
       "      <td>32</td>\n",
       "      <td>300</td>\n",
       "      <td>100</td>\n",
       "      <td>[2, 3, 4]</td>\n",
       "      <td>Adam</td>\n",
       "      <td>CrossEntropyLoss</td>\n",
       "    </tr>\n",
       "    <tr>\n",
       "      <th>2</th>\n",
       "      <td>0.664787</td>\n",
       "      <td>0.775967</td>\n",
       "      <td>0.632048</td>\n",
       "      <td>0.001</td>\n",
       "      <td>ds_balanced_795.csv</td>\n",
       "      <td>1000</td>\n",
       "      <td>0.4</td>\n",
       "      <td>5</td>\n",
       "      <td>5</td>\n",
       "      <td>2021-11-27_12:55:15.880132</td>\n",
       "      <td>cpu</td>\n",
       "      <td>50000</td>\n",
       "      <td>42</td>\n",
       "      <td>32</td>\n",
       "      <td>300</td>\n",
       "      <td>100</td>\n",
       "      <td>[2, 3, 4]</td>\n",
       "      <td>Adam</td>\n",
       "      <td>CrossEntropyLoss</td>\n",
       "    </tr>\n",
       "    <tr>\n",
       "      <th>3</th>\n",
       "      <td>0.642821</td>\n",
       "      <td>0.794940</td>\n",
       "      <td>0.606749</td>\n",
       "      <td>0.001</td>\n",
       "      <td>ds_balanced_795.csv</td>\n",
       "      <td>1200</td>\n",
       "      <td>0.5</td>\n",
       "      <td>5</td>\n",
       "      <td>5</td>\n",
       "      <td>2021-11-27_13:21:58.449466</td>\n",
       "      <td>cpu</td>\n",
       "      <td>50000</td>\n",
       "      <td>42</td>\n",
       "      <td>32</td>\n",
       "      <td>300</td>\n",
       "      <td>100</td>\n",
       "      <td>[2, 3, 4]</td>\n",
       "      <td>Adam</td>\n",
       "      <td>CrossEntropyLoss</td>\n",
       "    </tr>\n",
       "    <tr>\n",
       "      <th>4</th>\n",
       "      <td>0.676788</td>\n",
       "      <td>0.796057</td>\n",
       "      <td>0.606749</td>\n",
       "      <td>0.001</td>\n",
       "      <td>ds_balanced_795.csv</td>\n",
       "      <td>1200</td>\n",
       "      <td>0.5</td>\n",
       "      <td>10</td>\n",
       "      <td>5</td>\n",
       "      <td>2021-11-27_13:35:33.390381</td>\n",
       "      <td>cpu</td>\n",
       "      <td>50000</td>\n",
       "      <td>42</td>\n",
       "      <td>32</td>\n",
       "      <td>300</td>\n",
       "      <td>100</td>\n",
       "      <td>[2, 3, 4]</td>\n",
       "      <td>Adam</td>\n",
       "      <td>CrossEntropyLoss</td>\n",
       "    </tr>\n",
       "    <tr>\n",
       "      <th>5</th>\n",
       "      <td>0.733618</td>\n",
       "      <td>0.766890</td>\n",
       "      <td>0.680969</td>\n",
       "      <td>0.001</td>\n",
       "      <td>ds_balanced_795.csv</td>\n",
       "      <td>600</td>\n",
       "      <td>0.5</td>\n",
       "      <td>5</td>\n",
       "      <td>5</td>\n",
       "      <td>2021-11-27_14:51:54.985375</td>\n",
       "      <td>cpu</td>\n",
       "      <td>50000</td>\n",
       "      <td>42</td>\n",
       "      <td>32</td>\n",
       "      <td>300</td>\n",
       "      <td>100</td>\n",
       "      <td>[2, 3, 4]</td>\n",
       "      <td>Adam</td>\n",
       "      <td>CrossEntropyLoss</td>\n",
       "    </tr>\n",
       "    <tr>\n",
       "      <th>6</th>\n",
       "      <td>0.642821</td>\n",
       "      <td>0.794940</td>\n",
       "      <td>0.606749</td>\n",
       "      <td>0.001</td>\n",
       "      <td>ds_balanced_795.csv</td>\n",
       "      <td>1200</td>\n",
       "      <td>0.5</td>\n",
       "      <td>5</td>\n",
       "      <td>5</td>\n",
       "      <td>2021-12-05_21:30:54.268886</td>\n",
       "      <td>cpu</td>\n",
       "      <td>50000</td>\n",
       "      <td>42</td>\n",
       "      <td>32</td>\n",
       "      <td>300</td>\n",
       "      <td>100</td>\n",
       "      <td>[2, 3, 4]</td>\n",
       "      <td>Adam</td>\n",
       "      <td>CrossEntropyLoss</td>\n",
       "    </tr>\n",
       "  </tbody>\n",
       "</table>\n",
       "</div>"
      ],
      "text/plain": [
       "   test_loss  test_acc  best_valid_loss     LR              ds_name  MAX_LEN  \\\n",
       "0   0.642012  0.805506         0.679949  0.001  ds_balanced_795.csv      800   \n",
       "1   0.647319  0.782738         0.628116  0.001  ds_balanced_795.csv     1000   \n",
       "2   0.664787  0.775967         0.632048  0.001  ds_balanced_795.csv     1000   \n",
       "3   0.642821  0.794940         0.606749  0.001  ds_balanced_795.csv     1200   \n",
       "4   0.676788  0.796057         0.606749  0.001  ds_balanced_795.csv     1200   \n",
       "5   0.733618  0.766890         0.680969  0.001  ds_balanced_795.csv      600   \n",
       "6   0.642821  0.794940         0.606749  0.001  ds_balanced_795.csv     1200   \n",
       "\n",
       "   DROPOUT  N_EPOCHS  best_epoch                          dt DEVICE_NAME  \\\n",
       "0      0.5         5           2  2021-11-27_12:03:25.328457         cpu   \n",
       "1      0.5         5           5  2021-11-27_12:42:07.138385         cpu   \n",
       "2      0.4         5           5  2021-11-27_12:55:15.880132         cpu   \n",
       "3      0.5         5           5  2021-11-27_13:21:58.449466         cpu   \n",
       "4      0.5        10           5  2021-11-27_13:35:33.390381         cpu   \n",
       "5      0.5         5           5  2021-11-27_14:51:54.985375         cpu   \n",
       "6      0.5         5           5  2021-12-05_21:30:54.268886         cpu   \n",
       "\n",
       "   MAX_VOCAB_SIZE  RANDOM_STATE  BATCH_SIZE  EMBEDDING_DIM  N_FILTERS  \\\n",
       "0           50000            42          32            300        100   \n",
       "1           50000            42          32            300        100   \n",
       "2           50000            42          32            300        100   \n",
       "3           50000            42          32            300        100   \n",
       "4           50000            42          32            300        100   \n",
       "5           50000            42          32            300        100   \n",
       "6           50000            42          32            300        100   \n",
       "\n",
       "  FILTER_SIZES OPTIMIZER         CRITERION  \n",
       "0    [2, 3, 4]      Adam  CrossEntropyLoss  \n",
       "1    [2, 3, 4]      Adam  CrossEntropyLoss  \n",
       "2    [2, 3, 4]      Adam  CrossEntropyLoss  \n",
       "3    [2, 3, 4]      Adam  CrossEntropyLoss  \n",
       "4    [2, 3, 4]      Adam  CrossEntropyLoss  \n",
       "5    [2, 3, 4]      Adam  CrossEntropyLoss  \n",
       "6    [2, 3, 4]      Adam  CrossEntropyLoss  "
      ]
     },
     "execution_count": 62,
     "metadata": {},
     "output_type": "execute_result"
    }
   ],
   "source": [
    "pd.DataFrame(attemps, columns=wanted_keys)"
   ]
  }
 ],
 "metadata": {
  "kernelspec": {
   "display_name": "Python 3 (ipykernel)",
   "language": "python",
   "name": "python3"
  },
  "language_info": {
   "codemirror_mode": {
    "name": "ipython",
    "version": 3
   },
   "file_extension": ".py",
   "mimetype": "text/x-python",
   "name": "python",
   "nbconvert_exporter": "python",
   "pygments_lexer": "ipython3",
   "version": "3.9.7"
  },
  "toc": {
   "base_numbering": 1,
   "nav_menu": {},
   "number_sections": true,
   "sideBar": true,
   "skip_h1_title": false,
   "title_cell": "Table of Contents",
   "title_sidebar": "Contents",
   "toc_cell": false,
   "toc_position": {},
   "toc_section_display": true,
   "toc_window_display": false
  }
 },
 "nbformat": 4,
 "nbformat_minor": 5
}
