{
 "cells": [
  {
   "cell_type": "code",
   "execution_count": 1,
   "id": "ab770e30",
   "metadata": {},
   "outputs": [],
   "source": [
    "import pandas as pd\n",
    "from os import listdir"
   ]
  },
  {
   "cell_type": "code",
   "execution_count": 2,
<<<<<<< HEAD
   "id": "422d447f",
=======
   "id": "d4bd29fe",
>>>>>>> e56c17ae7ca7509ef2a8991980792782459566ac
   "metadata": {},
   "outputs": [
    {
     "name": "stdout",
     "output_type": "stream",
     "text": [
      "ds_balanced_795.csv\n",
      "selected:  ds_balanced_795.csv\n"
     ]
    }
   ],
   "source": [
    "for file in sorted(listdir('.')): #nos uqedamos con el mas grande en caso de actualizar el ds\n",
    "    if 'ds_balanced' in file:\n",
    "        print(file)\n",
    "        df_name = file\n",
    "        \n",
    "print('selected: ', df_name)"
   ]
  },
  {
   "cell_type": "code",
   "execution_count": 3,
   "id": "276097bd",
   "metadata": {},
   "outputs": [
    {
     "name": "stdout",
     "output_type": "stream",
     "text": [
      "Index(['id', 'title', 'content', 'category'], dtype='object')\n"
     ]
    },
    {
     "data": {
      "text/html": [
       "<div>\n",
       "<style scoped>\n",
       "    .dataframe tbody tr th:only-of-type {\n",
       "        vertical-align: middle;\n",
       "    }\n",
       "\n",
       "    .dataframe tbody tr th {\n",
       "        vertical-align: top;\n",
       "    }\n",
       "\n",
       "    .dataframe thead th {\n",
       "        text-align: right;\n",
       "    }\n",
       "</style>\n",
       "<table border=\"1\" class=\"dataframe\">\n",
       "  <thead>\n",
       "    <tr style=\"text-align: right;\">\n",
       "      <th></th>\n",
       "      <th>title</th>\n",
       "      <th>content</th>\n",
       "    </tr>\n",
       "  </thead>\n",
       "  <tbody>\n",
       "    <tr>\n",
       "      <th>0</th>\n",
       "      <td>ONU advierte que la vacuna no basta para enfrentar la devastación del Covid-19</td>\n",
       "      <td>ONU advierte que la vacuna no basta para enfrentar la devastación del Covid-19. La vacuna contra el Covid-19 no pone fin a la devastación causada por la pandemia en el mundo, alertó el jueves el j...</td>\n",
       "    </tr>\n",
       "    <tr>\n",
       "      <th>1</th>\n",
       "      <td>11 millones de niñas en el mundo corren el riesgo de no volver a clases por el coronavirus</td>\n",
       "      <td>11 millones de niñas en el mundo corren el riesgo de no volver a clases por el coronavirus. Once millones de niñas en todo el mundo corren el riesgo de no volver a la escuela cuando terminen las r...</td>\n",
       "    </tr>\n",
       "    <tr>\n",
       "      <th>2</th>\n",
       "      <td>Canciller de Brasil presenta su renuncia tras presiones de legisladores bolsonaristas</td>\n",
       "      <td>Canciller de Brasil presenta su renuncia tras presiones de legisladores bolsonaristas. El ministro de Relaciones Exteriores de Brasil,  Ernesto Araújo , presentó este lunes su renuncia, tras fuert...</td>\n",
       "    </tr>\n",
       "    <tr>\n",
       "      <th>3</th>\n",
       "      <td>Viajes en un mundo posterior a la pandemia del coronavirus</td>\n",
       "      <td>Viajes en un mundo posterior a la pandemia del coronavirus. Se espera un enfriamiento del romance con las capitales europeas y que exista un nuevo cariño por las ciudades menos pobladas con grande...</td>\n",
       "    </tr>\n",
       "    <tr>\n",
       "      <th>4</th>\n",
       "      <td>Oposición gana las elecciones presidenciales en las islas Seychelles por primera vez en 40 años</td>\n",
       "      <td>Oposición gana las elecciones presidenciales en las islas Seychelles por primera vez en 40 años. El opositor  Wavel Ramkalawan se convirtió este domingo, con un 54,9% de los votos, en el quinto pr...</td>\n",
       "    </tr>\n",
       "  </tbody>\n",
       "</table>\n",
       "</div>"
      ],
      "text/plain": [
       "                                                                                             title  \\\n",
       "0                   ONU advierte que la vacuna no basta para enfrentar la devastación del Covid-19   \n",
       "1       11 millones de niñas en el mundo corren el riesgo de no volver a clases por el coronavirus   \n",
       "2            Canciller de Brasil presenta su renuncia tras presiones de legisladores bolsonaristas   \n",
       "3                                       Viajes en un mundo posterior a la pandemia del coronavirus   \n",
       "4  Oposición gana las elecciones presidenciales en las islas Seychelles por primera vez en 40 años   \n",
       "\n",
       "                                                                                                                                                                                                   content  \n",
       "0  ONU advierte que la vacuna no basta para enfrentar la devastación del Covid-19. La vacuna contra el Covid-19 no pone fin a la devastación causada por la pandemia en el mundo, alertó el jueves el j...  \n",
       "1  11 millones de niñas en el mundo corren el riesgo de no volver a clases por el coronavirus. Once millones de niñas en todo el mundo corren el riesgo de no volver a la escuela cuando terminen las r...  \n",
       "2  Canciller de Brasil presenta su renuncia tras presiones de legisladores bolsonaristas. El ministro de Relaciones Exteriores de Brasil,  Ernesto Araújo , presentó este lunes su renuncia, tras fuert...  \n",
       "3  Viajes en un mundo posterior a la pandemia del coronavirus. Se espera un enfriamiento del romance con las capitales europeas y que exista un nuevo cariño por las ciudades menos pobladas con grande...  \n",
       "4  Oposición gana las elecciones presidenciales en las islas Seychelles por primera vez en 40 años. El opositor  Wavel Ramkalawan se convirtió este domingo, con un 54,9% de los votos, en el quinto pr...  "
      ]
     },
     "execution_count": 3,
     "metadata": {},
     "output_type": "execute_result"
    }
   ],
   "source": [
    "df = pd.read_csv(df_name)\n",
    "pd.set_option('display.max_colwidth', 200)\n",
    "print(df.columns)\n",
    "df[['title', 'content']].head()"
   ]
  },
  {
   "cell_type": "code",
   "execution_count": 4,
<<<<<<< HEAD
   "id": "9f08e042",
   "metadata": {},
   "outputs": [],
   "source": [
    "MAX_LEN = 1000\n",
=======
   "id": "738aa607",
   "metadata": {},
   "outputs": [],
   "source": [
    "MAX_LEN = 1200\n",
>>>>>>> e56c17ae7ca7509ef2a8991980792782459566ac
    "DROPOUT = 0.5\n",
    "MAX_VOCAB_SIZE = 50000\n",
    "RANDOM_STATE = 42\n",
    "BATCH_SIZE = 32\n",
    "EMBEDDING_DIM = 300\n",
    "N_FILTERS = 100\n",
    "FILTER_SIZES = [2, 3, 4]\n",
    "# segun lo que probe mas de 5 overfitea \n",
<<<<<<< HEAD
    "N_EPOCHS = 5"
=======
    "N_EPOCHS = 10"
>>>>>>> e56c17ae7ca7509ef2a8991980792782459566ac
   ]
  },
  {
   "cell_type": "markdown",
<<<<<<< HEAD
   "id": "926f7dcb",
=======
   "id": "90106cd3",
>>>>>>> e56c17ae7ca7509ef2a8991980792782459566ac
   "metadata": {},
   "source": [
    "## Truncar contenido\n",
    "### Cuanto?"
   ]
  },
  {
   "cell_type": "code",
   "execution_count": 5,
   "id": "52faa8d0",
   "metadata": {},
   "outputs": [
    {
     "name": "stdout",
     "output_type": "stream",
     "text": [
      "min len:  187\n",
<<<<<<< HEAD
      "max len:  800\n"
=======
      "max len:  1200\n"
>>>>>>> e56c17ae7ca7509ef2a8991980792782459566ac
     ]
    }
   ],
   "source": [
    "df['content'] = df.content.str.slice(0, MAX_LEN)\n",
    "print('min len: ', df.content.map(len).min())\n",
    "print('max len: ', df.content.map(len).max())"
   ]
  },
  {
   "cell_type": "code",
   "execution_count": 6,
   "id": "d70f14d7",
   "metadata": {},
   "outputs": [
    {
     "data": {
      "text/html": [
       "<div>\n",
       "<style scoped>\n",
       "    .dataframe tbody tr th:only-of-type {\n",
       "        vertical-align: middle;\n",
       "    }\n",
       "\n",
       "    .dataframe tbody tr th {\n",
       "        vertical-align: top;\n",
       "    }\n",
       "\n",
       "    .dataframe thead th {\n",
       "        text-align: right;\n",
       "    }\n",
       "</style>\n",
       "<table border=\"1\" class=\"dataframe\">\n",
       "  <thead>\n",
       "    <tr style=\"text-align: right;\">\n",
       "      <th></th>\n",
       "      <th>id</th>\n",
       "      <th>title</th>\n",
       "      <th>content</th>\n",
       "      <th>category</th>\n",
       "    </tr>\n",
       "  </thead>\n",
       "  <tbody>\n",
       "    <tr>\n",
       "      <th>0</th>\n",
       "      <td>5708146</td>\n",
       "      <td>ONU advierte que la vacuna no basta para enfrentar la devastación del Covid-19</td>\n",
       "      <td>ONU advierte que la vacuna no basta para enfrentar la devastación del Covid-19. La vacuna contra el Covid-19 no pone fin a la devastación causada por la pandemia en el mundo, alertó el jueves el j...</td>\n",
       "      <td>1-Mundo</td>\n",
       "    </tr>\n",
       "    <tr>\n",
       "      <th>1</th>\n",
       "      <td>6664788</td>\n",
       "      <td>11 millones de niñas en el mundo corren el riesgo de no volver a clases por el coronavirus</td>\n",
       "      <td>11 millones de niñas en el mundo corren el riesgo de no volver a clases por el coronavirus. Once millones de niñas en todo el mundo corren el riesgo de no volver a la escuela cuando terminen las r...</td>\n",
       "      <td>1-Mundo</td>\n",
       "    </tr>\n",
       "    <tr>\n",
       "      <th>2</th>\n",
       "      <td>14776151</td>\n",
       "      <td>Canciller de Brasil presenta su renuncia tras presiones de legisladores bolsonaristas</td>\n",
       "      <td>Canciller de Brasil presenta su renuncia tras presiones de legisladores bolsonaristas. El ministro de Relaciones Exteriores de Brasil,  Ernesto Araújo , presentó este lunes su renuncia, tras fuert...</td>\n",
       "      <td>1-Mundo</td>\n",
       "    </tr>\n",
       "    <tr>\n",
       "      <th>3</th>\n",
       "      <td>5742144</td>\n",
       "      <td>Viajes en un mundo posterior a la pandemia del coronavirus</td>\n",
       "      <td>Viajes en un mundo posterior a la pandemia del coronavirus. Se espera un enfriamiento del romance con las capitales europeas y que exista un nuevo cariño por las ciudades menos pobladas con grande...</td>\n",
       "      <td>1-Mundo</td>\n",
       "    </tr>\n",
       "    <tr>\n",
       "      <th>4</th>\n",
       "      <td>14798264</td>\n",
       "      <td>Oposición gana las elecciones presidenciales en las islas Seychelles por primera vez en 40 años</td>\n",
       "      <td>Oposición gana las elecciones presidenciales en las islas Seychelles por primera vez en 40 años. El opositor  Wavel Ramkalawan se convirtió este domingo, con un 54,9% de los votos, en el quinto pr...</td>\n",
       "      <td>1-Mundo</td>\n",
       "    </tr>\n",
       "    <tr>\n",
       "      <th>...</th>\n",
       "      <td>...</td>\n",
       "      <td>...</td>\n",
       "      <td>...</td>\n",
       "      <td>...</td>\n",
       "    </tr>\n",
       "    <tr>\n",
       "      <th>7945</th>\n",
       "      <td>5815421</td>\n",
       "      <td>Inicia juicio histórico para esclarecer “vuelos de la muerte” durante dictadura argentina</td>\n",
       "      <td>Inicia juicio histórico para esclarecer “vuelos de la muerte” durante dictadura argentina. Los procesos judiciales sobre los llamados “vuelos de la muerte” desde Campo de Mayo, uno de los centros ...</td>\n",
       "      <td>9-Crimen_delitos_y_Justicia</td>\n",
       "    </tr>\n",
       "    <tr>\n",
       "      <th>7946</th>\n",
       "      <td>4683781</td>\n",
       "      <td>Caso Corpesca: Fiscalía pide 11 años de cárcel para Orpis y 818 días de presidio para Isasi</td>\n",
       "      <td>Caso Corpesca: Fiscalía pide 11 años de cárcel para Orpis y 818 días de presidio para Isasi. Luego de que ayer el Tercer Tribunal Oral en lo Penal de Santiago entregara el veredicto en el caso Cor...</td>\n",
       "      <td>9-Crimen_delitos_y_Justicia</td>\n",
       "    </tr>\n",
       "    <tr>\n",
       "      <th>7947</th>\n",
       "      <td>13490868</td>\n",
       "      <td>Contraloría denuncia irregularidades en compra de terreno de $9.800 millones por parte de la Intendencia de Coquimbo</td>\n",
       "      <td>Contraloría denuncia irregularidades en compra de terreno de $9.800 millones por parte de la Intendencia de Coquimbo. La Contraloría General de la República denunció un presunto caso de  fraude al...</td>\n",
       "      <td>9-Crimen_delitos_y_Justicia</td>\n",
       "    </tr>\n",
       "    <tr>\n",
       "      <th>7948</th>\n",
       "      <td>4060291</td>\n",
       "      <td>Se imputarán 109 cargos: PDI detiene a 12 personas por daños causados en la Universidad de Concepción</td>\n",
       "      <td>Se imputarán 109 cargos: PDI detiene a 12 personas por daños causados en la Universidad de Concepción. Este lunes, la Policía de Investigaciones (PDI) de Concepción detuvo a 12 hombres por su pres...</td>\n",
       "      <td>9-Crimen_delitos_y_Justicia</td>\n",
       "    </tr>\n",
       "    <tr>\n",
       "      <th>7949</th>\n",
       "      <td>170404</td>\n",
       "      <td>Ministro Pérez tras ataque a Carabineros en Contulmo: \"Estos hechos no nos van a amedrentar\"</td>\n",
       "      <td>Ministro Pérez tras ataque a Carabineros en Contulmo: \"Estos hechos no nos van a amedrentar\". El ministro del Interior, Víctor Pérez, se refirió al ataque sufrido por personal de Carabineros la ta...</td>\n",
       "      <td>9-Crimen_delitos_y_Justicia</td>\n",
       "    </tr>\n",
       "  </tbody>\n",
       "</table>\n",
       "<p>7950 rows × 4 columns</p>\n",
       "</div>"
      ],
      "text/plain": [
       "            id  \\\n",
       "0      5708146   \n",
       "1      6664788   \n",
       "2     14776151   \n",
       "3      5742144   \n",
       "4     14798264   \n",
       "...        ...   \n",
       "7945   5815421   \n",
       "7946   4683781   \n",
       "7947  13490868   \n",
       "7948   4060291   \n",
       "7949    170404   \n",
       "\n",
       "                                                                                                                     title  \\\n",
       "0                                           ONU advierte que la vacuna no basta para enfrentar la devastación del Covid-19   \n",
       "1                               11 millones de niñas en el mundo corren el riesgo de no volver a clases por el coronavirus   \n",
       "2                                    Canciller de Brasil presenta su renuncia tras presiones de legisladores bolsonaristas   \n",
       "3                                                               Viajes en un mundo posterior a la pandemia del coronavirus   \n",
       "4                          Oposición gana las elecciones presidenciales en las islas Seychelles por primera vez en 40 años   \n",
       "...                                                                                                                    ...   \n",
       "7945                             Inicia juicio histórico para esclarecer “vuelos de la muerte” durante dictadura argentina   \n",
       "7946                           Caso Corpesca: Fiscalía pide 11 años de cárcel para Orpis y 818 días de presidio para Isasi   \n",
       "7947  Contraloría denuncia irregularidades en compra de terreno de $9.800 millones por parte de la Intendencia de Coquimbo   \n",
       "7948                 Se imputarán 109 cargos: PDI detiene a 12 personas por daños causados en la Universidad de Concepción   \n",
       "7949                          Ministro Pérez tras ataque a Carabineros en Contulmo: \"Estos hechos no nos van a amedrentar\"   \n",
       "\n",
       "                                                                                                                                                                                                      content  \\\n",
       "0     ONU advierte que la vacuna no basta para enfrentar la devastación del Covid-19. La vacuna contra el Covid-19 no pone fin a la devastación causada por la pandemia en el mundo, alertó el jueves el j...   \n",
       "1     11 millones de niñas en el mundo corren el riesgo de no volver a clases por el coronavirus. Once millones de niñas en todo el mundo corren el riesgo de no volver a la escuela cuando terminen las r...   \n",
       "2     Canciller de Brasil presenta su renuncia tras presiones de legisladores bolsonaristas. El ministro de Relaciones Exteriores de Brasil,  Ernesto Araújo , presentó este lunes su renuncia, tras fuert...   \n",
       "3     Viajes en un mundo posterior a la pandemia del coronavirus. Se espera un enfriamiento del romance con las capitales europeas y que exista un nuevo cariño por las ciudades menos pobladas con grande...   \n",
       "4     Oposición gana las elecciones presidenciales en las islas Seychelles por primera vez en 40 años. El opositor  Wavel Ramkalawan se convirtió este domingo, con un 54,9% de los votos, en el quinto pr...   \n",
       "...                                                                                                                                                                                                       ...   \n",
       "7945  Inicia juicio histórico para esclarecer “vuelos de la muerte” durante dictadura argentina. Los procesos judiciales sobre los llamados “vuelos de la muerte” desde Campo de Mayo, uno de los centros ...   \n",
       "7946  Caso Corpesca: Fiscalía pide 11 años de cárcel para Orpis y 818 días de presidio para Isasi. Luego de que ayer el Tercer Tribunal Oral en lo Penal de Santiago entregara el veredicto en el caso Cor...   \n",
       "7947  Contraloría denuncia irregularidades en compra de terreno de $9.800 millones por parte de la Intendencia de Coquimbo. La Contraloría General de la República denunció un presunto caso de  fraude al...   \n",
       "7948  Se imputarán 109 cargos: PDI detiene a 12 personas por daños causados en la Universidad de Concepción. Este lunes, la Policía de Investigaciones (PDI) de Concepción detuvo a 12 hombres por su pres...   \n",
       "7949  Ministro Pérez tras ataque a Carabineros en Contulmo: \"Estos hechos no nos van a amedrentar\". El ministro del Interior, Víctor Pérez, se refirió al ataque sufrido por personal de Carabineros la ta...   \n",
       "\n",
       "                         category  \n",
       "0                         1-Mundo  \n",
       "1                         1-Mundo  \n",
       "2                         1-Mundo  \n",
       "3                         1-Mundo  \n",
       "4                         1-Mundo  \n",
       "...                           ...  \n",
       "7945  9-Crimen_delitos_y_Justicia  \n",
       "7946  9-Crimen_delitos_y_Justicia  \n",
       "7947  9-Crimen_delitos_y_Justicia  \n",
       "7948  9-Crimen_delitos_y_Justicia  \n",
       "7949  9-Crimen_delitos_y_Justicia  \n",
       "\n",
       "[7950 rows x 4 columns]"
      ]
     },
     "execution_count": 6,
     "metadata": {},
     "output_type": "execute_result"
    }
   ],
   "source": [
    "df"
   ]
  },
  {
   "cell_type": "code",
   "execution_count": 7,
   "id": "2edc4240",
   "metadata": {},
   "outputs": [],
   "source": [
    "RANDOM_STATE = 42\n",
    "from sklearn.utils import shuffle\n",
    "df = shuffle(df, random_state=RANDOM_STATE)"
   ]
  },
  {
   "cell_type": "code",
   "execution_count": 8,
   "id": "0fdd4472",
   "metadata": {},
   "outputs": [],
   "source": [
    "import numpy as np\n",
    "from sklearn.model_selection import StratifiedShuffleSplit\n",
    "\n",
    "split = StratifiedShuffleSplit(n_splits=1, test_size=0.45, random_state=RANDOM_STATE)\n",
    "for train_index, test_valid_index in split.split(df, df.category):\n",
    "    train = df.iloc[train_index]\n",
    "    test_valid_set = df.iloc[test_valid_index]\n",
    "\n",
    "split2 = StratifiedShuffleSplit(n_splits=1, test_size=0.75, random_state=RANDOM_STATE)\n",
    "for test_index, valid_index in split2.split(test_valid_set, test_valid_set.category):\n",
    "    test = test_valid_set.iloc[test_index]\n",
    "    valid = test_valid_set.iloc[valid_index]\n",
    "\n",
    "\n",
    "#valid, test, train = np.split(df, [ int(.15*len(df)), int(.3*len(df))] )"
   ]
  },
  {
   "cell_type": "code",
   "execution_count": 9,
   "id": "d3d151c3",
   "metadata": {},
   "outputs": [
    {
     "name": "stdout",
     "output_type": "stream",
     "text": [
      "(7950, 4)\n",
      "(4372, 4)\n",
      "(2684, 4)\n",
      "(894, 4)\n"
     ]
    }
   ],
   "source": [
    "print(df.shape)\n",
    "print(train.shape)\n",
    "print(valid.shape)\n",
    "print(test.shape)"
   ]
  },
  {
   "cell_type": "code",
   "execution_count": 10,
   "id": "f14a999d",
   "metadata": {},
   "outputs": [
    {
     "data": {
      "text/plain": [
       "category\n",
       "1-Mundo                        437\n",
       "10-Salud                       438\n",
       "2-Economía                     437\n",
       "3-Política_y_Conflictos        437\n",
       "4-Ciencias_y_Tecnología        437\n",
       "5-Catástrofes_y_Accidentes     437\n",
       "6-Cultura_y_Artes              437\n",
       "7-Deporte                      437\n",
       "8-Ecología_y_Planeta           438\n",
       "9-Crimen_delitos_y_Justicia    437\n",
       "dtype: int64"
      ]
     },
     "metadata": {},
     "output_type": "display_data"
    },
    {
     "data": {
      "text/plain": [
       "category\n",
       "1-Mundo                        268\n",
       "10-Salud                       268\n",
       "2-Economía                     268\n",
       "3-Política_y_Conflictos        269\n",
       "4-Ciencias_y_Tecnología        269\n",
       "5-Catástrofes_y_Accidentes     269\n",
       "6-Cultura_y_Artes              268\n",
       "7-Deporte                      269\n",
       "8-Ecología_y_Planeta           268\n",
       "9-Crimen_delitos_y_Justicia    268\n",
       "dtype: int64"
      ]
     },
     "metadata": {},
     "output_type": "display_data"
    },
    {
     "data": {
      "text/plain": [
       "category\n",
       "1-Mundo                        90\n",
       "10-Salud                       89\n",
       "2-Economía                     90\n",
       "3-Política_y_Conflictos        89\n",
       "4-Ciencias_y_Tecnología        89\n",
       "5-Catástrofes_y_Accidentes     89\n",
       "6-Cultura_y_Artes              90\n",
       "7-Deporte                      89\n",
       "8-Ecología_y_Planeta           89\n",
       "9-Crimen_delitos_y_Justicia    90\n",
       "dtype: int64"
      ]
     },
     "metadata": {},
     "output_type": "display_data"
    }
   ],
   "source": [
    "display(train.groupby(['category']).size())\n",
    "display(valid.groupby(['category']).size())\n",
    "display(test.groupby(['category']).size())"
   ]
  },
  {
   "cell_type": "code",
   "execution_count": 11,
   "id": "a162657f",
   "metadata": {},
   "outputs": [
    {
     "data": {
      "text/plain": [
       "array(['3-Política_y_Conflictos', '1-Mundo', '5-Catástrofes_y_Accidentes',\n",
       "       '10-Salud', '9-Crimen_delitos_y_Justicia',\n",
       "       '4-Ciencias_y_Tecnología', '8-Ecología_y_Planeta', '2-Economía',\n",
       "       '7-Deporte', '6-Cultura_y_Artes'], dtype=object)"
      ]
     },
     "execution_count": 11,
     "metadata": {},
     "output_type": "execute_result"
    }
   ],
   "source": [
    "test.category.unique()"
   ]
  },
  {
   "cell_type": "code",
   "execution_count": 12,
   "id": "03710320",
   "metadata": {},
   "outputs": [],
   "source": [
    "train.to_csv(\"CNN_train.csv\", encoding=\"UTF-8\",index=False)\n",
    "valid.to_csv(\"CNN_valid.csv\", encoding=\"UTF-8\",index=False)\n",
    "test.to_csv(\"CNN_test.csv\", encoding=\"UTF-8\",index=False)"
   ]
  },
  {
   "cell_type": "code",
   "execution_count": 13,
   "id": "6c9d4190",
   "metadata": {},
   "outputs": [],
   "source": [
    "import torch\n",
    "import spacy\n",
    "import random\n",
    "import torchtext\n",
    "from torchtext import data\n",
    "from torchtext import datasets\n",
    "from torchtext.legacy import data"
   ]
  },
  {
   "cell_type": "code",
   "execution_count": 14,
   "id": "eaedbc1c",
   "metadata": {},
   "outputs": [],
   "source": [
    "spacy_es = spacy.load('es_core_news_sm')"
   ]
  },
  {
   "cell_type": "code",
   "execution_count": 15,
   "id": "9694e609",
   "metadata": {},
   "outputs": [],
   "source": [
    "def tokenize_es(sentence):\n",
    "    return [tok.text for tok in spacy_es.tokenizer(sentence)]"
   ]
  },
  {
   "cell_type": "code",
   "execution_count": 16,
   "id": "ee584597",
   "metadata": {},
   "outputs": [],
   "source": [
    "TEXT = data.Field(tokenize=tokenize_es, batch_first = True)\n",
    "CATEGORY = data.LabelField()  # MULTICLASS -se borró el argumento \"(dtype = torch.float)\""
   ]
  },
  {
   "cell_type": "code",
   "execution_count": 17,
   "id": "dab1fb95",
   "metadata": {},
   "outputs": [],
   "source": [
    "fields = [(None, None),(None, None),('content', TEXT),('category', CATEGORY)]"
   ]
  },
  {
   "cell_type": "code",
   "execution_count": 18,
   "id": "feb2054e",
   "metadata": {},
   "outputs": [],
   "source": [
    "import numpy as np\n",
    "\n",
    "SEED = RANDOM_STATE\n",
    "\n",
    "random.seed(SEED)\n",
    "np.random.seed(SEED)\n",
    "torch.manual_seed(SEED)\n",
    "torch.backends.cudnn.deterministic = True\n",
    "\n",
    "train_data, valid_data, test_data = data.TabularDataset.splits(\n",
    "                                        path = '.',\n",
    "                                        train = 'CNN_train.csv',\n",
    "                                        validation= 'CNN_valid.csv',\n",
    "                                        test = 'CNN_test.csv',\n",
    "                                        format = 'csv',\n",
    "                                        fields = fields,\n",
    "                                        skip_header = True\n",
    ")"
   ]
  },
  {
   "cell_type": "code",
   "execution_count": 19,
   "id": "6af4519c",
   "metadata": {},
   "outputs": [
    {
     "name": "stdout",
     "output_type": "stream",
     "text": [
      "cpu\n"
     ]
    }
   ],
   "source": [
    "#device = torch.device('cuda' if torch.cuda.is_available() else 'cpu')\n",
    "device = torch.device('cpu')\n",
    "DEVICE_NAME = str(device)\n",
    "\n",
    "print(DEVICE_NAME)\n",
    "\n",
    "train_iterator, valid_iterator, test_iterator = data.BucketIterator.splits(\n",
    "                                                    (train_data, valid_data, test_data), \n",
    "                                                    batch_size = BATCH_SIZE, \n",
    "                                                    device = device,\n",
    "                                                    sort_key=lambda x:len(x.category),\n",
    "                                                    sort_within_batch=False)"
   ]
  },
  {
   "cell_type": "code",
   "execution_count": 20,
   "id": "5483a566",
   "metadata": {},
   "outputs": [],
   "source": [
    "#!wget http://dcc.uchile.cl/~jperez/word-embeddings/glove-sbwc.i25.vec.gz"
   ]
  },
  {
   "cell_type": "code",
   "execution_count": 21,
   "id": "cd588094",
   "metadata": {},
   "outputs": [],
   "source": [
    "\n",
    "## TENER VECTORES EN ESPAÑOL\n",
    "vec = torchtext.vocab.Vectors('glove-sbwc.i25.vec.gz', cache='.')\n",
    "TEXT.build_vocab(train_data,\n",
    "                 vectors=vec,\n",
    "                 max_size=MAX_VOCAB_SIZE,\n",
    "                 unk_init=torch.Tensor.normal_)"
   ]
  },
  {
   "cell_type": "code",
   "execution_count": 22,
   "id": "3e831ca2",
   "metadata": {},
   "outputs": [],
   "source": [
    "CATEGORY.build_vocab(train_data)"
   ]
  },
  {
   "cell_type": "code",
   "execution_count": 23,
   "id": "03d3831a",
   "metadata": {},
   "outputs": [
    {
     "data": {
      "text/plain": [
       "{0: '10-Salud',\n",
       " 1: '8-Ecología_y_Planeta',\n",
       " 2: '1-Mundo',\n",
       " 3: '2-Economía',\n",
       " 4: '3-Política_y_Conflictos',\n",
       " 5: '4-Ciencias_y_Tecnología',\n",
       " 6: '5-Catástrofes_y_Accidentes',\n",
       " 7: '6-Cultura_y_Artes',\n",
       " 8: '7-Deporte',\n",
       " 9: '9-Crimen_delitos_y_Justicia'}"
      ]
     },
     "execution_count": 23,
     "metadata": {},
     "output_type": "execute_result"
    }
   ],
   "source": [
    "cat_map = { v: k for k, v in CATEGORY.vocab.stoi.items()}\n",
    "cat_map"
   ]
  },
  {
   "cell_type": "code",
   "execution_count": 24,
   "id": "7414cd46",
   "metadata": {},
   "outputs": [],
   "source": [
    "import torch.nn as nn\n",
    "import torch.nn.functional as F\n",
    "\n",
    "class CNN(nn.Module):\n",
    "    def __init__(self, vocab_size, embedding_dim, n_filters, filter_sizes, output_dim, \n",
    "                 dropout, pad_idx):\n",
    "        \n",
    "        super().__init__()\n",
    "        self.embedding = nn.Embedding(vocab_size, embedding_dim)\n",
    "        self.convs = nn.ModuleList([\n",
    "                                    nn.Conv1d(in_channels = 1, \n",
    "                                              out_channels = n_filters, \n",
    "                                              kernel_size = (fs, embedding_dim)) \n",
    "                                    for fs in filter_sizes\n",
    "                                    ])\n",
    "        \n",
    "        self.fc = nn.Linear(len(filter_sizes) * n_filters, output_dim)\n",
    "        self.dropout = nn.Dropout(dropout)\n",
    "        \n",
    "    def forward(self, text):\n",
    "        \n",
    "        #text = [sent len, batch size]\n",
    "        \n",
    "        #text = text.permute(1, 0)\n",
    "                \n",
    "        #text = [batch size, sent len]\n",
    "        \n",
    "        embedded = self.embedding(text)\n",
    "                \n",
    "        #embedded = [batch size, sent len, emb dim]\n",
    "        \n",
    "        embedded = embedded.unsqueeze(1)\n",
    "        \n",
    "        #embedded = [batch size, 1, sent len, emb dim]\n",
    "        \n",
    "        conved = [F.relu(conv(embedded)).squeeze(3) for conv in self.convs]\n",
    "            \n",
    "        #conv_n = [batch size, n_filters, sent len - filter_sizes[n]]\n",
    "        \n",
    "        pooled = [F.max_pool1d(conv, conv.shape[2]).squeeze(2) for conv in conved]\n",
    "        \n",
    "        #pooled_n = [batch size, n_filters]\n",
    "        \n",
    "        cat = self.dropout(torch.cat(pooled, dim = 1))\n",
    "\n",
    "        #cat = [batch size, n_filters * len(filter_sizes)]\n",
    "        \n",
    "        return self.fc(cat)"
   ]
  },
  {
   "cell_type": "code",
   "execution_count": 25,
   "id": "90137317",
   "metadata": {},
   "outputs": [],
   "source": [
    "PAD_IDX = TEXT.vocab.stoi[TEXT.pad_token]\n",
    "INPUT_DIM = len(TEXT.vocab)\n",
    "OUTPUT_DIM = len(CATEGORY.vocab) ##### MULTICLASS ---> la dimensión del output no es 1 (clasificación binaria)\n",
    "\n",
    "\n",
    "\n",
    "model = CNN(INPUT_DIM, EMBEDDING_DIM, N_FILTERS, FILTER_SIZES, OUTPUT_DIM, DROPOUT, PAD_IDX)\n",
    "model = model.to(device)"
   ]
  },
  {
   "cell_type": "code",
   "execution_count": 26,
   "id": "cbe779ab",
   "metadata": {},
   "outputs": [
    {
     "data": {
      "text/plain": [
       "10"
      ]
     },
     "execution_count": 26,
     "metadata": {},
     "output_type": "execute_result"
    }
   ],
   "source": [
    "OUTPUT_DIM"
   ]
  },
  {
   "cell_type": "code",
   "execution_count": 27,
   "id": "a9350e58",
   "metadata": {},
   "outputs": [
    {
     "name": "stdout",
     "output_type": "stream",
     "text": [
<<<<<<< HEAD
      "The model has 12,976,510 trainable parameters\n"
=======
      "The model has 15,273,910 trainable parameters\n"
>>>>>>> e56c17ae7ca7509ef2a8991980792782459566ac
     ]
    }
   ],
   "source": [
    "def count_parameters(model):\n",
    "    return sum(p.numel() for p in model.parameters() if p.requires_grad)\n",
    "\n",
    "print(f'The model has {count_parameters(model):,} trainable parameters')"
   ]
  },
  {
   "cell_type": "code",
   "execution_count": 28,
   "id": "ca53842f",
   "metadata": {},
   "outputs": [],
   "source": [
    "pretrained_embeddings = TEXT.vocab.vectors\n",
    "UNK_IDX = TEXT.vocab.stoi[TEXT.unk_token]\n",
    "\n",
    "model.embedding.weight.data.copy_(pretrained_embeddings)\n",
    "model.embedding.weight.data[UNK_IDX] = torch.zeros(EMBEDDING_DIM)\n",
    "model.embedding.weight.data[PAD_IDX] = torch.zeros(EMBEDDING_DIM)"
   ]
  },
  {
   "cell_type": "code",
   "execution_count": 29,
   "id": "a0de2bc6",
   "metadata": {},
   "outputs": [],
   "source": [
    "import torch.optim as optim\n",
    "\n",
    "optimizer = optim.Adam(model.parameters())\n",
    "\n",
    "criterion = nn.CrossEntropyLoss() #MULTICLASS ---> en lugar de .BCEWithLogitsLoss() (Binary Cross Entropy)\n",
    "\n",
    "\n",
    "criterion = criterion.to(device)"
   ]
  },
  {
   "cell_type": "code",
   "execution_count": 30,
<<<<<<< HEAD
   "id": "60cc21e1",
=======
   "id": "18894523",
>>>>>>> e56c17ae7ca7509ef2a8991980792782459566ac
   "metadata": {},
   "outputs": [],
   "source": [
    "OPTIMIZER = type(optimizer).__name__\n",
    "CRITERION = type(criterion).__name__"
   ]
  },
  {
   "cell_type": "code",
   "execution_count": 31,
   "id": "9d72a0e1",
   "metadata": {},
   "outputs": [],
   "source": [
    "from tqdm import tqdm\n",
    "def train(model, iterator, optimizer, criterion, divisor):\n",
    "    \n",
    "    epoch_loss = 0\n",
    "    epoch_acc = 0\n",
    "    \n",
    "    model.train()\n",
    "    \n",
<<<<<<< HEAD
    "    for batch in tqdm(iterator, desc='train'):\n",
=======
    "    for batch in tqdm(iterator, desc='train', leave=False):\n",
>>>>>>> e56c17ae7ca7509ef2a8991980792782459566ac
    "        \n",
    "        optimizer.zero_grad()\n",
    "        \n",
    "        #print(\"Tamaño texto de entrada:\"+str(batch.body.shape))\n",
    "        \n",
    "        predictions = model(batch.content)\n",
    "        \n",
    "        #print(\"Tamaño predecciones de salida:\"+str(predictions.shape)) \n",
    "        \n",
    "        #print(\"Tamaño target:\"+str(batch.category.shape)) \n",
    "        \n",
    "        loss = criterion(predictions, batch.category)\n",
    "        \n",
    "        acc = categorical_accuracy(predictions, batch.category, divisor)\n",
    "        \n",
    "        loss.backward()\n",
    "        \n",
    "        optimizer.step()\n",
    "        \n",
    "        epoch_loss += loss.item()\n",
    "        epoch_acc += acc.item()\n",
    "        \n",
    "    return epoch_loss / len(iterator), epoch_acc / len(iterator)"
   ]
  },
  {
   "cell_type": "code",
   "execution_count": 32,
   "id": "47e19de6",
   "metadata": {},
   "outputs": [],
   "source": [
    "import time\n",
    "\n",
    "def epoch_time(start_time, end_time):\n",
    "    elapsed_time = end_time - start_time\n",
    "    elapsed_mins = int(elapsed_time / 60)\n",
    "    elapsed_secs = int(elapsed_time - (elapsed_mins * 60))\n",
    "    return elapsed_mins, elapsed_secs"
   ]
  },
  {
   "cell_type": "code",
   "execution_count": 33,
   "id": "2381ff58",
   "metadata": {},
   "outputs": [],
   "source": [
    "def categorical_accuracy(preds, y, divisor):\n",
    "    \"\"\"\n",
    "    Returns accuracy per batch, i.e. if you get 8/10 right, this returns 0.8, NOT 8\n",
    "    \"\"\"\n",
<<<<<<< HEAD
    "    max_preds = preds.argmax(dim=1, keepdim=True) # get the index of the max probability\n",
=======
    "    max_preds = preds.argmax(dim = 1, keepdim = True) # get the index of the max probability\n",
>>>>>>> e56c17ae7ca7509ef2a8991980792782459566ac
    "    correct = max_preds.squeeze(1).eq(y)\n",
    "    return correct.sum() / divisor([y.shape[0]])"
   ]
  },
  {
   "cell_type": "code",
   "execution_count": 34,
   "id": "e41b871f",
   "metadata": {},
   "outputs": [],
   "source": [
    "def evaluate(model, iterator, criterion, divisor):\n",
    "    \n",
    "    epoch_loss = 0\n",
    "    epoch_acc = 0\n",
    "    \n",
    "    model.eval()\n",
    "    \n",
    "    with torch.no_grad():\n",
    "    \n",
<<<<<<< HEAD
    "        for batch in tqdm(iterator, desc='eval'):\n",
    "\n",
    "            predictions = model(batch.content)\n",
=======
    "        for batch in tqdm(iterator, desc='eval', leave=False):\n",
    "\n",
    "            predictions = model(batch.content)\n",
    "            \n",
>>>>>>> e56c17ae7ca7509ef2a8991980792782459566ac
    "            loss = criterion(predictions, batch.category)\n",
    "            \n",
    "            acc = categorical_accuracy(predictions, batch.category, divisor)\n",
    "\n",
    "            epoch_loss += loss.item()\n",
    "            epoch_acc += acc.item()\n",
    "        \n",
    "    return epoch_loss / len(iterator), epoch_acc / len(iterator)\n",
    "\n"
   ]
  },
  {
   "cell_type": "code",
   "execution_count": 35,
   "id": "e3b9f24a",
   "metadata": {},
   "outputs": [
    {
     "name": "stdout",
     "output_type": "stream",
     "text": [
      "inicio optimización\n"
     ]
    },
    {
     "name": "stderr",
     "output_type": "stream",
     "text": [
<<<<<<< HEAD
      "train: 100%|██████████████████████████████████| 137/137 [01:04<00:00,  2.13it/s]\n",
      "eval: 100%|█████████████████████████████████████| 84/84 [00:09<00:00,  8.92it/s]\n"
=======
      "train: 100%|██████████████████████████████████| 137/137 [01:33<00:00,  1.46it/s]\n",
      "eval: 100%|█████████████████████████████████████| 84/84 [00:13<00:00,  6.09it/s]\n"
     ]
    },
    {
     "name": "stdout",
     "output_type": "stream",
     "text": [
      "Epoch: 01 | Epoch Time: 1m 47s\n",
      "\tTrain Loss: 1.663 | Train Acc: 44.74%\n",
      "\t Val. Loss: 0.944 |  Val. Acc: 72.40%\n"
     ]
    },
    {
     "name": "stderr",
     "output_type": "stream",
     "text": [
      "train: 100%|██████████████████████████████████| 137/137 [01:28<00:00,  1.55it/s]\n",
      "eval: 100%|█████████████████████████████████████| 84/84 [00:13<00:00,  6.17it/s]\n"
     ]
    },
    {
     "name": "stdout",
     "output_type": "stream",
     "text": [
      "removing  ./CNN_ep1_2021-11-27_13:28:40.216497.pt ... done!\n",
      "Epoch: 02 | Epoch Time: 1m 41s\n",
      "\tTrain Loss: 0.875 | Train Acc: 72.19%\n",
      "\t Val. Loss: 0.729 |  Val. Acc: 77.71%\n"
     ]
    },
    {
     "name": "stderr",
     "output_type": "stream",
     "text": [
      "train: 100%|██████████████████████████████████| 137/137 [01:29<00:00,  1.54it/s]\n",
      "eval: 100%|█████████████████████████████████████| 84/84 [00:14<00:00,  5.72it/s]\n"
     ]
    },
    {
     "name": "stdout",
     "output_type": "stream",
     "text": [
      "removing  ./CNN_ep2_2021-11-27_13:30:22.465637.pt ... done!\n",
      "Epoch: 03 | Epoch Time: 1m 43s\n",
      "\tTrain Loss: 0.632 | Train Acc: 80.58%\n",
      "\t Val. Loss: 0.645 |  Val. Acc: 79.79%\n"
     ]
    },
    {
     "name": "stderr",
     "output_type": "stream",
     "text": [
      "train: 100%|██████████████████████████████████| 137/137 [01:28<00:00,  1.54it/s]\n",
      "eval: 100%|█████████████████████████████████████| 84/84 [00:14<00:00,  5.98it/s]\n"
     ]
    },
    {
     "name": "stdout",
     "output_type": "stream",
     "text": [
      "Epoch: 04 | Epoch Time: 1m 42s\n",
      "\tTrain Loss: 0.437 | Train Acc: 86.77%\n",
      "\t Val. Loss: 0.649 |  Val. Acc: 79.82%\n"
     ]
    },
    {
     "name": "stderr",
     "output_type": "stream",
     "text": [
      "train: 100%|██████████████████████████████████| 137/137 [01:29<00:00,  1.53it/s]\n",
      "eval: 100%|█████████████████████████████████████| 84/84 [00:14<00:00,  5.96it/s]\n"
     ]
    },
    {
     "name": "stdout",
     "output_type": "stream",
     "text": [
      "removing  ./CNN_ep3_2021-11-27_13:32:06.580864.pt ... done!\n",
      "Epoch: 05 | Epoch Time: 1m 43s\n",
      "\tTrain Loss: 0.283 | Train Acc: 92.25%\n",
      "\t Val. Loss: 0.607 |  Val. Acc: 81.32%\n"
     ]
    },
    {
     "name": "stderr",
     "output_type": "stream",
     "text": [
      "train: 100%|██████████████████████████████████| 137/137 [01:28<00:00,  1.55it/s]\n",
      "eval: 100%|█████████████████████████████████████| 84/84 [00:15<00:00,  5.52it/s]\n"
>>>>>>> e56c17ae7ca7509ef2a8991980792782459566ac
     ]
    },
    {
     "name": "stdout",
     "output_type": "stream",
     "text": [
<<<<<<< HEAD
      "Epoch: 01 | Epoch Time: 1m 13s\n",
      "\tTrain Loss: 1.775 | Train Acc: 39.61%\n",
      "\t Val. Loss: 1.063 |  Val. Acc: 70.59%\n"
=======
      "Epoch: 06 | Epoch Time: 1m 43s\n",
      "\tTrain Loss: 0.182 | Train Acc: 95.21%\n",
      "\t Val. Loss: 0.609 |  Val. Acc: 80.28%\n"
>>>>>>> e56c17ae7ca7509ef2a8991980792782459566ac
     ]
    },
    {
     "name": "stderr",
     "output_type": "stream",
     "text": [
<<<<<<< HEAD
      "train: 100%|██████████████████████████████████| 137/137 [01:02<00:00,  2.19it/s]\n",
      "eval: 100%|█████████████████████████████████████| 84/84 [00:09<00:00,  8.53it/s]\n"
=======
      "train: 100%|██████████████████████████████████| 137/137 [01:34<00:00,  1.45it/s]\n",
      "eval: 100%|█████████████████████████████████████| 84/84 [00:16<00:00,  5.21it/s]\n"
>>>>>>> e56c17ae7ca7509ef2a8991980792782459566ac
     ]
    },
    {
     "name": "stdout",
     "output_type": "stream",
     "text": [
<<<<<<< HEAD
      "Epoch: 02 | Epoch Time: 1m 12s\n",
      "\tTrain Loss: 1.011 | Train Acc: 68.26%\n",
      "\t Val. Loss: 0.803 |  Val. Acc: 76.49%\n"
=======
      "Epoch: 07 | Epoch Time: 1m 50s\n",
      "\tTrain Loss: 0.112 | Train Acc: 97.51%\n",
      "\t Val. Loss: 0.615 |  Val. Acc: 81.43%\n"
>>>>>>> e56c17ae7ca7509ef2a8991980792782459566ac
     ]
    },
    {
     "name": "stderr",
     "output_type": "stream",
     "text": [
<<<<<<< HEAD
      "train: 100%|██████████████████████████████████| 137/137 [01:07<00:00,  2.04it/s]\n",
      "eval: 100%|█████████████████████████████████████| 84/84 [00:09<00:00,  8.77it/s]\n"
=======
      "train: 100%|██████████████████████████████████| 137/137 [01:36<00:00,  1.42it/s]\n",
      "eval: 100%|█████████████████████████████████████| 84/84 [00:18<00:00,  4.55it/s]\n"
>>>>>>> e56c17ae7ca7509ef2a8991980792782459566ac
     ]
    },
    {
     "name": "stdout",
     "output_type": "stream",
     "text": [
<<<<<<< HEAD
      "Epoch: 03 | Epoch Time: 1m 16s\n",
      "\tTrain Loss: 0.730 | Train Acc: 77.42%\n",
      "\t Val. Loss: 0.712 |  Val. Acc: 77.57%\n"
=======
      "Epoch: 08 | Epoch Time: 1m 54s\n",
      "\tTrain Loss: 0.086 | Train Acc: 98.32%\n",
      "\t Val. Loss: 0.620 |  Val. Acc: 81.62%\n"
>>>>>>> e56c17ae7ca7509ef2a8991980792782459566ac
     ]
    },
    {
     "name": "stderr",
     "output_type": "stream",
     "text": [
<<<<<<< HEAD
      "train: 100%|██████████████████████████████████| 137/137 [01:03<00:00,  2.15it/s]\n",
      "eval: 100%|█████████████████████████████████████| 84/84 [00:10<00:00,  7.87it/s]\n"
=======
      "train: 100%|██████████████████████████████████| 137/137 [01:41<00:00,  1.35it/s]\n",
      "eval: 100%|█████████████████████████████████████| 84/84 [00:14<00:00,  5.79it/s]\n"
>>>>>>> e56c17ae7ca7509ef2a8991980792782459566ac
     ]
    },
    {
     "name": "stdout",
     "output_type": "stream",
     "text": [
<<<<<<< HEAD
      "Epoch: 04 | Epoch Time: 1m 14s\n",
      "\tTrain Loss: 0.535 | Train Acc: 84.16%\n",
      "\t Val. Loss: 0.689 |  Val. Acc: 77.56%\n"
=======
      "Epoch: 09 | Epoch Time: 1m 55s\n",
      "\tTrain Loss: 0.047 | Train Acc: 99.38%\n",
      "\t Val. Loss: 0.632 |  Val. Acc: 81.69%\n"
>>>>>>> e56c17ae7ca7509ef2a8991980792782459566ac
     ]
    },
    {
     "name": "stderr",
     "output_type": "stream",
     "text": [
<<<<<<< HEAD
      "train: 100%|██████████████████████████████████| 137/137 [01:03<00:00,  2.14it/s]\n",
      "eval: 100%|█████████████████████████████████████| 84/84 [00:09<00:00,  9.33it/s]\n"
=======
      "train: 100%|██████████████████████████████████| 137/137 [01:29<00:00,  1.53it/s]\n",
      "eval: 100%|█████████████████████████████████████| 84/84 [00:14<00:00,  5.65it/s]"
>>>>>>> e56c17ae7ca7509ef2a8991980792782459566ac
     ]
    },
    {
     "name": "stdout",
     "output_type": "stream",
     "text": [
<<<<<<< HEAD
      "Epoch: 05 | Epoch Time: 1m 12s\n",
      "\tTrain Loss: 0.372 | Train Acc: 88.90%\n",
      "\t Val. Loss: 0.662 |  Val. Acc: 79.66%\n"
=======
      "Epoch: 10 | Epoch Time: 1m 44s\n",
      "\tTrain Loss: 0.041 | Train Acc: 99.34%\n",
      "\t Val. Loss: 0.638 |  Val. Acc: 81.99%\n"
     ]
    },
    {
     "name": "stderr",
     "output_type": "stream",
     "text": [
      "\n"
>>>>>>> e56c17ae7ca7509ef2a8991980792782459566ac
     ]
    }
   ],
   "source": [
    "from datetime import datetime\n",
    "from os import remove\n",
<<<<<<< HEAD
    "from tqdm import trange\n",
    "\n",
=======
>>>>>>> e56c17ae7ca7509ef2a8991980792782459566ac
    "print(\"inicio optimización\")\n",
    "\n",
    "best_valid_loss = float('inf')\n",
    "last_best = None\n",
    "OVERWRITE_MODEL_FILE = True\n",
<<<<<<< HEAD
    "for epoch in range(N_EPOCHS):\n",
=======
    "for epoch in tqdm(range(N_EPOCHS), desc='epochs'):\n",
>>>>>>> e56c17ae7ca7509ef2a8991980792782459566ac
    "\n",
    "    start_time = time.time()\n",
    "    divisor = torch.FloatTensor if str(device) == 'cpu' else torch.cuda.FloatTensor\n",
    "    train_loss, train_acc = train(model, train_iterator, optimizer, criterion, divisor)\n",
    "    valid_loss, valid_acc = evaluate(model, valid_iterator, criterion, divisor)\n",
    "    \n",
    "    end_time = time.time()\n",
    "\n",
    "    epoch_mins, epoch_secs = epoch_time(start_time, end_time)\n",
    "    \n",
    "\n",
    "    if valid_loss < best_valid_loss:\n",
    "        best_valid_loss = valid_loss\n",
    "        best_epoch = epoch + 1\n",
    "        dt = str(datetime.now()).replace(' ', '_')\n",
    "        name = f'./CNN_ep{str(best_epoch)}_{dt}.pt'\n",
    "        torch.save({'epoca': epoch,\n",
    "                    'model_state_dict': model.state_dict(),\n",
    "                    'optimizer_state_dict': optimizer.state_dict(),\n",
    "                    'Valid_loss': best_valid_loss}, name)\n",
    "        if OVERWRITE_MODEL_FILE and last_best is not None:\n",
    "            remove(last_best)\n",
    "            last_best = name\n",
    "        elif OVERWRITE_MODEL_FILE and last_best is None:\n",
    "            last_best = name\n",
    "    \n",
    "    print(f'Epoch: {epoch+1:02} | Epoch Time: {epoch_mins}m {epoch_secs}s')\n",
    "    print(f'\\tTrain Loss: {train_loss:.3f} | Train Acc: {train_acc*100:.2f}%')\n",
    "    print(f'\\t Val. Loss: {valid_loss:.3f} |  Val. Acc: {valid_acc*100:.2f}%')"
   ]
  },
  {
   "cell_type": "code",
   "execution_count": 36,
   "id": "a3082552",
   "metadata": {},
   "outputs": [
    {
     "data": {
      "text/plain": [
<<<<<<< HEAD
       "('./CNN_ep5_2021-11-27_14:15:16.234522.pt', 5)"
=======
       "('./CNN_ep5_2021-11-27_13:35:33.390381.pt', 5)"
>>>>>>> e56c17ae7ca7509ef2a8991980792782459566ac
      ]
     },
     "execution_count": 36,
     "metadata": {},
     "output_type": "execute_result"
    }
   ],
   "source": [
    "name, best_epoch"
   ]
  },
  {
   "cell_type": "code",
   "execution_count": 37,
   "id": "63a67076",
   "metadata": {},
   "outputs": [],
   "source": [
    "best_model = CNN(INPUT_DIM,\n",
    "                 EMBEDDING_DIM,\n",
    "                 N_FILTERS,\n",
    "                 FILTER_SIZES,\n",
    "                 OUTPUT_DIM,\n",
    "                 DROPOUT,\n",
    "                 PAD_IDX)"
   ]
  },
  {
   "cell_type": "code",
   "execution_count": 38,
   "id": "467e4f87",
   "metadata": {},
   "outputs": [],
   "source": [
    "pretrained_embeddings = TEXT.vocab.vectors\n",
    "UNK_IDX = TEXT.vocab.stoi[TEXT.unk_token]\n",
    "\n",
    "best_model.embedding.weight.data.copy_(pretrained_embeddings)\n",
    "best_model.embedding.weight.data[UNK_IDX] = torch.zeros(EMBEDDING_DIM)\n",
    "best_model.embedding.weight.data[PAD_IDX] = torch.zeros(EMBEDDING_DIM)"
   ]
  },
  {
   "cell_type": "code",
   "execution_count": 39,
   "id": "c2555ca8",
   "metadata": {},
   "outputs": [
    {
     "data": {
      "text/plain": [
       "<All keys matched successfully>"
      ]
     },
     "execution_count": 39,
     "metadata": {},
     "output_type": "execute_result"
    }
   ],
   "source": [
    "best_model.load_state_dict(torch.load(name,\n",
    "                                      map_location=torch.device('cpu'))['model_state_dict'])"
   ]
  },
  {
   "cell_type": "code",
   "execution_count": 40,
   "id": "abc25c8f",
   "metadata": {},
   "outputs": [
    {
     "name": "stderr",
     "output_type": "stream",
     "text": [
<<<<<<< HEAD
      "eval: 100%|█████████████████████████████████████| 28/28 [00:03<00:00,  9.14it/s]"
=======
      "eval: 100%|█████████████████████████████████████| 28/28 [00:04<00:00,  5.81it/s]"
>>>>>>> e56c17ae7ca7509ef2a8991980792782459566ac
     ]
    },
    {
     "name": "stdout",
     "output_type": "stream",
     "text": [
<<<<<<< HEAD
      "Test Loss: 0.709 | Test Acc: 77.39%\n"
=======
      "Test Loss: 0.677 | Test Acc: 79.61%\n"
>>>>>>> e56c17ae7ca7509ef2a8991980792782459566ac
     ]
    },
    {
     "name": "stderr",
     "output_type": "stream",
     "text": [
      "\n"
     ]
    }
   ],
   "source": [
    "test_loss, test_acc = evaluate(model, test_iterator, criterion, divisor)\n",
    "\n",
    "print(f'Test Loss: {test_loss:.3f} | Test Acc: {test_acc*100:.2f}%')"
   ]
  },
  {
   "cell_type": "code",
   "execution_count": 41,
   "id": "9c45be3b",
   "metadata": {},
   "outputs": [
    {
     "name": "stderr",
     "output_type": "stream",
     "text": [
<<<<<<< HEAD
      "predictions: 100%|██████████████████████████████| 28/28 [00:02<00:00,  9.50it/s]\n"
=======
      "predictions: 100%|██████████████████████████████| 28/28 [00:04<00:00,  5.73it/s]\n"
>>>>>>> e56c17ae7ca7509ef2a8991980792782459566ac
     ]
    }
   ],
   "source": [
    "best_model.eval()\n",
    "prediction_test = []\n",
    "labels_test=[]\n",
    "for batch in tqdm(test_iterator, desc='predictions'):\n",
    "    labels_test.append(batch.category.cpu().detach().numpy())\n",
    "    predictions = best_model(batch.content.cpu()).squeeze(1)\n",
    "    prediction_test.append(predictions.argmax(dim=1).detach().numpy())\n",
    "    \n",
    "y_true = np.concatenate(labels_test)\n",
    "y_pred = np.concatenate(prediction_test)"
   ]
  },
  {
   "cell_type": "code",
   "execution_count": 42,
   "id": "e652958f",
   "metadata": {},
   "outputs": [
    {
     "data": {
      "text/plain": [
       "['10-Salud',\n",
       " '8-Ecología_y_Planeta',\n",
       " '1-Mundo',\n",
       " '2-Economía',\n",
       " '3-Política_y_Conflictos',\n",
       " '4-Ciencias_y_Tecnología',\n",
       " '5-Catástrofes_y_Accidentes',\n",
       " '6-Cultura_y_Artes',\n",
       " '7-Deporte',\n",
       " '9-Crimen_delitos_y_Justicia']"
      ]
     },
     "execution_count": 42,
     "metadata": {},
     "output_type": "execute_result"
    }
   ],
   "source": [
    "lbs = list(cat_map.values())\n",
    "lbs"
   ]
  },
  {
   "cell_type": "code",
   "execution_count": 43,
   "id": "5862ecd3",
   "metadata": {},
   "outputs": [
    {
     "name": "stdout",
     "output_type": "stream",
     "text": [
      "                             precision    recall  f1-score   support\n",
      "\n",
<<<<<<< HEAD
      "                   10-Salud       0.78      0.70      0.74        89\n",
      "       8-Ecología_y_Planeta       0.83      0.80      0.81        89\n",
      "                    1-Mundo       0.63      0.68      0.65        90\n",
      "                 2-Economía       0.78      0.77      0.77        90\n",
      "    3-Política_y_Conflictos       0.72      0.71      0.72        89\n",
      "    4-Ciencias_y_Tecnología       0.83      0.75      0.79        89\n",
      " 5-Catástrofes_y_Accidentes       0.73      0.87      0.79        89\n",
      "          6-Cultura_y_Artes       0.81      0.77      0.79        90\n",
      "                  7-Deporte       0.94      0.92      0.93        89\n",
      "9-Crimen_delitos_y_Justicia       0.72      0.79      0.76        90\n",
      "\n",
      "                   accuracy                           0.77       894\n",
      "                  macro avg       0.78      0.77      0.77       894\n",
      "               weighted avg       0.78      0.77      0.77       894\n",
=======
      "                   10-Salud       0.78      0.80      0.79        89\n",
      "       8-Ecología_y_Planeta       0.86      0.81      0.83        89\n",
      "                    1-Mundo       0.65      0.69      0.67        90\n",
      "                 2-Economía       0.75      0.79      0.77        90\n",
      "    3-Política_y_Conflictos       0.70      0.72      0.71        89\n",
      "    4-Ciencias_y_Tecnología       0.85      0.75      0.80        89\n",
      " 5-Catástrofes_y_Accidentes       0.77      0.91      0.84        89\n",
      "          6-Cultura_y_Artes       0.91      0.78      0.84        90\n",
      "                  7-Deporte       0.97      0.96      0.96        89\n",
      "9-Crimen_delitos_y_Justicia       0.76      0.76      0.76        90\n",
      "\n",
      "                   accuracy                           0.80       894\n",
      "                  macro avg       0.80      0.80      0.80       894\n",
      "               weighted avg       0.80      0.80      0.80       894\n",
>>>>>>> e56c17ae7ca7509ef2a8991980792782459566ac
      "\n"
     ]
    }
   ],
   "source": [
    "from sklearn.metrics import confusion_matrix, classification_report\n",
    "from sklearn.metrics import precision_recall_fscore_support\n",
    "import matplotlib.pyplot as plt\n",
    "print(classification_report(y_true,\n",
    "                            y_pred,\n",
    "                            target_names=lbs,))"
   ]
  },
  {
   "cell_type": "code",
<<<<<<< HEAD
   "execution_count": 44,
   "id": "85219d73",
   "metadata": {},
   "outputs": [],
   "source": [
    "from my_funcs import plot_confusion_matrix"
=======
   "execution_count": null,
   "id": "359eeb04",
   "metadata": {},
   "outputs": [],
   "source": [
    "from my_funcs_funcs import plot_confusion_matrix"
   ]
  },
  {
   "cell_type": "markdown",
   "id": "303b2c8a",
   "metadata": {},
   "source": [
    "def plot_confusion_matrix(cm, labels, cmap=plt.cm.Blues):\n",
    "    fig, ax = plt.subplots(figsize=(7, 7), tight_layout=True)\n",
    "    ax.imshow(cm, interpolation='nearest', cmap=cmap)\n",
    "    for i in range(cm.shape[1]):\n",
    "        for j in range(cm.shape[0]):\n",
    "            ax.text(j, i, \"{:,}\".format(cm[i, j]), \n",
    "                    horizontalalignment=\"center\", verticalalignment=\"center\",\n",
    "                    color=\"white\" if cm[i, j] > np.amax(cm)/2 else \"black\")\n",
    "    ax.set_title(\"Matriz de confusión\")\n",
    "    tick_marks = np.arange(len(labels))\n",
    "    plt.yticks(tick_marks, labels)\n",
    "    plt.xticks(tick_marks, labels, rotation=90)\n",
    "    plt.ylabel('Etiqueta real')\n",
    "    plt.xlabel('Predicción')"
>>>>>>> e56c17ae7ca7509ef2a8991980792782459566ac
   ]
  },
  {
   "cell_type": "code",
<<<<<<< HEAD
   "execution_count": 45,
=======
   "execution_count": 46,
>>>>>>> e56c17ae7ca7509ef2a8991980792782459566ac
   "id": "475692df",
   "metadata": {
    "scrolled": false
   },
   "outputs": [
    {
     "data": {
<<<<<<< HEAD
      "image/png": "iVBORw0KGgoAAAANSUhEUgAAAeAAAAHwCAYAAAB+ArwOAAAAOXRFWHRTb2Z0d2FyZQBNYXRwbG90bGliIHZlcnNpb24zLjQuMywgaHR0cHM6Ly9tYXRwbG90bGliLm9yZy/MnkTPAAAACXBIWXMAAAsTAAALEwEAmpwYAACRaElEQVR4nOydd5gURfrHP19YQJRgABVYlSQZJeyCIqCIWUQMiBgxe+qp53me4X6e4Qyn3nmG88w5oBhORQEBSYJkUMQECpwsKKCCRFmW9/dH9+C4zi4LTHfD8n6eZ56Zrq6ub1VNz7xdVW9VycxwHMdxHCdeKiSdAcdxHMfZHnED7DiO4zgJ4AbYcRzHcRLADbDjOI7jJIAbYMdxHMdJADfAjuM4jpMAboAdx0kUSadLei8L6Twt6W/ZyFM2kFRV0tuSlkkasAXpZKwfSftK+kjSPluWUycp3AA7jvMbJM2VtFZSrWLh0yWZpPplSKN+GDentHhm9oKZHbGFWd4aORnYA9jNzHpvbiKZ6kdSTeAx4GQzm7dl2XSSwg2w4zglMQfomzqQ1Bqomk2BjRnnbZx9gC/NbF22EzazZWZ2iJnNynbaTny4AXYcpySeA85KOz4beDY9gqRjJU2T9JOkbyTdlHZ6dPi+VNIKSQdK6idprKR7Jf0A3BSGfRCmd00YN/UqlPR0psxJaitpqqTlkl4Gdih2vkfYYl8qaZyk/UoqqKSWkoZK+kHSd5KuD8OrSPqXpAXh61+SqoTnDpE0X9IfJS2StFDSOeG5m4EbgT5hOc6TdJOk59M0f9VDENbD12F55kg6PS38g7TrOkmaFHZtT5LUKe3cSEm3hnW8XNJ7xXsxnK0HN8CO45TEeKCGpOaSKgJ9gOeLxVlJYKR3Bo4FfiepV3iua/i+s5lVM7MPw+OOwNfA7sBt6YmZ2V1h3GpAc2Ax8ErxjEmqDPyX4CFhV2AAcFLa+XbAk8BFwG7AI8BbKeNZLK3qwDBgMFAXaAwMD0/fABwAtAH2BzoAf0m7fE+gJlAPOA/4t6RdzOyvwO3Ay2F5niiuWywPOwH3A0ebWXWgEzA9Q7xdgXfCuLsB/wTekbRbWrTTgHMI6rcycHVp2k5yuAF2HKc0Uq3gw4HPgYL0k2Y20sxmmNl6M/sYeAk4eCNpLjCzB8xsnZmtzhRBUlUCA3ufmb2bIcoBQCXgX2ZWaGavApPSzl8APGJmE8ysyMyeAX4OrytOD+BbM/uHma0xs+VmNiE8dzpwi5ktMrPFwM3AmWnXFobnC8N8rgCabqT8JbEeaCWpqpktNLOZGeIcC8wys+fC+nuJ4Hs5Li3OU2b2ZVi3rxA8PDhbIW6AHccpjecIWlT9KNb9DCCpo6QRkhZLWgZcDGysy/ObMug+AXxhZn8v4XxdoMB+vZtMujPSPsAfw+7npZKWAnuF1xVnL+CrUnTS051XLI3vi43xrgKqlZBWiZjZSoIehouBhZLekdSsDPlJ5ale2vG3W5ofJx7cADuOUyKhh+0c4Bjg9QxRXgTeAvYys5rAw4BSl5eUbGmakq4laEWeV0q0hUA9SUoL2zvt8zfAbWa2c9prx7DFWJxvgEYl6CwgMObpGgtKy38prAR2TDveM/2kmQ0xs8OBOgSt2sfKkJ9UngoyxHW2ctwAO46zMc4DDg1bacWpDvxgZmskdSBoLadYTNCt2rCsQpKOBi4HepXUPR3yIbAOuFxSjqQTCcZnUzwGXBy20CVpp9BhrHqGtAYCe0q6MnS6qi6pY3juJeAvkmqHzkw38ttx8LIyHegqae9wGtF1aeXeQ1LPcCz4Z4Ku7KIMabwLNJF0WljuPkCLsAzONoYbYMdxSsXMvjKzySWcvgS4RdJyAuP0Stp1qwicrMaG3cCZxl+L0weoDXyW5gn9cIY8rQVOJOga/zG87vW085MJxoEfDM/PDuNmKt9ygjHu4wi6b2cB3cLTfwMmAx8DM4CpYdgmY2ZDgZfDtKbwa6NZAfgjQQv3B4Jx9EsypPE9wZj1H4HvgWuAHma2ZHPy5CSLfj2E4jiO4zhOHHgL2HEcx3ESwA2w4ziO4ySAG2DHcRzHSQA3wI7jOI6TAOV5IXRnG6Zi1ZqWU2P3RLRb5dZMRBegsCgZp8gKCT6KC208kpNVKmyHVV6UoMPxR9OmLjGz2sXD3QA7WyU5NXanTt97E9Eee0+PRHQBFi1bk4jujlWS+yvIqbgdWoOE2aFSxaSzEDurfs76plRlZrdqlTJuGeld0I7jOI6TAG6AHcdxHCcB3AA7juM4TgK4AXYcx3GcBHAD7DiO4zgJ4AbYcRzHcRLADbDjOI7jJIAbYMdxHMdJADfAjuM4jpMAboAdx3EcJwHcADvbPDWq5vBQv/YMv+4Qhl13MO3q78x1PZsz/LpDGHRNVx45N48aVaNdavG9IYPZr2VTWjZrzN133RmpVnGefORBDu/cnsMOascTDz8Qq3a7lo3p2rENh3Rqz2FdO8amu2bNGrp3OYDOHdtxYPv9uOPWm8q9dpJlhmTv8SS1i4qKOKRTHn1PPj7rafta0OUMSU8CPYBFZtYqDNsVeBmoD8wFTjGzHzNcewBwH1AlfL1sZjeVonUIcLWZlXnxZEk3ASvM7J6yXrMx/npCS0Z9vohLnp5CpYqiauWK7PTFYu4a+DlF641rj2vGJYc15s63P8+W5K8oKiriyssv5Z1BQ6mXm0vnA/Lp0aMnzVu0iEQvnS8+m8lLzz3FW++NoVLlypx1Sk8OPfxoGjRqHLl2ijfeGcZutWrFpgdQpUoV3hw0jGrVqlFYWMjR3bty2JFHkd/hgHKrnWSZk7zHk9QGeOSh+2nStDnLl/+U9bS9BVz+eBo4qljYtcBwM9sXGB4eZ+IZ4EIzawO0Al6JKI9Zo1qVHDo02o2Xx38DBLsJ/bR6HWO+WELR+mD3k2lzl7JnzaqR5WHSxIk0atSYBg0bUrlyZXr3OZWBb78ZmV46s7/8nLbtO1B1xx3JycmhY6cuDHknHu0kkUS1atUAKCwspLBwXWy7KiWlnWSZk7zHk9QuKJjPe4MHccbZ50aSvhvgcoaZjQZ+KBZ8PIFxJXzvVcLluwMLw3SKzOxTAEkdJI2TNC18b1r8Qkk3Sbo67fgTSfXDzzdI+kLSMOA3124Je9fake9XrOWe0/bnnau7cGef/aha+dc7vfTuuBcjP1uUTdlfsWBBAbm5e204rlcvl4KCgsj00mnSvCUTP/yAH3/4ntWrVjFi2GAWLJgfizYERqF3r6Pp3qUDzz75WGy6ELSMunRsT5N96nBI9+7kdYivCzwp7aR0k7zHk9S+4Zo/ctPf7qBCRPt1ugHePtjDzFKGdSGBoc3EvcAXkt6QdJGkHcLwz4GuZtYWuBG4vazCktoDpwJtgROB/FLiXihpsqTJRauXlSn9ihVEq9waPD92HsfeM4bVa4v4XfdGG85fenhjitYb/50S3Q/WMuwzKsXTMtm3STMuvvyPnH5SD846pSctWu5HTsX4RpbeGTqK9z+YRP/XB/LkY/9h3AdjYtOuWLEiYyZMYeaseUydPIlPZ35S7rWT0k3yHk9Ke8igd6hVuzZt2raPTMMNsLMBM7sFyAPeA04DBoenagIDJH1CYKRbbkKyXYA3zGyVmf0EvFWK/qNmlmdmeRWr1ixT4t8uXcO3y9Ywfd5SAN79aCGtcoNrT8rPpXvLPbjiuambkN1Np169XObP/2bDcUHBfOrWrRupZjqnntGPd0d8yICBw9h5l12oH+P47551gnLWrr07xxzXi2lTJsWmnaLmzjvTucvBDB86ZLvRjls3yXs8Ke0J48cx+N2BtGnRmAv6nc6YUSO46LyzsqrhBnj74DtJdQDC90Xh56ckTZf0biqimX1lZv8BugP7S9oNuBUYETp1HQfs8BsFWMev76f0OL99hM0Si5f/zIIfV9Nw950AOKhJLWZ9t4KDm9Xm4u6NOP+xSawpXB+VPAB5+fnMnj2LuXPmsHbtWga83J9je/SMVDOdJYuD7vWC+f9j8MA3Of7EU2LRXblyJSuWL9/weeTwoTRrsSnPZpvPksWLWbZ0KQCrV69m5Ijh7Nskq6MbW512kmVO8h5PSvvGm2/jky/nMv3T2Tz29At0ObgbjzzxbFY13At6++At4GzgzvD9TQAzOyc9kqRjgXct6PPZFygClhK0gFN9uP1K0JhL4H2NpHZAgzB8NPC0pDsJ7rfjgEe2vEi/cNPrM/nXGW2plFOBb75fxdUvfsRbV3Wmck4Fnr8kGCObNncpNwyYkU3ZDeTk5HDvfQ9y3LFHUlRUxNn9zqVFy3gMEcDF5/Tlxx9+oFKlStxy17+oufMuseguXvQd/U47GYB164o48ZRT6X74kbFof/vtQi654FyK1hexfv16TjjxZI46pszO+NukdpJlTvIeT/r3FSXK1L/ubLtIegk4BKgFfAf8FfgvgUfz3sD/gN5mVtxRC0n9gXbAKoIW7Q1mNkTSgQTOW4uB94Ezzax++jQkSVUJDPvuwCSgM3C0mc2VdANwFjAPmA98urFpSFX22Nfq9L13C2pi8/n8nnj+1DKxaNmaRHR3rJLcs3hOxXjGEp1f2KFSxY1HKmes+nldYtq7Vas0xczyioe7AXa2StwAx4sb4O0LN8DxUpIB9jFgx3Ecx0kAN8CO4ziOkwBugB3HcRwnAdwAO47jOE4CuAF2HMdxnARwA+w4juM4CeAG2HEcx3ESwA2w4ziO4ySAG2DHcRzHSQBfC9rZKmmVW5OxCa1IteupTyaiC/C/p7O720pZqZDgYlSVKm6f7YDComg3CSmNovXJrIBYMcEbrUKSN3kJbJ93vuM4juMkjBtgx3Ecx0kAN8CO4ziOkwBugB3HcRwnAdwAO47jOE4CuAF2HMdxnARwA+w4juM4CeAG2HEcx3ESwA2w4ziO4ySAG2DHcRzHSQA3wE654r0hg9mvZVNaNmvM3XfdGZnOvnVrMP7u4ze8vn32DC49tgUnHFifyfeewIpXzqFdo90i00+nXcvGdO3YhkM6teewrh1j0UynqKiIQzrl0ffk42PT/N2F51I/dw/y27aOTTNp7TVr1tC9ywF07tiOA9vvxx233hSrfpJ1HtfvujhR17kb4K0ASZUkXSmpYtJ52ZYpKiriyssv5c23BzHt408Z0P8lPvv000i0Zi34iQP+9CYH/OlNOv35LVb/vI63Jszj0//9SN+7h/PBZ99GolsSb7wzjJHjpjBs9IRYdQEeeeh+mjRtHqvm6Wf2479vD4pVM2ntKlWq8OagYXwwYSqjx09h+NAhTJo4Pjb9pMod5++6OFHXebk2wJL+IGmmpE8kvSRphwxxiiRNT3tduxk6h0gauAVZvRX41syKtiCNEpFUX9LqsHyfSnpYUoUw/JMI9PpJqpvtdDfGpIkTadSoMQ0aNqRy5cr07nMqA99+M3Ldbq3r8PV3y/lmyUq+KFjGrAU/Ra65tVBQMJ/3Bg/ijLPPjVW3c5eu7LLLrrFqJq0tiWrVqgFQWFhIYeE6RHwbDCRV7qR+1xB9nZdbAyypHnA5kGdmrYCKwKkZoq42szZpr/j6N4J8VgVmmFn/iKW+MrM2wH5AC6BXhFr9gNgN8IIFBeTm7rXhuF69XAoKCiLX7X1QQwZ88HXkOiUhid69jqZ7lw48++RjsWrfcM0fuelvd1ChQrn9K9mqKCoqokvH9jTZpw6HdO9OXof4hxziJqnfdYoo67y8/2pygKqScoAdgQVlvVBSvqRxkj6SNFFSdUk7SHpK0gxJ0yR1y3DdrpL+K+ljSeMl7ReG15Y0VNJUSY9ImieplpmtBh4J41STNDyMM0NSiYNqkm6VdEXa8W2SLt9YucxsHTAOaFwsvfqSxoTaUyV1CsMPkTRS0quSPpf0giSF59pLGiVpiqQhkupIOhnIA14IW9xVJd0oaVLYE/Fo6vpsY/bbLdYiktpApZwKHJO3N69/OCdSndJ4Z+go3v9gEv1fH8iTj/2HcR+MiUV3yKB3qFW7Nm3ato9Fz4GKFSsyZsIUZs6ax9TJk/h0ZtY7sLY6kvhdpxNlnZdbA2xmBcA9wP+AhcAyM3svQ9Sqxbqg+0iqDLwMXGFm+wOHAauBS8O0WwN9gWcydGvfDEwzs/2A64Fnw/C/Au+bWTvgDWDvDHlZA5wQxukG/KMUY/UEcDaApAoErfsXSq8VkLQj0B2YUezUIuDwULsPcH/aubbAlQQt54bAQZIqAQ8AJ5tZe+BJ4DYzexWYDJwe9iisBh40s/ywJ6IqkHGjX0kXSposafLiJYs3VpTfUK9eLvPnf7PhuKBgPnXrRtsQP7JtLtPnfM+iZWsi1SmNPesEZaxde3eOOa4X06ZMikV3wvhxDH53IG1aNOaCfqczZtQILjovmf2Mtzdq7rwznbsczPChQ5LOSuQk8bvORBR1Xm4NsKRdgOOBBgTdoTtJOiND1OJd0C8DTYGFZjYJwMx+CluOnYHnwrDPgXlAk2Lppcd5H9hNUs0wvH8YPhj4MVO2gdslfQwMA+oBe2Qqn5nNBb6X1BY4gsDof19KlTSSNB0YC7xjZsW9KSoBj0maAQwgMLYpJprZfDNbD0wH6hPUUStgaJjuX4DcErS7SZoQpn0o0LKEMj1qZnlmlle7Vu1SipKZvPx8Zs+exdw5c1i7di0DXu7PsT16bnI6m0Lvzsl2P69cuZIVy5dv+Dxy+FCatchYvVnnxptv45Mv5zL909k89vQLdDm4G4888ezGL3Q2iyWLF7Ns6VIAVq9ezcgRw9m3SdNkMxUDSfyuU0Rd5zlZS2nr4zBgjpktBpD0OtBd0tXh+YfN7OESrhXw234PyjT6nimOlfHa04HaQHszK5Q0F/iN41gajxOMt+5J0AItjdQYcEn8AfgO2J/gwSy9Sfdz2ucigvtGwEwzO7A00bCH4CGCsfhvJN1E6WXabHJycrj3vgc57tgjKSoq4ux+59KiZXTGqGrlihy6X11+/8jYDWE9O+zDP847gFo1duC1647g47nfc/zfMnW8ZIfFi76j32knA7BuXREnnnIq3Q8/MjK9rYV+Z57GmNEj+X7JEpo03Isb/u8mzj7nvHKt/e23C7nkgnMpWl/E+vXrOeHEkznqmIydSZGQVLnj/l2nE3WdK1P/enlAUkcCo5RP0H38NDDZzB4oFm+FmVUrFlYZ+BzoY2aTJFUP07gcaGlm50lqAgwlaAEfCFxtZj0k3Q8sNrNbJR0C3GtmbSX9G/ifmf1d0hHAEKC2mS1J5SEc021sZr8Px5ffBxqErd1MZaxM0JVcCdi3JC9qSfWBgWEXcMZwSfcC883sH5LOAZ40M4VluNrMeoTXPEjQxfwi8Clwppl9GHZJNzGzmZLeBv5pZiMk7Qx8QdBqrgiMB141s5sy5TVF+/Z5NnbC5NKiRMaup27sWSY6/vd0Ml24FeIbUvsNVSptn7PvCovWJ6ZdqWIynZ8VE7zR1hRGMsmkTOyyY84UM8srHl5uW8BmNkHSq8BUYB0wDXg0Q9SqYRdqisFmdq2kPsADoZfyaoIW9UPAw2FX6jqgn5n9XGyY9ibgqbAbeRXhOC3B2PBLYbqjCMallxfLywvA25ImE3T1fr6RMq6VNAJYmoUpTA8Br0nqDYwAVpZB+2Tg/rCLPQf4FzCT4GHnYUmrCR5OHiN4UJgLxDNA6TiOs5VTblvAWxuSqgBFZrZO0oHAfzbSJVyWNCsQPGD0NrNZWcjmVoO3gOPFW8Dx4y3gePEW8PbN3sArodFcC1ywJYlJagEMBN4ob8bXcRxne8ANcEyERrLtpl4naTdgeIZT3c2sYbG4rQk9sNP42czK/2x9x3GcbQw3wFs54dSiNmWMO6OscR3HcZxkKbfzgB3HcRxna8YNsOM4juMkgBtgx3Ecx0kAN8CO4ziOkwBugB3HcRwnAdwAO47jOE4C+DQkZ6ukyIwVa9Ylop3UalQAHf8a3cYNpTHz78ckogsk9j0DVMlJrg2S1GpUSVK0PrmVF39aVZiYdklsf3eA4ziO42wFuAF2HMdxnARwA+w4juM4CeAG2HEcx3ESwA2w4ziO4ySAG2DHcRzHSQA3wI7jOI6TAG6AHcdxHCcB3AA7juM4TgK4AXYcx3GcBHAD7JQr2rVsTNeObTikU3sO69qx3GpX3yGHB89qy3t/7sqQa7rSdp+dOXq/PRn0py7MuvtoWufWjFQ/xXtDBrNfy6a0bNaYu++6MxbNFEl91/O/+YZjj+xOXpuWdGjXmocevD827d9deC71c/cgv23r2DST1k6yzABPPvIgh3duz2EHteOJhx/IatpugMsZkp6UtEjSJ6XEMUnPpR3nSFosaWCW8lC/NP2oeeOdYYwcN4VhoyeUW+0be7Vg9BeLOeLvo+nxjzHM/m4FX367nEuensrEr3+IVDtFUVERV15+KW++PYhpH3/KgP4v8dmnn8ainSKJ7zonJ4fb7rybydNnMnzUOB575CE+/yyecp9+Zj/++/agWLS2Fu0ky/zFZzN56bmneOu9MQweNZHh7w1izlezs5a+G+Dyx9PAURuJsxJoJalqeHw4UBBlppzsUa1KDvkNd+WVCfMBKCwylq9Zx1eLVjJn8crY8jFp4kQaNWpMg4YNqVy5Mr37nMrAt9+MTT8p9qxThzZt2wFQvXp1mjZrxoIF8fx8Onfpyi677BqL1tainWSZZ3/5OW3bd6DqjjuSk5NDx05dGPJO9u5xN8DlDDMbDZSlCTQIODb83Bd4KXVC0k2Srk47/iRs1daX9JmkxyTNlPReyohLai/pI0kfApemXbuDpKckzZA0TVK3bJSzJCTRu9fRdO/SgWeffCxKqcS099qtKj+sXMtdp+7HW1cdxO2ntKZq5YqR6ZXEggUF5ObuteG4Xr1cCgrie45L8rtOMW/eXD6ePp28/HiHO5x4aNK8JRM//IAff/ie1atWMWLYYBYsmJ+19H07wu2X/sCNYbfzfsCTQJcyXLcv0NfMLpD0CnAS8DzwFPB7Mxsl6e60+JcCmFlrSc2A9yQ1MbM1xROWdCFwIUDuXntvVqHeGTqKPevUZfHiRfTueRSNmzSjU+eyFGvLiUs7p0IFWtarwc1vzOSj/y3j/45vzsWHNuTewbOyrlUaZr/dWk5SbPpJftcAK1as4My+vbnz7n9So0aN2HSd+Ni3STMuvvyPnH5SD3baaSdatNyPnIrZM5veAt5OMbOPgfoErd93N+HSOWY2Pfw8BagvqSaws5mNCsOfS4vfOXVsZp8D84AmJeTpUTPLM7O83WrV2oQs/cKedeoCULv27hxzXC+mTZm0WelszdoLl63m22Vr+Oh/ywAY9PG3tKwXj9NVOvXq5TJ//jcbjgsK5lO3bt3Y9JP8rgsLCzmj78mc0uc0evY6MTZdJ35OPaMf7474kAEDh7HzLrtQv1HjrKXtBricI2kvSdPD18XFTr8F3ENa93PIOn59b+yQ9vnntM9FBL0oAkraaTu2JtHKlStZsXz5hs8jhw+lWYuW5U57yfK1LFy6hga1dwKg0761mP3diki0SiMvP5/Zs2cxd84c1q5dy4CX+3Nsj56xaCf5XZsZl158Pk2bNueyK/4Qi6aTHEsWLwKgYP7/GDzwTY4/8ZSspe1d0OUcM/sGaFPC6SeBZWY2Q9IhaeFzgR4AktoBDTaisVTSMkmdzewD4PS006PD4/clNQH2Br7Y9JJsnMWLvqPfaScDsG5dESeecirdDz8yCqnEtW9+Yyb3nt6GShXFNz+s4pr+H3NEqz248YQW7FqtMo+fn8enC37inEejaxXm5ORw730PctyxR1JUVMTZ/c6lRct4jGCS3/X4cWPp/+LztGzVmoM6Bs5YN978N4486pjItfudeRpjRo/k+yVLaNJwL274v5s4+5zzItdNUjvJMgNcfE5ffvzhBypVqsQtd/2LmjvvkrW0lWkcx9l2kfQScAhQC/gO+KuZPVEszgozq1Ys7BDgajPrETpWvQnsDkwi6EY+Oow60MxahddcDVQzs5sktScw6KuAIcDJZtZK0g7Aw0B7gpb1VWY2YmPlaNOuvSUxjShpOv71vUR0Z/49euNREivWrEtMu0pOcp2AFSrEN17uwPfLf954pIjYp1bVKWaWVzzcW8DlDDPrW4Y41TKEjQRGhp9XA0eUcHmrtGvuSfs8Bdg/Ld5NYfgaoN/G8uQ4jrO94WPAjuM4jpMAboAdx3EcJwHcADuO4zhOArgBdhzHcZwEcAPsOI7jOAngBthxHMdxEsANsOM4juMkgBtgx3Ecx0kAN8CO4ziOkwC+EpazVSJETsVkluqrVDG559JJt5S0AFm07HHWcxuPFBHznzx945EiIsnlIBNdgrNSMvf4DpXi37c6xW7VqySmXRLeAnYcx3GcBHAD7DiO4zgJ4AbYcRzHcRLADbDjOI7jJIAbYMdxHMdJADfAjuM4jpMAboAdx3EcJwHcADuO4zhOArgBdhzHcZwEcAPsOI7jOAngBthxHMdxEsANsBMZkupL6huX3po1a+je5QA6d2zHge33445bb4pLmt9deC71c/cgv23r2DTTKSoq4pBOefQ9+fjItWruWIlnr+jKpHt6MvHunuTvW4tWe+/C0JuPYtydPeh/dTeqV60UaR7mf/MNxx7Znbw2LenQrjUPPXh/pHrpJPldL1u6lPPO7EPnvFZ0yW/N5InjY9FN8rcF8N6QwezXsiktmzXm7rvujE036u/aDfBWiKS9JI2Q9JmkmZKuKCFekaTpaa9r485rSUiqCPwbmBqXZpUqVXhz0DA+mDCV0eOnMHzoECbF9Ad1+pn9+O/bg2LRysQjD91Pk6bNY9G686x8hn20gPyr3+KgawfyZcEyHrjgAG56aSqdrh3IwEn/4/IeLSLNQ05ODrfdeTeTp89k+KhxPPbIQ3z+2aeRaqZI8rv+y7VXcehhR/LB5E8YPnYK+zZpFotukr+toqIirrz8Ut58exDTPv6UAf1f4rNPy8d37QZ462Qd8Eczaw4cAFwqKdM/2moza5P2iu/RcOM0Bu40sy/iEpREtWrVACgsLKSwcB0int1uOnfpyi677BqLVnEKCubz3uBBnHH2uZFrVa9aiYOa7cGzI2cDUFi0nmWrCmlcpwZjP18EwIgZC+mZv3ek+dizTh3atG0X5Kl6dZo2a8aCBQWRaqZI6rte/tNPjB/7AaeddQ4AlStXpubOO8eineRva9LEiTRq1JgGDRtSuXJlevc5lYFvvxmLdtTftRvgrRAzW2hmU8PPy4HPgHplvV5SvqRxkj6SNFFSdUk7SHpK0gxJ0yR1C+P2k/S6pMGSZkm6Ky2dvmH8TyT9PS18haS/S5oiaZikDpJGSvpaUs8wWh3gz2H8DmF+poXvTbe8ljJTVFREl47tabJPHQ7p3p28Dh2jktpquOGaP3LT3+6gQoXof871d6/GkuVreOiiToy5/VgeuOAAdqySw2fzl3JM+1wAeh2wD/V22ynyvKSYN28uH0+fTl5++f6u5839mt1q1eKKS87nsM75XHXZRaxcuTI2/aR+WwsWFJCbu9eG43r1cikoiOdhK2rcAG/lSKoPtAUmZDhdtVgXdB9JlYGXgSvMbH/gMGA1cCmAmbUG+gLPSNohTKcN0AdoDfQJu8DrAn8HDg3P50vqFcbfCRhpZu2B5cDfgMOBE4BbMuTzc6CrmbUFbgRuL6GsF0qaLGnykiWLy1Q/xalYsSJjJkxh5qx5TJ08iU9nfrJZ6WwrDBn0DrVq16ZN2/ax6OVUEPvX35Unhn1Jl+vfYeXP6/hDz5Zc+uiHXHB4U0bddgzVdqhE4br1seRnxYoVnNm3N3fe/U9q1KgRi2ZSrFtXxIyPptHvvIsY9sEkdtxpJx68966NX5glkvptmdlvwqTk9nHOJm6At2IkVQNeA640s58yRCneBf0y0BRYaGaTAMzsJzNbB3QGngvDPgfmAU3CdIab2TIzWwN8CuwD5BMY2cXh9S8AXcP4a4HB4ecZwCgzKww/18+Qz5rAAEmfAPcCLTOV18weNbM8M8urVat2meqoJGruvDOduxzM8KFDtiidrZ0J48cx+N2BtGnRmAv6nc6YUSO46LyzItMr+GEVBT+sYspXSwB4c8L/2L/+rsxa8BMn3Dmcg294l1fHzWHOouWR5SFFYWEhZ/Q9mVP6nEbPXidGrpc0devVo069XNrldQCgx/En8vFH02PPR9y/rXr1cpk//5sNxwUF86lbt24s2lHjBngrRVIlAuP7gpm9HrZKUy3di0u7FPjtIyOlDtj8nPa5CMjZSPxC++WxdH3qejNbH15bnFuBEWbWCjgO2CFDnC1myeLFLFu6FIDVq1czcsRw9m0SWW/3VsGNN9/GJ1/OZfqns3ns6RfocnA3Hnni2cj0Fi1bQ8H3K2lcJ2htHtxqT74oWEatGsFXKsGfTmjNk8O+jCwPELSKLr34fJo2bc5lV/whUq2thd332JN69XKZPStwqxgz6v3YHO+S/G3l5ecze/Ys5s6Zw9q1axnwcn+O7dFz4xduA7gB3gpR0L/yBPCZmf0TwMy+SWvpPlzK5Z8DdSXlh2lVl5QDjAZOD8OaAHsDpTlITQAOllQr9GjuC4zazCLVBFKDNv02M42N8u23CznuqMM4qENbDu1yAN0OPYyjjukRldyv6HfmaRx6cCdmffkFTRruxTNPPRGLbhJc88wkHr+0M2Pv7EHrfXblH29+wsmd6jPlH8cz+Z7j+fbH1Tw/6qtI8zB+3Fj6v/g8o0eN4KCO7TioYzuGDH43Us0USX7Xt911L5ecfzbdOrVj5oyPuOKPf45FN8nfVk5ODvfe9yDHHXskbVo356Tep9CiZcZOtKwT9XetTP3rTrJI6gyMIejSTQ2mXW9m7xaLVxTGSTHYzK4Nje8DQFWC8d/DCDyrHwbah5+vMrMRkvoBeWZ2WZjmQOAeMxsp6TTgOoLW8Ltmdk0YZ4WZVQs/3wSsMLN70s9JOgS42sx6SDoQeAZYDLwPnGlm9Uurg7bt8mzE2EzD3tFTqWJyz6U/FxYlotvggpcS0QWY/+TpiWlXqJDcWOKKNesS065SKZl7fIdKFRPRBShan5ytq1alwhQzyyse7gbY2SpxAxwvboDjxw1wvGyNBti7oB3HcRwnAdwAO47jOE4CuAF2HMdxnARwA+w4juM4CeAG2HEcx3ESwA2w4ziO4ySAG2DHcRzHSQA3wI7jOI6TAG6AHcdxHCcBMi2c7ziJYxjripJZuWaHSsmtjlSYUJm/erRvIroALf80MDHtL+9NblH/9QmuQpjkilRJUVgUzxaZm0KJBljSrqVdaGY/ZD87juM4jrN9UFoLeArBtnaZmgMGNIwkR47jOI6zHVCiATazBnFmxHEcx3G2J8o0BixpF2Bf0jZSN7PRUWXKcRzHcco7GzXAks4HrgBygenAAcCHwKGR5sxxHMdxyjFlmYZ0BZAPzDOzbkBbgo3VHcdxHMfZTMpigNeY2RoASVXM7HOgabTZchzHcZzyTVnGgOdL2hn4LzBU0o/Agigz5TiO4zjlnY0aYDM7Ifx4k6QRQE1gcKS5chzHcZxyTlm9oDsD+5rZU5JqA/WAOZHmzHEcx3HKMRsdA5b0V+DPwHVhUCXg+Sgz5TiO4zjlnbI4YZ0A9ARWApjZAqB6lJnaGpF0iKQDk86HUzrtWjama8c2HNKpPYd17Rib7ntDBrNfy6a0bNaYu++6MzZdgGVLl3LemX3onNeKLvmtmTxxfGzacdd3jao5PHxuHu//pRvDb+hGu/q78MdjmzLk2kMY9OeDef6SA9ijRpXI85HU9z171hcc1jl/w6vJXrV47KH7Y9FO8h5PSnvNmjV073IAnTu248D2+3HHrTdlNf2ydEGvNTOTZACSdspqDrKApB2A0UAVgjK9amZ/zRCvCJgRxvkMONvMVpWQZj8gz8wuk1QXuAHoGYa/Fz6IIOlx4J9m9mnWC7YRJB0N3ArsRLBk6EAzu3oz07obOAZ4l+Bha4WZ3SPpFmC0mQ0r4bo2QF0ze3dzdKPgjXeGsVutWrHpFRUVceXll/LOoKHUy82l8wH59OjRk+YtWsSi/5drr+LQw47kiedeZu3ataxelfGWjow46/umk1oz8rNFXPzkZCpVFFUrV+TLb5fzj3e+AOCcgxtwxdFNuf7ljyPLQ5Lfd+N9mzLsg0kb8tGueQOO7nF85LpJljlJ7SpVqvDmoGFUq1aNwsJCju7elcOOPIr8DgdkJf2ytIBfkfQIsLOkC4BhwGNZUc8ePwOHmtn+QBvgKEmZami1mbUxs1bAWuDiMqbfGjjXzFYD/YC6qRNmdn5CxrcV8CBwhpk1B1oBX29BkhcB7czsT+mBZnZjScY3pA2B4d5umTRxIo0aNaZBw4ZUrlyZ3n1OZeDbb8aivfynnxg/9gNOO+scACpXrkzNnXeORTtuqu2QQ4fGu9L/w/8Bwc5RP61ex4o16zbE2bFyRaLeZCjJ7zudMaPeZ58GDcnde5/ItZIsc5LakqhWrRoAhYWFFBauQxm3R9g8SjXAkgS8DLwKvEYw//dGM3sgaznIAhawIjysFL429jMcAzSWtKuk/0r6WNJ4SftliHsg0EfSyUAe8IKk6ZKqShopKQ9A0lGSpkr6SNLwMKyDpHGSpoXvJc6hljQmbFGmjseWkB+Aa4DbwnnZmNk6M3sovG4fScPDMg2XtHcY/rSk+8N8fB2WB0lvEbSiJ0jqUyxPT6fFyw+v/UjSREk1gVvCupkuqU9J9Snp4DDO9LAuIhnGkETvXkfTvUsHnn0ynufEBQsKyM3da8NxvXq5FBQUxKI9b+7X7FarFldccj6Hdc7nqssuYuXKlbFoQ7z1vfduO/LDirX844w2vHvNwfy97/5UrRxsq/enHs0Yf8vh9MrL5R/vfh5pPpL8vtN587UB9DrplFi0kixz0vVdVFREl47tabJPHQ7p3p28DtkbainVAJuZAf81s6Fm9iczu9rMhmZNPYtIqihpOrAIGGpmE0qJmwMcTdAdfTMwzcz2A64Hni3pOjN7FZgMnB62pFenpVmboGfgpLAl3js89TnQ1czaAjcCt5dSjMcJWthIagJUMbOS+tJaEexYlYkHgWfDMr0ApA8S1QE6Az2AO8Ny9eSX3oGXMyUoqTLBw9gVYfkOI+iqvhF4Oe3akurzauBSM2sDdAFWF5NA0oWSJkua/P2SJSUUrXTeGTqK9z+YRP/XB/LkY/9h3AdjNiudTcEyNLmCZ9foWbeuiBkfTaPfeRcx7INJ7LjTTjx4712xaEO89Z1TQbTKrclzY+ZyzF2jWL22iEsObwzA3QM/54Abh/LfyfPp1zXafWSS/L5TrF27lvcGDeS4XifFopdkmZOu74oVKzJmwhRmzprH1MmT+HTmJ1lLuyxd0OMl5WdNMSLMrCj8c88FOoRdtMWpGhrpycD/gCcIjNFzYRrvA7uFLbtN5QCCsdI5YVqp/ZJrAgMkfQLcC7QsJY0BQA9JlYBzgac3Ix8QtNhfDD8/R1DGFP81s/Vht/kem5BmU2ChmU0CMLOfzGxdhngl1edY4J+SLgd2znStmT1qZnlmlre5Y4p71glGB2rX3p1jjuvFtCmTNiudTaFevVzmz/9mw3FBwXzq1q1byhXZo269etSpl0u7vA4A9Dj+RD7+aHos2hBvfS9cuoaFS9cwfd5SAN6dvoBWe+38qzj/nVzA0fvXiSwPkOz3neL9oYNpvX8bau++KT/hzSfJMm8N9Q1Qc+ed6dzlYIYPHZK1NMtigLsBH0r6KuxWnCEpOg+HLcTMlgIjgRPSujxTY72pVl4bM/u9ma2l5P2ONxWVcN2twIhw3Pk40naUypD3VcBQ4HjgFH4xopmYCbQvY97S8/VzsTyXlZLKlyneb/TN7E7gfKAqwUNds03QLhMrV65kxfLlGz6PHD6UZi1Ke97JDnn5+cyePYu5c+awdu1aBrzcn2N79IxcF2D3PfakXr1cZs8KnJDGjHqfJk2bx6Idd30vXv4zC5eupuHugR/oQU1qM2vhcurX/sUv9PDWe/LVdytKSiIrJPl9p/jva6/Q66Q+G4+YJZIsc5LaSxYvZtnSpQCsXr2akSOGs2+T7K3EXBYv6KOzphYRYfdvoZktlVSVoHv072Z2axkuHw2cDtwq6RBgiZn9VEoXx3IyT8P6EPi3pAZmNkfSrmEruCaQGrDoV4b8PA68DYxJa0Vn4m7gdUkfmNmXkioAV5rZP4FxwKkELdHTgQ/KoLsxPgfqSso3s0nhGO5qflsfJdVnIzObAcwIp3M1C9PMGosXfUe/004Ggq7ZE085le6HH5lNiYzk5ORw730PctyxR1JUVMTZ/c6lRcvoDX+K2+66l0vOP5vCwrXsU78B//r347HoJlHfNw6Ywf1nt6dSxQr87/uVXP38dP5+2v402r0a6w0KfljFdRF6QEPy3/eqVasYM2I4d93779g0kyxzktrffruQSy44l6L1Raxfv54TTjyZo47pkbX0lal/fVsjdPR5BqhI0Kp/xcxuyRBvhZlVKxa2K/AU0ABYBVxoZh8Xm4Z0E79MyzmJYBx3NUFX7yDgajObHE4Luj3MwyIzOzw0Ns8Q7CD1PnCmmdXfSHk+JzCmpS75KakHwZjrjgSt03fM7E+S6gNPArVC3XPM7H+SniaYqvRq8foo9jm9vBuuCYciHiBoxa4meNCpDAwhcHy7g6AFn6k+HyDoTSkCPgX6mVl6a/xXtGnX3oaNLnEYP1Kq7VCmBeIiYdmqwkR0K1aIdwwznXbXJTeD7ct74225pvPjyrWJae+yU+XEtJNiTWFRYtq77JgzxczyioeXCwNcnlAw53gk0MzM1iecncRwAxwvboDjxw1wvGyNBrgsY8BOTEg6C5gA3LA9G1/HcZztgeQe9bdjJB0J/L1Y8Jxw56lni8U9B7iiWNyxZnZphFl0HMdxImajBjhcUeoBoDnBeF9FYKWZ1Yg4b+UWMxtCMG5alrhPEYypOo7jOOWIsnRBPwj0BWYRON+cT2CQHcdxHMfZTMrUBW1msyVVNLMi4ClJ4yLOl+M4juOUa8pigFeFyxBOl3QXsJBg3WDHcRzHcTaTsnRBnxnGu4xg7d+9gBOjzJTjOI7jlHfKYoB7mdmacO3fm83sKoKF/B3HcRzH2UzKYoDPzhDWL8v5cBzHcZztihLHgCX1BU4DGoT7xaaoAXwfdcac7ZuKUmIrUiW1GhVAlUrb39o4M+9OrkMt9/z+iWnPf/zUxLSTWoWrRtVKiegC7FCpYmLaJVHaP9w4AoerWsA/0sKXA1vtbkiO4ziOsy1QogE2s3nAPOBASfsA+5rZsHC3oaoEhthxHMdxnM1go/1dki4AXgUeCYNygf9GmCfHcRzHKfeUZcDpUuAg4CcAM5sF7B5lphzHcRynvFMWA/yzmW0YsZeUQ7D3rOM4juM4m0lZDPAoSdcDVSUdDgwA3o42W47jOI5TvimLAb4WWAzMAC4C3gX+EmWmHMdxHKe8s9GJluHG8I+FL8dxHMdxskBZ9gOeQ4YxXzNrGEmOHMdxHGc7oCxLDeWlfd4B6A3sGk12HMdxHGf7YKNjwGb2fdqrwMz+BRwafdYcZ9N5b8hg9mvZlJbNGnP3XXfGqr1s6VLOO7MPnfNa0SW/NZMnjo9cc82aNXTvcgCdO7bjwPb7ccetN0WuuTVoz//mG449sjt5bVrSoV1rHnrw/kj1auxYiScvPYgP7ziGcbcfTV6j3Xj8d50YccuRjLjlSKbecxwjbjky0jxAcvf37FlfcFjn/A2vJnvV4rGHoq3zFL+78Fzq5+5BftvWsegVJ8o6l1npM4oktUs7rEDQIv6dme2f1Zw45Q5JvYAvzOyzTb22ffs8Gzth8iZdU1RUROsWTXhn0FDq5ebS+YB8nnn+JZq3aLFJ6WzuWtC/v/hcDjiwM6effS5r165l9apV1Nx5501KY1PXgjYzVq5cSbVq1SgsLOTo7l254557ye9wwCalszlkS7uitMna3y5cyLffLqRN23YsX76crp3yeemV12nWfNO+6wYXv1KmeA+e35HxXy7m+dFfU6liBapWqchPaffJLae24adVhdzz1swya2/qWtDZur9hy9aCLioqol3zBrwzbAy5e++zSdduzlrQH4wZTbVq1bjg3LOZNG3GJl+fomKFTb/PslXnVStpipnlFQ8vy6/9H2mvO4D2wCmbpL6FSKooaZqkgSWc31NSf0lfSfpU0ruSmkiqK+nVLOclT1I8j36/aLaWND18/SBpTvh5WMS6cyXV2sxr9wfOAr7Ibq5KZtLEiTRq1JgGDRtSuXJlevc5lYFvvxmL9vKffmL82A847axzAKhcufImG9/NQRLVqlUDoLCwkMLCdYhN/6PZ1rT3rFOHNm2DtkH16tVp2qwZCxYURKJVbYccDmxam+dHfw1AYdH6XxlfgOPz9+b1CfMi0U+R5P2dzphR77NPg4abbHw3l85durLLLsmMekZd52Xpgu6W9jrczC4ws9j+VEOuADK2oiQJeAMYaWaNzKwFcD2wh5ktMLOTs5kRM5tsZpdnM80yaM4wszZm1gZ4C/hTeHxYnPnYRJoC54Re9LGwYEEBubl7bTiuVy+XgoJo/pSLM2/u1+xWqxZXXHI+h3XO56rLLmLlypWxaBcVFdGlY3ua7FOHQ7p3J69Dx1h0k9ZOMW/eXD6ePp28/Gi06+9eje+X/8wD53fk/ZuP5F/n5LNj5V921jmwSW0W/7SGr79bEYl+iiTv73TefG0AvU6KtQ2WGFHXeVnWgr6qtFfWclKyfi5wLPB4CVG6AYVm9nAqwMymm9kYSfUlfRKmU1HS3ZImSfpY0kVh+CGSRkp6VdLnkl4IjTqS8iWNk/SRpImSqofxB4bnO4Tnp4XvTcPwlmH86aHWviWU7VZJV6Qd3yapzMZd0hGSPpQ0VdIASdVKyXc/Sa9LGixplqS70tLpK2mGpE8k/b0EravC859IujIt/P/Cehsq6SVJV4enjgEOD+PcGNb7J5IeTdVvtsk0nBKR1G9Yt66IGR9No995FzHsg0nsuNNOPHjvXRu/MAtUrFiRMROmMHPWPKZOnsSnMz+JRTdpbYAVK1ZwZt/e3Hn3P6lRo0YkGjkVxH777MJT78/i0L8OYeXP67i8xy9dkCceEH3rF5K9v1OsXbuW9wYN5LheJ8WqmxRR13lZuqDzgN8B9cLXxUALoHr4ipp/AdcAJbWkWgFTypDOecAyM8sH8oELJDUIz7UFriQoV0PgIEmVgZeBK8Lx7sOA1cXS/BzoamZtgRuB28Pwi4H7whZrHjC/hDw9AZwNIKkCcCrwQhnKQtg1/BfgMDNrB0wGrtpIvtsAfYDWQB9Je0mqC/ydwLGuDZAfjt2ma7UHzgE6AgcQ1F1bSXnASQT1dyK/9phP50EzyzezVgQ7aWXcAFbShZImS5q8eMnislTDr6hXL5f587/ZcFxQMJ+6detucjqbQ9169ahTL5d2eR0A6HH8iXz80fRYtFPU3HlnOnc5mOFDh8Sqm5R2YWEhZ/Q9mVP6nEbPXidGprPgx9Us+HE1U7/+AYC3J89n/312AYJxxWPb78UbE/4XmX6KJO/vFO8PHUzr/dtQe/c9YtVNiqjrvCwGuBbQzsz+aGZ/JBgDzjWzm83s5qzlJAOSegCLzKwsBnZjHAGcJWk6MAHYDUi1TCea2fywu3Q6UJ+gC3WhmU0CMLOfzGxdsTRrAgPCVva9QMsw/EPgekl/BvYxs+KGmzDNucD3ktqG+ZtmZt+XsTwHEDwwjA3LdDawz0byPdzMlpnZGuDTMH4+Qff94jDeC0DXYlqdgTfMbKWZrQBeB7qE4W+a2WozW07JS5R2kzRB0gwCQ98yUyQze9TM8swsr3at2mWshl/Iy89n9uxZzJ0zh7Vr1zLg5f4c26PnJqezOey+x57Uq5fL7FnB6MyYUe/TpGnzyHWXLF7MsqVLAVi9ejUjRwxn3yZNI9dNWtvMuPTi82natDmXXfGHSLUWLVtDwferaLxn0N7o2mIPvliwDICDW+7B7IU/sfDHjD/xrJLk/Z3iv6+9Qq+T+sSqmSRR13lZ5gHvDaS7zK0lMFBxcBDQU9IxBHOQa0gaTmA8AR4GZgJlGecV8Hsz+9UjuqRDgJ/TgooI6kVsfNOJW4ERZnaCpPrASAAze1HSBIKu8yGSzjez90tI43GgH7An8GQZyrEh68BQM+v7q0Bpv1LyXVI5y6K1KeHp+dkBeAjIM7NvJN1E8F1mnZycHO6970GOO/ZIioqKOLvfubRomdHWR8Jtd93LJeefTWHhWvap34B//bukUZPs8e23C7nkgnMpWl/E+vXrOeHEkznqmIwdDOVKe/y4sfR/8XlatmrNQR0DZ6wbb/4bRx51TCR6170whYcvOpBKORWYt3gFv398AgAndNwnlu5nSP7+XrVqFWNGDOeue/8dmyZAvzNPY8zokXy/ZAlNGu7FDf93E2efc14s2lHXeVmmId1A4PX8BsEf+wnAK2Z2e6kXZpnQUF5tZj2KhQsYDzxuZo+FYfnAjsA8YKCZtZJ0IcG4ZG8zK5TUBCggaAFuSFfSgwTduS8SdDH3MbNJkqoTdOV2TsWX9AbwvJm9FhqWfmZWX1JDYI6ZmaR/AXPD+dOZylWZYJ3tSsC+Zla0kXp4GhgIjCLoej/UzGZL2pFgr+a5JeT7DAIjeFmYzkDgHgIv5fEEPRs/AkOAB8zsTUlzCbqV9waeJmh1i6AH4UwCA/4I0Cn8PAV4zMzuScvnsFCjPlAx1HrVzG4qrZybMw0pW2zuNKRssKnTkMoDmzMNKVuUdRpSFGzqNKRssiXTkLaEzZmGlC02ZxpStihpGlJZ1oK+TdIggi5HCDxbp2U7g5tLaOROAP4l6VpgDYERurJY1McJjMDU0GgvBnqVku5aSX2AByRVJTBixb2O7wKeUeCMlt7C7QOcIakQ+Ba4ZSM6I4ClGzO+xa5bLKkf8JKkKmHwX8zsyzLkOz2dhZKuA0YQGNd3zezNYnGmhgZ1Yhj0eOoekPQW8BHBw85kYFmxa5dKeozgIWMuMKmsZXQcxynPlNgCllTDzH6SlHEClpn9EGnOthNC56upBC3zWUnnZ1ORVM3MVoQt8NHAhWY2dUvT9Rbw9oO3gOPHW8Dxsjkt4BcJvFWn8OsxxdTYqG/GsIVIakHQTfvGtmh8Qx4Ny7ED8Ew2jK/jOM72QIkGODUmamYNSorjlA1JuwHDM5zqbsV2lZLUGniuWLyfzSz+FQ7KgJmdlnQeHMdxtkXKsh3hcDPrvrEwp2TCqUVtyhh3RlnjOo7jONsuJRrgcPrIjkAtSbvwy5STGkC8s78dx3Ecp5xRWgv4IgJP4roETkIpfgLinQjmOI7jOOWM0saA7wPuk/R7M3sgxjw5juM4TrmnxDkPkq4BMLMHJPUudi7WRTgcx3Ecp7xR2qTD9Elq1xU7d1QEeXEcx3Gc7YbSDLBK+Jzp2HEcx3GcTaA0Jywr4XOmY8fJKgYUritpB8poSd9sPW4q5SSzElZSdZ00Sa5Gtcthtyam/eOw/0tMOylW/Vx8M7vkKc0A7y/pJ4LWbtXwM+FxJLvZOI7jOM72Qmle0Mk1AxzHcRynnLP9rfzuOI7jOFsBboAdx3EcJwHcADuO4zhOArgBdhzHcZwEcAPsOI7jOAngBthxHMdxEsANsOM4juMkgBtgx3Ecx0mAcmWAJZ0uKTfpfDjJMP+bbzj2yO7ktWlJh3ateejB+7cL7feGDGa/lk1p2awxd991Z2y622t9Q3x1vu9euzH+8Qs2vL575xouO7kDz9144oawz/v/nvGPXxBZHlIkdZ8lrV1UVMQhnfLoe/LxWU9bZtEt6yxpLrAcKALWmVlehjh7Av8C8oGfgbnAlWb2ZQlp7gycZmYPFQvvCPzOzPptJE9XAo+a2apNLMvlwO+AqWZ2+qZcmw0k/QG4A9jDzJZtxvU9gRZm9pu7V9IKM6u2mfnqB7xnZgs25/qSaNc+z0aNnbhJ13y7cCHffruQNm3bsXz5crp2yuelV16nWfMW2cxapNqbuhZ0UVERrVs04Z1BQ6mXm0vnA/J55vmXaN5i03Q3Zy3o7bG+IXt1vqlrQVeoIL569UoO/t2T/O+7X/4C7vzdYSxb+TN3PDumzGlt6lrQ2Srz5pAt7c1dC/qhB+5l+tSpLF/+Ey+9+uZmpbFbtUpTMtm/OFrA3cysTQnGV8AbwEgza2RmLYDrgT1KSW9n4JIM4fuUEF6cK4EdM52QVNrym5cAxyRhfEP6ApOAEzbnYjN7K5PxzQL9gLoRpLvJ7FmnDm3atgOgevXqNG3WjAULCsq19qSJE2nUqDENGjakcuXK9O5zKgPf3rw/iU1le6xvSK7Ou7VrwJyCH39lfAFO6taCV4bPjFQ7yfssSe2Cgvm8N3gQZ5x9biTpJ90F3Q0oNLOHUwFmNt3MxkiqJmm4pKmSZkhKtf/vBBpJmi7p7lQ84FpgYiqepJ0kvSPpI0mfSOoTtmLrAiMkjQjjrZB0i6QJwIGSrgrjfxK2lpH0MNAQeEvSH8K0n5Q0SdK0NM2WkiaGeftY0r6ZCi3pVklXpB3fFuYtI5IaAdWAvxAY4lR4NUlPhfXzsaSTwvCjwnr7KKwbJPWT9GD4uYGkD8P831pM609h+MeSbg7D6kv6TNJjkmZKek9SVUknA3nAC2GZq0pqL2mUpCmShkiqE6ZxuaRPw3T7l1TWbDFv3lw+nj6dvPyOUUslqr1gQQG5uXttOK5XL5eCgngMUTrbS31DcnXe+9CWvPL+J78KO2i/vfnux5V8VfBDpNpJ3mdJat9wzR+56W93UKFCNKYyagNswHvhn/GFGc63AqaUcO0a4AQza0dgqP8RtpivBb4KW9V/KhbvUOCfYbyjgAVmtr+ZtQIGm9n9wAKCVnm3UGcn4BMz6wisBs4BOgIHABdIamtmF6dddy9wA/C+meWHebtb0k7AxcB9ZtaGwDDNL6FsTwBnA0iqAJwKvFBKPfYFXgLGAE0l7R6G/x+wzMxam9l+wPuSagOPASeZ2f5A7wzp3Qf8J8z/t6lASUcA+wIdgDZAe0ldw9P7Av82s5bA0jD9V4HJwOlhmdcBDwAnm1l74EngtvD6a4G2YT4vzlRISRdKmixp8pLFi0upjtJZsWIFZ/btzZ13/5MaNWpsdjrbgnamIaTg9o+P7am+IZk6r5RTgWMPasLrIz/7Vfgp3VsyIOLWLyR7nyWlPWTQO9SqXZs2bdtHphG1AT4oNIxHA5em/ZmXBQG3S/oYGAbUo+Su6ZskjQVeAfYM480ADpP0d0ldShk3LQJeCz93Bt4ws5VmtgJ4HeiS4ZojgGslTQdGEmzPuDfwIXC9pD8D+5jZ6kyCZjYX+F5S2zCtaWb2fQn5g8BA9zez9WGeUkb1MODfaen+SPDgMNrM5oRhmR6NDyIw6ADPFSvXEcA0YCrQjMDwAswxs+nh5ylA/QzpNiV4qBoa1s1fgJRT3McELeUzCAz1bzCzR80sz8zyatWunSnKRiksLOSMvidzSp/T6NnrxM1KY3NJQrtevVzmz/9mw3FBwXzq1o1vRGB7q29Ips6P7NiY6V8uZNGPKzeEVawoju/SjFdHRG+Ak7zPktKeMH4cg98dSJsWjbmg3+mMGTWCi847K6sakRrglGOOmS0iGOs9OOyqnC7pYmAmUNLjxelAbaB92Lr6jsz7EJ9OYHC7mtkhwBJgh9CJqz2BIb5D0o0l6Kwxs6Lwc1kfq0TQAmwTvvY2s8/M7EWgJ0FLeoikQ0tJ43GC8dNzCFqKmYWk/QiM4FAFTm2n8ks3tAh6GYrnrSyedZniCLgjrVyNzeyJ8NzPafGKyLyVpYCZade3NrMjwnPHEjwstAemSCptL+rNwsy49OLzadq0OZdd8YdsJ79Vaufl5zN79izmzpnD2rVrGfByf47t0TMW7e2xviGZOj+le6vfjPMe2r4hX/7vewoWL49UG5K9z5LSvvHm2/jky7lM/3Q2jz39Al0O7sYjTzybVY3IDHA4Tlo99ZmgZTUp7c/5YeB9oIqkC9Kuy5d0MFATWGRmhZK6EThZQeBVXT1NahfgBzMrCuPtHaZTF1hlZs8D9wDtSrg+ndFAL0k7hnk+gaDbtzhDgN+HXd2ELVkkNQS+Dru63wL2K6WK3iDoJs8P0yuJvsBNZlY/fNUF6knaB3gPuCwVUdIuBK3wgyU1CMN2zZDmWAJDDsEDTHq5zpVULby2Xlp3d0mk1+cXQG1JB4bXVwrHxSsAe5nZCOAaAke6zfK6Lo3x48bS/8XnGT1qBAd1bMdBHdsxZPC72ZbZqrRzcnK4974HOe7YI2nTujkn9T6FFi1bRq4L22d9Q/x1XrVKDoe2b8CbYz7/VXimMeGoSPI+S1I7aiKbhhQaozfCwxzgRTO7LUO8ugTTkNoTjOfOJfBU/hF4G6gETCfoNj3azOZKepHAuA0C7gIGAhXT4xF0h94NrAcKCaYoTZb0e+BSYKGZdVOxKTiSrgJSLm+Pm9m/wvC5QJ6ZLZFUNcxzJ4JW31wz6yHpOuCMUO9bgulSJXpHKHDuWmpm15YSZ05Y7s/Twv5J0CPwb35pVRYBN5vZ65KOBm4neMBaZGaHK5gulGdml4XG+UWC7+U14C+pOgidw84PpVaE5SkCBoZj6Ui6GqhmZjeFjl+3E7T6Dwzr/X6CB6icsJ6eBkaEYQKe35hH9uZMQyoPbM60mGywOdOQygNJ1Tds+jSkbLKp05DKA5s7DSkblDQNKdJ5wE7JhK3CqUBvM5uVdH62NtwAx4sb4PhxAxwvW6MBTnoa0naJpBbAbGC4G1/HcZztk6w7wji/IGk3YHiGU93NrGGxuK35tUcywM/h9CjHcRynnOEGOELCqUVtyhh3RlnjOo7jONs+3gXtOI7jOAngBthxHMdxEsANsOM4juMkgBtgx3Ecx0kAN8CO4ziOkwBugB3HcRwnAdwAO47jOE4C+DxgZ6ulQoV497XdGli2qjAR3Zo7VkpEF6BofXLL4f64cm1i2osG35CY9h5nFV/zJx7mP3n6xiNFRJVKFRPTLglvATuO4zhOArgBdhzHcZwEcAPsOI7jOAngBthxHMdxEsANsOM4juMkgBtgx3Ecx0kAN8CO4ziOkwBugB3HcRwnAdwAO47jOE4CuAF2HMdxnARwA+yUG3534bnUz92D/LattyvtZUuXct6Zfeic14ou+a2ZPHF8bNrvDRnMfi2b0rJZY+6+687YdJOs79mzvuCwzvkbXk32qsVjD90fue78b77h2CO7k9emJR3ateahB6PXrLljJZ69oiuT7unJxLt7kr9vLVrtvQtDbz6KcXf2oP/V3aheNdplTJMod4qo7zOZJbcOq+OURLv2eTbmw0mbdM0HY0ZTrVo1Ljj3bCZNmxFRzqLVXrFm3SZf8/uLz+WAAztz+tnnsnbtWlavWkXNnXfepDQ2Zy3ooqIiWrdowjuDhlIvN5fOB+TzzPMv0bxFi01LZzPWgs5Wff+0esvW3i4qKqJd8wa8M2wMuXvvs0nXVquyaUvxf7twId9+u5A2bduxfPlyunbK56VXXqdZ802rb4Dcc18oU7z/XNyJDz9fxLMjZ1OpYgV2rFKR/153GH95YQpjP1/EGQc3Yp/dq3HbgI/KlN7mrAWdrXJvztry2brPqlWpMMXM8n6Tp81OcTtB0s6SXpX0uaTPJB2YIc6ekvpL+krSp5LeldRkI+mOlJQXfr4+qvxvCZI+kvTSRuL0krTp/wAR0LlLV3bZZdftSnv5Tz8xfuwHnHbWOQBUrlx5k43v5jJp4kQaNWpMg4YNqVy5Mr37nMrAt9+MRTvJ7zqdMaPeZ58GDTfZ+G4Oe9apQ5u27QCoXr06TZs1Y8GCgsj0qletxEHN9uDZkbMBKCxaz7JVhTSuU4Oxny8CYMSMhfTM3zuyPED85U4n6vvMDfDGuQ8YbGbNgP2Bz9JPShLwBjDSzBqZWQvgemCPTdDYZAMsKdKdrCQ1J7g/ukraqZQ89AK2CgO8PTJv7tfsVqsWV1xyPod1zueqyy5i5cqVsWgvWFBAbu5eG47r1culoCCeP8athTdfG0Cvk06JXXfevLl8PH06efkdI9Oov3s1lixfw0MXdWLM7cfywAUHsGOVHD6bv5Rj2ucC0OuAfai3W8a/h0iIo9xx4ga4FCTVALoCTwCY2VozW1osWjeg0MweTgWY2XQzGyPpEEkD09J7UFK/Yhp3AlUlTZf0gqT6kj5JO3+1pJvCzyMl3S5pFHCFpOMkTZA0TdIwSRmNvqQKkmZJqp12PFtSrVKKfxrwHPAe0DMtrfQ8/Dk8d3eY/0bha7CkKZLGSGoWXtdb0idhq3p0Cfm8UNJkSZOXLFlcStacFOvWFTHjo2n0O+8ihn0wiR132okH770rFu1Mw1fB8+j2wdq1a3lv0ECO63VSrLorVqzgzL69ufPuf1KjRo3IdHIqiP3r78oTw76ky/XvsPLndfyhZ0suffRDLji8KaNuO4ZqO1SicN36yPKQTlzljhM3wKXTEFgMPBUauccztAZbAVM2V8DMrgVWm1kbMyvLAMnOZnawmf0D+AA4wMzaAv2Ba0rQWA88D6TSPwz4yMyWlKLTB3gZeAnoW0IebgPeAv4U5v8r4FHg92bWHrgaeCi85kbgSDPbnzSDXiyfj5pZnpnl1apVu7Q6cELq1qtHnXq5tMvrAECP40/k44+mx6Jdr14u8+d/s+G4oGA+devWjUV7a+D9oYNpvX8bau++KZ1dW0ZhYSFn9D2ZU/qcRs9eJ0aqVfDDKgp+WMWUr4K/iTcn/I/96+/KrAU/ccKdwzn4hnd5ddwc5ixaHmk+IN5yx4kb4NLJAdoB/wmN3Erg2mSzxMtpn3OBIZJmAH8CWpZy3ZPAWeHnc4GnSoooKR9YbGbzgOFAO0m7lJCH9OuqAZ2AAZKmA48AdcLTY4GnJV0AbH07Y2+j7L7HntSrl8vsWV8AwZhkk6bNY9HOy89n9uxZzJ0zh7Vr1zLg5f4c2yPjs1W55L+vvUKvk/rEpmdmXHrx+TRt2pzLrvhD5HqLlq2h4PuVNK4TtDYPbrUnXxQso1aNHQCQ4E8ntObJYV9Gmo+4yx0nboBLZz4w38wmhMevAp3C7tbpki4GZgLtS7h+Hb+u4x3KoLmxa9IH+B4AHjSz1sBFpaVvZt8A30k6FOgIDColD32BZpLmAl8BNYD0fraSBhkrAEvD1nDq1TzUvxj4C7AXMF3SbqXobxb9zjyNQw/uxKwvv6BJw7145qknsi2xVWrfdte9XHL+2XTr1I6ZMz7iij/+ORbdnJwc7r3vQY479kjatG7OSb1PoUXL0p4Bs0eS9Q2watUqxowYzjHH9YpNc/y4sfR/8XlGjxrBQR3bcVDHdgwZ/G6kmtc8M4nHL+3M2Dt70HqfXfnHm59wcqf6TPnH8Uy+53i+/XE1z4/6KtI8JFHuFFHfZz4NaSNIGgOcb2ZfhGOxO5nZn9LOCxgPPG5mj4Vh+cCOwNfAGKApgXGcDtxsZk9LGglcbWaTJf0I7G5mhZIqAQvDa1YAowicwG5KvybUmRbmbYqkp4AGZnZIKWU5icBoP2dmGf+lJVUA5hF0bReEYd2Av5hZ9wx5eACYamZPhcfjgHvNbEBYN/uZ2UeSGoVd1Kl8n2Nm00vK6+ZMQyoPbM40pGywOdOQssXmTEPKFls6DWlL2NRpSNmkrNOQss3mTEPKFpszDSlb+DSkzef3wAuSPgbaALenn7TgCeYE4PBwGtJM4CZgQdjqfAX4GHgBmFaCxqPAx5JeMLNC4BZgAjAQ+LyUvN1E0N07BihtPDfFW0A1Sul+JnA6K0gZ35DRQAtJdTLE7w/8KRwjb0QwznyepI8IegeOD+PdLWlG6GA2GijbxEHHcZxyireAtyPCecf3mlmXpPOyMbwFHC/eAo4fbwHHy9bYAk7uDnBiRdK1wO/4xRPacRzHSRA3wOUMSecAVxQLHmtmlwJ3Fot7A9C7WNwB4fQix3EcJ0LcAJczQmeo0sZ40+PeBrixdRzHSQB3wnIcx3GcBHAD7DiO4zgJ4AbYcRzHcRLADbDjOI7jJIAbYMdxHMdJAPeCdrZKBFRMcOJ8UlTbIZmfZJKLYST5Pe+yU+XEtJOs86QWxNj9wMsT0QVY9OH9iWmXhLeAHcdxHCcB3AA7juM4TgK4AXYcx3GcBHAD7DiO4zgJ4AbYcRzHcRLADbDjOI7jJIAbYMdxHMdJADfAjuM4jpMAboAdx3EcJwHcADuO4zhOArgBdhzHcZwEcAPslCveGzKY/Vo2pWWzxtx9153lXhfgdxeeS/3cPchv23q70E2RZJ0npZ1Unc//5huOPbI7eW1a0qFdax56MPp1lX9/ejemvHoDkwdczzN39KNK5Rxuv7IX01//CxNfvo6X/3EBNatVjTQPUZfbDfA2iKSmkqanvX6SdGWGeEXh+ZmSPpJ0laTIv3NJV0raMWqd4hQVFXHl5Zfy5tuDmPbxpwzo/xKfffppudVNcfqZ/fjv24Ni00taF5Kt8yS1k6rznJwcbrvzbiZPn8nwUeN47JGH+Pyz6Mpct3ZNLul7MAedfhd5vW+nYoUK9D6yPcPHf0773rfToc8dzJq3iD+de0RkeYDoy+0GeBvEzL4wszZm1gZoD6wC3sgQdXUYryVwOHAM8Nco8yapInAlELsBnjRxIo0aNaZBw4ZUrlyZ3n1OZeDbb5Zb3RSdu3Rll112jU0vaV1Its6T1E6qzvesU4c2bdsBUL16dZo2a8aCBQWRauZUrEjVKpWoWLECVXeozMLFyxg+/nOKitYDMHHGHOrtsXOkeYi63G6At326A1+Z2bzSIpnZIuBC4DIFVJR0t6RJkj6WdBGApEMkjZb0hqRPJT2cajVL6itphqRPJP09lbakFZJukTQBuAGoC4yQNCI8f4SkDyVNlTRAUrUoKmLBggJyc/facFyvXi4FBdH+SSSpuz2TZJ1v79/3vHlz+Xj6dPLyO0amsWDxMv717HC+HHQrc4bexk8rVjN8/Oe/inPW8QcyZGx8PU1RlNsN8LbPqcBLZYloZl8TfOe7A+cBy8wsH8gHLpDUIIzaAfgj0BpoBJwoqS7wd+BQoA2QL6lXGH8n4BMz62hmtwALgG5m1k1SLeAvwGFm1g6YDFyVKX+SLpQ0WdLkxUsWb0odpMqXKc1NTmdb0d2eSbLOt+fve8WKFZzZtzd33v1PatSoEZnOztWr0uOQ1jTv8VcaHnEDO1WtzKnH5G84f815R1JUtJ7+706KLA/pRFVuN8DbMJIqAz2BAZtyWfh+BHCWpOnABGA3YN/w3EQz+9rMigiMe2cCIz3SzBab2TrgBaBrGL8IeK0EvQOAFsDYUOtsYJ9MEc3sUTPLM7O82rVqb0KRAurVy2X+/G82HBcUzKdu3bqbnM62ors9k2Sdb6/fd2FhIWf0PZlT+pxGz14nRqp1aMdmzF3wPUt+XMG6dev57/sfccD+Qfvg9OM6ckzXVvS74elI85AiynK7Ad62ORqYambfSdorzSnr4kyRJTUkMJaLCAzx71NjyWbWwMzeC6MWf8Q3fjHcmVgTGuuMssDQNJ0WZnZemUu4CeTl5zN79izmzpnD2rVrGfByf47t0TMKqa1Cd3smyTrfHr9vM+PSi8+nadPmXHbFHyLX++bbH+jQugFVd6gEQLcOTflizncc3qk5f+x3GCdf+Qir1xRGno+oy+0GeNumL2H3s5l9k2bkHi4eUVJt4GHgQQv60IYAv5NUKTzfRNJOYfQOkhqEY799gA8IWskHS6oVOlr1BUaVkK/lQPXw83jgIEmNQ50dJTXZ8qL/lpycHO6970GOO/ZI2rRuzkm9T6FFy5ZRSG0Vuin6nXkahx7ciVlffkGThnvxzFNPlGtdSLbOk9ROqs7HjxtL/xefZ/SoERzUsR0HdWzHkMHvRqY36ZN5vDFsGh+++GcmD7ieChJPvDaWe/98CtV33IGB/7mM8f2v5f4bTo0sDxB9uZVpPMPZ+gmn+XwDNDSzZSXEKQJmAJWAdcBzwD/NbH1oXP8GHEfQSl0M9ALaAjeGx62B0cAl4TWnAdeF8d81s2tCnRVmVi1N9/fApcDCcBz4UILx4yphlL+Y2Vulla99+zwbO2HyJtbKtk/R+u3v91ixwvYxflqcJL/r9Qlp737g5YnoAiz6MPq5yyVRo2rFKWaWVzw8J4nMOFuOma0iGLctLU7FUs6tB64PXxsInUlWmVmfDNe8CLyYIbxaseMHgAfSjt8nGEN2HMdxQrwL2nEcx3ESwFvAzq8ws5HAyISz4TiOU+7xFrDjOI7jJIAbYMdxHMdJADfAjuM4jpMAboAdx3EcJwHcADuO4zhOArgBdhzHcZwEcAPsOI7jOAng84CdrRIjuaX6klwaMaklAivlJPcs/v3ynxPT3q16lY1HiojVa0vavyR6qiT0fS+Z8MDGI0VE7dOeSky7JLwF7DiO4zgJ4AbYcRzHcRLADbDjOI7jJIAbYMdxHMdJADfAjuM4jpMAboAdx3EcJwHcADuO4zhOArgBdhzHcZwEcAPsOI7jOAngBthxHMdxEsANsOM4juMkgBtgp9zwuwvPpX7uHuS3bR279ntDBrNfy6a0bNaYu++6Mzbd+d98w7FHdievTUs6tGvNQw/eH5s2JFdugMceup9DD2xL907tuPT8M1mzZk1s2kmWu13LxnTt2IZDOrXnsK4dY9FM8j6L+3e9b90ajL/7+A2vb589g0uPbcEJB9Zn8r0nsOKVc2jXaLesaEVugCVdIekTSTMlXVlCnD0l9Zf0laRPJb0rqUkJccdFmuEyIOkmSVeXNY6kWyQdFn6+UtKOceQzQ55GSsrbjOvaSDom7binpGs3ck3s39PpZ/bjv28PiluWoqIirrz8Ut58exDTPv6UAf1f4rNPP41FOycnh9vuvJvJ02cyfNQ4HnvkIT7/LB7tJMu9cEEBTz76b955fxzDx02lqGg9b73+SizaSZY7xRvvDGPkuCkMGz0hFr0k77O4f9ezFvzEAX96kwP+9Cad/vwWq39ex1sT5vHp/36k793D+eCzb7OmFakBltQKuADoAOwP9JC0b7E4At4ARppZIzNrAVwP7FEsXkUAM+sUZZ6jwMxuNLNh4eGVQCIGeAtoA2wwwGb2lpmV+tifxPfUuUtXdtll17hlmTRxIo0aNaZBw4ZUrlyZ3n1OZeDbb8aivWedOrRp2w6A6tWr07RZMxYsKIhFO8lyA6xbt441a1azbt06Vq9exR571olFN+lyJ0GS91lSv2uAbq3r8PV3y/lmyUq+KFjGrAU/ZTX9qFvAzYHxZrbKzNYBo4ATisXpBhSa2cOpADObbmZjJB0iaYSkF4EZAJJWhO+HSBol6RVJX0q6U9LpkiZKmiGpURivtqTXJE0KXweF4TdJejJsFX4t6fLSCiLpBklfSBoGNE0LbyRpsKQpksZIapbh2qclnRxq1AVGSBoRnusb5vcTSX8PwyqG13wSnvtDCXlqJGlq2vG+kqaUVo60uCvSPp8s6enwc+9Q9yNJoyVVBm4B+kiaLqmPpH6SHgzj7yHpjTD+R5I6pacvqZqk4ZKmhmU5viz525ZYsKCA3Ny9NhzXq5dLQUE8f07pzJs3l4+nTycvP55uySTLXaduPS667A903G9f2jWvT/UaNTj40MNj0U76+5ZE715H071LB5598rHYdFPEfZ8lSe+DGjLgg68jSz9qA/wJ0FXSbmG36zHAXsXitAJKMxodgBvClnFx9geuAFoDZwJNzKwD8Djw+zDOfcC9ZpYPnBSeS9EMODLU+KukSpkyIKk9cCrQFjgRyE87/SjwezNrD1wNPFRSQczsfmAB0M3MukmqC/wdOJSglZkvqVf4uZ6ZtTKz1kDGjSzN7CtgmaQ2YdA5wNMl6ZeRG4EjzWx/oKeZrQ3DXjazNmb2crH49wOjwvjtgJnFzq8BTjCzdgQPW/8Iez1+g6QLJU2WNHnJksVbWIz4MPvtHr4lFDEyVqxYwZl9e3Pn3f+kRo0asWgmWe6lS3/kvUFv8+G0z5ny6RxWr1rFa6+8GIt20t/3O0NH8f4Hk+j/+kCefOw/jPtgTGzaSdxnSVEppwLH5O3N6x/OiUwjUgNsZp8RGJihwGDgI2DdJiYz0cxKqoFJZrbQzH4GvgLeC8NnAPXDz4cBD0qaDrwF1JBUPTz3jpn9bGZLgEUU6/ZOowvwRtiS/ylMB0nVgE7AgDD9R4BN6QfLJ+h6Xxz2ELwAdAW+BhpKekDSUUBp/R6PA+eEXfR9gC39FxoLPC3pAqBiGeIfCvwHwMyKzGxZsfMCbpf0MTAMqEcJ9Wxmj5pZnpnl1apVe7MLEDf16uUyf/43G44LCuZTt27d2PQLCws5o+/JnNLnNHr2OjE23STL/cHI99lr7/rsVqs2lSpV4ugexzNl4vhYtJP+vvesE2jVrr07xxzXi2lTJsWim9R9lhRHts1l+pzvWbQsOue+yJ2wzOwJM2tnZl2BH4ClYVfmdEkXE7SY2peSxMpSzv2c9nl92vF6ICf8XAE4MGy9tTGzema2PMP1RWnXZCxKhrAKwNK0tNuYWfNS0ihOxsdmM/uRoHU/EriUX7fai/MacDTQA5hiZt+XUTu9PDukaV8M/IWgp2K6pC119zsdqA20N7M2wHfpeuWBvPx8Zs+exdw5c1i7di0DXu7PsT16xqJtZlx68fk0bdqcy67IOFIRGUmWu27uXkybPJHVq1ZhZnwwegSNm/xm9CcSkiz3ypUrWbF8+YbPI4cPpVmLlpHrJnmfJUXvztF2P0M8XtC7h+97E3Tf3p9mrB4G3geqhC2u1DX5kg7OUhbeAy5LS7vNZqQxGjhBUtWw9XwcQNganiOpd5i2JO2/kbSWA6kW+ATgYEm1whZsX2CUpFpABTN7Dfg/gq7djJjZGmAIQSs0Y1d1CXwnqbmkCqSNy0tqZGYTzOxGYAmBIU7Pc3GGA78Lr60oqXi/VE1gkZkVSuoG7LMJedwk+p15Goce3IlZX35Bk4Z78cxTT0Ql9StycnK4974HOe7YI2nTujkn9T6FFi2j/1MEGD9uLP1ffJ7Ro0ZwUMd2HNSxHUMGvxuLdpLlbpfXgWN6nsBR3Q7gsIPas379ek4/+7xYtJMs9+JF39HjiIM55MB2HHlIJw476hi6H35k5LpJ3mdJ/K6rVq7IofvV5c0JczeE9eywD7Me6UPHJrvz2nVH8OZfjthiHWUaz8gmksYAuwGFwFVmNjxDnLrAvwhawmuAuQTewvWAq82sR1rcFWZWTdIh6eckjQyPJ6efC43ZvwkcwnKA0WZ2saSbgBVmdk94/SdADzObW0I5bgDOAuYB84FPzeweSQ0IjF8doBLQ38xuSU8/dHAaaGavSvo9Qat2YTgOfBpwHUFr+F0zuyY04k/xywPSdWZWoh++pAMIWsJ7m1lRKfE+AH5nZjMknUwwPPANwVh9NTPrJ+l1YN8wP8PD72EXAiNfCbgDqArkmdllkvYgGAdvSNCL8Dsz+zDte6oFvB1eOx04CDi6pHpO0a59no35MJ6uteJUrBDv+G06hevWJ6JbKSe5JQG+X/7zxiNFxG7VqySmvWLNpo7GZY8qCX3fFRL8bdU+bVPaJ9ll9WvnTTGz30wBjdwAO9GjYL5xTTP7v1LiVAFmA60yjNNudbgBjhc3wPHjBjhetkYDXNqYp7MNIOkNoBGBM1RJcfKA54CHtgXj6ziOsz3gBjiN0OHoN13kQPdNcG6KBEn/Jui+Tec+Mys+rzpllBsUC77SzIZElT/HcRxn03ADnEZoZNsknY9MmNmlmxD3N0bZcRzH2brwzRgcx3EcJwHcADuO4zhOArgBdhzHcZwEcAPsOI7jOAngBthxHMdxEsANsOM4juMkgK+E5WyVSFpMsOzn5lCLYB3rJHDt7UPXtbcf3Wxo72Nmv9nizQ2wU+6QNDnTsm+uXf60t8cyb6/a5bHM3gXtOI7jOAngBthxHMdxEsANsFMeedS1txvt7bHM26t2uSuzjwE7juM4TgJ4C9hxHMdxEsANsOM4juMkgBtgx3Ecx0kAN8CO4ziOkwA5SWfAcbZ1JB0LtAR2SIWZ2S3J5ah8I2knYLWZrZfUBGgGDDKzwhi0E/+uJVUAqpnZT3HqpunvAuxlZh/HoLUj8EdgbzO7QNK+QFMzGxi1dloedufX3/f/spW2G2Bnm0bSVaWdN7N/Rqz/MLAj0A14HDgZmBilZoY8VAaahIdfxGSI9gXuAFrw6z+nhlFrA6OBLqEhGA5MBvoAp0cpmuR3LelF4GKgCJgC1JT0TzO7Oyb9kUBPApsxHVgsaZSZlfr7ywJPEZT3wPB4PjAAiNwAS+oJ/AOoCywC9gE+I3gAywreBe1s61QPX3nA74B64etiAuMQNZ3M7CzgRzO7meCPYq8YdAGQdAgwC/g38BDwpaSuMUg/BfwHWEdgkJ4FnotBF4Lpk6uAE4EHzOwEyv933SJs8fYC3gX2Bs6MSRugZqh/IvCUmbUHDotBt5GZ3QUUApjZakAx6ALcChwAfGlmDYDuwNhsCrgBdrZpzOzm8M+wFtDOzP5oZn8E2gO5MWRhdfi+SlJdgj+KBjHopvgHcISZHWxmXYEjgXtj0K1qZsMJjOE8M7sJODQGXQBJOpCgxftOGBZHb16S33UlSZUIDPCbYS9HnIs45EiqA5xCDK3PNNZKqkpYVkmNgJ9j0i40s++BCpIqmNkIoE02BbwL2ikv7A2sTTteC9SPQXegpJ2Bu4GpBH8Uj8egm6KSmX2ROjCzL8M/6qhZE45FzpJ0GVAA7B6DLsCVwHXAG2Y2U1JDYEQMukl+148Ac4GPgNGS9gHiHAO+BRgCjDWzSWGdz4pB9yZgMLCXpBeAg4BzYtAFWCqpGsGQxwuSFhH0+GQNXwnLKRdIuoHg6fwNgj/GE4BXzOz2iHWrmNnPqc8E46FrUmFRI+lJgvKmun9PB3LMLNI/KUn5BONhOxN01dUE7jKz8VHqFstDdcDMbEWEGk3TH3DSwqsAO5jZsqi0N4akHDPLqkHYGpG0G0FXsIDxZhbLloShs9+aUPd0gnv8hbBVnB0NN8BOeUFSO6BLeDjazKbFoDnVzNptLCxC/SrApUBngj+K0cBDUTwASDoVmGJmcbR8SstHa4Ix510JyrwYOMvMZkagdTzBWOs5wOGZ4pjZ69nWzZCPPYDbgbpmdrSkFsCBZvZE1NqhfhOCMf89zKyVpP2Anmb2t4h1h5tZ942Fbau4AXbKBZL2zhSezSkDxfT2JHD2eh44jV8cQ2oAD5tZsyh0kyTs9vw3gffztWQYgzSznjHkYxxwQzgml3JEu93MOkWktx/QFDgmw2kzs3Oj0C2Wh0EEjm83mNn+knKAaWbWOmrtUH8U8CfgETNrG4Z9YmatItLbgcDjfARwCL/+fQ0ys+ZR6IbaH5hZZ0nL+fU9LoLvu0a2tHwM2CkvvMMvP5aqBM4xX5DFKQPFOBLoR+DolT7V6Sfg+og0NyBpBqU44ZjZftnWNLN54dSMxsA92U5/E9gpZXwBzGxk2F0YCeF8148Jpr8kRS0ze0XSdWGe1kkqilF/RzObKP3KATnK7u+LCMb66xJMQ0oJ/0TwEBgZZtY5fK8epQ64AXbKCcVbAmF39EUR6j0DPCPpJDN7LSqdUugRvl8avqePAa+KStTM1gNfhq+k+FrS//FLmc8A5kQtWsKc82UE3fLTI5ZfGY6FpryBDwi142JJ6IGc0j8ZWBiVmJndJ+lB4HozuzUqndII63immS0Pj6sBLc1sQtY0vAvaKa/EMRYbdkXfRnJjc2PN7KCNhUWg24PA+Wofggf5rHfPlaK9C3Azwbg3BOPeN5nZ0oh1XySYb/52GHQsMIlgJa4B4XzVqLTbAQ8ArYBPgNpAbzP7KCrNYvoNCfbE7QT8SPDAc7qZzYtY90MzO3DjMSPRnkYwtTH10FEBmJzN/xRvATvlgmKtkwpAOwLnnKh5KnzdEB5/CbwMxGKAgZ0kdTazDwAkdQIi645N418EizLMsPif4g8zs8vTAyT1Jvou4t0I/pBXhJp/BV4FuhJ0k0ZmgIGZwMEEY9EiGF6Jcx0HM7PDwq7+Cma2XFIcc6Dfk3QS8HoC95nSNS1Y+jSrNtMX4nDKC9XTXlUIxoSPj0G3lpm9AqyHYGyOYLnAuDgP+LekuZLmEqyGFblTEPAN8EkCf4oQzAEuS1i2KT7XvBDYJ1ydKeppZx+a2Tozm2lmn4QLcXwYsWY6rwGY2cpUlyzBw0fUXEXwYLVW0k+SlkuKa/7z15Iul1QpfF0BfJ1NAW8BO+WCcDWsJEh0bM7MpgD7S6pB8MQel/Y1wLuhd+wG42MRrr0t6WgCT+R6ku5PO1WDaB2CUrwIjJf0JkErtAfwUtgq/DQKwTRv+6qS2vJrb+Ado9Aspt+MwJGxpqQT007VIG0N8KiIwxGqFC4G7gf+QvD7Hg5cmE0BN8DONo2ktyndGzjqaTFXAW8BjSSNJRibOzlizQ2E84BPIlj1KyflpWrR79BzG7CC4E+4csRaKRYQbLzQk6DLN8Vy4A9Ri5vZrZLe5Zc51xeb2eTwdFQbQZTkbb+cGLztCbq8exAsuHJcMf0LYtBPbYqQWt98pMW0E5KZLQJOjVLDnbCcbRpJB5d23sxGxZCHHNLG5iyG3YjStAcTeuKS1vVtZv+IWHeymeVFqVGKdg1gpZkVhccVgSoWbNAQtfb+BMbAgDExOkEl5W2fqt8/R72qXAnadwL5wAthUF8Cr/NrI9S8xszukvQAmee6X57hss3TcgPsOFtG6PhUn7QeJTN7NibtyBZD2IjuncD7ZvZeAtrjCRyxUs5Q1YD3olqII033CoJW32sED1snAI+a2QNR6obav+rpSIXH0NOR0h9hZt3i0Cqm+zHQJpz+lnoYmBbFPPc0zePM7G1JZ2c6H05BzAreBe2UC5TQ/rSSngMaEeyRmmqBGsFSiXEwTlJrM5sRk16KS4FrJK0l3CqOmKYhEazBvGH9ZzNboWDj9qg5D+hoZisBJP2dwBEqcgMMvMkvPR1x7QaUzrhwXu7LwMpUoJlNjUF7Z+CH8HPNqMXMLDXNbJWZ/cqzPvS2zxpugJ3ywlPAXwm24utGsHZvHPuG5hHs1ZpUV1JnoJ+kOQR/zKn5uJG1ECBx55iVktql/vwlteeXrQKjRPzaw72I+PamzTWzo2LSykSqdyG9xW1EvwXlHcA0SSMI6ror8Xi8E+oUn9qWKWyzcQPslBeqmtlwSQoXB7hJ0hgCoxwlnwB7EuGqQBvh6IR0E3OOIViicICkBeFxHaBPDLpPARMkvREe9yK++d5J9XQAkKn7WcEGEVHrviRpJME4MARj0d9GqRmnt70bYKe8kNT+tLWATyVN5NfTcSLflCAlFZPOr8jgHHNFuCBIZM4xKSzYj7YZvzi+fR6H45uZ/TM0Bikv6HMshh23QhLp6SiOpJoEY9GnAc0JpkhFzYEE5TegIsGWo1ESm7e9O2E55QIltD9tSV7YcXhfh/qpTRlEMPbdgMATO6pNKFK6STjHHGpm7xebj7oBi2hbQEm7lnbezH4o7XyW8rBPCdqRLgUZalclMEanEawwV52g9T869f1HqP0QweYfL4VBfYCvzOzSkq/Kmnal1INduPzpXhZszJE1vAXslAvMbFL4cUW4LOXSOMZl4zK0pejHuglFMXYmRucYgqUY3+fX81FTGBDVvrxT+OUhJ5NupI5+sGEnqs7Avmb2lKTaQLWodSW9QDDM8B7wIEH9zzazkVFrhxwMtEpbj/kZIK5u+KHhMEsOgZPlYkmjzCzTphybhRtgZ5tG0o3AK2b2eThVYzCwP7BO0mlmNixi/QMIvGCbEyxIUZFgjmoc3sC/wcymhr0BURO7c4yZ/TV8PydKnQy6cax5XCrhutN5BN3uTwGVCPaijnTTDYLNH34k6F363MyKJMXZbfoFwRKgqZb+XgRbQ8ZBTTP7SdL5wFNm9tew5ydruAF2tnX6EHQ5A6Tm7dUGmgDPAJEaYIJWwakEnpF5wFnAvhFrbiCpTSiKOceIeJxjSm15RLkMZloeknI8OwFoC0wFMLMFkiL3RDez/cPx9tOAYZIWAdUl7Rn19x2yG/BZ6GMBwf32oaS3wvxF6WuRI6kOcAq/bLaSXYEoEnWcGFmb1tV8JNA/XCHps2zvXFISZjZbUsVQ9ylJ4+LQDUn/E15HsAlFXCsmVQCWEPyPNJHUxMxGR6iX5NSnkhzPDjKzOKbFrDUzS7U+w/WnY8HMPgduBG6UlEewGtVESfOjXvwk1E2KW4AhwAeh419DYFY2BdwJy9mmCVdFOh/4jqC7qr2ZzQnPfW5mzSLWHw0cBjwOfEswHamfme0fpW7ShItQ9CHYJi/liGNRtkgk/d3M/iypd/EFEuIgCcezNO2rCXpWDifo/j8XeDGOVbhKyI+ArikfCEnXmdkdEWntQzD2PSx0CMuxX3Zk2qZxA+xs00jqSNDVXBv4l5ndGoYfA5xpZn0j1t8HWEQwJvcHAmekh8xsdsS6b5V2PuppUJK+APYzs9hWZQo9vtsBEyyLm6Jvgv7HwCEpr+fQO3pkXFOBJB0OHEHQ5T/EzIbGoVsWJE2N4juRdAHBDkS7mlmjcMW7h82se7a1Mmg/Rea1oLO23ad3QTvbNGY2AfhNK9fM3gXejUE/5RyyGohzS8QDCfbkfQmYQHwrMqX4muChI85lEQcTdHnvpF/vCZuaExu141uSqzIRGtytxugWI6r771KgA8E9jpnNkhTH/H6A9PH9HQjG4ReUEHez8BawU+6QNNDMekSskZp/m5GoW0Vh9+fhBONx+xGM/b5kZjOj1E3Tf43A23w4v16AJGs7xZSi/aaZHR+1TgnadfjF8WxCDI5nyyn9PkvE2744EbaAJ5hZR0nTzKxt6NcxNe4FSMK8VACGmVnWlt/0FrBTHoljdZ5IDfzGCB2+BgODw+lXfYGRkm6JaVzwrfAVO0kZ35BYHc8sXHNb0i0EPgbPERj/00nYKa0YUbWAR0m6HqgadsFfAry9kWuiYl+CKVFZw1vATrlD0pPZHKcpRacXwSo9M8xsSNR6GfSrAMcSGN/6BAbxSTMriEm/MsF0L4hxH+RwJay/Eyw1KmLqgk7C8SxNe4KZddxYWIT6u5a24pek6y2C/YLDVud5pI19A4/HschOWu+Dwvdvgessi/syuwF2nM0gXCKvJTAO6A68nXIAi0n/GYJFEgYRTL36JC7tUP8QAue3uQR/UHsBZ0c8DSmlPRs4zsw+i1qrmG7sjmdp2uOAfwP9CYxBX+DSGKYBpfRnEawG9RQwKA4DmKZdG8DMIp/fHjdugJ1tmnBx+OsI1qatHQYvItg/9U4zWxqR7ifA/uHKQDsCY8ysfRRaJeiv55d9WdN/xHG1BqcAp5nZF+FxE4Ix6MjrQNJYM4t6BahMuoOA3pa2F3GM2vWB+whWvjJgLHClmc2NSV8E0+3OJXCKehl42sy+jFDvr8Bl/NLLUQQ8YGa3lHZtFrRLG8v+GfhftqZBuQF2tmkkDSFYn/aZlEOMpD0JVsU6zMwOj0j3V04nUTmhbK1I+ri4I0ymsIi07yPYAvK//NoBLKq1oFO6iTmebU1I6kawDOZOwEfAtWb2YZY1/kCwJeCFafP6GwL/AQab2b3Z1CumPaKU0zkE48D/NrO7tljLDbCzLSPpCzNruqnnsqC7CkjN9RXQKDxOZJu4ME8XmtmjMWk9SdASey4MOp1ggYTI12kO52cWx6Ie95d0dqZwM3smQs1rzOwuSQ+QeU5qLMZf0m7AGcCZBIvePEHgc9AGGGBZXi9b0jTgcDNbUiy8NvCembXNpt6mEPpeTAMuty1ca969oJ1tnXmSriFoAX8HpDYK70cwTzYqmkeY9uZyMRCLAQZ+RzBH83KCh47RwENxCMdh5EvgVWBN6IGemgpWJWLN1Dj35Ih1NsaHBA9bvcxsflr4ZEkPR6BXqbjxhWAcWFKlCPTKjJn9LOksgt/aFvV6eQvY2aZRsE/ntcDxBF6xEDyhv0UwBvxjUnkDkPShmR0Yk9a0uFoG4VrEvzFGZrYqBu1cgh2oUuOhHwBXFDMMUeiOJxjWWBEeVyNojcXiCJUkklSa45WkB8zs91nUK3FIZ2sZ7snG761CtjLjOElgZj+a2Z/NrJmZ7Rq+mpvZnwkcs5Jmhxi1jgOQFEcLcThQNe24KtHvPJXiKYIHrLoEc77fDsOiZod0B6zw844x6CJpqKSd0453Cf0fYqEMXs/ZdorbX9JPGV7LgdYbvToetrj16gbYKc/EuTRkScTWxZTWAoyj3IkZI6C2mT1lZuvC19P84gEfJSvTPWQltSdYgjQOaqd79Ic9O3EtyRg7ZlbRzGpkeFU3s0S7oLOJjwE72zQqeYNsAXvEmZc42QrKvVJSOzObGuYnTmO0RNIZBOtgQzAn9vsYdK8EBkhKrQdch2BhjjgokrS3mf0PNmwCsl2NH8bpZFhG5m5pAj4G7GzTSPqOYB/g4mO9AsaZWd34c5WWiYjGZZMut6R8gkUh0o3RqWYWubOQpL2BBwk2pDCCxVCusF82xohSuxLQlKCeP7f4Vv86isDpZ1QY1JVgik7sK7BlIg7/g7jHfiVNJhjaeDEqXxJvATvbOgOBamY2vfgJSSOjFpd0GfBCKT/QMyOSTrTcFmxQ3owEjFHYCox8+cfihAuuXAXsY2YXSNpXUlMzG7ixa7cUMxscdn8fQFDff8jkJZwg98WgEfeOX6cC5wCT0ozxe2UYDy8z3gJ2nC1A0t8IfqhTgScJ9mkttz+q1LzU8HNvMxuQdu52M7s+Qu27gK/N7OFi4X8A9gwd7yJD0svAFOAsM2ulYHP4D82sTZS6ofYJwPtmtiw83plgb+L/Rq0d6tUG/gy0IM2x0LK4M1AxvcuBN8zsm7Sw3Kg93UvISwWCzVf+Q7AG+JPAfVbK2thlTrsc/1c4TiyEy+YdQfC0nAe8AjxhZl8lmrEISO8GjHs1MEmfAq3MbH2x8ArAx2bWKirtUGeymeWld7dK+sjM9o9SN9SZXtzQxzzt7D2C5SevJphvfjawOKqHHknLCJZa/YpgrH+AJbAWtKT9CH7XxxBsBPEC0Bk4MxsPXu4F7ThbSNji/TZ8rQN2AV4NW2zlDZXwOdNxtrHixjcMXB+DNsDasNVrAJIakbYkZcRk+q+OcwhxNzN7Aig0s1EWrDp2QIR6XwO5wK1Ae+BTSYMlnS0plm0YFax3fi8wiWATjsvNbIKZ/SPM3xbjBthxtgBJl4c/1LsIFshvbWa/I/jTOCnRzEWDlfA503G2WSVp3+KBYVhkHthh6w/gJoI9mPeS9ALBXOhrotItxmRJ/5TUSFJDSfcSdIfHRWp8f6GkYyW1JTCQUWFmtt7M3jOz8wjmfD8EHEWWjF8Z6G1m3c3sRSu2A5aZnVjS0qSbgndBO84WoGCj9CcyeeBKag58G5UHZRJIKiLoGhTB4hupla9EMDc4sjmako4mWAHrb/xifPIIdsO60szejUg3vct5N35xhBoflyNUuPLY/xHsSJTaF/dvFsPKY6F+D2AMwbaTDwA1gJvN7K2I9ErsXpdU1czimvJWItkYcnED7DgRsrUsm1dekNQK+BPBXsgAnwD3mNmMCDW/Jhj7zIhFvAtTJsKpWH3M7O4YtCoSbDwQ2Q5EGTSbWERbHWaLbIzB+zQkx4mWuKdOxE6cCySY2ScEDkCl5Ser6xIDNQm8YDN9lwbEYoAl1QJ6Eyw8Ug94Iw5dC/a87kkwHhoLW7vxDdni1qsbYMeJlu2hiynOXZjKQrbXJZ5nEW91WBKhw9EJwGlAEwKj29DMohx/zcQ4SQ8SeEKvTAWmVkLbTtnih2s3wI7jbCnlvZWfZPkWAROBvwAfmJmFc4LjJrXj0y1pYQZEMg94G2HslibgXtCOEy3lzjhJaiape7gdH/yyC9NRCWYrSsq0mpmkDyPQvp5g4Yv/ANeFU59ix8y6ZXiVa+Mr6QpJNRTwhKSpko5InTezy7ZYw52wHGfLkbQ7v14hKLVo/q7ZWDFnayFcoehSgo3i2xCswfxmeG6rcDiLc4GKuHQlNSQY+z0V2Bf4K8FKUbGMlUq6MVO4md2SKbw8kFpkRdKRBPf8/wFPZfMe9xaw42wBknpKmgXMIVgofy4wKHW+PBnfkAuA9mbWCzgE+D9JV4TnYmnth57QpRHHusSZiKw1Y2Zfm9ltZtYayCdwDBu0kcuyycq0VxFwNFA/Rv0kSN3PxxAY3o/I8j3uLWDH2QIkfUQwDjbMzNpK6gb0NbMLE85aJEj61MxapB1XA14FPgUOjWld5A+AysDTBDvVLI1asywk2QMg6UMzOzBGvSrAW2Z2ZFyacSPpKQJv8wbA/kBFYKSZtc+WhreAHWfLKDSz74EKkiqY2QiCrtnyyreS2qQOzGwFwRSdWkDrODJgZp2B0wkWhZgs6UVJh8ehvRGSHO/fYeNRssqOQMOYNePmPOBaID9c8KQywbrQWcO9oB1ny1gatgJHAy9IWkSwHnR55SyKlc/M1gFnSXokrkyY2SxJfwEmA/cDbcNNMa6PamEMJbf1ZFmItCtT0ow0jYpAbYJ1msstZrZeUi5wWnBrMcrM3s6mhndBO84mIknhBgypJQLXELR+TicYm3shbBU7EZC2Q82xwFCCpUCnSqpLsD3gPhHpbrVbT8awE1V6na4DvgsfvMotku4kGG9/IQzqC0w2s+uyprGV3D+Os80QOh0tNLNXks7L9oik0cBjwKvF1wSWdKaZPReh9la59WTUnt+SnjOzMzcWVp6Q9DHQJrUDV7gk5zQz2y9bGj4G7Dibzr8JujxPk7Rc0k9pr+WSfko6g+UZM+tqZs9lWpDfzJ6T9FqE2olsPSnpMkm7lBIlakPYslh+cgh2/Crv7Jz2uWa2E/cxYMfZRMKut+sk7WBmLyadH+c3ROIcFM6BPhtYAjwO/MnMCiVVAGYR7daEewKTJGXs/g7XyM46kq4jWAykatqDpYC1bF3Lj0bBHcA0SSMIytyVoC6yhndBO84WIGnXDMHLzawwQ7gTA1GNhya99WSS3d+S7sjm2Oe2gqQ6BOPAAiaY2bdZTd8NsONsPpLmEkyH+ZHgR7ozsJBgDd8LzCzOTdMdkpuPG4eupP0JDPBRwAiCvYmHmlkkrW9JpZanPG/GIGm4mXXfWNiW4F3QjrNlDCZYEnAIQLhW7FEErZOHgI4J5m17Jan5uJHpJtj9/Y9SzpXLzRgk7UAwz7lWOO6e+l5rAHWzqeUG2HG2jDwzuzh1YGbvSbrdzK4KVwty4ufPCelG2Z1YCzixePd3OFe1h6Rdouj+NrNu2U5zG+Ai4EoCY5vewv+JwAEza3gXtONsAZLeA4YD/cOgPsDhBK3gSVvD5gTlDUn7EjjItODXG2AkujJTwktRRj0P+KxM4Wb2bFSaSSPp92b2QJQa3gJ2nC3jNIKdaf5L0FX1QRhWETgluWyVa54iqPN7gW4EY6Jbw7aPSeYhau38tM87AN0JWoflzgBLOtTM3gcKJJ1Y/Hw2V1rzFrDjZAFJNYD14drIToRImmJm7SXNCHcHQtIYM+sSsW4jYL6Z/SzpEGA/4NnUZhBJbj0Zd+tbUk3gOTPrGZdmXEi62cz+Gm7GUBwzs3OzpeUtYMfZAiS1JmgF7BoeLwHOjmpepgPAmpTzUbg+cwGwewy6rwF5khoDTwBvAS8SbFdXHreeLI1VBPsSlzvM7K/he1Y3XsiEG2DH2TIeAa4Kd0EibBk9CnRKME/lnSsJvFQvJ9gQoBuBh3DUrDezdZJOAP5lZg9ImhaDblmItAta0tv84mRWgWD8vVwuxSrpqtLOm9k/s6XlBthxtoydUsYXwMxGhhs0OBFhZpPCjyvI8vZwG6FQUl8CY39cGFYpDuGNdX8TjMlGyT1pn9cB88xsfsSaSVE9LiEfA3acLUDSGwTOKKkNAM4gmJrUK7FMlXMkDQV6p4297gL0j3pzeEktgIsJdlx6SVIDoI+Z3Rmlbqg9nWD1q/rAEILu76ZmdkzEuo2BPcxsbLHwLsCCpDeh+P/27jzazqo+4/j3SZBMUISiGKw0IoJFRokCXYigOLWlQrHL2RYpKFIQ7Gq1ulxKi2PV4lQtwYoVpQolSysKqQxBqRDGjOCAoaCIAipEQCjJ0z/2PsnJ9d6E3Pu+77nD81nrrpx3v+ec35vclbPP3u/ev99El2IMEWPzBkpt1AuBhfVxl6OyqWjHvpEfdf9r6/eAba+yfYrt8+rx6i4632pdzUHem/4+DZjbQdwzgTXDtD9Uz01aknaXdKmkFfV4n1qDujGZgo4Yg/rhf8qgr2OKWSdpF9u3w/pata1P5Q14//Ggpr/n2V42tNH2dZLmdRB/kBYAf0tZ54HtZZK+BJzRVIB0wBGjMGRRym+ZjNszxpF3At+RtLgeHwqc0EHcQe4/PpYy/f1e26vr9Pe5HcSduYlzszqIP0izbS8pNTDWe7TJAOmAI0bnw5t/SrTB9sW1SMBBlA7wNNv3dBB6lu1LJammhHyPpG9TOuVW2V4l6W3ALvV4NdDF9Pe1ko63vaC/UdJxwGQvNHJPXfxmAEkvpxRaaUwWYUWMkaStgd3r4fdSirAdkp5h+5aRKvS0XZlH0lXAc4ELgMso+48/YHuPNuPW2EdSvvRtbfupkvYD/qHtmRZJO1HWNjzChg53PrA1cHTT5fnGE0m7smFL4S+B1cBrbd/WWIx0wBGjV7eEfB64jTIaewolEceVg7uqyUnSWbZPqAXSh7LtVivzSHo2cDOl5OQ/AtsBH7J9dZtxa+zrKZWHrrC9f21bnwmsg/iHA3vVw5U1VeOUULcVTrM93GK0sb13OuCI0asfjK+2/b16vDtwnu0DBntlk5ekmbZ/s7m2yUTSNbYPlHRjXwe8zPY+A7iWE2yf1XXcriQRR8TE8bhe5wtg+/uSOknOMIX9DzB0Gnq4tkZIOtP2qSMtvOtowd0KSa8GptfV2KdQ/s6D8CbK1Oxk1UvEsQelCMXX6vGRQKMzW+mAI8bmOkmfZUMijtcw+RenDISkJwFPBmZJ2p+NC6XPbjF073c7yIV3J1NWfz9MyT99CQ1uh9lC46HyVGtsnw7rS40+qzf1LOk9wPlNxsoUdMQYSJoBnAQcQvlguhL4F9sPD/TCJiFJfwH8JWUR0HV9p9YA5zRZJm6E+HOAh2yvq8fTgRm2H2wx5hdsv07SW2x/rK04m4h/IHCz7fslzQL+nrIo6Xrgfbbv6/qauiLpFmDf3v/l+n99qe1nNBYjHXDE6NUP5d/YXluPW/9QnopqR3BTzYV8jO3/HMA1XA0c0Ss5KWkbYJHt1gpvSFoFvJQyDXoYQ0afbVdgkrSS0gk9KuksShWkCyi5p/e1/Vv1cicLSe+k1PReSLn1cDTwZdvvbypGpqAjxuZS4AhKYQAoyQkWkWpITZsJfE3SG4B5wy2UaXJxzEjX0F/v2favJbU59Q3wGeBiYFfKqLO/A3Ztb9O0mgITSo7z3n3279T81JOW7fdK+iZl6xnAsbbXV7+StH3NhDdq6YAjxmYQH8pTju3Fkr4P7A1sM6DLeEDSs3r7jSUdQMmJ3BrbHwc+LunTtk9sM9YIVkg61vbngKWS5tc0lLsDk36/e/1dj7S//FLGuPAvHXDE2HT+oTxV2f4pJRPRogFdwqnA+ZLurMdzgVd0Edj2iZL2ZcNo7MrhcjS34K+Aj9UiBPcA35V0B3BHPTeVjXkxWu4BR4xBTc7wH0D/h/IrbV838qtiNCR9gk3n3269KEbdYrYH5cP3lq6ynkk6hZLvurfQ7GjgLNuf6Cj+tpTp7q0odYl/1kXc8UzSDX1T8qN7j3TAEWMzqA/lqaaugh6R7c93cA1/SKnJu3720Pa/dxB3GXCw7Qfq8RxKXeLOE3FE0UQHnCnoiFGQ9He2P1QPj7J9ft+599l+x4AubdIa2sHWUZn778G3SdIXgKcBNwFre5cFtN4BU77cre07Xssk3487AWQKOmIQ+r/9Dv0m3MQ34xiZpL0oyTF2oHwI3g283vbKluPeDOzpAXxoSjqNsgd6YW06irL3+cyur2UqqdsKd2LjGY9eHeodxroNLCPgiNHRCI+HO45mnQW81fblsL4gxgLa3/q1AngSDZek2xxJ04BrgMVsSPiy0ZaYaJ6kkymlJn8GrKvNBvaBZvZgpwOOGB2P8Hi442jWnF7nC2D7inpPtG07AqskLaGkhOzFbzUXtO11kj5i+2BG3hITzXsLsIfte9sKkA44YnT2lXQ/ZTQyqz6mHs8c3GVNCT+S9C425Gh+LaVWa9ve00GMkSySdAxw4SCmwKeoO4BWU23mHnBETCiStgdOp0zHQsm/ffpYsxI9xti/Dzzd9rdqwpXpbdSJHSbuGmAO8CjwG8oXPdv+nbZjT1W1yMoewEVsPOORcoQR481kr5M6aJJmUkrh7QYsB/6myy1fko6n7MXdgbIa+smUVJEvaDu27W03/6xo2O31Z+v607iMgCMaktXP7ZL0ZUr6w29TChTcZvvUDuPfBDwHuMb2/rVtue29O4h9qe0XbK4tmidpTm//ddMyAo5oTlY/t2vPXmdXpweXdBz/YduPSOXXLGkrWl5wV0f9s4Ed69R7fw3knduMPdVJOhj4LCX3+C41Fegbbb+5qRjTmnqjiKlE0taSXi/piHr8auBGSSfVzFjRvPXTzX0Verq0WNI7KIvuXkgpzv5fLcd8I6UK0jPqn72frwKfajn2VHcm8GLgXgDbS4FDmwyQKeiIUZD0RcoM0mzgV5RvyRdS7gfK9ibTJsaWk7QW6E0FilL68UE6WpBU9+MeB7yoxrwEOLuLVcmSTu4q73MUkq6xfaCkG/tuOSy1vW9TMTIFHTE6e9vep05D/gTY2fZaSecCSwd8bZOS7ekDjr+OkvBjwQDC3yVpW9tramWiZwFn9KpwRSvuqLm/LWlr4BTg5iYDZAo6YnSm1f+U21JGwdvV9hlApqA7IumEDmJ8pf65XNKyoT9tx6/eVTvfQyjTop8HPt1R7KnqTcBJlNXuPwb2q8eNyRR0xCjU3LwnA9OBjwAvA34EHARcYPv0AV7elNHFynNJc23/tO4B/i22/7fN+PUabrS9v6T3A8ttf6l/ajQmpnTAEaMkaWcA23dKejxwBHC77a5X505ZXXRCknYDdrJ91ZD25wJ32r61zfg11tcptzqOAA4AHgKWNHk/MjYm6amUL9nz2LgYQ2OpR9MBR8SEIek5lAVX10raE/gz4Abb32gx5teBd9heNqR9PvBu20e2Fbsv1mzgJZTR7w8kzaWsQ1jUduypStJSyjak5WwoxoDtxY3FSAccEROBpHdTEnBsBfw3cCBwBWVUeInt97YUd4XtvUY410kijr54T6Qv13ivNF40r7cKutUY6YAjYiKQtJyyEGYGcBfwe7bvlzSLkp1qn5bi/tD2blt6roG4O9u+sz7+U+CjlNq09wJPAW6x/cw2Ysf6vf1PBxaxcS7oxlaeZxtSREwUj9peCzwo6Vbb9wPYfkjSus28diyulXS87Y22H0k6jpIUoy2H1UQvJwFnAAcDX7F9uKTDgVe1GDtgb+B1wPPZuB7w85sKkA44IiaKRyTNtv0gZSESAJK2o+8eXQtOBRZKeg0bOtz5lAT9R7cVtK50/iHwJ8Ajtu/uZVmzfbmkD7YVO4Dyu93V9iNtBcgUdERMCJJm2H54mPYdgbm2l7cc/3Cgdy94pe3L2ow3JPa3gKMoZRifCPwCOND2QV1dw1RTi3+cbPvnrcVIBxwRsWW6Lj0paQ5l65GA1wDbA+favrera5hqJF0B7ANcy8b3gLMNKSJiULouPSnpg7bftrm2aI6k5w3Xnm1IERED1HUWquE6fEnL2lr5Hd3IIqyIiC13TxdBJJ0IvBnYdUje6W2Bq4Z/VYyFpO/YPkTSGjau99x41a2MgCMiNkHS14Y2AYcDl0Gz9wSHib0d5X7v+4G3951aY/sXbcWNbqQDjojYBEk3AKuAsykjIgHnAa+EZu8JPoZrSSasDtTaz8tGyoDWlJQjjIjYtPmU/b/vBO6zfQXwkO3FXXW+ko6U9ANgNbAYuA34Zhexp6Ja+3mppF3ajJN7wBERm1A/jP9Z0vn1z5/R/WfnGZRSl9+qZQmTCat9c4GVkpYAD/Qam7zlkA44IuIxsP1j4M8l/TFwf8fh/8/2vZKmSZqWTFidaL2mdzrgiIgtYPsi4KKOw/5K0jbAlcAXJf0ceLTja5gS+uo/Lx7SfiilJnNjcg84ImL8exnwIHAacDFwK9B6HeIp6kxgzTDtD9Zzjckq6IiIcapvNHbVkPZDgZ/YvnUwVzZ5dVn/OSPgiIjx60w6Go3FejM3cW5Wk4HSAUdEjF/zbC8b2mj7OmBe95czJVwr6fihjW3Uf84UdETEOCXph7Z329JzMXqSdgIWAo8wTP1n23c1FisdcETE+CTpPOAy2wuGtB8HvMj2KwZzZZNfF/Wf0wFHRIxTXY7GYmRt1X9OBxwRMc51MRqLkbVV/zmJOCIixjnblwOXQxmNUSsxRWfUyptmBBwRMXG0NRqLDSQ9DTgaeAol49ivgI/bvq/JONmGFBExsbQyGotC0inAZyj7gZ9N2fs7E/iupMMajZURcETExCDpEOAwYIntRQO+nElJ0nJgP9trJc0GvmH7sFqa8Ku2928qVkbAERHjVC2F13t8PPBJYDrwbklvH9iFTX699VEzgG0BbN8OPK6NIBERMf70f+CfALzQ9t2SPgxcDXxgMJc1qZ1NyYZ1NXAo8EEASU8AftFkoExBR0SMU5KWUqacpwGX2J7fd+7GJqdDYwNJzwT+AFhh+5a24mQEHBExfm1HScAhwJKeZPuuWhs4i7FaYnslsLLtOBkBR0RMMHVx0E62Vw/6WmL00gFHREQMQFZBR0REDEA64IiIUZL0Ykn7Dfo6YmJKBxwR45KktZJukrRC0vn1vudo3+scSS+vj8+WtOco3uMbkh7fd/x84MXA0tFeV0xtuQccEeOSpF/b3qY+/iJwve2P9p2fbnvtY3yvc4Cv276glYuNGIWMgCNiIvg2sJukwyRdLulLwHJJ0yX9k6RrJS2T9EYAFZ+UtErSRcATe28k6QpJ8+vjl0i6QdJSSZfWtm0kfU7S8vqex9T22yTtWB+/tY7MV0g6tbbNk3SzpAWSVkpaJGlWl/9IMbFkH3BEjGuStgJeClxcm54D7GV7dS3Nd5/tZ0uaAVwlaRGwP7AHsDewE7AK+Lch7/sEYAFwaH2vHeqpd9X33Ls+b/shrzsAOBY4kLIX9xpJi4FfAk8HXmX7eElfAY4Bzm3wnyMmkYyAI2K8miXpJuA64Hbgs7V9Sd/+1xcBr6/Puwb4XUoneChwnu21tu9k+Pq5BwFX9t7Ldi/N4BHAp3pPsv3LIa87BFho+wHbvwYuBJ5bz622fVN9fD0wbwv/zjGFZAQcEePVQ7b362+QBPBAfxNwsu1Lhjzvj4DNLXDRCM8Zqb3//Ege7nu8llLKLmJYGQFHxER2CXCipMcBSNpd0hzgSuCV9R7xXODwYV77XeB5kp5aX9ubgl4E/HXvSUOnoOt7HyVpdo11NOUedcQWSQccERPZ2ZT7uzdIWgH8K2VmbyHwA2A58Glg8dAX2r6bUmHowlr04Mv11BnA9nWB1VKGdN62bwDOAZZQpr3Ptn1j83+1mOyyDSkiImIAMgKOiIgYgHTAERERA5AOOCIiYgDSAUdERAxAOuCIiIgBSAccERExAOmAIyIiBuD/AYjBgW7jUWTHAAAAAElFTkSuQmCC\n",
=======
      "image/png": "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\n",
>>>>>>> e56c17ae7ca7509ef2a8991980792782459566ac
      "text/plain": [
       "<Figure size 504x504 with 1 Axes>"
      ]
     },
     "metadata": {
      "needs_background": "light"
     },
     "output_type": "display_data"
    }
   ],
   "source": [
    "cm = confusion_matrix(y_true=y_true, y_pred=y_pred)\n",
    "plot_confusion_matrix(cm, labels=lbs)"
   ]
  },
  {
   "cell_type": "code",
<<<<<<< HEAD
   "execution_count": 46,
=======
   "execution_count": 47,
>>>>>>> e56c17ae7ca7509ef2a8991980792782459566ac
   "id": "be9357bf",
   "metadata": {},
   "outputs": [],
   "source": [
    "def predict_class(model, sentence, min_len = 4):\n",
    "\n",
    "    tokenized = [tok.text for tok in spacy_es.tokenizer(sentence)]\n",
    "    \n",
    "    if len(tokenized) < min_len:\n",
    "        tokenized += ['<pad>'] * (min_len - len(tokenized))\n",
    "    device = 'cpu'\n",
    "    indexed = [TEXT.vocab.stoi[t] for t in tokenized]\n",
    "    \n",
    "    tensor = torch.LongTensor(indexed).to(device)\n",
    "    tensor = tensor.unsqueeze(0)\n",
    "    preds = model(tensor)\n",
    "    print(preds)\n",
    "    max_preds = preds.argmax(dim = 1)\n",
    "    return max_preds.item()"
   ]
  },
  {
   "cell_type": "code",
<<<<<<< HEAD
   "execution_count": 47,
=======
   "execution_count": 48,
>>>>>>> e56c17ae7ca7509ef2a8991980792782459566ac
   "id": "2dee00fa",
   "metadata": {},
   "outputs": [
    {
     "name": "stdout",
     "output_type": "stream",
     "text": [
<<<<<<< HEAD
      "tensor([[ 0.0758,  0.2888, -0.6040, -0.2851, -0.1817,  0.5529, -0.3448,  0.4125,\n",
      "         -0.2229, -0.2381]], grad_fn=<AddmmBackward>)\n"
=======
      "tensor([[ 0.0594, -0.0625, -0.1782, -0.4153,  0.1685,  0.2468, -0.0568, -0.0506,\n",
      "         -0.5387, -0.1981]], grad_fn=<AddmmBackward>)\n"
>>>>>>> e56c17ae7ca7509ef2a8991980792782459566ac
     ]
    },
    {
     "name": "stderr",
     "output_type": "stream",
     "text": [
      "[W NNPACK.cpp:79] Could not initialize NNPACK! Reason: Unsupported hardware.\n"
     ]
    },
    {
     "data": {
      "text/plain": [
       "'4-Ciencias_y_Tecnología'"
      ]
     },
<<<<<<< HEAD
     "execution_count": 47,
=======
     "execution_count": 48,
>>>>>>> e56c17ae7ca7509ef2a8991980792782459566ac
     "metadata": {},
     "output_type": "execute_result"
    }
   ],
   "source": [
    "noticia = \"\"\"Sin embargo, estos experimentos se llevaban a cabo en secreto, y cuando otras secciones de Guardian se dieron cuenta, el proyecto se canceló de inmediato.\"\"\"\n",
    "cat_map.get(predict_class(best_model, noticia))"
   ]
  },
  {
   "cell_type": "code",
<<<<<<< HEAD
   "execution_count": 48,
=======
   "execution_count": 49,
>>>>>>> e56c17ae7ca7509ef2a8991980792782459566ac
   "id": "9c8c801e",
   "metadata": {},
   "outputs": [
    {
     "name": "stdout",
     "output_type": "stream",
     "text": [
<<<<<<< HEAD
      "tensor([[-2.9282, -1.5057, -0.4233, -1.5861, -1.0334,  1.2653, -2.6102,  0.7386,\n",
      "          5.3554, -1.9378]], grad_fn=<AddmmBackward>)\n"
=======
      "tensor([[-1.6018, -1.2782, -0.7680, -1.2669, -1.0760,  0.4911, -2.8055,  1.5090,\n",
      "          4.9858, -1.4373]], grad_fn=<AddmmBackward>)\n"
>>>>>>> e56c17ae7ca7509ef2a8991980792782459566ac
     ]
    },
    {
     "data": {
      "text/plain": [
       "'7-Deporte'"
      ]
     },
<<<<<<< HEAD
     "execution_count": 48,
=======
     "execution_count": 49,
>>>>>>> e56c17ae7ca7509ef2a8991980792782459566ac
     "metadata": {},
     "output_type": "execute_result"
    }
   ],
   "source": [
    "cat_map.get(predict_class(best_model, \"alexis y la copa america le pegoOoOooO\"))"
   ]
  },
  {
   "cell_type": "markdown",
   "id": "38c132b2",
   "metadata": {},
   "source": [
<<<<<<< HEAD
    "# Comparar hiperparametros\n",
    "\n",
    "gaurdar parametros utilizados y algunas metricas en tabla resumen"
=======
    "# pensar en una forma para comparar el rendimiento de los modelos dependiendo de cosas generales como que tokenizer usamos, usar stem o no, largo a truncar, balancear dataset, etc.\n",
    "\n",
    "por ejemplo una tabla resumen con la configuracion y los avg de precision, acc"
>>>>>>> e56c17ae7ca7509ef2a8991980792782459566ac
   ]
  },
  {
   "cell_type": "code",
<<<<<<< HEAD
   "execution_count": 64,
=======
   "execution_count": 50,
>>>>>>> e56c17ae7ca7509ef2a8991980792782459566ac
   "id": "e0dd271c",
   "metadata": {},
   "outputs": [
    {
     "data": {
      "text/plain": [
<<<<<<< HEAD
       "{'test_loss': 0.7088941367609161,\n",
       " 'test_acc': 0.7738839281456811,\n",
       " 'best_valid_loss': 0.6621575657987878,\n",
       " 'MAX_LEN': 800,\n",
       " 'DROPOUT': 0.6,\n",
       " 'N_EPOCHS': 5,\n",
       " 'best_epoch': 5,\n",
       " 'dt': '2021-11-27_14:15:16.234522',\n",
=======
       "{'test_loss': 0.6767875791660377,\n",
       " 'test_acc': 0.796056547335216,\n",
       " 'best_valid_loss': 0.606749277561903,\n",
       " 'MAX_LEN': 1200,\n",
       " 'DROPOUT': 0.5,\n",
       " 'N_EPOCHS': 10,\n",
       " 'best_epoch': 5,\n",
       " 'dt': '2021-11-27_13:35:33.390381',\n",
>>>>>>> e56c17ae7ca7509ef2a8991980792782459566ac
       " 'DEVICE_NAME': 'cpu',\n",
       " 'MAX_VOCAB_SIZE': 50000,\n",
       " 'RANDOM_STATE': 42,\n",
       " 'BATCH_SIZE': 32,\n",
       " 'EMBEDDING_DIM': 300,\n",
       " 'N_FILTERS': 100,\n",
       " 'FILTER_SIZES': [2, 3, 4],\n",
       " 'OPTIMIZER': 'Adam',\n",
       " 'CRITERION': 'CrossEntropyLoss'}"
      ]
     },
<<<<<<< HEAD
     "execution_count": 64,
=======
     "execution_count": 50,
>>>>>>> e56c17ae7ca7509ef2a8991980792782459566ac
     "metadata": {},
     "output_type": "execute_result"
    }
   ],
   "source": [
    "from operator import itemgetter\n",
    "wanted_keys = ['test_loss', 'test_acc', 'best_valid_loss', 'MAX_LEN', 'DROPOUT', 'N_EPOCHS',\n",
    "               'best_epoch', 'dt', 'DEVICE_NAME', 'MAX_VOCAB_SIZE', 'RANDOM_STATE', 'BATCH_SIZE', \n",
    "               'EMBEDDING_DIM', 'N_FILTERS', 'FILTER_SIZES', 'OPTIMIZER',\n",
    "               'CRITERION',\n",
    "              ]\n",
    "wanted_values = list(itemgetter(*wanted_keys)(globals()))\n",
    "hparams = dict(zip(wanted_keys, wanted_values))\n",
<<<<<<< HEAD
    "saved = False\n",
=======
>>>>>>> e56c17ae7ca7509ef2a8991980792782459566ac
    "hparams"
   ]
  },
  {
   "cell_type": "code",
<<<<<<< HEAD
   "execution_count": 65,
   "id": "75961a02",
=======
   "execution_count": 51,
   "id": "69f9173e",
>>>>>>> e56c17ae7ca7509ef2a8991980792782459566ac
   "metadata": {},
   "outputs": [],
   "source": [
    "import pickle\n",
    "try:\n",
    "    with open ('./cnn_info', 'rb') as fp:\n",
    "        attemps = pickle.load(fp)\n",
<<<<<<< HEAD
    "    if not saved:\n",
    "        attemps.append(hparams)\n",
    "        saved = True\n",
=======
    "    attemps.append(hparams)\n",
>>>>>>> e56c17ae7ca7509ef2a8991980792782459566ac
    "except FileNotFoundError:\n",
    "    print('cnn_info not found...')\n",
    "    attemps = [hparams]\n",
    "finally:\n",
    "    with open('./cnn_info', 'wb') as fp:\n",
    "        pickle.dump(attemps, fp)"
   ]
  },
  {
   "cell_type": "code",
<<<<<<< HEAD
   "execution_count": 66,
   "id": "ee988e7e",
=======
   "execution_count": 52,
   "id": "e81e962e",
>>>>>>> e56c17ae7ca7509ef2a8991980792782459566ac
   "metadata": {},
   "outputs": [
    {
     "data": {
      "text/html": [
       "<div>\n",
       "<style scoped>\n",
       "    .dataframe tbody tr th:only-of-type {\n",
       "        vertical-align: middle;\n",
       "    }\n",
       "\n",
       "    .dataframe tbody tr th {\n",
       "        vertical-align: top;\n",
       "    }\n",
       "\n",
       "    .dataframe thead th {\n",
       "        text-align: right;\n",
       "    }\n",
       "</style>\n",
       "<table border=\"1\" class=\"dataframe\">\n",
       "  <thead>\n",
       "    <tr style=\"text-align: right;\">\n",
       "      <th></th>\n",
       "      <th>test_loss</th>\n",
       "      <th>test_acc</th>\n",
       "      <th>best_valid_loss</th>\n",
       "      <th>MAX_LEN</th>\n",
       "      <th>DROPOUT</th>\n",
       "      <th>N_EPOCHS</th>\n",
       "      <th>best_epoch</th>\n",
       "      <th>dt</th>\n",
       "      <th>DEVICE_NAME</th>\n",
       "      <th>MAX_VOCAB_SIZE</th>\n",
       "      <th>RANDOM_STATE</th>\n",
       "      <th>BATCH_SIZE</th>\n",
       "      <th>EMBEDDING_DIM</th>\n",
       "      <th>N_FILTERS</th>\n",
       "      <th>FILTER_SIZES</th>\n",
       "      <th>OPTIMIZER</th>\n",
       "      <th>CRITERION</th>\n",
       "    </tr>\n",
       "  </thead>\n",
       "  <tbody>\n",
       "    <tr>\n",
       "      <th>0</th>\n",
       "      <td>0.642012</td>\n",
       "      <td>0.805506</td>\n",
       "      <td>0.679949</td>\n",
       "      <td>800</td>\n",
       "      <td>0.5</td>\n",
       "      <td>5</td>\n",
       "      <td>2</td>\n",
       "      <td>2021-11-27_12:03:25.328457</td>\n",
       "      <td>cpu</td>\n",
       "      <td>50000</td>\n",
       "      <td>42</td>\n",
       "      <td>32</td>\n",
       "      <td>300</td>\n",
       "      <td>100</td>\n",
       "      <td>[2, 3, 4]</td>\n",
       "      <td>Adam</td>\n",
       "      <td>CrossEntropyLoss</td>\n",
       "    </tr>\n",
       "    <tr>\n",
       "      <th>1</th>\n",
       "      <td>0.647319</td>\n",
       "      <td>0.782738</td>\n",
       "      <td>0.628116</td>\n",
       "      <td>1000</td>\n",
       "      <td>0.5</td>\n",
       "      <td>5</td>\n",
       "      <td>5</td>\n",
       "      <td>2021-11-27_12:42:07.138385</td>\n",
       "      <td>cpu</td>\n",
       "      <td>50000</td>\n",
       "      <td>42</td>\n",
       "      <td>32</td>\n",
       "      <td>300</td>\n",
       "      <td>100</td>\n",
       "      <td>[2, 3, 4]</td>\n",
       "      <td>Adam</td>\n",
       "      <td>CrossEntropyLoss</td>\n",
       "    </tr>\n",
       "    <tr>\n",
       "      <th>2</th>\n",
       "      <td>0.664787</td>\n",
       "      <td>0.775967</td>\n",
       "      <td>0.632048</td>\n",
       "      <td>1000</td>\n",
       "      <td>0.4</td>\n",
       "      <td>5</td>\n",
       "      <td>5</td>\n",
       "      <td>2021-11-27_12:55:15.880132</td>\n",
       "      <td>cpu</td>\n",
       "      <td>50000</td>\n",
       "      <td>42</td>\n",
       "      <td>32</td>\n",
       "      <td>300</td>\n",
       "      <td>100</td>\n",
       "      <td>[2, 3, 4]</td>\n",
       "      <td>Adam</td>\n",
       "      <td>CrossEntropyLoss</td>\n",
       "    </tr>\n",
       "    <tr>\n",
       "      <th>3</th>\n",
       "      <td>0.642821</td>\n",
       "      <td>0.794940</td>\n",
       "      <td>0.606749</td>\n",
       "      <td>1200</td>\n",
       "      <td>0.5</td>\n",
       "      <td>5</td>\n",
       "      <td>5</td>\n",
       "      <td>2021-11-27_13:21:58.449466</td>\n",
       "      <td>cpu</td>\n",
       "      <td>50000</td>\n",
       "      <td>42</td>\n",
       "      <td>32</td>\n",
       "      <td>300</td>\n",
       "      <td>100</td>\n",
       "      <td>[2, 3, 4]</td>\n",
       "      <td>Adam</td>\n",
       "      <td>CrossEntropyLoss</td>\n",
       "    </tr>\n",
       "    <tr>\n",
       "      <th>4</th>\n",
       "      <td>0.676788</td>\n",
       "      <td>0.796057</td>\n",
       "      <td>0.606749</td>\n",
       "      <td>1200</td>\n",
       "      <td>0.5</td>\n",
       "      <td>10</td>\n",
       "      <td>5</td>\n",
       "      <td>2021-11-27_13:35:33.390381</td>\n",
       "      <td>cpu</td>\n",
       "      <td>50000</td>\n",
       "      <td>42</td>\n",
       "      <td>32</td>\n",
       "      <td>300</td>\n",
       "      <td>100</td>\n",
       "      <td>[2, 3, 4]</td>\n",
       "      <td>Adam</td>\n",
       "      <td>CrossEntropyLoss</td>\n",
       "    </tr>\n",
<<<<<<< HEAD
       "    <tr>\n",
       "      <th>5</th>\n",
       "      <td>0.662516</td>\n",
       "      <td>0.783929</td>\n",
       "      <td>0.623471</td>\n",
       "      <td>1000</td>\n",
       "      <td>0.5</td>\n",
       "      <td>5</td>\n",
       "      <td>5</td>\n",
       "      <td>2021-11-27_14:05:41.278273</td>\n",
       "      <td>cpu</td>\n",
       "      <td>50000</td>\n",
       "      <td>42</td>\n",
       "      <td>32</td>\n",
       "      <td>300</td>\n",
       "      <td>200</td>\n",
       "      <td>[2, 3, 4]</td>\n",
       "      <td>Adam</td>\n",
       "      <td>CrossEntropyLoss</td>\n",
       "    </tr>\n",
       "    <tr>\n",
       "      <th>6</th>\n",
       "      <td>0.708894</td>\n",
       "      <td>0.773884</td>\n",
       "      <td>0.662158</td>\n",
       "      <td>800</td>\n",
       "      <td>0.6</td>\n",
       "      <td>5</td>\n",
       "      <td>5</td>\n",
       "      <td>2021-11-27_14:15:16.234522</td>\n",
       "      <td>cpu</td>\n",
       "      <td>50000</td>\n",
       "      <td>42</td>\n",
       "      <td>32</td>\n",
       "      <td>300</td>\n",
       "      <td>100</td>\n",
       "      <td>[2, 3, 4]</td>\n",
       "      <td>Adam</td>\n",
       "      <td>CrossEntropyLoss</td>\n",
       "    </tr>\n",
=======
>>>>>>> e56c17ae7ca7509ef2a8991980792782459566ac
       "  </tbody>\n",
       "</table>\n",
       "</div>"
      ],
      "text/plain": [
       "   test_loss  test_acc  best_valid_loss  MAX_LEN  DROPOUT  N_EPOCHS  \\\n",
       "0   0.642012  0.805506         0.679949      800      0.5         5   \n",
       "1   0.647319  0.782738         0.628116     1000      0.5         5   \n",
       "2   0.664787  0.775967         0.632048     1000      0.4         5   \n",
       "3   0.642821  0.794940         0.606749     1200      0.5         5   \n",
       "4   0.676788  0.796057         0.606749     1200      0.5        10   \n",
<<<<<<< HEAD
       "5   0.662516  0.783929         0.623471     1000      0.5         5   \n",
       "6   0.708894  0.773884         0.662158      800      0.6         5   \n",
=======
>>>>>>> e56c17ae7ca7509ef2a8991980792782459566ac
       "\n",
       "   best_epoch                          dt DEVICE_NAME  MAX_VOCAB_SIZE  \\\n",
       "0           2  2021-11-27_12:03:25.328457         cpu           50000   \n",
       "1           5  2021-11-27_12:42:07.138385         cpu           50000   \n",
       "2           5  2021-11-27_12:55:15.880132         cpu           50000   \n",
       "3           5  2021-11-27_13:21:58.449466         cpu           50000   \n",
       "4           5  2021-11-27_13:35:33.390381         cpu           50000   \n",
<<<<<<< HEAD
       "5           5  2021-11-27_14:05:41.278273         cpu           50000   \n",
       "6           5  2021-11-27_14:15:16.234522         cpu           50000   \n",
=======
>>>>>>> e56c17ae7ca7509ef2a8991980792782459566ac
       "\n",
       "   RANDOM_STATE  BATCH_SIZE  EMBEDDING_DIM  N_FILTERS FILTER_SIZES OPTIMIZER  \\\n",
       "0            42          32            300        100    [2, 3, 4]      Adam   \n",
       "1            42          32            300        100    [2, 3, 4]      Adam   \n",
       "2            42          32            300        100    [2, 3, 4]      Adam   \n",
       "3            42          32            300        100    [2, 3, 4]      Adam   \n",
       "4            42          32            300        100    [2, 3, 4]      Adam   \n",
<<<<<<< HEAD
       "5            42          32            300        200    [2, 3, 4]      Adam   \n",
       "6            42          32            300        100    [2, 3, 4]      Adam   \n",
=======
>>>>>>> e56c17ae7ca7509ef2a8991980792782459566ac
       "\n",
       "          CRITERION  \n",
       "0  CrossEntropyLoss  \n",
       "1  CrossEntropyLoss  \n",
       "2  CrossEntropyLoss  \n",
       "3  CrossEntropyLoss  \n",
<<<<<<< HEAD
       "4  CrossEntropyLoss  \n",
       "5  CrossEntropyLoss  \n",
       "6  CrossEntropyLoss  "
      ]
     },
     "execution_count": 66,
=======
       "4  CrossEntropyLoss  "
      ]
     },
     "execution_count": 52,
>>>>>>> e56c17ae7ca7509ef2a8991980792782459566ac
     "metadata": {},
     "output_type": "execute_result"
    }
   ],
   "source": [
    "pd.DataFrame(attemps, columns=wanted_keys)"
   ]
<<<<<<< HEAD
=======
  },
  {
   "cell_type": "code",
   "execution_count": null,
   "id": "dbbc0d41",
   "metadata": {},
   "outputs": [],
   "source": []
>>>>>>> e56c17ae7ca7509ef2a8991980792782459566ac
  }
 ],
 "metadata": {
  "kernelspec": {
   "display_name": "Python 3 (ipykernel)",
   "language": "python",
   "name": "python3"
  },
  "language_info": {
   "codemirror_mode": {
    "name": "ipython",
    "version": 3
   },
   "file_extension": ".py",
   "mimetype": "text/x-python",
   "name": "python",
   "nbconvert_exporter": "python",
   "pygments_lexer": "ipython3",
   "version": "3.9.7"
  },
  "toc": {
   "base_numbering": 1,
   "nav_menu": {},
   "number_sections": true,
   "sideBar": true,
   "skip_h1_title": false,
   "title_cell": "Table of Contents",
   "title_sidebar": "Contents",
   "toc_cell": false,
   "toc_position": {},
   "toc_section_display": true,
   "toc_window_display": false
  }
 },
 "nbformat": 4,
 "nbformat_minor": 5
}
