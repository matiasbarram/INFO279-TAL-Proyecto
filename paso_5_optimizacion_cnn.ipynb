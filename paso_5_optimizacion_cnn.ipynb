{
 "cells": [
  {
   "cell_type": "code",
   "execution_count": 1,
   "id": "ab770e30",
   "metadata": {},
   "outputs": [],
   "source": [
    "import pandas as pd\n",
    "from os import listdir\n",
    "from os.path import join\n",
    "from tqdm import tqdm\n",
    "from my_funcs import tokenize_es_a, tokenize_es_b, tokenize_es_c, tokenize_es_d "
   ]
  },
  {
   "cell_type": "code",
   "execution_count": 2,
   "id": "7082e3a5",
   "metadata": {},
   "outputs": [
    {
     "name": "stdout",
     "output_type": "stream",
     "text": [
      "ds_name = 'ds_semibalanced_1678_rs5150.csv'\n",
      "ds_name = 'ds_balanced_gen_1678_rs5150.csv'\n",
      "ds_name = 'ds_balanced_802_rs2.csv'\n",
      "ds_name = 'ds_balanced_795_rs8008.csv'\n",
      "ds_name = 'ds_balanced_795_rs2.csv'\n",
      "ds_name = 'ds_balanced_795.csv'\n",
      "ds_name = 'ds_balanced_1500_rs5150.csv'\n",
      "ds_name = 'ds_balanced_1430_rs8008.csv'\n",
      "ds_name = 'ds_balanced_1430_rs5150.csv'\n",
      "ds_name = 'ds_balanced_1133_rs8008.csv'\n",
      "ds_name = 'ds_balanced_1133_rs2.csv'\n"
     ]
    }
   ],
   "source": [
    "folder = './datasets/'\n",
    "for file in reversed(sorted(listdir(folder))): #nos uqedamos con el mas grande en caso de actualizar el ds\n",
    "    if 'balanced' in file:\n",
    "        print(f\"ds_name = '{file}'\")"
   ]
  },
  {
   "cell_type": "code",
   "execution_count": 3,
   "id": "3fcd483d",
   "metadata": {},
   "outputs": [
    {
     "name": "stdout",
     "output_type": "stream",
     "text": [
      "selected:  ds_semibalanced_1678_rs5150.csv\n"
     ]
    }
   ],
   "source": [
    "ds_name = 'ds_semibalanced_1678_rs5150.csv'\n",
    "#ds_name = 'ds_balanced_1430_rs8008.csv' # el que se uso en la ultima ejecucion del logreg\n",
    "#ds_name = 'ds_balanced_1500_rs5150.csv'\n",
    "print('selected: ', ds_name)"
   ]
  },
  {
   "cell_type": "code",
   "execution_count": 4,
   "id": "276097bd",
   "metadata": {},
   "outputs": [
    {
     "name": "stdout",
     "output_type": "stream",
     "text": [
      "Index(['id', 'title', 'content', 'category', 'url', 'text', 'index'], dtype='object')\n"
     ]
    },
    {
     "data": {
      "text/html": [
       "<div>\n",
       "<style scoped>\n",
       "    .dataframe tbody tr th:only-of-type {\n",
       "        vertical-align: middle;\n",
       "    }\n",
       "\n",
       "    .dataframe tbody tr th {\n",
       "        vertical-align: top;\n",
       "    }\n",
       "\n",
       "    .dataframe thead th {\n",
       "        text-align: right;\n",
       "    }\n",
       "</style>\n",
       "<table border=\"1\" class=\"dataframe\">\n",
       "  <thead>\n",
       "    <tr style=\"text-align: right;\">\n",
       "      <th></th>\n",
       "      <th>title</th>\n",
       "      <th>content</th>\n",
       "    </tr>\n",
       "  </thead>\n",
       "  <tbody>\n",
       "    <tr>\n",
       "      <th>0</th>\n",
       "      <td>Rusia responde a Alemania por caso Navalni: Denuncian \"acusaciones infundadas y ultimátums\"</td>\n",
       "      <td>Rusia responde a Alemania por caso Navalni: Denuncian \"acusaciones infundadas y ultimátums\". Rusia criticó el miércoles \"las acusaciones infundadas y los ultimátums\" por parte de Alemania, en torn...</td>\n",
       "    </tr>\n",
       "    <tr>\n",
       "      <th>1</th>\n",
       "      <td>La pandemia de coronavirus se acerca al millón de muertos en el mundo</td>\n",
       "      <td>La pandemia de coronavirus se acerca al millón de muertos en el mundo. Nueve meses después de su irrupción en China, la pandemia de coronavirus se acercaba este domingo a la cifra simbólica de un ...</td>\n",
       "    </tr>\n",
       "    <tr>\n",
       "      <th>2</th>\n",
       "      <td>Al menos siete muertos deja jornada de protestas contra la Policía en Colombia</td>\n",
       "      <td>Al menos siete muertos deja jornada de protestas contra la Policía en Colombia. Al menos  siete personas murieron  en la violenta jornada de protestas de anoche en Bogotá y otras ciudades de  Colo...</td>\n",
       "    </tr>\n",
       "    <tr>\n",
       "      <th>3</th>\n",
       "      <td>Perú supera los 900 mil contagios de coronavirus</td>\n",
       "      <td>Perú supera los 900 mil contagios de coronavirus. Perú superó los 900 mil casos confirmados de coronavirus y registró una cifra de 34.411 fallecidos en el país. Según los datos suministrados por e...</td>\n",
       "    </tr>\n",
       "    <tr>\n",
       "      <th>4</th>\n",
       "      <td>Biden asume como el Presidente número 46 de EE.UU. y promete unir al país</td>\n",
       "      <td>Biden asume como el Presidente número 46 de EE.UU. y promete unir al país. En un día soleado en Washington D.C, Joe Biden asumió como el Presidente número 46 de Estados Unidos y en su primer discu...</td>\n",
       "    </tr>\n",
       "  </tbody>\n",
       "</table>\n",
       "</div>"
      ],
      "text/plain": [
       "                                                                                         title  \\\n",
       "0  Rusia responde a Alemania por caso Navalni: Denuncian \"acusaciones infundadas y ultimátums\"   \n",
       "1                        La pandemia de coronavirus se acerca al millón de muertos en el mundo   \n",
       "2               Al menos siete muertos deja jornada de protestas contra la Policía en Colombia   \n",
       "3                                             Perú supera los 900 mil contagios de coronavirus   \n",
       "4                    Biden asume como el Presidente número 46 de EE.UU. y promete unir al país   \n",
       "\n",
       "                                                                                                                                                                                                   content  \n",
       "0  Rusia responde a Alemania por caso Navalni: Denuncian \"acusaciones infundadas y ultimátums\". Rusia criticó el miércoles \"las acusaciones infundadas y los ultimátums\" por parte de Alemania, en torn...  \n",
       "1  La pandemia de coronavirus se acerca al millón de muertos en el mundo. Nueve meses después de su irrupción en China, la pandemia de coronavirus se acercaba este domingo a la cifra simbólica de un ...  \n",
       "2  Al menos siete muertos deja jornada de protestas contra la Policía en Colombia. Al menos  siete personas murieron  en la violenta jornada de protestas de anoche en Bogotá y otras ciudades de  Colo...  \n",
       "3  Perú supera los 900 mil contagios de coronavirus. Perú superó los 900 mil casos confirmados de coronavirus y registró una cifra de 34.411 fallecidos en el país. Según los datos suministrados por e...  \n",
       "4  Biden asume como el Presidente número 46 de EE.UU. y promete unir al país. En un día soleado en Washington D.C, Joe Biden asumió como el Presidente número 46 de Estados Unidos y en su primer discu...  "
      ]
     },
     "execution_count": 4,
     "metadata": {},
     "output_type": "execute_result"
    }
   ],
   "source": [
    "df = pd.read_csv(join(folder, ds_name))\n",
    "pd.set_option('display.max_colwidth', 200)\n",
    "print(df.columns)\n",
    "df[['title', 'content']].head()"
   ]
  },
  {
   "cell_type": "code",
   "execution_count": 5,
   "id": "a57c4a61",
   "metadata": {},
   "outputs": [],
   "source": [
    "MAX_LEN = 1400\n",
    "DROPOUT = 0.65\n",
    "MAX_VOCAB_SIZE = 50000\n",
    "RANDOM_STATE = 8008\n",
    "BATCH_SIZE = 64\n",
    "EMBEDDING_DIM = 300\n",
    "N_FILTERS = 100\n",
    "FILTER_SIZES = [3, 4, 5]\n",
    "LR = 0.0005\n",
    "N_EPOCHS = 15\n",
    "FREEZE_EMBEDDINGS = True\n",
    "tokenizer = tokenize_es_c\n",
    "TOKENIZER = tokenizer.__name__"
   ]
  },
  {
   "cell_type": "markdown",
   "id": "97d256cb",
   "metadata": {},
   "source": [
    "## Truncar contenido\n",
    "### Cuanto?"
   ]
  },
  {
   "cell_type": "code",
   "execution_count": 6,
   "id": "52faa8d0",
   "metadata": {},
   "outputs": [
    {
     "name": "stdout",
     "output_type": "stream",
     "text": [
      "min len:  147\n",
      "max len:  1400\n"
     ]
    }
   ],
   "source": [
    "df['content'] = df.content.str.slice(0, MAX_LEN)\n",
    "print('min len: ', df.content.map(len).min())\n",
    "print('max len: ', df.content.map(len).max())"
   ]
  },
  {
   "cell_type": "code",
   "execution_count": 7,
   "id": "d70f14d7",
   "metadata": {},
   "outputs": [
    {
     "data": {
      "text/html": [
       "<div>\n",
       "<style scoped>\n",
       "    .dataframe tbody tr th:only-of-type {\n",
       "        vertical-align: middle;\n",
       "    }\n",
       "\n",
       "    .dataframe tbody tr th {\n",
       "        vertical-align: top;\n",
       "    }\n",
       "\n",
       "    .dataframe thead th {\n",
       "        text-align: right;\n",
       "    }\n",
       "</style>\n",
       "<table border=\"1\" class=\"dataframe\">\n",
       "  <thead>\n",
       "    <tr style=\"text-align: right;\">\n",
       "      <th></th>\n",
       "      <th>id</th>\n",
       "      <th>title</th>\n",
       "      <th>content</th>\n",
       "      <th>category</th>\n",
       "    </tr>\n",
       "  </thead>\n",
       "  <tbody>\n",
       "    <tr>\n",
       "      <th>0</th>\n",
       "      <td>6681503</td>\n",
       "      <td>Rusia responde a Alemania por caso Navalni: Denuncian \"acusaciones infundadas y ultimátums\"</td>\n",
       "      <td>Rusia responde a Alemania por caso Navalni: Denuncian \"acusaciones infundadas y ultimátums\". Rusia criticó el miércoles \"las acusaciones infundadas y los ultimátums\" por parte de Alemania, en torn...</td>\n",
       "      <td>1-Mundo</td>\n",
       "    </tr>\n",
       "    <tr>\n",
       "      <th>1</th>\n",
       "      <td>6673026</td>\n",
       "      <td>La pandemia de coronavirus se acerca al millón de muertos en el mundo</td>\n",
       "      <td>La pandemia de coronavirus se acerca al millón de muertos en el mundo. Nueve meses después de su irrupción en China, la pandemia de coronavirus se acercaba este domingo a la cifra simbólica de un ...</td>\n",
       "      <td>1-Mundo</td>\n",
       "    </tr>\n",
       "    <tr>\n",
       "      <th>2</th>\n",
       "      <td>14805458</td>\n",
       "      <td>Al menos siete muertos deja jornada de protestas contra la Policía en Colombia</td>\n",
       "      <td>Al menos siete muertos deja jornada de protestas contra la Policía en Colombia. Al menos  siete personas murieron  en la violenta jornada de protestas de anoche en Bogotá y otras ciudades de  Colo...</td>\n",
       "      <td>1-Mundo</td>\n",
       "    </tr>\n",
       "    <tr>\n",
       "      <th>3</th>\n",
       "      <td>6658352</td>\n",
       "      <td>Perú supera los 900 mil contagios de coronavirus</td>\n",
       "      <td>Perú supera los 900 mil contagios de coronavirus. Perú superó los 900 mil casos confirmados de coronavirus y registró una cifra de 34.411 fallecidos en el país. Según los datos suministrados por e...</td>\n",
       "      <td>1-Mundo</td>\n",
       "    </tr>\n",
       "    <tr>\n",
       "      <th>4</th>\n",
       "      <td>5686808</td>\n",
       "      <td>Biden asume como el Presidente número 46 de EE.UU. y promete unir al país</td>\n",
       "      <td>Biden asume como el Presidente número 46 de EE.UU. y promete unir al país. En un día soleado en Washington D.C, Joe Biden asumió como el Presidente número 46 de Estados Unidos y en su primer discu...</td>\n",
       "      <td>1-Mundo</td>\n",
       "    </tr>\n",
       "    <tr>\n",
       "      <th>...</th>\n",
       "      <td>...</td>\n",
       "      <td>...</td>\n",
       "      <td>...</td>\n",
       "      <td>...</td>\n",
       "    </tr>\n",
       "    <tr>\n",
       "      <th>16775</th>\n",
       "      <td>5147536</td>\n",
       "      <td>Hallan una población desconocida de ballenas azules por su singular canto</td>\n",
       "      <td>Hallan una población desconocida de ballenas azules por su singular canto. La práctica de ‘escuchas’ submarinas que sigue las migraciones y la distribución de ballenas en los océanos puso al descu...</td>\n",
       "      <td>8-Ecología_y_Planeta</td>\n",
       "    </tr>\n",
       "    <tr>\n",
       "      <th>16776</th>\n",
       "      <td>5163008</td>\n",
       "      <td>La basura de la pandemia: cientos de mascarillas recogieron del lago Leman de Suiza</td>\n",
       "      <td>La basura de la pandemia: cientos de mascarillas recogieron del lago Leman de Suiza. En el ámbito internacional, Suiza tiene la imagen de ser un país limpio, pero las apariencias engañan, según la...</td>\n",
       "      <td>8-Ecología_y_Planeta</td>\n",
       "    </tr>\n",
       "    <tr>\n",
       "      <th>16777</th>\n",
       "      <td>5161965</td>\n",
       "      <td>Greenpeace España interviene monumento para advertir sobre el cambio climático</td>\n",
       "      <td>Greenpeace España interviene monumento para advertir sobre el cambio climático. Activistas de Greenpeace han colocado unas mascarillas gigantes a dos emblemáticas esculturas de Madrid y Valencia, ...</td>\n",
       "      <td>8-Ecología_y_Planeta</td>\n",
       "    </tr>\n",
       "    <tr>\n",
       "      <th>16778</th>\n",
       "      <td>13395470</td>\n",
       "      <td>Con gotas en diferentes comunas del país parte el sistema frontal que afectará desde Coquimbo a Los Ríos</td>\n",
       "      <td>Con gotas en diferentes comunas del país parte el sistema frontal que afectará desde Coquimbo a Los Ríos. Durante la mañana de este viernes ya comenzaron a caer gotas en diferentes zonas de la cap...</td>\n",
       "      <td>8-Ecología_y_Planeta</td>\n",
       "    </tr>\n",
       "    <tr>\n",
       "      <th>16779</th>\n",
       "      <td>19000405</td>\n",
       "      <td>Raúl Sohr: “El 1% de la población emite el doble de gases invernadero que la mitad de la población mundial”</td>\n",
       "      <td>Raúl Sohr: “El 1% de la población emite el doble de gases invernadero que la mitad de la población mundial”. El jueves comenzó la cumbre convocada por Biden para avanzar en compromisos que permita...</td>\n",
       "      <td>8-Ecología_y_Planeta</td>\n",
       "    </tr>\n",
       "  </tbody>\n",
       "</table>\n",
       "<p>16780 rows × 4 columns</p>\n",
       "</div>"
      ],
      "text/plain": [
       "             id  \\\n",
       "0       6681503   \n",
       "1       6673026   \n",
       "2      14805458   \n",
       "3       6658352   \n",
       "4       5686808   \n",
       "...         ...   \n",
       "16775   5147536   \n",
       "16776   5163008   \n",
       "16777   5161965   \n",
       "16778  13395470   \n",
       "16779  19000405   \n",
       "\n",
       "                                                                                                             title  \\\n",
       "0                      Rusia responde a Alemania por caso Navalni: Denuncian \"acusaciones infundadas y ultimátums\"   \n",
       "1                                            La pandemia de coronavirus se acerca al millón de muertos en el mundo   \n",
       "2                                   Al menos siete muertos deja jornada de protestas contra la Policía en Colombia   \n",
       "3                                                                 Perú supera los 900 mil contagios de coronavirus   \n",
       "4                                        Biden asume como el Presidente número 46 de EE.UU. y promete unir al país   \n",
       "...                                                                                                            ...   \n",
       "16775                                    Hallan una población desconocida de ballenas azules por su singular canto   \n",
       "16776                          La basura de la pandemia: cientos de mascarillas recogieron del lago Leman de Suiza   \n",
       "16777                               Greenpeace España interviene monumento para advertir sobre el cambio climático   \n",
       "16778     Con gotas en diferentes comunas del país parte el sistema frontal que afectará desde Coquimbo a Los Ríos   \n",
       "16779  Raúl Sohr: “El 1% de la población emite el doble de gases invernadero que la mitad de la población mundial”   \n",
       "\n",
       "                                                                                                                                                                                                       content  \\\n",
       "0      Rusia responde a Alemania por caso Navalni: Denuncian \"acusaciones infundadas y ultimátums\". Rusia criticó el miércoles \"las acusaciones infundadas y los ultimátums\" por parte de Alemania, en torn...   \n",
       "1      La pandemia de coronavirus se acerca al millón de muertos en el mundo. Nueve meses después de su irrupción en China, la pandemia de coronavirus se acercaba este domingo a la cifra simbólica de un ...   \n",
       "2      Al menos siete muertos deja jornada de protestas contra la Policía en Colombia. Al menos  siete personas murieron  en la violenta jornada de protestas de anoche en Bogotá y otras ciudades de  Colo...   \n",
       "3      Perú supera los 900 mil contagios de coronavirus. Perú superó los 900 mil casos confirmados de coronavirus y registró una cifra de 34.411 fallecidos en el país. Según los datos suministrados por e...   \n",
       "4      Biden asume como el Presidente número 46 de EE.UU. y promete unir al país. En un día soleado en Washington D.C, Joe Biden asumió como el Presidente número 46 de Estados Unidos y en su primer discu...   \n",
       "...                                                                                                                                                                                                        ...   \n",
       "16775  Hallan una población desconocida de ballenas azules por su singular canto. La práctica de ‘escuchas’ submarinas que sigue las migraciones y la distribución de ballenas en los océanos puso al descu...   \n",
       "16776  La basura de la pandemia: cientos de mascarillas recogieron del lago Leman de Suiza. En el ámbito internacional, Suiza tiene la imagen de ser un país limpio, pero las apariencias engañan, según la...   \n",
       "16777  Greenpeace España interviene monumento para advertir sobre el cambio climático. Activistas de Greenpeace han colocado unas mascarillas gigantes a dos emblemáticas esculturas de Madrid y Valencia, ...   \n",
       "16778  Con gotas en diferentes comunas del país parte el sistema frontal que afectará desde Coquimbo a Los Ríos. Durante la mañana de este viernes ya comenzaron a caer gotas en diferentes zonas de la cap...   \n",
       "16779  Raúl Sohr: “El 1% de la población emite el doble de gases invernadero que la mitad de la población mundial”. El jueves comenzó la cumbre convocada por Biden para avanzar en compromisos que permita...   \n",
       "\n",
       "                   category  \n",
       "0                   1-Mundo  \n",
       "1                   1-Mundo  \n",
       "2                   1-Mundo  \n",
       "3                   1-Mundo  \n",
       "4                   1-Mundo  \n",
       "...                     ...  \n",
       "16775  8-Ecología_y_Planeta  \n",
       "16776  8-Ecología_y_Planeta  \n",
       "16777  8-Ecología_y_Planeta  \n",
       "16778  8-Ecología_y_Planeta  \n",
       "16779  8-Ecología_y_Planeta  \n",
       "\n",
       "[16780 rows x 4 columns]"
      ]
     },
     "execution_count": 7,
     "metadata": {},
     "output_type": "execute_result"
    }
   ],
   "source": [
    "df = df[['id', 'title', 'content', 'category']]\n",
    "df"
   ]
  },
  {
   "cell_type": "code",
   "execution_count": 8,
   "id": "2edc4240",
   "metadata": {},
   "outputs": [],
   "source": [
    "from sklearn.utils import shuffle\n",
    "df = shuffle(df, random_state=RANDOM_STATE)"
   ]
  },
  {
   "cell_type": "code",
   "execution_count": 9,
   "id": "0fdd4472",
   "metadata": {},
   "outputs": [],
   "source": [
    "import numpy as np\n",
    "from sklearn.model_selection import StratifiedShuffleSplit\n",
    "\n",
    "split = StratifiedShuffleSplit(n_splits=1, test_size=0.30, random_state=RANDOM_STATE)\n",
    "for train_index, test_valid_index in split.split(df, df.category):\n",
    "    train = df.iloc[train_index]\n",
    "    test_valid_set = df.iloc[test_valid_index]\n",
    "\n",
    "split2 = StratifiedShuffleSplit(n_splits=1, test_size=0.50, random_state=RANDOM_STATE)\n",
    "for test_index, valid_index in split2.split(test_valid_set, test_valid_set.category):\n",
    "    test = test_valid_set.iloc[test_index]\n",
    "    valid = test_valid_set.iloc[valid_index]\n",
    "\n",
    "\n",
    "#valid, test, train = np.split(df, [ int(.15*len(df)), int(.3*len(df))] )"
   ]
  },
  {
   "cell_type": "code",
   "execution_count": 10,
   "id": "d3d151c3",
   "metadata": {},
   "outputs": [
    {
     "name": "stdout",
     "output_type": "stream",
     "text": [
      "(16780, 4)\n",
      "(11746, 4)\n",
      "(2517, 4)\n",
      "(2517, 4)\n"
     ]
    }
   ],
   "source": [
    "print(df.shape)\n",
    "print(train.shape)\n",
    "print(valid.shape)\n",
    "print(test.shape)"
   ]
  },
  {
   "cell_type": "code",
   "execution_count": 11,
   "id": "f14a999d",
   "metadata": {},
   "outputs": [
    {
     "data": {
      "text/plain": [
       "category\n",
       "1-Mundo                        1175\n",
       "10-Salud                       1175\n",
       "2-Economía                     1174\n",
       "3-Política_y_Conflictos        1174\n",
       "4-Ciencias_y_Tecnología        1174\n",
       "5-Catástrofes_y_Accidentes     1175\n",
       "6-Cultura_y_Artes              1175\n",
       "7-Deporte                      1175\n",
       "8-Ecología_y_Planeta           1174\n",
       "9-Crimen_delitos_y_Justicia    1175\n",
       "dtype: int64"
      ]
     },
     "metadata": {},
     "output_type": "display_data"
    },
    {
     "data": {
      "text/plain": [
       "category\n",
       "1-Mundo                        252\n",
       "10-Salud                       251\n",
       "2-Economía                     252\n",
       "3-Política_y_Conflictos        252\n",
       "4-Ciencias_y_Tecnología        252\n",
       "5-Catástrofes_y_Accidentes     252\n",
       "6-Cultura_y_Artes              252\n",
       "7-Deporte                      251\n",
       "8-Ecología_y_Planeta           252\n",
       "9-Crimen_delitos_y_Justicia    251\n",
       "dtype: int64"
      ]
     },
     "metadata": {},
     "output_type": "display_data"
    },
    {
     "data": {
      "text/plain": [
       "category\n",
       "1-Mundo                        251\n",
       "10-Salud                       252\n",
       "2-Economía                     252\n",
       "3-Política_y_Conflictos        252\n",
       "4-Ciencias_y_Tecnología        252\n",
       "5-Catástrofes_y_Accidentes     251\n",
       "6-Cultura_y_Artes              251\n",
       "7-Deporte                      252\n",
       "8-Ecología_y_Planeta           252\n",
       "9-Crimen_delitos_y_Justicia    252\n",
       "dtype: int64"
      ]
     },
     "metadata": {},
     "output_type": "display_data"
    }
   ],
   "source": [
    "display(train.groupby(['category']).size())\n",
    "display(valid.groupby(['category']).size())\n",
    "display(test.groupby(['category']).size())"
   ]
  },
  {
   "cell_type": "code",
   "execution_count": 12,
   "id": "a162657f",
   "metadata": {},
   "outputs": [
    {
     "data": {
      "text/plain": [
       "array(['6-Cultura_y_Artes', '9-Crimen_delitos_y_Justicia', '2-Economía',\n",
       "       '10-Salud', '8-Ecología_y_Planeta', '5-Catástrofes_y_Accidentes',\n",
       "       '4-Ciencias_y_Tecnología', '3-Política_y_Conflictos', '7-Deporte',\n",
       "       '1-Mundo'], dtype=object)"
      ]
     },
     "execution_count": 12,
     "metadata": {},
     "output_type": "execute_result"
    }
   ],
   "source": [
    "test.category.unique()"
   ]
  },
  {
   "cell_type": "code",
   "execution_count": 13,
   "id": "03710320",
   "metadata": {},
   "outputs": [],
   "source": [
    "train.to_csv(\"CNN_train.csv\", encoding=\"UTF-8\",index=False)\n",
    "valid.to_csv(\"CNN_valid.csv\", encoding=\"UTF-8\",index=False)\n",
    "test.to_csv(\"CNN_test.csv\", encoding=\"UTF-8\",index=False)"
   ]
  },
  {
   "cell_type": "code",
   "execution_count": 14,
   "id": "6c9d4190",
   "metadata": {},
   "outputs": [],
   "source": [
    "import torch\n",
    "import spacy\n",
    "import random\n",
    "import torchtext\n",
    "from torchtext import data\n",
    "from torchtext.legacy import data"
   ]
  },
  {
   "cell_type": "code",
   "execution_count": 15,
   "id": "0913cadb",
   "metadata": {},
   "outputs": [],
   "source": [
    "#!python3 -m spacy download es_core_news_sm"
   ]
  },
  {
   "cell_type": "markdown",
   "id": "57579bb1",
   "metadata": {},
   "source": [
    "import spacy\n",
    "spacy_es = spacy.load('es_core_news_md')\n",
    "#spacy_es = spacy.load('es_core_news_sm')"
   ]
  },
  {
   "cell_type": "code",
   "execution_count": 16,
   "id": "ee584597",
   "metadata": {},
   "outputs": [],
   "source": [
    "\n",
    "TEXT = data.Field(tokenize=tokenizer, batch_first = True)\n",
    "CATEGORY = data.LabelField()  # MULTICLASS -se borró el argumento \"(dtype = torch.float)\""
   ]
  },
  {
   "cell_type": "code",
   "execution_count": 17,
   "id": "dab1fb95",
   "metadata": {},
   "outputs": [],
   "source": [
    "fields = [(None, None),(None, None),('content', TEXT),('category', CATEGORY)]"
   ]
  },
  {
   "cell_type": "code",
   "execution_count": 18,
   "id": "feb2054e",
   "metadata": {},
   "outputs": [
    {
     "name": "stdout",
     "output_type": "stream",
     "text": [
      "CPU times: user 15.5 s, sys: 533 ms, total: 16.1 s\n",
      "Wall time: 16.1 s\n"
     ]
    }
   ],
   "source": [
    "%%time\n",
    "import numpy as np\n",
    "\n",
    "SEED = RANDOM_STATE\n",
    "\n",
    "random.seed(SEED)\n",
    "np.random.seed(SEED)\n",
    "torch.manual_seed(SEED)\n",
    "torch.backends.cudnn.deterministic = True\n",
    "\n",
    "train_data, valid_data, test_data = data.TabularDataset.splits(\n",
    "                                        path = '.',\n",
    "                                        train = 'CNN_train.csv',\n",
    "                                        validation= 'CNN_valid.csv',\n",
    "                                        test = 'CNN_test.csv',\n",
    "                                        format = 'csv',\n",
    "                                        fields = fields,\n",
    "                                        skip_header = True\n",
    ")"
   ]
  },
  {
   "cell_type": "code",
   "execution_count": 19,
   "id": "6af4519c",
   "metadata": {},
   "outputs": [
    {
     "name": "stdout",
     "output_type": "stream",
     "text": [
      "cuda\n"
     ]
    }
   ],
   "source": [
    "device = torch.device('cuda' if torch.cuda.is_available() else 'cpu')\n",
    "# device = torch.device('cpu')\n",
    "DEVICE_NAME = str(device)\n",
    "\n",
    "print(DEVICE_NAME)\n",
    "\n",
    "train_iterator, valid_iterator, test_iterator = data.BucketIterator.splits(\n",
    "                                                    (train_data, valid_data, test_data), \n",
    "                                                    batch_size = BATCH_SIZE, \n",
    "                                                    device = device,\n",
    "                                                    sort_key=lambda x:len(x.category),\n",
    "                                                    sort_within_batch=False)"
   ]
  },
  {
   "cell_type": "code",
   "execution_count": 20,
   "id": "5483a566",
   "metadata": {},
   "outputs": [],
   "source": [
    "#!wget http://dcc.uchile.cl/~jperez/word-embeddings/glove-sbwc.i25.vec.gz"
   ]
  },
  {
   "cell_type": "code",
   "execution_count": 21,
   "id": "cd588094",
   "metadata": {},
   "outputs": [],
   "source": [
    "## TENER VECTORES EN ESPAÑOL\n",
    "vec = torchtext.vocab.Vectors('glove-sbwc.i25.vec.gz', cache='.')\n",
    "TEXT.build_vocab(train_data,\n",
    "                 vectors=vec,\n",
    "                 max_size=MAX_VOCAB_SIZE,\n",
    "                 unk_init=torch.Tensor.normal_)"
   ]
  },
  {
   "cell_type": "code",
   "execution_count": 22,
   "id": "3e831ca2",
   "metadata": {},
   "outputs": [],
   "source": [
    "CATEGORY.build_vocab(train_data)"
   ]
  },
  {
   "cell_type": "code",
   "execution_count": 23,
   "id": "03d3831a",
   "metadata": {},
   "outputs": [
    {
     "data": {
      "text/plain": [
       "{0: '1-Mundo',\n",
       " 1: '10-Salud',\n",
       " 2: '5-Catástrofes_y_Accidentes',\n",
       " 3: '6-Cultura_y_Artes',\n",
       " 4: '7-Deporte',\n",
       " 5: '9-Crimen_delitos_y_Justicia',\n",
       " 6: '2-Economía',\n",
       " 7: '3-Política_y_Conflictos',\n",
       " 8: '4-Ciencias_y_Tecnología',\n",
       " 9: '8-Ecología_y_Planeta'}"
      ]
     },
     "execution_count": 23,
     "metadata": {},
     "output_type": "execute_result"
    }
   ],
   "source": [
    "cat_map = { v: k for k, v in CATEGORY.vocab.stoi.items()}\n",
    "cat_map"
   ]
  },
  {
   "cell_type": "code",
   "execution_count": 24,
   "id": "7414cd46",
   "metadata": {},
   "outputs": [],
   "source": [
    "import torch.nn as nn\n",
    "import torch.nn.functional as F\n",
    "\n",
    "class CNN(nn.Module):\n",
    "    def __init__(self, vocab_size, embedding_dim, n_filters, filter_sizes, output_dim, \n",
    "                 dropout, pad_idx):\n",
    "        \n",
    "        super().__init__()\n",
    "        self.embedding = nn.Embedding(vocab_size, embedding_dim)\n",
    "        self.convs = nn.ModuleList([\n",
    "                                    nn.Conv1d(in_channels = 1, \n",
    "                                              out_channels = n_filters, \n",
    "                                              kernel_size = (fs, embedding_dim)) \n",
    "                                    for fs in filter_sizes\n",
    "                                    ])\n",
    "        \n",
    "        self.fc = nn.Linear(len(filter_sizes) * n_filters, output_dim)\n",
    "        self.dropout = nn.Dropout(dropout)\n",
    "        \n",
    "    def forward(self, text):\n",
    "        \n",
    "        #text = [sent len, batch size]\n",
    "        \n",
    "        #text = text.permute(1, 0)\n",
    "                \n",
    "        #text = [batch size, sent len]\n",
    "        \n",
    "        embedded = self.embedding(text)\n",
    "                \n",
    "        #embedded = [batch size, sent len, emb dim]\n",
    "        \n",
    "        embedded = embedded.unsqueeze(1)\n",
    "        \n",
    "        #embedded = [batch size, 1, sent len, emb dim]\n",
    "        \n",
    "        conved = [F.relu(conv(embedded)).squeeze(3) for conv in self.convs]\n",
    "            \n",
    "        #conv_n = [batch size, n_filters, sent len - filter_sizes[n]]\n",
    "        \n",
    "        pooled = [F.max_pool1d(conv, conv.shape[2]).squeeze(2) for conv in conved]\n",
    "        \n",
    "        #pooled_n = [batch size, n_filters]\n",
    "        \n",
    "        cat = self.dropout(torch.cat(pooled, dim = 1))\n",
    "\n",
    "        #cat = [batch size, n_filters * len(filter_sizes)]\n",
    "        \n",
    "        return self.fc(cat)"
   ]
  },
  {
   "cell_type": "code",
   "execution_count": 25,
   "id": "90137317",
   "metadata": {},
   "outputs": [],
   "source": [
    "PAD_IDX = TEXT.vocab.stoi[TEXT.pad_token]\n",
    "INPUT_DIM = len(TEXT.vocab)\n",
    "OUTPUT_DIM = len(CATEGORY.vocab) ##### MULTICLASS ---> la dimensión del output no es 1 (clasificación binaria)\n",
    "\n",
    "\n",
    "\n",
    "model = CNN(INPUT_DIM, EMBEDDING_DIM, N_FILTERS, FILTER_SIZES, OUTPUT_DIM, DROPOUT, PAD_IDX)\n",
    "model = model.to(device)"
   ]
  },
  {
   "cell_type": "code",
   "execution_count": 26,
   "id": "cbe779ab",
   "metadata": {},
   "outputs": [
    {
     "data": {
      "text/plain": [
       "10"
      ]
     },
     "execution_count": 26,
     "metadata": {},
     "output_type": "execute_result"
    }
   ],
   "source": [
    "OUTPUT_DIM"
   ]
  },
  {
   "cell_type": "code",
   "execution_count": 27,
   "id": "a9350e58",
   "metadata": {},
   "outputs": [
    {
     "name": "stdout",
     "output_type": "stream",
     "text": [
      "The model has 15,363,910 trainable parameters\n"
     ]
    }
   ],
   "source": [
    "def count_parameters(model):\n",
    "    return sum(p.numel() for p in model.parameters() if p.requires_grad)\n",
    "\n",
    "print(f'The model has {count_parameters(model):,} trainable parameters')"
   ]
  },
  {
   "cell_type": "code",
   "execution_count": 28,
   "id": "ca53842f",
   "metadata": {},
   "outputs": [],
   "source": [
    "pretrained_embeddings = TEXT.vocab.vectors\n",
    "UNK_IDX = TEXT.vocab.stoi[TEXT.unk_token]\n",
    "\n",
    "model.embedding.weight.data.copy_(pretrained_embeddings)\n",
    "model.embedding.weight.data[UNK_IDX] = torch.zeros(EMBEDDING_DIM)\n",
    "model.embedding.weight.data[PAD_IDX] = torch.zeros(EMBEDDING_DIM)\n",
    "model.embedding.weight.requires_grad = FREEZE_EMBEDDINGS"
   ]
  },
  {
   "cell_type": "code",
   "execution_count": 29,
   "id": "a0de2bc6",
   "metadata": {},
   "outputs": [],
   "source": [
    "import torch.optim as optim\n",
    "\n",
    "optimizer = optim.Adam(model.parameters(), lr=LR)\n",
    "\n",
    "criterion = nn.CrossEntropyLoss() #MULTICLASS ---> en lugar de .BCEWithLogitsLoss() (Binary Cross Entropy)\n",
    "\n",
    "\n",
    "criterion = criterion.to(device)"
   ]
  },
  {
   "cell_type": "code",
   "execution_count": 30,
   "id": "f336a003",
   "metadata": {},
   "outputs": [],
   "source": [
    "OPTIMIZER = type(optimizer).__name__\n",
    "CRITERION = type(criterion).__name__"
   ]
  },
  {
   "cell_type": "code",
   "execution_count": 31,
   "id": "9d72a0e1",
   "metadata": {},
   "outputs": [],
   "source": [
    "def train(model, iterator, optimizer, criterion, divisor):\n",
    "    \n",
    "    epoch_loss = 0\n",
    "    epoch_acc = 0\n",
    "    \n",
    "    model.train()\n",
    "    \n",
    "    for batch in tqdm(iterator, desc='train'):\n",
    "        \n",
    "        optimizer.zero_grad()\n",
    "        \n",
    "        #print(\"Tamaño texto de entrada:\"+str(batch.body.shape))\n",
    "        \n",
    "        predictions = model(batch.content)\n",
    "        \n",
    "        #print(\"Tamaño predecciones de salida:\"+str(predictions.shape)) \n",
    "        \n",
    "        #print(\"Tamaño target:\"+str(batch.category.shape)) \n",
    "        \n",
    "        loss = criterion(predictions, batch.category)\n",
    "        \n",
    "        acc = categorical_accuracy(predictions, batch.category, divisor)\n",
    "        \n",
    "        loss.backward()\n",
    "        \n",
    "        optimizer.step()\n",
    "        \n",
    "        epoch_loss += loss.item()\n",
    "        epoch_acc += acc.item()\n",
    "        \n",
    "    return epoch_loss / len(iterator), epoch_acc / len(iterator)"
   ]
  },
  {
   "cell_type": "code",
   "execution_count": 32,
   "id": "47e19de6",
   "metadata": {},
   "outputs": [],
   "source": [
    "import time\n",
    "\n",
    "def epoch_time(start_time, end_time):\n",
    "    elapsed_time = end_time - start_time\n",
    "    elapsed_mins = int(elapsed_time / 60)\n",
    "    elapsed_secs = int(elapsed_time - (elapsed_mins * 60))\n",
    "    return elapsed_mins, elapsed_secs"
   ]
  },
  {
   "cell_type": "code",
   "execution_count": 33,
   "id": "2381ff58",
   "metadata": {},
   "outputs": [],
   "source": [
    "def categorical_accuracy(preds, y, divisor):\n",
    "    \"\"\"\n",
    "    Returns accuracy per batch, i.e. if you get 8/10 right, this returns 0.8, NOT 8\n",
    "    \"\"\"\n",
    "    max_preds = preds.argmax(dim=1, keepdim=True) # get the index of the max probability\n",
    "    correct = max_preds.squeeze(1).eq(y)\n",
    "    return correct.sum() / divisor([y.shape[0]])"
   ]
  },
  {
   "cell_type": "code",
   "execution_count": 34,
   "id": "e41b871f",
   "metadata": {},
   "outputs": [],
   "source": [
    "def evaluate(model, iterator, criterion, divisor):\n",
    "    \n",
    "    epoch_loss = 0\n",
    "    epoch_acc = 0\n",
    "    \n",
    "    model.eval()\n",
    "    \n",
    "    with torch.no_grad():\n",
    "    \n",
    "        for batch in tqdm(iterator, desc='eval'):\n",
    "\n",
    "            predictions = model(batch.content)\n",
    "            loss = criterion(predictions, batch.category)\n",
    "            \n",
    "            acc = categorical_accuracy(predictions, batch.category, divisor)\n",
    "\n",
    "            epoch_loss += loss.item()\n",
    "            epoch_acc += acc.item()\n",
    "        \n",
    "    return epoch_loss / len(iterator), epoch_acc / len(iterator)\n",
    "\n"
   ]
  },
  {
   "cell_type": "code",
   "execution_count": 35,
   "id": "0f02b32e",
   "metadata": {},
   "outputs": [],
   "source": [
    "divisor = torch.FloatTensor if str(device) == 'cpu' else torch.cuda.FloatTensor"
   ]
  },
  {
   "cell_type": "code",
   "execution_count": 36,
   "id": "e3b9f24a",
   "metadata": {
    "scrolled": false
   },
   "outputs": [
    {
     "name": "stdout",
     "output_type": "stream",
     "text": [
      "inicio optimización\n"
     ]
    },
    {
     "name": "stderr",
     "output_type": "stream",
     "text": [
      "train: 100%|██████████████████████████████████| 184/184 [00:19<00:00,  9.35it/s]\n",
      "eval: 100%|█████████████████████████████████████| 40/40 [00:00<00:00, 49.95it/s]\n"
     ]
    },
    {
     "name": "stdout",
     "output_type": "stream",
     "text": [
      "Epoch: 01 | Epoch Time: 0m 20s\n",
      "\tTrain Loss: 1.496 | Train Acc: 52.05%\n",
      "\t Val. Loss: 0.843 |  Val. Acc: 76.95%\n"
     ]
    },
    {
     "name": "stderr",
     "output_type": "stream",
     "text": [
      "train: 100%|██████████████████████████████████| 184/184 [00:18<00:00, 10.18it/s]\n",
      "eval: 100%|█████████████████████████████████████| 40/40 [00:00<00:00, 50.27it/s]\n"
     ]
    },
    {
     "name": "stdout",
     "output_type": "stream",
     "text": [
      "Epoch: 02 | Epoch Time: 0m 18s\n",
      "\tTrain Loss: 0.826 | Train Acc: 73.76%\n",
      "\t Val. Loss: 0.631 |  Val. Acc: 80.27%\n"
     ]
    },
    {
     "name": "stderr",
     "output_type": "stream",
     "text": [
      "train: 100%|██████████████████████████████████| 184/184 [00:18<00:00, 10.19it/s]\n",
      "eval: 100%|█████████████████████████████████████| 40/40 [00:00<00:00, 45.48it/s]\n"
     ]
    },
    {
     "name": "stdout",
     "output_type": "stream",
     "text": [
      "Epoch: 03 | Epoch Time: 0m 18s\n",
      "\tTrain Loss: 0.636 | Train Acc: 80.32%\n",
      "\t Val. Loss: 0.561 |  Val. Acc: 82.15%\n"
     ]
    },
    {
     "name": "stderr",
     "output_type": "stream",
     "text": [
      "train: 100%|██████████████████████████████████| 184/184 [00:18<00:00,  9.79it/s]\n",
      "eval: 100%|█████████████████████████████████████| 40/40 [00:00<00:00, 49.41it/s]\n"
     ]
    },
    {
     "name": "stdout",
     "output_type": "stream",
     "text": [
      "Epoch: 04 | Epoch Time: 0m 19s\n",
      "\tTrain Loss: 0.510 | Train Acc: 84.24%\n",
      "\t Val. Loss: 0.521 |  Val. Acc: 83.63%\n"
     ]
    },
    {
     "name": "stderr",
     "output_type": "stream",
     "text": [
      "train: 100%|██████████████████████████████████| 184/184 [00:18<00:00,  9.97it/s]\n",
      "eval: 100%|█████████████████████████████████████| 40/40 [00:00<00:00, 49.81it/s]\n"
     ]
    },
    {
     "name": "stdout",
     "output_type": "stream",
     "text": [
      "Epoch: 05 | Epoch Time: 0m 19s\n",
      "\tTrain Loss: 0.408 | Train Acc: 87.68%\n",
      "\t Val. Loss: 0.493 |  Val. Acc: 83.94%\n"
     ]
    },
    {
     "name": "stderr",
     "output_type": "stream",
     "text": [
      "train: 100%|██████████████████████████████████| 184/184 [00:18<00:00,  9.92it/s]\n",
      "eval: 100%|█████████████████████████████████████| 40/40 [00:00<00:00, 49.41it/s]\n"
     ]
    },
    {
     "name": "stdout",
     "output_type": "stream",
     "text": [
      "Epoch: 06 | Epoch Time: 0m 19s\n",
      "\tTrain Loss: 0.318 | Train Acc: 90.65%\n",
      "\t Val. Loss: 0.475 |  Val. Acc: 84.57%\n"
     ]
    },
    {
     "name": "stderr",
     "output_type": "stream",
     "text": [
      "train: 100%|██████████████████████████████████| 184/184 [00:18<00:00,  9.79it/s]\n",
      "eval: 100%|█████████████████████████████████████| 40/40 [00:00<00:00, 44.67it/s]\n"
     ]
    },
    {
     "name": "stdout",
     "output_type": "stream",
     "text": [
      "Epoch: 07 | Epoch Time: 0m 19s\n",
      "\tTrain Loss: 0.255 | Train Acc: 92.50%\n",
      "\t Val. Loss: 0.463 |  Val. Acc: 84.49%\n"
     ]
    },
    {
     "name": "stderr",
     "output_type": "stream",
     "text": [
      "train: 100%|██████████████████████████████████| 184/184 [00:18<00:00,  9.82it/s]\n",
      "eval: 100%|█████████████████████████████████████| 40/40 [00:00<00:00, 48.99it/s]\n"
     ]
    },
    {
     "name": "stdout",
     "output_type": "stream",
     "text": [
      "Epoch: 08 | Epoch Time: 0m 19s\n",
      "\tTrain Loss: 0.207 | Train Acc: 94.24%\n",
      "\t Val. Loss: 0.458 |  Val. Acc: 85.19%\n"
     ]
    },
    {
     "name": "stderr",
     "output_type": "stream",
     "text": [
      "train: 100%|██████████████████████████████████| 184/184 [00:18<00:00,  9.95it/s]\n",
      "eval: 100%|█████████████████████████████████████| 40/40 [00:00<00:00, 49.05it/s]\n"
     ]
    },
    {
     "name": "stdout",
     "output_type": "stream",
     "text": [
      "Epoch: 09 | Epoch Time: 0m 19s\n",
      "\tTrain Loss: 0.160 | Train Acc: 95.81%\n",
      "\t Val. Loss: 0.460 |  Val. Acc: 84.96%\n"
     ]
    },
    {
     "name": "stderr",
     "output_type": "stream",
     "text": [
      "train: 100%|██████████████████████████████████| 184/184 [00:18<00:00,  9.93it/s]\n",
      "eval: 100%|█████████████████████████████████████| 40/40 [00:00<00:00, 48.19it/s]\n"
     ]
    },
    {
     "name": "stdout",
     "output_type": "stream",
     "text": [
      "Epoch: 10 | Epoch Time: 0m 19s\n",
      "\tTrain Loss: 0.125 | Train Acc: 96.77%\n",
      "\t Val. Loss: 0.459 |  Val. Acc: 85.12%\n"
     ]
    },
    {
     "name": "stderr",
     "output_type": "stream",
     "text": [
      "train: 100%|██████████████████████████████████| 184/184 [00:19<00:00,  9.67it/s]\n",
      "eval: 100%|█████████████████████████████████████| 40/40 [00:00<00:00, 44.99it/s]\n"
     ]
    },
    {
     "name": "stdout",
     "output_type": "stream",
     "text": [
      "Epoch: 11 | Epoch Time: 0m 19s\n",
      "\tTrain Loss: 0.099 | Train Acc: 97.62%\n",
      "\t Val. Loss: 0.468 |  Val. Acc: 85.35%\n"
     ]
    },
    {
     "name": "stderr",
     "output_type": "stream",
     "text": [
      "train: 100%|██████████████████████████████████| 184/184 [00:19<00:00,  9.62it/s]\n",
      "eval: 100%|█████████████████████████████████████| 40/40 [00:00<00:00, 47.25it/s]\n"
     ]
    },
    {
     "name": "stdout",
     "output_type": "stream",
     "text": [
      "Epoch: 12 | Epoch Time: 0m 19s\n",
      "\tTrain Loss: 0.076 | Train Acc: 98.45%\n",
      "\t Val. Loss: 0.475 |  Val. Acc: 85.31%\n"
     ]
    },
    {
     "name": "stderr",
     "output_type": "stream",
     "text": [
      "train: 100%|██████████████████████████████████| 184/184 [00:18<00:00,  9.78it/s]\n",
      "eval: 100%|█████████████████████████████████████| 40/40 [00:00<00:00, 46.98it/s]\n"
     ]
    },
    {
     "name": "stdout",
     "output_type": "stream",
     "text": [
      "Epoch: 13 | Epoch Time: 0m 19s\n",
      "\tTrain Loss: 0.062 | Train Acc: 98.63%\n",
      "\t Val. Loss: 0.479 |  Val. Acc: 85.39%\n"
     ]
    },
    {
     "name": "stderr",
     "output_type": "stream",
     "text": [
      "train: 100%|██████████████████████████████████| 184/184 [00:18<00:00,  9.86it/s]\n",
      "eval: 100%|█████████████████████████████████████| 40/40 [00:00<00:00, 48.78it/s]\n"
     ]
    },
    {
     "name": "stdout",
     "output_type": "stream",
     "text": [
      "Epoch: 14 | Epoch Time: 0m 19s\n",
      "\tTrain Loss: 0.053 | Train Acc: 98.86%\n",
      "\t Val. Loss: 0.486 |  Val. Acc: 85.23%\n"
     ]
    },
    {
     "name": "stderr",
     "output_type": "stream",
     "text": [
      "train: 100%|██████████████████████████████████| 184/184 [00:18<00:00,  9.79it/s]\n",
      "eval: 100%|█████████████████████████████████████| 40/40 [00:00<00:00, 46.13it/s]"
     ]
    },
    {
     "name": "stdout",
     "output_type": "stream",
     "text": [
      "Epoch: 15 | Epoch Time: 0m 19s\n",
      "\tTrain Loss: 0.045 | Train Acc: 99.12%\n",
      "\t Val. Loss: 0.496 |  Val. Acc: 85.55%\n"
     ]
    },
    {
     "name": "stderr",
     "output_type": "stream",
     "text": [
      "\n"
     ]
    }
   ],
   "source": [
    "from datetime import datetime\n",
    "from os import remove\n",
    "\n",
    "print(\"inicio optimización\")\n",
    "\n",
    "best_valid_loss = float('inf')\n",
    "last_best = None\n",
    "OVERWRITE_MODEL_FILE = True\n",
    "#for epoch in range(N_EPOCHS):\n",
    "for epoch in range(N_EPOCHS):\n",
    "\n",
    "    start_time = time.time()\n",
    "    train_loss, train_acc = train(model, train_iterator, optimizer, criterion, divisor)\n",
    "    valid_loss, valid_acc = evaluate(model, valid_iterator, criterion, divisor)\n",
    "    \n",
    "    end_time = time.time()\n",
    "\n",
    "    epoch_mins, epoch_secs = epoch_time(start_time, end_time)\n",
    "    \n",
    "\n",
    "    if valid_loss < best_valid_loss:\n",
    "        best_valid_loss = valid_loss\n",
    "        best_epoch = epoch + 1\n",
    "        dt = str(datetime.now()).replace(' ', '_')\n",
    "        name = f'./models/CNN_ep{str(best_epoch)}_{dt}.pt'\n",
    "        torch.save({'epoca': epoch,\n",
    "                    'model_state_dict': model.state_dict(),\n",
    "                    'optimizer_state_dict': optimizer.state_dict(),\n",
    "                    'Valid_loss': best_valid_loss}, name)\n",
    "        if OVERWRITE_MODEL_FILE and last_best is not None:\n",
    "            remove(last_best)\n",
    "            last_best = name\n",
    "        elif OVERWRITE_MODEL_FILE and last_best is None:\n",
    "            last_best = name\n",
    "    \n",
    "    print(f'Epoch: {epoch+1:02} | Epoch Time: {epoch_mins}m {epoch_secs}s')\n",
    "    print(f'\\tTrain Loss: {train_loss:.3f} | Train Acc: {train_acc*100:.2f}%')\n",
    "    print(f'\\t Val. Loss: {valid_loss:.3f} |  Val. Acc: {valid_acc*100:.2f}%')"
   ]
  },
  {
   "cell_type": "code",
   "execution_count": 37,
   "id": "a3082552",
   "metadata": {},
   "outputs": [
    {
     "data": {
      "text/plain": [
       "('./models/CNN_ep8_2021-12-13_18:27:38.301156.pt', 8)"
      ]
     },
     "execution_count": 37,
     "metadata": {},
     "output_type": "execute_result"
    }
   ],
   "source": [
    "name, best_epoch"
   ]
  },
  {
   "cell_type": "code",
   "execution_count": 38,
   "id": "63a67076",
   "metadata": {},
   "outputs": [],
   "source": [
    "best_model = CNN(INPUT_DIM,\n",
    "                 EMBEDDING_DIM,\n",
    "                 N_FILTERS,\n",
    "                 FILTER_SIZES,\n",
    "                 OUTPUT_DIM,\n",
    "                 DROPOUT,\n",
    "                 PAD_IDX)"
   ]
  },
  {
   "cell_type": "code",
   "execution_count": 39,
   "id": "467e4f87",
   "metadata": {},
   "outputs": [],
   "source": [
    "pretrained_embeddings = TEXT.vocab.vectors\n",
    "UNK_IDX = TEXT.vocab.stoi[TEXT.unk_token]\n",
    "\n",
    "best_model.embedding.weight.data.copy_(pretrained_embeddings)\n",
    "best_model.embedding.weight.data[UNK_IDX] = torch.zeros(EMBEDDING_DIM)\n",
    "best_model.embedding.weight.data[PAD_IDX] = torch.zeros(EMBEDDING_DIM)"
   ]
  },
  {
   "cell_type": "code",
   "execution_count": 40,
   "id": "2ec854dc",
   "metadata": {},
   "outputs": [],
   "source": [
    "# name = './models/CNN_ep8_2021-12-13_12:56:03.466749.pt'"
   ]
  },
  {
   "cell_type": "code",
   "execution_count": 41,
   "id": "c2555ca8",
   "metadata": {},
   "outputs": [
    {
     "data": {
      "text/plain": [
       "<All keys matched successfully>"
      ]
     },
     "execution_count": 41,
     "metadata": {},
     "output_type": "execute_result"
    }
   ],
   "source": [
    "best_model.load_state_dict(torch.load(name,\n",
    "                                      map_location=device)['model_state_dict'])"
   ]
  },
  {
   "cell_type": "code",
   "execution_count": 42,
   "id": "43a57dd3",
   "metadata": {},
   "outputs": [],
   "source": [
    "best_model = best_model.to(device)"
   ]
  },
  {
   "cell_type": "code",
   "execution_count": 43,
   "id": "84e763b6",
   "metadata": {},
   "outputs": [
    {
     "data": {
      "text/plain": [
       "True"
      ]
     },
     "execution_count": 43,
     "metadata": {},
     "output_type": "execute_result"
    }
   ],
   "source": [
    "next(best_model.parameters()).is_cuda"
   ]
  },
  {
   "cell_type": "code",
   "execution_count": 44,
   "id": "abc25c8f",
   "metadata": {},
   "outputs": [
    {
     "name": "stderr",
     "output_type": "stream",
     "text": [
      "eval: 100%|█████████████████████████████████████| 40/40 [00:00<00:00, 47.33it/s]"
     ]
    },
    {
     "name": "stdout",
     "output_type": "stream",
     "text": [
      "Test Loss: 0.471 | Test Acc: 85.46%\n"
     ]
    },
    {
     "name": "stderr",
     "output_type": "stream",
     "text": [
      "\n"
     ]
    }
   ],
   "source": [
    "best_model.eval()\n",
    "test_loss, test_acc = evaluate(best_model, test_iterator, criterion, divisor)\n",
    "\n",
    "print(f'Test Loss: {test_loss:.3f} | Test Acc: {test_acc*100:.2f}%')"
   ]
  },
  {
   "cell_type": "code",
   "execution_count": 45,
   "id": "9c45be3b",
   "metadata": {},
   "outputs": [
    {
     "name": "stderr",
     "output_type": "stream",
     "text": [
      "predictions: 100%|██████████████████████████████| 40/40 [00:11<00:00,  3.46it/s]\n"
     ]
    }
   ],
   "source": [
    "best_model = best_model.cpu()\n",
    "prediction_test = []\n",
    "labels_test=[]\n",
    "for batch in tqdm(test_iterator, desc='predictions'):\n",
    "    labels_test.append(batch.category.cpu().detach().numpy())\n",
    "    predictions = best_model(batch.content.cpu()).squeeze(1)\n",
    "    prediction_test.append(predictions.argmax(dim=1).detach().numpy())\n",
    "    \n",
    "y_true = np.concatenate(labels_test)\n",
    "y_pred = np.concatenate(prediction_test)"
   ]
  },
  {
   "cell_type": "code",
   "execution_count": 46,
   "id": "e652958f",
   "metadata": {},
   "outputs": [
    {
     "data": {
      "text/plain": [
       "['1-Mundo',\n",
       " '10-Salud',\n",
       " '5-Catástrofes_y_Accidentes',\n",
       " '6-Cultura_y_Artes',\n",
       " '7-Deporte',\n",
       " '9-Crimen_delitos_y_Justicia',\n",
       " '2-Economía',\n",
       " '3-Política_y_Conflictos',\n",
       " '4-Ciencias_y_Tecnología',\n",
       " '8-Ecología_y_Planeta']"
      ]
     },
     "execution_count": 46,
     "metadata": {},
     "output_type": "execute_result"
    }
   ],
   "source": [
    "lbs = list(cat_map.values())\n",
    "lbs"
   ]
  },
  {
   "cell_type": "code",
   "execution_count": 47,
   "id": "5862ecd3",
   "metadata": {},
   "outputs": [
    {
     "name": "stdout",
     "output_type": "stream",
     "text": [
      "Resultados clasificación\n",
      "CNN\n",
      "                             precision    recall  f1-score   support\n",
      "\n",
      "                    1-Mundo       0.80      0.83      0.81       251\n",
      "                   10-Salud       0.79      0.83      0.81       252\n",
      " 5-Catástrofes_y_Accidentes       0.89      0.92      0.90       251\n",
      "          6-Cultura_y_Artes       0.86      0.88      0.87       251\n",
      "                  7-Deporte       0.95      0.99      0.97       252\n",
      "9-Crimen_delitos_y_Justicia       0.88      0.81      0.84       252\n",
      "                 2-Economía       0.81      0.88      0.84       252\n",
      "    3-Política_y_Conflictos       0.82      0.76      0.79       252\n",
      "    4-Ciencias_y_Tecnología       0.86      0.76      0.81       252\n",
      "       8-Ecología_y_Planeta       0.89      0.88      0.89       252\n",
      "\n",
      "                   accuracy                           0.85      2517\n",
      "                  macro avg       0.86      0.85      0.85      2517\n",
      "               weighted avg       0.86      0.85      0.85      2517\n",
      "\n"
     ]
    }
   ],
   "source": [
    "from sklearn.metrics import confusion_matrix, classification_report\n",
    "%matplotlib notebook\n",
    "print('Resultados clasificación')\n",
    "print('CNN')\n",
    "print(classification_report(y_true,\n",
    "                            y_pred,\n",
    "                            target_names=lbs,))"
   ]
  },
  {
   "cell_type": "code",
   "execution_count": 48,
   "id": "9bc5fa47",
   "metadata": {},
   "outputs": [],
   "source": [
    "from my_funcs import plot_confusion_matrix"
   ]
  },
  {
   "cell_type": "code",
   "execution_count": 59,
   "id": "475692df",
   "metadata": {
    "scrolled": false
   },
   "outputs": [
    {
     "data": {
      "application/javascript": [
       "/* Put everything inside the global mpl namespace */\n",
       "/* global mpl */\n",
       "window.mpl = {};\n",
       "\n",
       "mpl.get_websocket_type = function () {\n",
       "    if (typeof WebSocket !== 'undefined') {\n",
       "        return WebSocket;\n",
       "    } else if (typeof MozWebSocket !== 'undefined') {\n",
       "        return MozWebSocket;\n",
       "    } else {\n",
       "        alert(\n",
       "            'Your browser does not have WebSocket support. ' +\n",
       "                'Please try Chrome, Safari or Firefox ≥ 6. ' +\n",
       "                'Firefox 4 and 5 are also supported but you ' +\n",
       "                'have to enable WebSockets in about:config.'\n",
       "        );\n",
       "    }\n",
       "};\n",
       "\n",
       "mpl.figure = function (figure_id, websocket, ondownload, parent_element) {\n",
       "    this.id = figure_id;\n",
       "\n",
       "    this.ws = websocket;\n",
       "\n",
       "    this.supports_binary = this.ws.binaryType !== undefined;\n",
       "\n",
       "    if (!this.supports_binary) {\n",
       "        var warnings = document.getElementById('mpl-warnings');\n",
       "        if (warnings) {\n",
       "            warnings.style.display = 'block';\n",
       "            warnings.textContent =\n",
       "                'This browser does not support binary websocket messages. ' +\n",
       "                'Performance may be slow.';\n",
       "        }\n",
       "    }\n",
       "\n",
       "    this.imageObj = new Image();\n",
       "\n",
       "    this.context = undefined;\n",
       "    this.message = undefined;\n",
       "    this.canvas = undefined;\n",
       "    this.rubberband_canvas = undefined;\n",
       "    this.rubberband_context = undefined;\n",
       "    this.format_dropdown = undefined;\n",
       "\n",
       "    this.image_mode = 'full';\n",
       "\n",
       "    this.root = document.createElement('div');\n",
       "    this.root.setAttribute('style', 'display: inline-block');\n",
       "    this._root_extra_style(this.root);\n",
       "\n",
       "    parent_element.appendChild(this.root);\n",
       "\n",
       "    this._init_header(this);\n",
       "    this._init_canvas(this);\n",
       "    this._init_toolbar(this);\n",
       "\n",
       "    var fig = this;\n",
       "\n",
       "    this.waiting = false;\n",
       "\n",
       "    this.ws.onopen = function () {\n",
       "        fig.send_message('supports_binary', { value: fig.supports_binary });\n",
       "        fig.send_message('send_image_mode', {});\n",
       "        if (fig.ratio !== 1) {\n",
       "            fig.send_message('set_device_pixel_ratio', {\n",
       "                device_pixel_ratio: fig.ratio,\n",
       "            });\n",
       "        }\n",
       "        fig.send_message('refresh', {});\n",
       "    };\n",
       "\n",
       "    this.imageObj.onload = function () {\n",
       "        if (fig.image_mode === 'full') {\n",
       "            // Full images could contain transparency (where diff images\n",
       "            // almost always do), so we need to clear the canvas so that\n",
       "            // there is no ghosting.\n",
       "            fig.context.clearRect(0, 0, fig.canvas.width, fig.canvas.height);\n",
       "        }\n",
       "        fig.context.drawImage(fig.imageObj, 0, 0);\n",
       "    };\n",
       "\n",
       "    this.imageObj.onunload = function () {\n",
       "        fig.ws.close();\n",
       "    };\n",
       "\n",
       "    this.ws.onmessage = this._make_on_message_function(this);\n",
       "\n",
       "    this.ondownload = ondownload;\n",
       "};\n",
       "\n",
       "mpl.figure.prototype._init_header = function () {\n",
       "    var titlebar = document.createElement('div');\n",
       "    titlebar.classList =\n",
       "        'ui-dialog-titlebar ui-widget-header ui-corner-all ui-helper-clearfix';\n",
       "    var titletext = document.createElement('div');\n",
       "    titletext.classList = 'ui-dialog-title';\n",
       "    titletext.setAttribute(\n",
       "        'style',\n",
       "        'width: 100%; text-align: center; padding: 3px;'\n",
       "    );\n",
       "    titlebar.appendChild(titletext);\n",
       "    this.root.appendChild(titlebar);\n",
       "    this.header = titletext;\n",
       "};\n",
       "\n",
       "mpl.figure.prototype._canvas_extra_style = function (_canvas_div) {};\n",
       "\n",
       "mpl.figure.prototype._root_extra_style = function (_canvas_div) {};\n",
       "\n",
       "mpl.figure.prototype._init_canvas = function () {\n",
       "    var fig = this;\n",
       "\n",
       "    var canvas_div = (this.canvas_div = document.createElement('div'));\n",
       "    canvas_div.setAttribute(\n",
       "        'style',\n",
       "        'border: 1px solid #ddd;' +\n",
       "            'box-sizing: content-box;' +\n",
       "            'clear: both;' +\n",
       "            'min-height: 1px;' +\n",
       "            'min-width: 1px;' +\n",
       "            'outline: 0;' +\n",
       "            'overflow: hidden;' +\n",
       "            'position: relative;' +\n",
       "            'resize: both;'\n",
       "    );\n",
       "\n",
       "    function on_keyboard_event_closure(name) {\n",
       "        return function (event) {\n",
       "            return fig.key_event(event, name);\n",
       "        };\n",
       "    }\n",
       "\n",
       "    canvas_div.addEventListener(\n",
       "        'keydown',\n",
       "        on_keyboard_event_closure('key_press')\n",
       "    );\n",
       "    canvas_div.addEventListener(\n",
       "        'keyup',\n",
       "        on_keyboard_event_closure('key_release')\n",
       "    );\n",
       "\n",
       "    this._canvas_extra_style(canvas_div);\n",
       "    this.root.appendChild(canvas_div);\n",
       "\n",
       "    var canvas = (this.canvas = document.createElement('canvas'));\n",
       "    canvas.classList.add('mpl-canvas');\n",
       "    canvas.setAttribute('style', 'box-sizing: content-box;');\n",
       "\n",
       "    this.context = canvas.getContext('2d');\n",
       "\n",
       "    var backingStore =\n",
       "        this.context.backingStorePixelRatio ||\n",
       "        this.context.webkitBackingStorePixelRatio ||\n",
       "        this.context.mozBackingStorePixelRatio ||\n",
       "        this.context.msBackingStorePixelRatio ||\n",
       "        this.context.oBackingStorePixelRatio ||\n",
       "        this.context.backingStorePixelRatio ||\n",
       "        1;\n",
       "\n",
       "    this.ratio = (window.devicePixelRatio || 1) / backingStore;\n",
       "\n",
       "    var rubberband_canvas = (this.rubberband_canvas = document.createElement(\n",
       "        'canvas'\n",
       "    ));\n",
       "    rubberband_canvas.setAttribute(\n",
       "        'style',\n",
       "        'box-sizing: content-box; position: absolute; left: 0; top: 0; z-index: 1;'\n",
       "    );\n",
       "\n",
       "    // Apply a ponyfill if ResizeObserver is not implemented by browser.\n",
       "    if (this.ResizeObserver === undefined) {\n",
       "        if (window.ResizeObserver !== undefined) {\n",
       "            this.ResizeObserver = window.ResizeObserver;\n",
       "        } else {\n",
       "            var obs = _JSXTOOLS_RESIZE_OBSERVER({});\n",
       "            this.ResizeObserver = obs.ResizeObserver;\n",
       "        }\n",
       "    }\n",
       "\n",
       "    this.resizeObserverInstance = new this.ResizeObserver(function (entries) {\n",
       "        var nentries = entries.length;\n",
       "        for (var i = 0; i < nentries; i++) {\n",
       "            var entry = entries[i];\n",
       "            var width, height;\n",
       "            if (entry.contentBoxSize) {\n",
       "                if (entry.contentBoxSize instanceof Array) {\n",
       "                    // Chrome 84 implements new version of spec.\n",
       "                    width = entry.contentBoxSize[0].inlineSize;\n",
       "                    height = entry.contentBoxSize[0].blockSize;\n",
       "                } else {\n",
       "                    // Firefox implements old version of spec.\n",
       "                    width = entry.contentBoxSize.inlineSize;\n",
       "                    height = entry.contentBoxSize.blockSize;\n",
       "                }\n",
       "            } else {\n",
       "                // Chrome <84 implements even older version of spec.\n",
       "                width = entry.contentRect.width;\n",
       "                height = entry.contentRect.height;\n",
       "            }\n",
       "\n",
       "            // Keep the size of the canvas and rubber band canvas in sync with\n",
       "            // the canvas container.\n",
       "            if (entry.devicePixelContentBoxSize) {\n",
       "                // Chrome 84 implements new version of spec.\n",
       "                canvas.setAttribute(\n",
       "                    'width',\n",
       "                    entry.devicePixelContentBoxSize[0].inlineSize\n",
       "                );\n",
       "                canvas.setAttribute(\n",
       "                    'height',\n",
       "                    entry.devicePixelContentBoxSize[0].blockSize\n",
       "                );\n",
       "            } else {\n",
       "                canvas.setAttribute('width', width * fig.ratio);\n",
       "                canvas.setAttribute('height', height * fig.ratio);\n",
       "            }\n",
       "            canvas.setAttribute(\n",
       "                'style',\n",
       "                'width: ' + width + 'px; height: ' + height + 'px;'\n",
       "            );\n",
       "\n",
       "            rubberband_canvas.setAttribute('width', width);\n",
       "            rubberband_canvas.setAttribute('height', height);\n",
       "\n",
       "            // And update the size in Python. We ignore the initial 0/0 size\n",
       "            // that occurs as the element is placed into the DOM, which should\n",
       "            // otherwise not happen due to the minimum size styling.\n",
       "            if (fig.ws.readyState == 1 && width != 0 && height != 0) {\n",
       "                fig.request_resize(width, height);\n",
       "            }\n",
       "        }\n",
       "    });\n",
       "    this.resizeObserverInstance.observe(canvas_div);\n",
       "\n",
       "    function on_mouse_event_closure(name) {\n",
       "        return function (event) {\n",
       "            return fig.mouse_event(event, name);\n",
       "        };\n",
       "    }\n",
       "\n",
       "    rubberband_canvas.addEventListener(\n",
       "        'mousedown',\n",
       "        on_mouse_event_closure('button_press')\n",
       "    );\n",
       "    rubberband_canvas.addEventListener(\n",
       "        'mouseup',\n",
       "        on_mouse_event_closure('button_release')\n",
       "    );\n",
       "    rubberband_canvas.addEventListener(\n",
       "        'dblclick',\n",
       "        on_mouse_event_closure('dblclick')\n",
       "    );\n",
       "    // Throttle sequential mouse events to 1 every 20ms.\n",
       "    rubberband_canvas.addEventListener(\n",
       "        'mousemove',\n",
       "        on_mouse_event_closure('motion_notify')\n",
       "    );\n",
       "\n",
       "    rubberband_canvas.addEventListener(\n",
       "        'mouseenter',\n",
       "        on_mouse_event_closure('figure_enter')\n",
       "    );\n",
       "    rubberband_canvas.addEventListener(\n",
       "        'mouseleave',\n",
       "        on_mouse_event_closure('figure_leave')\n",
       "    );\n",
       "\n",
       "    canvas_div.addEventListener('wheel', function (event) {\n",
       "        if (event.deltaY < 0) {\n",
       "            event.step = 1;\n",
       "        } else {\n",
       "            event.step = -1;\n",
       "        }\n",
       "        on_mouse_event_closure('scroll')(event);\n",
       "    });\n",
       "\n",
       "    canvas_div.appendChild(canvas);\n",
       "    canvas_div.appendChild(rubberband_canvas);\n",
       "\n",
       "    this.rubberband_context = rubberband_canvas.getContext('2d');\n",
       "    this.rubberband_context.strokeStyle = '#000000';\n",
       "\n",
       "    this._resize_canvas = function (width, height, forward) {\n",
       "        if (forward) {\n",
       "            canvas_div.style.width = width + 'px';\n",
       "            canvas_div.style.height = height + 'px';\n",
       "        }\n",
       "    };\n",
       "\n",
       "    // Disable right mouse context menu.\n",
       "    this.rubberband_canvas.addEventListener('contextmenu', function (_e) {\n",
       "        event.preventDefault();\n",
       "        return false;\n",
       "    });\n",
       "\n",
       "    function set_focus() {\n",
       "        canvas.focus();\n",
       "        canvas_div.focus();\n",
       "    }\n",
       "\n",
       "    window.setTimeout(set_focus, 100);\n",
       "};\n",
       "\n",
       "mpl.figure.prototype._init_toolbar = function () {\n",
       "    var fig = this;\n",
       "\n",
       "    var toolbar = document.createElement('div');\n",
       "    toolbar.classList = 'mpl-toolbar';\n",
       "    this.root.appendChild(toolbar);\n",
       "\n",
       "    function on_click_closure(name) {\n",
       "        return function (_event) {\n",
       "            return fig.toolbar_button_onclick(name);\n",
       "        };\n",
       "    }\n",
       "\n",
       "    function on_mouseover_closure(tooltip) {\n",
       "        return function (event) {\n",
       "            if (!event.currentTarget.disabled) {\n",
       "                return fig.toolbar_button_onmouseover(tooltip);\n",
       "            }\n",
       "        };\n",
       "    }\n",
       "\n",
       "    fig.buttons = {};\n",
       "    var buttonGroup = document.createElement('div');\n",
       "    buttonGroup.classList = 'mpl-button-group';\n",
       "    for (var toolbar_ind in mpl.toolbar_items) {\n",
       "        var name = mpl.toolbar_items[toolbar_ind][0];\n",
       "        var tooltip = mpl.toolbar_items[toolbar_ind][1];\n",
       "        var image = mpl.toolbar_items[toolbar_ind][2];\n",
       "        var method_name = mpl.toolbar_items[toolbar_ind][3];\n",
       "\n",
       "        if (!name) {\n",
       "            /* Instead of a spacer, we start a new button group. */\n",
       "            if (buttonGroup.hasChildNodes()) {\n",
       "                toolbar.appendChild(buttonGroup);\n",
       "            }\n",
       "            buttonGroup = document.createElement('div');\n",
       "            buttonGroup.classList = 'mpl-button-group';\n",
       "            continue;\n",
       "        }\n",
       "\n",
       "        var button = (fig.buttons[name] = document.createElement('button'));\n",
       "        button.classList = 'mpl-widget';\n",
       "        button.setAttribute('role', 'button');\n",
       "        button.setAttribute('aria-disabled', 'false');\n",
       "        button.addEventListener('click', on_click_closure(method_name));\n",
       "        button.addEventListener('mouseover', on_mouseover_closure(tooltip));\n",
       "\n",
       "        var icon_img = document.createElement('img');\n",
       "        icon_img.src = '_images/' + image + '.png';\n",
       "        icon_img.srcset = '_images/' + image + '_large.png 2x';\n",
       "        icon_img.alt = tooltip;\n",
       "        button.appendChild(icon_img);\n",
       "\n",
       "        buttonGroup.appendChild(button);\n",
       "    }\n",
       "\n",
       "    if (buttonGroup.hasChildNodes()) {\n",
       "        toolbar.appendChild(buttonGroup);\n",
       "    }\n",
       "\n",
       "    var fmt_picker = document.createElement('select');\n",
       "    fmt_picker.classList = 'mpl-widget';\n",
       "    toolbar.appendChild(fmt_picker);\n",
       "    this.format_dropdown = fmt_picker;\n",
       "\n",
       "    for (var ind in mpl.extensions) {\n",
       "        var fmt = mpl.extensions[ind];\n",
       "        var option = document.createElement('option');\n",
       "        option.selected = fmt === mpl.default_extension;\n",
       "        option.innerHTML = fmt;\n",
       "        fmt_picker.appendChild(option);\n",
       "    }\n",
       "\n",
       "    var status_bar = document.createElement('span');\n",
       "    status_bar.classList = 'mpl-message';\n",
       "    toolbar.appendChild(status_bar);\n",
       "    this.message = status_bar;\n",
       "};\n",
       "\n",
       "mpl.figure.prototype.request_resize = function (x_pixels, y_pixels) {\n",
       "    // Request matplotlib to resize the figure. Matplotlib will then trigger a resize in the client,\n",
       "    // which will in turn request a refresh of the image.\n",
       "    this.send_message('resize', { width: x_pixels, height: y_pixels });\n",
       "};\n",
       "\n",
       "mpl.figure.prototype.send_message = function (type, properties) {\n",
       "    properties['type'] = type;\n",
       "    properties['figure_id'] = this.id;\n",
       "    this.ws.send(JSON.stringify(properties));\n",
       "};\n",
       "\n",
       "mpl.figure.prototype.send_draw_message = function () {\n",
       "    if (!this.waiting) {\n",
       "        this.waiting = true;\n",
       "        this.ws.send(JSON.stringify({ type: 'draw', figure_id: this.id }));\n",
       "    }\n",
       "};\n",
       "\n",
       "mpl.figure.prototype.handle_save = function (fig, _msg) {\n",
       "    var format_dropdown = fig.format_dropdown;\n",
       "    var format = format_dropdown.options[format_dropdown.selectedIndex].value;\n",
       "    fig.ondownload(fig, format);\n",
       "};\n",
       "\n",
       "mpl.figure.prototype.handle_resize = function (fig, msg) {\n",
       "    var size = msg['size'];\n",
       "    if (size[0] !== fig.canvas.width || size[1] !== fig.canvas.height) {\n",
       "        fig._resize_canvas(size[0], size[1], msg['forward']);\n",
       "        fig.send_message('refresh', {});\n",
       "    }\n",
       "};\n",
       "\n",
       "mpl.figure.prototype.handle_rubberband = function (fig, msg) {\n",
       "    var x0 = msg['x0'] / fig.ratio;\n",
       "    var y0 = (fig.canvas.height - msg['y0']) / fig.ratio;\n",
       "    var x1 = msg['x1'] / fig.ratio;\n",
       "    var y1 = (fig.canvas.height - msg['y1']) / fig.ratio;\n",
       "    x0 = Math.floor(x0) + 0.5;\n",
       "    y0 = Math.floor(y0) + 0.5;\n",
       "    x1 = Math.floor(x1) + 0.5;\n",
       "    y1 = Math.floor(y1) + 0.5;\n",
       "    var min_x = Math.min(x0, x1);\n",
       "    var min_y = Math.min(y0, y1);\n",
       "    var width = Math.abs(x1 - x0);\n",
       "    var height = Math.abs(y1 - y0);\n",
       "\n",
       "    fig.rubberband_context.clearRect(\n",
       "        0,\n",
       "        0,\n",
       "        fig.canvas.width / fig.ratio,\n",
       "        fig.canvas.height / fig.ratio\n",
       "    );\n",
       "\n",
       "    fig.rubberband_context.strokeRect(min_x, min_y, width, height);\n",
       "};\n",
       "\n",
       "mpl.figure.prototype.handle_figure_label = function (fig, msg) {\n",
       "    // Updates the figure title.\n",
       "    fig.header.textContent = msg['label'];\n",
       "};\n",
       "\n",
       "mpl.figure.prototype.handle_cursor = function (fig, msg) {\n",
       "    fig.rubberband_canvas.style.cursor = msg['cursor'];\n",
       "};\n",
       "\n",
       "mpl.figure.prototype.handle_message = function (fig, msg) {\n",
       "    fig.message.textContent = msg['message'];\n",
       "};\n",
       "\n",
       "mpl.figure.prototype.handle_draw = function (fig, _msg) {\n",
       "    // Request the server to send over a new figure.\n",
       "    fig.send_draw_message();\n",
       "};\n",
       "\n",
       "mpl.figure.prototype.handle_image_mode = function (fig, msg) {\n",
       "    fig.image_mode = msg['mode'];\n",
       "};\n",
       "\n",
       "mpl.figure.prototype.handle_history_buttons = function (fig, msg) {\n",
       "    for (var key in msg) {\n",
       "        if (!(key in fig.buttons)) {\n",
       "            continue;\n",
       "        }\n",
       "        fig.buttons[key].disabled = !msg[key];\n",
       "        fig.buttons[key].setAttribute('aria-disabled', !msg[key]);\n",
       "    }\n",
       "};\n",
       "\n",
       "mpl.figure.prototype.handle_navigate_mode = function (fig, msg) {\n",
       "    if (msg['mode'] === 'PAN') {\n",
       "        fig.buttons['Pan'].classList.add('active');\n",
       "        fig.buttons['Zoom'].classList.remove('active');\n",
       "    } else if (msg['mode'] === 'ZOOM') {\n",
       "        fig.buttons['Pan'].classList.remove('active');\n",
       "        fig.buttons['Zoom'].classList.add('active');\n",
       "    } else {\n",
       "        fig.buttons['Pan'].classList.remove('active');\n",
       "        fig.buttons['Zoom'].classList.remove('active');\n",
       "    }\n",
       "};\n",
       "\n",
       "mpl.figure.prototype.updated_canvas_event = function () {\n",
       "    // Called whenever the canvas gets updated.\n",
       "    this.send_message('ack', {});\n",
       "};\n",
       "\n",
       "// A function to construct a web socket function for onmessage handling.\n",
       "// Called in the figure constructor.\n",
       "mpl.figure.prototype._make_on_message_function = function (fig) {\n",
       "    return function socket_on_message(evt) {\n",
       "        if (evt.data instanceof Blob) {\n",
       "            var img = evt.data;\n",
       "            if (img.type !== 'image/png') {\n",
       "                /* FIXME: We get \"Resource interpreted as Image but\n",
       "                 * transferred with MIME type text/plain:\" errors on\n",
       "                 * Chrome.  But how to set the MIME type?  It doesn't seem\n",
       "                 * to be part of the websocket stream */\n",
       "                img.type = 'image/png';\n",
       "            }\n",
       "\n",
       "            /* Free the memory for the previous frames */\n",
       "            if (fig.imageObj.src) {\n",
       "                (window.URL || window.webkitURL).revokeObjectURL(\n",
       "                    fig.imageObj.src\n",
       "                );\n",
       "            }\n",
       "\n",
       "            fig.imageObj.src = (window.URL || window.webkitURL).createObjectURL(\n",
       "                img\n",
       "            );\n",
       "            fig.updated_canvas_event();\n",
       "            fig.waiting = false;\n",
       "            return;\n",
       "        } else if (\n",
       "            typeof evt.data === 'string' &&\n",
       "            evt.data.slice(0, 21) === 'data:image/png;base64'\n",
       "        ) {\n",
       "            fig.imageObj.src = evt.data;\n",
       "            fig.updated_canvas_event();\n",
       "            fig.waiting = false;\n",
       "            return;\n",
       "        }\n",
       "\n",
       "        var msg = JSON.parse(evt.data);\n",
       "        var msg_type = msg['type'];\n",
       "\n",
       "        // Call the  \"handle_{type}\" callback, which takes\n",
       "        // the figure and JSON message as its only arguments.\n",
       "        try {\n",
       "            var callback = fig['handle_' + msg_type];\n",
       "        } catch (e) {\n",
       "            console.log(\n",
       "                \"No handler for the '\" + msg_type + \"' message type: \",\n",
       "                msg\n",
       "            );\n",
       "            return;\n",
       "        }\n",
       "\n",
       "        if (callback) {\n",
       "            try {\n",
       "                // console.log(\"Handling '\" + msg_type + \"' message: \", msg);\n",
       "                callback(fig, msg);\n",
       "            } catch (e) {\n",
       "                console.log(\n",
       "                    \"Exception inside the 'handler_\" + msg_type + \"' callback:\",\n",
       "                    e,\n",
       "                    e.stack,\n",
       "                    msg\n",
       "                );\n",
       "            }\n",
       "        }\n",
       "    };\n",
       "};\n",
       "\n",
       "// from https://stackoverflow.com/questions/1114465/getting-mouse-location-in-canvas\n",
       "mpl.findpos = function (e) {\n",
       "    //this section is from http://www.quirksmode.org/js/events_properties.html\n",
       "    var targ;\n",
       "    if (!e) {\n",
       "        e = window.event;\n",
       "    }\n",
       "    if (e.target) {\n",
       "        targ = e.target;\n",
       "    } else if (e.srcElement) {\n",
       "        targ = e.srcElement;\n",
       "    }\n",
       "    if (targ.nodeType === 3) {\n",
       "        // defeat Safari bug\n",
       "        targ = targ.parentNode;\n",
       "    }\n",
       "\n",
       "    // pageX,Y are the mouse positions relative to the document\n",
       "    var boundingRect = targ.getBoundingClientRect();\n",
       "    var x = e.pageX - (boundingRect.left + document.body.scrollLeft);\n",
       "    var y = e.pageY - (boundingRect.top + document.body.scrollTop);\n",
       "\n",
       "    return { x: x, y: y };\n",
       "};\n",
       "\n",
       "/*\n",
       " * return a copy of an object with only non-object keys\n",
       " * we need this to avoid circular references\n",
       " * https://stackoverflow.com/a/24161582/3208463\n",
       " */\n",
       "function simpleKeys(original) {\n",
       "    return Object.keys(original).reduce(function (obj, key) {\n",
       "        if (typeof original[key] !== 'object') {\n",
       "            obj[key] = original[key];\n",
       "        }\n",
       "        return obj;\n",
       "    }, {});\n",
       "}\n",
       "\n",
       "mpl.figure.prototype.mouse_event = function (event, name) {\n",
       "    var canvas_pos = mpl.findpos(event);\n",
       "\n",
       "    if (name === 'button_press') {\n",
       "        this.canvas.focus();\n",
       "        this.canvas_div.focus();\n",
       "    }\n",
       "\n",
       "    var x = canvas_pos.x * this.ratio;\n",
       "    var y = canvas_pos.y * this.ratio;\n",
       "\n",
       "    this.send_message(name, {\n",
       "        x: x,\n",
       "        y: y,\n",
       "        button: event.button,\n",
       "        step: event.step,\n",
       "        guiEvent: simpleKeys(event),\n",
       "    });\n",
       "\n",
       "    /* This prevents the web browser from automatically changing to\n",
       "     * the text insertion cursor when the button is pressed.  We want\n",
       "     * to control all of the cursor setting manually through the\n",
       "     * 'cursor' event from matplotlib */\n",
       "    event.preventDefault();\n",
       "    return false;\n",
       "};\n",
       "\n",
       "mpl.figure.prototype._key_event_extra = function (_event, _name) {\n",
       "    // Handle any extra behaviour associated with a key event\n",
       "};\n",
       "\n",
       "mpl.figure.prototype.key_event = function (event, name) {\n",
       "    // Prevent repeat events\n",
       "    if (name === 'key_press') {\n",
       "        if (event.key === this._key) {\n",
       "            return;\n",
       "        } else {\n",
       "            this._key = event.key;\n",
       "        }\n",
       "    }\n",
       "    if (name === 'key_release') {\n",
       "        this._key = null;\n",
       "    }\n",
       "\n",
       "    var value = '';\n",
       "    if (event.ctrlKey && event.key !== 'Control') {\n",
       "        value += 'ctrl+';\n",
       "    }\n",
       "    else if (event.altKey && event.key !== 'Alt') {\n",
       "        value += 'alt+';\n",
       "    }\n",
       "    else if (event.shiftKey && event.key !== 'Shift') {\n",
       "        value += 'shift+';\n",
       "    }\n",
       "\n",
       "    value += 'k' + event.key;\n",
       "\n",
       "    this._key_event_extra(event, name);\n",
       "\n",
       "    this.send_message(name, { key: value, guiEvent: simpleKeys(event) });\n",
       "    return false;\n",
       "};\n",
       "\n",
       "mpl.figure.prototype.toolbar_button_onclick = function (name) {\n",
       "    if (name === 'download') {\n",
       "        this.handle_save(this, null);\n",
       "    } else {\n",
       "        this.send_message('toolbar_button', { name: name });\n",
       "    }\n",
       "};\n",
       "\n",
       "mpl.figure.prototype.toolbar_button_onmouseover = function (tooltip) {\n",
       "    this.message.textContent = tooltip;\n",
       "};\n",
       "\n",
       "///////////////// REMAINING CONTENT GENERATED BY embed_js.py /////////////////\n",
       "// prettier-ignore\n",
       "var _JSXTOOLS_RESIZE_OBSERVER=function(A){var t,i=new WeakMap,n=new WeakMap,a=new WeakMap,r=new WeakMap,o=new Set;function s(e){if(!(this instanceof s))throw new TypeError(\"Constructor requires 'new' operator\");i.set(this,e)}function h(){throw new TypeError(\"Function is not a constructor\")}function c(e,t,i,n){e=0 in arguments?Number(arguments[0]):0,t=1 in arguments?Number(arguments[1]):0,i=2 in arguments?Number(arguments[2]):0,n=3 in arguments?Number(arguments[3]):0,this.right=(this.x=this.left=e)+(this.width=i),this.bottom=(this.y=this.top=t)+(this.height=n),Object.freeze(this)}function d(){t=requestAnimationFrame(d);var s=new WeakMap,p=new Set;o.forEach((function(t){r.get(t).forEach((function(i){var r=t instanceof window.SVGElement,o=a.get(t),d=r?0:parseFloat(o.paddingTop),f=r?0:parseFloat(o.paddingRight),l=r?0:parseFloat(o.paddingBottom),u=r?0:parseFloat(o.paddingLeft),g=r?0:parseFloat(o.borderTopWidth),m=r?0:parseFloat(o.borderRightWidth),w=r?0:parseFloat(o.borderBottomWidth),b=u+f,F=d+l,v=(r?0:parseFloat(o.borderLeftWidth))+m,W=g+w,y=r?0:t.offsetHeight-W-t.clientHeight,E=r?0:t.offsetWidth-v-t.clientWidth,R=b+v,z=F+W,M=r?t.width:parseFloat(o.width)-R-E,O=r?t.height:parseFloat(o.height)-z-y;if(n.has(t)){var k=n.get(t);if(k[0]===M&&k[1]===O)return}n.set(t,[M,O]);var S=Object.create(h.prototype);S.target=t,S.contentRect=new c(u,d,M,O),s.has(i)||(s.set(i,[]),p.add(i)),s.get(i).push(S)}))})),p.forEach((function(e){i.get(e).call(e,s.get(e),e)}))}return s.prototype.observe=function(i){if(i instanceof window.Element){r.has(i)||(r.set(i,new Set),o.add(i),a.set(i,window.getComputedStyle(i)));var n=r.get(i);n.has(this)||n.add(this),cancelAnimationFrame(t),t=requestAnimationFrame(d)}},s.prototype.unobserve=function(i){if(i instanceof window.Element&&r.has(i)){var n=r.get(i);n.has(this)&&(n.delete(this),n.size||(r.delete(i),o.delete(i))),n.size||r.delete(i),o.size||cancelAnimationFrame(t)}},A.DOMRectReadOnly=c,A.ResizeObserver=s,A.ResizeObserverEntry=h,A}; // eslint-disable-line\n",
       "mpl.toolbar_items = [[\"Home\", \"Reset original view\", \"fa fa-home icon-home\", \"home\"], [\"Back\", \"Back to previous view\", \"fa fa-arrow-left icon-arrow-left\", \"back\"], [\"Forward\", \"Forward to next view\", \"fa fa-arrow-right icon-arrow-right\", \"forward\"], [\"\", \"\", \"\", \"\"], [\"Pan\", \"Left button pans, Right button zooms\\nx/y fixes axis, CTRL fixes aspect\", \"fa fa-arrows icon-move\", \"pan\"], [\"Zoom\", \"Zoom to rectangle\\nx/y fixes axis\", \"fa fa-square-o icon-check-empty\", \"zoom\"], [\"\", \"\", \"\", \"\"], [\"Download\", \"Download plot\", \"fa fa-floppy-o icon-save\", \"download\"]];\n",
       "\n",
       "mpl.extensions = [\"eps\", \"jpeg\", \"pgf\", \"pdf\", \"png\", \"ps\", \"raw\", \"svg\", \"tif\"];\n",
       "\n",
       "mpl.default_extension = \"png\";/* global mpl */\n",
       "\n",
       "var comm_websocket_adapter = function (comm) {\n",
       "    // Create a \"websocket\"-like object which calls the given IPython comm\n",
       "    // object with the appropriate methods. Currently this is a non binary\n",
       "    // socket, so there is still some room for performance tuning.\n",
       "    var ws = {};\n",
       "\n",
       "    ws.binaryType = comm.kernel.ws.binaryType;\n",
       "    ws.readyState = comm.kernel.ws.readyState;\n",
       "    function updateReadyState(_event) {\n",
       "        if (comm.kernel.ws) {\n",
       "            ws.readyState = comm.kernel.ws.readyState;\n",
       "        } else {\n",
       "            ws.readyState = 3; // Closed state.\n",
       "        }\n",
       "    }\n",
       "    comm.kernel.ws.addEventListener('open', updateReadyState);\n",
       "    comm.kernel.ws.addEventListener('close', updateReadyState);\n",
       "    comm.kernel.ws.addEventListener('error', updateReadyState);\n",
       "\n",
       "    ws.close = function () {\n",
       "        comm.close();\n",
       "    };\n",
       "    ws.send = function (m) {\n",
       "        //console.log('sending', m);\n",
       "        comm.send(m);\n",
       "    };\n",
       "    // Register the callback with on_msg.\n",
       "    comm.on_msg(function (msg) {\n",
       "        //console.log('receiving', msg['content']['data'], msg);\n",
       "        var data = msg['content']['data'];\n",
       "        if (data['blob'] !== undefined) {\n",
       "            data = {\n",
       "                data: new Blob(msg['buffers'], { type: data['blob'] }),\n",
       "            };\n",
       "        }\n",
       "        // Pass the mpl event to the overridden (by mpl) onmessage function.\n",
       "        ws.onmessage(data);\n",
       "    });\n",
       "    return ws;\n",
       "};\n",
       "\n",
       "mpl.mpl_figure_comm = function (comm, msg) {\n",
       "    // This is the function which gets called when the mpl process\n",
       "    // starts-up an IPython Comm through the \"matplotlib\" channel.\n",
       "\n",
       "    var id = msg.content.data.id;\n",
       "    // Get hold of the div created by the display call when the Comm\n",
       "    // socket was opened in Python.\n",
       "    var element = document.getElementById(id);\n",
       "    var ws_proxy = comm_websocket_adapter(comm);\n",
       "\n",
       "    function ondownload(figure, _format) {\n",
       "        window.open(figure.canvas.toDataURL());\n",
       "    }\n",
       "\n",
       "    var fig = new mpl.figure(id, ws_proxy, ondownload, element);\n",
       "\n",
       "    // Call onopen now - mpl needs it, as it is assuming we've passed it a real\n",
       "    // web socket which is closed, not our websocket->open comm proxy.\n",
       "    ws_proxy.onopen();\n",
       "\n",
       "    fig.parent_element = element;\n",
       "    fig.cell_info = mpl.find_output_cell(\"<div id='\" + id + \"'></div>\");\n",
       "    if (!fig.cell_info) {\n",
       "        console.error('Failed to find cell for figure', id, fig);\n",
       "        return;\n",
       "    }\n",
       "    fig.cell_info[0].output_area.element.on(\n",
       "        'cleared',\n",
       "        { fig: fig },\n",
       "        fig._remove_fig_handler\n",
       "    );\n",
       "};\n",
       "\n",
       "mpl.figure.prototype.handle_close = function (fig, msg) {\n",
       "    var width = fig.canvas.width / fig.ratio;\n",
       "    fig.cell_info[0].output_area.element.off(\n",
       "        'cleared',\n",
       "        fig._remove_fig_handler\n",
       "    );\n",
       "    fig.resizeObserverInstance.unobserve(fig.canvas_div);\n",
       "\n",
       "    // Update the output cell to use the data from the current canvas.\n",
       "    fig.push_to_output();\n",
       "    var dataURL = fig.canvas.toDataURL();\n",
       "    // Re-enable the keyboard manager in IPython - without this line, in FF,\n",
       "    // the notebook keyboard shortcuts fail.\n",
       "    IPython.keyboard_manager.enable();\n",
       "    fig.parent_element.innerHTML =\n",
       "        '<img src=\"' + dataURL + '\" width=\"' + width + '\">';\n",
       "    fig.close_ws(fig, msg);\n",
       "};\n",
       "\n",
       "mpl.figure.prototype.close_ws = function (fig, msg) {\n",
       "    fig.send_message('closing', msg);\n",
       "    // fig.ws.close()\n",
       "};\n",
       "\n",
       "mpl.figure.prototype.push_to_output = function (_remove_interactive) {\n",
       "    // Turn the data on the canvas into data in the output cell.\n",
       "    var width = this.canvas.width / this.ratio;\n",
       "    var dataURL = this.canvas.toDataURL();\n",
       "    this.cell_info[1]['text/html'] =\n",
       "        '<img src=\"' + dataURL + '\" width=\"' + width + '\">';\n",
       "};\n",
       "\n",
       "mpl.figure.prototype.updated_canvas_event = function () {\n",
       "    // Tell IPython that the notebook contents must change.\n",
       "    IPython.notebook.set_dirty(true);\n",
       "    this.send_message('ack', {});\n",
       "    var fig = this;\n",
       "    // Wait a second, then push the new image to the DOM so\n",
       "    // that it is saved nicely (might be nice to debounce this).\n",
       "    setTimeout(function () {\n",
       "        fig.push_to_output();\n",
       "    }, 1000);\n",
       "};\n",
       "\n",
       "mpl.figure.prototype._init_toolbar = function () {\n",
       "    var fig = this;\n",
       "\n",
       "    var toolbar = document.createElement('div');\n",
       "    toolbar.classList = 'btn-toolbar';\n",
       "    this.root.appendChild(toolbar);\n",
       "\n",
       "    function on_click_closure(name) {\n",
       "        return function (_event) {\n",
       "            return fig.toolbar_button_onclick(name);\n",
       "        };\n",
       "    }\n",
       "\n",
       "    function on_mouseover_closure(tooltip) {\n",
       "        return function (event) {\n",
       "            if (!event.currentTarget.disabled) {\n",
       "                return fig.toolbar_button_onmouseover(tooltip);\n",
       "            }\n",
       "        };\n",
       "    }\n",
       "\n",
       "    fig.buttons = {};\n",
       "    var buttonGroup = document.createElement('div');\n",
       "    buttonGroup.classList = 'btn-group';\n",
       "    var button;\n",
       "    for (var toolbar_ind in mpl.toolbar_items) {\n",
       "        var name = mpl.toolbar_items[toolbar_ind][0];\n",
       "        var tooltip = mpl.toolbar_items[toolbar_ind][1];\n",
       "        var image = mpl.toolbar_items[toolbar_ind][2];\n",
       "        var method_name = mpl.toolbar_items[toolbar_ind][3];\n",
       "\n",
       "        if (!name) {\n",
       "            /* Instead of a spacer, we start a new button group. */\n",
       "            if (buttonGroup.hasChildNodes()) {\n",
       "                toolbar.appendChild(buttonGroup);\n",
       "            }\n",
       "            buttonGroup = document.createElement('div');\n",
       "            buttonGroup.classList = 'btn-group';\n",
       "            continue;\n",
       "        }\n",
       "\n",
       "        button = fig.buttons[name] = document.createElement('button');\n",
       "        button.classList = 'btn btn-default';\n",
       "        button.href = '#';\n",
       "        button.title = name;\n",
       "        button.innerHTML = '<i class=\"fa ' + image + ' fa-lg\"></i>';\n",
       "        button.addEventListener('click', on_click_closure(method_name));\n",
       "        button.addEventListener('mouseover', on_mouseover_closure(tooltip));\n",
       "        buttonGroup.appendChild(button);\n",
       "    }\n",
       "\n",
       "    if (buttonGroup.hasChildNodes()) {\n",
       "        toolbar.appendChild(buttonGroup);\n",
       "    }\n",
       "\n",
       "    // Add the status bar.\n",
       "    var status_bar = document.createElement('span');\n",
       "    status_bar.classList = 'mpl-message pull-right';\n",
       "    toolbar.appendChild(status_bar);\n",
       "    this.message = status_bar;\n",
       "\n",
       "    // Add the close button to the window.\n",
       "    var buttongrp = document.createElement('div');\n",
       "    buttongrp.classList = 'btn-group inline pull-right';\n",
       "    button = document.createElement('button');\n",
       "    button.classList = 'btn btn-mini btn-primary';\n",
       "    button.href = '#';\n",
       "    button.title = 'Stop Interaction';\n",
       "    button.innerHTML = '<i class=\"fa fa-power-off icon-remove icon-large\"></i>';\n",
       "    button.addEventListener('click', function (_evt) {\n",
       "        fig.handle_close(fig, {});\n",
       "    });\n",
       "    button.addEventListener(\n",
       "        'mouseover',\n",
       "        on_mouseover_closure('Stop Interaction')\n",
       "    );\n",
       "    buttongrp.appendChild(button);\n",
       "    var titlebar = this.root.querySelector('.ui-dialog-titlebar');\n",
       "    titlebar.insertBefore(buttongrp, titlebar.firstChild);\n",
       "};\n",
       "\n",
       "mpl.figure.prototype._remove_fig_handler = function (event) {\n",
       "    var fig = event.data.fig;\n",
       "    if (event.target !== this) {\n",
       "        // Ignore bubbled events from children.\n",
       "        return;\n",
       "    }\n",
       "    fig.close_ws(fig, {});\n",
       "};\n",
       "\n",
       "mpl.figure.prototype._root_extra_style = function (el) {\n",
       "    el.style.boxSizing = 'content-box'; // override notebook setting of border-box.\n",
       "};\n",
       "\n",
       "mpl.figure.prototype._canvas_extra_style = function (el) {\n",
       "    // this is important to make the div 'focusable\n",
       "    el.setAttribute('tabindex', 0);\n",
       "    // reach out to IPython and tell the keyboard manager to turn it's self\n",
       "    // off when our div gets focus\n",
       "\n",
       "    // location in version 3\n",
       "    if (IPython.notebook.keyboard_manager) {\n",
       "        IPython.notebook.keyboard_manager.register_events(el);\n",
       "    } else {\n",
       "        // location in version 2\n",
       "        IPython.keyboard_manager.register_events(el);\n",
       "    }\n",
       "};\n",
       "\n",
       "mpl.figure.prototype._key_event_extra = function (event, _name) {\n",
       "    // Check for shift+enter\n",
       "    if (event.shiftKey && event.which === 13) {\n",
       "        this.canvas_div.blur();\n",
       "        // select the cell after this one\n",
       "        var index = IPython.notebook.find_cell_index(this.cell_info[0]);\n",
       "        IPython.notebook.select(index + 1);\n",
       "    }\n",
       "};\n",
       "\n",
       "mpl.figure.prototype.handle_save = function (fig, _msg) {\n",
       "    fig.ondownload(fig, null);\n",
       "};\n",
       "\n",
       "mpl.find_output_cell = function (html_output) {\n",
       "    // Return the cell and output element which can be found *uniquely* in the notebook.\n",
       "    // Note - this is a bit hacky, but it is done because the \"notebook_saving.Notebook\"\n",
       "    // IPython event is triggered only after the cells have been serialised, which for\n",
       "    // our purposes (turning an active figure into a static one), is too late.\n",
       "    var cells = IPython.notebook.get_cells();\n",
       "    var ncells = cells.length;\n",
       "    for (var i = 0; i < ncells; i++) {\n",
       "        var cell = cells[i];\n",
       "        if (cell.cell_type === 'code') {\n",
       "            for (var j = 0; j < cell.output_area.outputs.length; j++) {\n",
       "                var data = cell.output_area.outputs[j];\n",
       "                if (data.data) {\n",
       "                    // IPython >= 3 moved mimebundle to data attribute of output\n",
       "                    data = data.data;\n",
       "                }\n",
       "                if (data['text/html'] === html_output) {\n",
       "                    return [cell, data, j];\n",
       "                }\n",
       "            }\n",
       "        }\n",
       "    }\n",
       "};\n",
       "\n",
       "// Register the function which deals with the matplotlib target/channel.\n",
       "// The kernel may be null if the page has been refreshed.\n",
       "if (IPython.notebook.kernel !== null) {\n",
       "    IPython.notebook.kernel.comm_manager.register_target(\n",
       "        'matplotlib',\n",
       "        mpl.mpl_figure_comm\n",
       "    );\n",
       "}\n"
      ],
      "text/plain": [
       "<IPython.core.display.Javascript object>"
      ]
     },
     "metadata": {},
     "output_type": "display_data"
    },
    {
     "data": {
      "text/html": [
       "<img src=\"data:image/png;base64,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\" width=\"700\">"
      ],
      "text/plain": [
       "<IPython.core.display.HTML object>"
      ]
     },
     "metadata": {},
     "output_type": "display_data"
    }
   ],
   "source": [
    "cm = confusion_matrix(y_true=y_true, y_pred=y_pred)\n",
    "plot_confusion_matrix(cm, labels=lbs)"
   ]
  },
  {
   "cell_type": "code",
   "execution_count": 50,
   "id": "be9357bf",
   "metadata": {},
   "outputs": [],
   "source": [
    "def predict_class(model, sentence, min_len = 4):\n",
    "\n",
    "    tokenized = tokenizer(sentence)\n",
    "    \n",
    "    if len(tokenized) < min_len:\n",
    "        tokenized += ['<pad>'] * (min_len - len(tokenized))\n",
    "    device = 'cpu'\n",
    "    indexed = [TEXT.vocab.stoi[t] for t in tokenized]\n",
    "    \n",
    "    tensor = torch.LongTensor(indexed).to(device)\n",
    "    tensor = tensor.unsqueeze(0)\n",
    "    preds = model(tensor)\n",
    "    print(preds)\n",
    "    max_preds = preds.argmax(dim = 1)\n",
    "    return max_preds.item()"
   ]
  },
  {
   "cell_type": "code",
   "execution_count": 51,
   "id": "2dee00fa",
   "metadata": {},
   "outputs": [
    {
     "name": "stderr",
     "output_type": "stream",
     "text": [
      "[W NNPACK.cpp:79] Could not initialize NNPACK! Reason: Unsupported hardware.\n"
     ]
    },
    {
     "name": "stdout",
     "output_type": "stream",
     "text": [
      "tensor([[ 0.0063, -0.0354, -0.2026,  0.2173, -0.1998, -0.1705, -0.0837,  0.1150,\n",
      "          0.1501, -0.1367]], grad_fn=<AddmmBackward0>)\n"
     ]
    },
    {
     "data": {
      "text/plain": [
       "'6-Cultura_y_Artes'"
      ]
     },
     "execution_count": 51,
     "metadata": {},
     "output_type": "execute_result"
    }
   ],
   "source": [
    "noticia = \"\"\"Sin embargo, estos experimentos se llevaban a cabo en secreto, y cuando otras secciones de Guardian se dieron cuenta, el proyecto se canceló de inmediato.\"\"\"\n",
    "cat_map.get(predict_class(best_model, noticia))"
   ]
  },
  {
   "cell_type": "code",
   "execution_count": 52,
   "id": "9c8c801e",
   "metadata": {},
   "outputs": [
    {
     "name": "stdout",
     "output_type": "stream",
     "text": [
      "tensor([[-0.2340, -0.4520, -2.2400,  1.2007,  2.5506, -1.9241, -0.1091, -0.9972,\n",
      "          0.8349, -1.1669]], grad_fn=<AddmmBackward0>)\n"
     ]
    },
    {
     "data": {
      "text/plain": [
       "'7-Deporte'"
      ]
     },
     "execution_count": 52,
     "metadata": {},
     "output_type": "execute_result"
    }
   ],
   "source": [
    "cat_map.get(predict_class(best_model, \"alexis y la copa america le pegoOoOooO\"))"
   ]
  },
  {
   "cell_type": "code",
   "execution_count": 53,
   "id": "85eb5e02",
   "metadata": {},
   "outputs": [
    {
     "name": "stdout",
     "output_type": "stream",
     "text": [
      "tensor([[-1.8258, -1.6885, -2.6427,  5.9611, -2.5693, -2.6762, -1.4923, -1.5334,\n",
      "          0.0179, -1.9997]], grad_fn=<AddmmBackward0>)\n"
     ]
    },
    {
     "data": {
      "text/plain": [
       "'6-Cultura_y_Artes'"
      ]
     },
     "execution_count": 53,
     "metadata": {},
     "output_type": "execute_result"
    }
   ],
   "source": [
    "noticia = \"\"\"Artistas mexicanos retoman los espacios públicos a través de la danza. Más de 120 artistas de 16 estados de México se reúnen para dar vida al Encuentro Nacional de Danza 2021. El evento cultural se lleva a cabo en distintos puntos de la capital del país, entre ellos el Complejo Cultural Los Pinos.\n",
    "\"\"\"\n",
    "cat_map.get(predict_class(best_model, noticia))"
   ]
  },
  {
   "cell_type": "markdown",
   "id": "38c132b2",
   "metadata": {},
   "source": [
    "# Comparar hiperparametros\n",
    "\n",
    "gaurdar parametros utilizados y algunas metricas en tabla resumen"
   ]
  },
  {
   "cell_type": "code",
   "execution_count": 54,
   "id": "fa388da3",
   "metadata": {},
   "outputs": [],
   "source": [
    "wanted_keys = ['test_loss', 'test_acc', 'best_valid_loss', 'LR', 'ds_name', 'MAX_LEN', 'DROPOUT', \n",
    "               'N_EPOCHS', 'best_epoch', 'dt', 'TOKENIZER', 'DEVICE_NAME', 'MAX_VOCAB_SIZE',\n",
    "               'RANDOM_STATE', 'BATCH_SIZE', 'EMBEDDING_DIM', 'N_FILTERS', 'FILTER_SIZES',\n",
    "               'OPTIMIZER', 'CRITERION', 'FREEZE_EMBEDDINGS',\n",
    "              ]"
   ]
  },
  {
   "cell_type": "code",
   "execution_count": 55,
   "id": "e0dd271c",
   "metadata": {},
   "outputs": [
    {
     "data": {
      "text/plain": [
       "{'test_loss': 0.47129129141103476,\n",
       " 'test_acc': 0.8546316966414451,\n",
       " 'best_valid_loss': 0.4578835460357368,\n",
       " 'LR': 0.0005,\n",
       " 'ds_name': 'ds_semibalanced_1678_rs5150.csv',\n",
       " 'MAX_LEN': 1400,\n",
       " 'DROPOUT': 0.65,\n",
       " 'N_EPOCHS': 15,\n",
       " 'best_epoch': 8,\n",
       " 'dt': '2021-12-13_18:27:38.301156',\n",
       " 'TOKENIZER': 'tokenize_es_c',\n",
       " 'DEVICE_NAME': 'cuda',\n",
       " 'MAX_VOCAB_SIZE': 50000,\n",
       " 'RANDOM_STATE': 8008,\n",
       " 'BATCH_SIZE': 64,\n",
       " 'EMBEDDING_DIM': 300,\n",
       " 'N_FILTERS': 100,\n",
       " 'FILTER_SIZES': [3, 4, 5],\n",
       " 'OPTIMIZER': 'Adam',\n",
       " 'CRITERION': 'CrossEntropyLoss',\n",
       " 'FREEZE_EMBEDDINGS': True}"
      ]
     },
     "execution_count": 55,
     "metadata": {},
     "output_type": "execute_result"
    }
   ],
   "source": [
    "from operator import itemgetter\n",
    "wanted_values = list(itemgetter(*wanted_keys)(globals()))\n",
    "hparams = dict(zip(wanted_keys, wanted_values))\n",
    "saved = False\n",
    "hparams"
   ]
  },
  {
   "cell_type": "code",
   "execution_count": 56,
   "id": "1e9daa6d",
   "metadata": {},
   "outputs": [],
   "source": [
    "import pickle\n",
    "try:\n",
    "    with open ('./cnn_info', 'rb') as fp:\n",
    "        attemps = pickle.load(fp)\n",
    "    if not saved:\n",
    "        attemps.append(hparams)\n",
    "        saved = True\n",
    "except FileNotFoundError:\n",
    "    print('cnn_info not found...')\n",
    "    attemps = [hparams]\n",
    "finally:\n",
    "    with open('./cnn_info', 'wb') as fp:\n",
    "        pickle.dump(attemps, fp)"
   ]
  },
  {
   "cell_type": "code",
   "execution_count": 61,
   "id": "05df6f23",
   "metadata": {},
   "outputs": [
    {
     "data": {
      "text/html": [
       "<div>\n",
       "<style scoped>\n",
       "    .dataframe tbody tr th:only-of-type {\n",
       "        vertical-align: middle;\n",
       "    }\n",
       "\n",
       "    .dataframe tbody tr th {\n",
       "        vertical-align: top;\n",
       "    }\n",
       "\n",
       "    .dataframe thead th {\n",
       "        text-align: right;\n",
       "    }\n",
       "</style>\n",
       "<table border=\"1\" class=\"dataframe\">\n",
       "  <thead>\n",
       "    <tr style=\"text-align: right;\">\n",
       "      <th></th>\n",
       "      <th>test_loss</th>\n",
       "      <th>test_acc</th>\n",
       "      <th>best_valid_loss</th>\n",
       "      <th>LR</th>\n",
       "      <th>TOKENIZER</th>\n",
       "      <th>MAX_LEN</th>\n",
       "      <th>ds_name</th>\n",
       "    </tr>\n",
       "  </thead>\n",
       "  <tbody>\n",
       "    <tr>\n",
       "      <th>0</th>\n",
       "      <td>0.568247</td>\n",
       "      <td>0.818934</td>\n",
       "      <td>0.571014</td>\n",
       "      <td>0.0005</td>\n",
       "      <td>tokenize_es_d</td>\n",
       "      <td>1400</td>\n",
       "      <td>ds_balanced_1430_rs8008.csv</td>\n",
       "    </tr>\n",
       "    <tr>\n",
       "      <th>1</th>\n",
       "      <td>0.577232</td>\n",
       "      <td>0.808503</td>\n",
       "      <td>0.579273</td>\n",
       "      <td>0.0005</td>\n",
       "      <td>tokenize_es_d</td>\n",
       "      <td>1400</td>\n",
       "      <td>ds_balanced_1430_rs8008.csv</td>\n",
       "    </tr>\n",
       "    <tr>\n",
       "      <th>2</th>\n",
       "      <td>0.514868</td>\n",
       "      <td>0.845238</td>\n",
       "      <td>0.487474</td>\n",
       "      <td>0.0005</td>\n",
       "      <td>tokenize_es_d</td>\n",
       "      <td>1600</td>\n",
       "      <td>ds_semibalanced_1678_rs5150.csv</td>\n",
       "    </tr>\n",
       "    <tr>\n",
       "      <th>3</th>\n",
       "      <td>0.555179</td>\n",
       "      <td>0.832738</td>\n",
       "      <td>0.522545</td>\n",
       "      <td>0.0005</td>\n",
       "      <td>tokenize_es_d</td>\n",
       "      <td>1200</td>\n",
       "      <td>ds_semibalanced_1678_rs5150.csv</td>\n",
       "    </tr>\n",
       "    <tr>\n",
       "      <th>4</th>\n",
       "      <td>0.496437</td>\n",
       "      <td>0.844885</td>\n",
       "      <td>0.470937</td>\n",
       "      <td>0.0005</td>\n",
       "      <td>tokenize_es_a</td>\n",
       "      <td>1200</td>\n",
       "      <td>ds_semibalanced_1678_rs5150.csv</td>\n",
       "    </tr>\n",
       "    <tr>\n",
       "      <th>5</th>\n",
       "      <td>0.505194</td>\n",
       "      <td>0.847600</td>\n",
       "      <td>0.484659</td>\n",
       "      <td>0.0005</td>\n",
       "      <td>tokenize_es_b</td>\n",
       "      <td>1200</td>\n",
       "      <td>ds_semibalanced_1678_rs5150.csv</td>\n",
       "    </tr>\n",
       "    <tr>\n",
       "      <th>6</th>\n",
       "      <td>0.477148</td>\n",
       "      <td>0.847972</td>\n",
       "      <td>0.478755</td>\n",
       "      <td>0.0005</td>\n",
       "      <td>tokenize_es_c</td>\n",
       "      <td>1200</td>\n",
       "      <td>ds_semibalanced_1678_rs5150.csv</td>\n",
       "    </tr>\n",
       "    <tr>\n",
       "      <th>7</th>\n",
       "      <td>0.471291</td>\n",
       "      <td>0.854632</td>\n",
       "      <td>0.457884</td>\n",
       "      <td>0.0005</td>\n",
       "      <td>tokenize_es_c</td>\n",
       "      <td>1400</td>\n",
       "      <td>ds_semibalanced_1678_rs5150.csv</td>\n",
       "    </tr>\n",
       "    <tr>\n",
       "      <th>8</th>\n",
       "      <td>0.508087</td>\n",
       "      <td>0.838834</td>\n",
       "      <td>0.513970</td>\n",
       "      <td>0.0005</td>\n",
       "      <td>tokenize_es_c</td>\n",
       "      <td>1400</td>\n",
       "      <td>ds_balanced_1430_rs8008.csv</td>\n",
       "    </tr>\n",
       "    <tr>\n",
       "      <th>9</th>\n",
       "      <td>0.471291</td>\n",
       "      <td>0.854632</td>\n",
       "      <td>0.457884</td>\n",
       "      <td>0.0005</td>\n",
       "      <td>tokenize_es_c</td>\n",
       "      <td>1400</td>\n",
       "      <td>ds_semibalanced_1678_rs5150.csv</td>\n",
       "    </tr>\n",
       "  </tbody>\n",
       "</table>\n",
       "</div>"
      ],
      "text/plain": [
       "   test_loss  test_acc  best_valid_loss      LR      TOKENIZER  MAX_LEN  \\\n",
       "0   0.568247  0.818934         0.571014  0.0005  tokenize_es_d     1400   \n",
       "1   0.577232  0.808503         0.579273  0.0005  tokenize_es_d     1400   \n",
       "2   0.514868  0.845238         0.487474  0.0005  tokenize_es_d     1600   \n",
       "3   0.555179  0.832738         0.522545  0.0005  tokenize_es_d     1200   \n",
       "4   0.496437  0.844885         0.470937  0.0005  tokenize_es_a     1200   \n",
       "5   0.505194  0.847600         0.484659  0.0005  tokenize_es_b     1200   \n",
       "6   0.477148  0.847972         0.478755  0.0005  tokenize_es_c     1200   \n",
       "7   0.471291  0.854632         0.457884  0.0005  tokenize_es_c     1400   \n",
       "8   0.508087  0.838834         0.513970  0.0005  tokenize_es_c     1400   \n",
       "9   0.471291  0.854632         0.457884  0.0005  tokenize_es_c     1400   \n",
       "\n",
       "                           ds_name  \n",
       "0      ds_balanced_1430_rs8008.csv  \n",
       "1      ds_balanced_1430_rs8008.csv  \n",
       "2  ds_semibalanced_1678_rs5150.csv  \n",
       "3  ds_semibalanced_1678_rs5150.csv  \n",
       "4  ds_semibalanced_1678_rs5150.csv  \n",
       "5  ds_semibalanced_1678_rs5150.csv  \n",
       "6  ds_semibalanced_1678_rs5150.csv  \n",
       "7  ds_semibalanced_1678_rs5150.csv  \n",
       "8      ds_balanced_1430_rs8008.csv  \n",
       "9  ds_semibalanced_1678_rs5150.csv  "
      ]
     },
     "execution_count": 61,
     "metadata": {},
     "output_type": "execute_result"
    }
   ],
   "source": [
    "pd.DataFrame(attemps[-10:], columns=wanted_keys[:4]+['TOKENIZER', 'MAX_LEN', 'ds_name'])"
   ]
  },
  {
   "cell_type": "code",
   "execution_count": 58,
   "id": "8e3e8b26",
   "metadata": {},
   "outputs": [
    {
     "ename": "NameError",
     "evalue": "name 'freno' is not defined",
     "output_type": "error",
     "traceback": [
      "\u001b[0;31m---------------------------------------------------------------------------\u001b[0m",
      "\u001b[0;31mNameError\u001b[0m                                 Traceback (most recent call last)",
      "\u001b[0;32m/tmp/ipykernel_16777/693989184.py\u001b[0m in \u001b[0;36m<module>\u001b[0;34m\u001b[0m\n\u001b[0;32m----> 1\u001b[0;31m \u001b[0mfreno\u001b[0m\u001b[0;34m(\u001b[0m\u001b[0;34m)\u001b[0m\u001b[0;34m\u001b[0m\u001b[0;34m\u001b[0m\u001b[0m\n\u001b[0m",
      "\u001b[0;31mNameError\u001b[0m: name 'freno' is not defined"
     ]
    }
   ],
   "source": [
    "freno()"
   ]
  },
  {
   "cell_type": "code",
   "execution_count": null,
   "id": "690be451",
   "metadata": {},
   "outputs": [],
   "source": [
    "wanted_keys = ['test_loss', 'test_acc', 'best_valid_loss', 'LR', 'ds_name', 'MAX_LEN', 'DROPOUT', \n",
    "               'N_EPOCHS', 'best_epoch', 'dt', 'DEVICE_NAME', 'MAX_VOCAB_SIZE',\n",
    "               'RANDOM_STATE', 'BATCH_SIZE', 'EMBEDDING_DIM', 'N_FILTERS', 'FILTER_SIZES',\n",
    "               'OPTIMIZER', 'CRITERION', 'FREEZE_EMBEDDINGS',\n",
    "              ]"
   ]
  },
  {
   "cell_type": "code",
   "execution_count": null,
   "id": "d2735ed1",
   "metadata": {},
   "outputs": [],
   "source": [
    "import pickle\n",
    "import pandas as pd\n",
    "with open ('./cnn_info', 'rb') as fp:\n",
    "    attemps = pickle.load(fp)\n",
    "pd.DataFrame(attemps[-9:], columns=wanted_keys)"
   ]
  }
 ],
 "metadata": {
  "kernelspec": {
   "display_name": "Python 3 (ipykernel)",
   "language": "python",
   "name": "python3"
  },
  "language_info": {
   "codemirror_mode": {
    "name": "ipython",
    "version": 3
   },
   "file_extension": ".py",
   "mimetype": "text/x-python",
   "name": "python",
   "nbconvert_exporter": "python",
   "pygments_lexer": "ipython3",
   "version": "3.9.7"
  },
  "toc": {
   "base_numbering": 1,
   "nav_menu": {},
   "number_sections": true,
   "sideBar": true,
   "skip_h1_title": false,
   "title_cell": "Table of Contents",
   "title_sidebar": "Contents",
   "toc_cell": false,
   "toc_position": {},
   "toc_section_display": true,
   "toc_window_display": false
  }
 },
 "nbformat": 4,
 "nbformat_minor": 5
}
