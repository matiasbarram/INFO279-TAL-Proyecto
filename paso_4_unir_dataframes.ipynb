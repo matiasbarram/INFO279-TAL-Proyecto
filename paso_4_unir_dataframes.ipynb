{
 "cells": [
  {
   "cell_type": "markdown",
   "metadata": {},
   "source": [
    "# Finalmente se unen los nuevos topicos con el dataset creado en el paso 1."
   ]
  },
  {
   "cell_type": "code",
   "execution_count": 2,
   "metadata": {},
   "outputs": [],
   "source": [
    "from os import listdir\n",
    "from os.path import join\n",
    "import pandas as pd"
   ]
  },
  {
   "cell_type": "markdown",
   "metadata": {},
   "source": [
    "### Se toman todos los archivos que fueron revisandos"
   ]
  },
  {
   "cell_type": "code",
   "execution_count": 3,
   "metadata": {},
   "outputs": [
    {
     "name": "stdout",
     "output_type": "stream",
     "text": [
      "df_full_paso_4.csv\n",
      "final_df_paso_1.csv\n",
      "extra_planeta_cnn.csv\n",
      "df_paso_2_1.csv\n",
      "ds_balanced_1043_rs5150.csv\n",
      "df_paso_2_2.csv\n",
      "extra_catastrofes_cnn.csv\n",
      "generated_planeta.csv\n",
      "df_paso_2_3.csv\n",
      "extra_cultura_cnn_2020-2021.csv\n",
      "generated_catastrofes.csv\n",
      "ds_semibalanced_1500_rs5150.csv\n",
      "df_paso_2_0.csv\n"
     ]
    }
   ],
   "source": [
    "dfs = []\n",
    "folder = './datasets/'\n",
    "for file in listdir(folder):\n",
    "    print(file)\n",
    "    if 'generated' not in file:\n",
    "        dfs.append(pd.read_csv(join(folder, file)))"
   ]
  },
  {
   "cell_type": "code",
   "execution_count": 4,
   "metadata": {},
   "outputs": [],
   "source": [
    "df = pd.concat(dfs)"
   ]
  },
  {
   "cell_type": "code",
   "execution_count": 5,
   "metadata": {},
   "outputs": [],
   "source": [
    "df.dropna(subset=['category'], inplace=True)\n",
    "df.drop_duplicates(subset=['title'], keep='last', inplace=True)"
   ]
  },
  {
   "cell_type": "code",
   "execution_count": 6,
   "metadata": {},
   "outputs": [],
   "source": [
    "df.reset_index(inplace=True)\n",
    "df = df[['id', 'title', 'content', 'category']]\n",
    "df.to_csv('./datasets/df_full_paso_4.csv', index=False)"
   ]
  },
  {
   "cell_type": "code",
   "execution_count": 8,
   "metadata": {},
   "outputs": [
    {
     "data": {
      "text/plain": [
       "category\n",
       "8-Ecología_y_Planeta           1043\n",
       "5-Catástrofes_y_Accidentes     1140\n",
       "6-Cultura_y_Artes              1658\n",
       "10-Salud                       2021\n",
       "2-Economía                     3494\n",
       "4-Ciencias_y_Tecnología        4266\n",
       "7-Deporte                      6702\n",
       "3-Política_y_Conflictos        7069\n",
       "9-Crimen_delitos_y_Justicia    7403\n",
       "1-Mundo                        8586\n",
       "dtype: int64"
      ]
     },
     "execution_count": 8,
     "metadata": {},
     "output_type": "execute_result"
    }
   ],
   "source": [
    "df.groupby(by='category').size().sort_values()"
   ]
  },
  {
   "cell_type": "code",
   "execution_count": 11,
   "metadata": {},
   "outputs": [
    {
     "data": {
      "text/plain": [
       "1043"
      ]
     },
     "execution_count": 11,
     "metadata": {},
     "output_type": "execute_result"
    }
   ],
   "source": [
    "grouped = df.groupby(by='category').size().sort_values()\n",
    "SAMPLE_SIZE = grouped[0]\n",
    "SAMPLE_SIZE"
   ]
  },
  {
   "cell_type": "code",
   "execution_count": 10,
   "metadata": {},
   "outputs": [],
   "source": [
    "RANDOM_STATE = 5150"
   ]
  },
  {
   "cell_type": "code",
   "execution_count": 37,
   "metadata": {},
   "outputs": [],
   "source": [
    "new_df = df.groupby('category').sample(n=SAMPLE_SIZE,\n",
    "                                             random_state=RANDOM_STATE)\n",
    "new_df.reset_index(drop=True, inplace=True)\n",
    "new_df.to_csv(f'./datasets/ds_balanced_{SAMPLE_SIZE}_rs{RANDOM_STATE}.csv', index=False)"
   ]
  },
  {
   "cell_type": "code",
   "execution_count": 12,
   "metadata": {},
   "outputs": [],
   "source": [
    "SAMPLE_SIZE = 1658\n",
    "_cols = ['5-Catástrofes_y_Accidentes', '8-Ecología_y_Planeta']\n",
    "new_df = df[~df['category'].isin(_cols)].groupby('category').sample(n=SAMPLE_SIZE,\n",
    "                                             random_state=RANDOM_STATE,\n",
    "                                            )\n",
    "\n",
    "xd =  df[df['category'].isin(_cols)].groupby('category').sample(n=SAMPLE_SIZE,\n",
    "                                                 random_state=RANDOM_STATE,\n",
    "                                                 replace=True\n",
    "                                            )"
   ]
  },
  {
   "cell_type": "code",
   "execution_count": 13,
   "metadata": {},
   "outputs": [],
   "source": [
    "semi_balanced = pd.concat([new_df, xd])\n",
    "semi_balanced.to_csv(f'./datasets/ds_semibalanced_{SAMPLE_SIZE}_rs{RANDOM_STATE}.csv',\n",
    "                               index=False)"
   ]
  },
  {
   "cell_type": "code",
   "execution_count": 14,
   "metadata": {},
   "outputs": [
    {
     "data": {
      "text/plain": [
       "category\n",
       "1-Mundo                        1658\n",
       "10-Salud                       1658\n",
       "2-Economía                     1658\n",
       "3-Política_y_Conflictos        1658\n",
       "4-Ciencias_y_Tecnología        1658\n",
       "5-Catástrofes_y_Accidentes     1658\n",
       "6-Cultura_y_Artes              1658\n",
       "7-Deporte                      1658\n",
       "8-Ecología_y_Planeta           1658\n",
       "9-Crimen_delitos_y_Justicia    1658\n",
       "dtype: int64"
      ]
     },
     "execution_count": 14,
     "metadata": {},
     "output_type": "execute_result"
    }
   ],
   "source": [
    "semi_balanced.groupby('category').size()"
   ]
  }
 ],
 "metadata": {
  "interpreter": {
   "hash": "fbf412f14d433c820b255ebb83645eab85c6651e2b9b7af16f0c5926e6ea919b"
  },
  "kernelspec": {
   "display_name": "Python 3 (ipykernel)",
   "language": "python",
   "name": "python3"
  },
  "language_info": {
   "codemirror_mode": {
    "name": "ipython",
    "version": 3
   },
   "file_extension": ".py",
   "mimetype": "text/x-python",
   "name": "python",
   "nbconvert_exporter": "python",
   "pygments_lexer": "ipython3",
   "version": "3.9.7"
  },
  "toc": {
   "base_numbering": 1,
   "nav_menu": {},
   "number_sections": true,
   "sideBar": true,
   "skip_h1_title": false,
   "title_cell": "Table of Contents",
   "title_sidebar": "Contents",
   "toc_cell": false,
   "toc_position": {},
   "toc_section_display": true,
   "toc_window_display": false
  }
 },
 "nbformat": 4,
 "nbformat_minor": 2
}
