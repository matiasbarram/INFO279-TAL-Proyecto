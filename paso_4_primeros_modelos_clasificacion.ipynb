{
 "cells": [
  {
   "cell_type": "markdown",
   "id": "3ac6f335",
   "metadata": {},
   "source": [
    "fase de clasificacion supervisada: preparar cuadernillos con los experimentos, explicar modelos utilizados (reg log, random forest ... cnn), comparar rendimiendo y buscar formas para mejorar"
   ]
  },
  {
   "cell_type": "markdown",
   "id": "a62d0faf",
   "metadata": {},
   "source": [
    "Una vez obtenido un dataset con suficientes noticias de cada categoria objetivo, procedimos a realizar los primeros entrenamientos de distintos modelos de clasificacion supervisada, contemplando tambien una fase de preprocesamiento de la entrada para mejorar en algunos aspectos y simplificar otros..."
   ]
  },
  {
   "cell_type": "markdown",
   "id": "6bda19ea",
   "metadata": {},
   "source": [
    "# Preprocesamiento"
   ]
  },
  {
   "cell_type": "markdown",
   "id": "b17a27f3",
   "metadata": {},
   "source": [
    "## Titulo y cuerpo de la noticia\n",
    "\n",
    "Como se comento en pasos anteriores, el titulo de una noticia es de gran importancia ya que concentra una gran cantidad de informacion, por lo que es una buena idea incluirlo dentro de los datos con los que se entrenaran nuestros modelos. El dataset contiene una columna 'content' en el que se encuentra el titulo de la noticia mas el cuerpo "
   ]
  },
  {
   "cell_type": "markdown",
   "id": "be5ad969",
   "metadata": {},
   "source": [
    "..."
   ]
  },
  {
   "cell_type": "code",
   "execution_count": 1,
   "id": "4cd1622c",
   "metadata": {},
   "outputs": [],
   "source": [
    "import pandas as pd\n",
    "from pandasql import sqldf"
   ]
  },
  {
   "cell_type": "code",
   "execution_count": 2,
   "id": "276097bd",
   "metadata": {},
   "outputs": [],
   "source": [
    "\n",
    "\n",
    "df = pd.read_csv('dataset_paso_3.csv')"
   ]
  },
  {
   "cell_type": "code",
   "execution_count": 3,
   "id": "a2277684",
   "metadata": {},
   "outputs": [
    {
     "data": {
      "text/html": [
       "<div>\n",
       "<style scoped>\n",
       "    .dataframe tbody tr th:only-of-type {\n",
       "        vertical-align: middle;\n",
       "    }\n",
       "\n",
       "    .dataframe tbody tr th {\n",
       "        vertical-align: top;\n",
       "    }\n",
       "\n",
       "    .dataframe thead th {\n",
       "        text-align: right;\n",
       "    }\n",
       "</style>\n",
       "<table border=\"1\" class=\"dataframe\">\n",
       "  <thead>\n",
       "    <tr style=\"text-align: right;\">\n",
       "      <th></th>\n",
       "      <th>title</th>\n",
       "      <th>content</th>\n",
       "    </tr>\n",
       "  </thead>\n",
       "  <tbody>\n",
       "    <tr>\n",
       "      <th>0</th>\n",
       "      <td>Vacunación en Chile empezaría primer trimestre del 2021 e incluiría a 15,2 millones de personas</td>\n",
       "      <td>Vacunación en Chile empezaría primer trimestre del 2021 e incluiría a 15,2 millones de personas.  Este martes, el Presidente Sebastián Piñera anunció que el plan de vacunación para combatir el cor...</td>\n",
       "    </tr>\n",
       "  </tbody>\n",
       "</table>\n",
       "</div>"
      ],
      "text/plain": [
       "                                                                                             title  \\\n",
       "0  Vacunación en Chile empezaría primer trimestre del 2021 e incluiría a 15,2 millones de personas   \n",
       "\n",
       "                                                                                                                                                                                                   content  \n",
       "0  Vacunación en Chile empezaría primer trimestre del 2021 e incluiría a 15,2 millones de personas.  Este martes, el Presidente Sebastián Piñera anunció que el plan de vacunación para combatir el cor...  "
      ]
     },
     "execution_count": 3,
     "metadata": {},
     "output_type": "execute_result"
    }
   ],
   "source": [
    "pd.set_option('display.max_colwidth', 200)\n",
    "df[['title', 'content']].head(1)"
   ]
  },
  {
   "cell_type": "markdown",
   "id": "35d6ea44",
   "metadata": {},
   "source": [
    "## Truncar contenido\n",
    "\n",
    "\n",
    "habria que probar si esto mejora los pasos anteriores (lda) xd"
   ]
  },
  {
   "cell_type": "code",
   "execution_count": 4,
   "id": "a7ce40d8",
   "metadata": {},
   "outputs": [
    {
     "data": {
      "text/plain": [
       "'Chile: El plebiscito amenazado.  “Los guerreros victoriosos ganan primero y luego van a la guerra, mientras que los guerreros derrotados van a la guerra primero y luego buscan ganar” Sun Tzu 1.-Resumen Ante el próximo plebiscito por una nueva constitución, se analiza y evalúa la actual ofensiva de parte de la derecha para su neutralización. Se busca evitar la opción de Piñera de no realizar el plebiscito, haciendo del apruebo un consenso de gobierno y oposición, generando una situación en que todos estamos por el apruebo, evitando así el triunfo del progresismo y la ciudadanía. Por Alejandro Navarro Brain 2.- Escenarios de la votación para el 25 de octubre 2.1.- Alta participación y alta diferencia de votos 2.2.- Alta participación y baja diferencia de votos 2.3.- Baja participación y alta diferencia de votos 2.4.- Baja participación y baja diferencia de votos. 3.- Estrategias de campaña de la derecha en el plebiscito 3.1.-Pandemia, miedo y abstención: Con la situación de la pandemia, la derecha aspira a generar una situación como la 2.3 o 2.4 3.2.- La suspensión o dilución del plebiscito de entrada: la derecha quiere evitar cargar la cruz de la derrota del rechazo,y neutralizar el apruebo sumándose a él. Por otro lado,un paso directo a la Convención Constitucional, planteado por Piñera como una concesión, es la fórmula que busca revalorizar la figura presidencial 4.- Las cuatro tesis paralelas de la derecha 4.1.- La tesis José Antonio Kast, que busca suspender el plebiscito de manera indefinida, cuestionando también la legitimidad del mismo. 4.2.- La tesis Van Rysselberghe, que ha planteado públicamente la opción de abstenerse de votar en el plebiscito. 4.3.- La tesis Longueira: Que busca hacer que el apruebo sea de todos los sectores, y de esta manera, neutralizar sus efectos políticos 4.4.- La tesis Allamand: Busca que el gobierno se sume al rechazo, y que se pueda reducir la diferencia entre ambas alternativas. 5.- Seis acciones inmediatas ante la ofensiva de la derecha El progresismo y la izquierda no están discutiendo política. Creemos que el plebiscito no está ganado, está amenazado, frente a ello, proponemos seis acciones 5.1.- Definir el criterio sanitario para la realización del plebiscito, frente a una postergación. 5.2.- Definir ahora el itinerario de fechas frente dicha postergación . Planteamos que si el 25 de octubre no es posible, debe realizarse el 22 de noviembre, de no ser posible en esta fecha, el 20 de diciembre, como fecha definitiva, debemos considerar al 17 de enero de 2021. 5.3.- Evitar que Piñera se sume al apruebo y proponga la suspensión definitiva del plebiscito de entrada. 5.4.- Asumir la elección del 11 de abril como la elección decisiva, y definir una estrategia electoral que busque OBTENER MÁS DE ⅔ de la Convención Constitucional 5.5.- Adelantar las candidaturas constituyentes, no esperar al día después del plebiscito. Es necesario darle rostro, nombre y territorio específico AHORA MISMO a [email\\xa0protected] futuros constituyentes 5.6.- Darle contenido progresista y concreto a la campaña del plebiscito, asumiendo el apruebo por todos y cada uno de los derechos. Yo apruebo por recuperar el agua, apruebo por el derecho a huelga, apruebo terminar con las AFP. Y evitar así que el apruebo se convierta en un significante vacío. Documento de análisis: el plebiscito amenazado Chile y la oposición política, enfrentan una encrucijada vital y decisiva para los próximos 50 años. Muchos habían señalado que la transición en Chile no ter- minaba con la llegada de un socialista a La Moneda, con la hija de un general asesinado por Pinochet, o con la llegada de la derecha a La Moneda. La transición termina, y a la vez comienza, con la construcción de una nueva Constitución, que fue el constructo ideológico para mantener el neo-liberalismo instalado por la Constitución de 1980. Durante 40 años de elecciones democráticas fue imposible remover su esencia, y está claro que a pesar de que la Constitución lleva hoy la firma de Ricardo Lagos Escobar, sigue siendo la Constitución de Augusto Pinochet Ugarte. Nadie hubiera imaginado que la Nueva Constitución sería el elemento esencial de la ciudadanía y de la política, al igual que cuando los pingüinos el 2006 pusieron el fin de la LOCE sin que ella estuviera en el programa de gobierno, botaron al ministro de educación en 4 meses, y el gobierno de Bachelet tuvo que incorporar sus demandas. El 2019, tras saltar el torniquete, los pingüinos volvieron a instalar en la agenda política la idea de la dignidad, y el paso siguiente fue la nueva Constitu- ción. Estamos discutiendo estos temas, no por la voluntad de la élite de avanzar, sino porque la ciudadanía avanzó, hastiada y abandonada. Esa es la base del es- tallido social del 18 de octubre de 2019. Tras los subsecuentes meses de protestas que recorrieron el país, el cam- po político se vio forzado a entregar una salida constituyente al conflicto, con la finalidad de retomar el control institucional sobre el territorio. Cuestionada la legitimidad del modelo de desarrollo, un plebiscito pa- reció ser la única salida capaz de apaciguar a la población y evitar recurrir a méto- dos más violentos que los que ya se habían desplegado durante el desarrollo de las protestas. Sabemos que va a haber una nueva Constitución, la pregunta es; ¿Qué tipo de Constitución va a haber? No obstante, existe un nuevo escenario, cuyo análisis no se ha profun- dizado desde el progresismo y la denominada oposición política a Piñera. La actual coyuntura se encuentra forzada por la pandemia del COVID-19 y por la ofensiva sincronizada de la derecha y el empresariado, por diluir el enfren- tamiento del Apruebo y concentrarse en obtener el tercio necesario para una Constitución minimalista o, definitivamente, una nueva Constitución como continuidad a la Constitución del 80’. Es cada día más claro que si los comicios se efectúan en un contexto de alta tasa de contagios, se corre el riesgo de disminuir significativamente la participación absoluta de la ciudadanía, lo que será utilizado para buscar restar legitimidad a los resultados de la instancia, a pesar de que el este pueda ser favo- rable para la oposición. La irrupción de la pandemia Los meses que siguieron a la convocatoria del plebiscito en noviembre, es- tuvieron caracterizados por una lenta declinación de las protestas y el progresivo encauzamiento institucional de las demandas. El 18 de octubre fue un momento destituyente, un movimiento que ho- mogeneizó al campo social, en oposición al campo político. De ahí que el plebisci- to constitucional deba ser leído, en realidad, como un intento del campo político por regenerarse y volver a tomar el control de la situación, frente a una imposibili- dad del campo social para generar orgánicas políticas propias que intervengan el campo político. El acuerdo del 15 de noviembre, que contó con el apoyo de los partidos tradicionales y la marginación de otras fuerzas políticas, introdujo nuevamente la exclusión del campo social, inaugurando un momento constituyente pero con las orgánicas políticas del poder constituido, y sin integración de los agentes cla- ves que forzaron a la derecha a la más importante decisión de los últimos 40 años; tener que abrirse al debate y construcción de una nueva Constitución. El 3 de marzo irrumpió el COVID-19 en Chile, con un gobierno en un míni- mo histórico de apoyo ciudadano (6%), con el poder coactivo -Fuerzas Armadas y de Orden- deslegitimado y con un campo político intentando recomponerse, me- diante una oposición que no lograba capitalizar el descontento social. En esa lí- nea, la propuesta de construir una nueva Constitución vino a transformar la ener- gía destituyente en constituyente. Como un nuevo actor de incidencia política y social, el COVID-19 generó un movimiento de disgregación, volviendo la preocupación de las personas a lo privado y a la supervivencia cotidiana. Si el 18 de octubre produjo una alianza interclasista entre estratos medios y pobres, el COVID-19 produjo la disolución de las alianzas, llevando a los estratos medios a centrarse en mante- ner estándares mínimos de vida digna y a los estratos pobres a sobrevivir como puedan, en medio del impacto económico de esta pandemia. La respuesta sanitaria-militar La pandemia de COVID-19 es en rigor un problema sanitario, pero debe ser leído a partir de sus consecuencias políticas. La recuperación necesaria de la legi- timidad de las Fuerzas Armadas por motivos de salud pública ha sido también una oportunidad para la derecha para blindar desde la fuerza el orden social. La primera movida en el tablero fueron los estados de excepción y la milita- rización completa del país, con los jefes de la defensa nacional a cargo de cada región, al mismo tiempo que se decretó un toque de queda, que como se ha señalado tiene más objetivos políticos que sanitarios. De esta manera se logró “pacificar” con apoyo ciudadano la protesta social. Seguidamente y aprovechando la agenda mediática copada por el COVID- 19, se lanzan ofensivas fuertes en contra de las resistencias mapuche, a la vez que se inicia una persecución selectiva de grupos radicales, tal como lo reco- noció el presidente Piñera en una reciente entrevista. Actualmente, se desarrolla con una agenda directamente política, que tu- vo como punta de lanza el paro de los camioneros, cuyas demandas fueron 13 leyes de seguridad y fortalecimiento de las capacidades coactivas del Estado, todo esto aprovechando el temor histórico que genera en la población un paro de ca- mioneros, a pesar de la paradoja de ser paro de camioneros de derecha, frente a un gobierno de derecha. La inseguridad se sumó como un nuevo temor y ello produjo la valorización del orden y el crecimiento del deseo social de castigo. Con esta agenda legislativa, el gobierno busca resguardar policialmente la estabilidad social, resguardar los centros de producción económica y resguardar la propiedad, ante eventuales nuevas movilizaciones sociales. La derecha, el plebiscito, la pandemia Prontamente, la pandemia de COVID-19 puso en jaque la realización del plebiscito en la fecha estipulada originalmente (26 de abril). El 15 de marzo pro- puse aplazar el calendario electoral, a pesar de las reticencias iniciales del sector. Sin embargo, solo cuatro días después ya había acuerdo respecto a la necesidad de cambiar la fecha de los comicios, y el 26 de marzo se publicó la reforma constitucional que lo permitía, abriendo así un nuevo escenario. Desde el primer momento, la estrategia de la derecha ante el plebiscito fue intentar cubrir a todo el espectro electoral. Para ello, los sectores más radicaliza- dos han intentado asegurar al “núcleo duro”; en esa posición se han encontrado desde el comienzo los sectores de Renovación Nacional (RN) encabezados por Andrés Allamand y el grueso de la Unión Demócrata Independiente (UDI). Mien- tras que por la postura del Apruebo, se han pronunciado Mario Desbordes y una facción de RN, Joaquín Lavín, militante UDI, y una serie de alcaldes de los dos principales partidos de Chile Vamos. A lo anterior, hay que sumarle a José Antonio Kast y a su Partido Repu- blicano, quienes han asumido el rol de personalizar los discursos más odiosos de la derecha, con una estética que dentro del gobierno sería impropia y lesionaría aún más la frágil figura presidencial. Ante la coyuntura del COVID-19, la derecha ha continuado desarrollando todas sus estrategias, las que son a fin de cuentas, distintos caminos -muchas veces complementarios- para salvaguardar al modelo neoliberal. Proyección de escenarios A la luz de lo expuesto y de lo que a continuación se desarrollará, se consi- deran dos escenarios posibles. Primer escenario: Pandemia, miedo y abstención. La intencionalidad de alargar el periodo activo de la pandemia, es pre- sumible a partir de una serie de decisiones tomadas por el ejecutivo a pesar de las opiniones expertas. Destacan, en ese sentido, las reiteradas llamadas del Co- legio Médico para que el Gobierno fortalezca las medidas preventivas, en pos de frenar el avance de la pandemia. Así, el 15 de marzo el Colegio Médico ya pedía extremar las medidas de prevención señalando: “que las medidas anunciadas por el Presidente de la Re- pública, Sebastián Piñera, si bien van en la línea correcta, deben extremarse, es- pecialmente luego de que el país entrara en Fase 3, con el fin de aplanar la curva de contagios y no sobrecargar nuestro sistema sanitario, lo que, de acuerdo a có- mo se ha desarrollado la pandemia en algunos países, aumenta la letalidad pro- ducto de este virus”. En la misma dirección de aumentar el periodo activo de la pandemia, pare- ce ir la insistencia del gobierno por retornar a clases, a pesar de que especia- listas como Mauricio Canals, de la Escuela de Salud Pública de la U. de Chile se- ñala que: “Es una medida que decididamente hay que evitar (..) es echarle benci- na al fuego”. Insistencia aún más sospechosa en tanto no hay evidencia interna- cional que permita predecir el comportamiento del virus. Las consecuencias de las decisiones del gobierno fueron observadas por María Paz Bertoglia, presidenta de la Sociedad Chilena de Epidemiología: “Hay que (…) comenzar a preparar a la población. Sin vacuna vamos a estar en estos tránsitos probablemente varios meses. Uno esperaría que antes de desconfinar estuviera muy bien controlada por lo menos la transmisión comunitaria”. Lo anterior coincide con las proyecciones para la región del Biobío –la se- gunda más grande del país– hechas por el Equipo de Proyecciones COVID-19 UdeC, liderado por el Dr. Guillermo Cabrera-Vives: “hubo ya un peak entre el 26 y 30 de junio, luego de eso comenzó a bajar la curva de (…), pero lamentablemen- te luego empezó a subir nuevamente. En ese sentido, se espera (…) un segun- do peak (…) entre agosto y septiembre”. A lo que se debe agregar el plan “Fondéate en Casa”, lanzado el pasado 2 de septiembre en que se levantan y flexibilizan medidas restrictivas fundamenta- les para el control de los contagios, ante el que Claudia Cortés, presidenta de la Sociedad Chilena de Infectología, señaló: “levantar una restricción es complejo, porque no vamos a tener una segunda ola: será un tsunami porque no esta- mos epidemiológicamente preparados para una apertura de este tipo”. La realización del plebiscito, analizada en sus variables de participación y diferencia en los resultados, puede darnos cuatro resultados posibles: (1) alta par- ticipación y alta diferencia de votos; (2) alta participación y baja diferencia de vo- tos; (3) baja participación y alta diferencia de votos; y (4) baja participación y baja diferencia de votos. El escenario pre-pandémico, parecía imponer el resultado (1). La misión de la derecha entonces, asumiendo la alta participación, era avanzar hacia el resulta- do dos, disputando la diferencia de votos. Sin embargo, la actual coyuntura pandémica ha reordenado el tablero y se advierten maniobras de la derecha para avanzar hacia los resultados (3) o (4). Ambos parten de la premisa de la baja participación producida por dos factores principales: De darse el plebiscito en la fecha estipulada, el mayor riesgo es la baja de participación en general y de los adultos mayores en particular. Una baja genera- lizada de la participación puede llevar a que todo el proceso subsecuente se deslegitime, dificultando las posibilidades de capitalizar la movilización ciudadana dentro del itinerario institucional propuesto. Acentuar ese riesgo para deslegitimar el proceso, es lo que ha hecho el se- nador Chahuán con su proyecto de reforma constitucional del 6 de agosto (Bole- tín 13.693-07) que exige una participación mínima en el plebiscito nacional regula- do en el artículo 130 de la Constitución Política. Al respecto el senador afirmó: “Lo mínimo que debe haber es una participación de la mitad de los votantes. Es- tamos hablando de un proceso que definirá el Chile que vendrá a futuro y eso no lo puede definir un bajo porcentaje de chilenos. Frente a esto, presenté una re- forma constitucional para reestablecer el voto obligatorio en Chile, y que ri- giera durante el plebiscito de entrada (13.739-07). No es comprensible que se haya acordado que el plebiscito de salida sea obligatorio, pero no el plebiscito de entrada. Quedan claros cuáles fueron los motivos para que la derecha aceptara el voto obligatorio en el plebiscito de finalización, pero no en el de entrada; poner la participación en cuestión. Ese solo hecho demuestra el intento de deslegitimar el cambio constitucional. Esto acompañado de la ausencia de transporte gra- tuito. Si bien al momento del acuerdo aún no entrábamos en la pandemia del Co- vid-19, un dato previo es que la participación electoral tiene una correlación con el ingreso económico. En la segunda vuelta de 2017, en Las Condes votó un 66% del padrón, mientras que en La Pintana lo hizo un 37%. En síntesis, la derecha optó por generar las condiciones para un ple- biscito donde se abra la posibilidad de los resultados (3) y (4), siéndole el más favorable el (4), baja participación y baja diferencia de votos. Una segunda vía, es la del apoyo masivo por parte de la derecha a la opción apruebo, con la finalidad de diluir las diferencias y no verse arrastrada a una derrota inminente: si todos ga- nan, nadie gana. Segundo escenario: la dilución del plebiscito de entrada Un segundo escenario posible, es la suspensión- consensuada o de facto- del plebiscito de entrada. Al respecto, hay que señalar que el plebiscito por la nueva Constitución es aquel que más divide las aguas en el país, pues se trata de la ruptura o continuidad del modelo de desarrollo; es un pronunciamiento respecto a principios, mientras que las elecciones siguientes serán en torno a per- sonalidades. Para la oposición y la ciudadanía es irrenunciable la realización de un plebiscito de entrada, si queremos una nueva constitución verdadera. El plebiscito es asumido por el sector ideológico más duro de la derecha como un referéndum revocatorio para el presidente, lo que se verá agravado y consolidado si Piñera no apoya abiertamente el apruebo, como sugiere en su re- nacer el histórico militante de la UDI, Pablo Longueira, en tanto, un 80% de aprue- bo se constituiría en un rechazo formal a su gestión. Es decir, un doble plebiscito. Por la Constitución y la gestión del gobierno. La derecha y los defensores del rechazo entienden que de efectuarse el plebiscito el mejor escenario para la derecha es una derrota por una diferen- cia estrecha acompañada de una baja votación, pero una derrota, a fin de cuentas. Por ello, tempranamente ha comenzado a rondar la tesis de suspen- der el plebiscito de entrada por diversos motivos. En esa línea, Juan Antonio Coloma, diputado UDI sostuvo que “es evi- dente que hay que estar siempre analizando la opción de suspender el Ple- biscito si la pandemia aumenta el nivel de contagio”. Argumento que extremó el diputado de la UDI, Sergio Bobadilla: “queremos un plebiscito seguro, por cierto que lo queremos seguro. Yo creo que el plebiscito más seguro es el que no se hace, y no exponemos a nuestra gente a los efectos de la pandemia” La suspensión del plebiscito de entrada tiene para la derecha una doble fun- ción. Piñera podría pasar a la historia como el Arturo Alessandri del siglo XXI, que, tras una profunda crisis social en 1924, en 1925 con apoyo militar promulgó una nueva Constitución que rigió hasta 1980. cito gana con el 80%, y se obtiene además la mayoría de los gobernadores y alcaldes, se acabó el gobierno de Piñera. Ese es un desastre que la de- recha busca evitar a toda costa. Sería de una ingenuidad política tremenda creer que la derecha no está evaluando estos escenarios. Es lo que lee perfectamente bien Longueira, por eso no quiere que su sec- tor asuma el riesgo. Es muy probable que, así como los presidentes/a de Chile durante 1990 a 2020 fueron solo personas que votaron por la op- ción “NO” en 1988, en los próximos 30 años, solo tengamos presiden- tes/as que hayan votado por la opción “Apruebo” en 2020. Desestimado el plebiscito, el desarrollo de las campañas se podrá centrar, como ha sido la tónica en los últimos años, en las virtudes de los candidatos y en sus propuestas de futuro, sin tener que hacerse cargo ni del 18 de octubre, ni de las violaciones a los derechos humanos, ni del es- tigma de la derrota del rechazo. Las cuatro tesis paralelas de la derecha La tesis Kast: La ultraderecha, liderada por el Partido Republicano y José Antonio Kast, han iniciado una campaña del terror, planteando que el plebiscito constitucional del 25 de octubre sería “el plebiscito de la muerte”, y en esa situación, su primer llamado es a suspender el plebiscito de manera indefinida, y man- tener la Constitución vigente. Esta tesis se encuentra en una contradicción inherente, ya que a la vez que llama a votar rechazo, llama a no votar en el plebiscito, o a que éste se suspenda. Probablemente estén con el rechazo hasta el final, buscando alinear a las huestes más duras del pinochetismo, labor que han asumido algunos diputados de la UDI, como Sergio Bobadilla, o Juan Antonio Coloma. La tesis Longueira: El expresidente UDI, Pablo Longueira, llama a votar apruebo, pero no porque sea la opción en la que cree, sino que busca evitar que triunfe el sector que él llama la izquierda no democrática. Longueira plantea “la izquierda no democrática nos quiere llevar, a todos los chilenos, a una noche negra el 25 de octubre. Lo que buscan es terminar a la Argentina, con un helicóptero”, ya que “con un resultado 80/20 los bolivarianos que lleguen a la Constituyente nos van a querer cambiar hasta el cóndor del escudo nacional por el perro matapacos” (El Mercurio, 30 de agosto, cuerpo D, páginas 4 y 5). Su tesis es que la derecha no caiga junto al rechazo, y que todos quienes han hecho un llamado a votar rechazo, planteen que están por el Apruebo, o que se abstengan. Porque un resultado sabido con anterioridad, sumado a las condiciones de la pandemia, van a desencadenar una ola de abstención electoral, lo que a la vez permitirá despolitizar las próximas elecciones. Una semana después de la reaparición de Longueira, y en una conducta inédita para la prensa chilena, el diario La Tercera opta por explicitar su apoyo al “aprue- bo” en su editorial del domingo 6 de septiembre. Dos días después, 19 empresa- rios de derecha escriben una carta en El Mercurio, donde dejan entrever que están con el Apruebo. La tesis Van Rysselberghe: La presidenta de la UDI, en respuesta a Longueira, plantea que no sabe si irá a votar el 25 de octubre. Generando así un camino similar al de Longueira, pero sin llamar a votar apruebo. Siempre evaluaron la te- sis de la abstención, y se dieron cuenta que su abstención vale más que su voto por el rechazo, apostando a que el número que se comente la noche del 25 de octubre no sea el porcentaje con que gane el apruebo, sino que el porcentaje de participación, y si este no supera el 50%, servirá para que la derecha cuestione la legitimidad del proceso. La tesis Allamand-Cubillos: El actual Canciller busca que el gobierno fije posición por el rechazo, pensando en lograr una situación en que el “apruebo” y el “rechazo” no tengan una gran distancia, así como lo fue en el plebiscito de 1988, en donde la mayoría no era tan aplastante, y la minoría no era tan pequeña. Eso tensionó los 30 años siguientes de transición. Como suele pasar con las tesis de Allamand, es probable que esta no triunfe, en razón de que sería muy extraño que el gobierno quiera arrimarse a una opción fracasada, más todavía cuando la propia derecha advierte que el plebiscito del 25 de octubre puede transformarse en un plebiscito sobre la continuidad del Presidente. El progresismo y la ausencia de tesis: Mientras que la derecha se preocupa, ocupa y opera diversas tesis, en la izquierda y el progresismo no parece existir la misma reflexión en torno al plebiscito, probablemente por la comodidad que genera acompañar a una opción que, según indican todas las encuestas, ganará con un porcentaje entre el 60% y el 80%. Entre los comandos que están por el “Apruebo” no se observan mayores diferencias tácticas, más allá de la distancia existente entre quienes firmaron el acuerdo del 15 de noviembre, y quienes se restaron de aquel pacto. La principal preocupación en el seno de la izquierda y el progresismo es poder generar las condiciones para un plebiscito seguro, buscando enfrentar la crisis del COVID-19 a través de franjas horarias para adultos mayores, propuestas de voto en dos días, voto por correo, o evitar que los adultos mayores sean vocales de mesa. En los últimos días, el debate de la izquierda se centra en si pueden o no votar las personas contagiadas de COVID-19. Estas necesarias y pragmáticas discusiones nos dejaron sin debate estratégico, generando que la iniciativa política en torno al plebiscito esté total y absolutamente en manos de la derecha. Solo nos hemos centrado en llamar a votar por una opción que todas las encuestas dan ganadora. Eso no es motivante, es ingenuo electoral y políticamente. Nadie tiene control sobre el comportamiento de la pandemia en el mes de octubre. Lo que está claro es que, al menos en algunas regiones, no estará con- trolada la crisis pandémica hacia el 25 de octubre. Lo que afectará la participación electoral, y la participación de adultos mayores, que a la vez que son el grupo que más vota (más de dos millones de habilitados, y una participación cercana al mi- llón y medio en promedio), son también el grupo etario que más mortalidad tiene frente al COVID-19 Frente a la inminente derrota del rechazo en el plebiscito del 25 de octubre de 2020, la derecha política, económica y social ha tomado el camino de subirse al carro del apruebo. Ya sea a través de que “todos estemos por el apruebo” ge- nerando una situación como la del plebiscito de reformas constitucionales de 1989, en donde tanto la Concertación como la derecha llamaron a votar “Apruebo”, ¿el efecto de esto? nadie recuerda ese plebiscito. Por otro lado, una franja electoral en donde todos estén por el apruebo solo nos llevará a una mayor abstención, al sentimiento de desconfianza, y a que esto parezca una cocina de los políticos. Un resultado conocido previamente solo llevará a una gran abstención. Esto refuerza la tesis de parte de la derecha, que empuja la tesis donde Piñera sea quien “ceda”, y opte por hacer un llamado a la unidad nacional para eliminar el plebiscito de entrada, y pasar directamente a la Convención Constitucio- nal. Esto podría dejar al presidente como el hombre del Consenso, y el padre de la nueva constitución. No nos hemos preparado para escenarios como los descritos. La derecha, de mano de la pandemia, se ha fortalecido siendo minoría. La derecha busca hacer que la fuerza que los derrote, pase a transformarse en la fuerza que también los salve. Mientras la derecha trabaja el consenso y el acuerdo por el apruebo, en el progresismo se mantiene un diseño que apuesta a un escenario de confrontación y triunfo del apruebo sobre el rechazo. Es un error político inaceptable no enfrentar a la derecha en la ejecución de una estrategia comunicacional y política de ir por un “Apruebo” consensuado, una nueva postergación del plebiscito, o definitivamente, su no realización pa- ra pasar directamente a la Convención Constitucional, escenarios que significan un retroceso para lo que se ha construido en los últimos meses, diluyéndose totalmente el antagonismo “ciudadanía v/s élite” generado el 18 de octubre. Nos enfrentamos a la misma estrategia que utilizaron las AFP luego de que se aprobó el retiro del 10%, utilizando el eslogan “el 10% lo hacemos entre todos”, lo que tuvo como consecuencia que aumentara la popularidad de las AFP, o a la misma estrategia que utilizó el gobierno de Piñera luego de la marcha de los dos millones de personas en Santiago, buscando mostrar que la marcha era de todos los sectores. Si se comparte el análisis previo, la principal acción debe ser generar un diseño político, social y comunicacional frente al escenario de que el plebiscito se postergue, o sea afectado por la tesis de la dilución. Esto implica pasar a una campaña decidida en torno a impulsar en la opinión pública y dar contenidos a la nueva constitución, y marcar la diferencia de quienes quieren mantener la actual constitución, aunque se vistan de apruebo. Además, debemos iniciar desde ya la campaña por la elección de los constituyentes dándole rostros y nombres a nuestros representantes en los 28 distritos, con el claro objetivo de ser mayoría y superar los 2/3 Las reformas que le entregan facultades al Servel para que pueda aumentar su dotación de personal y le permiten comprar artículos sanitarios, van en la dirección correcta. Además, debemos garantizar medidas de precaución para adultos mayo- res en el día de la votación, aumentar la cantidad de locales de votación, tener vocales de mesa menores de 55 años, implementar el voto postal, y aprobar la reforma constitucional que presentamos junto a la senadora Provoste que permite la gratuidad del transporte público el día de las elecciones (boletín 13.1166-07). Se debe garantizar el derecho al voto, ya que con la actual cesantía, no otorgar trans- porte gratuito es castigar a los sectores más vulnerables. Estas medidas son de necesidad sanitaria y económica, más no una acción política que enfrente a la ofensiva ya en curso de la derecha sobre el plebiscito. 1.- Si queremos que el plebiscito de octubre se realice, debemos trabajar todos los escenarios para que este efectivamente se realice. Pero no controlamos la situación pandémica, en vista de lo anterior, debemos definir un criterio y las fechas para la realización del plebiscito si este llegara a postergarse. Las definiciones deben ser establecidas en el Congreso Nacional, a través de una reforma constitucional, en diálogo con el mundo científico. No es posible que repitamos el error de legislar al filo del tiempo, como ocurrió con el límite al gasto electoral durante el plebiscito, o como cuando se decidió posponer el plebiscito de abril a octubre. Es necesario tener presente que al momento de la decisión Chile tenía cero fallecidos y solo 75 casos de contagio en todo el país, hoy tenemos 426.000 contagios y casi 12.000 muertos. 2.- Para lo anterior, tenemos que avanzar en un proyecto de reforma constitucional que permita, en caso de no existir las condiciones sanitarias el 25 de octubre, que el plebiscito pueda realizarse en fechas correlativas. Nuestra propuesta es que la reforma constitucional permita a la autoridad sanitaria poder mover la fecha del plebiscito en tres ocasiones, vinculado a la situación pandémica. De no ser posible la realización en el 25 de octubre, debe poder realizarse el 22 de no- viembre, de no ser posible, el 20 de diciembre, y de no ser posible en esta fecha, el 17 de enero de 2021 como fecha definitiva e inamovible para la realización del plebiscito. 3.- Lo anterior es para evitar que Piñera, en cualquiera de las fechas de la eventual postergación, sea el que proponga pasar directamente a la Conven- ción Constitucional, haciendo un llamado a la unidad nacional. Si la crisis de la pandemia es grave en las semanas previas al plebiscito, no habrá posibilidad de que la oposición se niegue a esto, la defensa de ir a votar será difícil de compren- der por parte de la ciudadanía. En ese escenario, y a pesar de la gran mayoría que el apruebo tiene en la ciudadanía, nos enfrentaremos a una derrota. Piñera lograría anular el plebiscito de entrada, y disolver la contradicción entre el apruebo y el rechazo. Eso generaría que el clima de la elección de constituyen- tes se despolitice. Es decir, que de lo mismo quién es electo, y quienes buscan mantener las cosas tal como están, se refugien en el apruebo. En ese clima, la derecha buscará entrar con su guardia de élite a la Convención Constitucional, mientras que en el progresismo hemos comprometido la participación de ciudada- nía independiente, es decir, nuevas caras, pero eventualmente sin la experien- cia política de sus oponentes. La batalla más dura no es la del plebiscito, es la de la Convención Constituciona, en donde la derecha va por un tercio que le permita bloquear los cambios profundos, a la vez que toda la constitución requerirá 2/3, tanto lo complejo como lo simple. El objetivo de la derecha es que tengamos una Constitución tan neo-liberal como la de 1980, pero validada democráticamente. Esto sería una derrota histórica irremontable para el progresismo, y Piñera se po- dría constituir como el gran padre de la nueva constitución, así como lo fue Arturo Alessandri Palma con la Constitución de 1925. 4.- Nuestros esfuerzos deben dirigirse a la convergencia de todas las fuerzas polí- ticas opositoras que están por la superación del neo-liberalismo. Los porfiados hechos, que a veces nos negamos a observar y a conocer, nos obligan hoy a en- tender que el escenario decisivo será el de la elección de constituyentes el 11 de abril. Tal como se fijó el proceso electoral, la responsabilidad principal está hoy en los partidos políticos, artífices del acuerdo y con un rol, seamos francos, decisi- vos en la conformación de las listas y la estrategia electoral. La ausencia de estra- tegia electoral es un salto al vacío, y de una ingenuidad política que puede ser his- tóricamente imperdonable. 5.- Se debe asegurar desde ya definición de apoyar la configuración electoral que asegure mayor elegibilidad, con el claro objetivo de obtener 2/3 y más de la Convención Constitucional. Hay que adelantar la campaña de los constitu- yentes, dotarla de rostro y territorialidad para maximizar el número de elec- tos otorgando derechos y no menoscabando a los candidatos independien- tes, incorporando de manera decidida y decisiva a la ciudadanía. La derecha ya trabaja en este objetivo, porque eligió esa trinchera para el enfrentamiento y no el plebiscito. No tener 2/3 en los constituyentes electos es una derrota, la derecha tendría un veto irremontable, y la capacidad de generar una constitución mínima sobre una hoja en blanco. La ciudadanía debe ahora iniciar el proceso de campa- ña, y mantenerse movilizada difundiendo contenidos, y trabajando para elegir constituyentes. 6.- Debemos dotar ahora de contenido la opción apruebo. Para esto, es nece- sario acordar los puntos mínimos para la diferenciación de quienes están por una nueva Constitución, y quienes apoyan el apruebo de manera “ideológicamente falsa”. La única forma que tenemos de enfrentar la estrategia por parte de la dere- cha, es hacer que el apruebo tenga contenidos. Aprobar por aprobar, por el mero hecho de estar en contra de la actual Constitución, en este escenario no basta. Hay que hacer que el apruebo vuelva a ser una opción eminentemente pro- gresista en pos de recuperar el agua, el derecho a huelga, terminar con las AFP, establecer derechos sociales, una educación gratuita universal, termi- nar con el presidencialismo, darle más poder a las regiones y garantizar en\\xa0 la Constitución la participación ciudadana vinculante en los asuntos nacio- nales, regionales y comunales. Debemos transformar estos dos meses de cam- paña en una operación de Contenidos y Elegibilidad. Hay que evitar que el “apruebo de todos” (desde la izquierda a la UDI), termine por neutralizar el 18 de octubre, y convierta la fuerza del campo popular en un significante vacío. Por , Alejandro Navarro Brain Senador de la República Región del Biobío'"
      ]
     },
     "execution_count": 4,
     "metadata": {},
     "output_type": "execute_result"
    }
   ],
   "source": [
    "lol = df.content.map(len).idxmax()\n",
    "df.iloc[lol].content # ?????"
   ]
  },
  {
   "cell_type": "markdown",
   "id": "926f9819",
   "metadata": {},
   "source": [
    "## Cuanto truncar??"
   ]
  },
  {
   "cell_type": "code",
   "execution_count": 5,
   "id": "1ebcee90",
   "metadata": {},
   "outputs": [],
   "source": [
    "MAX_LEN = 300\n",
    "df['content'] = df.content.str.slice(0, MAX_LEN)"
   ]
  },
  {
   "cell_type": "code",
   "execution_count": 6,
   "id": "9aa4d12d",
   "metadata": {},
   "outputs": [
    {
     "name": "stdout",
     "output_type": "stream",
     "text": [
      "min len:  184\n",
      "max len:  300\n"
     ]
    }
   ],
   "source": [
    "print('min len: ', df.content.map(len).min())\n",
    "print('max len: ', df.content.map(len).max())"
   ]
  },
  {
   "cell_type": "code",
   "execution_count": 7,
   "id": "672c245d",
   "metadata": {},
   "outputs": [
    {
     "data": {
      "text/html": [
       "<div>\n",
       "<style scoped>\n",
       "    .dataframe tbody tr th:only-of-type {\n",
       "        vertical-align: middle;\n",
       "    }\n",
       "\n",
       "    .dataframe tbody tr th {\n",
       "        vertical-align: top;\n",
       "    }\n",
       "\n",
       "    .dataframe thead th {\n",
       "        text-align: right;\n",
       "    }\n",
       "</style>\n",
       "<table border=\"1\" class=\"dataframe\">\n",
       "  <thead>\n",
       "    <tr style=\"text-align: right;\">\n",
       "      <th></th>\n",
       "      <th>category</th>\n",
       "      <th>count(*)</th>\n",
       "    </tr>\n",
       "  </thead>\n",
       "  <tbody>\n",
       "    <tr>\n",
       "      <th>0</th>\n",
       "      <td>3-Política_y_Conflictos</td>\n",
       "      <td>8977</td>\n",
       "    </tr>\n",
       "    <tr>\n",
       "      <th>1</th>\n",
       "      <td>1-Mundo</td>\n",
       "      <td>8609</td>\n",
       "    </tr>\n",
       "    <tr>\n",
       "      <th>2</th>\n",
       "      <td>9-Crimen_delitos_y_Justicia</td>\n",
       "      <td>8213</td>\n",
       "    </tr>\n",
       "    <tr>\n",
       "      <th>3</th>\n",
       "      <td>7-Deporte</td>\n",
       "      <td>6708</td>\n",
       "    </tr>\n",
       "    <tr>\n",
       "      <th>4</th>\n",
       "      <td>4-Ciencias_y_Tecnología</td>\n",
       "      <td>4778</td>\n",
       "    </tr>\n",
       "    <tr>\n",
       "      <th>5</th>\n",
       "      <td>10-Salud</td>\n",
       "      <td>2690</td>\n",
       "    </tr>\n",
       "    <tr>\n",
       "      <th>6</th>\n",
       "      <td>2-Economía</td>\n",
       "      <td>2636</td>\n",
       "    </tr>\n",
       "    <tr>\n",
       "      <th>7</th>\n",
       "      <td>5-Catástrofes_y_Accidentes</td>\n",
       "      <td>1245</td>\n",
       "    </tr>\n",
       "    <tr>\n",
       "      <th>8</th>\n",
       "      <td>8-Ecología_y_Planeta</td>\n",
       "      <td>863</td>\n",
       "    </tr>\n",
       "    <tr>\n",
       "      <th>9</th>\n",
       "      <td>6-Cultura_y_Artes</td>\n",
       "      <td>795</td>\n",
       "    </tr>\n",
       "  </tbody>\n",
       "</table>\n",
       "</div>"
      ],
      "text/plain": [
       "                      category  count(*)\n",
       "0      3-Política_y_Conflictos      8977\n",
       "1                      1-Mundo      8609\n",
       "2  9-Crimen_delitos_y_Justicia      8213\n",
       "3                    7-Deporte      6708\n",
       "4      4-Ciencias_y_Tecnología      4778\n",
       "5                     10-Salud      2690\n",
       "6                   2-Economía      2636\n",
       "7   5-Catástrofes_y_Accidentes      1245\n",
       "8         8-Ecología_y_Planeta       863\n",
       "9            6-Cultura_y_Artes       795"
      ]
     },
     "execution_count": 7,
     "metadata": {},
     "output_type": "execute_result"
    }
   ],
   "source": [
    "q=\"\"\"SELECT category, count(*) FROM df GROUP BY category ORDER BY count(*) DESC;\"\"\"\n",
    "result=sqldf(q)\n",
    "result"
   ]
  },
  {
   "cell_type": "markdown",
   "id": "1e11195e",
   "metadata": {},
   "source": [
    "# balancear el dataset a la mala?"
   ]
  },
  {
   "cell_type": "code",
   "execution_count": 8,
   "id": "ae940771",
   "metadata": {},
   "outputs": [
    {
     "data": {
      "text/html": [
       "<div>\n",
       "<style scoped>\n",
       "    .dataframe tbody tr th:only-of-type {\n",
       "        vertical-align: middle;\n",
       "    }\n",
       "\n",
       "    .dataframe tbody tr th {\n",
       "        vertical-align: top;\n",
       "    }\n",
       "\n",
       "    .dataframe thead th {\n",
       "        text-align: right;\n",
       "    }\n",
       "</style>\n",
       "<table border=\"1\" class=\"dataframe\">\n",
       "  <thead>\n",
       "    <tr style=\"text-align: right;\">\n",
       "      <th></th>\n",
       "      <th>id</th>\n",
       "      <th>title</th>\n",
       "      <th>content</th>\n",
       "      <th>category</th>\n",
       "    </tr>\n",
       "  </thead>\n",
       "  <tbody>\n",
       "    <tr>\n",
       "      <th>0</th>\n",
       "      <td>5708146</td>\n",
       "      <td>ONU advierte que la vacuna no basta para enfrentar la devastación del Covid-19</td>\n",
       "      <td>ONU advierte que la vacuna no basta para enfrentar la devastación del Covid-19. La vacuna contra el Covid-19 no pone fin a la devastación causada por la pandemia en el mundo, alertó el jueves el j...</td>\n",
       "      <td>1-Mundo</td>\n",
       "    </tr>\n",
       "    <tr>\n",
       "      <th>1</th>\n",
       "      <td>6664788</td>\n",
       "      <td>11 millones de niñas en el mundo corren el riesgo de no volver a clases por el coronavirus</td>\n",
       "      <td>11 millones de niñas en el mundo corren el riesgo de no volver a clases por el coronavirus. Once millones de niñas en todo el mundo corren el riesgo de no volver a la escuela cuando terminen las r...</td>\n",
       "      <td>1-Mundo</td>\n",
       "    </tr>\n",
       "    <tr>\n",
       "      <th>2</th>\n",
       "      <td>14776151</td>\n",
       "      <td>Canciller de Brasil presenta su renuncia tras presiones de legisladores bolsonaristas</td>\n",
       "      <td>Canciller de Brasil presenta su renuncia tras presiones de legisladores bolsonaristas. El ministro de Relaciones Exteriores de Brasil,  Ernesto Araújo , presentó este lunes su renuncia, tras fuert...</td>\n",
       "      <td>1-Mundo</td>\n",
       "    </tr>\n",
       "    <tr>\n",
       "      <th>3</th>\n",
       "      <td>5742144</td>\n",
       "      <td>Viajes en un mundo posterior a la pandemia del coronavirus</td>\n",
       "      <td>Viajes en un mundo posterior a la pandemia del coronavirus. Se espera un enfriamiento del romance con las capitales europeas y que exista un nuevo cariño por las ciudades menos pobladas con grande...</td>\n",
       "      <td>1-Mundo</td>\n",
       "    </tr>\n",
       "    <tr>\n",
       "      <th>4</th>\n",
       "      <td>14798264</td>\n",
       "      <td>Oposición gana las elecciones presidenciales en las islas Seychelles por primera vez en 40 años</td>\n",
       "      <td>Oposición gana las elecciones presidenciales en las islas Seychelles por primera vez en 40 años. El opositor  Wavel Ramkalawan se convirtió este domingo, con un 54,9% de los votos, en el quinto pr...</td>\n",
       "      <td>1-Mundo</td>\n",
       "    </tr>\n",
       "  </tbody>\n",
       "</table>\n",
       "</div>"
      ],
      "text/plain": [
       "         id  \\\n",
       "0   5708146   \n",
       "1   6664788   \n",
       "2  14776151   \n",
       "3   5742144   \n",
       "4  14798264   \n",
       "\n",
       "                                                                                             title  \\\n",
       "0                   ONU advierte que la vacuna no basta para enfrentar la devastación del Covid-19   \n",
       "1       11 millones de niñas en el mundo corren el riesgo de no volver a clases por el coronavirus   \n",
       "2            Canciller de Brasil presenta su renuncia tras presiones de legisladores bolsonaristas   \n",
       "3                                       Viajes en un mundo posterior a la pandemia del coronavirus   \n",
       "4  Oposición gana las elecciones presidenciales en las islas Seychelles por primera vez en 40 años   \n",
       "\n",
       "                                                                                                                                                                                                   content  \\\n",
       "0  ONU advierte que la vacuna no basta para enfrentar la devastación del Covid-19. La vacuna contra el Covid-19 no pone fin a la devastación causada por la pandemia en el mundo, alertó el jueves el j...   \n",
       "1  11 millones de niñas en el mundo corren el riesgo de no volver a clases por el coronavirus. Once millones de niñas en todo el mundo corren el riesgo de no volver a la escuela cuando terminen las r...   \n",
       "2  Canciller de Brasil presenta su renuncia tras presiones de legisladores bolsonaristas. El ministro de Relaciones Exteriores de Brasil,  Ernesto Araújo , presentó este lunes su renuncia, tras fuert...   \n",
       "3  Viajes en un mundo posterior a la pandemia del coronavirus. Se espera un enfriamiento del romance con las capitales europeas y que exista un nuevo cariño por las ciudades menos pobladas con grande...   \n",
       "4  Oposición gana las elecciones presidenciales en las islas Seychelles por primera vez en 40 años. El opositor  Wavel Ramkalawan se convirtió este domingo, con un 54,9% de los votos, en el quinto pr...   \n",
       "\n",
       "  category  \n",
       "0  1-Mundo  \n",
       "1  1-Mundo  \n",
       "2  1-Mundo  \n",
       "3  1-Mundo  \n",
       "4  1-Mundo  "
      ]
     },
     "execution_count": 8,
     "metadata": {},
     "output_type": "execute_result"
    }
   ],
   "source": [
    "new_df = df.groupby('category').sample(n=795, random_state=2)\n",
    "new_df.reset_index(drop=True, inplace=True)\n",
    "new_df.head(5)"
   ]
  },
  {
   "cell_type": "code",
   "execution_count": null,
   "id": "d0c727d0",
   "metadata": {},
   "outputs": [],
   "source": []
  },
  {
   "cell_type": "markdown",
   "id": "4735d91f",
   "metadata": {},
   "source": [
    "# Lo que hice en la tarea de IA \n"
   ]
  },
  {
   "cell_type": "markdown",
   "id": "72a63166",
   "metadata": {},
   "source": [
    "## Bag of words + tf-idf"
   ]
  },
  {
   "cell_type": "code",
   "execution_count": 9,
   "id": "41bf8a26",
   "metadata": {},
   "outputs": [],
   "source": [
    "from sklearn.feature_extraction.text import TfidfVectorizer"
   ]
  },
  {
   "cell_type": "markdown",
   "id": "6526fced",
   "metadata": {},
   "source": [
    "## NLTK"
   ]
  },
  {
   "cell_type": "code",
   "execution_count": 10,
   "id": "02af338e",
   "metadata": {},
   "outputs": [],
   "source": [
    "import nltk\n",
    "from nltk.corpus import stopwords\n",
    "from nltk import word_tokenize\n",
    "from nltk.tokenize.casual import casual_tokenize\n",
    "from nltk.data import load\n",
    "from nltk.stem import SnowballStemmer\n",
    "from string import punctuation\n",
    "import re\n",
    "from tqdm.auto import tqdm"
   ]
  },
  {
   "cell_type": "code",
   "execution_count": 11,
   "id": "bc4d4cfa",
   "metadata": {},
   "outputs": [],
   "source": [
    "#nltk.download('stopwords')\n",
    "#nltk.download('punkt')"
   ]
  },
  {
   "cell_type": "code",
   "execution_count": 12,
   "id": "c89101af",
   "metadata": {},
   "outputs": [],
   "source": [
    "#stopwords\n",
    "spanish_stopwords = stopwords.words('spanish')\n",
    "\n",
    "#stemmer\n",
    "stemmer = SnowballStemmer('spanish')\n",
    "\n",
    "#puntuacion\n",
    "non_words = list(punctuation)\n",
    "#incluir puntuacion del español\n",
    "non_words.extend(['¿', '¡'])\n",
    "#numeros\n",
    "non_words.extend(map(str,range(10)))"
   ]
  },
  {
   "cell_type": "markdown",
   "id": "4442eae3",
   "metadata": {},
   "source": [
    "# Incluir n-grams?"
   ]
  },
  {
   "cell_type": "code",
   "execution_count": 13,
   "id": "5e03cafa",
   "metadata": {},
   "outputs": [],
   "source": [
    "stemmer = SnowballStemmer('spanish')\n",
    "\n",
    "def stem_tokens(tokens, stemmer):\n",
    "    stemmed = []\n",
    "    for item in tokens:\n",
    "        stemmed.append(stemmer.stem(item))\n",
    "    return stemmed\n",
    "\n",
    "def text_cleaner(text, stem=False):\n",
    "    # puntuacion\n",
    "    text = ''.join([c for c in text if c not in non_words])\n",
    "    # caracteres repetidos\n",
    "    text = re.sub(r'(.)\\1+', r'\\1\\1', text)\n",
    "    # tokenize\n",
    "    tokens = casual_tokenize(text, preserve_case=False)\n",
    "    # quitar stopwords\n",
    "    filtered_sentence = [w for w in tokens if not w in spanish_stopwords]\n",
    "    # stemming\n",
    "    if stem:\n",
    "        filtered_sentence = stem_tokens(filtered_sentence, stemmer)\n",
    "    \n",
    "    return \" \".join(filtered_sentence)"
   ]
  },
  {
   "cell_type": "code",
   "execution_count": 14,
   "id": "51ab3238",
   "metadata": {},
   "outputs": [
    {
     "data": {
      "text/plain": [
       "'canciller brasil presenta renuncia tras presiones legisladores bolsonaristas ministro relaciones exteriores brasil ernesto araújo presentó lunes renuncia tras fuertes presiones sectores políticos afines presidente jair bolsonaro acusaron obstac'"
      ]
     },
     "execution_count": 14,
     "metadata": {},
     "output_type": "execute_result"
    }
   ],
   "source": [
    "text_cleaner(new_df.content[2])"
   ]
  },
  {
   "cell_type": "code",
   "execution_count": 15,
   "id": "f901dc81",
   "metadata": {},
   "outputs": [
    {
     "data": {
      "text/plain": [
       "'cancill brasil present renunci tras presion legisl bolsonar ministr relacion exterior brasil ernest arauj present lun renunci tras fuert presion sector polit afin president jair bolsonar acus obstac'"
      ]
     },
     "execution_count": 15,
     "metadata": {},
     "output_type": "execute_result"
    }
   ],
   "source": [
    "text_cleaner(new_df.content[2], stem=True)"
   ]
  },
  {
   "cell_type": "code",
   "execution_count": 16,
   "id": "e62c68e8",
   "metadata": {},
   "outputs": [],
   "source": [
    "train_size = 0.70"
   ]
  },
  {
   "cell_type": "code",
   "execution_count": 17,
   "id": "460c1ae7",
   "metadata": {},
   "outputs": [
    {
     "data": {
      "text/html": [
       "<div>\n",
       "<style scoped>\n",
       "    .dataframe tbody tr th:only-of-type {\n",
       "        vertical-align: middle;\n",
       "    }\n",
       "\n",
       "    .dataframe tbody tr th {\n",
       "        vertical-align: top;\n",
       "    }\n",
       "\n",
       "    .dataframe thead th {\n",
       "        text-align: right;\n",
       "    }\n",
       "</style>\n",
       "<table border=\"1\" class=\"dataframe\">\n",
       "  <thead>\n",
       "    <tr style=\"text-align: right;\">\n",
       "      <th></th>\n",
       "      <th>category</th>\n",
       "      <th>count(*)</th>\n",
       "    </tr>\n",
       "  </thead>\n",
       "  <tbody>\n",
       "    <tr>\n",
       "      <th>0</th>\n",
       "      <td>9-Crimen_delitos_y_Justicia</td>\n",
       "      <td>556</td>\n",
       "    </tr>\n",
       "    <tr>\n",
       "      <th>1</th>\n",
       "      <td>8-Ecología_y_Planeta</td>\n",
       "      <td>556</td>\n",
       "    </tr>\n",
       "    <tr>\n",
       "      <th>2</th>\n",
       "      <td>7-Deporte</td>\n",
       "      <td>556</td>\n",
       "    </tr>\n",
       "    <tr>\n",
       "      <th>3</th>\n",
       "      <td>6-Cultura_y_Artes</td>\n",
       "      <td>556</td>\n",
       "    </tr>\n",
       "    <tr>\n",
       "      <th>4</th>\n",
       "      <td>5-Catástrofes_y_Accidentes</td>\n",
       "      <td>556</td>\n",
       "    </tr>\n",
       "    <tr>\n",
       "      <th>5</th>\n",
       "      <td>4-Ciencias_y_Tecnología</td>\n",
       "      <td>556</td>\n",
       "    </tr>\n",
       "    <tr>\n",
       "      <th>6</th>\n",
       "      <td>3-Política_y_Conflictos</td>\n",
       "      <td>556</td>\n",
       "    </tr>\n",
       "    <tr>\n",
       "      <th>7</th>\n",
       "      <td>2-Economía</td>\n",
       "      <td>556</td>\n",
       "    </tr>\n",
       "    <tr>\n",
       "      <th>8</th>\n",
       "      <td>10-Salud</td>\n",
       "      <td>556</td>\n",
       "    </tr>\n",
       "    <tr>\n",
       "      <th>9</th>\n",
       "      <td>1-Mundo</td>\n",
       "      <td>556</td>\n",
       "    </tr>\n",
       "  </tbody>\n",
       "</table>\n",
       "</div>"
      ],
      "text/plain": [
       "                      category  count(*)\n",
       "0  9-Crimen_delitos_y_Justicia       556\n",
       "1         8-Ecología_y_Planeta       556\n",
       "2                    7-Deporte       556\n",
       "3            6-Cultura_y_Artes       556\n",
       "4   5-Catástrofes_y_Accidentes       556\n",
       "5      4-Ciencias_y_Tecnología       556\n",
       "6      3-Política_y_Conflictos       556\n",
       "7                   2-Economía       556\n",
       "8                     10-Salud       556\n",
       "9                      1-Mundo       556"
      ]
     },
     "execution_count": 17,
     "metadata": {},
     "output_type": "execute_result"
    }
   ],
   "source": [
    "train_idxs = new_df.groupby('category').sample(frac=train_size, random_state=2).index\n",
    "train_df = new_df.iloc[train_idxs]\n",
    "q=\"\"\"SELECT category, count(*) FROM train_df GROUP BY category ORDER BY count(*) DESC;\"\"\"\n",
    "result=sqldf(q)\n",
    "result"
   ]
  },
  {
   "cell_type": "code",
   "execution_count": 18,
   "id": "9d6a3a65",
   "metadata": {},
   "outputs": [
    {
     "data": {
      "text/html": [
       "<div>\n",
       "<style scoped>\n",
       "    .dataframe tbody tr th:only-of-type {\n",
       "        vertical-align: middle;\n",
       "    }\n",
       "\n",
       "    .dataframe tbody tr th {\n",
       "        vertical-align: top;\n",
       "    }\n",
       "\n",
       "    .dataframe thead th {\n",
       "        text-align: right;\n",
       "    }\n",
       "</style>\n",
       "<table border=\"1\" class=\"dataframe\">\n",
       "  <thead>\n",
       "    <tr style=\"text-align: right;\">\n",
       "      <th></th>\n",
       "      <th>category</th>\n",
       "      <th>count(*)</th>\n",
       "    </tr>\n",
       "  </thead>\n",
       "  <tbody>\n",
       "    <tr>\n",
       "      <th>0</th>\n",
       "      <td>9-Crimen_delitos_y_Justicia</td>\n",
       "      <td>239</td>\n",
       "    </tr>\n",
       "    <tr>\n",
       "      <th>1</th>\n",
       "      <td>8-Ecología_y_Planeta</td>\n",
       "      <td>239</td>\n",
       "    </tr>\n",
       "    <tr>\n",
       "      <th>2</th>\n",
       "      <td>7-Deporte</td>\n",
       "      <td>239</td>\n",
       "    </tr>\n",
       "    <tr>\n",
       "      <th>3</th>\n",
       "      <td>6-Cultura_y_Artes</td>\n",
       "      <td>239</td>\n",
       "    </tr>\n",
       "    <tr>\n",
       "      <th>4</th>\n",
       "      <td>5-Catástrofes_y_Accidentes</td>\n",
       "      <td>239</td>\n",
       "    </tr>\n",
       "    <tr>\n",
       "      <th>5</th>\n",
       "      <td>4-Ciencias_y_Tecnología</td>\n",
       "      <td>239</td>\n",
       "    </tr>\n",
       "    <tr>\n",
       "      <th>6</th>\n",
       "      <td>3-Política_y_Conflictos</td>\n",
       "      <td>239</td>\n",
       "    </tr>\n",
       "    <tr>\n",
       "      <th>7</th>\n",
       "      <td>2-Economía</td>\n",
       "      <td>239</td>\n",
       "    </tr>\n",
       "    <tr>\n",
       "      <th>8</th>\n",
       "      <td>10-Salud</td>\n",
       "      <td>239</td>\n",
       "    </tr>\n",
       "    <tr>\n",
       "      <th>9</th>\n",
       "      <td>1-Mundo</td>\n",
       "      <td>239</td>\n",
       "    </tr>\n",
       "  </tbody>\n",
       "</table>\n",
       "</div>"
      ],
      "text/plain": [
       "                      category  count(*)\n",
       "0  9-Crimen_delitos_y_Justicia       239\n",
       "1         8-Ecología_y_Planeta       239\n",
       "2                    7-Deporte       239\n",
       "3            6-Cultura_y_Artes       239\n",
       "4   5-Catástrofes_y_Accidentes       239\n",
       "5      4-Ciencias_y_Tecnología       239\n",
       "6      3-Política_y_Conflictos       239\n",
       "7                   2-Economía       239\n",
       "8                     10-Salud       239\n",
       "9                      1-Mundo       239"
      ]
     },
     "execution_count": 18,
     "metadata": {},
     "output_type": "execute_result"
    }
   ],
   "source": [
    "test_idxs = pd.concat([new_df, train_df]).drop_duplicates(keep=False).index\n",
    "test_df = new_df.iloc[test_idxs]\n",
    "q=\"\"\"SELECT category, count(*) FROM test_df GROUP BY category ORDER BY count(*) DESC;\"\"\"\n",
    "result=sqldf(q)\n",
    "result"
   ]
  },
  {
   "cell_type": "code",
   "execution_count": 19,
   "id": "502b0530",
   "metadata": {},
   "outputs": [],
   "source": [
    "from sklearn.preprocessing import LabelEncoder\n",
    "from sklearn.feature_extraction.text import TfidfVectorizer\n",
    "from sklearn.metrics import plot_confusion_matrix, classification_report\n",
    "from sklearn.pipeline import Pipeline\n",
    "\n",
    "import matplotlib.pyplot as plt\n",
    "%matplotlib notebook\n",
    "from functools import partial\n",
    "import numpy as np"
   ]
  },
  {
   "cell_type": "code",
   "execution_count": 20,
   "id": "bcd18907",
   "metadata": {},
   "outputs": [],
   "source": [
    "from sklearn.linear_model import LogisticRegression\n",
    "from sklearn.ensemble import RandomForestClassifier"
   ]
  },
  {
   "cell_type": "code",
   "execution_count": 21,
   "id": "94bc424e",
   "metadata": {},
   "outputs": [
    {
     "name": "stdout",
     "output_type": "stream",
     "text": [
      " 1-Mundo      :  0\n",
      " 10-Salud     :  1\n",
      " 2-Economía   :  2\n",
      " 3-Política_y_Conflictos :  3\n",
      " 4-Ciencias_y_Tecnología :  4\n",
      " 5-Catástrofes_y_Accidentes :  5\n",
      " 6-Cultura_y_Artes :  6\n",
      " 7-Deporte    :  7\n",
      " 8-Ecología_y_Planeta :  8\n",
      " 9-Crimen_delitos_y_Justicia :  9\n"
     ]
    }
   ],
   "source": [
    "lb = LabelEncoder()\n",
    "ylabels = new_df['category']\n",
    "# unique_labels = sorted(ylabels.unique(), key=lambda x : len(x.split('-')[0]))\n",
    "lb.fit(ylabels.unique())\n",
    "true_labels = [lb.inverse_transform([i])[0] for i in range(ylabels.nunique())]\n",
    "ylabels_train_target = lb.fit_transform(ylabels[train_idxs])\n",
    "ylabels_test_target = lb.fit_transform(ylabels[test_idxs])\n",
    "\n",
    "# tendriamos que hacer zfill para que queden ordenadas (01-mundo, 02- economia)\n",
    "# o quitar el numero y ya xd\n",
    "for label in true_labels:\n",
    "    print(f\" {label:<12} :  {lb.transform([label])[0]}\")"
   ]
  },
  {
   "cell_type": "code",
   "execution_count": 22,
   "id": "364b16e1",
   "metadata": {},
   "outputs": [
    {
     "name": "stdout",
     "output_type": "stream",
     "text": [
      "['Trivia', ':', 'Ponte', 'a', 'prueba', 'y', 'responde', 'estas', 'preguntas', 'de', 'actualidad', '.', '¿', 'En', 'qué', 'región', 'hubo', 'mayor', 'porcentaj']\n"
     ]
    }
   ],
   "source": [
    "# Word tokenization\n",
    "from spacy.lang.es import Spanish\n",
    "\n",
    "# Load English tokenizer, tagger, parser, NER and word vectors\n",
    "nlp = Spanish()\n",
    "\n",
    "text = new_df.sample(n=1)['content'].values[0][:100]\n",
    "#  \"nlp\" Object is used to create documents with linguistic annotations.\n",
    "my_doc = nlp(text)\n",
    "\n",
    "# Create list of word tokens\n",
    "token_list = []\n",
    "for token in my_doc:\n",
    "    token_list.append(token.text)\n",
    "print(token_list)"
   ]
  },
  {
   "cell_type": "code",
   "execution_count": 23,
   "id": "25fb798d",
   "metadata": {},
   "outputs": [
    {
     "name": "stdout",
     "output_type": "stream",
     "text": [
      "Filtered Sentence: [Trivia, :, Ponte, a, prueba, y, responde, preguntas, actualidad, ., ¿, región, porcentaj]\n"
     ]
    }
   ],
   "source": [
    "#Stop words\n",
    "#importing stop words from English language.\n",
    "from spacy.lang.es.stop_words import STOP_WORDS\n",
    "\n",
    "#Implementation of stop words:\n",
    "filtered_sent=[]\n",
    "\n",
    "#  \"nlp\" Object is used to create documents with linguistic annotations.\n",
    "doc = nlp(text)\n",
    "\n",
    "for word in doc:\n",
    "    if word.is_stop==False:\n",
    "        filtered_sent.append(word)\n",
    "print(\"Filtered Sentence:\",filtered_sent)"
   ]
  },
  {
   "cell_type": "code",
   "execution_count": 24,
   "id": "4e01b3ad",
   "metadata": {},
   "outputs": [],
   "source": [
    "import string\n",
    "import spacy\n",
    "\n",
    "nlp = spacy.load('es_core_news_md', disable=['parser','ner','textcat','...'] )\n",
    "# Create our list of punctuation marks\n",
    "punctuations = string.punctuation\n",
    "\n",
    "# Create our list of stopwords\n",
    "nlp = spacy.load(\"es_core_news_md\")\n",
    "stop_words = STOP_WORDS"
   ]
  },
  {
   "cell_type": "code",
   "execution_count": 25,
   "id": "c2c77fbf",
   "metadata": {},
   "outputs": [],
   "source": [
    "from nltk.stem import SnowballStemmer\n",
    "stemmer = SnowballStemmer('spanish')\n",
    "\n",
    "# Creating our tokenizer function\n",
    "def spacy_tokenizer(sentence, stem=False):\n",
    "    # Creating our token object, which is used to create documents with linguistic annotations.\n",
    "    mytokens = nlp(sentence)\n",
    "    # Lemmatizing each token and converting each token into lowercase\n",
    "    mytokens = [ word.lemma_.lower().strip() for word in mytokens]\n",
    "    \n",
    "    # Removing stop words, ver lo de puntuuacion con  token.tag_\n",
    "    mytokens = [ word for word in mytokens \n",
    "                          if word not in stop_words \n",
    "                          and word not in punctuations ]\n",
    "    if stem:\n",
    "        mytokens = [ stemmer.stem(word) for word in mytokens ]\n",
    "    # return preprocessed list of tokens\n",
    "    return \" \".join(mytokens)"
   ]
  },
  {
   "cell_type": "code",
   "execution_count": 26,
   "id": "c8e29a80",
   "metadata": {},
   "outputs": [],
   "source": [
    "from sklearn.feature_extraction.text import TfidfVectorizer\n",
    "from sklearn.metrics import plot_confusion_matrix, classification_report\n",
    "from functools import partial\n",
    "import matplotlib.pyplot as plt\n",
    "from sklearn.linear_model import LogisticRegression"
   ]
  },
  {
   "cell_type": "code",
   "execution_count": null,
   "id": "f31c5c5e",
   "metadata": {},
   "outputs": [],
   "source": [
    "vectorizer = TfidfVectorizer(preprocessor=partial(spacy_tokenizer, stem=False))\n",
    "XD = vectorizer.fit_transform(new_df['content'])\n",
    "feature_names = vectorizer.get_feature_names()"
   ]
  },
  {
   "cell_type": "code",
   "execution_count": null,
   "id": "6531a24c",
   "metadata": {},
   "outputs": [],
   "source": [
    "X_train = XD[train_idxs]\n",
    "X_test = XD[test_idxs]"
   ]
  },
  {
   "cell_type": "code",
   "execution_count": null,
   "id": "ace2939c",
   "metadata": {},
   "outputs": [],
   "source": [
    "lgr = LogisticRegression(random_state=42, multi_class='ovr', class_weight=None)\n",
    "lgr.fit(X_train, ylabels_train_target)"
   ]
  },
  {
   "cell_type": "code",
   "execution_count": null,
   "id": "cbac9aab",
   "metadata": {},
   "outputs": [],
   "source": [
    "def predict_and_compare(df, vectorized_df, idxs=(0, 6)):\n",
    "    predictions = lgr.predict(vectorized_df[idxs[0]:idxs[1]])\n",
    "    predict_probs = lgr.predict_proba(vectorized_df[idxs[0]:idxs[1]])\n",
    "    for i, (pred, probs) in enumerate(zip(predictions, predict_probs)):\n",
    "        print('\\n', df.iloc[i+idxs[0]].url)\n",
    "        print()\n",
    "        print(df.iloc[i+idxs[0]].text[:200], '...')\n",
    "        print()\n",
    "        print(f'predicted ---{lb.inverse_transform([pred])[0]}---', end=' ')\n",
    "        print(f'prob: {probs[pred]:.3f}')\n",
    "        print('*'*60)"
   ]
  },
  {
   "cell_type": "code",
   "execution_count": null,
   "id": "ac97fd26",
   "metadata": {},
   "outputs": [],
   "source": [
    "def results(ylb, text_clf, X_test):\n",
    "    predicted = text_clf.predict(X_test)\n",
    "    clf_name = type(text_clf).__name__\n",
    "    print(f\"Resultados clasificación\\n{clf_name}\\n\\n\")\n",
    "    print(classification_report(ylb, predicted, target_names=true_labels))\n",
    "    fig, ax = plt.subplots(figsize=(7, 7), tight_layout=True)\n",
    "    plot_confusion_matrix(text_clf, X_test, ylb,\n",
    "                          display_labels=true_labels,\n",
    "                          ax=ax,\n",
    "                          cmap='Blues')\n",
    "    ax.set_title(f\"Matriz de Confusión\\n{clf_name}\")\n",
    "    plt.xticks(rotation=60)\n",
    "    plt.show()"
   ]
  },
  {
   "cell_type": "code",
   "execution_count": null,
   "id": "620c1e30",
   "metadata": {},
   "outputs": [],
   "source": [
    "results(ylabels_test_target, lgr, X_test)"
   ]
  }
 ],
 "metadata": {
  "kernelspec": {
   "display_name": "Python 3 (ipykernel)",
   "language": "python",
   "name": "python3"
  },
  "language_info": {
   "codemirror_mode": {
    "name": "ipython",
    "version": 3
   },
   "file_extension": ".py",
   "mimetype": "text/x-python",
   "name": "python",
   "nbconvert_exporter": "python",
   "pygments_lexer": "ipython3",
   "version": "3.9.7"
  },
  "toc": {
   "base_numbering": 1,
   "nav_menu": {},
   "number_sections": true,
   "sideBar": true,
   "skip_h1_title": false,
   "title_cell": "Table of Contents",
   "title_sidebar": "Contents",
   "toc_cell": false,
   "toc_position": {},
   "toc_section_display": true,
   "toc_window_display": false
  }
 },
 "nbformat": 4,
 "nbformat_minor": 5
}
