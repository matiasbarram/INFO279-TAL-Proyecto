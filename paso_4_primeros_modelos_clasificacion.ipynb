{
 "cells": [
  {
   "cell_type": "markdown",
   "id": "3ac6f335",
   "metadata": {},
   "source": [
    "fase de clasificacion supervisada: preparar cuadernillos con los experimentos, explicar modelos utilizados (reg log, random forest ... cnn), comparar rendimiendo y buscar formas para mejorar"
   ]
  },
  {
   "cell_type": "markdown",
   "id": "a62d0faf",
   "metadata": {},
   "source": [
    "Una vez obtenido un dataset con suficientes noticias de cada categoria objetivo, procedimos a realizar los primeros entrenamientos de distintos modelos de clasificacion supervisada, contemplando tambien una fase de preprocesamiento de la entrada para mejorar en algunos aspectos y simplificar otros..."
   ]
  },
  {
   "cell_type": "markdown",
   "id": "6bda19ea",
   "metadata": {},
   "source": [
    "# Preprocesamiento"
   ]
  },
  {
   "cell_type": "markdown",
   "id": "b17a27f3",
   "metadata": {},
   "source": [
    "## Titulo y cuerpo de la noticia\n",
    "\n",
    "Como se comento en pasos anteriores, el titulo de una noticia es de gran importancia ya que concentra una gran cantidad de informacion, por lo que es una buena idea incluirlo dentro de los datos con los que se entrenaran nuestros modelos. El dataset contiene una columna 'content' en el que se encuentra el titulo de la noticia mas el cuerpo "
   ]
  },
  {
   "cell_type": "markdown",
   "id": "be5ad969",
   "metadata": {},
   "source": [
    "..."
   ]
  },
  {
   "cell_type": "code",
   "execution_count": 2,
   "id": "ab770e30",
   "metadata": {},
   "outputs": [],
   "source": [
    "import pandas as pd\n",
    "from pandasql import sqldf\n",
    "from os.path import join"
   ]
  },
  {
   "cell_type": "code",
   "execution_count": 3,
   "id": "276097bd",
   "metadata": {},
   "outputs": [
    {
     "data": {
      "text/html": [
       "<div>\n",
       "<style scoped>\n",
       "    .dataframe tbody tr th:only-of-type {\n",
       "        vertical-align: middle;\n",
       "    }\n",
       "\n",
       "    .dataframe tbody tr th {\n",
       "        vertical-align: top;\n",
       "    }\n",
       "\n",
       "    .dataframe thead th {\n",
       "        text-align: right;\n",
       "    }\n",
       "</style>\n",
       "<table border=\"1\" class=\"dataframe\">\n",
       "  <thead>\n",
       "    <tr style=\"text-align: right;\">\n",
       "      <th></th>\n",
       "      <th>title</th>\n",
       "      <th>content</th>\n",
       "    </tr>\n",
       "  </thead>\n",
       "  <tbody>\n",
       "    <tr>\n",
       "      <th>0</th>\n",
       "      <td>Vacunación en Chile empezaría primer trimestre del 2021 e incluiría a 15,2 millones de personas</td>\n",
       "      <td>Vacunación en Chile empezaría primer trimestre del 2021 e incluiría a 15,2 millones de personas.  Este martes, el Presidente Sebastián Piñera anunció que el plan de vacunación para combatir el cor...</td>\n",
       "    </tr>\n",
       "    <tr>\n",
       "      <th>1</th>\n",
       "      <td>Sernapesca: \"Viabilidad del virus de infectar es muy baja\" tras hallazgo de COVID-19 en paquete chileno en China</td>\n",
       "      <td>Sernapesca: \"Viabilidad del virus de infectar es muy baja\" tras hallazgo de COVID-19 en paquete chileno en China. La aduana china detectó la presencia del virus COVID-19 en la superficie de una ca...</td>\n",
       "    </tr>\n",
       "    <tr>\n",
       "      <th>2</th>\n",
       "      <td>Presidente de México asegura que la pandemia \"no nos ha rebasado\"</td>\n",
       "      <td>Presidente de México asegura que la pandemia \"no nos ha rebasado\". El presidente de México, Andrés Manuel López Obrador, afirmó que su gobierno ha logrado controlar la pandemia del nuevo coronavir...</td>\n",
       "    </tr>\n",
       "    <tr>\n",
       "      <th>3</th>\n",
       "      <td>Gobierno de Uruguay endurece medidas por aumento sostenido de casos de covid-19</td>\n",
       "      <td>Gobierno de Uruguay endurece medidas por aumento sostenido de casos de covid-19. El presidente de Uruguay, Luis Lacalle Pou, anunció este martes nuevas medidas para contener el avance de la pandem...</td>\n",
       "    </tr>\n",
       "    <tr>\n",
       "      <th>4</th>\n",
       "      <td>Presidente boliviano destituye a ministro que contrató a su expareja</td>\n",
       "      <td>Presidente boliviano destituye a ministro que contrató a su expareja. El presidente boliviano, Luis Arce, destituyó este martes a un ministro que contrató como su brazo derecho a una expareja, a q...</td>\n",
       "    </tr>\n",
       "  </tbody>\n",
       "</table>\n",
       "</div>"
      ],
      "text/plain": [
       "                                                                                                              title  \\\n",
       "0                   Vacunación en Chile empezaría primer trimestre del 2021 e incluiría a 15,2 millones de personas   \n",
       "1  Sernapesca: \"Viabilidad del virus de infectar es muy baja\" tras hallazgo de COVID-19 en paquete chileno en China   \n",
       "2                                                 Presidente de México asegura que la pandemia \"no nos ha rebasado\"   \n",
       "3                                   Gobierno de Uruguay endurece medidas por aumento sostenido de casos de covid-19   \n",
       "4                                              Presidente boliviano destituye a ministro que contrató a su expareja   \n",
       "\n",
       "                                                                                                                                                                                                   content  \n",
       "0  Vacunación en Chile empezaría primer trimestre del 2021 e incluiría a 15,2 millones de personas.  Este martes, el Presidente Sebastián Piñera anunció que el plan de vacunación para combatir el cor...  \n",
       "1  Sernapesca: \"Viabilidad del virus de infectar es muy baja\" tras hallazgo de COVID-19 en paquete chileno en China. La aduana china detectó la presencia del virus COVID-19 en la superficie de una ca...  \n",
       "2  Presidente de México asegura que la pandemia \"no nos ha rebasado\". El presidente de México, Andrés Manuel López Obrador, afirmó que su gobierno ha logrado controlar la pandemia del nuevo coronavir...  \n",
       "3  Gobierno de Uruguay endurece medidas por aumento sostenido de casos de covid-19. El presidente de Uruguay, Luis Lacalle Pou, anunció este martes nuevas medidas para contener el avance de la pandem...  \n",
       "4  Presidente boliviano destituye a ministro que contrató a su expareja. El presidente boliviano, Luis Arce, destituyó este martes a un ministro que contrató como su brazo derecho a una expareja, a q...  "
      ]
     },
     "execution_count": 3,
     "metadata": {},
     "output_type": "execute_result"
    }
   ],
   "source": [
    "ds_names = ['dataset_paso_3.csv',  # original\n",
    "            'dataset_paso3d5.csv', # + cultura y planeta\n",
    "            'dataset_paso3d8.csv', # + cultura \n",
    "            'dataset_paso3d9.csv', # + planeta (sin mucho cambio)\n",
    "            'dataset_paso3d96.csv'] # + cultura, planeta y catastrofes\n",
    "MAX_LEN = 1400\n",
    "RANDOM_STATE = 8008\n",
    "folder = './datasets'\n",
    "df = pd.read_csv(join(folder, ds_names[-1]))\n",
    "#df = pd.read_csv('dataset_paso_3.csv')\n",
    "pd.set_option('display.max_colwidth', 200)\n",
    "df[['title', 'content']].head()"
   ]
  },
  {
   "cell_type": "code",
   "execution_count": 4,
   "id": "2d093c49",
   "metadata": {},
   "outputs": [
    {
     "data": {
      "text/plain": [
       "category\n",
       "5-Catástrofes_y_Accidentes     1430\n",
       "8-Ecología_y_Planeta           1452\n",
       "6-Cultura_y_Artes              1678\n",
       "2-Economía                     2635\n",
       "10-Salud                       2683\n",
       "4-Ciencias_y_Tecnología        4772\n",
       "7-Deporte                      6702\n",
       "9-Crimen_delitos_y_Justicia    8212\n",
       "1-Mundo                        8586\n",
       "3-Política_y_Conflictos        8951\n",
       "dtype: int64"
      ]
     },
     "execution_count": 4,
     "metadata": {},
     "output_type": "execute_result"
    }
   ],
   "source": [
    "_df = df.groupby(['category']).size().sort_values()\n",
    "_df"
   ]
  },
  {
   "cell_type": "code",
   "execution_count": 5,
   "id": "8d6eb1ad",
   "metadata": {},
   "outputs": [
    {
     "data": {
      "text/plain": [
       "1430"
      ]
     },
     "execution_count": 5,
     "metadata": {},
     "output_type": "execute_result"
    }
   ],
   "source": [
    "SAMPLE_SIZE = _df[0]\n",
    "SAMPLE_SIZE"
   ]
  },
  {
   "cell_type": "markdown",
   "id": "9d20d485",
   "metadata": {},
   "source": [
    "# balancear el dataset alan tigua?\n",
    "## Exportar dataset balanceado para el siguiente paso"
   ]
  },
  {
   "cell_type": "code",
   "execution_count": 6,
   "id": "e62c59d3",
   "metadata": {},
   "outputs": [
    {
     "name": "stdout",
     "output_type": "stream",
     "text": [
      "./datasets/ds_balanced_1430_rs8008.csv\n"
     ]
    },
    {
     "data": {
      "text/html": [
       "<div>\n",
       "<style scoped>\n",
       "    .dataframe tbody tr th:only-of-type {\n",
       "        vertical-align: middle;\n",
       "    }\n",
       "\n",
       "    .dataframe tbody tr th {\n",
       "        vertical-align: top;\n",
       "    }\n",
       "\n",
       "    .dataframe thead th {\n",
       "        text-align: right;\n",
       "    }\n",
       "</style>\n",
       "<table border=\"1\" class=\"dataframe\">\n",
       "  <thead>\n",
       "    <tr style=\"text-align: right;\">\n",
       "      <th></th>\n",
       "      <th>id</th>\n",
       "      <th>title</th>\n",
       "      <th>content</th>\n",
       "      <th>category</th>\n",
       "      <th>url</th>\n",
       "      <th>text</th>\n",
       "      <th>index</th>\n",
       "    </tr>\n",
       "  </thead>\n",
       "  <tbody>\n",
       "    <tr>\n",
       "      <th>0</th>\n",
       "      <td>14804921</td>\n",
       "      <td>Gobierno peruano presenta recurso para suspender juicio político al Presidente Vizcarra</td>\n",
       "      <td>Gobierno peruano presenta recurso para suspender juicio político al Presidente Vizcarra. El  Gobierno peruano  presentó el lunes una demanda para que el Tribunal Constitucional defina si el Congre...</td>\n",
       "      <td>1-Mundo</td>\n",
       "      <td>NaN</td>\n",
       "      <td>NaN</td>\n",
       "      <td>NaN</td>\n",
       "    </tr>\n",
       "    <tr>\n",
       "      <th>1</th>\n",
       "      <td>614295</td>\n",
       "      <td>Estados Unidos supera una vez más el récord de casos nuevos diarios de covid-19</td>\n",
       "      <td>Estados Unidos supera una vez más el récord de casos nuevos diarios de covid-19. Estados Unidos registró el jueves más de 210.000 casos nuevos de coronavirus en un día, la cifra más alta desde el ...</td>\n",
       "      <td>1-Mundo</td>\n",
       "      <td>NaN</td>\n",
       "      <td>NaN</td>\n",
       "      <td>NaN</td>\n",
       "    </tr>\n",
       "    <tr>\n",
       "      <th>2</th>\n",
       "      <td>14802746</td>\n",
       "      <td>Perú reanudará en octubre vuelos con Chile y otros cinco países tras presentar mejora en el coronavirus</td>\n",
       "      <td>Perú reanudará en octubre vuelos con Chile y otros cinco países tras presentar mejora en el coronavirus. Perú reanudará los vuelos internacionales con seis países a partir del 5 de octubre, los qu...</td>\n",
       "      <td>1-Mundo</td>\n",
       "      <td>NaN</td>\n",
       "      <td>NaN</td>\n",
       "      <td>NaN</td>\n",
       "    </tr>\n",
       "    <tr>\n",
       "      <th>3</th>\n",
       "      <td>5688988</td>\n",
       "      <td>Exprimer ministro italiano Berlusconi hospitalizado por problemas cardíacos</td>\n",
       "      <td>Exprimer ministro italiano Berlusconi hospitalizado por problemas cardíacos. El exprimer ministro italiano Silvio Berlusconi fue ingresado en un hospital de Mónaco tras sufrir problemas cardíacos,...</td>\n",
       "      <td>1-Mundo</td>\n",
       "      <td>NaN</td>\n",
       "      <td>NaN</td>\n",
       "      <td>NaN</td>\n",
       "    </tr>\n",
       "    <tr>\n",
       "      <th>4</th>\n",
       "      <td>617306</td>\n",
       "      <td>\"Embarazoso\": Biden arremete contra Trump por no reconocer derrota en recientes elecciones</td>\n",
       "      <td>\"Embarazoso\": Biden arremete contra Trump por no reconocer derrota en recientes elecciones. El presidente electo de Estados Unidos, Joe Biden, dijo el martes que la negativa del mandatario Donald ...</td>\n",
       "      <td>1-Mundo</td>\n",
       "      <td>NaN</td>\n",
       "      <td>NaN</td>\n",
       "      <td>NaN</td>\n",
       "    </tr>\n",
       "  </tbody>\n",
       "</table>\n",
       "</div>"
      ],
      "text/plain": [
       "         id  \\\n",
       "0  14804921   \n",
       "1    614295   \n",
       "2  14802746   \n",
       "3   5688988   \n",
       "4    617306   \n",
       "\n",
       "                                                                                                     title  \\\n",
       "0                  Gobierno peruano presenta recurso para suspender juicio político al Presidente Vizcarra   \n",
       "1                          Estados Unidos supera una vez más el récord de casos nuevos diarios de covid-19   \n",
       "2  Perú reanudará en octubre vuelos con Chile y otros cinco países tras presentar mejora en el coronavirus   \n",
       "3                              Exprimer ministro italiano Berlusconi hospitalizado por problemas cardíacos   \n",
       "4               \"Embarazoso\": Biden arremete contra Trump por no reconocer derrota en recientes elecciones   \n",
       "\n",
       "                                                                                                                                                                                                   content  \\\n",
       "0  Gobierno peruano presenta recurso para suspender juicio político al Presidente Vizcarra. El  Gobierno peruano  presentó el lunes una demanda para que el Tribunal Constitucional defina si el Congre...   \n",
       "1  Estados Unidos supera una vez más el récord de casos nuevos diarios de covid-19. Estados Unidos registró el jueves más de 210.000 casos nuevos de coronavirus en un día, la cifra más alta desde el ...   \n",
       "2  Perú reanudará en octubre vuelos con Chile y otros cinco países tras presentar mejora en el coronavirus. Perú reanudará los vuelos internacionales con seis países a partir del 5 de octubre, los qu...   \n",
       "3  Exprimer ministro italiano Berlusconi hospitalizado por problemas cardíacos. El exprimer ministro italiano Silvio Berlusconi fue ingresado en un hospital de Mónaco tras sufrir problemas cardíacos,...   \n",
       "4  \"Embarazoso\": Biden arremete contra Trump por no reconocer derrota en recientes elecciones. El presidente electo de Estados Unidos, Joe Biden, dijo el martes que la negativa del mandatario Donald ...   \n",
       "\n",
       "  category  url text  index  \n",
       "0  1-Mundo  NaN  NaN    NaN  \n",
       "1  1-Mundo  NaN  NaN    NaN  \n",
       "2  1-Mundo  NaN  NaN    NaN  \n",
       "3  1-Mundo  NaN  NaN    NaN  \n",
       "4  1-Mundo  NaN  NaN    NaN  "
      ]
     },
     "execution_count": 6,
     "metadata": {},
     "output_type": "execute_result"
    }
   ],
   "source": [
    "FORCE_BALANCE = True\n",
    "if FORCE_BALANCE:\n",
    "    new_df = df.groupby('category').sample(n=SAMPLE_SIZE, random_state=RANDOM_STATE)\n",
    "    new_df.reset_index(drop=True, inplace=True)\n",
    "    outname = join(folder, f'ds_balanced_{SAMPLE_SIZE}_rs{RANDOM_STATE}.csv')\n",
    "    new_df.to_csv(outname, index=False)\n",
    "    print(outname)\n",
    "else:\n",
    "    new_df = df\n",
    "new_df.head(5)"
   ]
  },
  {
   "cell_type": "code",
   "execution_count": 7,
   "id": "16217130",
   "metadata": {},
   "outputs": [
    {
     "data": {
      "text/plain": [
       "category\n",
       "1-Mundo                        1430\n",
       "10-Salud                       1430\n",
       "2-Economía                     1430\n",
       "3-Política_y_Conflictos        1430\n",
       "4-Ciencias_y_Tecnología        1430\n",
       "5-Catástrofes_y_Accidentes     1430\n",
       "6-Cultura_y_Artes              1430\n",
       "7-Deporte                      1430\n",
       "8-Ecología_y_Planeta           1430\n",
       "9-Crimen_delitos_y_Justicia    1430\n",
       "dtype: int64"
      ]
     },
     "execution_count": 7,
     "metadata": {},
     "output_type": "execute_result"
    }
   ],
   "source": [
    "new_df.groupby(['category']).size().sort_values()"
   ]
  },
  {
   "cell_type": "markdown",
   "id": "73ddabcc",
   "metadata": {},
   "source": [
    "## Truncar contenido\n",
    "\n",
    "\n",
    "habria que probar si esto mejora los pasos anteriores (lda) xd"
   ]
  },
  {
   "cell_type": "code",
   "execution_count": 9,
   "id": "6f3aebad",
   "metadata": {},
   "outputs": [
    {
     "name": "stdout",
     "output_type": "stream",
     "text": [
      "len:  35543 \n",
      " Chile: El plebiscito amenazado.  “Los guerreros victoriosos ganan primero y luego van a la guerra, mientras que los guerreros derrotados van a la guerra primero y luego buscan ganar” Sun Tzu 1.-Resumen Ante el próximo plebiscito por una nueva constitución, se analiza y evalúa la actual ofensiva de parte de la derecha para su neutralización. Se busca evitar la opción de Piñera de no realizar el plebiscito, haciendo del apruebo un consenso de gobierno y oposición, generando una situación en que todos estamos por el apruebo, evitando así el triunfo del progresismo y la ciudadanía. Por Alejandro Navarro Brain 2.- Escenarios de la votación para el 25 de octubre 2.1.- Alta participación y alta diferencia de votos 2.2.- Alta participación y baja diferencia de votos 2.3.- Baja participación y alta diferencia de votos 2.4.- Baja participación y baja diferencia de votos. 3.- Estrategias de campaña de la derecha en el plebiscito 3.1.-Pandemia, miedo y abstención: Con la situación de la pandemia, la derecha aspira a generar una situación como la 2.3 o 2.4 3.2.- La suspensión o dilución del plebiscito de entrada: la derecha quiere evitar cargar la cruz de la derrota del rechazo,y neutralizar el apruebo sumándose a él. Por otro lado,un paso directo a la Convención Constitucional, planteado por Piñera como una concesión, es la fórmula que busca revalorizar la figura presidencial 4.- Las cuatro tesis paralelas de la derecha 4.1.- La tesis José Antonio Kast, que busca suspender el plebiscito de manera indefinida, cuestionando también la legitimidad del mismo. 4.2.- La tesis Van Rysselberghe, que ha planteado públicamente la opción de abstenerse de votar en el plebiscito. 4.3.- La tesis Longueira: Que busca hacer que el apruebo sea de todos los sectores, y de esta manera, neutralizar sus efectos políticos 4.4.- La tesis Allamand: Busca que el gobierno se sume al rechazo, y que se pueda reducir la diferencia entre ambas alternativas. 5.- Seis acciones inmediatas ante la ofensiva de la ...\n"
     ]
    }
   ],
   "source": [
    "lol = df.content.map(len).idxmax()\n",
    "print(\"len: \", len(df.iloc[lol].content), \"\\n\", df.iloc[lol].content[:2000], \"...\") # ?????"
   ]
  },
  {
   "cell_type": "markdown",
   "id": "dfa0603c",
   "metadata": {},
   "source": [
    "## Cuanto truncar??"
   ]
  },
  {
   "cell_type": "code",
   "execution_count": 10,
   "id": "57daa02f",
   "metadata": {},
   "outputs": [],
   "source": [
    "new_df['content'] = new_df.content.str.slice(0, MAX_LEN)"
   ]
  },
  {
   "cell_type": "code",
   "execution_count": 11,
   "id": "3f4003e4",
   "metadata": {},
   "outputs": [
    {
     "name": "stdout",
     "output_type": "stream",
     "text": [
      "min len:  147\n",
      "max len:  1400\n"
     ]
    }
   ],
   "source": [
    "print('min len: ', new_df.content.map(len).min())\n",
    "print('max len: ', new_df.content.map(len).max())"
   ]
  },
  {
   "cell_type": "markdown",
   "id": "f3ced1fd",
   "metadata": {},
   "source": [
    "## Bag of words + tf-idf"
   ]
  },
  {
   "cell_type": "code",
   "execution_count": 12,
   "id": "c472df66",
   "metadata": {},
   "outputs": [],
   "source": [
    "from sklearn.feature_extraction.text import TfidfVectorizer"
   ]
  },
  {
   "cell_type": "markdown",
   "id": "bf765137",
   "metadata": {},
   "source": [
    "## NLTK"
   ]
  },
  {
   "cell_type": "code",
   "execution_count": 13,
   "id": "485e8b38",
   "metadata": {},
   "outputs": [],
   "source": [
    "from nltk.corpus import stopwords\n",
    "from nltk.tokenize.casual import casual_tokenize\n",
    "from nltk.stem import SnowballStemmer\n",
    "\n",
    "from sklearn.preprocessing import LabelEncoder\n",
    "from sklearn.feature_extraction.text import TfidfVectorizer\n",
    "from functools import partial\n",
    "\n",
    "from sklearn.linear_model import LogisticRegression\n",
    "from sklearn.ensemble import RandomForestClassifier\n",
    "\n",
    "import matplotlib.pyplot as plt\n",
    "%matplotlib notebook\n",
    "from functools import partial\n",
    "import numpy as np\n",
    "\n",
    "from string import punctuation\n",
    "import re\n",
    "from tqdm.auto import tqdm\n",
    "import string\n",
    "import spacy"
   ]
  },
  {
   "cell_type": "code",
   "execution_count": 12,
   "id": "a33a1fc0",
   "metadata": {},
   "outputs": [],
   "source": [
    "#nltk.download('stopwords')\n",
    "#nltk.download('punkt')"
   ]
  },
  {
   "cell_type": "code",
   "execution_count": 16,
   "id": "d098a934",
   "metadata": {},
   "outputs": [],
   "source": [
    "#stopwords\n",
    "spanish_stopwords = stopwords.words('spanish')\n",
    "\n",
    "#stemmer\n",
    "stemmer = SnowballStemmer('spanish')\n",
    "\n",
    "#puntuacion\n",
    "non_words = list(punctuation)\n",
    "#incluir puntuacion del español\n",
    "non_words.extend(['¿', '¡'])\n",
    "#numeros\n",
    "non_words.extend(map(str,range(10)))"
   ]
  },
  {
   "cell_type": "markdown",
   "id": "03a273c2",
   "metadata": {},
   "source": [
    "# Incluir n-grams?"
   ]
  },
  {
   "cell_type": "code",
   "execution_count": 17,
   "id": "3af738a8",
   "metadata": {},
   "outputs": [],
   "source": [
    "stemmer = SnowballStemmer('spanish')\n",
    "\n",
    "def stem_tokens(tokens, stemmer):\n",
    "    stemmed = []\n",
    "    for item in tokens:\n",
    "        stemmed.append(stemmer.stem(item))\n",
    "    return stemmed\n",
    "\n",
    "def text_cleaner(text, stem=False):\n",
    "    # puntuacion\n",
    "    text = ''.join([c for c in text if c not in non_words])\n",
    "    # caracteres repetidos, skippeable\n",
    "    text = re.sub(r'(.)\\1+', r'\\1\\1', text)\n",
    "    # tokenize\n",
    "    tokens = casual_tokenize(text, preserve_case=False)\n",
    "    # quitar stopwords\n",
    "    filtered_sentence = [w for w in tokens if not w in spanish_stopwords]\n",
    "    # stemming\n",
    "    if stem:\n",
    "        filtered_sentence = stem_tokens(filtered_sentence, stemmer)\n",
    "    \n",
    "    return \" \".join(filtered_sentence)"
   ]
  },
  {
   "cell_type": "code",
   "execution_count": 18,
   "id": "4f12981e",
   "metadata": {},
   "outputs": [],
   "source": [
    "train_size = 0.70"
   ]
  },
  {
   "cell_type": "code",
   "execution_count": 19,
   "id": "2d78b941",
   "metadata": {},
   "outputs": [
    {
     "data": {
      "text/html": [
       "<div>\n",
       "<style scoped>\n",
       "    .dataframe tbody tr th:only-of-type {\n",
       "        vertical-align: middle;\n",
       "    }\n",
       "\n",
       "    .dataframe tbody tr th {\n",
       "        vertical-align: top;\n",
       "    }\n",
       "\n",
       "    .dataframe thead th {\n",
       "        text-align: right;\n",
       "    }\n",
       "</style>\n",
       "<table border=\"1\" class=\"dataframe\">\n",
       "  <thead>\n",
       "    <tr style=\"text-align: right;\">\n",
       "      <th></th>\n",
       "      <th>category</th>\n",
       "      <th>count(*)</th>\n",
       "    </tr>\n",
       "  </thead>\n",
       "  <tbody>\n",
       "    <tr>\n",
       "      <th>0</th>\n",
       "      <td>9-Crimen_delitos_y_Justicia</td>\n",
       "      <td>1001</td>\n",
       "    </tr>\n",
       "    <tr>\n",
       "      <th>1</th>\n",
       "      <td>8-Ecología_y_Planeta</td>\n",
       "      <td>1001</td>\n",
       "    </tr>\n",
       "    <tr>\n",
       "      <th>2</th>\n",
       "      <td>7-Deporte</td>\n",
       "      <td>1001</td>\n",
       "    </tr>\n",
       "    <tr>\n",
       "      <th>3</th>\n",
       "      <td>6-Cultura_y_Artes</td>\n",
       "      <td>1001</td>\n",
       "    </tr>\n",
       "    <tr>\n",
       "      <th>4</th>\n",
       "      <td>5-Catástrofes_y_Accidentes</td>\n",
       "      <td>1001</td>\n",
       "    </tr>\n",
       "    <tr>\n",
       "      <th>5</th>\n",
       "      <td>4-Ciencias_y_Tecnología</td>\n",
       "      <td>1001</td>\n",
       "    </tr>\n",
       "    <tr>\n",
       "      <th>6</th>\n",
       "      <td>3-Política_y_Conflictos</td>\n",
       "      <td>1001</td>\n",
       "    </tr>\n",
       "    <tr>\n",
       "      <th>7</th>\n",
       "      <td>2-Economía</td>\n",
       "      <td>1001</td>\n",
       "    </tr>\n",
       "    <tr>\n",
       "      <th>8</th>\n",
       "      <td>10-Salud</td>\n",
       "      <td>1001</td>\n",
       "    </tr>\n",
       "    <tr>\n",
       "      <th>9</th>\n",
       "      <td>1-Mundo</td>\n",
       "      <td>1001</td>\n",
       "    </tr>\n",
       "  </tbody>\n",
       "</table>\n",
       "</div>"
      ],
      "text/plain": [
       "                      category  count(*)\n",
       "0  9-Crimen_delitos_y_Justicia      1001\n",
       "1         8-Ecología_y_Planeta      1001\n",
       "2                    7-Deporte      1001\n",
       "3            6-Cultura_y_Artes      1001\n",
       "4   5-Catástrofes_y_Accidentes      1001\n",
       "5      4-Ciencias_y_Tecnología      1001\n",
       "6      3-Política_y_Conflictos      1001\n",
       "7                   2-Economía      1001\n",
       "8                     10-Salud      1001\n",
       "9                      1-Mundo      1001"
      ]
     },
     "execution_count": 19,
     "metadata": {},
     "output_type": "execute_result"
    }
   ],
   "source": [
    "train_idxs = new_df.groupby('category').sample(frac=train_size, random_state=RANDOM_STATE).index\n",
    "train_df = new_df.iloc[train_idxs]\n",
    "q=\"\"\"SELECT category, count(*) FROM train_df GROUP BY category ORDER BY count(*) DESC;\"\"\"\n",
    "result=sqldf(q)\n",
    "result"
   ]
  },
  {
   "cell_type": "code",
   "execution_count": 20,
   "id": "106174ee",
   "metadata": {},
   "outputs": [
    {
     "data": {
      "text/html": [
       "<div>\n",
       "<style scoped>\n",
       "    .dataframe tbody tr th:only-of-type {\n",
       "        vertical-align: middle;\n",
       "    }\n",
       "\n",
       "    .dataframe tbody tr th {\n",
       "        vertical-align: top;\n",
       "    }\n",
       "\n",
       "    .dataframe thead th {\n",
       "        text-align: right;\n",
       "    }\n",
       "</style>\n",
       "<table border=\"1\" class=\"dataframe\">\n",
       "  <thead>\n",
       "    <tr style=\"text-align: right;\">\n",
       "      <th></th>\n",
       "      <th>category</th>\n",
       "      <th>count(*)</th>\n",
       "    </tr>\n",
       "  </thead>\n",
       "  <tbody>\n",
       "    <tr>\n",
       "      <th>0</th>\n",
       "      <td>9-Crimen_delitos_y_Justicia</td>\n",
       "      <td>429</td>\n",
       "    </tr>\n",
       "    <tr>\n",
       "      <th>1</th>\n",
       "      <td>8-Ecología_y_Planeta</td>\n",
       "      <td>429</td>\n",
       "    </tr>\n",
       "    <tr>\n",
       "      <th>2</th>\n",
       "      <td>7-Deporte</td>\n",
       "      <td>429</td>\n",
       "    </tr>\n",
       "    <tr>\n",
       "      <th>3</th>\n",
       "      <td>6-Cultura_y_Artes</td>\n",
       "      <td>429</td>\n",
       "    </tr>\n",
       "    <tr>\n",
       "      <th>4</th>\n",
       "      <td>5-Catástrofes_y_Accidentes</td>\n",
       "      <td>429</td>\n",
       "    </tr>\n",
       "    <tr>\n",
       "      <th>5</th>\n",
       "      <td>4-Ciencias_y_Tecnología</td>\n",
       "      <td>429</td>\n",
       "    </tr>\n",
       "    <tr>\n",
       "      <th>6</th>\n",
       "      <td>3-Política_y_Conflictos</td>\n",
       "      <td>429</td>\n",
       "    </tr>\n",
       "    <tr>\n",
       "      <th>7</th>\n",
       "      <td>2-Economía</td>\n",
       "      <td>429</td>\n",
       "    </tr>\n",
       "    <tr>\n",
       "      <th>8</th>\n",
       "      <td>10-Salud</td>\n",
       "      <td>429</td>\n",
       "    </tr>\n",
       "    <tr>\n",
       "      <th>9</th>\n",
       "      <td>1-Mundo</td>\n",
       "      <td>429</td>\n",
       "    </tr>\n",
       "  </tbody>\n",
       "</table>\n",
       "</div>"
      ],
      "text/plain": [
       "                      category  count(*)\n",
       "0  9-Crimen_delitos_y_Justicia       429\n",
       "1         8-Ecología_y_Planeta       429\n",
       "2                    7-Deporte       429\n",
       "3            6-Cultura_y_Artes       429\n",
       "4   5-Catástrofes_y_Accidentes       429\n",
       "5      4-Ciencias_y_Tecnología       429\n",
       "6      3-Política_y_Conflictos       429\n",
       "7                   2-Economía       429\n",
       "8                     10-Salud       429\n",
       "9                      1-Mundo       429"
      ]
     },
     "execution_count": 20,
     "metadata": {},
     "output_type": "execute_result"
    }
   ],
   "source": [
    "test_idxs = pd.concat([new_df, train_df]).drop_duplicates(keep=False).index\n",
    "test_df = new_df.iloc[test_idxs]\n",
    "q=\"\"\"SELECT category, count(*) FROM test_df GROUP BY category ORDER BY count(*) DESC;\"\"\"\n",
    "result=sqldf(q)\n",
    "result"
   ]
  },
  {
   "cell_type": "code",
   "execution_count": 21,
   "id": "7380963d",
   "metadata": {},
   "outputs": [
    {
     "name": "stdout",
     "output_type": "stream",
     "text": [
      " 1-Mundo      :  0\n",
      " 10-Salud     :  1\n",
      " 2-Economía   :  2\n",
      " 3-Política_y_Conflictos :  3\n",
      " 4-Ciencias_y_Tecnología :  4\n",
      " 5-Catástrofes_y_Accidentes :  5\n",
      " 6-Cultura_y_Artes :  6\n",
      " 7-Deporte    :  7\n",
      " 8-Ecología_y_Planeta :  8\n",
      " 9-Crimen_delitos_y_Justicia :  9\n"
     ]
    }
   ],
   "source": [
    "lb = LabelEncoder()\n",
    "ylabels = new_df['category']\n",
    "# unique_labels = sorted(ylabels.unique(), key=lambda x : len(x.split('-')[0]))\n",
    "lb.fit(ylabels.unique())\n",
    "true_labels = [lb.inverse_transform([i])[0] for i in range(ylabels.nunique())]\n",
    "ylabels_train_target = lb.fit_transform(ylabels[train_idxs])\n",
    "ylabels_test_target = lb.fit_transform(ylabels[test_idxs])\n",
    "\n",
    "# tendriamos que hacer zfill para que queden ordenadas (01-mundo, 02- economia)\n",
    "# o quitar el numero y ya xd\n",
    "for label in true_labels:\n",
    "    print(f\" {label:<12} :  {lb.transform([label])[0]}\")"
   ]
  },
  {
   "cell_type": "code",
   "execution_count": 22,
   "id": "4f29c05f",
   "metadata": {},
   "outputs": [],
   "source": [
    "from spacy.lang.es.stop_words import STOP_WORDS\n",
    "\n",
    "nlp = spacy.load('es_core_news_md', disable=['parser','ner','textcat','...'] )\n",
    "# Create our list of punctuation marks\n",
    "punctuations = string.punctuation\n",
    "\n",
    "# Create our list of stopwords\n",
    "# nlp = spacy.load(\"es_core_news_md\")\n",
    "stop_words = STOP_WORDS\n",
    "\n",
    "stemmer = SnowballStemmer('spanish')\n",
    "\n",
    "# Creating our tokenizer function\n",
    "def spacy_tokenizer(sentence, stem=False):\n",
    "    # Creating our token object, which is used to create documents with linguistic annotations.\n",
    "    mytokens = nlp(sentence)\n",
    "    # Lemmatizing each token and converting each token into lowercase\n",
    "    mytokens = [ word.lemma_.lower().strip() for word in mytokens]\n",
    "    \n",
    "    # Removing stop words, ver lo de puntuuacion con  token.tag_\n",
    "    mytokens = [ word for word in mytokens \n",
    "                          if word not in stop_words \n",
    "                          and word not in punctuations ]\n",
    "    if stem:\n",
    "        mytokens = [ stemmer.stem(word) for word in mytokens ]\n",
    "    # return preprocessed list of tokens\n",
    "    return \" \".join(mytokens)"
   ]
  },
  {
   "cell_type": "code",
   "execution_count": 23,
   "id": "2a5a597a",
   "metadata": {},
   "outputs": [
    {
     "name": "stdout",
     "output_type": "stream",
     "text": [
      "1400\n"
     ]
    },
    {
     "data": {
      "text/plain": [
       "'\"Médicos por la Verdad\", la red negacionista que se ha expandido por el mundo y preocupa a la comunidad científica. La pandemia ha impulsado la fundación de un conjunto de  movimientos negacionistas  integrados por profesionales sanitarios que se expande con rapidez entre continentes, con Alemania, España y Latinoamérica en uno de sus ejes más activos, conocido como  \"Médicos por la Verdad\" . Los representantes de esta organización en España han vuelto a adquirir notoriedad con la reciente y amplia difusión de un video que recoge algunas de las falsedades recurrentes sobre la pandemia. La producción audiovisual se titula \"The Big Reset\", lo que se puede traducir como  \"el gran reinicio\" . RelacionadaDetalle(\\'1009111\\'); Se refiere así a un supuesto plan internacional de los poderes políticos y económicos que utilizaría esta crisis para reinventar el mundo con la supresión de libertades y derechos. En él son entrevistados  Natalia Prego, Ángel Ruiz-Valdepeñas y María José Martínez Albarracín , las caras más conocidas de Médicos por la Verdad España, que ofrecen, entre otros, su testimonio. Una red de redes Esa agrupación conforma junto a otras entidades una amalgama de redes   sin una estructura organizativa clara, convertida en  una maraña de desinformación  en la que confluyen diferentes portavoces,  cada uno con una teoría propia, que en ocasiones se contradice con las de los '"
      ]
     },
     "execution_count": 23,
     "metadata": {},
     "output_type": "execute_result"
    }
   ],
   "source": [
    "contento = new_df.content[5]\n",
    "print(len(contento))\n",
    "contento"
   ]
  },
  {
   "cell_type": "code",
   "execution_count": 24,
   "id": "0a2ebd99",
   "metadata": {},
   "outputs": [],
   "source": [
    "#%%timeit\n",
    "#text_cleaner(contento)"
   ]
  },
  {
   "cell_type": "code",
   "execution_count": 25,
   "id": "af51cfc2",
   "metadata": {},
   "outputs": [],
   "source": [
    "#%%timeit\n",
    "# bastante mas lento que el otro, tal vez hay que deshabilitar mas cosas\n",
    "#spacy_tokenizer(contento)"
   ]
  },
  {
   "cell_type": "code",
   "execution_count": 26,
   "id": "26ea4aac",
   "metadata": {},
   "outputs": [
    {
     "data": {
      "text/plain": [
       "'médicos verdad red negacionista expandido mundo preocupa comunidad científica pandemia impulsado fundación conjunto movimientos negacionistas integrados profesionales sanitarios expande rapidez continentes alemania españa latinoamérica ejes activos conocido médicos verdad representantes organización españa vuelto adquirir notoriedad reciente amplia difusión video recoge falsedades recurrentes pandemia producción audiovisual titula the big reset puede traducir gran reinicio relacionadadetalle refiere así supuesto plan internacional poderes políticos económicos utilizaría crisis reinventar mundo supresión libertades derechos entrevistados natalia prego ángel ruizvaldepeñas maría josé martínez albarracín caras conocidas médicos verdad españa ofrecen testimonio red redes agrupación conforma junto entidades amalgama redes estructura organizativa clara convertida maraña desinformación confluyen diferentes portavoces cada teoría propia ocasiones contradice'"
      ]
     },
     "execution_count": 26,
     "metadata": {},
     "output_type": "execute_result"
    }
   ],
   "source": [
    "text_cleaner(contento)"
   ]
  },
  {
   "cell_type": "code",
   "execution_count": 27,
   "id": "bbf34404",
   "metadata": {},
   "outputs": [
    {
     "data": {
      "text/plain": [
       "\"médicos red negacionista expandir mundo y preocupar a comunidad científico pandemia impulsar fundación conjunto movimiento negacionista integrado profesional sanitario expandir rapidez continente alemania españa y latinoamérica eje activo conocido médicos representante organización españa volver a adquirir notoriedad reciente y amplio difusión video recoger falsedad recurrente pandemia producción audiovisual titular the big reset traducir reinicio relacionadadetalle('1009111 referir a plan internacional político y económico utilizar crisis reinventar mundo supresión libertad y derecho entrevistar natalia prego ángel ruiz-valdepeñas y maría josé martínez albarracín cara conocido médicos españa ofrecer testimonio red red agrupación conformar a entidad amalgama red estructura organizativo convertido maraña desinformación confluir portavoz teoría ocasión contradizar\""
      ]
     },
     "execution_count": 27,
     "metadata": {},
     "output_type": "execute_result"
    }
   ],
   "source": [
    "spacy_tokenizer(contento)"
   ]
  },
  {
   "cell_type": "code",
   "execution_count": 28,
   "id": "7d9e7163",
   "metadata": {},
   "outputs": [
    {
     "name": "stdout",
     "output_type": "stream",
     "text": [
      "CPU times: user 42.7 s, sys: 94.7 ms, total: 42.8 s\n",
      "Wall time: 43.3 s\n"
     ]
    }
   ],
   "source": [
    "%%time\n",
    "# usar spacy_tokenizer aca aumenta bastante el tiempo de ejecucion\n",
    "vectorizer = TfidfVectorizer(preprocessor=partial(text_cleaner, stem=False))\n",
    "XD = vectorizer.fit_transform(new_df['content'])\n",
    "feature_names = vectorizer.get_feature_names_out()\n",
    "X_train = XD[train_idxs]\n",
    "X_test = XD[test_idxs]"
   ]
  },
  {
   "cell_type": "code",
   "execution_count": 29,
   "id": "c709f57a",
   "metadata": {},
   "outputs": [
    {
     "data": {
      "text/plain": [
       "LogisticRegression(multi_class='ovr', random_state=8008)"
      ]
     },
     "execution_count": 29,
     "metadata": {},
     "output_type": "execute_result"
    }
   ],
   "source": [
    "lgr = LogisticRegression(random_state=RANDOM_STATE, multi_class='ovr', class_weight=None)\n",
    "lgr.fit(X_train, ylabels_train_target)"
   ]
  },
  {
   "cell_type": "code",
   "execution_count": 30,
   "id": "7c51aed4",
   "metadata": {},
   "outputs": [
    {
     "data": {
      "text/plain": [
       "RandomForestClassifier(max_depth=100, max_features='sqrt', random_state=8008)"
      ]
     },
     "execution_count": 30,
     "metadata": {},
     "output_type": "execute_result"
    }
   ],
   "source": [
    "#ver efectos de los hiperparametros\n",
    "rfc = RandomForestClassifier(n_estimators=100, max_depth=100,\n",
    "              random_state=RANDOM_STATE, criterion='gini', class_weight=None,\n",
    "              max_features='sqrt', verbose=0)\n",
    "rfc.fit(X_train, ylabels_train_target)"
   ]
  },
  {
   "cell_type": "code",
   "execution_count": 31,
   "id": "08c6ba08",
   "metadata": {},
   "outputs": [],
   "source": [
    "from my_funcs import results, plot_confusion_matrix\n",
    "from sklearn.metrics import confusion_matrix\n",
    "%matlplotlib notebook"
   ]
  },
  {
   "cell_type": "code",
   "execution_count": 32,
   "id": "5c39263d",
   "metadata": {},
   "outputs": [
    {
     "name": "stdout",
     "output_type": "stream",
     "text": [
      "Resultados clasificación\n",
      "LogisticRegression\n",
      "\n",
      "\n",
      "                             precision    recall  f1-score   support\n",
      "\n",
      "                    1-Mundo       0.78      0.77      0.77       429\n",
      "                   10-Salud       0.78      0.79      0.78       429\n",
      "                 2-Economía       0.82      0.81      0.81       429\n",
      "    3-Política_y_Conflictos       0.80      0.76      0.78       429\n",
      "    4-Ciencias_y_Tecnología       0.87      0.79      0.83       429\n",
      " 5-Catástrofes_y_Accidentes       0.81      0.89      0.85       429\n",
      "          6-Cultura_y_Artes       0.87      0.89      0.88       429\n",
      "                  7-Deporte       0.97      0.96      0.96       429\n",
      "       8-Ecología_y_Planeta       0.80      0.83      0.81       429\n",
      "9-Crimen_delitos_y_Justicia       0.82      0.83      0.83       429\n",
      "\n",
      "                   accuracy                           0.83      4290\n",
      "                  macro avg       0.83      0.83      0.83      4290\n",
      "               weighted avg       0.83      0.83      0.83      4290\n",
      "\n"
     ]
    },
    {
     "data": {
      "application/javascript": "/* Put everything inside the global mpl namespace */\n/* global mpl */\nwindow.mpl = {};\n\nmpl.get_websocket_type = function () {\n    if (typeof WebSocket !== 'undefined') {\n        return WebSocket;\n    } else if (typeof MozWebSocket !== 'undefined') {\n        return MozWebSocket;\n    } else {\n        alert(\n            'Your browser does not have WebSocket support. ' +\n                'Please try Chrome, Safari or Firefox ≥ 6. ' +\n                'Firefox 4 and 5 are also supported but you ' +\n                'have to enable WebSockets in about:config.'\n        );\n    }\n};\n\nmpl.figure = function (figure_id, websocket, ondownload, parent_element) {\n    this.id = figure_id;\n\n    this.ws = websocket;\n\n    this.supports_binary = this.ws.binaryType !== undefined;\n\n    if (!this.supports_binary) {\n        var warnings = document.getElementById('mpl-warnings');\n        if (warnings) {\n            warnings.style.display = 'block';\n            warnings.textContent =\n                'This browser does not support binary websocket messages. ' +\n                'Performance may be slow.';\n        }\n    }\n\n    this.imageObj = new Image();\n\n    this.context = undefined;\n    this.message = undefined;\n    this.canvas = undefined;\n    this.rubberband_canvas = undefined;\n    this.rubberband_context = undefined;\n    this.format_dropdown = undefined;\n\n    this.image_mode = 'full';\n\n    this.root = document.createElement('div');\n    this.root.setAttribute('style', 'display: inline-block');\n    this._root_extra_style(this.root);\n\n    parent_element.appendChild(this.root);\n\n    this._init_header(this);\n    this._init_canvas(this);\n    this._init_toolbar(this);\n\n    var fig = this;\n\n    this.waiting = false;\n\n    this.ws.onopen = function () {\n        fig.send_message('supports_binary', { value: fig.supports_binary });\n        fig.send_message('send_image_mode', {});\n        if (fig.ratio !== 1) {\n            fig.send_message('set_device_pixel_ratio', {\n                device_pixel_ratio: fig.ratio,\n            });\n        }\n        fig.send_message('refresh', {});\n    };\n\n    this.imageObj.onload = function () {\n        if (fig.image_mode === 'full') {\n            // Full images could contain transparency (where diff images\n            // almost always do), so we need to clear the canvas so that\n            // there is no ghosting.\n            fig.context.clearRect(0, 0, fig.canvas.width, fig.canvas.height);\n        }\n        fig.context.drawImage(fig.imageObj, 0, 0);\n    };\n\n    this.imageObj.onunload = function () {\n        fig.ws.close();\n    };\n\n    this.ws.onmessage = this._make_on_message_function(this);\n\n    this.ondownload = ondownload;\n};\n\nmpl.figure.prototype._init_header = function () {\n    var titlebar = document.createElement('div');\n    titlebar.classList =\n        'ui-dialog-titlebar ui-widget-header ui-corner-all ui-helper-clearfix';\n    var titletext = document.createElement('div');\n    titletext.classList = 'ui-dialog-title';\n    titletext.setAttribute(\n        'style',\n        'width: 100%; text-align: center; padding: 3px;'\n    );\n    titlebar.appendChild(titletext);\n    this.root.appendChild(titlebar);\n    this.header = titletext;\n};\n\nmpl.figure.prototype._canvas_extra_style = function (_canvas_div) {};\n\nmpl.figure.prototype._root_extra_style = function (_canvas_div) {};\n\nmpl.figure.prototype._init_canvas = function () {\n    var fig = this;\n\n    var canvas_div = (this.canvas_div = document.createElement('div'));\n    canvas_div.setAttribute(\n        'style',\n        'border: 1px solid #ddd;' +\n            'box-sizing: content-box;' +\n            'clear: both;' +\n            'min-height: 1px;' +\n            'min-width: 1px;' +\n            'outline: 0;' +\n            'overflow: hidden;' +\n            'position: relative;' +\n            'resize: both;'\n    );\n\n    function on_keyboard_event_closure(name) {\n        return function (event) {\n            return fig.key_event(event, name);\n        };\n    }\n\n    canvas_div.addEventListener(\n        'keydown',\n        on_keyboard_event_closure('key_press')\n    );\n    canvas_div.addEventListener(\n        'keyup',\n        on_keyboard_event_closure('key_release')\n    );\n\n    this._canvas_extra_style(canvas_div);\n    this.root.appendChild(canvas_div);\n\n    var canvas = (this.canvas = document.createElement('canvas'));\n    canvas.classList.add('mpl-canvas');\n    canvas.setAttribute('style', 'box-sizing: content-box;');\n\n    this.context = canvas.getContext('2d');\n\n    var backingStore =\n        this.context.backingStorePixelRatio ||\n        this.context.webkitBackingStorePixelRatio ||\n        this.context.mozBackingStorePixelRatio ||\n        this.context.msBackingStorePixelRatio ||\n        this.context.oBackingStorePixelRatio ||\n        this.context.backingStorePixelRatio ||\n        1;\n\n    this.ratio = (window.devicePixelRatio || 1) / backingStore;\n\n    var rubberband_canvas = (this.rubberband_canvas = document.createElement(\n        'canvas'\n    ));\n    rubberband_canvas.setAttribute(\n        'style',\n        'box-sizing: content-box; position: absolute; left: 0; top: 0; z-index: 1;'\n    );\n\n    // Apply a ponyfill if ResizeObserver is not implemented by browser.\n    if (this.ResizeObserver === undefined) {\n        if (window.ResizeObserver !== undefined) {\n            this.ResizeObserver = window.ResizeObserver;\n        } else {\n            var obs = _JSXTOOLS_RESIZE_OBSERVER({});\n            this.ResizeObserver = obs.ResizeObserver;\n        }\n    }\n\n    this.resizeObserverInstance = new this.ResizeObserver(function (entries) {\n        var nentries = entries.length;\n        for (var i = 0; i < nentries; i++) {\n            var entry = entries[i];\n            var width, height;\n            if (entry.contentBoxSize) {\n                if (entry.contentBoxSize instanceof Array) {\n                    // Chrome 84 implements new version of spec.\n                    width = entry.contentBoxSize[0].inlineSize;\n                    height = entry.contentBoxSize[0].blockSize;\n                } else {\n                    // Firefox implements old version of spec.\n                    width = entry.contentBoxSize.inlineSize;\n                    height = entry.contentBoxSize.blockSize;\n                }\n            } else {\n                // Chrome <84 implements even older version of spec.\n                width = entry.contentRect.width;\n                height = entry.contentRect.height;\n            }\n\n            // Keep the size of the canvas and rubber band canvas in sync with\n            // the canvas container.\n            if (entry.devicePixelContentBoxSize) {\n                // Chrome 84 implements new version of spec.\n                canvas.setAttribute(\n                    'width',\n                    entry.devicePixelContentBoxSize[0].inlineSize\n                );\n                canvas.setAttribute(\n                    'height',\n                    entry.devicePixelContentBoxSize[0].blockSize\n                );\n            } else {\n                canvas.setAttribute('width', width * fig.ratio);\n                canvas.setAttribute('height', height * fig.ratio);\n            }\n            canvas.setAttribute(\n                'style',\n                'width: ' + width + 'px; height: ' + height + 'px;'\n            );\n\n            rubberband_canvas.setAttribute('width', width);\n            rubberband_canvas.setAttribute('height', height);\n\n            // And update the size in Python. We ignore the initial 0/0 size\n            // that occurs as the element is placed into the DOM, which should\n            // otherwise not happen due to the minimum size styling.\n            if (fig.ws.readyState == 1 && width != 0 && height != 0) {\n                fig.request_resize(width, height);\n            }\n        }\n    });\n    this.resizeObserverInstance.observe(canvas_div);\n\n    function on_mouse_event_closure(name) {\n        return function (event) {\n            return fig.mouse_event(event, name);\n        };\n    }\n\n    rubberband_canvas.addEventListener(\n        'mousedown',\n        on_mouse_event_closure('button_press')\n    );\n    rubberband_canvas.addEventListener(\n        'mouseup',\n        on_mouse_event_closure('button_release')\n    );\n    rubberband_canvas.addEventListener(\n        'dblclick',\n        on_mouse_event_closure('dblclick')\n    );\n    // Throttle sequential mouse events to 1 every 20ms.\n    rubberband_canvas.addEventListener(\n        'mousemove',\n        on_mouse_event_closure('motion_notify')\n    );\n\n    rubberband_canvas.addEventListener(\n        'mouseenter',\n        on_mouse_event_closure('figure_enter')\n    );\n    rubberband_canvas.addEventListener(\n        'mouseleave',\n        on_mouse_event_closure('figure_leave')\n    );\n\n    canvas_div.addEventListener('wheel', function (event) {\n        if (event.deltaY < 0) {\n            event.step = 1;\n        } else {\n            event.step = -1;\n        }\n        on_mouse_event_closure('scroll')(event);\n    });\n\n    canvas_div.appendChild(canvas);\n    canvas_div.appendChild(rubberband_canvas);\n\n    this.rubberband_context = rubberband_canvas.getContext('2d');\n    this.rubberband_context.strokeStyle = '#000000';\n\n    this._resize_canvas = function (width, height, forward) {\n        if (forward) {\n            canvas_div.style.width = width + 'px';\n            canvas_div.style.height = height + 'px';\n        }\n    };\n\n    // Disable right mouse context menu.\n    this.rubberband_canvas.addEventListener('contextmenu', function (_e) {\n        event.preventDefault();\n        return false;\n    });\n\n    function set_focus() {\n        canvas.focus();\n        canvas_div.focus();\n    }\n\n    window.setTimeout(set_focus, 100);\n};\n\nmpl.figure.prototype._init_toolbar = function () {\n    var fig = this;\n\n    var toolbar = document.createElement('div');\n    toolbar.classList = 'mpl-toolbar';\n    this.root.appendChild(toolbar);\n\n    function on_click_closure(name) {\n        return function (_event) {\n            return fig.toolbar_button_onclick(name);\n        };\n    }\n\n    function on_mouseover_closure(tooltip) {\n        return function (event) {\n            if (!event.currentTarget.disabled) {\n                return fig.toolbar_button_onmouseover(tooltip);\n            }\n        };\n    }\n\n    fig.buttons = {};\n    var buttonGroup = document.createElement('div');\n    buttonGroup.classList = 'mpl-button-group';\n    for (var toolbar_ind in mpl.toolbar_items) {\n        var name = mpl.toolbar_items[toolbar_ind][0];\n        var tooltip = mpl.toolbar_items[toolbar_ind][1];\n        var image = mpl.toolbar_items[toolbar_ind][2];\n        var method_name = mpl.toolbar_items[toolbar_ind][3];\n\n        if (!name) {\n            /* Instead of a spacer, we start a new button group. */\n            if (buttonGroup.hasChildNodes()) {\n                toolbar.appendChild(buttonGroup);\n            }\n            buttonGroup = document.createElement('div');\n            buttonGroup.classList = 'mpl-button-group';\n            continue;\n        }\n\n        var button = (fig.buttons[name] = document.createElement('button'));\n        button.classList = 'mpl-widget';\n        button.setAttribute('role', 'button');\n        button.setAttribute('aria-disabled', 'false');\n        button.addEventListener('click', on_click_closure(method_name));\n        button.addEventListener('mouseover', on_mouseover_closure(tooltip));\n\n        var icon_img = document.createElement('img');\n        icon_img.src = '_images/' + image + '.png';\n        icon_img.srcset = '_images/' + image + '_large.png 2x';\n        icon_img.alt = tooltip;\n        button.appendChild(icon_img);\n\n        buttonGroup.appendChild(button);\n    }\n\n    if (buttonGroup.hasChildNodes()) {\n        toolbar.appendChild(buttonGroup);\n    }\n\n    var fmt_picker = document.createElement('select');\n    fmt_picker.classList = 'mpl-widget';\n    toolbar.appendChild(fmt_picker);\n    this.format_dropdown = fmt_picker;\n\n    for (var ind in mpl.extensions) {\n        var fmt = mpl.extensions[ind];\n        var option = document.createElement('option');\n        option.selected = fmt === mpl.default_extension;\n        option.innerHTML = fmt;\n        fmt_picker.appendChild(option);\n    }\n\n    var status_bar = document.createElement('span');\n    status_bar.classList = 'mpl-message';\n    toolbar.appendChild(status_bar);\n    this.message = status_bar;\n};\n\nmpl.figure.prototype.request_resize = function (x_pixels, y_pixels) {\n    // Request matplotlib to resize the figure. Matplotlib will then trigger a resize in the client,\n    // which will in turn request a refresh of the image.\n    this.send_message('resize', { width: x_pixels, height: y_pixels });\n};\n\nmpl.figure.prototype.send_message = function (type, properties) {\n    properties['type'] = type;\n    properties['figure_id'] = this.id;\n    this.ws.send(JSON.stringify(properties));\n};\n\nmpl.figure.prototype.send_draw_message = function () {\n    if (!this.waiting) {\n        this.waiting = true;\n        this.ws.send(JSON.stringify({ type: 'draw', figure_id: this.id }));\n    }\n};\n\nmpl.figure.prototype.handle_save = function (fig, _msg) {\n    var format_dropdown = fig.format_dropdown;\n    var format = format_dropdown.options[format_dropdown.selectedIndex].value;\n    fig.ondownload(fig, format);\n};\n\nmpl.figure.prototype.handle_resize = function (fig, msg) {\n    var size = msg['size'];\n    if (size[0] !== fig.canvas.width || size[1] !== fig.canvas.height) {\n        fig._resize_canvas(size[0], size[1], msg['forward']);\n        fig.send_message('refresh', {});\n    }\n};\n\nmpl.figure.prototype.handle_rubberband = function (fig, msg) {\n    var x0 = msg['x0'] / fig.ratio;\n    var y0 = (fig.canvas.height - msg['y0']) / fig.ratio;\n    var x1 = msg['x1'] / fig.ratio;\n    var y1 = (fig.canvas.height - msg['y1']) / fig.ratio;\n    x0 = Math.floor(x0) + 0.5;\n    y0 = Math.floor(y0) + 0.5;\n    x1 = Math.floor(x1) + 0.5;\n    y1 = Math.floor(y1) + 0.5;\n    var min_x = Math.min(x0, x1);\n    var min_y = Math.min(y0, y1);\n    var width = Math.abs(x1 - x0);\n    var height = Math.abs(y1 - y0);\n\n    fig.rubberband_context.clearRect(\n        0,\n        0,\n        fig.canvas.width / fig.ratio,\n        fig.canvas.height / fig.ratio\n    );\n\n    fig.rubberband_context.strokeRect(min_x, min_y, width, height);\n};\n\nmpl.figure.prototype.handle_figure_label = function (fig, msg) {\n    // Updates the figure title.\n    fig.header.textContent = msg['label'];\n};\n\nmpl.figure.prototype.handle_cursor = function (fig, msg) {\n    fig.rubberband_canvas.style.cursor = msg['cursor'];\n};\n\nmpl.figure.prototype.handle_message = function (fig, msg) {\n    fig.message.textContent = msg['message'];\n};\n\nmpl.figure.prototype.handle_draw = function (fig, _msg) {\n    // Request the server to send over a new figure.\n    fig.send_draw_message();\n};\n\nmpl.figure.prototype.handle_image_mode = function (fig, msg) {\n    fig.image_mode = msg['mode'];\n};\n\nmpl.figure.prototype.handle_history_buttons = function (fig, msg) {\n    for (var key in msg) {\n        if (!(key in fig.buttons)) {\n            continue;\n        }\n        fig.buttons[key].disabled = !msg[key];\n        fig.buttons[key].setAttribute('aria-disabled', !msg[key]);\n    }\n};\n\nmpl.figure.prototype.handle_navigate_mode = function (fig, msg) {\n    if (msg['mode'] === 'PAN') {\n        fig.buttons['Pan'].classList.add('active');\n        fig.buttons['Zoom'].classList.remove('active');\n    } else if (msg['mode'] === 'ZOOM') {\n        fig.buttons['Pan'].classList.remove('active');\n        fig.buttons['Zoom'].classList.add('active');\n    } else {\n        fig.buttons['Pan'].classList.remove('active');\n        fig.buttons['Zoom'].classList.remove('active');\n    }\n};\n\nmpl.figure.prototype.updated_canvas_event = function () {\n    // Called whenever the canvas gets updated.\n    this.send_message('ack', {});\n};\n\n// A function to construct a web socket function for onmessage handling.\n// Called in the figure constructor.\nmpl.figure.prototype._make_on_message_function = function (fig) {\n    return function socket_on_message(evt) {\n        if (evt.data instanceof Blob) {\n            var img = evt.data;\n            if (img.type !== 'image/png') {\n                /* FIXME: We get \"Resource interpreted as Image but\n                 * transferred with MIME type text/plain:\" errors on\n                 * Chrome.  But how to set the MIME type?  It doesn't seem\n                 * to be part of the websocket stream */\n                img.type = 'image/png';\n            }\n\n            /* Free the memory for the previous frames */\n            if (fig.imageObj.src) {\n                (window.URL || window.webkitURL).revokeObjectURL(\n                    fig.imageObj.src\n                );\n            }\n\n            fig.imageObj.src = (window.URL || window.webkitURL).createObjectURL(\n                img\n            );\n            fig.updated_canvas_event();\n            fig.waiting = false;\n            return;\n        } else if (\n            typeof evt.data === 'string' &&\n            evt.data.slice(0, 21) === 'data:image/png;base64'\n        ) {\n            fig.imageObj.src = evt.data;\n            fig.updated_canvas_event();\n            fig.waiting = false;\n            return;\n        }\n\n        var msg = JSON.parse(evt.data);\n        var msg_type = msg['type'];\n\n        // Call the  \"handle_{type}\" callback, which takes\n        // the figure and JSON message as its only arguments.\n        try {\n            var callback = fig['handle_' + msg_type];\n        } catch (e) {\n            console.log(\n                \"No handler for the '\" + msg_type + \"' message type: \",\n                msg\n            );\n            return;\n        }\n\n        if (callback) {\n            try {\n                // console.log(\"Handling '\" + msg_type + \"' message: \", msg);\n                callback(fig, msg);\n            } catch (e) {\n                console.log(\n                    \"Exception inside the 'handler_\" + msg_type + \"' callback:\",\n                    e,\n                    e.stack,\n                    msg\n                );\n            }\n        }\n    };\n};\n\n// from https://stackoverflow.com/questions/1114465/getting-mouse-location-in-canvas\nmpl.findpos = function (e) {\n    //this section is from http://www.quirksmode.org/js/events_properties.html\n    var targ;\n    if (!e) {\n        e = window.event;\n    }\n    if (e.target) {\n        targ = e.target;\n    } else if (e.srcElement) {\n        targ = e.srcElement;\n    }\n    if (targ.nodeType === 3) {\n        // defeat Safari bug\n        targ = targ.parentNode;\n    }\n\n    // pageX,Y are the mouse positions relative to the document\n    var boundingRect = targ.getBoundingClientRect();\n    var x = e.pageX - (boundingRect.left + document.body.scrollLeft);\n    var y = e.pageY - (boundingRect.top + document.body.scrollTop);\n\n    return { x: x, y: y };\n};\n\n/*\n * return a copy of an object with only non-object keys\n * we need this to avoid circular references\n * https://stackoverflow.com/a/24161582/3208463\n */\nfunction simpleKeys(original) {\n    return Object.keys(original).reduce(function (obj, key) {\n        if (typeof original[key] !== 'object') {\n            obj[key] = original[key];\n        }\n        return obj;\n    }, {});\n}\n\nmpl.figure.prototype.mouse_event = function (event, name) {\n    var canvas_pos = mpl.findpos(event);\n\n    if (name === 'button_press') {\n        this.canvas.focus();\n        this.canvas_div.focus();\n    }\n\n    var x = canvas_pos.x * this.ratio;\n    var y = canvas_pos.y * this.ratio;\n\n    this.send_message(name, {\n        x: x,\n        y: y,\n        button: event.button,\n        step: event.step,\n        guiEvent: simpleKeys(event),\n    });\n\n    /* This prevents the web browser from automatically changing to\n     * the text insertion cursor when the button is pressed.  We want\n     * to control all of the cursor setting manually through the\n     * 'cursor' event from matplotlib */\n    event.preventDefault();\n    return false;\n};\n\nmpl.figure.prototype._key_event_extra = function (_event, _name) {\n    // Handle any extra behaviour associated with a key event\n};\n\nmpl.figure.prototype.key_event = function (event, name) {\n    // Prevent repeat events\n    if (name === 'key_press') {\n        if (event.key === this._key) {\n            return;\n        } else {\n            this._key = event.key;\n        }\n    }\n    if (name === 'key_release') {\n        this._key = null;\n    }\n\n    var value = '';\n    if (event.ctrlKey && event.key !== 'Control') {\n        value += 'ctrl+';\n    }\n    else if (event.altKey && event.key !== 'Alt') {\n        value += 'alt+';\n    }\n    else if (event.shiftKey && event.key !== 'Shift') {\n        value += 'shift+';\n    }\n\n    value += 'k' + event.key;\n\n    this._key_event_extra(event, name);\n\n    this.send_message(name, { key: value, guiEvent: simpleKeys(event) });\n    return false;\n};\n\nmpl.figure.prototype.toolbar_button_onclick = function (name) {\n    if (name === 'download') {\n        this.handle_save(this, null);\n    } else {\n        this.send_message('toolbar_button', { name: name });\n    }\n};\n\nmpl.figure.prototype.toolbar_button_onmouseover = function (tooltip) {\n    this.message.textContent = tooltip;\n};\n\n///////////////// REMAINING CONTENT GENERATED BY embed_js.py /////////////////\n// prettier-ignore\nvar _JSXTOOLS_RESIZE_OBSERVER=function(A){var t,i=new WeakMap,n=new WeakMap,a=new WeakMap,r=new WeakMap,o=new Set;function s(e){if(!(this instanceof s))throw new TypeError(\"Constructor requires 'new' operator\");i.set(this,e)}function h(){throw new TypeError(\"Function is not a constructor\")}function c(e,t,i,n){e=0 in arguments?Number(arguments[0]):0,t=1 in arguments?Number(arguments[1]):0,i=2 in arguments?Number(arguments[2]):0,n=3 in arguments?Number(arguments[3]):0,this.right=(this.x=this.left=e)+(this.width=i),this.bottom=(this.y=this.top=t)+(this.height=n),Object.freeze(this)}function d(){t=requestAnimationFrame(d);var s=new WeakMap,p=new Set;o.forEach((function(t){r.get(t).forEach((function(i){var r=t instanceof window.SVGElement,o=a.get(t),d=r?0:parseFloat(o.paddingTop),f=r?0:parseFloat(o.paddingRight),l=r?0:parseFloat(o.paddingBottom),u=r?0:parseFloat(o.paddingLeft),g=r?0:parseFloat(o.borderTopWidth),m=r?0:parseFloat(o.borderRightWidth),w=r?0:parseFloat(o.borderBottomWidth),b=u+f,F=d+l,v=(r?0:parseFloat(o.borderLeftWidth))+m,W=g+w,y=r?0:t.offsetHeight-W-t.clientHeight,E=r?0:t.offsetWidth-v-t.clientWidth,R=b+v,z=F+W,M=r?t.width:parseFloat(o.width)-R-E,O=r?t.height:parseFloat(o.height)-z-y;if(n.has(t)){var k=n.get(t);if(k[0]===M&&k[1]===O)return}n.set(t,[M,O]);var S=Object.create(h.prototype);S.target=t,S.contentRect=new c(u,d,M,O),s.has(i)||(s.set(i,[]),p.add(i)),s.get(i).push(S)}))})),p.forEach((function(e){i.get(e).call(e,s.get(e),e)}))}return s.prototype.observe=function(i){if(i instanceof window.Element){r.has(i)||(r.set(i,new Set),o.add(i),a.set(i,window.getComputedStyle(i)));var n=r.get(i);n.has(this)||n.add(this),cancelAnimationFrame(t),t=requestAnimationFrame(d)}},s.prototype.unobserve=function(i){if(i instanceof window.Element&&r.has(i)){var n=r.get(i);n.has(this)&&(n.delete(this),n.size||(r.delete(i),o.delete(i))),n.size||r.delete(i),o.size||cancelAnimationFrame(t)}},A.DOMRectReadOnly=c,A.ResizeObserver=s,A.ResizeObserverEntry=h,A}; // eslint-disable-line\nmpl.toolbar_items = [[\"Home\", \"Reset original view\", \"fa fa-home icon-home\", \"home\"], [\"Back\", \"Back to previous view\", \"fa fa-arrow-left icon-arrow-left\", \"back\"], [\"Forward\", \"Forward to next view\", \"fa fa-arrow-right icon-arrow-right\", \"forward\"], [\"\", \"\", \"\", \"\"], [\"Pan\", \"Left button pans, Right button zooms\\nx/y fixes axis, CTRL fixes aspect\", \"fa fa-arrows icon-move\", \"pan\"], [\"Zoom\", \"Zoom to rectangle\\nx/y fixes axis\", \"fa fa-square-o icon-check-empty\", \"zoom\"], [\"\", \"\", \"\", \"\"], [\"Download\", \"Download plot\", \"fa fa-floppy-o icon-save\", \"download\"]];\n\nmpl.extensions = [\"eps\", \"jpeg\", \"pgf\", \"pdf\", \"png\", \"ps\", \"raw\", \"svg\", \"tif\"];\n\nmpl.default_extension = \"png\";/* global mpl */\n\nvar comm_websocket_adapter = function (comm) {\n    // Create a \"websocket\"-like object which calls the given IPython comm\n    // object with the appropriate methods. Currently this is a non binary\n    // socket, so there is still some room for performance tuning.\n    var ws = {};\n\n    ws.binaryType = comm.kernel.ws.binaryType;\n    ws.readyState = comm.kernel.ws.readyState;\n    function updateReadyState(_event) {\n        if (comm.kernel.ws) {\n            ws.readyState = comm.kernel.ws.readyState;\n        } else {\n            ws.readyState = 3; // Closed state.\n        }\n    }\n    comm.kernel.ws.addEventListener('open', updateReadyState);\n    comm.kernel.ws.addEventListener('close', updateReadyState);\n    comm.kernel.ws.addEventListener('error', updateReadyState);\n\n    ws.close = function () {\n        comm.close();\n    };\n    ws.send = function (m) {\n        //console.log('sending', m);\n        comm.send(m);\n    };\n    // Register the callback with on_msg.\n    comm.on_msg(function (msg) {\n        //console.log('receiving', msg['content']['data'], msg);\n        var data = msg['content']['data'];\n        if (data['blob'] !== undefined) {\n            data = {\n                data: new Blob(msg['buffers'], { type: data['blob'] }),\n            };\n        }\n        // Pass the mpl event to the overridden (by mpl) onmessage function.\n        ws.onmessage(data);\n    });\n    return ws;\n};\n\nmpl.mpl_figure_comm = function (comm, msg) {\n    // This is the function which gets called when the mpl process\n    // starts-up an IPython Comm through the \"matplotlib\" channel.\n\n    var id = msg.content.data.id;\n    // Get hold of the div created by the display call when the Comm\n    // socket was opened in Python.\n    var element = document.getElementById(id);\n    var ws_proxy = comm_websocket_adapter(comm);\n\n    function ondownload(figure, _format) {\n        window.open(figure.canvas.toDataURL());\n    }\n\n    var fig = new mpl.figure(id, ws_proxy, ondownload, element);\n\n    // Call onopen now - mpl needs it, as it is assuming we've passed it a real\n    // web socket which is closed, not our websocket->open comm proxy.\n    ws_proxy.onopen();\n\n    fig.parent_element = element;\n    fig.cell_info = mpl.find_output_cell(\"<div id='\" + id + \"'></div>\");\n    if (!fig.cell_info) {\n        console.error('Failed to find cell for figure', id, fig);\n        return;\n    }\n    fig.cell_info[0].output_area.element.on(\n        'cleared',\n        { fig: fig },\n        fig._remove_fig_handler\n    );\n};\n\nmpl.figure.prototype.handle_close = function (fig, msg) {\n    var width = fig.canvas.width / fig.ratio;\n    fig.cell_info[0].output_area.element.off(\n        'cleared',\n        fig._remove_fig_handler\n    );\n    fig.resizeObserverInstance.unobserve(fig.canvas_div);\n\n    // Update the output cell to use the data from the current canvas.\n    fig.push_to_output();\n    var dataURL = fig.canvas.toDataURL();\n    // Re-enable the keyboard manager in IPython - without this line, in FF,\n    // the notebook keyboard shortcuts fail.\n    IPython.keyboard_manager.enable();\n    fig.parent_element.innerHTML =\n        '<img src=\"' + dataURL + '\" width=\"' + width + '\">';\n    fig.close_ws(fig, msg);\n};\n\nmpl.figure.prototype.close_ws = function (fig, msg) {\n    fig.send_message('closing', msg);\n    // fig.ws.close()\n};\n\nmpl.figure.prototype.push_to_output = function (_remove_interactive) {\n    // Turn the data on the canvas into data in the output cell.\n    var width = this.canvas.width / this.ratio;\n    var dataURL = this.canvas.toDataURL();\n    this.cell_info[1]['text/html'] =\n        '<img src=\"' + dataURL + '\" width=\"' + width + '\">';\n};\n\nmpl.figure.prototype.updated_canvas_event = function () {\n    // Tell IPython that the notebook contents must change.\n    IPython.notebook.set_dirty(true);\n    this.send_message('ack', {});\n    var fig = this;\n    // Wait a second, then push the new image to the DOM so\n    // that it is saved nicely (might be nice to debounce this).\n    setTimeout(function () {\n        fig.push_to_output();\n    }, 1000);\n};\n\nmpl.figure.prototype._init_toolbar = function () {\n    var fig = this;\n\n    var toolbar = document.createElement('div');\n    toolbar.classList = 'btn-toolbar';\n    this.root.appendChild(toolbar);\n\n    function on_click_closure(name) {\n        return function (_event) {\n            return fig.toolbar_button_onclick(name);\n        };\n    }\n\n    function on_mouseover_closure(tooltip) {\n        return function (event) {\n            if (!event.currentTarget.disabled) {\n                return fig.toolbar_button_onmouseover(tooltip);\n            }\n        };\n    }\n\n    fig.buttons = {};\n    var buttonGroup = document.createElement('div');\n    buttonGroup.classList = 'btn-group';\n    var button;\n    for (var toolbar_ind in mpl.toolbar_items) {\n        var name = mpl.toolbar_items[toolbar_ind][0];\n        var tooltip = mpl.toolbar_items[toolbar_ind][1];\n        var image = mpl.toolbar_items[toolbar_ind][2];\n        var method_name = mpl.toolbar_items[toolbar_ind][3];\n\n        if (!name) {\n            /* Instead of a spacer, we start a new button group. */\n            if (buttonGroup.hasChildNodes()) {\n                toolbar.appendChild(buttonGroup);\n            }\n            buttonGroup = document.createElement('div');\n            buttonGroup.classList = 'btn-group';\n            continue;\n        }\n\n        button = fig.buttons[name] = document.createElement('button');\n        button.classList = 'btn btn-default';\n        button.href = '#';\n        button.title = name;\n        button.innerHTML = '<i class=\"fa ' + image + ' fa-lg\"></i>';\n        button.addEventListener('click', on_click_closure(method_name));\n        button.addEventListener('mouseover', on_mouseover_closure(tooltip));\n        buttonGroup.appendChild(button);\n    }\n\n    if (buttonGroup.hasChildNodes()) {\n        toolbar.appendChild(buttonGroup);\n    }\n\n    // Add the status bar.\n    var status_bar = document.createElement('span');\n    status_bar.classList = 'mpl-message pull-right';\n    toolbar.appendChild(status_bar);\n    this.message = status_bar;\n\n    // Add the close button to the window.\n    var buttongrp = document.createElement('div');\n    buttongrp.classList = 'btn-group inline pull-right';\n    button = document.createElement('button');\n    button.classList = 'btn btn-mini btn-primary';\n    button.href = '#';\n    button.title = 'Stop Interaction';\n    button.innerHTML = '<i class=\"fa fa-power-off icon-remove icon-large\"></i>';\n    button.addEventListener('click', function (_evt) {\n        fig.handle_close(fig, {});\n    });\n    button.addEventListener(\n        'mouseover',\n        on_mouseover_closure('Stop Interaction')\n    );\n    buttongrp.appendChild(button);\n    var titlebar = this.root.querySelector('.ui-dialog-titlebar');\n    titlebar.insertBefore(buttongrp, titlebar.firstChild);\n};\n\nmpl.figure.prototype._remove_fig_handler = function (event) {\n    var fig = event.data.fig;\n    if (event.target !== this) {\n        // Ignore bubbled events from children.\n        return;\n    }\n    fig.close_ws(fig, {});\n};\n\nmpl.figure.prototype._root_extra_style = function (el) {\n    el.style.boxSizing = 'content-box'; // override notebook setting of border-box.\n};\n\nmpl.figure.prototype._canvas_extra_style = function (el) {\n    // this is important to make the div 'focusable\n    el.setAttribute('tabindex', 0);\n    // reach out to IPython and tell the keyboard manager to turn it's self\n    // off when our div gets focus\n\n    // location in version 3\n    if (IPython.notebook.keyboard_manager) {\n        IPython.notebook.keyboard_manager.register_events(el);\n    } else {\n        // location in version 2\n        IPython.keyboard_manager.register_events(el);\n    }\n};\n\nmpl.figure.prototype._key_event_extra = function (event, _name) {\n    // Check for shift+enter\n    if (event.shiftKey && event.which === 13) {\n        this.canvas_div.blur();\n        // select the cell after this one\n        var index = IPython.notebook.find_cell_index(this.cell_info[0]);\n        IPython.notebook.select(index + 1);\n    }\n};\n\nmpl.figure.prototype.handle_save = function (fig, _msg) {\n    fig.ondownload(fig, null);\n};\n\nmpl.find_output_cell = function (html_output) {\n    // Return the cell and output element which can be found *uniquely* in the notebook.\n    // Note - this is a bit hacky, but it is done because the \"notebook_saving.Notebook\"\n    // IPython event is triggered only after the cells have been serialised, which for\n    // our purposes (turning an active figure into a static one), is too late.\n    var cells = IPython.notebook.get_cells();\n    var ncells = cells.length;\n    for (var i = 0; i < ncells; i++) {\n        var cell = cells[i];\n        if (cell.cell_type === 'code') {\n            for (var j = 0; j < cell.output_area.outputs.length; j++) {\n                var data = cell.output_area.outputs[j];\n                if (data.data) {\n                    // IPython >= 3 moved mimebundle to data attribute of output\n                    data = data.data;\n                }\n                if (data['text/html'] === html_output) {\n                    return [cell, data, j];\n                }\n            }\n        }\n    }\n};\n\n// Register the function which deals with the matplotlib target/channel.\n// The kernel may be null if the page has been refreshed.\nif (IPython.notebook.kernel !== null) {\n    IPython.notebook.kernel.comm_manager.register_target(\n        'matplotlib',\n        mpl.mpl_figure_comm\n    );\n}\n",
      "text/plain": [
       "<IPython.core.display.Javascript object>"
      ]
     },
     "metadata": {},
     "output_type": "display_data"
    },
    {
     "data": {
      "text/html": [
       "<div id='c5a26c69-c86c-4a97-9607-453308a1b5d1'></div>"
      ],
      "text/plain": [
       "<IPython.core.display.HTML object>"
      ]
     },
     "metadata": {},
     "output_type": "display_data"
    }
   ],
   "source": [
    "results(ylabels_test_target, lgr, X_test, true_labels)"
   ]
  },
  {
   "cell_type": "code",
   "execution_count": 33,
   "id": "13e2b624",
   "metadata": {
    "scrolled": false
   },
   "outputs": [
    {
     "name": "stdout",
     "output_type": "stream",
     "text": [
      "Resultados clasificación\n",
      "RandomForestClassifier\n",
      "\n",
      "\n",
      "                             precision    recall  f1-score   support\n",
      "\n",
      "                    1-Mundo       0.75      0.62      0.68       429\n",
      "                   10-Salud       0.69      0.77      0.72       429\n",
      "                 2-Economía       0.79      0.76      0.77       429\n",
      "    3-Política_y_Conflictos       0.74      0.75      0.74       429\n",
      "    4-Ciencias_y_Tecnología       0.84      0.73      0.78       429\n",
      " 5-Catástrofes_y_Accidentes       0.74      0.82      0.78       429\n",
      "          6-Cultura_y_Artes       0.88      0.86      0.87       429\n",
      "                  7-Deporte       0.94      0.97      0.95       429\n",
      "       8-Ecología_y_Planeta       0.77      0.78      0.78       429\n",
      "9-Crimen_delitos_y_Justicia       0.74      0.81      0.78       429\n",
      "\n",
      "                   accuracy                           0.79      4290\n",
      "                  macro avg       0.79      0.79      0.79      4290\n",
      "               weighted avg       0.79      0.79      0.79      4290\n",
      "\n"
     ]
    },
    {
     "data": {
      "application/javascript": "/* Put everything inside the global mpl namespace */\n/* global mpl */\nwindow.mpl = {};\n\nmpl.get_websocket_type = function () {\n    if (typeof WebSocket !== 'undefined') {\n        return WebSocket;\n    } else if (typeof MozWebSocket !== 'undefined') {\n        return MozWebSocket;\n    } else {\n        alert(\n            'Your browser does not have WebSocket support. ' +\n                'Please try Chrome, Safari or Firefox ≥ 6. ' +\n                'Firefox 4 and 5 are also supported but you ' +\n                'have to enable WebSockets in about:config.'\n        );\n    }\n};\n\nmpl.figure = function (figure_id, websocket, ondownload, parent_element) {\n    this.id = figure_id;\n\n    this.ws = websocket;\n\n    this.supports_binary = this.ws.binaryType !== undefined;\n\n    if (!this.supports_binary) {\n        var warnings = document.getElementById('mpl-warnings');\n        if (warnings) {\n            warnings.style.display = 'block';\n            warnings.textContent =\n                'This browser does not support binary websocket messages. ' +\n                'Performance may be slow.';\n        }\n    }\n\n    this.imageObj = new Image();\n\n    this.context = undefined;\n    this.message = undefined;\n    this.canvas = undefined;\n    this.rubberband_canvas = undefined;\n    this.rubberband_context = undefined;\n    this.format_dropdown = undefined;\n\n    this.image_mode = 'full';\n\n    this.root = document.createElement('div');\n    this.root.setAttribute('style', 'display: inline-block');\n    this._root_extra_style(this.root);\n\n    parent_element.appendChild(this.root);\n\n    this._init_header(this);\n    this._init_canvas(this);\n    this._init_toolbar(this);\n\n    var fig = this;\n\n    this.waiting = false;\n\n    this.ws.onopen = function () {\n        fig.send_message('supports_binary', { value: fig.supports_binary });\n        fig.send_message('send_image_mode', {});\n        if (fig.ratio !== 1) {\n            fig.send_message('set_device_pixel_ratio', {\n                device_pixel_ratio: fig.ratio,\n            });\n        }\n        fig.send_message('refresh', {});\n    };\n\n    this.imageObj.onload = function () {\n        if (fig.image_mode === 'full') {\n            // Full images could contain transparency (where diff images\n            // almost always do), so we need to clear the canvas so that\n            // there is no ghosting.\n            fig.context.clearRect(0, 0, fig.canvas.width, fig.canvas.height);\n        }\n        fig.context.drawImage(fig.imageObj, 0, 0);\n    };\n\n    this.imageObj.onunload = function () {\n        fig.ws.close();\n    };\n\n    this.ws.onmessage = this._make_on_message_function(this);\n\n    this.ondownload = ondownload;\n};\n\nmpl.figure.prototype._init_header = function () {\n    var titlebar = document.createElement('div');\n    titlebar.classList =\n        'ui-dialog-titlebar ui-widget-header ui-corner-all ui-helper-clearfix';\n    var titletext = document.createElement('div');\n    titletext.classList = 'ui-dialog-title';\n    titletext.setAttribute(\n        'style',\n        'width: 100%; text-align: center; padding: 3px;'\n    );\n    titlebar.appendChild(titletext);\n    this.root.appendChild(titlebar);\n    this.header = titletext;\n};\n\nmpl.figure.prototype._canvas_extra_style = function (_canvas_div) {};\n\nmpl.figure.prototype._root_extra_style = function (_canvas_div) {};\n\nmpl.figure.prototype._init_canvas = function () {\n    var fig = this;\n\n    var canvas_div = (this.canvas_div = document.createElement('div'));\n    canvas_div.setAttribute(\n        'style',\n        'border: 1px solid #ddd;' +\n            'box-sizing: content-box;' +\n            'clear: both;' +\n            'min-height: 1px;' +\n            'min-width: 1px;' +\n            'outline: 0;' +\n            'overflow: hidden;' +\n            'position: relative;' +\n            'resize: both;'\n    );\n\n    function on_keyboard_event_closure(name) {\n        return function (event) {\n            return fig.key_event(event, name);\n        };\n    }\n\n    canvas_div.addEventListener(\n        'keydown',\n        on_keyboard_event_closure('key_press')\n    );\n    canvas_div.addEventListener(\n        'keyup',\n        on_keyboard_event_closure('key_release')\n    );\n\n    this._canvas_extra_style(canvas_div);\n    this.root.appendChild(canvas_div);\n\n    var canvas = (this.canvas = document.createElement('canvas'));\n    canvas.classList.add('mpl-canvas');\n    canvas.setAttribute('style', 'box-sizing: content-box;');\n\n    this.context = canvas.getContext('2d');\n\n    var backingStore =\n        this.context.backingStorePixelRatio ||\n        this.context.webkitBackingStorePixelRatio ||\n        this.context.mozBackingStorePixelRatio ||\n        this.context.msBackingStorePixelRatio ||\n        this.context.oBackingStorePixelRatio ||\n        this.context.backingStorePixelRatio ||\n        1;\n\n    this.ratio = (window.devicePixelRatio || 1) / backingStore;\n\n    var rubberband_canvas = (this.rubberband_canvas = document.createElement(\n        'canvas'\n    ));\n    rubberband_canvas.setAttribute(\n        'style',\n        'box-sizing: content-box; position: absolute; left: 0; top: 0; z-index: 1;'\n    );\n\n    // Apply a ponyfill if ResizeObserver is not implemented by browser.\n    if (this.ResizeObserver === undefined) {\n        if (window.ResizeObserver !== undefined) {\n            this.ResizeObserver = window.ResizeObserver;\n        } else {\n            var obs = _JSXTOOLS_RESIZE_OBSERVER({});\n            this.ResizeObserver = obs.ResizeObserver;\n        }\n    }\n\n    this.resizeObserverInstance = new this.ResizeObserver(function (entries) {\n        var nentries = entries.length;\n        for (var i = 0; i < nentries; i++) {\n            var entry = entries[i];\n            var width, height;\n            if (entry.contentBoxSize) {\n                if (entry.contentBoxSize instanceof Array) {\n                    // Chrome 84 implements new version of spec.\n                    width = entry.contentBoxSize[0].inlineSize;\n                    height = entry.contentBoxSize[0].blockSize;\n                } else {\n                    // Firefox implements old version of spec.\n                    width = entry.contentBoxSize.inlineSize;\n                    height = entry.contentBoxSize.blockSize;\n                }\n            } else {\n                // Chrome <84 implements even older version of spec.\n                width = entry.contentRect.width;\n                height = entry.contentRect.height;\n            }\n\n            // Keep the size of the canvas and rubber band canvas in sync with\n            // the canvas container.\n            if (entry.devicePixelContentBoxSize) {\n                // Chrome 84 implements new version of spec.\n                canvas.setAttribute(\n                    'width',\n                    entry.devicePixelContentBoxSize[0].inlineSize\n                );\n                canvas.setAttribute(\n                    'height',\n                    entry.devicePixelContentBoxSize[0].blockSize\n                );\n            } else {\n                canvas.setAttribute('width', width * fig.ratio);\n                canvas.setAttribute('height', height * fig.ratio);\n            }\n            canvas.setAttribute(\n                'style',\n                'width: ' + width + 'px; height: ' + height + 'px;'\n            );\n\n            rubberband_canvas.setAttribute('width', width);\n            rubberband_canvas.setAttribute('height', height);\n\n            // And update the size in Python. We ignore the initial 0/0 size\n            // that occurs as the element is placed into the DOM, which should\n            // otherwise not happen due to the minimum size styling.\n            if (fig.ws.readyState == 1 && width != 0 && height != 0) {\n                fig.request_resize(width, height);\n            }\n        }\n    });\n    this.resizeObserverInstance.observe(canvas_div);\n\n    function on_mouse_event_closure(name) {\n        return function (event) {\n            return fig.mouse_event(event, name);\n        };\n    }\n\n    rubberband_canvas.addEventListener(\n        'mousedown',\n        on_mouse_event_closure('button_press')\n    );\n    rubberband_canvas.addEventListener(\n        'mouseup',\n        on_mouse_event_closure('button_release')\n    );\n    rubberband_canvas.addEventListener(\n        'dblclick',\n        on_mouse_event_closure('dblclick')\n    );\n    // Throttle sequential mouse events to 1 every 20ms.\n    rubberband_canvas.addEventListener(\n        'mousemove',\n        on_mouse_event_closure('motion_notify')\n    );\n\n    rubberband_canvas.addEventListener(\n        'mouseenter',\n        on_mouse_event_closure('figure_enter')\n    );\n    rubberband_canvas.addEventListener(\n        'mouseleave',\n        on_mouse_event_closure('figure_leave')\n    );\n\n    canvas_div.addEventListener('wheel', function (event) {\n        if (event.deltaY < 0) {\n            event.step = 1;\n        } else {\n            event.step = -1;\n        }\n        on_mouse_event_closure('scroll')(event);\n    });\n\n    canvas_div.appendChild(canvas);\n    canvas_div.appendChild(rubberband_canvas);\n\n    this.rubberband_context = rubberband_canvas.getContext('2d');\n    this.rubberband_context.strokeStyle = '#000000';\n\n    this._resize_canvas = function (width, height, forward) {\n        if (forward) {\n            canvas_div.style.width = width + 'px';\n            canvas_div.style.height = height + 'px';\n        }\n    };\n\n    // Disable right mouse context menu.\n    this.rubberband_canvas.addEventListener('contextmenu', function (_e) {\n        event.preventDefault();\n        return false;\n    });\n\n    function set_focus() {\n        canvas.focus();\n        canvas_div.focus();\n    }\n\n    window.setTimeout(set_focus, 100);\n};\n\nmpl.figure.prototype._init_toolbar = function () {\n    var fig = this;\n\n    var toolbar = document.createElement('div');\n    toolbar.classList = 'mpl-toolbar';\n    this.root.appendChild(toolbar);\n\n    function on_click_closure(name) {\n        return function (_event) {\n            return fig.toolbar_button_onclick(name);\n        };\n    }\n\n    function on_mouseover_closure(tooltip) {\n        return function (event) {\n            if (!event.currentTarget.disabled) {\n                return fig.toolbar_button_onmouseover(tooltip);\n            }\n        };\n    }\n\n    fig.buttons = {};\n    var buttonGroup = document.createElement('div');\n    buttonGroup.classList = 'mpl-button-group';\n    for (var toolbar_ind in mpl.toolbar_items) {\n        var name = mpl.toolbar_items[toolbar_ind][0];\n        var tooltip = mpl.toolbar_items[toolbar_ind][1];\n        var image = mpl.toolbar_items[toolbar_ind][2];\n        var method_name = mpl.toolbar_items[toolbar_ind][3];\n\n        if (!name) {\n            /* Instead of a spacer, we start a new button group. */\n            if (buttonGroup.hasChildNodes()) {\n                toolbar.appendChild(buttonGroup);\n            }\n            buttonGroup = document.createElement('div');\n            buttonGroup.classList = 'mpl-button-group';\n            continue;\n        }\n\n        var button = (fig.buttons[name] = document.createElement('button'));\n        button.classList = 'mpl-widget';\n        button.setAttribute('role', 'button');\n        button.setAttribute('aria-disabled', 'false');\n        button.addEventListener('click', on_click_closure(method_name));\n        button.addEventListener('mouseover', on_mouseover_closure(tooltip));\n\n        var icon_img = document.createElement('img');\n        icon_img.src = '_images/' + image + '.png';\n        icon_img.srcset = '_images/' + image + '_large.png 2x';\n        icon_img.alt = tooltip;\n        button.appendChild(icon_img);\n\n        buttonGroup.appendChild(button);\n    }\n\n    if (buttonGroup.hasChildNodes()) {\n        toolbar.appendChild(buttonGroup);\n    }\n\n    var fmt_picker = document.createElement('select');\n    fmt_picker.classList = 'mpl-widget';\n    toolbar.appendChild(fmt_picker);\n    this.format_dropdown = fmt_picker;\n\n    for (var ind in mpl.extensions) {\n        var fmt = mpl.extensions[ind];\n        var option = document.createElement('option');\n        option.selected = fmt === mpl.default_extension;\n        option.innerHTML = fmt;\n        fmt_picker.appendChild(option);\n    }\n\n    var status_bar = document.createElement('span');\n    status_bar.classList = 'mpl-message';\n    toolbar.appendChild(status_bar);\n    this.message = status_bar;\n};\n\nmpl.figure.prototype.request_resize = function (x_pixels, y_pixels) {\n    // Request matplotlib to resize the figure. Matplotlib will then trigger a resize in the client,\n    // which will in turn request a refresh of the image.\n    this.send_message('resize', { width: x_pixels, height: y_pixels });\n};\n\nmpl.figure.prototype.send_message = function (type, properties) {\n    properties['type'] = type;\n    properties['figure_id'] = this.id;\n    this.ws.send(JSON.stringify(properties));\n};\n\nmpl.figure.prototype.send_draw_message = function () {\n    if (!this.waiting) {\n        this.waiting = true;\n        this.ws.send(JSON.stringify({ type: 'draw', figure_id: this.id }));\n    }\n};\n\nmpl.figure.prototype.handle_save = function (fig, _msg) {\n    var format_dropdown = fig.format_dropdown;\n    var format = format_dropdown.options[format_dropdown.selectedIndex].value;\n    fig.ondownload(fig, format);\n};\n\nmpl.figure.prototype.handle_resize = function (fig, msg) {\n    var size = msg['size'];\n    if (size[0] !== fig.canvas.width || size[1] !== fig.canvas.height) {\n        fig._resize_canvas(size[0], size[1], msg['forward']);\n        fig.send_message('refresh', {});\n    }\n};\n\nmpl.figure.prototype.handle_rubberband = function (fig, msg) {\n    var x0 = msg['x0'] / fig.ratio;\n    var y0 = (fig.canvas.height - msg['y0']) / fig.ratio;\n    var x1 = msg['x1'] / fig.ratio;\n    var y1 = (fig.canvas.height - msg['y1']) / fig.ratio;\n    x0 = Math.floor(x0) + 0.5;\n    y0 = Math.floor(y0) + 0.5;\n    x1 = Math.floor(x1) + 0.5;\n    y1 = Math.floor(y1) + 0.5;\n    var min_x = Math.min(x0, x1);\n    var min_y = Math.min(y0, y1);\n    var width = Math.abs(x1 - x0);\n    var height = Math.abs(y1 - y0);\n\n    fig.rubberband_context.clearRect(\n        0,\n        0,\n        fig.canvas.width / fig.ratio,\n        fig.canvas.height / fig.ratio\n    );\n\n    fig.rubberband_context.strokeRect(min_x, min_y, width, height);\n};\n\nmpl.figure.prototype.handle_figure_label = function (fig, msg) {\n    // Updates the figure title.\n    fig.header.textContent = msg['label'];\n};\n\nmpl.figure.prototype.handle_cursor = function (fig, msg) {\n    fig.rubberband_canvas.style.cursor = msg['cursor'];\n};\n\nmpl.figure.prototype.handle_message = function (fig, msg) {\n    fig.message.textContent = msg['message'];\n};\n\nmpl.figure.prototype.handle_draw = function (fig, _msg) {\n    // Request the server to send over a new figure.\n    fig.send_draw_message();\n};\n\nmpl.figure.prototype.handle_image_mode = function (fig, msg) {\n    fig.image_mode = msg['mode'];\n};\n\nmpl.figure.prototype.handle_history_buttons = function (fig, msg) {\n    for (var key in msg) {\n        if (!(key in fig.buttons)) {\n            continue;\n        }\n        fig.buttons[key].disabled = !msg[key];\n        fig.buttons[key].setAttribute('aria-disabled', !msg[key]);\n    }\n};\n\nmpl.figure.prototype.handle_navigate_mode = function (fig, msg) {\n    if (msg['mode'] === 'PAN') {\n        fig.buttons['Pan'].classList.add('active');\n        fig.buttons['Zoom'].classList.remove('active');\n    } else if (msg['mode'] === 'ZOOM') {\n        fig.buttons['Pan'].classList.remove('active');\n        fig.buttons['Zoom'].classList.add('active');\n    } else {\n        fig.buttons['Pan'].classList.remove('active');\n        fig.buttons['Zoom'].classList.remove('active');\n    }\n};\n\nmpl.figure.prototype.updated_canvas_event = function () {\n    // Called whenever the canvas gets updated.\n    this.send_message('ack', {});\n};\n\n// A function to construct a web socket function for onmessage handling.\n// Called in the figure constructor.\nmpl.figure.prototype._make_on_message_function = function (fig) {\n    return function socket_on_message(evt) {\n        if (evt.data instanceof Blob) {\n            var img = evt.data;\n            if (img.type !== 'image/png') {\n                /* FIXME: We get \"Resource interpreted as Image but\n                 * transferred with MIME type text/plain:\" errors on\n                 * Chrome.  But how to set the MIME type?  It doesn't seem\n                 * to be part of the websocket stream */\n                img.type = 'image/png';\n            }\n\n            /* Free the memory for the previous frames */\n            if (fig.imageObj.src) {\n                (window.URL || window.webkitURL).revokeObjectURL(\n                    fig.imageObj.src\n                );\n            }\n\n            fig.imageObj.src = (window.URL || window.webkitURL).createObjectURL(\n                img\n            );\n            fig.updated_canvas_event();\n            fig.waiting = false;\n            return;\n        } else if (\n            typeof evt.data === 'string' &&\n            evt.data.slice(0, 21) === 'data:image/png;base64'\n        ) {\n            fig.imageObj.src = evt.data;\n            fig.updated_canvas_event();\n            fig.waiting = false;\n            return;\n        }\n\n        var msg = JSON.parse(evt.data);\n        var msg_type = msg['type'];\n\n        // Call the  \"handle_{type}\" callback, which takes\n        // the figure and JSON message as its only arguments.\n        try {\n            var callback = fig['handle_' + msg_type];\n        } catch (e) {\n            console.log(\n                \"No handler for the '\" + msg_type + \"' message type: \",\n                msg\n            );\n            return;\n        }\n\n        if (callback) {\n            try {\n                // console.log(\"Handling '\" + msg_type + \"' message: \", msg);\n                callback(fig, msg);\n            } catch (e) {\n                console.log(\n                    \"Exception inside the 'handler_\" + msg_type + \"' callback:\",\n                    e,\n                    e.stack,\n                    msg\n                );\n            }\n        }\n    };\n};\n\n// from https://stackoverflow.com/questions/1114465/getting-mouse-location-in-canvas\nmpl.findpos = function (e) {\n    //this section is from http://www.quirksmode.org/js/events_properties.html\n    var targ;\n    if (!e) {\n        e = window.event;\n    }\n    if (e.target) {\n        targ = e.target;\n    } else if (e.srcElement) {\n        targ = e.srcElement;\n    }\n    if (targ.nodeType === 3) {\n        // defeat Safari bug\n        targ = targ.parentNode;\n    }\n\n    // pageX,Y are the mouse positions relative to the document\n    var boundingRect = targ.getBoundingClientRect();\n    var x = e.pageX - (boundingRect.left + document.body.scrollLeft);\n    var y = e.pageY - (boundingRect.top + document.body.scrollTop);\n\n    return { x: x, y: y };\n};\n\n/*\n * return a copy of an object with only non-object keys\n * we need this to avoid circular references\n * https://stackoverflow.com/a/24161582/3208463\n */\nfunction simpleKeys(original) {\n    return Object.keys(original).reduce(function (obj, key) {\n        if (typeof original[key] !== 'object') {\n            obj[key] = original[key];\n        }\n        return obj;\n    }, {});\n}\n\nmpl.figure.prototype.mouse_event = function (event, name) {\n    var canvas_pos = mpl.findpos(event);\n\n    if (name === 'button_press') {\n        this.canvas.focus();\n        this.canvas_div.focus();\n    }\n\n    var x = canvas_pos.x * this.ratio;\n    var y = canvas_pos.y * this.ratio;\n\n    this.send_message(name, {\n        x: x,\n        y: y,\n        button: event.button,\n        step: event.step,\n        guiEvent: simpleKeys(event),\n    });\n\n    /* This prevents the web browser from automatically changing to\n     * the text insertion cursor when the button is pressed.  We want\n     * to control all of the cursor setting manually through the\n     * 'cursor' event from matplotlib */\n    event.preventDefault();\n    return false;\n};\n\nmpl.figure.prototype._key_event_extra = function (_event, _name) {\n    // Handle any extra behaviour associated with a key event\n};\n\nmpl.figure.prototype.key_event = function (event, name) {\n    // Prevent repeat events\n    if (name === 'key_press') {\n        if (event.key === this._key) {\n            return;\n        } else {\n            this._key = event.key;\n        }\n    }\n    if (name === 'key_release') {\n        this._key = null;\n    }\n\n    var value = '';\n    if (event.ctrlKey && event.key !== 'Control') {\n        value += 'ctrl+';\n    }\n    else if (event.altKey && event.key !== 'Alt') {\n        value += 'alt+';\n    }\n    else if (event.shiftKey && event.key !== 'Shift') {\n        value += 'shift+';\n    }\n\n    value += 'k' + event.key;\n\n    this._key_event_extra(event, name);\n\n    this.send_message(name, { key: value, guiEvent: simpleKeys(event) });\n    return false;\n};\n\nmpl.figure.prototype.toolbar_button_onclick = function (name) {\n    if (name === 'download') {\n        this.handle_save(this, null);\n    } else {\n        this.send_message('toolbar_button', { name: name });\n    }\n};\n\nmpl.figure.prototype.toolbar_button_onmouseover = function (tooltip) {\n    this.message.textContent = tooltip;\n};\n\n///////////////// REMAINING CONTENT GENERATED BY embed_js.py /////////////////\n// prettier-ignore\nvar _JSXTOOLS_RESIZE_OBSERVER=function(A){var t,i=new WeakMap,n=new WeakMap,a=new WeakMap,r=new WeakMap,o=new Set;function s(e){if(!(this instanceof s))throw new TypeError(\"Constructor requires 'new' operator\");i.set(this,e)}function h(){throw new TypeError(\"Function is not a constructor\")}function c(e,t,i,n){e=0 in arguments?Number(arguments[0]):0,t=1 in arguments?Number(arguments[1]):0,i=2 in arguments?Number(arguments[2]):0,n=3 in arguments?Number(arguments[3]):0,this.right=(this.x=this.left=e)+(this.width=i),this.bottom=(this.y=this.top=t)+(this.height=n),Object.freeze(this)}function d(){t=requestAnimationFrame(d);var s=new WeakMap,p=new Set;o.forEach((function(t){r.get(t).forEach((function(i){var r=t instanceof window.SVGElement,o=a.get(t),d=r?0:parseFloat(o.paddingTop),f=r?0:parseFloat(o.paddingRight),l=r?0:parseFloat(o.paddingBottom),u=r?0:parseFloat(o.paddingLeft),g=r?0:parseFloat(o.borderTopWidth),m=r?0:parseFloat(o.borderRightWidth),w=r?0:parseFloat(o.borderBottomWidth),b=u+f,F=d+l,v=(r?0:parseFloat(o.borderLeftWidth))+m,W=g+w,y=r?0:t.offsetHeight-W-t.clientHeight,E=r?0:t.offsetWidth-v-t.clientWidth,R=b+v,z=F+W,M=r?t.width:parseFloat(o.width)-R-E,O=r?t.height:parseFloat(o.height)-z-y;if(n.has(t)){var k=n.get(t);if(k[0]===M&&k[1]===O)return}n.set(t,[M,O]);var S=Object.create(h.prototype);S.target=t,S.contentRect=new c(u,d,M,O),s.has(i)||(s.set(i,[]),p.add(i)),s.get(i).push(S)}))})),p.forEach((function(e){i.get(e).call(e,s.get(e),e)}))}return s.prototype.observe=function(i){if(i instanceof window.Element){r.has(i)||(r.set(i,new Set),o.add(i),a.set(i,window.getComputedStyle(i)));var n=r.get(i);n.has(this)||n.add(this),cancelAnimationFrame(t),t=requestAnimationFrame(d)}},s.prototype.unobserve=function(i){if(i instanceof window.Element&&r.has(i)){var n=r.get(i);n.has(this)&&(n.delete(this),n.size||(r.delete(i),o.delete(i))),n.size||r.delete(i),o.size||cancelAnimationFrame(t)}},A.DOMRectReadOnly=c,A.ResizeObserver=s,A.ResizeObserverEntry=h,A}; // eslint-disable-line\nmpl.toolbar_items = [[\"Home\", \"Reset original view\", \"fa fa-home icon-home\", \"home\"], [\"Back\", \"Back to previous view\", \"fa fa-arrow-left icon-arrow-left\", \"back\"], [\"Forward\", \"Forward to next view\", \"fa fa-arrow-right icon-arrow-right\", \"forward\"], [\"\", \"\", \"\", \"\"], [\"Pan\", \"Left button pans, Right button zooms\\nx/y fixes axis, CTRL fixes aspect\", \"fa fa-arrows icon-move\", \"pan\"], [\"Zoom\", \"Zoom to rectangle\\nx/y fixes axis\", \"fa fa-square-o icon-check-empty\", \"zoom\"], [\"\", \"\", \"\", \"\"], [\"Download\", \"Download plot\", \"fa fa-floppy-o icon-save\", \"download\"]];\n\nmpl.extensions = [\"eps\", \"jpeg\", \"pgf\", \"pdf\", \"png\", \"ps\", \"raw\", \"svg\", \"tif\"];\n\nmpl.default_extension = \"png\";/* global mpl */\n\nvar comm_websocket_adapter = function (comm) {\n    // Create a \"websocket\"-like object which calls the given IPython comm\n    // object with the appropriate methods. Currently this is a non binary\n    // socket, so there is still some room for performance tuning.\n    var ws = {};\n\n    ws.binaryType = comm.kernel.ws.binaryType;\n    ws.readyState = comm.kernel.ws.readyState;\n    function updateReadyState(_event) {\n        if (comm.kernel.ws) {\n            ws.readyState = comm.kernel.ws.readyState;\n        } else {\n            ws.readyState = 3; // Closed state.\n        }\n    }\n    comm.kernel.ws.addEventListener('open', updateReadyState);\n    comm.kernel.ws.addEventListener('close', updateReadyState);\n    comm.kernel.ws.addEventListener('error', updateReadyState);\n\n    ws.close = function () {\n        comm.close();\n    };\n    ws.send = function (m) {\n        //console.log('sending', m);\n        comm.send(m);\n    };\n    // Register the callback with on_msg.\n    comm.on_msg(function (msg) {\n        //console.log('receiving', msg['content']['data'], msg);\n        var data = msg['content']['data'];\n        if (data['blob'] !== undefined) {\n            data = {\n                data: new Blob(msg['buffers'], { type: data['blob'] }),\n            };\n        }\n        // Pass the mpl event to the overridden (by mpl) onmessage function.\n        ws.onmessage(data);\n    });\n    return ws;\n};\n\nmpl.mpl_figure_comm = function (comm, msg) {\n    // This is the function which gets called when the mpl process\n    // starts-up an IPython Comm through the \"matplotlib\" channel.\n\n    var id = msg.content.data.id;\n    // Get hold of the div created by the display call when the Comm\n    // socket was opened in Python.\n    var element = document.getElementById(id);\n    var ws_proxy = comm_websocket_adapter(comm);\n\n    function ondownload(figure, _format) {\n        window.open(figure.canvas.toDataURL());\n    }\n\n    var fig = new mpl.figure(id, ws_proxy, ondownload, element);\n\n    // Call onopen now - mpl needs it, as it is assuming we've passed it a real\n    // web socket which is closed, not our websocket->open comm proxy.\n    ws_proxy.onopen();\n\n    fig.parent_element = element;\n    fig.cell_info = mpl.find_output_cell(\"<div id='\" + id + \"'></div>\");\n    if (!fig.cell_info) {\n        console.error('Failed to find cell for figure', id, fig);\n        return;\n    }\n    fig.cell_info[0].output_area.element.on(\n        'cleared',\n        { fig: fig },\n        fig._remove_fig_handler\n    );\n};\n\nmpl.figure.prototype.handle_close = function (fig, msg) {\n    var width = fig.canvas.width / fig.ratio;\n    fig.cell_info[0].output_area.element.off(\n        'cleared',\n        fig._remove_fig_handler\n    );\n    fig.resizeObserverInstance.unobserve(fig.canvas_div);\n\n    // Update the output cell to use the data from the current canvas.\n    fig.push_to_output();\n    var dataURL = fig.canvas.toDataURL();\n    // Re-enable the keyboard manager in IPython - without this line, in FF,\n    // the notebook keyboard shortcuts fail.\n    IPython.keyboard_manager.enable();\n    fig.parent_element.innerHTML =\n        '<img src=\"' + dataURL + '\" width=\"' + width + '\">';\n    fig.close_ws(fig, msg);\n};\n\nmpl.figure.prototype.close_ws = function (fig, msg) {\n    fig.send_message('closing', msg);\n    // fig.ws.close()\n};\n\nmpl.figure.prototype.push_to_output = function (_remove_interactive) {\n    // Turn the data on the canvas into data in the output cell.\n    var width = this.canvas.width / this.ratio;\n    var dataURL = this.canvas.toDataURL();\n    this.cell_info[1]['text/html'] =\n        '<img src=\"' + dataURL + '\" width=\"' + width + '\">';\n};\n\nmpl.figure.prototype.updated_canvas_event = function () {\n    // Tell IPython that the notebook contents must change.\n    IPython.notebook.set_dirty(true);\n    this.send_message('ack', {});\n    var fig = this;\n    // Wait a second, then push the new image to the DOM so\n    // that it is saved nicely (might be nice to debounce this).\n    setTimeout(function () {\n        fig.push_to_output();\n    }, 1000);\n};\n\nmpl.figure.prototype._init_toolbar = function () {\n    var fig = this;\n\n    var toolbar = document.createElement('div');\n    toolbar.classList = 'btn-toolbar';\n    this.root.appendChild(toolbar);\n\n    function on_click_closure(name) {\n        return function (_event) {\n            return fig.toolbar_button_onclick(name);\n        };\n    }\n\n    function on_mouseover_closure(tooltip) {\n        return function (event) {\n            if (!event.currentTarget.disabled) {\n                return fig.toolbar_button_onmouseover(tooltip);\n            }\n        };\n    }\n\n    fig.buttons = {};\n    var buttonGroup = document.createElement('div');\n    buttonGroup.classList = 'btn-group';\n    var button;\n    for (var toolbar_ind in mpl.toolbar_items) {\n        var name = mpl.toolbar_items[toolbar_ind][0];\n        var tooltip = mpl.toolbar_items[toolbar_ind][1];\n        var image = mpl.toolbar_items[toolbar_ind][2];\n        var method_name = mpl.toolbar_items[toolbar_ind][3];\n\n        if (!name) {\n            /* Instead of a spacer, we start a new button group. */\n            if (buttonGroup.hasChildNodes()) {\n                toolbar.appendChild(buttonGroup);\n            }\n            buttonGroup = document.createElement('div');\n            buttonGroup.classList = 'btn-group';\n            continue;\n        }\n\n        button = fig.buttons[name] = document.createElement('button');\n        button.classList = 'btn btn-default';\n        button.href = '#';\n        button.title = name;\n        button.innerHTML = '<i class=\"fa ' + image + ' fa-lg\"></i>';\n        button.addEventListener('click', on_click_closure(method_name));\n        button.addEventListener('mouseover', on_mouseover_closure(tooltip));\n        buttonGroup.appendChild(button);\n    }\n\n    if (buttonGroup.hasChildNodes()) {\n        toolbar.appendChild(buttonGroup);\n    }\n\n    // Add the status bar.\n    var status_bar = document.createElement('span');\n    status_bar.classList = 'mpl-message pull-right';\n    toolbar.appendChild(status_bar);\n    this.message = status_bar;\n\n    // Add the close button to the window.\n    var buttongrp = document.createElement('div');\n    buttongrp.classList = 'btn-group inline pull-right';\n    button = document.createElement('button');\n    button.classList = 'btn btn-mini btn-primary';\n    button.href = '#';\n    button.title = 'Stop Interaction';\n    button.innerHTML = '<i class=\"fa fa-power-off icon-remove icon-large\"></i>';\n    button.addEventListener('click', function (_evt) {\n        fig.handle_close(fig, {});\n    });\n    button.addEventListener(\n        'mouseover',\n        on_mouseover_closure('Stop Interaction')\n    );\n    buttongrp.appendChild(button);\n    var titlebar = this.root.querySelector('.ui-dialog-titlebar');\n    titlebar.insertBefore(buttongrp, titlebar.firstChild);\n};\n\nmpl.figure.prototype._remove_fig_handler = function (event) {\n    var fig = event.data.fig;\n    if (event.target !== this) {\n        // Ignore bubbled events from children.\n        return;\n    }\n    fig.close_ws(fig, {});\n};\n\nmpl.figure.prototype._root_extra_style = function (el) {\n    el.style.boxSizing = 'content-box'; // override notebook setting of border-box.\n};\n\nmpl.figure.prototype._canvas_extra_style = function (el) {\n    // this is important to make the div 'focusable\n    el.setAttribute('tabindex', 0);\n    // reach out to IPython and tell the keyboard manager to turn it's self\n    // off when our div gets focus\n\n    // location in version 3\n    if (IPython.notebook.keyboard_manager) {\n        IPython.notebook.keyboard_manager.register_events(el);\n    } else {\n        // location in version 2\n        IPython.keyboard_manager.register_events(el);\n    }\n};\n\nmpl.figure.prototype._key_event_extra = function (event, _name) {\n    // Check for shift+enter\n    if (event.shiftKey && event.which === 13) {\n        this.canvas_div.blur();\n        // select the cell after this one\n        var index = IPython.notebook.find_cell_index(this.cell_info[0]);\n        IPython.notebook.select(index + 1);\n    }\n};\n\nmpl.figure.prototype.handle_save = function (fig, _msg) {\n    fig.ondownload(fig, null);\n};\n\nmpl.find_output_cell = function (html_output) {\n    // Return the cell and output element which can be found *uniquely* in the notebook.\n    // Note - this is a bit hacky, but it is done because the \"notebook_saving.Notebook\"\n    // IPython event is triggered only after the cells have been serialised, which for\n    // our purposes (turning an active figure into a static one), is too late.\n    var cells = IPython.notebook.get_cells();\n    var ncells = cells.length;\n    for (var i = 0; i < ncells; i++) {\n        var cell = cells[i];\n        if (cell.cell_type === 'code') {\n            for (var j = 0; j < cell.output_area.outputs.length; j++) {\n                var data = cell.output_area.outputs[j];\n                if (data.data) {\n                    // IPython >= 3 moved mimebundle to data attribute of output\n                    data = data.data;\n                }\n                if (data['text/html'] === html_output) {\n                    return [cell, data, j];\n                }\n            }\n        }\n    }\n};\n\n// Register the function which deals with the matplotlib target/channel.\n// The kernel may be null if the page has been refreshed.\nif (IPython.notebook.kernel !== null) {\n    IPython.notebook.kernel.comm_manager.register_target(\n        'matplotlib',\n        mpl.mpl_figure_comm\n    );\n}\n",
      "text/plain": [
       "<IPython.core.display.Javascript object>"
      ]
     },
     "metadata": {},
     "output_type": "display_data"
    },
    {
     "data": {
      "text/html": [
       "<div id='4433bb2d-0620-419e-9178-daaee669703d'></div>"
      ],
      "text/plain": [
       "<IPython.core.display.HTML object>"
      ]
     },
     "metadata": {},
     "output_type": "display_data"
    }
   ],
   "source": [
    "results(ylabels_test_target, rfc, X_test, true_labels)"
   ]
  },
  {
   "cell_type": "markdown",
   "id": "90aace93",
   "metadata": {},
   "source": [
    "# comparar rendimiento usando spacy_tokenizer"
   ]
  },
  {
   "cell_type": "code",
   "execution_count": 31,
   "id": "951d561e",
   "metadata": {},
   "outputs": [
    {
     "name": "stdout",
     "output_type": "stream",
     "text": [
      "CPU times: user 7min 22s, sys: 907 ms, total: 7min 23s\n",
      "Wall time: 7min 24s\n"
     ]
    },
    {
     "name": "stderr",
     "output_type": "stream",
     "text": [
      "/home/joselo/miniconda3/envs/tal/lib/python3.9/site-packages/sklearn/utils/deprecation.py:87: FutureWarning: Function get_feature_names is deprecated; get_feature_names is deprecated in 1.0 and will be removed in 1.2. Please use get_feature_names_out instead.\n",
      "  warnings.warn(msg, category=FutureWarning)\n"
     ]
    }
   ],
   "source": [
    "%%time\n",
    "vectorizer = TfidfVectorizer(preprocessor=partial(spacy_tokenizer, stem=False))\n",
    "XD = vectorizer.fit_transform(new_df['content'])\n",
    "feature_names = vectorizer.get_feature_names()\n",
    "X_train = XD[train_idxs]\n",
    "X_test = XD[test_idxs]"
   ]
  },
  {
   "cell_type": "code",
   "execution_count": 32,
   "id": "2add4f18",
   "metadata": {},
   "outputs": [
    {
     "name": "stdout",
     "output_type": "stream",
     "text": [
      "CPU times: user 13.5 s, sys: 132 ms, total: 13.7 s\n",
      "Wall time: 6.98 s\n"
     ]
    },
    {
     "data": {
      "text/plain": [
       "LogisticRegression(multi_class='ovr', random_state=42)"
      ]
     },
     "execution_count": 32,
     "metadata": {},
     "output_type": "execute_result"
    }
   ],
   "source": [
    "%%time\n",
    "lgr = LogisticRegression(random_state=42, multi_class='ovr', class_weight=None)\n",
    "lgr.fit(X_train, ylabels_train_target)"
   ]
  },
  {
   "cell_type": "code",
   "execution_count": 33,
   "id": "0841139b",
   "metadata": {},
   "outputs": [
    {
     "name": "stdout",
     "output_type": "stream",
     "text": [
      "CPU times: user 18 s, sys: 12 ms, total: 18.1 s\n",
      "Wall time: 17.9 s\n"
     ]
    },
    {
     "data": {
      "text/plain": [
       "RandomForestClassifier(max_depth=100, max_features='sqrt', random_state=42)"
      ]
     },
     "execution_count": 33,
     "metadata": {},
     "output_type": "execute_result"
    }
   ],
   "source": [
    "%%time\n",
    "rfc = RandomForestClassifier(n_estimators=100, max_depth=100,\n",
    "              random_state=42, criterion='gini', class_weight=None,\n",
    "              max_features='sqrt', verbose=0)\n",
    "rfc.fit(X_train, ylabels_train_target)"
   ]
  },
  {
   "cell_type": "code",
   "execution_count": 34,
   "id": "59456c1c",
   "metadata": {},
   "outputs": [
    {
     "name": "stdout",
     "output_type": "stream",
     "text": [
      "Resultados clasificación\n",
      "LogisticRegression\n",
      "\n",
      "\n",
      "                             precision    recall  f1-score   support\n",
      "\n",
      "                    1-Mundo       0.78      0.76      0.77       340\n",
      "                   10-Salud       0.83      0.85      0.84       340\n",
      "                 2-Economía       0.83      0.86      0.85       340\n",
      "    3-Política_y_Conflictos       0.82      0.75      0.78       340\n",
      "    4-Ciencias_y_Tecnología       0.86      0.80      0.83       340\n",
      " 5-Catástrofes_y_Accidentes       0.85      0.92      0.88       340\n",
      "          6-Cultura_y_Artes       0.86      0.88      0.87       340\n",
      "                  7-Deporte       0.96      0.97      0.97       340\n",
      "       8-Ecología_y_Planeta       0.85      0.83      0.84       340\n",
      "9-Crimen_delitos_y_Justicia       0.81      0.87      0.84       340\n",
      "\n",
      "                   accuracy                           0.85      3400\n",
      "                  macro avg       0.85      0.85      0.85      3400\n",
      "               weighted avg       0.85      0.85      0.85      3400\n",
      "\n"
     ]
    },
    {
     "data": {
      "application/javascript": "/* Put everything inside the global mpl namespace */\n/* global mpl */\nwindow.mpl = {};\n\nmpl.get_websocket_type = function () {\n    if (typeof WebSocket !== 'undefined') {\n        return WebSocket;\n    } else if (typeof MozWebSocket !== 'undefined') {\n        return MozWebSocket;\n    } else {\n        alert(\n            'Your browser does not have WebSocket support. ' +\n                'Please try Chrome, Safari or Firefox ≥ 6. ' +\n                'Firefox 4 and 5 are also supported but you ' +\n                'have to enable WebSockets in about:config.'\n        );\n    }\n};\n\nmpl.figure = function (figure_id, websocket, ondownload, parent_element) {\n    this.id = figure_id;\n\n    this.ws = websocket;\n\n    this.supports_binary = this.ws.binaryType !== undefined;\n\n    if (!this.supports_binary) {\n        var warnings = document.getElementById('mpl-warnings');\n        if (warnings) {\n            warnings.style.display = 'block';\n            warnings.textContent =\n                'This browser does not support binary websocket messages. ' +\n                'Performance may be slow.';\n        }\n    }\n\n    this.imageObj = new Image();\n\n    this.context = undefined;\n    this.message = undefined;\n    this.canvas = undefined;\n    this.rubberband_canvas = undefined;\n    this.rubberband_context = undefined;\n    this.format_dropdown = undefined;\n\n    this.image_mode = 'full';\n\n    this.root = document.createElement('div');\n    this.root.setAttribute('style', 'display: inline-block');\n    this._root_extra_style(this.root);\n\n    parent_element.appendChild(this.root);\n\n    this._init_header(this);\n    this._init_canvas(this);\n    this._init_toolbar(this);\n\n    var fig = this;\n\n    this.waiting = false;\n\n    this.ws.onopen = function () {\n        fig.send_message('supports_binary', { value: fig.supports_binary });\n        fig.send_message('send_image_mode', {});\n        if (fig.ratio !== 1) {\n            fig.send_message('set_device_pixel_ratio', {\n                device_pixel_ratio: fig.ratio,\n            });\n        }\n        fig.send_message('refresh', {});\n    };\n\n    this.imageObj.onload = function () {\n        if (fig.image_mode === 'full') {\n            // Full images could contain transparency (where diff images\n            // almost always do), so we need to clear the canvas so that\n            // there is no ghosting.\n            fig.context.clearRect(0, 0, fig.canvas.width, fig.canvas.height);\n        }\n        fig.context.drawImage(fig.imageObj, 0, 0);\n    };\n\n    this.imageObj.onunload = function () {\n        fig.ws.close();\n    };\n\n    this.ws.onmessage = this._make_on_message_function(this);\n\n    this.ondownload = ondownload;\n};\n\nmpl.figure.prototype._init_header = function () {\n    var titlebar = document.createElement('div');\n    titlebar.classList =\n        'ui-dialog-titlebar ui-widget-header ui-corner-all ui-helper-clearfix';\n    var titletext = document.createElement('div');\n    titletext.classList = 'ui-dialog-title';\n    titletext.setAttribute(\n        'style',\n        'width: 100%; text-align: center; padding: 3px;'\n    );\n    titlebar.appendChild(titletext);\n    this.root.appendChild(titlebar);\n    this.header = titletext;\n};\n\nmpl.figure.prototype._canvas_extra_style = function (_canvas_div) {};\n\nmpl.figure.prototype._root_extra_style = function (_canvas_div) {};\n\nmpl.figure.prototype._init_canvas = function () {\n    var fig = this;\n\n    var canvas_div = (this.canvas_div = document.createElement('div'));\n    canvas_div.setAttribute(\n        'style',\n        'border: 1px solid #ddd;' +\n            'box-sizing: content-box;' +\n            'clear: both;' +\n            'min-height: 1px;' +\n            'min-width: 1px;' +\n            'outline: 0;' +\n            'overflow: hidden;' +\n            'position: relative;' +\n            'resize: both;'\n    );\n\n    function on_keyboard_event_closure(name) {\n        return function (event) {\n            return fig.key_event(event, name);\n        };\n    }\n\n    canvas_div.addEventListener(\n        'keydown',\n        on_keyboard_event_closure('key_press')\n    );\n    canvas_div.addEventListener(\n        'keyup',\n        on_keyboard_event_closure('key_release')\n    );\n\n    this._canvas_extra_style(canvas_div);\n    this.root.appendChild(canvas_div);\n\n    var canvas = (this.canvas = document.createElement('canvas'));\n    canvas.classList.add('mpl-canvas');\n    canvas.setAttribute('style', 'box-sizing: content-box;');\n\n    this.context = canvas.getContext('2d');\n\n    var backingStore =\n        this.context.backingStorePixelRatio ||\n        this.context.webkitBackingStorePixelRatio ||\n        this.context.mozBackingStorePixelRatio ||\n        this.context.msBackingStorePixelRatio ||\n        this.context.oBackingStorePixelRatio ||\n        this.context.backingStorePixelRatio ||\n        1;\n\n    this.ratio = (window.devicePixelRatio || 1) / backingStore;\n\n    var rubberband_canvas = (this.rubberband_canvas = document.createElement(\n        'canvas'\n    ));\n    rubberband_canvas.setAttribute(\n        'style',\n        'box-sizing: content-box; position: absolute; left: 0; top: 0; z-index: 1;'\n    );\n\n    // Apply a ponyfill if ResizeObserver is not implemented by browser.\n    if (this.ResizeObserver === undefined) {\n        if (window.ResizeObserver !== undefined) {\n            this.ResizeObserver = window.ResizeObserver;\n        } else {\n            var obs = _JSXTOOLS_RESIZE_OBSERVER({});\n            this.ResizeObserver = obs.ResizeObserver;\n        }\n    }\n\n    this.resizeObserverInstance = new this.ResizeObserver(function (entries) {\n        var nentries = entries.length;\n        for (var i = 0; i < nentries; i++) {\n            var entry = entries[i];\n            var width, height;\n            if (entry.contentBoxSize) {\n                if (entry.contentBoxSize instanceof Array) {\n                    // Chrome 84 implements new version of spec.\n                    width = entry.contentBoxSize[0].inlineSize;\n                    height = entry.contentBoxSize[0].blockSize;\n                } else {\n                    // Firefox implements old version of spec.\n                    width = entry.contentBoxSize.inlineSize;\n                    height = entry.contentBoxSize.blockSize;\n                }\n            } else {\n                // Chrome <84 implements even older version of spec.\n                width = entry.contentRect.width;\n                height = entry.contentRect.height;\n            }\n\n            // Keep the size of the canvas and rubber band canvas in sync with\n            // the canvas container.\n            if (entry.devicePixelContentBoxSize) {\n                // Chrome 84 implements new version of spec.\n                canvas.setAttribute(\n                    'width',\n                    entry.devicePixelContentBoxSize[0].inlineSize\n                );\n                canvas.setAttribute(\n                    'height',\n                    entry.devicePixelContentBoxSize[0].blockSize\n                );\n            } else {\n                canvas.setAttribute('width', width * fig.ratio);\n                canvas.setAttribute('height', height * fig.ratio);\n            }\n            canvas.setAttribute(\n                'style',\n                'width: ' + width + 'px; height: ' + height + 'px;'\n            );\n\n            rubberband_canvas.setAttribute('width', width);\n            rubberband_canvas.setAttribute('height', height);\n\n            // And update the size in Python. We ignore the initial 0/0 size\n            // that occurs as the element is placed into the DOM, which should\n            // otherwise not happen due to the minimum size styling.\n            if (fig.ws.readyState == 1 && width != 0 && height != 0) {\n                fig.request_resize(width, height);\n            }\n        }\n    });\n    this.resizeObserverInstance.observe(canvas_div);\n\n    function on_mouse_event_closure(name) {\n        return function (event) {\n            return fig.mouse_event(event, name);\n        };\n    }\n\n    rubberband_canvas.addEventListener(\n        'mousedown',\n        on_mouse_event_closure('button_press')\n    );\n    rubberband_canvas.addEventListener(\n        'mouseup',\n        on_mouse_event_closure('button_release')\n    );\n    rubberband_canvas.addEventListener(\n        'dblclick',\n        on_mouse_event_closure('dblclick')\n    );\n    // Throttle sequential mouse events to 1 every 20ms.\n    rubberband_canvas.addEventListener(\n        'mousemove',\n        on_mouse_event_closure('motion_notify')\n    );\n\n    rubberband_canvas.addEventListener(\n        'mouseenter',\n        on_mouse_event_closure('figure_enter')\n    );\n    rubberband_canvas.addEventListener(\n        'mouseleave',\n        on_mouse_event_closure('figure_leave')\n    );\n\n    canvas_div.addEventListener('wheel', function (event) {\n        if (event.deltaY < 0) {\n            event.step = 1;\n        } else {\n            event.step = -1;\n        }\n        on_mouse_event_closure('scroll')(event);\n    });\n\n    canvas_div.appendChild(canvas);\n    canvas_div.appendChild(rubberband_canvas);\n\n    this.rubberband_context = rubberband_canvas.getContext('2d');\n    this.rubberband_context.strokeStyle = '#000000';\n\n    this._resize_canvas = function (width, height, forward) {\n        if (forward) {\n            canvas_div.style.width = width + 'px';\n            canvas_div.style.height = height + 'px';\n        }\n    };\n\n    // Disable right mouse context menu.\n    this.rubberband_canvas.addEventListener('contextmenu', function (_e) {\n        event.preventDefault();\n        return false;\n    });\n\n    function set_focus() {\n        canvas.focus();\n        canvas_div.focus();\n    }\n\n    window.setTimeout(set_focus, 100);\n};\n\nmpl.figure.prototype._init_toolbar = function () {\n    var fig = this;\n\n    var toolbar = document.createElement('div');\n    toolbar.classList = 'mpl-toolbar';\n    this.root.appendChild(toolbar);\n\n    function on_click_closure(name) {\n        return function (_event) {\n            return fig.toolbar_button_onclick(name);\n        };\n    }\n\n    function on_mouseover_closure(tooltip) {\n        return function (event) {\n            if (!event.currentTarget.disabled) {\n                return fig.toolbar_button_onmouseover(tooltip);\n            }\n        };\n    }\n\n    fig.buttons = {};\n    var buttonGroup = document.createElement('div');\n    buttonGroup.classList = 'mpl-button-group';\n    for (var toolbar_ind in mpl.toolbar_items) {\n        var name = mpl.toolbar_items[toolbar_ind][0];\n        var tooltip = mpl.toolbar_items[toolbar_ind][1];\n        var image = mpl.toolbar_items[toolbar_ind][2];\n        var method_name = mpl.toolbar_items[toolbar_ind][3];\n\n        if (!name) {\n            /* Instead of a spacer, we start a new button group. */\n            if (buttonGroup.hasChildNodes()) {\n                toolbar.appendChild(buttonGroup);\n            }\n            buttonGroup = document.createElement('div');\n            buttonGroup.classList = 'mpl-button-group';\n            continue;\n        }\n\n        var button = (fig.buttons[name] = document.createElement('button'));\n        button.classList = 'mpl-widget';\n        button.setAttribute('role', 'button');\n        button.setAttribute('aria-disabled', 'false');\n        button.addEventListener('click', on_click_closure(method_name));\n        button.addEventListener('mouseover', on_mouseover_closure(tooltip));\n\n        var icon_img = document.createElement('img');\n        icon_img.src = '_images/' + image + '.png';\n        icon_img.srcset = '_images/' + image + '_large.png 2x';\n        icon_img.alt = tooltip;\n        button.appendChild(icon_img);\n\n        buttonGroup.appendChild(button);\n    }\n\n    if (buttonGroup.hasChildNodes()) {\n        toolbar.appendChild(buttonGroup);\n    }\n\n    var fmt_picker = document.createElement('select');\n    fmt_picker.classList = 'mpl-widget';\n    toolbar.appendChild(fmt_picker);\n    this.format_dropdown = fmt_picker;\n\n    for (var ind in mpl.extensions) {\n        var fmt = mpl.extensions[ind];\n        var option = document.createElement('option');\n        option.selected = fmt === mpl.default_extension;\n        option.innerHTML = fmt;\n        fmt_picker.appendChild(option);\n    }\n\n    var status_bar = document.createElement('span');\n    status_bar.classList = 'mpl-message';\n    toolbar.appendChild(status_bar);\n    this.message = status_bar;\n};\n\nmpl.figure.prototype.request_resize = function (x_pixels, y_pixels) {\n    // Request matplotlib to resize the figure. Matplotlib will then trigger a resize in the client,\n    // which will in turn request a refresh of the image.\n    this.send_message('resize', { width: x_pixels, height: y_pixels });\n};\n\nmpl.figure.prototype.send_message = function (type, properties) {\n    properties['type'] = type;\n    properties['figure_id'] = this.id;\n    this.ws.send(JSON.stringify(properties));\n};\n\nmpl.figure.prototype.send_draw_message = function () {\n    if (!this.waiting) {\n        this.waiting = true;\n        this.ws.send(JSON.stringify({ type: 'draw', figure_id: this.id }));\n    }\n};\n\nmpl.figure.prototype.handle_save = function (fig, _msg) {\n    var format_dropdown = fig.format_dropdown;\n    var format = format_dropdown.options[format_dropdown.selectedIndex].value;\n    fig.ondownload(fig, format);\n};\n\nmpl.figure.prototype.handle_resize = function (fig, msg) {\n    var size = msg['size'];\n    if (size[0] !== fig.canvas.width || size[1] !== fig.canvas.height) {\n        fig._resize_canvas(size[0], size[1], msg['forward']);\n        fig.send_message('refresh', {});\n    }\n};\n\nmpl.figure.prototype.handle_rubberband = function (fig, msg) {\n    var x0 = msg['x0'] / fig.ratio;\n    var y0 = (fig.canvas.height - msg['y0']) / fig.ratio;\n    var x1 = msg['x1'] / fig.ratio;\n    var y1 = (fig.canvas.height - msg['y1']) / fig.ratio;\n    x0 = Math.floor(x0) + 0.5;\n    y0 = Math.floor(y0) + 0.5;\n    x1 = Math.floor(x1) + 0.5;\n    y1 = Math.floor(y1) + 0.5;\n    var min_x = Math.min(x0, x1);\n    var min_y = Math.min(y0, y1);\n    var width = Math.abs(x1 - x0);\n    var height = Math.abs(y1 - y0);\n\n    fig.rubberband_context.clearRect(\n        0,\n        0,\n        fig.canvas.width / fig.ratio,\n        fig.canvas.height / fig.ratio\n    );\n\n    fig.rubberband_context.strokeRect(min_x, min_y, width, height);\n};\n\nmpl.figure.prototype.handle_figure_label = function (fig, msg) {\n    // Updates the figure title.\n    fig.header.textContent = msg['label'];\n};\n\nmpl.figure.prototype.handle_cursor = function (fig, msg) {\n    fig.rubberband_canvas.style.cursor = msg['cursor'];\n};\n\nmpl.figure.prototype.handle_message = function (fig, msg) {\n    fig.message.textContent = msg['message'];\n};\n\nmpl.figure.prototype.handle_draw = function (fig, _msg) {\n    // Request the server to send over a new figure.\n    fig.send_draw_message();\n};\n\nmpl.figure.prototype.handle_image_mode = function (fig, msg) {\n    fig.image_mode = msg['mode'];\n};\n\nmpl.figure.prototype.handle_history_buttons = function (fig, msg) {\n    for (var key in msg) {\n        if (!(key in fig.buttons)) {\n            continue;\n        }\n        fig.buttons[key].disabled = !msg[key];\n        fig.buttons[key].setAttribute('aria-disabled', !msg[key]);\n    }\n};\n\nmpl.figure.prototype.handle_navigate_mode = function (fig, msg) {\n    if (msg['mode'] === 'PAN') {\n        fig.buttons['Pan'].classList.add('active');\n        fig.buttons['Zoom'].classList.remove('active');\n    } else if (msg['mode'] === 'ZOOM') {\n        fig.buttons['Pan'].classList.remove('active');\n        fig.buttons['Zoom'].classList.add('active');\n    } else {\n        fig.buttons['Pan'].classList.remove('active');\n        fig.buttons['Zoom'].classList.remove('active');\n    }\n};\n\nmpl.figure.prototype.updated_canvas_event = function () {\n    // Called whenever the canvas gets updated.\n    this.send_message('ack', {});\n};\n\n// A function to construct a web socket function for onmessage handling.\n// Called in the figure constructor.\nmpl.figure.prototype._make_on_message_function = function (fig) {\n    return function socket_on_message(evt) {\n        if (evt.data instanceof Blob) {\n            var img = evt.data;\n            if (img.type !== 'image/png') {\n                /* FIXME: We get \"Resource interpreted as Image but\n                 * transferred with MIME type text/plain:\" errors on\n                 * Chrome.  But how to set the MIME type?  It doesn't seem\n                 * to be part of the websocket stream */\n                img.type = 'image/png';\n            }\n\n            /* Free the memory for the previous frames */\n            if (fig.imageObj.src) {\n                (window.URL || window.webkitURL).revokeObjectURL(\n                    fig.imageObj.src\n                );\n            }\n\n            fig.imageObj.src = (window.URL || window.webkitURL).createObjectURL(\n                img\n            );\n            fig.updated_canvas_event();\n            fig.waiting = false;\n            return;\n        } else if (\n            typeof evt.data === 'string' &&\n            evt.data.slice(0, 21) === 'data:image/png;base64'\n        ) {\n            fig.imageObj.src = evt.data;\n            fig.updated_canvas_event();\n            fig.waiting = false;\n            return;\n        }\n\n        var msg = JSON.parse(evt.data);\n        var msg_type = msg['type'];\n\n        // Call the  \"handle_{type}\" callback, which takes\n        // the figure and JSON message as its only arguments.\n        try {\n            var callback = fig['handle_' + msg_type];\n        } catch (e) {\n            console.log(\n                \"No handler for the '\" + msg_type + \"' message type: \",\n                msg\n            );\n            return;\n        }\n\n        if (callback) {\n            try {\n                // console.log(\"Handling '\" + msg_type + \"' message: \", msg);\n                callback(fig, msg);\n            } catch (e) {\n                console.log(\n                    \"Exception inside the 'handler_\" + msg_type + \"' callback:\",\n                    e,\n                    e.stack,\n                    msg\n                );\n            }\n        }\n    };\n};\n\n// from https://stackoverflow.com/questions/1114465/getting-mouse-location-in-canvas\nmpl.findpos = function (e) {\n    //this section is from http://www.quirksmode.org/js/events_properties.html\n    var targ;\n    if (!e) {\n        e = window.event;\n    }\n    if (e.target) {\n        targ = e.target;\n    } else if (e.srcElement) {\n        targ = e.srcElement;\n    }\n    if (targ.nodeType === 3) {\n        // defeat Safari bug\n        targ = targ.parentNode;\n    }\n\n    // pageX,Y are the mouse positions relative to the document\n    var boundingRect = targ.getBoundingClientRect();\n    var x = e.pageX - (boundingRect.left + document.body.scrollLeft);\n    var y = e.pageY - (boundingRect.top + document.body.scrollTop);\n\n    return { x: x, y: y };\n};\n\n/*\n * return a copy of an object with only non-object keys\n * we need this to avoid circular references\n * https://stackoverflow.com/a/24161582/3208463\n */\nfunction simpleKeys(original) {\n    return Object.keys(original).reduce(function (obj, key) {\n        if (typeof original[key] !== 'object') {\n            obj[key] = original[key];\n        }\n        return obj;\n    }, {});\n}\n\nmpl.figure.prototype.mouse_event = function (event, name) {\n    var canvas_pos = mpl.findpos(event);\n\n    if (name === 'button_press') {\n        this.canvas.focus();\n        this.canvas_div.focus();\n    }\n\n    var x = canvas_pos.x * this.ratio;\n    var y = canvas_pos.y * this.ratio;\n\n    this.send_message(name, {\n        x: x,\n        y: y,\n        button: event.button,\n        step: event.step,\n        guiEvent: simpleKeys(event),\n    });\n\n    /* This prevents the web browser from automatically changing to\n     * the text insertion cursor when the button is pressed.  We want\n     * to control all of the cursor setting manually through the\n     * 'cursor' event from matplotlib */\n    event.preventDefault();\n    return false;\n};\n\nmpl.figure.prototype._key_event_extra = function (_event, _name) {\n    // Handle any extra behaviour associated with a key event\n};\n\nmpl.figure.prototype.key_event = function (event, name) {\n    // Prevent repeat events\n    if (name === 'key_press') {\n        if (event.key === this._key) {\n            return;\n        } else {\n            this._key = event.key;\n        }\n    }\n    if (name === 'key_release') {\n        this._key = null;\n    }\n\n    var value = '';\n    if (event.ctrlKey && event.key !== 'Control') {\n        value += 'ctrl+';\n    }\n    else if (event.altKey && event.key !== 'Alt') {\n        value += 'alt+';\n    }\n    else if (event.shiftKey && event.key !== 'Shift') {\n        value += 'shift+';\n    }\n\n    value += 'k' + event.key;\n\n    this._key_event_extra(event, name);\n\n    this.send_message(name, { key: value, guiEvent: simpleKeys(event) });\n    return false;\n};\n\nmpl.figure.prototype.toolbar_button_onclick = function (name) {\n    if (name === 'download') {\n        this.handle_save(this, null);\n    } else {\n        this.send_message('toolbar_button', { name: name });\n    }\n};\n\nmpl.figure.prototype.toolbar_button_onmouseover = function (tooltip) {\n    this.message.textContent = tooltip;\n};\n\n///////////////// REMAINING CONTENT GENERATED BY embed_js.py /////////////////\n// prettier-ignore\nvar _JSXTOOLS_RESIZE_OBSERVER=function(A){var t,i=new WeakMap,n=new WeakMap,a=new WeakMap,r=new WeakMap,o=new Set;function s(e){if(!(this instanceof s))throw new TypeError(\"Constructor requires 'new' operator\");i.set(this,e)}function h(){throw new TypeError(\"Function is not a constructor\")}function c(e,t,i,n){e=0 in arguments?Number(arguments[0]):0,t=1 in arguments?Number(arguments[1]):0,i=2 in arguments?Number(arguments[2]):0,n=3 in arguments?Number(arguments[3]):0,this.right=(this.x=this.left=e)+(this.width=i),this.bottom=(this.y=this.top=t)+(this.height=n),Object.freeze(this)}function d(){t=requestAnimationFrame(d);var s=new WeakMap,p=new Set;o.forEach((function(t){r.get(t).forEach((function(i){var r=t instanceof window.SVGElement,o=a.get(t),d=r?0:parseFloat(o.paddingTop),f=r?0:parseFloat(o.paddingRight),l=r?0:parseFloat(o.paddingBottom),u=r?0:parseFloat(o.paddingLeft),g=r?0:parseFloat(o.borderTopWidth),m=r?0:parseFloat(o.borderRightWidth),w=r?0:parseFloat(o.borderBottomWidth),b=u+f,F=d+l,v=(r?0:parseFloat(o.borderLeftWidth))+m,W=g+w,y=r?0:t.offsetHeight-W-t.clientHeight,E=r?0:t.offsetWidth-v-t.clientWidth,R=b+v,z=F+W,M=r?t.width:parseFloat(o.width)-R-E,O=r?t.height:parseFloat(o.height)-z-y;if(n.has(t)){var k=n.get(t);if(k[0]===M&&k[1]===O)return}n.set(t,[M,O]);var S=Object.create(h.prototype);S.target=t,S.contentRect=new c(u,d,M,O),s.has(i)||(s.set(i,[]),p.add(i)),s.get(i).push(S)}))})),p.forEach((function(e){i.get(e).call(e,s.get(e),e)}))}return s.prototype.observe=function(i){if(i instanceof window.Element){r.has(i)||(r.set(i,new Set),o.add(i),a.set(i,window.getComputedStyle(i)));var n=r.get(i);n.has(this)||n.add(this),cancelAnimationFrame(t),t=requestAnimationFrame(d)}},s.prototype.unobserve=function(i){if(i instanceof window.Element&&r.has(i)){var n=r.get(i);n.has(this)&&(n.delete(this),n.size||(r.delete(i),o.delete(i))),n.size||r.delete(i),o.size||cancelAnimationFrame(t)}},A.DOMRectReadOnly=c,A.ResizeObserver=s,A.ResizeObserverEntry=h,A}; // eslint-disable-line\nmpl.toolbar_items = [[\"Home\", \"Reset original view\", \"fa fa-home icon-home\", \"home\"], [\"Back\", \"Back to previous view\", \"fa fa-arrow-left icon-arrow-left\", \"back\"], [\"Forward\", \"Forward to next view\", \"fa fa-arrow-right icon-arrow-right\", \"forward\"], [\"\", \"\", \"\", \"\"], [\"Pan\", \"Left button pans, Right button zooms\\nx/y fixes axis, CTRL fixes aspect\", \"fa fa-arrows icon-move\", \"pan\"], [\"Zoom\", \"Zoom to rectangle\\nx/y fixes axis\", \"fa fa-square-o icon-check-empty\", \"zoom\"], [\"\", \"\", \"\", \"\"], [\"Download\", \"Download plot\", \"fa fa-floppy-o icon-save\", \"download\"]];\n\nmpl.extensions = [\"eps\", \"jpeg\", \"pgf\", \"pdf\", \"png\", \"ps\", \"raw\", \"svg\", \"tif\"];\n\nmpl.default_extension = \"png\";/* global mpl */\n\nvar comm_websocket_adapter = function (comm) {\n    // Create a \"websocket\"-like object which calls the given IPython comm\n    // object with the appropriate methods. Currently this is a non binary\n    // socket, so there is still some room for performance tuning.\n    var ws = {};\n\n    ws.binaryType = comm.kernel.ws.binaryType;\n    ws.readyState = comm.kernel.ws.readyState;\n    function updateReadyState(_event) {\n        if (comm.kernel.ws) {\n            ws.readyState = comm.kernel.ws.readyState;\n        } else {\n            ws.readyState = 3; // Closed state.\n        }\n    }\n    comm.kernel.ws.addEventListener('open', updateReadyState);\n    comm.kernel.ws.addEventListener('close', updateReadyState);\n    comm.kernel.ws.addEventListener('error', updateReadyState);\n\n    ws.close = function () {\n        comm.close();\n    };\n    ws.send = function (m) {\n        //console.log('sending', m);\n        comm.send(m);\n    };\n    // Register the callback with on_msg.\n    comm.on_msg(function (msg) {\n        //console.log('receiving', msg['content']['data'], msg);\n        var data = msg['content']['data'];\n        if (data['blob'] !== undefined) {\n            data = {\n                data: new Blob(msg['buffers'], { type: data['blob'] }),\n            };\n        }\n        // Pass the mpl event to the overridden (by mpl) onmessage function.\n        ws.onmessage(data);\n    });\n    return ws;\n};\n\nmpl.mpl_figure_comm = function (comm, msg) {\n    // This is the function which gets called when the mpl process\n    // starts-up an IPython Comm through the \"matplotlib\" channel.\n\n    var id = msg.content.data.id;\n    // Get hold of the div created by the display call when the Comm\n    // socket was opened in Python.\n    var element = document.getElementById(id);\n    var ws_proxy = comm_websocket_adapter(comm);\n\n    function ondownload(figure, _format) {\n        window.open(figure.canvas.toDataURL());\n    }\n\n    var fig = new mpl.figure(id, ws_proxy, ondownload, element);\n\n    // Call onopen now - mpl needs it, as it is assuming we've passed it a real\n    // web socket which is closed, not our websocket->open comm proxy.\n    ws_proxy.onopen();\n\n    fig.parent_element = element;\n    fig.cell_info = mpl.find_output_cell(\"<div id='\" + id + \"'></div>\");\n    if (!fig.cell_info) {\n        console.error('Failed to find cell for figure', id, fig);\n        return;\n    }\n    fig.cell_info[0].output_area.element.on(\n        'cleared',\n        { fig: fig },\n        fig._remove_fig_handler\n    );\n};\n\nmpl.figure.prototype.handle_close = function (fig, msg) {\n    var width = fig.canvas.width / fig.ratio;\n    fig.cell_info[0].output_area.element.off(\n        'cleared',\n        fig._remove_fig_handler\n    );\n    fig.resizeObserverInstance.unobserve(fig.canvas_div);\n\n    // Update the output cell to use the data from the current canvas.\n    fig.push_to_output();\n    var dataURL = fig.canvas.toDataURL();\n    // Re-enable the keyboard manager in IPython - without this line, in FF,\n    // the notebook keyboard shortcuts fail.\n    IPython.keyboard_manager.enable();\n    fig.parent_element.innerHTML =\n        '<img src=\"' + dataURL + '\" width=\"' + width + '\">';\n    fig.close_ws(fig, msg);\n};\n\nmpl.figure.prototype.close_ws = function (fig, msg) {\n    fig.send_message('closing', msg);\n    // fig.ws.close()\n};\n\nmpl.figure.prototype.push_to_output = function (_remove_interactive) {\n    // Turn the data on the canvas into data in the output cell.\n    var width = this.canvas.width / this.ratio;\n    var dataURL = this.canvas.toDataURL();\n    this.cell_info[1]['text/html'] =\n        '<img src=\"' + dataURL + '\" width=\"' + width + '\">';\n};\n\nmpl.figure.prototype.updated_canvas_event = function () {\n    // Tell IPython that the notebook contents must change.\n    IPython.notebook.set_dirty(true);\n    this.send_message('ack', {});\n    var fig = this;\n    // Wait a second, then push the new image to the DOM so\n    // that it is saved nicely (might be nice to debounce this).\n    setTimeout(function () {\n        fig.push_to_output();\n    }, 1000);\n};\n\nmpl.figure.prototype._init_toolbar = function () {\n    var fig = this;\n\n    var toolbar = document.createElement('div');\n    toolbar.classList = 'btn-toolbar';\n    this.root.appendChild(toolbar);\n\n    function on_click_closure(name) {\n        return function (_event) {\n            return fig.toolbar_button_onclick(name);\n        };\n    }\n\n    function on_mouseover_closure(tooltip) {\n        return function (event) {\n            if (!event.currentTarget.disabled) {\n                return fig.toolbar_button_onmouseover(tooltip);\n            }\n        };\n    }\n\n    fig.buttons = {};\n    var buttonGroup = document.createElement('div');\n    buttonGroup.classList = 'btn-group';\n    var button;\n    for (var toolbar_ind in mpl.toolbar_items) {\n        var name = mpl.toolbar_items[toolbar_ind][0];\n        var tooltip = mpl.toolbar_items[toolbar_ind][1];\n        var image = mpl.toolbar_items[toolbar_ind][2];\n        var method_name = mpl.toolbar_items[toolbar_ind][3];\n\n        if (!name) {\n            /* Instead of a spacer, we start a new button group. */\n            if (buttonGroup.hasChildNodes()) {\n                toolbar.appendChild(buttonGroup);\n            }\n            buttonGroup = document.createElement('div');\n            buttonGroup.classList = 'btn-group';\n            continue;\n        }\n\n        button = fig.buttons[name] = document.createElement('button');\n        button.classList = 'btn btn-default';\n        button.href = '#';\n        button.title = name;\n        button.innerHTML = '<i class=\"fa ' + image + ' fa-lg\"></i>';\n        button.addEventListener('click', on_click_closure(method_name));\n        button.addEventListener('mouseover', on_mouseover_closure(tooltip));\n        buttonGroup.appendChild(button);\n    }\n\n    if (buttonGroup.hasChildNodes()) {\n        toolbar.appendChild(buttonGroup);\n    }\n\n    // Add the status bar.\n    var status_bar = document.createElement('span');\n    status_bar.classList = 'mpl-message pull-right';\n    toolbar.appendChild(status_bar);\n    this.message = status_bar;\n\n    // Add the close button to the window.\n    var buttongrp = document.createElement('div');\n    buttongrp.classList = 'btn-group inline pull-right';\n    button = document.createElement('button');\n    button.classList = 'btn btn-mini btn-primary';\n    button.href = '#';\n    button.title = 'Stop Interaction';\n    button.innerHTML = '<i class=\"fa fa-power-off icon-remove icon-large\"></i>';\n    button.addEventListener('click', function (_evt) {\n        fig.handle_close(fig, {});\n    });\n    button.addEventListener(\n        'mouseover',\n        on_mouseover_closure('Stop Interaction')\n    );\n    buttongrp.appendChild(button);\n    var titlebar = this.root.querySelector('.ui-dialog-titlebar');\n    titlebar.insertBefore(buttongrp, titlebar.firstChild);\n};\n\nmpl.figure.prototype._remove_fig_handler = function (event) {\n    var fig = event.data.fig;\n    if (event.target !== this) {\n        // Ignore bubbled events from children.\n        return;\n    }\n    fig.close_ws(fig, {});\n};\n\nmpl.figure.prototype._root_extra_style = function (el) {\n    el.style.boxSizing = 'content-box'; // override notebook setting of border-box.\n};\n\nmpl.figure.prototype._canvas_extra_style = function (el) {\n    // this is important to make the div 'focusable\n    el.setAttribute('tabindex', 0);\n    // reach out to IPython and tell the keyboard manager to turn it's self\n    // off when our div gets focus\n\n    // location in version 3\n    if (IPython.notebook.keyboard_manager) {\n        IPython.notebook.keyboard_manager.register_events(el);\n    } else {\n        // location in version 2\n        IPython.keyboard_manager.register_events(el);\n    }\n};\n\nmpl.figure.prototype._key_event_extra = function (event, _name) {\n    // Check for shift+enter\n    if (event.shiftKey && event.which === 13) {\n        this.canvas_div.blur();\n        // select the cell after this one\n        var index = IPython.notebook.find_cell_index(this.cell_info[0]);\n        IPython.notebook.select(index + 1);\n    }\n};\n\nmpl.figure.prototype.handle_save = function (fig, _msg) {\n    fig.ondownload(fig, null);\n};\n\nmpl.find_output_cell = function (html_output) {\n    // Return the cell and output element which can be found *uniquely* in the notebook.\n    // Note - this is a bit hacky, but it is done because the \"notebook_saving.Notebook\"\n    // IPython event is triggered only after the cells have been serialised, which for\n    // our purposes (turning an active figure into a static one), is too late.\n    var cells = IPython.notebook.get_cells();\n    var ncells = cells.length;\n    for (var i = 0; i < ncells; i++) {\n        var cell = cells[i];\n        if (cell.cell_type === 'code') {\n            for (var j = 0; j < cell.output_area.outputs.length; j++) {\n                var data = cell.output_area.outputs[j];\n                if (data.data) {\n                    // IPython >= 3 moved mimebundle to data attribute of output\n                    data = data.data;\n                }\n                if (data['text/html'] === html_output) {\n                    return [cell, data, j];\n                }\n            }\n        }\n    }\n};\n\n// Register the function which deals with the matplotlib target/channel.\n// The kernel may be null if the page has been refreshed.\nif (IPython.notebook.kernel !== null) {\n    IPython.notebook.kernel.comm_manager.register_target(\n        'matplotlib',\n        mpl.mpl_figure_comm\n    );\n}\n",
      "text/plain": [
       "<IPython.core.display.Javascript object>"
      ]
     },
     "metadata": {},
     "output_type": "display_data"
    },
    {
     "data": {
      "text/html": [
       "<img src=\"data:image/png;base64,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\" width=\"700\">"
      ],
      "text/plain": [
       "<IPython.core.display.HTML object>"
      ]
     },
     "metadata": {},
     "output_type": "display_data"
    }
   ],
   "source": [
    "results(ylabels_test_target, lgr, X_test, true_labels)"
   ]
  },
  {
   "cell_type": "markdown",
   "id": "7a1420bd",
   "metadata": {},
   "source": [
    "# rfc anda mejor con spacy_tokenizer"
   ]
  },
  {
   "cell_type": "code",
   "execution_count": 35,
   "id": "abb6bb36",
   "metadata": {},
   "outputs": [
    {
     "name": "stdout",
     "output_type": "stream",
     "text": [
      "Resultados clasificación\n",
      "RandomForestClassifier\n",
      "\n",
      "\n",
      "                             precision    recall  f1-score   support\n",
      "\n",
      "                    1-Mundo       0.76      0.61      0.68       340\n",
      "                   10-Salud       0.78      0.78      0.78       340\n",
      "                 2-Economía       0.82      0.82      0.82       340\n",
      "    3-Política_y_Conflictos       0.76      0.78      0.77       340\n",
      "    4-Ciencias_y_Tecnología       0.88      0.76      0.82       340\n",
      " 5-Catástrofes_y_Accidentes       0.75      0.90      0.82       340\n",
      "          6-Cultura_y_Artes       0.84      0.88      0.86       340\n",
      "                  7-Deporte       0.92      0.97      0.95       340\n",
      "       8-Ecología_y_Planeta       0.83      0.76      0.79       340\n",
      "9-Crimen_delitos_y_Justicia       0.77      0.85      0.81       340\n",
      "\n",
      "                   accuracy                           0.81      3400\n",
      "                  macro avg       0.81      0.81      0.81      3400\n",
      "               weighted avg       0.81      0.81      0.81      3400\n",
      "\n"
     ]
    },
    {
     "data": {
      "application/javascript": "/* Put everything inside the global mpl namespace */\n/* global mpl */\nwindow.mpl = {};\n\nmpl.get_websocket_type = function () {\n    if (typeof WebSocket !== 'undefined') {\n        return WebSocket;\n    } else if (typeof MozWebSocket !== 'undefined') {\n        return MozWebSocket;\n    } else {\n        alert(\n            'Your browser does not have WebSocket support. ' +\n                'Please try Chrome, Safari or Firefox ≥ 6. ' +\n                'Firefox 4 and 5 are also supported but you ' +\n                'have to enable WebSockets in about:config.'\n        );\n    }\n};\n\nmpl.figure = function (figure_id, websocket, ondownload, parent_element) {\n    this.id = figure_id;\n\n    this.ws = websocket;\n\n    this.supports_binary = this.ws.binaryType !== undefined;\n\n    if (!this.supports_binary) {\n        var warnings = document.getElementById('mpl-warnings');\n        if (warnings) {\n            warnings.style.display = 'block';\n            warnings.textContent =\n                'This browser does not support binary websocket messages. ' +\n                'Performance may be slow.';\n        }\n    }\n\n    this.imageObj = new Image();\n\n    this.context = undefined;\n    this.message = undefined;\n    this.canvas = undefined;\n    this.rubberband_canvas = undefined;\n    this.rubberband_context = undefined;\n    this.format_dropdown = undefined;\n\n    this.image_mode = 'full';\n\n    this.root = document.createElement('div');\n    this.root.setAttribute('style', 'display: inline-block');\n    this._root_extra_style(this.root);\n\n    parent_element.appendChild(this.root);\n\n    this._init_header(this);\n    this._init_canvas(this);\n    this._init_toolbar(this);\n\n    var fig = this;\n\n    this.waiting = false;\n\n    this.ws.onopen = function () {\n        fig.send_message('supports_binary', { value: fig.supports_binary });\n        fig.send_message('send_image_mode', {});\n        if (fig.ratio !== 1) {\n            fig.send_message('set_device_pixel_ratio', {\n                device_pixel_ratio: fig.ratio,\n            });\n        }\n        fig.send_message('refresh', {});\n    };\n\n    this.imageObj.onload = function () {\n        if (fig.image_mode === 'full') {\n            // Full images could contain transparency (where diff images\n            // almost always do), so we need to clear the canvas so that\n            // there is no ghosting.\n            fig.context.clearRect(0, 0, fig.canvas.width, fig.canvas.height);\n        }\n        fig.context.drawImage(fig.imageObj, 0, 0);\n    };\n\n    this.imageObj.onunload = function () {\n        fig.ws.close();\n    };\n\n    this.ws.onmessage = this._make_on_message_function(this);\n\n    this.ondownload = ondownload;\n};\n\nmpl.figure.prototype._init_header = function () {\n    var titlebar = document.createElement('div');\n    titlebar.classList =\n        'ui-dialog-titlebar ui-widget-header ui-corner-all ui-helper-clearfix';\n    var titletext = document.createElement('div');\n    titletext.classList = 'ui-dialog-title';\n    titletext.setAttribute(\n        'style',\n        'width: 100%; text-align: center; padding: 3px;'\n    );\n    titlebar.appendChild(titletext);\n    this.root.appendChild(titlebar);\n    this.header = titletext;\n};\n\nmpl.figure.prototype._canvas_extra_style = function (_canvas_div) {};\n\nmpl.figure.prototype._root_extra_style = function (_canvas_div) {};\n\nmpl.figure.prototype._init_canvas = function () {\n    var fig = this;\n\n    var canvas_div = (this.canvas_div = document.createElement('div'));\n    canvas_div.setAttribute(\n        'style',\n        'border: 1px solid #ddd;' +\n            'box-sizing: content-box;' +\n            'clear: both;' +\n            'min-height: 1px;' +\n            'min-width: 1px;' +\n            'outline: 0;' +\n            'overflow: hidden;' +\n            'position: relative;' +\n            'resize: both;'\n    );\n\n    function on_keyboard_event_closure(name) {\n        return function (event) {\n            return fig.key_event(event, name);\n        };\n    }\n\n    canvas_div.addEventListener(\n        'keydown',\n        on_keyboard_event_closure('key_press')\n    );\n    canvas_div.addEventListener(\n        'keyup',\n        on_keyboard_event_closure('key_release')\n    );\n\n    this._canvas_extra_style(canvas_div);\n    this.root.appendChild(canvas_div);\n\n    var canvas = (this.canvas = document.createElement('canvas'));\n    canvas.classList.add('mpl-canvas');\n    canvas.setAttribute('style', 'box-sizing: content-box;');\n\n    this.context = canvas.getContext('2d');\n\n    var backingStore =\n        this.context.backingStorePixelRatio ||\n        this.context.webkitBackingStorePixelRatio ||\n        this.context.mozBackingStorePixelRatio ||\n        this.context.msBackingStorePixelRatio ||\n        this.context.oBackingStorePixelRatio ||\n        this.context.backingStorePixelRatio ||\n        1;\n\n    this.ratio = (window.devicePixelRatio || 1) / backingStore;\n\n    var rubberband_canvas = (this.rubberband_canvas = document.createElement(\n        'canvas'\n    ));\n    rubberband_canvas.setAttribute(\n        'style',\n        'box-sizing: content-box; position: absolute; left: 0; top: 0; z-index: 1;'\n    );\n\n    // Apply a ponyfill if ResizeObserver is not implemented by browser.\n    if (this.ResizeObserver === undefined) {\n        if (window.ResizeObserver !== undefined) {\n            this.ResizeObserver = window.ResizeObserver;\n        } else {\n            var obs = _JSXTOOLS_RESIZE_OBSERVER({});\n            this.ResizeObserver = obs.ResizeObserver;\n        }\n    }\n\n    this.resizeObserverInstance = new this.ResizeObserver(function (entries) {\n        var nentries = entries.length;\n        for (var i = 0; i < nentries; i++) {\n            var entry = entries[i];\n            var width, height;\n            if (entry.contentBoxSize) {\n                if (entry.contentBoxSize instanceof Array) {\n                    // Chrome 84 implements new version of spec.\n                    width = entry.contentBoxSize[0].inlineSize;\n                    height = entry.contentBoxSize[0].blockSize;\n                } else {\n                    // Firefox implements old version of spec.\n                    width = entry.contentBoxSize.inlineSize;\n                    height = entry.contentBoxSize.blockSize;\n                }\n            } else {\n                // Chrome <84 implements even older version of spec.\n                width = entry.contentRect.width;\n                height = entry.contentRect.height;\n            }\n\n            // Keep the size of the canvas and rubber band canvas in sync with\n            // the canvas container.\n            if (entry.devicePixelContentBoxSize) {\n                // Chrome 84 implements new version of spec.\n                canvas.setAttribute(\n                    'width',\n                    entry.devicePixelContentBoxSize[0].inlineSize\n                );\n                canvas.setAttribute(\n                    'height',\n                    entry.devicePixelContentBoxSize[0].blockSize\n                );\n            } else {\n                canvas.setAttribute('width', width * fig.ratio);\n                canvas.setAttribute('height', height * fig.ratio);\n            }\n            canvas.setAttribute(\n                'style',\n                'width: ' + width + 'px; height: ' + height + 'px;'\n            );\n\n            rubberband_canvas.setAttribute('width', width);\n            rubberband_canvas.setAttribute('height', height);\n\n            // And update the size in Python. We ignore the initial 0/0 size\n            // that occurs as the element is placed into the DOM, which should\n            // otherwise not happen due to the minimum size styling.\n            if (fig.ws.readyState == 1 && width != 0 && height != 0) {\n                fig.request_resize(width, height);\n            }\n        }\n    });\n    this.resizeObserverInstance.observe(canvas_div);\n\n    function on_mouse_event_closure(name) {\n        return function (event) {\n            return fig.mouse_event(event, name);\n        };\n    }\n\n    rubberband_canvas.addEventListener(\n        'mousedown',\n        on_mouse_event_closure('button_press')\n    );\n    rubberband_canvas.addEventListener(\n        'mouseup',\n        on_mouse_event_closure('button_release')\n    );\n    rubberband_canvas.addEventListener(\n        'dblclick',\n        on_mouse_event_closure('dblclick')\n    );\n    // Throttle sequential mouse events to 1 every 20ms.\n    rubberband_canvas.addEventListener(\n        'mousemove',\n        on_mouse_event_closure('motion_notify')\n    );\n\n    rubberband_canvas.addEventListener(\n        'mouseenter',\n        on_mouse_event_closure('figure_enter')\n    );\n    rubberband_canvas.addEventListener(\n        'mouseleave',\n        on_mouse_event_closure('figure_leave')\n    );\n\n    canvas_div.addEventListener('wheel', function (event) {\n        if (event.deltaY < 0) {\n            event.step = 1;\n        } else {\n            event.step = -1;\n        }\n        on_mouse_event_closure('scroll')(event);\n    });\n\n    canvas_div.appendChild(canvas);\n    canvas_div.appendChild(rubberband_canvas);\n\n    this.rubberband_context = rubberband_canvas.getContext('2d');\n    this.rubberband_context.strokeStyle = '#000000';\n\n    this._resize_canvas = function (width, height, forward) {\n        if (forward) {\n            canvas_div.style.width = width + 'px';\n            canvas_div.style.height = height + 'px';\n        }\n    };\n\n    // Disable right mouse context menu.\n    this.rubberband_canvas.addEventListener('contextmenu', function (_e) {\n        event.preventDefault();\n        return false;\n    });\n\n    function set_focus() {\n        canvas.focus();\n        canvas_div.focus();\n    }\n\n    window.setTimeout(set_focus, 100);\n};\n\nmpl.figure.prototype._init_toolbar = function () {\n    var fig = this;\n\n    var toolbar = document.createElement('div');\n    toolbar.classList = 'mpl-toolbar';\n    this.root.appendChild(toolbar);\n\n    function on_click_closure(name) {\n        return function (_event) {\n            return fig.toolbar_button_onclick(name);\n        };\n    }\n\n    function on_mouseover_closure(tooltip) {\n        return function (event) {\n            if (!event.currentTarget.disabled) {\n                return fig.toolbar_button_onmouseover(tooltip);\n            }\n        };\n    }\n\n    fig.buttons = {};\n    var buttonGroup = document.createElement('div');\n    buttonGroup.classList = 'mpl-button-group';\n    for (var toolbar_ind in mpl.toolbar_items) {\n        var name = mpl.toolbar_items[toolbar_ind][0];\n        var tooltip = mpl.toolbar_items[toolbar_ind][1];\n        var image = mpl.toolbar_items[toolbar_ind][2];\n        var method_name = mpl.toolbar_items[toolbar_ind][3];\n\n        if (!name) {\n            /* Instead of a spacer, we start a new button group. */\n            if (buttonGroup.hasChildNodes()) {\n                toolbar.appendChild(buttonGroup);\n            }\n            buttonGroup = document.createElement('div');\n            buttonGroup.classList = 'mpl-button-group';\n            continue;\n        }\n\n        var button = (fig.buttons[name] = document.createElement('button'));\n        button.classList = 'mpl-widget';\n        button.setAttribute('role', 'button');\n        button.setAttribute('aria-disabled', 'false');\n        button.addEventListener('click', on_click_closure(method_name));\n        button.addEventListener('mouseover', on_mouseover_closure(tooltip));\n\n        var icon_img = document.createElement('img');\n        icon_img.src = '_images/' + image + '.png';\n        icon_img.srcset = '_images/' + image + '_large.png 2x';\n        icon_img.alt = tooltip;\n        button.appendChild(icon_img);\n\n        buttonGroup.appendChild(button);\n    }\n\n    if (buttonGroup.hasChildNodes()) {\n        toolbar.appendChild(buttonGroup);\n    }\n\n    var fmt_picker = document.createElement('select');\n    fmt_picker.classList = 'mpl-widget';\n    toolbar.appendChild(fmt_picker);\n    this.format_dropdown = fmt_picker;\n\n    for (var ind in mpl.extensions) {\n        var fmt = mpl.extensions[ind];\n        var option = document.createElement('option');\n        option.selected = fmt === mpl.default_extension;\n        option.innerHTML = fmt;\n        fmt_picker.appendChild(option);\n    }\n\n    var status_bar = document.createElement('span');\n    status_bar.classList = 'mpl-message';\n    toolbar.appendChild(status_bar);\n    this.message = status_bar;\n};\n\nmpl.figure.prototype.request_resize = function (x_pixels, y_pixels) {\n    // Request matplotlib to resize the figure. Matplotlib will then trigger a resize in the client,\n    // which will in turn request a refresh of the image.\n    this.send_message('resize', { width: x_pixels, height: y_pixels });\n};\n\nmpl.figure.prototype.send_message = function (type, properties) {\n    properties['type'] = type;\n    properties['figure_id'] = this.id;\n    this.ws.send(JSON.stringify(properties));\n};\n\nmpl.figure.prototype.send_draw_message = function () {\n    if (!this.waiting) {\n        this.waiting = true;\n        this.ws.send(JSON.stringify({ type: 'draw', figure_id: this.id }));\n    }\n};\n\nmpl.figure.prototype.handle_save = function (fig, _msg) {\n    var format_dropdown = fig.format_dropdown;\n    var format = format_dropdown.options[format_dropdown.selectedIndex].value;\n    fig.ondownload(fig, format);\n};\n\nmpl.figure.prototype.handle_resize = function (fig, msg) {\n    var size = msg['size'];\n    if (size[0] !== fig.canvas.width || size[1] !== fig.canvas.height) {\n        fig._resize_canvas(size[0], size[1], msg['forward']);\n        fig.send_message('refresh', {});\n    }\n};\n\nmpl.figure.prototype.handle_rubberband = function (fig, msg) {\n    var x0 = msg['x0'] / fig.ratio;\n    var y0 = (fig.canvas.height - msg['y0']) / fig.ratio;\n    var x1 = msg['x1'] / fig.ratio;\n    var y1 = (fig.canvas.height - msg['y1']) / fig.ratio;\n    x0 = Math.floor(x0) + 0.5;\n    y0 = Math.floor(y0) + 0.5;\n    x1 = Math.floor(x1) + 0.5;\n    y1 = Math.floor(y1) + 0.5;\n    var min_x = Math.min(x0, x1);\n    var min_y = Math.min(y0, y1);\n    var width = Math.abs(x1 - x0);\n    var height = Math.abs(y1 - y0);\n\n    fig.rubberband_context.clearRect(\n        0,\n        0,\n        fig.canvas.width / fig.ratio,\n        fig.canvas.height / fig.ratio\n    );\n\n    fig.rubberband_context.strokeRect(min_x, min_y, width, height);\n};\n\nmpl.figure.prototype.handle_figure_label = function (fig, msg) {\n    // Updates the figure title.\n    fig.header.textContent = msg['label'];\n};\n\nmpl.figure.prototype.handle_cursor = function (fig, msg) {\n    fig.rubberband_canvas.style.cursor = msg['cursor'];\n};\n\nmpl.figure.prototype.handle_message = function (fig, msg) {\n    fig.message.textContent = msg['message'];\n};\n\nmpl.figure.prototype.handle_draw = function (fig, _msg) {\n    // Request the server to send over a new figure.\n    fig.send_draw_message();\n};\n\nmpl.figure.prototype.handle_image_mode = function (fig, msg) {\n    fig.image_mode = msg['mode'];\n};\n\nmpl.figure.prototype.handle_history_buttons = function (fig, msg) {\n    for (var key in msg) {\n        if (!(key in fig.buttons)) {\n            continue;\n        }\n        fig.buttons[key].disabled = !msg[key];\n        fig.buttons[key].setAttribute('aria-disabled', !msg[key]);\n    }\n};\n\nmpl.figure.prototype.handle_navigate_mode = function (fig, msg) {\n    if (msg['mode'] === 'PAN') {\n        fig.buttons['Pan'].classList.add('active');\n        fig.buttons['Zoom'].classList.remove('active');\n    } else if (msg['mode'] === 'ZOOM') {\n        fig.buttons['Pan'].classList.remove('active');\n        fig.buttons['Zoom'].classList.add('active');\n    } else {\n        fig.buttons['Pan'].classList.remove('active');\n        fig.buttons['Zoom'].classList.remove('active');\n    }\n};\n\nmpl.figure.prototype.updated_canvas_event = function () {\n    // Called whenever the canvas gets updated.\n    this.send_message('ack', {});\n};\n\n// A function to construct a web socket function for onmessage handling.\n// Called in the figure constructor.\nmpl.figure.prototype._make_on_message_function = function (fig) {\n    return function socket_on_message(evt) {\n        if (evt.data instanceof Blob) {\n            var img = evt.data;\n            if (img.type !== 'image/png') {\n                /* FIXME: We get \"Resource interpreted as Image but\n                 * transferred with MIME type text/plain:\" errors on\n                 * Chrome.  But how to set the MIME type?  It doesn't seem\n                 * to be part of the websocket stream */\n                img.type = 'image/png';\n            }\n\n            /* Free the memory for the previous frames */\n            if (fig.imageObj.src) {\n                (window.URL || window.webkitURL).revokeObjectURL(\n                    fig.imageObj.src\n                );\n            }\n\n            fig.imageObj.src = (window.URL || window.webkitURL).createObjectURL(\n                img\n            );\n            fig.updated_canvas_event();\n            fig.waiting = false;\n            return;\n        } else if (\n            typeof evt.data === 'string' &&\n            evt.data.slice(0, 21) === 'data:image/png;base64'\n        ) {\n            fig.imageObj.src = evt.data;\n            fig.updated_canvas_event();\n            fig.waiting = false;\n            return;\n        }\n\n        var msg = JSON.parse(evt.data);\n        var msg_type = msg['type'];\n\n        // Call the  \"handle_{type}\" callback, which takes\n        // the figure and JSON message as its only arguments.\n        try {\n            var callback = fig['handle_' + msg_type];\n        } catch (e) {\n            console.log(\n                \"No handler for the '\" + msg_type + \"' message type: \",\n                msg\n            );\n            return;\n        }\n\n        if (callback) {\n            try {\n                // console.log(\"Handling '\" + msg_type + \"' message: \", msg);\n                callback(fig, msg);\n            } catch (e) {\n                console.log(\n                    \"Exception inside the 'handler_\" + msg_type + \"' callback:\",\n                    e,\n                    e.stack,\n                    msg\n                );\n            }\n        }\n    };\n};\n\n// from https://stackoverflow.com/questions/1114465/getting-mouse-location-in-canvas\nmpl.findpos = function (e) {\n    //this section is from http://www.quirksmode.org/js/events_properties.html\n    var targ;\n    if (!e) {\n        e = window.event;\n    }\n    if (e.target) {\n        targ = e.target;\n    } else if (e.srcElement) {\n        targ = e.srcElement;\n    }\n    if (targ.nodeType === 3) {\n        // defeat Safari bug\n        targ = targ.parentNode;\n    }\n\n    // pageX,Y are the mouse positions relative to the document\n    var boundingRect = targ.getBoundingClientRect();\n    var x = e.pageX - (boundingRect.left + document.body.scrollLeft);\n    var y = e.pageY - (boundingRect.top + document.body.scrollTop);\n\n    return { x: x, y: y };\n};\n\n/*\n * return a copy of an object with only non-object keys\n * we need this to avoid circular references\n * https://stackoverflow.com/a/24161582/3208463\n */\nfunction simpleKeys(original) {\n    return Object.keys(original).reduce(function (obj, key) {\n        if (typeof original[key] !== 'object') {\n            obj[key] = original[key];\n        }\n        return obj;\n    }, {});\n}\n\nmpl.figure.prototype.mouse_event = function (event, name) {\n    var canvas_pos = mpl.findpos(event);\n\n    if (name === 'button_press') {\n        this.canvas.focus();\n        this.canvas_div.focus();\n    }\n\n    var x = canvas_pos.x * this.ratio;\n    var y = canvas_pos.y * this.ratio;\n\n    this.send_message(name, {\n        x: x,\n        y: y,\n        button: event.button,\n        step: event.step,\n        guiEvent: simpleKeys(event),\n    });\n\n    /* This prevents the web browser from automatically changing to\n     * the text insertion cursor when the button is pressed.  We want\n     * to control all of the cursor setting manually through the\n     * 'cursor' event from matplotlib */\n    event.preventDefault();\n    return false;\n};\n\nmpl.figure.prototype._key_event_extra = function (_event, _name) {\n    // Handle any extra behaviour associated with a key event\n};\n\nmpl.figure.prototype.key_event = function (event, name) {\n    // Prevent repeat events\n    if (name === 'key_press') {\n        if (event.key === this._key) {\n            return;\n        } else {\n            this._key = event.key;\n        }\n    }\n    if (name === 'key_release') {\n        this._key = null;\n    }\n\n    var value = '';\n    if (event.ctrlKey && event.key !== 'Control') {\n        value += 'ctrl+';\n    }\n    else if (event.altKey && event.key !== 'Alt') {\n        value += 'alt+';\n    }\n    else if (event.shiftKey && event.key !== 'Shift') {\n        value += 'shift+';\n    }\n\n    value += 'k' + event.key;\n\n    this._key_event_extra(event, name);\n\n    this.send_message(name, { key: value, guiEvent: simpleKeys(event) });\n    return false;\n};\n\nmpl.figure.prototype.toolbar_button_onclick = function (name) {\n    if (name === 'download') {\n        this.handle_save(this, null);\n    } else {\n        this.send_message('toolbar_button', { name: name });\n    }\n};\n\nmpl.figure.prototype.toolbar_button_onmouseover = function (tooltip) {\n    this.message.textContent = tooltip;\n};\n\n///////////////// REMAINING CONTENT GENERATED BY embed_js.py /////////////////\n// prettier-ignore\nvar _JSXTOOLS_RESIZE_OBSERVER=function(A){var t,i=new WeakMap,n=new WeakMap,a=new WeakMap,r=new WeakMap,o=new Set;function s(e){if(!(this instanceof s))throw new TypeError(\"Constructor requires 'new' operator\");i.set(this,e)}function h(){throw new TypeError(\"Function is not a constructor\")}function c(e,t,i,n){e=0 in arguments?Number(arguments[0]):0,t=1 in arguments?Number(arguments[1]):0,i=2 in arguments?Number(arguments[2]):0,n=3 in arguments?Number(arguments[3]):0,this.right=(this.x=this.left=e)+(this.width=i),this.bottom=(this.y=this.top=t)+(this.height=n),Object.freeze(this)}function d(){t=requestAnimationFrame(d);var s=new WeakMap,p=new Set;o.forEach((function(t){r.get(t).forEach((function(i){var r=t instanceof window.SVGElement,o=a.get(t),d=r?0:parseFloat(o.paddingTop),f=r?0:parseFloat(o.paddingRight),l=r?0:parseFloat(o.paddingBottom),u=r?0:parseFloat(o.paddingLeft),g=r?0:parseFloat(o.borderTopWidth),m=r?0:parseFloat(o.borderRightWidth),w=r?0:parseFloat(o.borderBottomWidth),b=u+f,F=d+l,v=(r?0:parseFloat(o.borderLeftWidth))+m,W=g+w,y=r?0:t.offsetHeight-W-t.clientHeight,E=r?0:t.offsetWidth-v-t.clientWidth,R=b+v,z=F+W,M=r?t.width:parseFloat(o.width)-R-E,O=r?t.height:parseFloat(o.height)-z-y;if(n.has(t)){var k=n.get(t);if(k[0]===M&&k[1]===O)return}n.set(t,[M,O]);var S=Object.create(h.prototype);S.target=t,S.contentRect=new c(u,d,M,O),s.has(i)||(s.set(i,[]),p.add(i)),s.get(i).push(S)}))})),p.forEach((function(e){i.get(e).call(e,s.get(e),e)}))}return s.prototype.observe=function(i){if(i instanceof window.Element){r.has(i)||(r.set(i,new Set),o.add(i),a.set(i,window.getComputedStyle(i)));var n=r.get(i);n.has(this)||n.add(this),cancelAnimationFrame(t),t=requestAnimationFrame(d)}},s.prototype.unobserve=function(i){if(i instanceof window.Element&&r.has(i)){var n=r.get(i);n.has(this)&&(n.delete(this),n.size||(r.delete(i),o.delete(i))),n.size||r.delete(i),o.size||cancelAnimationFrame(t)}},A.DOMRectReadOnly=c,A.ResizeObserver=s,A.ResizeObserverEntry=h,A}; // eslint-disable-line\nmpl.toolbar_items = [[\"Home\", \"Reset original view\", \"fa fa-home icon-home\", \"home\"], [\"Back\", \"Back to previous view\", \"fa fa-arrow-left icon-arrow-left\", \"back\"], [\"Forward\", \"Forward to next view\", \"fa fa-arrow-right icon-arrow-right\", \"forward\"], [\"\", \"\", \"\", \"\"], [\"Pan\", \"Left button pans, Right button zooms\\nx/y fixes axis, CTRL fixes aspect\", \"fa fa-arrows icon-move\", \"pan\"], [\"Zoom\", \"Zoom to rectangle\\nx/y fixes axis\", \"fa fa-square-o icon-check-empty\", \"zoom\"], [\"\", \"\", \"\", \"\"], [\"Download\", \"Download plot\", \"fa fa-floppy-o icon-save\", \"download\"]];\n\nmpl.extensions = [\"eps\", \"jpeg\", \"pgf\", \"pdf\", \"png\", \"ps\", \"raw\", \"svg\", \"tif\"];\n\nmpl.default_extension = \"png\";/* global mpl */\n\nvar comm_websocket_adapter = function (comm) {\n    // Create a \"websocket\"-like object which calls the given IPython comm\n    // object with the appropriate methods. Currently this is a non binary\n    // socket, so there is still some room for performance tuning.\n    var ws = {};\n\n    ws.binaryType = comm.kernel.ws.binaryType;\n    ws.readyState = comm.kernel.ws.readyState;\n    function updateReadyState(_event) {\n        if (comm.kernel.ws) {\n            ws.readyState = comm.kernel.ws.readyState;\n        } else {\n            ws.readyState = 3; // Closed state.\n        }\n    }\n    comm.kernel.ws.addEventListener('open', updateReadyState);\n    comm.kernel.ws.addEventListener('close', updateReadyState);\n    comm.kernel.ws.addEventListener('error', updateReadyState);\n\n    ws.close = function () {\n        comm.close();\n    };\n    ws.send = function (m) {\n        //console.log('sending', m);\n        comm.send(m);\n    };\n    // Register the callback with on_msg.\n    comm.on_msg(function (msg) {\n        //console.log('receiving', msg['content']['data'], msg);\n        var data = msg['content']['data'];\n        if (data['blob'] !== undefined) {\n            data = {\n                data: new Blob(msg['buffers'], { type: data['blob'] }),\n            };\n        }\n        // Pass the mpl event to the overridden (by mpl) onmessage function.\n        ws.onmessage(data);\n    });\n    return ws;\n};\n\nmpl.mpl_figure_comm = function (comm, msg) {\n    // This is the function which gets called when the mpl process\n    // starts-up an IPython Comm through the \"matplotlib\" channel.\n\n    var id = msg.content.data.id;\n    // Get hold of the div created by the display call when the Comm\n    // socket was opened in Python.\n    var element = document.getElementById(id);\n    var ws_proxy = comm_websocket_adapter(comm);\n\n    function ondownload(figure, _format) {\n        window.open(figure.canvas.toDataURL());\n    }\n\n    var fig = new mpl.figure(id, ws_proxy, ondownload, element);\n\n    // Call onopen now - mpl needs it, as it is assuming we've passed it a real\n    // web socket which is closed, not our websocket->open comm proxy.\n    ws_proxy.onopen();\n\n    fig.parent_element = element;\n    fig.cell_info = mpl.find_output_cell(\"<div id='\" + id + \"'></div>\");\n    if (!fig.cell_info) {\n        console.error('Failed to find cell for figure', id, fig);\n        return;\n    }\n    fig.cell_info[0].output_area.element.on(\n        'cleared',\n        { fig: fig },\n        fig._remove_fig_handler\n    );\n};\n\nmpl.figure.prototype.handle_close = function (fig, msg) {\n    var width = fig.canvas.width / fig.ratio;\n    fig.cell_info[0].output_area.element.off(\n        'cleared',\n        fig._remove_fig_handler\n    );\n    fig.resizeObserverInstance.unobserve(fig.canvas_div);\n\n    // Update the output cell to use the data from the current canvas.\n    fig.push_to_output();\n    var dataURL = fig.canvas.toDataURL();\n    // Re-enable the keyboard manager in IPython - without this line, in FF,\n    // the notebook keyboard shortcuts fail.\n    IPython.keyboard_manager.enable();\n    fig.parent_element.innerHTML =\n        '<img src=\"' + dataURL + '\" width=\"' + width + '\">';\n    fig.close_ws(fig, msg);\n};\n\nmpl.figure.prototype.close_ws = function (fig, msg) {\n    fig.send_message('closing', msg);\n    // fig.ws.close()\n};\n\nmpl.figure.prototype.push_to_output = function (_remove_interactive) {\n    // Turn the data on the canvas into data in the output cell.\n    var width = this.canvas.width / this.ratio;\n    var dataURL = this.canvas.toDataURL();\n    this.cell_info[1]['text/html'] =\n        '<img src=\"' + dataURL + '\" width=\"' + width + '\">';\n};\n\nmpl.figure.prototype.updated_canvas_event = function () {\n    // Tell IPython that the notebook contents must change.\n    IPython.notebook.set_dirty(true);\n    this.send_message('ack', {});\n    var fig = this;\n    // Wait a second, then push the new image to the DOM so\n    // that it is saved nicely (might be nice to debounce this).\n    setTimeout(function () {\n        fig.push_to_output();\n    }, 1000);\n};\n\nmpl.figure.prototype._init_toolbar = function () {\n    var fig = this;\n\n    var toolbar = document.createElement('div');\n    toolbar.classList = 'btn-toolbar';\n    this.root.appendChild(toolbar);\n\n    function on_click_closure(name) {\n        return function (_event) {\n            return fig.toolbar_button_onclick(name);\n        };\n    }\n\n    function on_mouseover_closure(tooltip) {\n        return function (event) {\n            if (!event.currentTarget.disabled) {\n                return fig.toolbar_button_onmouseover(tooltip);\n            }\n        };\n    }\n\n    fig.buttons = {};\n    var buttonGroup = document.createElement('div');\n    buttonGroup.classList = 'btn-group';\n    var button;\n    for (var toolbar_ind in mpl.toolbar_items) {\n        var name = mpl.toolbar_items[toolbar_ind][0];\n        var tooltip = mpl.toolbar_items[toolbar_ind][1];\n        var image = mpl.toolbar_items[toolbar_ind][2];\n        var method_name = mpl.toolbar_items[toolbar_ind][3];\n\n        if (!name) {\n            /* Instead of a spacer, we start a new button group. */\n            if (buttonGroup.hasChildNodes()) {\n                toolbar.appendChild(buttonGroup);\n            }\n            buttonGroup = document.createElement('div');\n            buttonGroup.classList = 'btn-group';\n            continue;\n        }\n\n        button = fig.buttons[name] = document.createElement('button');\n        button.classList = 'btn btn-default';\n        button.href = '#';\n        button.title = name;\n        button.innerHTML = '<i class=\"fa ' + image + ' fa-lg\"></i>';\n        button.addEventListener('click', on_click_closure(method_name));\n        button.addEventListener('mouseover', on_mouseover_closure(tooltip));\n        buttonGroup.appendChild(button);\n    }\n\n    if (buttonGroup.hasChildNodes()) {\n        toolbar.appendChild(buttonGroup);\n    }\n\n    // Add the status bar.\n    var status_bar = document.createElement('span');\n    status_bar.classList = 'mpl-message pull-right';\n    toolbar.appendChild(status_bar);\n    this.message = status_bar;\n\n    // Add the close button to the window.\n    var buttongrp = document.createElement('div');\n    buttongrp.classList = 'btn-group inline pull-right';\n    button = document.createElement('button');\n    button.classList = 'btn btn-mini btn-primary';\n    button.href = '#';\n    button.title = 'Stop Interaction';\n    button.innerHTML = '<i class=\"fa fa-power-off icon-remove icon-large\"></i>';\n    button.addEventListener('click', function (_evt) {\n        fig.handle_close(fig, {});\n    });\n    button.addEventListener(\n        'mouseover',\n        on_mouseover_closure('Stop Interaction')\n    );\n    buttongrp.appendChild(button);\n    var titlebar = this.root.querySelector('.ui-dialog-titlebar');\n    titlebar.insertBefore(buttongrp, titlebar.firstChild);\n};\n\nmpl.figure.prototype._remove_fig_handler = function (event) {\n    var fig = event.data.fig;\n    if (event.target !== this) {\n        // Ignore bubbled events from children.\n        return;\n    }\n    fig.close_ws(fig, {});\n};\n\nmpl.figure.prototype._root_extra_style = function (el) {\n    el.style.boxSizing = 'content-box'; // override notebook setting of border-box.\n};\n\nmpl.figure.prototype._canvas_extra_style = function (el) {\n    // this is important to make the div 'focusable\n    el.setAttribute('tabindex', 0);\n    // reach out to IPython and tell the keyboard manager to turn it's self\n    // off when our div gets focus\n\n    // location in version 3\n    if (IPython.notebook.keyboard_manager) {\n        IPython.notebook.keyboard_manager.register_events(el);\n    } else {\n        // location in version 2\n        IPython.keyboard_manager.register_events(el);\n    }\n};\n\nmpl.figure.prototype._key_event_extra = function (event, _name) {\n    // Check for shift+enter\n    if (event.shiftKey && event.which === 13) {\n        this.canvas_div.blur();\n        // select the cell after this one\n        var index = IPython.notebook.find_cell_index(this.cell_info[0]);\n        IPython.notebook.select(index + 1);\n    }\n};\n\nmpl.figure.prototype.handle_save = function (fig, _msg) {\n    fig.ondownload(fig, null);\n};\n\nmpl.find_output_cell = function (html_output) {\n    // Return the cell and output element which can be found *uniquely* in the notebook.\n    // Note - this is a bit hacky, but it is done because the \"notebook_saving.Notebook\"\n    // IPython event is triggered only after the cells have been serialised, which for\n    // our purposes (turning an active figure into a static one), is too late.\n    var cells = IPython.notebook.get_cells();\n    var ncells = cells.length;\n    for (var i = 0; i < ncells; i++) {\n        var cell = cells[i];\n        if (cell.cell_type === 'code') {\n            for (var j = 0; j < cell.output_area.outputs.length; j++) {\n                var data = cell.output_area.outputs[j];\n                if (data.data) {\n                    // IPython >= 3 moved mimebundle to data attribute of output\n                    data = data.data;\n                }\n                if (data['text/html'] === html_output) {\n                    return [cell, data, j];\n                }\n            }\n        }\n    }\n};\n\n// Register the function which deals with the matplotlib target/channel.\n// The kernel may be null if the page has been refreshed.\nif (IPython.notebook.kernel !== null) {\n    IPython.notebook.kernel.comm_manager.register_target(\n        'matplotlib',\n        mpl.mpl_figure_comm\n    );\n}\n",
      "text/plain": [
       "<IPython.core.display.Javascript object>"
      ]
     },
     "metadata": {},
     "output_type": "display_data"
    },
    {
     "data": {
      "text/html": [
       "<img src=\"data:image/png;base64,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\" width=\"700\">"
      ],
      "text/plain": [
       "<IPython.core.display.HTML object>"
      ]
     },
     "metadata": {},
     "output_type": "display_data"
    }
   ],
   "source": [
    "results(ylabels_test_target, rfc, X_test, true_labels)"
   ]
  },
  {
   "cell_type": "markdown",
   "id": "20574548",
   "metadata": {},
   "source": [
    "# cnn"
   ]
  },
  {
   "cell_type": "code",
   "execution_count": 36,
   "id": "d70f14d7",
   "metadata": {},
   "outputs": [
    {
     "data": {
      "text/html": [
       "<div>\n",
       "<style scoped>\n",
       "    .dataframe tbody tr th:only-of-type {\n",
       "        vertical-align: middle;\n",
       "    }\n",
       "\n",
       "    .dataframe tbody tr th {\n",
       "        vertical-align: top;\n",
       "    }\n",
       "\n",
       "    .dataframe thead th {\n",
       "        text-align: right;\n",
       "    }\n",
       "</style>\n",
       "<table border=\"1\" class=\"dataframe\">\n",
       "  <thead>\n",
       "    <tr style=\"text-align: right;\">\n",
       "      <th></th>\n",
       "      <th>id</th>\n",
       "      <th>title</th>\n",
       "      <th>content</th>\n",
       "      <th>category</th>\n",
       "      <th>url</th>\n",
       "      <th>text</th>\n",
       "    </tr>\n",
       "  </thead>\n",
       "  <tbody>\n",
       "    <tr>\n",
       "      <th>0</th>\n",
       "      <td>14804921</td>\n",
       "      <td>Gobierno peruano presenta recurso para suspender juicio político al Presidente Vizcarra</td>\n",
       "      <td>Gobierno peruano presenta recurso para suspender juicio político al Presidente Vizcarra. El  Gobierno peruano  presentó el lunes una demanda para que el Tribunal Constitucional defina si el Congre...</td>\n",
       "      <td>1-Mundo</td>\n",
       "      <td>NaN</td>\n",
       "      <td>NaN</td>\n",
       "    </tr>\n",
       "    <tr>\n",
       "      <th>1</th>\n",
       "      <td>614295</td>\n",
       "      <td>Estados Unidos supera una vez más el récord de casos nuevos diarios de covid-19</td>\n",
       "      <td>Estados Unidos supera una vez más el récord de casos nuevos diarios de covid-19. Estados Unidos registró el jueves más de 210.000 casos nuevos de coronavirus en un día, la cifra más alta desde el ...</td>\n",
       "      <td>1-Mundo</td>\n",
       "      <td>NaN</td>\n",
       "      <td>NaN</td>\n",
       "    </tr>\n",
       "    <tr>\n",
       "      <th>2</th>\n",
       "      <td>14802746</td>\n",
       "      <td>Perú reanudará en octubre vuelos con Chile y otros cinco países tras presentar mejora en el coronavirus</td>\n",
       "      <td>Perú reanudará en octubre vuelos con Chile y otros cinco países tras presentar mejora en el coronavirus. Perú reanudará los vuelos internacionales con seis países a partir del 5 de octubre, los qu...</td>\n",
       "      <td>1-Mundo</td>\n",
       "      <td>NaN</td>\n",
       "      <td>NaN</td>\n",
       "    </tr>\n",
       "    <tr>\n",
       "      <th>3</th>\n",
       "      <td>5688988</td>\n",
       "      <td>Exprimer ministro italiano Berlusconi hospitalizado por problemas cardíacos</td>\n",
       "      <td>Exprimer ministro italiano Berlusconi hospitalizado por problemas cardíacos. El exprimer ministro italiano Silvio Berlusconi fue ingresado en un hospital de Mónaco tras sufrir problemas cardíacos,...</td>\n",
       "      <td>1-Mundo</td>\n",
       "      <td>NaN</td>\n",
       "      <td>NaN</td>\n",
       "    </tr>\n",
       "    <tr>\n",
       "      <th>4</th>\n",
       "      <td>617306</td>\n",
       "      <td>\"Embarazoso\": Biden arremete contra Trump por no reconocer derrota en recientes elecciones</td>\n",
       "      <td>\"Embarazoso\": Biden arremete contra Trump por no reconocer derrota en recientes elecciones. El presidente electo de Estados Unidos, Joe Biden, dijo el martes que la negativa del mandatario Donald ...</td>\n",
       "      <td>1-Mundo</td>\n",
       "      <td>NaN</td>\n",
       "      <td>NaN</td>\n",
       "    </tr>\n",
       "    <tr>\n",
       "      <th>...</th>\n",
       "      <td>...</td>\n",
       "      <td>...</td>\n",
       "      <td>...</td>\n",
       "      <td>...</td>\n",
       "      <td>...</td>\n",
       "      <td>...</td>\n",
       "    </tr>\n",
       "    <tr>\n",
       "      <th>11325</th>\n",
       "      <td>164422</td>\n",
       "      <td>Mario Rozas descarta renunciar a Carabineros: \"Tengo un mandato presidencial que cumplir\"</td>\n",
       "      <td>Mario Rozas descarta renunciar a Carabineros: \"Tengo un mandato presidencial que cumplir\". Durante la tarde de este lunes, el general director de Carabineros, Mario Rozas; y el ministro del Interi...</td>\n",
       "      <td>9-Crimen_delitos_y_Justicia</td>\n",
       "      <td>NaN</td>\n",
       "      <td>NaN</td>\n",
       "    </tr>\n",
       "    <tr>\n",
       "      <th>11326</th>\n",
       "      <td>6506549</td>\n",
       "      <td>Amenazas a fiscal Chong: el efecto dominó que hizo que Goldberg saliera de la cárcel tras un mes en Santiago 1</td>\n",
       "      <td>Amenazas a fiscal Chong: el efecto dominó que hizo que Goldberg saliera de la cárcel tras un mes en Santiago 1. El fiscal Francisco Jacir había insistido en varias oportunidades en dejar en prisió...</td>\n",
       "      <td>9-Crimen_delitos_y_Justicia</td>\n",
       "      <td>NaN</td>\n",
       "      <td>NaN</td>\n",
       "    </tr>\n",
       "    <tr>\n",
       "      <th>11327</th>\n",
       "      <td>13441708</td>\n",
       "      <td>El crimen de dos personas en situación de calle cuyo responsable fue condenado a 20 años de cárcel</td>\n",
       "      <td>El crimen de dos personas en situación de calle cuyo responsable fue condenado a 20 años de cárcel. Fue la madrugada del sábado 3 de marzo, cuando un  hombre atacó con arma blanca a dos personas, ...</td>\n",
       "      <td>9-Crimen_delitos_y_Justicia</td>\n",
       "      <td>NaN</td>\n",
       "      <td>NaN</td>\n",
       "    </tr>\n",
       "    <tr>\n",
       "      <th>11328</th>\n",
       "      <td>192157</td>\n",
       "      <td>No entienden: PDI detiene a 8 personas bebiendo alcohol en botillería de Tomé</td>\n",
       "      <td>No entienden: PDI detiene a 8 personas bebiendo alcohol en botillería de Tomé. Las edades fluctúan entre los 35 y 77 años. Hay quienes siguen sin entender el peligro que representa la covid-19 tan...</td>\n",
       "      <td>9-Crimen_delitos_y_Justicia</td>\n",
       "      <td>NaN</td>\n",
       "      <td>NaN</td>\n",
       "    </tr>\n",
       "    <tr>\n",
       "      <th>11329</th>\n",
       "      <td>11718</td>\n",
       "      <td>Contraloría detecta faltas en fiscalizaciones de SISS: no ofició a Essal tras 5 inspecciones en 2018</td>\n",
       "      <td>Contraloría detecta faltas en fiscalizaciones de SISS: no ofició a Essal tras 5 inspecciones en 2018. La Contraloría develó una serie de faltas administrativas en las acciones fiscalizadoras que c...</td>\n",
       "      <td>9-Crimen_delitos_y_Justicia</td>\n",
       "      <td>NaN</td>\n",
       "      <td>NaN</td>\n",
       "    </tr>\n",
       "  </tbody>\n",
       "</table>\n",
       "<p>11330 rows × 6 columns</p>\n",
       "</div>"
      ],
      "text/plain": [
       "             id  \\\n",
       "0      14804921   \n",
       "1        614295   \n",
       "2      14802746   \n",
       "3       5688988   \n",
       "4        617306   \n",
       "...         ...   \n",
       "11325    164422   \n",
       "11326   6506549   \n",
       "11327  13441708   \n",
       "11328    192157   \n",
       "11329     11718   \n",
       "\n",
       "                                                                                                                title  \\\n",
       "0                             Gobierno peruano presenta recurso para suspender juicio político al Presidente Vizcarra   \n",
       "1                                     Estados Unidos supera una vez más el récord de casos nuevos diarios de covid-19   \n",
       "2             Perú reanudará en octubre vuelos con Chile y otros cinco países tras presentar mejora en el coronavirus   \n",
       "3                                         Exprimer ministro italiano Berlusconi hospitalizado por problemas cardíacos   \n",
       "4                          \"Embarazoso\": Biden arremete contra Trump por no reconocer derrota en recientes elecciones   \n",
       "...                                                                                                               ...   \n",
       "11325                       Mario Rozas descarta renunciar a Carabineros: \"Tengo un mandato presidencial que cumplir\"   \n",
       "11326  Amenazas a fiscal Chong: el efecto dominó que hizo que Goldberg saliera de la cárcel tras un mes en Santiago 1   \n",
       "11327              El crimen de dos personas en situación de calle cuyo responsable fue condenado a 20 años de cárcel   \n",
       "11328                                   No entienden: PDI detiene a 8 personas bebiendo alcohol en botillería de Tomé   \n",
       "11329            Contraloría detecta faltas en fiscalizaciones de SISS: no ofició a Essal tras 5 inspecciones en 2018   \n",
       "\n",
       "                                                                                                                                                                                                       content  \\\n",
       "0      Gobierno peruano presenta recurso para suspender juicio político al Presidente Vizcarra. El  Gobierno peruano  presentó el lunes una demanda para que el Tribunal Constitucional defina si el Congre...   \n",
       "1      Estados Unidos supera una vez más el récord de casos nuevos diarios de covid-19. Estados Unidos registró el jueves más de 210.000 casos nuevos de coronavirus en un día, la cifra más alta desde el ...   \n",
       "2      Perú reanudará en octubre vuelos con Chile y otros cinco países tras presentar mejora en el coronavirus. Perú reanudará los vuelos internacionales con seis países a partir del 5 de octubre, los qu...   \n",
       "3      Exprimer ministro italiano Berlusconi hospitalizado por problemas cardíacos. El exprimer ministro italiano Silvio Berlusconi fue ingresado en un hospital de Mónaco tras sufrir problemas cardíacos,...   \n",
       "4      \"Embarazoso\": Biden arremete contra Trump por no reconocer derrota en recientes elecciones. El presidente electo de Estados Unidos, Joe Biden, dijo el martes que la negativa del mandatario Donald ...   \n",
       "...                                                                                                                                                                                                        ...   \n",
       "11325  Mario Rozas descarta renunciar a Carabineros: \"Tengo un mandato presidencial que cumplir\". Durante la tarde de este lunes, el general director de Carabineros, Mario Rozas; y el ministro del Interi...   \n",
       "11326  Amenazas a fiscal Chong: el efecto dominó que hizo que Goldberg saliera de la cárcel tras un mes en Santiago 1. El fiscal Francisco Jacir había insistido en varias oportunidades en dejar en prisió...   \n",
       "11327  El crimen de dos personas en situación de calle cuyo responsable fue condenado a 20 años de cárcel. Fue la madrugada del sábado 3 de marzo, cuando un  hombre atacó con arma blanca a dos personas, ...   \n",
       "11328  No entienden: PDI detiene a 8 personas bebiendo alcohol en botillería de Tomé. Las edades fluctúan entre los 35 y 77 años. Hay quienes siguen sin entender el peligro que representa la covid-19 tan...   \n",
       "11329  Contraloría detecta faltas en fiscalizaciones de SISS: no ofició a Essal tras 5 inspecciones en 2018. La Contraloría develó una serie de faltas administrativas en las acciones fiscalizadoras que c...   \n",
       "\n",
       "                          category  url text  \n",
       "0                          1-Mundo  NaN  NaN  \n",
       "1                          1-Mundo  NaN  NaN  \n",
       "2                          1-Mundo  NaN  NaN  \n",
       "3                          1-Mundo  NaN  NaN  \n",
       "4                          1-Mundo  NaN  NaN  \n",
       "...                            ...  ...  ...  \n",
       "11325  9-Crimen_delitos_y_Justicia  NaN  NaN  \n",
       "11326  9-Crimen_delitos_y_Justicia  NaN  NaN  \n",
       "11327  9-Crimen_delitos_y_Justicia  NaN  NaN  \n",
       "11328  9-Crimen_delitos_y_Justicia  NaN  NaN  \n",
       "11329  9-Crimen_delitos_y_Justicia  NaN  NaN  \n",
       "\n",
       "[11330 rows x 6 columns]"
      ]
     },
     "execution_count": 36,
     "metadata": {},
     "output_type": "execute_result"
    }
   ],
   "source": [
    "new_df"
   ]
  },
  {
   "cell_type": "code",
   "execution_count": 37,
   "id": "2edc4240",
   "metadata": {},
   "outputs": [],
   "source": [
    "from sklearn.utils import shuffle\n",
    "new_df = shuffle(new_df)"
   ]
  },
  {
   "cell_type": "code",
   "execution_count": 38,
   "id": "0fdd4472",
   "metadata": {},
   "outputs": [],
   "source": [
    "import numpy as np\n",
    "from sklearn.model_selection import StratifiedShuffleSplit\n",
    "\n",
    "split = StratifiedShuffleSplit(n_splits=1, test_size=0.45, random_state=42)\n",
    "for train_index, test_valid_index in split.split(new_df, new_df.category):\n",
    "    train = new_df.iloc[train_index]\n",
    "    test_valid_set = new_df.iloc[test_valid_index]\n",
    "\n",
    "split2 = StratifiedShuffleSplit(n_splits=1, test_size=0.75, random_state=42)\n",
    "for test_index, valid_index in split2.split(test_valid_set, test_valid_set.category):\n",
    "    test = test_valid_set.iloc[test_index]\n",
    "    valid = test_valid_set.iloc[valid_index]\n",
    "\n",
    "\n",
    "\n",
    "#valid, test, train = np.split(new_df, [ int(.15*len(new_df)), int(.3*len(new_df))] )"
   ]
  },
  {
   "cell_type": "code",
   "execution_count": 39,
   "id": "d3d151c3",
   "metadata": {},
   "outputs": [
    {
     "name": "stdout",
     "output_type": "stream",
     "text": [
      "(11330, 6)\n",
      "(6231, 6)\n",
      "(3825, 6)\n",
      "(1274, 6)\n"
     ]
    }
   ],
   "source": [
    "print(new_df.shape)\n",
    "print(train.shape)\n",
    "print(valid.shape)\n",
    "print(test.shape)"
   ]
  },
  {
   "cell_type": "code",
   "execution_count": 40,
   "id": "f14a999d",
   "metadata": {},
   "outputs": [
    {
     "data": {
      "text/plain": [
       "category\n",
       "1-Mundo                        623\n",
       "10-Salud                       623\n",
       "2-Economía                     623\n",
       "3-Política_y_Conflictos        623\n",
       "4-Ciencias_y_Tecnología        623\n",
       "5-Catástrofes_y_Accidentes     623\n",
       "6-Cultura_y_Artes              623\n",
       "7-Deporte                      623\n",
       "8-Ecología_y_Planeta           624\n",
       "9-Crimen_delitos_y_Justicia    623\n",
       "dtype: int64"
      ]
     },
     "metadata": {},
     "output_type": "display_data"
    },
    {
     "data": {
      "text/plain": [
       "category\n",
       "1-Mundo                        382\n",
       "10-Salud                       382\n",
       "2-Economía                     383\n",
       "3-Política_y_Conflictos        383\n",
       "4-Ciencias_y_Tecnología        383\n",
       "5-Catástrofes_y_Accidentes     382\n",
       "6-Cultura_y_Artes              383\n",
       "7-Deporte                      382\n",
       "8-Ecología_y_Planeta           382\n",
       "9-Crimen_delitos_y_Justicia    383\n",
       "dtype: int64"
      ]
     },
     "metadata": {},
     "output_type": "display_data"
    },
    {
     "data": {
      "text/plain": [
       "category\n",
       "1-Mundo                        128\n",
       "10-Salud                       128\n",
       "2-Economía                     127\n",
       "3-Política_y_Conflictos        127\n",
       "4-Ciencias_y_Tecnología        127\n",
       "5-Catástrofes_y_Accidentes     128\n",
       "6-Cultura_y_Artes              127\n",
       "7-Deporte                      128\n",
       "8-Ecología_y_Planeta           127\n",
       "9-Crimen_delitos_y_Justicia    127\n",
       "dtype: int64"
      ]
     },
     "metadata": {},
     "output_type": "display_data"
    }
   ],
   "source": [
    "display(train.groupby(['category']).size())\n",
    "display(valid.groupby(['category']).size())\n",
    "display(test.groupby(['category']).size())"
   ]
  },
  {
   "cell_type": "code",
   "execution_count": 41,
   "id": "a162657f",
   "metadata": {},
   "outputs": [
    {
     "data": {
      "text/plain": [
       "array(['5-Catástrofes_y_Accidentes', '6-Cultura_y_Artes',\n",
       "       '4-Ciencias_y_Tecnología', '7-Deporte', '3-Política_y_Conflictos',\n",
       "       '10-Salud', '9-Crimen_delitos_y_Justicia', '8-Ecología_y_Planeta',\n",
       "       '2-Economía', '1-Mundo'], dtype=object)"
      ]
     },
     "execution_count": 41,
     "metadata": {},
     "output_type": "execute_result"
    }
   ],
   "source": [
    "test.category.unique()"
   ]
  },
  {
   "cell_type": "code",
   "execution_count": 42,
   "id": "03710320",
   "metadata": {},
   "outputs": [],
   "source": [
    "train.to_csv(\"CNN_train.csv\", encoding=\"UTF-8\",index=False)\n",
    "valid.to_csv(\"CNN_valid.csv\", encoding=\"UTF-8\",index=False)\n",
    "test.to_csv(\"CNN_test.csv\", encoding=\"UTF-8\",index=False)"
   ]
  },
  {
   "cell_type": "code",
   "execution_count": 43,
   "id": "6c9d4190",
   "metadata": {},
   "outputs": [],
   "source": [
    "import torch\n",
    "import spacy\n",
    "import random\n",
    "import torchtext\n",
    "from torchtext import data\n",
    "from torchtext import datasets\n",
    "from torchtext.legacy import data"
   ]
  },
  {
   "cell_type": "code",
   "execution_count": 44,
   "id": "eaedbc1c",
   "metadata": {},
   "outputs": [],
   "source": [
    "spacy_es = spacy.load('es_core_news_sm')"
   ]
  },
  {
   "cell_type": "code",
   "execution_count": 45,
   "id": "9694e609",
   "metadata": {},
   "outputs": [],
   "source": [
    "def tokenize_es(sentence):\n",
    "    return [tok.text for tok in spacy_es.tokenizer(sentence)]"
   ]
  },
  {
   "cell_type": "code",
   "execution_count": 46,
   "id": "ee584597",
   "metadata": {},
   "outputs": [],
   "source": [
    "TEXT = data.Field(tokenize=tokenize_es, batch_first = True)\n",
    "CATEGORY = data.LabelField()  # MULTICLASS -se borró el argumento \"(dtype = torch.float)\""
   ]
  },
  {
   "cell_type": "code",
   "execution_count": 47,
   "id": "e6c99d59",
   "metadata": {},
   "outputs": [
    {
     "data": {
      "text/plain": [
       "<torchtext.legacy.data.field.LabelField at 0x7f93bf56a730>"
      ]
     },
     "execution_count": 47,
     "metadata": {},
     "output_type": "execute_result"
    }
   ],
   "source": [
    "CATEGORY"
   ]
  },
  {
   "cell_type": "code",
   "execution_count": 48,
   "id": "dab1fb95",
   "metadata": {},
   "outputs": [],
   "source": [
    "fields = [(None, None),(None, None),('content', TEXT),('category', CATEGORY)]"
   ]
  },
  {
   "cell_type": "code",
   "execution_count": 49,
   "id": "feb2054e",
   "metadata": {},
   "outputs": [],
   "source": [
    "import numpy as np\n",
    "\n",
    "SEED = 1234\n",
    "\n",
    "random.seed(SEED)\n",
    "np.random.seed(SEED)\n",
    "torch.manual_seed(SEED)\n",
    "torch.backends.cudnn.deterministic = True\n",
    "\n",
    "train_data, valid_data, test_data = data.TabularDataset.splits(\n",
    "                                        path = '.',\n",
    "                                        train = 'CNN_train.csv',\n",
    "                                        validation= 'CNN_valid.csv',\n",
    "                                        test = 'CNN_test.csv',\n",
    "                                        format = 'csv',\n",
    "                                        fields = fields,\n",
    "                                        skip_header = True\n",
    ")\n"
   ]
  },
  {
   "cell_type": "code",
   "execution_count": 50,
   "id": "6af4519c",
   "metadata": {},
   "outputs": [
    {
     "name": "stdout",
     "output_type": "stream",
     "text": [
      "cpu\n"
     ]
    }
   ],
   "source": [
    "BATCH_SIZE = 32\n",
    "device = torch.device('cpu')\n",
    "#device = torch.device('cuda' if torch.cuda.is_available() else 'cpu')\n",
    "print(device)\n",
    "\n",
    "train_iterator, valid_iterator, test_iterator = data.BucketIterator.splits(\n",
    "                                                    (train_data, valid_data, test_data), \n",
    "                                                    batch_size = BATCH_SIZE, \n",
    "                                                    device = device,\n",
    "                                                    sort_key=lambda x:len(x.category),\n",
    "                                                    sort_within_batch=False)"
   ]
  },
  {
   "cell_type": "code",
   "execution_count": 51,
   "id": "5483a566",
   "metadata": {},
   "outputs": [],
   "source": [
    "#!wget http://dcc.uchile.cl/~jperez/word-embeddings/glove-sbwc.i25.vec.gz"
   ]
  },
  {
   "cell_type": "code",
   "execution_count": 52,
   "id": "cd588094",
   "metadata": {},
   "outputs": [],
   "source": [
    "MAX_VOCAB_SIZE = 50000\n",
    "\n",
    "## TENER VECTORES EN ESPAÑOL\n",
    "vec = torchtext.vocab.Vectors('glove-sbwc.i25.vec.gz', cache='.')\n",
    "TEXT.build_vocab(train_data,\n",
    "                 vectors=vec,\n",
    "                 max_size=MAX_VOCAB_SIZE,\n",
    "                 unk_init=torch.Tensor.normal_)\n"
   ]
  },
  {
   "cell_type": "code",
   "execution_count": 53,
   "id": "3e831ca2",
   "metadata": {},
   "outputs": [],
   "source": [
    "CATEGORY.build_vocab(train_data)"
   ]
  },
  {
   "cell_type": "code",
   "execution_count": 54,
   "id": "03d3831a",
   "metadata": {},
   "outputs": [
    {
     "data": {
      "text/plain": [
       "{0: '8-Ecología_y_Planeta',\n",
       " 1: '1-Mundo',\n",
       " 2: '10-Salud',\n",
       " 3: '2-Economía',\n",
       " 4: '3-Política_y_Conflictos',\n",
       " 5: '4-Ciencias_y_Tecnología',\n",
       " 6: '5-Catástrofes_y_Accidentes',\n",
       " 7: '6-Cultura_y_Artes',\n",
       " 8: '7-Deporte',\n",
       " 9: '9-Crimen_delitos_y_Justicia'}"
      ]
     },
     "execution_count": 54,
     "metadata": {},
     "output_type": "execute_result"
    }
   ],
   "source": [
    "cat_map = { v: k for k, v in CATEGORY.vocab.stoi.items()}\n",
    "cat_map"
   ]
  },
  {
   "cell_type": "code",
   "execution_count": 55,
   "id": "56cd5b83",
   "metadata": {},
   "outputs": [
    {
     "name": "stdout",
     "output_type": "stream",
     "text": [
      "defaultdict(None, {'8-Ecología_y_Planeta': 0, '1-Mundo': 1, '10-Salud': 2, '2-Economía': 3, '3-Política_y_Conflictos': 4, '4-Ciencias_y_Tecnología': 5, '5-Catástrofes_y_Accidentes': 6, '6-Cultura_y_Artes': 7, '7-Deporte': 8, '9-Crimen_delitos_y_Justicia': 9})\n"
     ]
    }
   ],
   "source": [
    "print(CATEGORY.vocab.stoi)"
   ]
  },
  {
   "cell_type": "code",
   "execution_count": 56,
   "id": "7414cd46",
   "metadata": {},
   "outputs": [],
   "source": [
    "import torch.nn as nn\n",
    "import torch.nn.functional as F\n",
    "\n",
    "class CNN(nn.Module):\n",
    "    def __init__(self, vocab_size, embedding_dim, n_filters, filter_sizes, output_dim, \n",
    "                 dropout, pad_idx):\n",
    "        \n",
    "        super().__init__()\n",
    "        self.embedding = nn.Embedding(vocab_size, embedding_dim)\n",
    "        self.convs = nn.ModuleList([\n",
    "                                    nn.Conv1d(in_channels = 1, \n",
    "                                              out_channels = n_filters, \n",
    "                                              kernel_size = (fs, embedding_dim)) \n",
    "                                    for fs in filter_sizes\n",
    "                                    ])\n",
    "        \n",
    "        self.fc = nn.Linear(len(filter_sizes) * n_filters, output_dim)\n",
    "        self.dropout = nn.Dropout(dropout)\n",
    "        \n",
    "    def forward(self, text):\n",
    "        \n",
    "        #text = [sent len, batch size]\n",
    "        \n",
    "        #text = text.permute(1, 0)\n",
    "                \n",
    "        #text = [batch size, sent len]\n",
    "        \n",
    "        embedded = self.embedding(text)\n",
    "                \n",
    "        #embedded = [batch size, sent len, emb dim]\n",
    "        \n",
    "        embedded = embedded.unsqueeze(1)\n",
    "        \n",
    "        #embedded = [batch size, 1, sent len, emb dim]\n",
    "        \n",
    "        conved = [F.relu(conv(embedded)).squeeze(3) for conv in self.convs]\n",
    "            \n",
    "        #conv_n = [batch size, n_filters, sent len - filter_sizes[n]]\n",
    "        \n",
    "        pooled = [F.max_pool1d(conv, conv.shape[2]).squeeze(2) for conv in conved]\n",
    "        \n",
    "        #pooled_n = [batch size, n_filters]\n",
    "        \n",
    "        cat = self.dropout(torch.cat(pooled, dim = 1))\n",
    "\n",
    "        #cat = [batch size, n_filters * len(filter_sizes)]\n",
    "        \n",
    "        return self.fc(cat)"
   ]
  },
  {
   "cell_type": "code",
   "execution_count": 57,
   "id": "90137317",
   "metadata": {},
   "outputs": [],
   "source": [
    "INPUT_DIM = len(TEXT.vocab)\n",
    "EMBEDDING_DIM = 300\n",
    "N_FILTERS = 100\n",
    "FILTER_SIZES = [2,3,4]\n",
    "OUTPUT_DIM = len(CATEGORY.vocab) ##### MULTICLASS ---> la dimensión del output no es 1 (clasificación binaria)\n",
    "DROPOUT = 0.5\n",
    "PAD_IDX = TEXT.vocab.stoi[TEXT.pad_token]\n",
    "\n",
    "model = CNN(INPUT_DIM, EMBEDDING_DIM, N_FILTERS, FILTER_SIZES, OUTPUT_DIM, DROPOUT, PAD_IDX)\n",
    "model = model.to(device)"
   ]
  },
  {
   "cell_type": "code",
   "execution_count": 58,
   "id": "cbe779ab",
   "metadata": {},
   "outputs": [
    {
     "data": {
      "text/plain": [
       "10"
      ]
     },
     "execution_count": 58,
     "metadata": {},
     "output_type": "execute_result"
    }
   ],
   "source": [
    "OUTPUT_DIM"
   ]
  },
  {
   "cell_type": "code",
   "execution_count": 59,
   "id": "a9350e58",
   "metadata": {},
   "outputs": [
    {
     "name": "stdout",
     "output_type": "stream",
     "text": [
      "The model has 15,273,910 trainable parameters\n"
     ]
    }
   ],
   "source": [
    "def count_parameters(model):\n",
    "    return sum(p.numel() for p in model.parameters() if p.requires_grad)\n",
    "\n",
    "print(f'The model has {count_parameters(model):,} trainable parameters')"
   ]
  },
  {
   "cell_type": "code",
   "execution_count": 60,
   "id": "ca53842f",
   "metadata": {},
   "outputs": [],
   "source": [
    "pretrained_embeddings = TEXT.vocab.vectors\n",
    "UNK_IDX = TEXT.vocab.stoi[TEXT.unk_token]\n",
    "\n",
    "model.embedding.weight.data.copy_(pretrained_embeddings)\n",
    "model.embedding.weight.data[UNK_IDX] = torch.zeros(EMBEDDING_DIM)\n",
    "model.embedding.weight.data[PAD_IDX] = torch.zeros(EMBEDDING_DIM)"
   ]
  },
  {
   "cell_type": "code",
   "execution_count": 61,
   "id": "a0de2bc6",
   "metadata": {},
   "outputs": [],
   "source": [
    "import torch.optim as optim\n",
    "\n",
    "optimizer = optim.Adam(model.parameters())\n",
    "\n",
    "criterion = nn.CrossEntropyLoss() #MULTICLASS ---> en lugar de .BCEWithLogitsLoss() (Binary Cross Entropy)\n",
    "\n",
    "\n",
    "criterion = criterion.to(device)"
   ]
  },
  {
   "cell_type": "code",
   "execution_count": 62,
   "id": "9d72a0e1",
   "metadata": {},
   "outputs": [],
   "source": [
    "from tqdm import tqdm\n",
    "def train(model, iterator, optimizer, criterion, divisor):\n",
    "    \n",
    "    epoch_loss = 0\n",
    "    epoch_acc = 0\n",
    "    \n",
    "    model.train()\n",
    "    \n",
    "    for batch in tqdm(iterator, desc='train'):\n",
    "        \n",
    "        optimizer.zero_grad()\n",
    "        \n",
    "        #print(\"Tamaño texto de entrada:\"+str(batch.body.shape))\n",
    "        \n",
    "        predictions = model(batch.content)\n",
    "        \n",
    "        #print(\"Tamaño predecciones de salida:\"+str(predictions.shape)) \n",
    "        \n",
    "        #print(\"Tamaño target:\"+str(batch.category.shape)) \n",
    "        \n",
    "        loss = criterion(predictions, batch.category)\n",
    "        \n",
    "        acc = categorical_accuracy(predictions, batch.category, divisor)\n",
    "        \n",
    "        loss.backward()\n",
    "        \n",
    "        optimizer.step()\n",
    "        \n",
    "        epoch_loss += loss.item()\n",
    "        epoch_acc += acc.item()\n",
    "        \n",
    "    return epoch_loss / len(iterator), epoch_acc / len(iterator)"
   ]
  },
  {
   "cell_type": "code",
   "execution_count": 63,
   "id": "47e19de6",
   "metadata": {},
   "outputs": [],
   "source": [
    "import time\n",
    "\n",
    "def epoch_time(start_time, end_time):\n",
    "    elapsed_time = end_time - start_time\n",
    "    elapsed_mins = int(elapsed_time / 60)\n",
    "    elapsed_secs = int(elapsed_time - (elapsed_mins * 60))\n",
    "    return elapsed_mins, elapsed_secs"
   ]
  },
  {
   "cell_type": "code",
   "execution_count": 64,
   "id": "2381ff58",
   "metadata": {},
   "outputs": [],
   "source": [
    "def categorical_accuracy(preds, y, divisor):\n",
    "    \"\"\"\n",
    "    Returns accuracy per batch, i.e. if you get 8/10 right, this returns 0.8, NOT 8\n",
    "    \"\"\"\n",
    "    max_preds = preds.argmax(dim = 1, keepdim = True) # get the index of the max probability\n",
    "    correct = max_preds.squeeze(1).eq(y)\n",
    "    return correct.sum() / divisor([y.shape[0]])"
   ]
  },
  {
   "cell_type": "code",
   "execution_count": 65,
   "id": "e41b871f",
   "metadata": {},
   "outputs": [],
   "source": [
    "def evaluate(model, iterator, criterion, divisor):\n",
    "    \n",
    "    epoch_loss = 0\n",
    "    epoch_acc = 0\n",
    "    \n",
    "    model.eval()\n",
    "    \n",
    "    with torch.no_grad():\n",
    "    \n",
    "        for batch in tqdm(iterator, desc='eval'):\n",
    "\n",
    "            predictions = model(batch.content)\n",
    "            \n",
    "            loss = criterion(predictions, batch.category)\n",
    "            \n",
    "            acc = categorical_accuracy(predictions, batch.category, divisor)\n",
    "\n",
    "            epoch_loss += loss.item()\n",
    "            epoch_acc += acc.item()\n",
    "        \n",
    "    return epoch_loss / len(iterator), epoch_acc / len(iterator)\n",
    "\n"
   ]
  },
  {
   "cell_type": "code",
   "execution_count": 66,
   "id": "e3b9f24a",
   "metadata": {},
   "outputs": [
    {
     "name": "stdout",
     "output_type": "stream",
     "text": [
      "inicio optimización\n"
     ]
    },
    {
     "name": "stderr",
     "output_type": "stream",
     "text": [
      "train:   4%|█▍                                  | 8/195 [00:49<19:26,  6.24s/it]\n"
     ]
    },
    {
     "ename": "KeyboardInterrupt",
     "evalue": "",
     "output_type": "error",
     "traceback": [
      "\u001b[0;31m---------------------------------------------------------------------------\u001b[0m",
      "\u001b[0;31mKeyboardInterrupt\u001b[0m                         Traceback (most recent call last)",
      "\u001b[0;32m/tmp/ipykernel_8471/4076560883.py\u001b[0m in \u001b[0;36m<module>\u001b[0;34m\u001b[0m\n\u001b[1;32m     13\u001b[0m     \u001b[0mstart_time\u001b[0m \u001b[0;34m=\u001b[0m \u001b[0mtime\u001b[0m\u001b[0;34m.\u001b[0m\u001b[0mtime\u001b[0m\u001b[0;34m(\u001b[0m\u001b[0;34m)\u001b[0m\u001b[0;34m\u001b[0m\u001b[0;34m\u001b[0m\u001b[0m\n\u001b[1;32m     14\u001b[0m     \u001b[0mdivisor\u001b[0m \u001b[0;34m=\u001b[0m \u001b[0mtorch\u001b[0m\u001b[0;34m.\u001b[0m\u001b[0mFloatTensor\u001b[0m \u001b[0;32mif\u001b[0m \u001b[0mstr\u001b[0m\u001b[0;34m(\u001b[0m\u001b[0mdevice\u001b[0m\u001b[0;34m)\u001b[0m \u001b[0;34m==\u001b[0m \u001b[0;34m'cpu'\u001b[0m \u001b[0;32melse\u001b[0m \u001b[0mtorch\u001b[0m\u001b[0;34m.\u001b[0m\u001b[0mcuda\u001b[0m\u001b[0;34m.\u001b[0m\u001b[0mFloatTensor\u001b[0m\u001b[0;34m\u001b[0m\u001b[0;34m\u001b[0m\u001b[0m\n\u001b[0;32m---> 15\u001b[0;31m     \u001b[0mtrain_loss\u001b[0m\u001b[0;34m,\u001b[0m \u001b[0mtrain_acc\u001b[0m \u001b[0;34m=\u001b[0m \u001b[0mtrain\u001b[0m\u001b[0;34m(\u001b[0m\u001b[0mmodel\u001b[0m\u001b[0;34m,\u001b[0m \u001b[0mtrain_iterator\u001b[0m\u001b[0;34m,\u001b[0m \u001b[0moptimizer\u001b[0m\u001b[0;34m,\u001b[0m \u001b[0mcriterion\u001b[0m\u001b[0;34m,\u001b[0m \u001b[0mdivisor\u001b[0m\u001b[0;34m)\u001b[0m\u001b[0;34m\u001b[0m\u001b[0;34m\u001b[0m\u001b[0m\n\u001b[0m\u001b[1;32m     16\u001b[0m     \u001b[0mvalid_loss\u001b[0m\u001b[0;34m,\u001b[0m \u001b[0mvalid_acc\u001b[0m \u001b[0;34m=\u001b[0m \u001b[0mevaluate\u001b[0m\u001b[0;34m(\u001b[0m\u001b[0mmodel\u001b[0m\u001b[0;34m,\u001b[0m \u001b[0mvalid_iterator\u001b[0m\u001b[0;34m,\u001b[0m \u001b[0mcriterion\u001b[0m\u001b[0;34m,\u001b[0m \u001b[0mdivisor\u001b[0m\u001b[0;34m)\u001b[0m\u001b[0;34m\u001b[0m\u001b[0;34m\u001b[0m\u001b[0m\n\u001b[1;32m     17\u001b[0m \u001b[0;34m\u001b[0m\u001b[0m\n",
      "\u001b[0;32m/tmp/ipykernel_8471/374841995.py\u001b[0m in \u001b[0;36mtrain\u001b[0;34m(model, iterator, optimizer, criterion, divisor)\u001b[0m\n\u001b[1;32m     23\u001b[0m         \u001b[0macc\u001b[0m \u001b[0;34m=\u001b[0m \u001b[0mcategorical_accuracy\u001b[0m\u001b[0;34m(\u001b[0m\u001b[0mpredictions\u001b[0m\u001b[0;34m,\u001b[0m \u001b[0mbatch\u001b[0m\u001b[0;34m.\u001b[0m\u001b[0mcategory\u001b[0m\u001b[0;34m,\u001b[0m \u001b[0mdivisor\u001b[0m\u001b[0;34m)\u001b[0m\u001b[0;34m\u001b[0m\u001b[0;34m\u001b[0m\u001b[0m\n\u001b[1;32m     24\u001b[0m \u001b[0;34m\u001b[0m\u001b[0m\n\u001b[0;32m---> 25\u001b[0;31m         \u001b[0mloss\u001b[0m\u001b[0;34m.\u001b[0m\u001b[0mbackward\u001b[0m\u001b[0;34m(\u001b[0m\u001b[0;34m)\u001b[0m\u001b[0;34m\u001b[0m\u001b[0;34m\u001b[0m\u001b[0m\n\u001b[0m\u001b[1;32m     26\u001b[0m \u001b[0;34m\u001b[0m\u001b[0m\n\u001b[1;32m     27\u001b[0m         \u001b[0moptimizer\u001b[0m\u001b[0;34m.\u001b[0m\u001b[0mstep\u001b[0m\u001b[0;34m(\u001b[0m\u001b[0;34m)\u001b[0m\u001b[0;34m\u001b[0m\u001b[0;34m\u001b[0m\u001b[0m\n",
      "\u001b[0;32m~/miniconda3/envs/tal/lib/python3.9/site-packages/torch/_tensor.py\u001b[0m in \u001b[0;36mbackward\u001b[0;34m(self, gradient, retain_graph, create_graph, inputs)\u001b[0m\n\u001b[1;32m    305\u001b[0m                 \u001b[0mcreate_graph\u001b[0m\u001b[0;34m=\u001b[0m\u001b[0mcreate_graph\u001b[0m\u001b[0;34m,\u001b[0m\u001b[0;34m\u001b[0m\u001b[0;34m\u001b[0m\u001b[0m\n\u001b[1;32m    306\u001b[0m                 inputs=inputs)\n\u001b[0;32m--> 307\u001b[0;31m         \u001b[0mtorch\u001b[0m\u001b[0;34m.\u001b[0m\u001b[0mautograd\u001b[0m\u001b[0;34m.\u001b[0m\u001b[0mbackward\u001b[0m\u001b[0;34m(\u001b[0m\u001b[0mself\u001b[0m\u001b[0;34m,\u001b[0m \u001b[0mgradient\u001b[0m\u001b[0;34m,\u001b[0m \u001b[0mretain_graph\u001b[0m\u001b[0;34m,\u001b[0m \u001b[0mcreate_graph\u001b[0m\u001b[0;34m,\u001b[0m \u001b[0minputs\u001b[0m\u001b[0;34m=\u001b[0m\u001b[0minputs\u001b[0m\u001b[0;34m)\u001b[0m\u001b[0;34m\u001b[0m\u001b[0;34m\u001b[0m\u001b[0m\n\u001b[0m\u001b[1;32m    308\u001b[0m \u001b[0;34m\u001b[0m\u001b[0m\n\u001b[1;32m    309\u001b[0m     \u001b[0;32mdef\u001b[0m \u001b[0mregister_hook\u001b[0m\u001b[0;34m(\u001b[0m\u001b[0mself\u001b[0m\u001b[0;34m,\u001b[0m \u001b[0mhook\u001b[0m\u001b[0;34m)\u001b[0m\u001b[0;34m:\u001b[0m\u001b[0;34m\u001b[0m\u001b[0;34m\u001b[0m\u001b[0m\n",
      "\u001b[0;32m~/miniconda3/envs/tal/lib/python3.9/site-packages/torch/autograd/__init__.py\u001b[0m in \u001b[0;36mbackward\u001b[0;34m(tensors, grad_tensors, retain_graph, create_graph, grad_variables, inputs)\u001b[0m\n\u001b[1;32m    152\u001b[0m         \u001b[0mretain_graph\u001b[0m \u001b[0;34m=\u001b[0m \u001b[0mcreate_graph\u001b[0m\u001b[0;34m\u001b[0m\u001b[0;34m\u001b[0m\u001b[0m\n\u001b[1;32m    153\u001b[0m \u001b[0;34m\u001b[0m\u001b[0m\n\u001b[0;32m--> 154\u001b[0;31m     Variable._execution_engine.run_backward(\n\u001b[0m\u001b[1;32m    155\u001b[0m         \u001b[0mtensors\u001b[0m\u001b[0;34m,\u001b[0m \u001b[0mgrad_tensors_\u001b[0m\u001b[0;34m,\u001b[0m \u001b[0mretain_graph\u001b[0m\u001b[0;34m,\u001b[0m \u001b[0mcreate_graph\u001b[0m\u001b[0;34m,\u001b[0m \u001b[0minputs\u001b[0m\u001b[0;34m,\u001b[0m\u001b[0;34m\u001b[0m\u001b[0;34m\u001b[0m\u001b[0m\n\u001b[1;32m    156\u001b[0m         allow_unreachable=True, accumulate_grad=True)  # allow_unreachable flag\n",
      "\u001b[0;31mKeyboardInterrupt\u001b[0m: "
     ]
    }
   ],
   "source": [
    "from datetime import datetime\n",
    "from os import remove\n",
    "print(\"inicio optimización\")\n",
    "\n",
    "N_EPOCHS = 5 #5\n",
    "\n",
    "best_valid_loss = float('inf')\n",
    "m_info = f'len={MAX_LEN}&balance={FORCE_BALANCE}'\n",
    "last_best = None\n",
    "OVERWRITE_MODEL_FILE = True\n",
    "for epoch in range(N_EPOCHS):\n",
    "\n",
    "    start_time = time.time()\n",
    "    divisor = torch.FloatTensor if str(device) == 'cpu' else torch.cuda.FloatTensor\n",
    "    train_loss, train_acc = train(model, train_iterator, optimizer, criterion, divisor)\n",
    "    valid_loss, valid_acc = evaluate(model, valid_iterator, criterion, divisor)\n",
    "    \n",
    "    end_time = time.time()\n",
    "\n",
    "    epoch_mins, epoch_secs = epoch_time(start_time, end_time)\n",
    "    \n",
    "\n",
    "    if valid_loss < best_valid_loss:\n",
    "        best_valid_loss = valid_loss\n",
    "        dt = str(datetime.now()).replace(' ', '_')\n",
    "        name = f'./CNN_ep{str(epoch+1)}_{m_info}_{dt}.pt'\n",
    "        torch.save({'epoca': epoch,\n",
    "                    'model_state_dict': model.state_dict(),\n",
    "                    'optimizer_state_dict': optimizer.state_dict(),\n",
    "                    'Valid_loss': best_valid_loss}, name)\n",
    "        if OVERWRITE_MODEL_FILE and last_best is not None:\n",
    "            remove(last_best)\n",
    "            last_best = name\n",
    "    \n",
    "    print(f'Epoch: {epoch+1:02} | Epoch Time: {epoch_mins}m {epoch_secs}s')\n",
    "    print(f'\\tTrain Loss: {train_loss:.3f} | Train Acc: {train_acc*100:.2f}%')\n",
    "    print(f'\\t Val. Loss: {valid_loss:.3f} |  Val. Acc: {valid_acc*100:.2f}%')\n"
   ]
  },
  {
   "cell_type": "code",
   "execution_count": null,
   "id": "a3082552",
   "metadata": {},
   "outputs": [],
   "source": [
    "name"
   ]
  },
  {
   "cell_type": "code",
   "execution_count": null,
   "id": "63a67076",
   "metadata": {},
   "outputs": [],
   "source": [
    "best_model = CNN(INPUT_DIM, EMBEDDING_DIM, N_FILTERS, FILTER_SIZES, OUTPUT_DIM, DROPOUT, PAD_IDX)"
   ]
  },
  {
   "cell_type": "code",
   "execution_count": null,
   "id": "467e4f87",
   "metadata": {},
   "outputs": [],
   "source": [
    "pretrained_embeddings = TEXT.vocab.vectors\n",
    "UNK_IDX = TEXT.vocab.stoi[TEXT.unk_token]\n",
    "\n",
    "best_model.embedding.weight.data.copy_(pretrained_embeddings)\n",
    "best_model.embedding.weight.data[UNK_IDX] = torch.zeros(EMBEDDING_DIM)\n",
    "best_model.embedding.weight.data[PAD_IDX] = torch.zeros(EMBEDDING_DIM)"
   ]
  },
  {
   "cell_type": "code",
   "execution_count": null,
   "id": "3b29f9dd",
   "metadata": {},
   "outputs": [],
   "source": [
    "m_name = name"
   ]
  },
  {
   "cell_type": "code",
   "execution_count": null,
   "id": "c2555ca8",
   "metadata": {},
   "outputs": [],
   "source": [
    "best_model.load_state_dict(torch.load(m_name, map_location=torch.device('cpu'))['model_state_dict'])"
   ]
  },
  {
   "cell_type": "code",
   "execution_count": null,
   "id": "abc25c8f",
   "metadata": {},
   "outputs": [],
   "source": [
    "test_loss, test_acc = evaluate(model, test_iterator, criterion, divisor)\n",
    "\n",
    "print(f'Test Loss: {test_loss:.3f} | Test Acc: {test_acc*100:.2f}%')"
   ]
  },
  {
   "cell_type": "code",
   "execution_count": null,
   "id": "9c45be3b",
   "metadata": {},
   "outputs": [],
   "source": [
    "best_model.eval()\n",
    "prediction_test = []\n",
    "labels_test=[]\n",
    "for batch in test_iterator:\n",
    "    labels_test.append(batch.category.cpu().detach().numpy())\n",
    "    predictions = best_model(batch.content.cpu()).squeeze(1)\n",
    "    prediction_test.append(predictions.argmax(dim=1).detach().numpy())\n",
    "    #print(torch.sigmoid(predictions))\n",
    "    #rounded_preds = torch.round(torch.sigmoid(predictions))\n",
    "    #prediction_test.append(rounded_preds.detach().numpy())\n",
    "    #print(prediction_test)\n",
    "    \n",
    "y_true = np.concatenate(labels_test)\n",
    "y_pred = np.concatenate(prediction_test)"
   ]
  },
  {
   "cell_type": "code",
   "execution_count": null,
   "id": "e652958f",
   "metadata": {},
   "outputs": [],
   "source": [
    "lbs = list(cat_map.values())\n",
    "lbs"
   ]
  },
  {
   "cell_type": "code",
   "execution_count": null,
   "id": "5862ecd3",
   "metadata": {},
   "outputs": [],
   "source": [
    "from sklearn.metrics import confusion_matrix, classification_report\n",
    "import matplotlib.pyplot as plt\n",
    "print(classification_report(y_true,\n",
    "                            y_pred,\n",
    "                            target_names=lbs,))"
   ]
  },
  {
   "cell_type": "code",
   "execution_count": null,
   "id": "3e7e4345",
   "metadata": {},
   "outputs": [],
   "source": [
    "def plot_confusion_matrix(cm, labels, cmap=plt.cm.Blues):\n",
    "    fig, ax = plt.subplots(figsize=(7, 7), tight_layout=True)\n",
    "    ax.imshow(cm, interpolation='nearest', cmap=cmap)\n",
    "    for i in range(cm.shape[1]):\n",
    "        for j in range(cm.shape[0]):\n",
    "            ax.text(j, i, \"{:,}\".format(cm[i, j]), \n",
    "                    horizontalalignment=\"center\", verticalalignment=\"center\",\n",
    "                    color=\"white\" if cm[i, j] > np.amax(cm)/2 else \"black\")\n",
    "    ax.set_title(\"Matriz de confusión\")\n",
    "    tick_marks = np.arange(len(labels))\n",
    "    plt.yticks(tick_marks, labels)\n",
    "    plt.xticks(tick_marks, labels, rotation=90)\n",
    "    plt.ylabel('Etiqueta real')\n",
    "    plt.xlabel('Predicción')\n",
    "\n",
    "cm = confusion_matrix(y_true=y_true, y_pred=y_pred)"
   ]
  },
  {
   "cell_type": "code",
   "execution_count": null,
   "id": "475692df",
   "metadata": {},
   "outputs": [],
   "source": [
    "plot_confusion_matrix(cm, labels=lbs)"
   ]
  },
  {
   "cell_type": "code",
   "execution_count": null,
   "id": "2c4c0aff",
   "metadata": {},
   "outputs": [],
   "source": [
    "# best_mode.eval()\n",
    "#best_model.train(mode=False)"
   ]
  },
  {
   "cell_type": "code",
   "execution_count": null,
   "id": "be9357bf",
   "metadata": {},
   "outputs": [],
   "source": [
    "def predict_class(model, sentence, min_len = 4):\n",
    "\n",
    "    tokenized = [tok.text for tok in spacy_es.tokenizer(sentence)]\n",
    "    \n",
    "    if len(tokenized) < min_len:\n",
    "        tokenized += ['<pad>'] * (min_len - len(tokenized))\n",
    "    device = 'cpu'\n",
    "    indexed = [TEXT.vocab.stoi[t] for t in tokenized]\n",
    "    \n",
    "    tensor = torch.LongTensor(indexed).to(device)\n",
    "    tensor = tensor.unsqueeze(0)\n",
    "    preds = model(tensor)\n",
    "    print(preds)\n",
    "    max_preds = preds.argmax(dim = 1)\n",
    "    return max_preds.item()"
   ]
  },
  {
   "cell_type": "code",
   "execution_count": null,
   "id": "2dee00fa",
   "metadata": {},
   "outputs": [],
   "source": [
    "noticia = \"\"\"Sin embargo, estos experimentos se llevaban a cabo en secreto, y cuando otras secciones de Guardian se dieron cuenta, el proyecto se canceló de inmediato.\"\"\"\n",
    "cat_map.get(predict_class(best_model, noticia))"
   ]
  },
  {
   "cell_type": "code",
   "execution_count": null,
   "id": "9c8c801e",
   "metadata": {},
   "outputs": [],
   "source": [
    "cat_map.get(predict_class(best_model, \"golazo del bicho vs villareal\"))"
   ]
  }
 ],
 "metadata": {
  "kernelspec": {
   "display_name": "Python 3 (ipykernel)",
   "language": "python",
   "name": "python3"
  },
  "language_info": {
   "codemirror_mode": {
    "name": "ipython",
    "version": 3
   },
   "file_extension": ".py",
   "mimetype": "text/x-python",
   "name": "python",
   "nbconvert_exporter": "python",
   "pygments_lexer": "ipython3",
   "version": "3.9.7"
  },
  "toc": {
   "base_numbering": 1,
   "nav_menu": {},
   "number_sections": true,
   "sideBar": true,
   "skip_h1_title": false,
   "title_cell": "Table of Contents",
   "title_sidebar": "Contents",
   "toc_cell": false,
   "toc_position": {},
   "toc_section_display": true,
   "toc_window_display": false
  }
 },
 "nbformat": 4,
 "nbformat_minor": 5
}
